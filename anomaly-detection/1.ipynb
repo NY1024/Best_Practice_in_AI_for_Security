{
 "cells": [
  {
   "cell_type": "code",
   "execution_count": 1,
   "metadata": {
    "_cell_guid": "b1076dfc-b9ad-4769-8c92-a6c4dae69d19",
    "_uuid": "8f2839f25d086af736a60e9eeb907d3b93b6e0e5",
    "execution": {
     "iopub.execute_input": "2021-12-02T02:05:36.024080Z",
     "iopub.status.busy": "2021-12-02T02:05:36.023007Z",
     "iopub.status.idle": "2021-12-02T02:05:36.045541Z",
     "shell.execute_reply": "2021-12-02T02:05:36.046051Z",
     "shell.execute_reply.started": "2021-11-25T13:51:36.164468Z"
    },
    "papermill": {
     "duration": 0.041349,
     "end_time": "2021-12-02T02:05:36.046330",
     "exception": false,
     "start_time": "2021-12-02T02:05:36.004981",
     "status": "completed"
    },
    "tags": []
   },
   "outputs": [],
   "source": [
    "import numpy as np \n",
    "import pandas as pd "
   ]
  },
  {
   "cell_type": "code",
   "execution_count": 2,
   "metadata": {
    "execution": {
     "iopub.execute_input": "2021-12-02T02:05:56.175910Z",
     "iopub.status.busy": "2021-12-02T02:05:56.175001Z",
     "iopub.status.idle": "2021-12-02T02:05:58.909987Z",
     "shell.execute_reply": "2021-12-02T02:05:58.909463Z",
     "shell.execute_reply.started": "2021-12-02T02:01:57.485090Z"
    },
    "papermill": {
     "duration": 2.75901,
     "end_time": "2021-12-02T02:05:58.910134",
     "exception": false,
     "start_time": "2021-12-02T02:05:56.151124",
     "status": "completed"
    },
    "tags": []
   },
   "outputs": [],
   "source": [
    "import networkx as nx\n",
    "import json\n",
    "from collections import Counter\n",
    "import plotly\n",
    "import plotly.express as px\n",
    "import plotly.graph_objects as go\n",
    "from plotly.offline import plot\n",
    "from node2vec import Node2Vec\n",
    "from datasketch import MinHash\n",
    "import networkx as nx\n",
    "import numpy as np\n",
    "from sklearn.cluster import OPTICS"
   ]
  },
  {
   "cell_type": "code",
   "execution_count": 3,
   "metadata": {
    "execution": {
     "iopub.execute_input": "2021-12-02T02:05:58.985876Z",
     "iopub.status.busy": "2021-12-02T02:05:58.984867Z",
     "iopub.status.idle": "2021-12-02T02:05:59.003361Z",
     "shell.execute_reply": "2021-12-02T02:05:59.003886Z",
     "shell.execute_reply.started": "2021-12-02T01:52:50.255129Z"
    },
    "papermill": {
     "duration": 0.040273,
     "end_time": "2021-12-02T02:05:59.004072",
     "exception": false,
     "start_time": "2021-12-02T02:05:58.963799",
     "status": "completed"
    },
    "tags": []
   },
   "outputs": [],
   "source": [
    "class TMinHash:\n",
    "    def __init__(self, K, seed=1073):\n",
    "        self.M = MinHash(num_perm=K, seed=seed)\n",
    "\n",
    "    def fit(self, data):\n",
    "        for sh in data:\n",
    "            for p in sh.split(\"/\"):\n",
    "                self.M.update(p.encode('utf8'))\n",
    "\n",
    "        return self.M\n",
    "    \n",
    "def load_graphs(filename):\n",
    "    fid = open(filename, \"r\")\n",
    "    call_graphs = fid.readlines()\n",
    "    call_graphs_json = json.loads(call_graphs[0])\n",
    "    behavior_graphs = list()\n",
    "\n",
    "    for g in call_graphs_json:\n",
    "        one_graph = nx.Graph()\n",
    "        for node in g['call_graph']:\n",
    "            # source node\n",
    "            one_graph.add_node(node['toId'])  \n",
    "            # destination node\n",
    "            one_graph.add_node(node['fromId'])   \n",
    "            # edge\n",
    "            one_graph.add_edge(node['fromId'], node['toId'])\n",
    "        behavior_graphs.append(one_graph)\n",
    "    return behavior_graphs\n",
    "\n",
    "def graph_to_minhash_key(graph: nx.Graph, K=2):\n",
    "    edge_list = list(map(lambda x: x[0]+\"_\"+x[1], list(graph.edges)))\n",
    "    tm = TMinHash(seed=1073, K=K)\n",
    "    res = tm.fit(edge_list)\n",
    "    key = \"|\".join(list(map(lambda x: str(x), sorted(res.hashvalues))))\n",
    "    return key\n",
    "\n",
    "def merge_graphs(master_graph: nx.Graph, graph_list: list):\n",
    "    for g in graph_list:\n",
    "        master_graph.add_nodes_from(g.nodes)\n",
    "        master_graph.add_edges_from(g.edges)\n",
    "    return master_graph\n",
    "\n",
    "def semantically_related(api_id, api_id_name_dict, model, num_related=2):\n",
    "    api_name = api_id_name_dict[api_id]\n",
    "    related =  model.most_similar(api_id, topn=num_related)\n",
    "    related_apis = list(map(lambda x: (x[0], api_id_name_dict[x[0]], x[1]), related))\n",
    "    return (api_name, related_apis)\n",
    "\n",
    "def graph2vec_edge_arithmetic(graph: nx.Graph, n2vmodel):\n",
    "    \n",
    "    sum_vec = None\n",
    "    count = 0\n",
    "    \n",
    "    # for non trivial connected components\n",
    "    for e in list(graph.edges):\n",
    "        edgevec = np.multiply(n2vmodel.wv.get_vector(e[0]),n2vmodel.wv.get_vector(e[1]))\n",
    "        norm = np.linalg.norm(edgevec)\n",
    "        edgevec = edgevec if norm == 0 else edgevec/norm\n",
    "        sum_vec = edgevec if sum_vec is None else np.add(sum_vec, edgevec)\n",
    "        count += 1\n",
    "    # getting all nodes that have a zero degree. These nodes a part of the trivial connected components\n",
    "    node_degrees = list(map(lambda x: (x, graph.degree(x)), list(graph.nodes)))\n",
    "    node_zero_degrees = list(filter(lambda x: x[1] == 0 , node_degrees))\n",
    "    for (n, d) in node_zero_degrees:\n",
    "        nodevec = n2vmodel.wv.get_vector(n)\n",
    "        norm = np.linalg.norm(nodevec)\n",
    "        nodevec = nodevec if norm == 0 else nodevec/norm\n",
    "        sum_vec = nodevec if sum_vec is None else np.add(sum_vec, nodevec)\n",
    "        count += 1\n",
    "    try:\n",
    "        graph_vector = sum_vec/count\n",
    "        return graph_vector \n",
    "    except:\n",
    "        print(sum_vec, count, len(graph.nodes), len(graph.edges))\n",
    "        return None\n",
    "\n",
    "def graph2vec_node_arithmetic(graph: nx.Graph, n2vmodel):\n",
    "    \n",
    "    sum_vec = None\n",
    "    count = 0\n",
    "    \n",
    "    for n in list(graph.nodes):\n",
    "        nodevec = n2vmodel.wv.get_vector(n)\n",
    "        norm = np.linalg.norm(nodevec)\n",
    "        nodevec = nodevec if norm == 0 else nodevec/norm\n",
    "        sum_vec = nodevec if sum_vec is None else np.add(sum_vec, nodevec)\n",
    "        count += 1\n",
    "    try:\n",
    "        graph_vector = sum_vec/count\n",
    "        return graph_vector \n",
    "    except:\n",
    "        print(sum_vec, count, len(graph.nodes), len(graph.edges))\n",
    "        return None"
   ]
  },
  {
   "cell_type": "code",
   "execution_count": 4,
   "metadata": {
    "execution": {
     "iopub.execute_input": "2021-12-02T02:05:59.079072Z",
     "iopub.status.busy": "2021-12-02T02:05:59.078159Z",
     "iopub.status.idle": "2021-12-02T02:06:07.626630Z",
     "shell.execute_reply": "2021-12-02T02:06:07.625993Z",
     "shell.execute_reply.started": "2021-12-02T01:52:56.910005Z"
    },
    "papermill": {
     "duration": 8.569315,
     "end_time": "2021-12-02T02:06:07.626783",
     "exception": false,
     "start_time": "2021-12-02T02:05:59.057468",
     "status": "completed"
    },
    "tags": []
   },
   "outputs": [],
   "source": [
    "supervised_graphs = load_graphs('supervised_call_graphs.json')\n",
    "evaluation_graphs = load_graphs('remaining_call_graphs.json')"
   ]
  },
  {
   "cell_type": "code",
   "execution_count": 5,
   "metadata": {
    "execution": {
     "iopub.execute_input": "2021-12-02T02:06:07.667636Z",
     "iopub.status.busy": "2021-12-02T02:06:07.667040Z",
     "iopub.status.idle": "2021-12-02T02:06:07.670789Z",
     "shell.execute_reply": "2021-12-02T02:06:07.670300Z",
     "shell.execute_reply.started": "2021-12-02T01:53:14.497180Z"
    },
    "papermill": {
     "duration": 0.025516,
     "end_time": "2021-12-02T02:06:07.670915",
     "exception": false,
     "start_time": "2021-12-02T02:06:07.645399",
     "status": "completed"
    },
    "tags": []
   },
   "outputs": [
    {
     "name": "stdout",
     "output_type": "stream",
     "text": [
      "number of graphs in supervised datset:  1699\n",
      "number of graphs in evaluation datset:  34423\n"
     ]
    }
   ],
   "source": [
    "print('number of graphs in supervised datset: ', len(supervised_graphs))\n",
    "print('number of graphs in evaluation datset: ', len(evaluation_graphs))"
   ]
  },
  {
   "cell_type": "code",
   "execution_count": 6,
   "metadata": {
    "execution": {
     "iopub.execute_input": "2021-12-02T02:06:07.744792Z",
     "iopub.status.busy": "2021-12-02T02:06:07.744154Z",
     "iopub.status.idle": "2021-12-02T02:06:33.232219Z",
     "shell.execute_reply": "2021-12-02T02:06:33.232998Z",
     "shell.execute_reply.started": "2021-12-02T01:53:27.444649Z"
    },
    "papermill": {
     "duration": 25.509578,
     "end_time": "2021-12-02T02:06:33.233229",
     "exception": false,
     "start_time": "2021-12-02T02:06:07.723651",
     "status": "completed"
    },
    "tags": []
   },
   "outputs": [
    {
     "name": "stdout",
     "output_type": "stream",
     "text": [
      "supervised graphs\n",
      "Number of graphs:  1699 Number of distinct graphs : 570\n",
      "evaluation graphs\n",
      "Number of graphs:  34423 Number of distinct graphs : 9064\n"
     ]
    }
   ],
   "source": [
    "graph_keys = list(map(lambda g: graph_to_minhash_key(g, K=2), supervised_graphs))\n",
    "graph_hist = Counter(graph_keys)\n",
    "print(\"supervised graphs\")\n",
    "print(\"Number of graphs: \",sum(list(map(lambda x: x[1], list(graph_hist.items())))), \"Number of distinct graphs :\", len(graph_hist))\n",
    "\n",
    "graph_keys = list(map(lambda g: graph_to_minhash_key(g, K=2), evaluation_graphs))\n",
    "graph_hist = Counter(graph_keys)\n",
    "print(\"evaluation graphs\")\n",
    "print(\"Number of graphs: \",sum(list(map(lambda x: x[1], list(graph_hist.items())))), \"Number of distinct graphs :\", len(graph_hist))"
   ]
  },
  {
   "cell_type": "code",
   "execution_count": 7,
   "metadata": {
    "execution": {
     "iopub.execute_input": "2021-12-02T02:06:33.322740Z",
     "iopub.status.busy": "2021-12-02T02:06:33.311805Z",
     "iopub.status.idle": "2021-12-02T02:06:35.903489Z",
     "shell.execute_reply": "2021-12-02T02:06:35.903932Z",
     "shell.execute_reply.started": "2021-12-02T01:54:52.538078Z"
    },
    "papermill": {
     "duration": 2.613264,
     "end_time": "2021-12-02T02:06:35.904107",
     "exception": false,
     "start_time": "2021-12-02T02:06:33.290843",
     "status": "completed"
    },
    "tags": []
   },
   "outputs": [],
   "source": [
    "the_graph = nx.Graph()\n",
    "the_graph = merge_graphs(the_graph, supervised_graphs)\n",
    "the_graph = merge_graphs(the_graph, evaluation_graphs)"
   ]
  },
  {
   "cell_type": "code",
   "execution_count": 8,
   "metadata": {
    "execution": {
     "iopub.execute_input": "2021-12-02T02:06:35.944917Z",
     "iopub.status.busy": "2021-12-02T02:06:35.944313Z",
     "iopub.status.idle": "2021-12-02T02:07:40.365283Z",
     "shell.execute_reply": "2021-12-02T02:07:40.366420Z",
     "shell.execute_reply.started": "2021-12-02T01:55:07.510311Z"
    },
    "papermill": {
     "duration": 64.443903,
     "end_time": "2021-12-02T02:07:40.366628",
     "exception": false,
     "start_time": "2021-12-02T02:06:35.922725",
     "status": "completed"
    },
    "tags": []
   },
   "outputs": [
    {
     "data": {
      "application/vnd.jupyter.widget-view+json": {
       "model_id": "ddb7373225c6481e85d212f6df88f6ef",
       "version_major": 2,
       "version_minor": 0
      },
      "text/plain": [
       "Computing transition probabilities:   0%|          | 0/1640 [00:00<?, ?it/s]"
      ]
     },
     "metadata": {},
     "output_type": "display_data"
    }
   ],
   "source": [
    "node2vec = Node2Vec(the_graph, dimensions=20, walk_length=8, num_walks=100, workers=2)"
   ]
  },
  {
   "cell_type": "code",
   "execution_count": 9,
   "metadata": {
    "execution": {
     "iopub.execute_input": "2021-12-02T02:07:40.441080Z",
     "iopub.status.busy": "2021-12-02T02:07:40.440481Z",
     "iopub.status.idle": "2021-12-02T02:07:54.477458Z",
     "shell.execute_reply": "2021-12-02T02:07:54.476476Z",
     "shell.execute_reply.started": "2021-12-02T01:56:22.183224Z"
    },
    "papermill": {
     "duration": 14.074804,
     "end_time": "2021-12-02T02:07:54.477608",
     "exception": false,
     "start_time": "2021-12-02T02:07:40.402804",
     "status": "completed"
    },
    "tags": []
   },
   "outputs": [],
   "source": [
    "model = node2vec.fit(window=4, min_count=0)"
   ]
  },
  {
   "cell_type": "code",
   "execution_count": 10,
   "metadata": {
    "execution": {
     "iopub.execute_input": "2021-12-02T02:07:54.618636Z",
     "iopub.status.busy": "2021-12-02T02:07:54.618087Z",
     "iopub.status.idle": "2021-12-02T02:08:00.530665Z",
     "shell.execute_reply": "2021-12-02T02:08:00.531233Z",
     "shell.execute_reply.started": "2021-12-02T02:00:27.643700Z"
    },
    "papermill": {
     "duration": 5.95086,
     "end_time": "2021-12-02T02:08:00.531399",
     "exception": false,
     "start_time": "2021-12-02T02:07:54.580539",
     "status": "completed"
    },
    "tags": []
   },
   "outputs": [
    {
     "name": "stdout",
     "output_type": "stream",
     "text": [
      "None 0 0 0\n",
      "None 0 0 0\n",
      "None 0 0 0\n",
      "None 0 0 0\n",
      "None 0 0 0\n"
     ]
    }
   ],
   "source": [
    "\n",
    "supervised_graphs_idx = list(zip(range(0, len(supervised_graphs)), supervised_graphs))\n",
    "\n",
    "vector_list = list()\n",
    "for (idx, g) in supervised_graphs_idx:\n",
    "    graph_vector = graph2vec_edge_arithmetic(g, model)\n",
    "    vector_list.append(graph_vector)\n",
    "\n",
    "vector_list_edge_arithmetic = list(filter(lambda x: x is not None, vector_list))"
   ]
  },
  {
   "cell_type": "code",
   "execution_count": 11,
   "metadata": {
    "execution": {
     "iopub.execute_input": "2021-12-02T02:08:00.675084Z",
     "iopub.status.busy": "2021-12-02T02:08:00.674119Z",
     "iopub.status.idle": "2021-12-02T02:08:02.016184Z",
     "shell.execute_reply": "2021-12-02T02:08:02.017393Z",
     "shell.execute_reply.started": "2021-12-02T02:00:24.285599Z"
    },
    "papermill": {
     "duration": 1.381261,
     "end_time": "2021-12-02T02:08:02.017675",
     "exception": false,
     "start_time": "2021-12-02T02:08:00.636414",
     "status": "completed"
    },
    "tags": []
   },
   "outputs": [
    {
     "name": "stdout",
     "output_type": "stream",
     "text": [
      "None 0 0 0\n",
      "None 0 0 0\n",
      "None 0 0 0\n",
      "None 0 0 0\n",
      "None 0 0 0\n"
     ]
    }
   ],
   "source": [
    "\n",
    "supervised_graphs_idx = list(zip(range(0, len(supervised_graphs)), supervised_graphs))\n",
    "\n",
    "vector_list = list()\n",
    "for (idx, g) in supervised_graphs_idx:\n",
    "    graph_vector = graph2vec_node_arithmetic(g, model)\n",
    "    vector_list.append(graph_vector)\n",
    "\n",
    "vector_list_node_arithmetic = list(filter(lambda x: x is not None, vector_list))"
   ]
  },
  {
   "cell_type": "code",
   "execution_count": 12,
   "metadata": {
    "execution": {
     "iopub.execute_input": "2021-12-02T02:08:02.093237Z",
     "iopub.status.busy": "2021-12-02T02:08:02.092360Z",
     "iopub.status.idle": "2021-12-02T02:08:04.637512Z",
     "shell.execute_reply": "2021-12-02T02:08:04.637979Z",
     "shell.execute_reply.started": "2021-12-02T02:02:02.672227Z"
    },
    "papermill": {
     "duration": 2.583545,
     "end_time": "2021-12-02T02:08:04.638157",
     "exception": false,
     "start_time": "2021-12-02T02:08:02.054612",
     "status": "completed"
    },
    "tags": []
   },
   "outputs": [
    {
     "name": "stderr",
     "output_type": "stream",
     "text": [
      "/root/anaconda3/envs/exp1/lib/python3.6/site-packages/sklearn/cluster/_optics.py:807: RuntimeWarning:\n",
      "\n",
      "divide by zero encountered in true_divide\n",
      "\n",
      "/root/anaconda3/envs/exp1/lib/python3.6/site-packages/sklearn/cluster/_optics.py:807: RuntimeWarning:\n",
      "\n",
      "divide by zero encountered in true_divide\n",
      "\n"
     ]
    },
    {
     "data": {
      "text/plain": [
       "OPTICS()"
      ]
     },
     "execution_count": 12,
     "metadata": {},
     "output_type": "execute_result"
    }
   ],
   "source": [
    "\n",
    "opt_edge = OPTICS()\n",
    "opt_edge.fit(np.array(vector_list_edge_arithmetic))\n",
    "opt_node = OPTICS()\n",
    "opt_node.fit(np.array(vector_list_node_arithmetic))"
   ]
  },
  {
   "cell_type": "code",
   "execution_count": 13,
   "metadata": {
    "execution": {
     "iopub.execute_input": "2021-12-02T02:08:04.714853Z",
     "iopub.status.busy": "2021-12-02T02:08:04.714231Z",
     "iopub.status.idle": "2021-12-02T02:08:04.719860Z",
     "shell.execute_reply": "2021-12-02T02:08:04.719327Z",
     "shell.execute_reply.started": "2021-12-02T02:02:39.856349Z"
    },
    "papermill": {
     "duration": 0.045112,
     "end_time": "2021-12-02T02:08:04.719995",
     "exception": false,
     "start_time": "2021-12-02T02:08:04.674883",
     "status": "completed"
    },
    "tags": []
   },
   "outputs": [
    {
     "name": "stdout",
     "output_type": "stream",
     "text": [
      "outlier membership:  1246 number of clusters:  51\n"
     ]
    }
   ],
   "source": [
    "labels = list(opt_edge.labels_)\n",
    "cluster_density = Counter(labels)\n",
    "outlier_membership = cluster_density[-1]\n",
    "number_of_clusters = len(cluster_density)\n",
    "print(\"outlier membership: \", outlier_membership, \"number of clusters: \", number_of_clusters)"
   ]
  },
  {
   "cell_type": "code",
   "execution_count": 14,
   "metadata": {
    "execution": {
     "iopub.execute_input": "2021-12-02T02:08:04.798943Z",
     "iopub.status.busy": "2021-12-02T02:08:04.796113Z",
     "iopub.status.idle": "2021-12-02T02:08:04.803443Z",
     "shell.execute_reply": "2021-12-02T02:08:04.802751Z",
     "shell.execute_reply.started": "2021-12-02T02:02:56.672553Z"
    },
    "papermill": {
     "duration": 0.046673,
     "end_time": "2021-12-02T02:08:04.803634",
     "exception": false,
     "start_time": "2021-12-02T02:08:04.756961",
     "status": "completed"
    },
    "tags": []
   },
   "outputs": [
    {
     "name": "stdout",
     "output_type": "stream",
     "text": [
      "outlier membership:  1241 number of clusters:  60\n"
     ]
    }
   ],
   "source": [
    "labels = list(opt_node.labels_)\n",
    "cluster_density = Counter(labels)\n",
    "outlier_membership = cluster_density[-1]\n",
    "number_of_clusters = len(cluster_density)\n",
    "print(\"outlier membership: \", outlier_membership, \"number of clusters: \", number_of_clusters)"
   ]
  }
 ],
 "metadata": {
  "kernelspec": {
   "display_name": "exp1",
   "language": "python",
   "name": "exp1"
  },
  "language_info": {
   "codemirror_mode": {
    "name": "ipython",
    "version": 3
   },
   "file_extension": ".py",
   "mimetype": "text/x-python",
   "name": "python",
   "nbconvert_exporter": "python",
   "pygments_lexer": "ipython3",
   "version": "3.6.13"
  },
  "papermill": {
   "default_parameters": {},
   "duration": 158.748858,
   "end_time": "2021-12-02T02:08:06.930077",
   "environment_variables": {},
   "exception": null,
   "input_path": "__notebook__.ipynb",
   "output_path": "__notebook__.ipynb",
   "parameters": {},
   "start_time": "2021-12-02T02:05:28.181219",
   "version": "2.3.3"
  },
  "widgets": {
   "application/vnd.jupyter.widget-state+json": {
    "state": {
     "04d5b7f25a394b99a17b28819e545893": {
      "model_module": "@jupyter-widgets/base",
      "model_module_version": "1.2.0",
      "model_name": "LayoutModel",
      "state": {
       "_model_module": "@jupyter-widgets/base",
       "_model_module_version": "1.2.0",
       "_model_name": "LayoutModel",
       "_view_count": null,
       "_view_module": "@jupyter-widgets/base",
       "_view_module_version": "1.2.0",
       "_view_name": "LayoutView",
       "align_content": null,
       "align_items": null,
       "align_self": null,
       "border": null,
       "bottom": null,
       "display": null,
       "flex": null,
       "flex_flow": null,
       "grid_area": null,
       "grid_auto_columns": null,
       "grid_auto_flow": null,
       "grid_auto_rows": null,
       "grid_column": null,
       "grid_gap": null,
       "grid_row": null,
       "grid_template_areas": null,
       "grid_template_columns": null,
       "grid_template_rows": null,
       "height": null,
       "justify_content": null,
       "justify_items": null,
       "left": null,
       "margin": null,
       "max_height": null,
       "max_width": null,
       "min_height": null,
       "min_width": null,
       "object_fit": null,
       "object_position": null,
       "order": null,
       "overflow": null,
       "overflow_x": null,
       "overflow_y": null,
       "padding": null,
       "right": null,
       "top": null,
       "visibility": null,
       "width": null
      }
     },
     "1ffbd313f5c04a67a0b7218b4adc08da": {
      "model_module": "@jupyter-widgets/base",
      "model_module_version": "1.2.0",
      "model_name": "LayoutModel",
      "state": {
       "_model_module": "@jupyter-widgets/base",
       "_model_module_version": "1.2.0",
       "_model_name": "LayoutModel",
       "_view_count": null,
       "_view_module": "@jupyter-widgets/base",
       "_view_module_version": "1.2.0",
       "_view_name": "LayoutView",
       "align_content": null,
       "align_items": null,
       "align_self": null,
       "border": null,
       "bottom": null,
       "display": null,
       "flex": null,
       "flex_flow": null,
       "grid_area": null,
       "grid_auto_columns": null,
       "grid_auto_flow": null,
       "grid_auto_rows": null,
       "grid_column": null,
       "grid_gap": null,
       "grid_row": null,
       "grid_template_areas": null,
       "grid_template_columns": null,
       "grid_template_rows": null,
       "height": null,
       "justify_content": null,
       "justify_items": null,
       "left": null,
       "margin": null,
       "max_height": null,
       "max_width": null,
       "min_height": null,
       "min_width": null,
       "object_fit": null,
       "object_position": null,
       "order": null,
       "overflow": null,
       "overflow_x": null,
       "overflow_y": null,
       "padding": null,
       "right": null,
       "top": null,
       "visibility": null,
       "width": null
      }
     },
     "20d28471fea2421dba98df996f9a9682": {
      "model_module": "@jupyter-widgets/base",
      "model_module_version": "1.2.0",
      "model_name": "LayoutModel",
      "state": {
       "_model_module": "@jupyter-widgets/base",
       "_model_module_version": "1.2.0",
       "_model_name": "LayoutModel",
       "_view_count": null,
       "_view_module": "@jupyter-widgets/base",
       "_view_module_version": "1.2.0",
       "_view_name": "LayoutView",
       "align_content": null,
       "align_items": null,
       "align_self": null,
       "border": null,
       "bottom": null,
       "display": null,
       "flex": null,
       "flex_flow": null,
       "grid_area": null,
       "grid_auto_columns": null,
       "grid_auto_flow": null,
       "grid_auto_rows": null,
       "grid_column": null,
       "grid_gap": null,
       "grid_row": null,
       "grid_template_areas": null,
       "grid_template_columns": null,
       "grid_template_rows": null,
       "height": null,
       "justify_content": null,
       "justify_items": null,
       "left": null,
       "margin": null,
       "max_height": null,
       "max_width": null,
       "min_height": null,
       "min_width": null,
       "object_fit": null,
       "object_position": null,
       "order": null,
       "overflow": null,
       "overflow_x": null,
       "overflow_y": null,
       "padding": null,
       "right": null,
       "top": null,
       "visibility": null,
       "width": null
      }
     },
     "34e9e9493f13457c9df2081dacc5fd44": {
      "model_module": "@jupyter-widgets/controls",
      "model_module_version": "1.5.0",
      "model_name": "FloatProgressModel",
      "state": {
       "_dom_classes": [],
       "_model_module": "@jupyter-widgets/controls",
       "_model_module_version": "1.5.0",
       "_model_name": "FloatProgressModel",
       "_view_count": null,
       "_view_module": "@jupyter-widgets/controls",
       "_view_module_version": "1.5.0",
       "_view_name": "ProgressView",
       "bar_style": "success",
       "description": "",
       "description_tooltip": null,
       "layout": "IPY_MODEL_04d5b7f25a394b99a17b28819e545893",
       "max": 1640,
       "min": 0,
       "orientation": "horizontal",
       "style": "IPY_MODEL_6b352a65368e4ab4a5c3f89d9802198d",
       "value": 1640
      }
     },
     "425a6116e98b4101a6a2f0dd49d30ba6": {
      "model_module": "@jupyter-widgets/controls",
      "model_module_version": "1.5.0",
      "model_name": "DescriptionStyleModel",
      "state": {
       "_model_module": "@jupyter-widgets/controls",
       "_model_module_version": "1.5.0",
       "_model_name": "DescriptionStyleModel",
       "_view_count": null,
       "_view_module": "@jupyter-widgets/base",
       "_view_module_version": "1.2.0",
       "_view_name": "StyleView",
       "description_width": ""
      }
     },
     "6b352a65368e4ab4a5c3f89d9802198d": {
      "model_module": "@jupyter-widgets/controls",
      "model_module_version": "1.5.0",
      "model_name": "ProgressStyleModel",
      "state": {
       "_model_module": "@jupyter-widgets/controls",
       "_model_module_version": "1.5.0",
       "_model_name": "ProgressStyleModel",
       "_view_count": null,
       "_view_module": "@jupyter-widgets/base",
       "_view_module_version": "1.2.0",
       "_view_name": "StyleView",
       "bar_color": null,
       "description_width": ""
      }
     },
     "6c7dc411ac8b4522b125f2ec7a5cb081": {
      "model_module": "@jupyter-widgets/base",
      "model_module_version": "1.2.0",
      "model_name": "LayoutModel",
      "state": {
       "_model_module": "@jupyter-widgets/base",
       "_model_module_version": "1.2.0",
       "_model_name": "LayoutModel",
       "_view_count": null,
       "_view_module": "@jupyter-widgets/base",
       "_view_module_version": "1.2.0",
       "_view_name": "LayoutView",
       "align_content": null,
       "align_items": null,
       "align_self": null,
       "border": null,
       "bottom": null,
       "display": null,
       "flex": null,
       "flex_flow": null,
       "grid_area": null,
       "grid_auto_columns": null,
       "grid_auto_flow": null,
       "grid_auto_rows": null,
       "grid_column": null,
       "grid_gap": null,
       "grid_row": null,
       "grid_template_areas": null,
       "grid_template_columns": null,
       "grid_template_rows": null,
       "height": null,
       "justify_content": null,
       "justify_items": null,
       "left": null,
       "margin": null,
       "max_height": null,
       "max_width": null,
       "min_height": null,
       "min_width": null,
       "object_fit": null,
       "object_position": null,
       "order": null,
       "overflow": null,
       "overflow_x": null,
       "overflow_y": null,
       "padding": null,
       "right": null,
       "top": null,
       "visibility": null,
       "width": null
      }
     },
     "9af8f32d09b343aeb3b4584ebe492db0": {
      "model_module": "@jupyter-widgets/controls",
      "model_module_version": "1.5.0",
      "model_name": "HBoxModel",
      "state": {
       "_dom_classes": [],
       "_model_module": "@jupyter-widgets/controls",
       "_model_module_version": "1.5.0",
       "_model_name": "HBoxModel",
       "_view_count": null,
       "_view_module": "@jupyter-widgets/controls",
       "_view_module_version": "1.5.0",
       "_view_name": "HBoxView",
       "box_style": "",
       "children": [
        "IPY_MODEL_ca7064a0f3bf4b7089a19212f120f8fa",
        "IPY_MODEL_34e9e9493f13457c9df2081dacc5fd44",
        "IPY_MODEL_aaf4052856ca42fbb882d32e3d74d7f9"
       ],
       "layout": "IPY_MODEL_1ffbd313f5c04a67a0b7218b4adc08da"
      }
     },
     "aaf4052856ca42fbb882d32e3d74d7f9": {
      "model_module": "@jupyter-widgets/controls",
      "model_module_version": "1.5.0",
      "model_name": "HTMLModel",
      "state": {
       "_dom_classes": [],
       "_model_module": "@jupyter-widgets/controls",
       "_model_module_version": "1.5.0",
       "_model_name": "HTMLModel",
       "_view_count": null,
       "_view_module": "@jupyter-widgets/controls",
       "_view_module_version": "1.5.0",
       "_view_name": "HTMLView",
       "description": "",
       "description_tooltip": null,
       "layout": "IPY_MODEL_20d28471fea2421dba98df996f9a9682",
       "placeholder": "​",
       "style": "IPY_MODEL_d93e74c452ee4f1898169a96b29629e3",
       "value": " 1640/1640 [00:20&lt;00:00, 750.50it/s]"
      }
     },
     "ca7064a0f3bf4b7089a19212f120f8fa": {
      "model_module": "@jupyter-widgets/controls",
      "model_module_version": "1.5.0",
      "model_name": "HTMLModel",
      "state": {
       "_dom_classes": [],
       "_model_module": "@jupyter-widgets/controls",
       "_model_module_version": "1.5.0",
       "_model_name": "HTMLModel",
       "_view_count": null,
       "_view_module": "@jupyter-widgets/controls",
       "_view_module_version": "1.5.0",
       "_view_name": "HTMLView",
       "description": "",
       "description_tooltip": null,
       "layout": "IPY_MODEL_6c7dc411ac8b4522b125f2ec7a5cb081",
       "placeholder": "​",
       "style": "IPY_MODEL_425a6116e98b4101a6a2f0dd49d30ba6",
       "value": "Computing transition probabilities: 100%"
      }
     },
     "d93e74c452ee4f1898169a96b29629e3": {
      "model_module": "@jupyter-widgets/controls",
      "model_module_version": "1.5.0",
      "model_name": "DescriptionStyleModel",
      "state": {
       "_model_module": "@jupyter-widgets/controls",
       "_model_module_version": "1.5.0",
       "_model_name": "DescriptionStyleModel",
       "_view_count": null,
       "_view_module": "@jupyter-widgets/base",
       "_view_module_version": "1.2.0",
       "_view_name": "StyleView",
       "description_width": ""
      }
     }
    },
    "version_major": 2,
    "version_minor": 0
   }
  }
 },
 "nbformat": 4,
 "nbformat_minor": 5
}
