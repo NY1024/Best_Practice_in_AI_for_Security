{
 "cells": [
  {
   "cell_type": "code",
   "execution_count": 1,
   "metadata": {
    "_cell_guid": "b1076dfc-b9ad-4769-8c92-a6c4dae69d19",
    "_uuid": "8f2839f25d086af736a60e9eeb907d3b93b6e0e5",
    "execution": {
     "iopub.execute_input": "2021-11-25T03:33:46.349380Z",
     "iopub.status.busy": "2021-11-25T03:33:46.348135Z",
     "iopub.status.idle": "2021-11-25T03:33:46.372306Z",
     "shell.execute_reply": "2021-11-25T03:33:46.371514Z",
     "shell.execute_reply.started": "2021-11-22T12:00:17.468684Z"
    },
    "papermill": {
     "duration": 0.044981,
     "end_time": "2021-11-25T03:33:46.372536",
     "exception": false,
     "start_time": "2021-11-25T03:33:46.327555",
     "status": "completed"
    },
    "tags": []
   },
   "outputs": [],
   "source": [
    "import numpy as np \n",
    "import pandas as pd "
   ]
  },
  {
   "cell_type": "code",
   "execution_count": 2,
   "metadata": {
    "execution": {
     "iopub.execute_input": "2021-11-25T03:33:46.445658Z",
     "iopub.status.busy": "2021-11-25T03:33:46.444895Z",
     "iopub.status.idle": "2021-11-25T03:33:47.876715Z",
     "shell.execute_reply": "2021-11-25T03:33:47.876086Z",
     "shell.execute_reply.started": "2021-11-25T02:24:53.934109Z"
    },
    "papermill": {
     "duration": 1.452974,
     "end_time": "2021-11-25T03:33:47.876870",
     "exception": false,
     "start_time": "2021-11-25T03:33:46.423896",
     "status": "completed"
    },
    "tags": []
   },
   "outputs": [],
   "source": [
    "from sklearn.model_selection import train_test_split\n",
    "from catboost import CatBoostClassifier, Pool\n",
    "from sklearn.model_selection import GridSearchCV\n",
    "import pandas as pd\n",
    "import numpy as np\n",
    "\n",
    "from sklearn.neighbors import KernelDensity\n",
    "\n",
    "import matplotlib.pyplot as plt\n",
    "import matplotlib\n",
    "matplotlib.rcParams['figure.figsize'] = (20, 10)"
   ]
  },
  {
   "cell_type": "code",
   "execution_count": 3,
   "metadata": {
    "execution": {
     "iopub.execute_input": "2021-11-25T03:33:47.976467Z",
     "iopub.status.busy": "2021-11-25T03:33:47.975425Z",
     "iopub.status.idle": "2021-11-25T03:33:48.163942Z",
     "shell.execute_reply": "2021-11-25T03:33:48.163397Z",
     "shell.execute_reply.started": "2021-11-25T02:25:36.687843Z"
    },
    "papermill": {
     "duration": 0.2075,
     "end_time": "2021-11-25T03:33:48.164134",
     "exception": false,
     "start_time": "2021-11-25T03:33:47.956634",
     "status": "completed"
    },
    "tags": []
   },
   "outputs": [],
   "source": [
    "training_df = pd.read_csv('supervised_dataset.csv', index_col=False).drop('Unnamed: 0', axis=1)\n",
    "evaluation_df = pd.read_csv('remaining_behavior_ext.csv', index_col=False).drop('Unnamed: 0', axis=1)"
   ]
  },
  {
   "cell_type": "code",
   "execution_count": 4,
   "metadata": {
    "execution": {
     "iopub.execute_input": "2021-11-25T03:33:48.199365Z",
     "iopub.status.busy": "2021-11-25T03:33:48.198683Z",
     "iopub.status.idle": "2021-11-25T03:33:48.206487Z",
     "shell.execute_reply": "2021-11-25T03:33:48.206999Z",
     "shell.execute_reply.started": "2021-11-25T02:25:42.730429Z"
    },
    "papermill": {
     "duration": 0.027037,
     "end_time": "2021-11-25T03:33:48.207176",
     "exception": false,
     "start_time": "2021-11-25T03:33:48.180139",
     "status": "completed"
    },
    "tags": []
   },
   "outputs": [
    {
     "data": {
      "text/plain": [
       "(Index(['_id', 'inter_api_access_duration(sec)', 'api_access_uniqueness',\n",
       "        'sequence_length(count)', 'vsession_duration(min)', 'ip_type',\n",
       "        'num_sessions', 'num_users', 'num_unique_apis', 'source',\n",
       "        'classification'],\n",
       "       dtype='object'),\n",
       " Index(['_id', 'inter_api_access_duration(sec)', 'api_access_uniqueness',\n",
       "        'sequence_length(count)', 'vsession_duration(min)', 'ip_type',\n",
       "        'behavior', 'behavior_type', 'num_sessions', 'num_users',\n",
       "        'num_unique_apis', 'source'],\n",
       "       dtype='object'),\n",
       " 1699)"
      ]
     },
     "execution_count": 4,
     "metadata": {},
     "output_type": "execute_result"
    }
   ],
   "source": [
    "training_df.columns, evaluation_df.columns, len(training_df)"
   ]
  },
  {
   "cell_type": "code",
   "execution_count": 5,
   "metadata": {
    "execution": {
     "iopub.execute_input": "2021-11-25T03:33:48.243004Z",
     "iopub.status.busy": "2021-11-25T03:33:48.242322Z",
     "iopub.status.idle": "2021-11-25T03:33:48.259014Z",
     "shell.execute_reply": "2021-11-25T03:33:48.259549Z",
     "shell.execute_reply.started": "2021-11-25T02:26:00.745808Z"
    },
    "papermill": {
     "duration": 0.036473,
     "end_time": "2021-11-25T03:33:48.259752",
     "exception": false,
     "start_time": "2021-11-25T03:33:48.223279",
     "status": "completed"
    },
    "tags": []
   },
   "outputs": [
    {
     "name": "stdout",
     "output_type": "stream",
     "text": [
      "training data class distribution\n",
      " normal     1106\n",
      "outlier     593\n",
      "Name: classification, dtype: int64\n",
      "class distribution based on ALGO-X\n",
      " outlier    24146\n",
      "normal      8946\n",
      "bot         1309\n",
      "attack        22\n",
      "Name: behavior_type, dtype: int64\n"
     ]
    }
   ],
   "source": [
    "print(\"training data class distribution\\n\", training_df['classification'].value_counts())\n",
    "print(\"class distribution based on ALGO-X\\n\", evaluation_df['behavior_type'].value_counts())"
   ]
  },
  {
   "cell_type": "code",
   "execution_count": 6,
   "metadata": {
    "execution": {
     "iopub.execute_input": "2021-11-25T03:33:48.364982Z",
     "iopub.status.busy": "2021-11-25T03:33:48.364289Z",
     "iopub.status.idle": "2021-11-25T03:33:48.372283Z",
     "shell.execute_reply": "2021-11-25T03:33:48.372857Z",
     "shell.execute_reply.started": "2021-11-25T02:27:21.326619Z"
    },
    "papermill": {
     "duration": 0.030886,
     "end_time": "2021-11-25T03:33:48.373048",
     "exception": false,
     "start_time": "2021-11-25T03:33:48.342162",
     "status": "completed"
    },
    "tags": []
   },
   "outputs": [],
   "source": [
    "train, test = train_test_split(training_df, test_size=0.4, random_state=1073)\n",
    "\n",
    "param_grid = {\n",
    "    \"iterations\": [10, 100, 1000],\n",
    "    \"learning_rate\": [0.1, 0.01],\n",
    "    \"custom_loss\": ['CrossEntropy', 'AUC', 'Logloss', ]\n",
    "}\n",
    "gclf = GridSearchCV(estimator=CatBoostClassifier(), param_grid=param_grid, cv=4)"
   ]
  },
  {
   "cell_type": "code",
   "execution_count": 7,
   "metadata": {
    "execution": {
     "iopub.execute_input": "2021-11-25T03:33:48.409247Z",
     "iopub.status.busy": "2021-11-25T03:33:48.408597Z",
     "iopub.status.idle": "2021-11-25T03:34:37.215474Z",
     "shell.execute_reply": "2021-11-25T03:34:37.214843Z",
     "shell.execute_reply.started": "2021-11-25T02:27:32.378644Z"
    },
    "jupyter": {
     "outputs_hidden": true
    },
    "papermill": {
     "duration": 48.826017,
     "end_time": "2021-11-25T03:34:37.215628",
     "exception": false,
     "start_time": "2021-11-25T03:33:48.389611",
     "status": "completed"
    },
    "tags": []
   },
   "outputs": [
    {
     "name": "stdout",
     "output_type": "stream",
     "text": [
      "0:\tlearn: 0.6158706\ttotal: 89ms\tremaining: 801ms\n",
      "9:\tlearn: 0.2436058\ttotal: 96.7ms\tremaining: 0us\n",
      "0:\tlearn: 0.6160841\ttotal: 1.8ms\tremaining: 16.2ms\n",
      "9:\tlearn: 0.2454037\ttotal: 8.76ms\tremaining: 0us\n",
      "0:\tlearn: 0.6153025\ttotal: 2.96ms\tremaining: 26.6ms\n",
      "9:\tlearn: 0.2419216\ttotal: 12.9ms\tremaining: 0us\n",
      "0:\tlearn: 0.6114441\ttotal: 2.67ms\tremaining: 24.1ms\n",
      "9:\tlearn: 0.2467262\ttotal: 10.7ms\tremaining: 0us\n",
      "0:\tlearn: 0.6851113\ttotal: 1ms\tremaining: 9.04ms\n",
      "9:\tlearn: 0.6155766\ttotal: 8.04ms\tremaining: 0us\n",
      "0:\tlearn: 0.6851335\ttotal: 1.45ms\tremaining: 13.1ms\n",
      "9:\tlearn: 0.6157401\ttotal: 9.46ms\tremaining: 0us\n",
      "0:\tlearn: 0.6850501\ttotal: 973us\tremaining: 8.76ms\n",
      "9:\tlearn: 0.6151255\ttotal: 8.12ms\tremaining: 0us\n",
      "0:\tlearn: 0.6846396\ttotal: 1.12ms\tremaining: 10.1ms\n",
      "9:\tlearn: 0.6167871\ttotal: 20ms\tremaining: 0us\n",
      "0:\tlearn: 0.6158706\ttotal: 1.35ms\tremaining: 134ms\n",
      "99:\tlearn: 0.0063854\ttotal: 110ms\tremaining: 0us\n",
      "0:\tlearn: 0.6160841\ttotal: 2.08ms\tremaining: 206ms\n",
      "99:\tlearn: 0.0055462\ttotal: 141ms\tremaining: 0us\n",
      "0:\tlearn: 0.6153025\ttotal: 937us\tremaining: 92.8ms\n",
      "99:\tlearn: 0.0061279\ttotal: 153ms\tremaining: 0us\n",
      "0:\tlearn: 0.6114441\ttotal: 9.37ms\tremaining: 928ms\n",
      "99:\tlearn: 0.0064939\ttotal: 300ms\tremaining: 0us\n",
      "0:\tlearn: 0.6851113\ttotal: 1.33ms\tremaining: 132ms\n",
      "99:\tlearn: 0.2507519\ttotal: 106ms\tremaining: 0us\n",
      "0:\tlearn: 0.6851335\ttotal: 1.1ms\tremaining: 109ms\n",
      "99:\tlearn: 0.2507886\ttotal: 108ms\tremaining: 0us\n",
      "0:\tlearn: 0.6850501\ttotal: 941us\tremaining: 93.2ms\n",
      "99:\tlearn: 0.2494480\ttotal: 92.7ms\tremaining: 0us\n",
      "0:\tlearn: 0.6846396\ttotal: 1.34ms\tremaining: 133ms\n",
      "99:\tlearn: 0.2506962\ttotal: 109ms\tremaining: 0us\n",
      "0:\tlearn: 0.4879940\ttotal: 1.77ms\tremaining: 1.77s\n",
      "999:\tlearn: 0.0005177\ttotal: 1.42s\tremaining: 0us\n",
      "0:\tlearn: 0.4915443\ttotal: 2.99ms\tremaining: 2.99s\n",
      "999:\tlearn: 0.0006247\ttotal: 1.71s\tremaining: 0us\n",
      "0:\tlearn: 0.4911200\ttotal: 1.64ms\tremaining: 1.64s\n",
      "999:\tlearn: 0.0007422\ttotal: 1.6s\tremaining: 0us\n",
      "0:\tlearn: 0.4763521\ttotal: 13.8ms\tremaining: 13.7s\n",
      "999:\tlearn: 0.0006472\ttotal: 1.77s\tremaining: 0us\n",
      "0:\tlearn: 0.6700894\ttotal: 1.32ms\tremaining: 1.32s\n",
      "999:\tlearn: 0.0005780\ttotal: 1.51s\tremaining: 0us\n",
      "0:\tlearn: 0.6705200\ttotal: 3.45ms\tremaining: 3.44s\n",
      "999:\tlearn: 0.0006809\ttotal: 1.59s\tremaining: 0us\n",
      "0:\tlearn: 0.6704519\ttotal: 2.12ms\tremaining: 2.12s\n",
      "999:\tlearn: 0.0009442\ttotal: 1.57s\tremaining: 0us\n",
      "0:\tlearn: 0.6686173\ttotal: 2.11ms\tremaining: 2.11s\n",
      "999:\tlearn: 0.0005730\ttotal: 1.77s\tremaining: 0us\n",
      "0:\tlearn: 0.6158025\ttotal: 1.85ms\tremaining: 16.6ms\n",
      "9:\tlearn: 0.2435790\ttotal: 12.1ms\tremaining: 0us\n",
      "0:\tlearn: 0.6160170\ttotal: 998us\tremaining: 8.99ms\n",
      "9:\tlearn: 0.2453788\ttotal: 7.9ms\tremaining: 0us\n",
      "0:\tlearn: 0.6152339\ttotal: 1.2ms\tremaining: 10.8ms\n",
      "9:\tlearn: 0.2418953\ttotal: 8.03ms\tremaining: 0us\n",
      "0:\tlearn: 0.6113733\ttotal: 1.07ms\tremaining: 9.66ms\n",
      "9:\tlearn: 0.2467070\ttotal: 7.62ms\tremaining: 0us\n",
      "0:\tlearn: 0.6851043\ttotal: 852us\tremaining: 7.67ms\n",
      "9:\tlearn: 0.6155090\ttotal: 7.15ms\tremaining: 0us\n",
      "0:\tlearn: 0.6851260\ttotal: 888us\tremaining: 8ms\n",
      "9:\tlearn: 0.6156724\ttotal: 7.23ms\tremaining: 0us\n",
      "0:\tlearn: 0.6850439\ttotal: 1.73ms\tremaining: 15.5ms\n",
      "9:\tlearn: 0.6150574\ttotal: 19.5ms\tremaining: 0us\n",
      "0:\tlearn: 0.6846314\ttotal: 1.5ms\tremaining: 13.5ms\n",
      "9:\tlearn: 0.6167198\ttotal: 24.9ms\tremaining: 0us\n",
      "0:\tlearn: 0.6158025\ttotal: 2.66ms\tremaining: 264ms\n",
      "99:\tlearn: 0.0063766\ttotal: 177ms\tremaining: 0us\n",
      "0:\tlearn: 0.6160170\ttotal: 1.22ms\tremaining: 121ms\n",
      "99:\tlearn: 0.0055385\ttotal: 197ms\tremaining: 0us\n",
      "0:\tlearn: 0.6152339\ttotal: 1.31ms\tremaining: 130ms\n",
      "99:\tlearn: 0.0061193\ttotal: 241ms\tremaining: 0us\n",
      "0:\tlearn: 0.6113733\ttotal: 888us\tremaining: 88ms\n",
      "99:\tlearn: 0.0064848\ttotal: 78.5ms\tremaining: 0us\n",
      "0:\tlearn: 0.6851043\ttotal: 1.05ms\tremaining: 104ms\n",
      "99:\tlearn: 0.2507336\ttotal: 104ms\tremaining: 0us\n",
      "0:\tlearn: 0.6851260\ttotal: 1.19ms\tremaining: 118ms\n",
      "99:\tlearn: 0.2507715\ttotal: 105ms\tremaining: 0us\n",
      "0:\tlearn: 0.6850439\ttotal: 1.01ms\tremaining: 101ms\n",
      "99:\tlearn: 0.2494303\ttotal: 97.7ms\tremaining: 0us\n",
      "0:\tlearn: 0.6846314\ttotal: 976us\tremaining: 96.6ms\n",
      "99:\tlearn: 0.2506787\ttotal: 77.7ms\tremaining: 0us\n",
      "0:\tlearn: 0.4879593\ttotal: 1.43ms\tremaining: 1.43s\n",
      "999:\tlearn: 0.0005160\ttotal: 1.44s\tremaining: 0us\n",
      "0:\tlearn: 0.4915048\ttotal: 1.41ms\tremaining: 1.41s\n",
      "999:\tlearn: 0.0006229\ttotal: 1.42s\tremaining: 0us\n",
      "0:\tlearn: 0.4910802\ttotal: 1.76ms\tremaining: 1.75s\n",
      "999:\tlearn: 0.0007403\ttotal: 1.6s\tremaining: 0us\n",
      "0:\tlearn: 0.4763249\ttotal: 1.26ms\tremaining: 1.26s\n",
      "999:\tlearn: 0.0006455\ttotal: 1.26s\tremaining: 0us\n",
      "0:\tlearn: 0.6700674\ttotal: 1.76ms\tremaining: 1.75s\n",
      "999:\tlearn: 0.0005764\ttotal: 1.29s\tremaining: 0us\n",
      "0:\tlearn: 0.6704981\ttotal: 1.89ms\tremaining: 1.89s\n",
      "999:\tlearn: 0.0006791\ttotal: 1.28s\tremaining: 0us\n",
      "0:\tlearn: 0.6704293\ttotal: 1.69ms\tremaining: 1.68s\n",
      "999:\tlearn: 0.0009422\ttotal: 1.19s\tremaining: 0us\n",
      "0:\tlearn: 0.6685935\ttotal: 1.94ms\tremaining: 1.94s\n",
      "999:\tlearn: 0.0005714\ttotal: 1.3s\tremaining: 0us\n",
      "0:\tlearn: 0.6158025\ttotal: 1.43ms\tremaining: 12.9ms\n",
      "9:\tlearn: 0.2435790\ttotal: 14.5ms\tremaining: 0us\n",
      "0:\tlearn: 0.6160170\ttotal: 5.08ms\tremaining: 45.7ms\n",
      "9:\tlearn: 0.2453788\ttotal: 13.8ms\tremaining: 0us\n",
      "0:\tlearn: 0.6152339\ttotal: 1.31ms\tremaining: 11.8ms\n",
      "9:\tlearn: 0.2418953\ttotal: 12.7ms\tremaining: 0us\n",
      "0:\tlearn: 0.6113733\ttotal: 1.02ms\tremaining: 9.16ms\n",
      "9:\tlearn: 0.2467070\ttotal: 12.7ms\tremaining: 0us\n",
      "0:\tlearn: 0.6851043\ttotal: 2.58ms\tremaining: 23.2ms\n",
      "9:\tlearn: 0.6155090\ttotal: 14.4ms\tremaining: 0us\n",
      "0:\tlearn: 0.6851260\ttotal: 1.24ms\tremaining: 11.1ms\n",
      "9:\tlearn: 0.6156724\ttotal: 12.9ms\tremaining: 0us\n",
      "0:\tlearn: 0.6850439\ttotal: 1.03ms\tremaining: 9.29ms\n",
      "9:\tlearn: 0.6150574\ttotal: 9.04ms\tremaining: 0us\n",
      "0:\tlearn: 0.6846314\ttotal: 873us\tremaining: 7.86ms\n",
      "9:\tlearn: 0.6167198\ttotal: 11.5ms\tremaining: 0us\n",
      "0:\tlearn: 0.6158025\ttotal: 971us\tremaining: 96.2ms\n",
      "99:\tlearn: 0.0063766\ttotal: 73ms\tremaining: 0us\n",
      "0:\tlearn: 0.6160170\ttotal: 1.19ms\tremaining: 118ms\n",
      "99:\tlearn: 0.0055385\ttotal: 97.3ms\tremaining: 0us\n",
      "0:\tlearn: 0.6152339\ttotal: 1.09ms\tremaining: 108ms\n",
      "99:\tlearn: 0.0061193\ttotal: 88ms\tremaining: 0us\n",
      "0:\tlearn: 0.6113733\ttotal: 1.17ms\tremaining: 116ms\n",
      "99:\tlearn: 0.0064848\ttotal: 75.9ms\tremaining: 0us\n",
      "0:\tlearn: 0.6851043\ttotal: 885us\tremaining: 87.7ms\n",
      "99:\tlearn: 0.2507336\ttotal: 72.6ms\tremaining: 0us\n",
      "0:\tlearn: 0.6851260\ttotal: 929us\tremaining: 92ms\n",
      "99:\tlearn: 0.2507715\ttotal: 70.8ms\tremaining: 0us\n",
      "0:\tlearn: 0.6850439\ttotal: 799us\tremaining: 79.2ms\n",
      "99:\tlearn: 0.2494303\ttotal: 90.4ms\tremaining: 0us\n",
      "0:\tlearn: 0.6846314\ttotal: 1.5ms\tremaining: 149ms\n",
      "99:\tlearn: 0.2506787\ttotal: 78.8ms\tremaining: 0us\n",
      "0:\tlearn: 0.4879593\ttotal: 1.34ms\tremaining: 1.34s\n",
      "999:\tlearn: 0.0005160\ttotal: 1.56s\tremaining: 0us\n",
      "0:\tlearn: 0.4915048\ttotal: 1.91ms\tremaining: 1.91s\n",
      "999:\tlearn: 0.0006229\ttotal: 1.27s\tremaining: 0us\n",
      "0:\tlearn: 0.4910802\ttotal: 1.62ms\tremaining: 1.62s\n",
      "999:\tlearn: 0.0007403\ttotal: 1.13s\tremaining: 0us\n",
      "0:\tlearn: 0.4763249\ttotal: 3.14ms\tremaining: 3.14s\n",
      "999:\tlearn: 0.0006455\ttotal: 1.14s\tremaining: 0us\n",
      "0:\tlearn: 0.6700674\ttotal: 1.74ms\tremaining: 1.74s\n",
      "999:\tlearn: 0.0005764\ttotal: 1.25s\tremaining: 0us\n",
      "0:\tlearn: 0.6704981\ttotal: 3.6ms\tremaining: 3.6s\n",
      "999:\tlearn: 0.0006791\ttotal: 1.28s\tremaining: 0us\n",
      "0:\tlearn: 0.6704293\ttotal: 3.61ms\tremaining: 3.6s\n",
      "999:\tlearn: 0.0009422\ttotal: 1.24s\tremaining: 0us\n",
      "0:\tlearn: 0.6685935\ttotal: 2.29ms\tremaining: 2.29s\n",
      "999:\tlearn: 0.0005714\ttotal: 1.16s\tremaining: 0us\n",
      "0:\tlearn: 0.6086347\ttotal: 4.43ms\tremaining: 439ms\n",
      "99:\tlearn: 0.0049987\ttotal: 144ms\tremaining: 0us\n"
     ]
    },
    {
     "data": {
      "text/plain": [
       "GridSearchCV(cv=4,\n",
       "             estimator=<catboost.core.CatBoostClassifier object at 0x7fe7f2a105c0>,\n",
       "             param_grid={'custom_loss': ['CrossEntropy', 'AUC', 'Logloss'],\n",
       "                         'iterations': [10, 100, 1000],\n",
       "                         'learning_rate': [0.1, 0.01]})"
      ]
     },
     "execution_count": 7,
     "metadata": {},
     "output_type": "execute_result"
    }
   ],
   "source": [
    "gclf.fit(train.drop(['classification', 'source', '_id'], axis=1), train['classification'], cat_features=['ip_type'], verbose=1000)"
   ]
  },
  {
   "cell_type": "code",
   "execution_count": 8,
   "metadata": {
    "execution": {
     "iopub.execute_input": "2021-11-25T03:34:37.283728Z",
     "iopub.status.busy": "2021-11-25T03:34:37.282671Z",
     "iopub.status.idle": "2021-11-25T03:34:37.290068Z",
     "shell.execute_reply": "2021-11-25T03:34:37.289510Z",
     "shell.execute_reply.started": "2021-11-25T02:30:23.348Z"
    },
    "papermill": {
     "duration": 0.042779,
     "end_time": "2021-11-25T03:34:37.290203",
     "exception": false,
     "start_time": "2021-11-25T03:34:37.247424",
     "status": "completed"
    },
    "tags": []
   },
   "outputs": [
    {
     "data": {
      "text/plain": [
       "{'custom_loss': 'CrossEntropy', 'iterations': 100, 'learning_rate': 0.1}"
      ]
     },
     "execution_count": 8,
     "metadata": {},
     "output_type": "execute_result"
    }
   ],
   "source": [
    "gclf.best_params_"
   ]
  },
  {
   "cell_type": "code",
   "execution_count": 9,
   "metadata": {
    "execution": {
     "iopub.execute_input": "2021-11-25T03:34:37.432312Z",
     "iopub.status.busy": "2021-11-25T03:34:37.431526Z",
     "iopub.status.idle": "2021-11-25T03:34:37.435311Z",
     "shell.execute_reply": "2021-11-25T03:34:37.434763Z",
     "shell.execute_reply.started": "2021-11-25T02:31:19.078243Z"
    },
    "papermill": {
     "duration": 0.044327,
     "end_time": "2021-11-25T03:34:37.435479",
     "exception": false,
     "start_time": "2021-11-25T03:34:37.391152",
     "status": "completed"
    },
    "tags": []
   },
   "outputs": [],
   "source": [
    "evaluation_cols_removed_df= evaluation_df.drop(['behavior_type', 'behavior', 'source', '_id'], axis=1)\n",
    "test_cols_removed_df= test.drop(['source', '_id', 'classification'], axis=1)"
   ]
  },
  {
   "cell_type": "code",
   "execution_count": 10,
   "metadata": {
    "execution": {
     "iopub.execute_input": "2021-11-25T03:34:37.520966Z",
     "iopub.status.busy": "2021-11-25T03:34:37.519763Z",
     "iopub.status.idle": "2021-11-25T03:34:37.547928Z",
     "shell.execute_reply": "2021-11-25T03:34:37.547322Z",
     "shell.execute_reply.started": "2021-11-25T02:31:31.394745Z"
    },
    "papermill": {
     "duration": 0.080423,
     "end_time": "2021-11-25T03:34:37.548097",
     "exception": false,
     "start_time": "2021-11-25T03:34:37.467674",
     "status": "completed"
    },
    "tags": []
   },
   "outputs": [],
   "source": [
    "prediction=gclf.predict(evaluation_cols_removed_df)\n",
    "after_prediction_pd = evaluation_df[['behavior_type', 'behavior', 'source']].copy()\n",
    "after_prediction_pd['prediction']=prediction\n",
    "eval_cols_evaluation_set = after_prediction_pd[['behavior_type', 'prediction']]\n",
    "\n",
    "prediction=gclf.predict(test_cols_removed_df)\n",
    "test_after_prediction_pd = test[['classification']].copy()\n",
    "test_after_prediction_pd['prediction']=prediction\n",
    "test_cols_evaluation_set = test_after_prediction_pd[['classification', 'prediction']]"
   ]
  },
  {
   "cell_type": "code",
   "execution_count": 11,
   "metadata": {
    "execution": {
     "iopub.execute_input": "2021-11-25T03:34:37.684673Z",
     "iopub.status.busy": "2021-11-25T03:34:37.683331Z",
     "iopub.status.idle": "2021-11-25T03:34:37.685385Z",
     "shell.execute_reply": "2021-11-25T03:34:37.685974Z",
     "shell.execute_reply.started": "2021-11-25T02:31:58.722069Z"
    },
    "papermill": {
     "duration": 0.04247,
     "end_time": "2021-11-25T03:34:37.686138",
     "exception": false,
     "start_time": "2021-11-25T03:34:37.643668",
     "status": "completed"
    },
    "tags": []
   },
   "outputs": [],
   "source": [
    "def calculate_misclassification(eval_cols, predicted_col, orig_col):\n",
    "    classes = dict(eval_cols[orig_col].value_counts())\n",
    "\n",
    "    misclassification_error = 0\n",
    "    for class_name in classes:\n",
    "        selection = eval_cols[ (eval_cols[orig_col] == class_name)]\n",
    "        weight = 1.0/classes[class_name]\n",
    "        misclassifiction_cases = selection[(selection[predicted_col] != class_name)]\n",
    "        misclassification_count = len(misclassifiction_cases)\n",
    "        print({'class': class_name, 'weight': weight, 'count': len(selection), 'misclassification':misclassification_count})\n",
    "\n",
    "        misclassification_error += weight*misclassification_count\n",
    "    misclassification_error = misclassification_error / len(classes)\n",
    "    return misclassification_error"
   ]
  },
  {
   "cell_type": "code",
   "execution_count": 12,
   "metadata": {
    "execution": {
     "iopub.execute_input": "2021-11-25T03:34:37.769581Z",
     "iopub.status.busy": "2021-11-25T03:34:37.768530Z",
     "iopub.status.idle": "2021-11-25T03:34:37.802618Z",
     "shell.execute_reply": "2021-11-25T03:34:37.802048Z",
     "shell.execute_reply.started": "2021-11-25T02:32:09.601404Z"
    },
    "papermill": {
     "duration": 0.084303,
     "end_time": "2021-11-25T03:34:37.802776",
     "exception": false,
     "start_time": "2021-11-25T03:34:37.718473",
     "status": "completed"
    },
    "tags": []
   },
   "outputs": [
    {
     "name": "stdout",
     "output_type": "stream",
     "text": [
      "Classification of test data\n",
      "{'class': 'normal', 'weight': 0.0022727272727272726, 'count': 440, 'misclassification': 0}\n",
      "{'class': 'outlier', 'weight': 0.004166666666666667, 'count': 240, 'misclassification': 0}\n",
      "Misclassification error:  0.0\n",
      "Classsification of evaluation_df\n",
      "{'class': 'outlier', 'weight': 4.141472707694856e-05, 'count': 24146, 'misclassification': 0}\n",
      "{'class': 'normal', 'weight': 0.000111781801922647, 'count': 8946, 'misclassification': 8733}\n",
      "{'class': 'bot', 'weight': 0.0007639419404125286, 'count': 1309, 'misclassification': 1309}\n",
      "{'class': 'attack', 'weight': 0.045454545454545456, 'count': 22, 'misclassification': 22}\n",
      "Misclassification error:  0.7440476190476191\n"
     ]
    }
   ],
   "source": [
    "print('Classification of test data')\n",
    "print(\"Misclassification error: \",calculate_misclassification(test_cols_evaluation_set, 'prediction', 'classification'))\n",
    "\n",
    "print(\"Classsification of evaluation_df\")\n",
    "print(\"Misclassification error: \",calculate_misclassification(eval_cols_evaluation_set, 'prediction', 'behavior_type'))"
   ]
  }
 ],
 "metadata": {
  "kernelspec": {
   "display_name": "exp1",
   "language": "python",
   "name": "exp1"
  },
  "language_info": {
   "codemirror_mode": {
    "name": "ipython",
    "version": 3
   },
   "file_extension": ".py",
   "mimetype": "text/x-python",
   "name": "python",
   "nbconvert_exporter": "python",
   "pygments_lexer": "ipython3",
   "version": "3.6.13"
  },
  "papermill": {
   "default_parameters": {},
   "duration": 61.858978,
   "end_time": "2021-11-25T03:34:39.500584",
   "environment_variables": {},
   "exception": null,
   "input_path": "__notebook__.ipynb",
   "output_path": "__notebook__.ipynb",
   "parameters": {},
   "start_time": "2021-11-25T03:33:37.641606",
   "version": "2.3.3"
  }
 },
 "nbformat": 4,
 "nbformat_minor": 5
}
