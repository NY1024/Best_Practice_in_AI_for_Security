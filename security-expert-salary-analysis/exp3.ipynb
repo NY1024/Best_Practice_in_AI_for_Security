{
 "cells": [
  {
   "cell_type": "code",
   "execution_count": 2,
   "metadata": {
    "_cell_guid": "b1076dfc-b9ad-4769-8c92-a6c4dae69d19",
    "_uuid": "8f2839f25d086af736a60e9eeb907d3b93b6e0e5",
    "execution": {
     "iopub.execute_input": "2022-08-13T12:04:50.351746Z",
     "iopub.status.busy": "2022-08-13T12:04:50.351244Z",
     "iopub.status.idle": "2022-08-13T12:04:51.463102Z",
     "shell.execute_reply": "2022-08-13T12:04:51.462076Z"
    },
    "papermill": {
     "duration": 1.125951,
     "end_time": "2022-08-13T12:04:51.466257",
     "exception": false,
     "start_time": "2022-08-13T12:04:50.340306",
     "status": "completed"
    },
    "tags": []
   },
   "outputs": [],
   "source": [
    "# This Python 3 environment comes with many helpful analytics libraries installed\n",
    "# It is defined by the kaggle/python Docker image: https://github.com/kaggle/docker-python\n",
    "# For example, here's several helpful packages to load\n",
    "\n",
    "import numpy as np # linear algebra\n",
    "import pandas as pd # data processing, CSV file I/O (e.g. pd.read_csv)\n",
    "\n",
    "# Input data files are available in the read-only \"../input/\" directory\n",
    "# For example, running this (by clicking run or pressing Shift+Enter) will list all files under the input directory\n",
    "\n",
    "\n",
    "import pandas\n",
    "import matplotlib.pyplot as plt\n",
    "%matplotlib inline\n",
    "import seaborn as sns\n",
    "\n",
    "# You can write up to 20GB to the current directory (/kaggle/working/) that gets preserved as output when you create a version using \"Save & Run All\" \n",
    "# You can also write temporary files to /kaggle/temp/, but they won't be saved outside of the current session"
   ]
  },
  {
   "cell_type": "markdown",
   "metadata": {
    "papermill": {
     "duration": 0.007541,
     "end_time": "2022-08-13T12:04:51.482154",
     "exception": false,
     "start_time": "2022-08-13T12:04:51.474613",
     "status": "completed"
    },
    "tags": []
   },
   "source": [
    "# ***Conclusion On below Analysis***"
   ]
  },
  {
   "cell_type": "markdown",
   "metadata": {
    "papermill": {
     "duration": 0.007705,
     "end_time": "2022-08-13T12:04:51.497295",
     "exception": false,
     "start_time": "2022-08-13T12:04:51.489590",
     "status": "completed"
    },
    "tags": []
   },
   "source": [
    "1. Dataset contains people having an experience level of SE(senior engineer).\n",
    "2. Majority of people working in this sector are FT(Full Time).\n",
    "3. Job Titles vary accordingly with company but the most common title was Security Engineer (28%).\n",
    "4. Mean Analysis of salary in USD in different country shows that the people in the US earn more mean USD followed by isreal, switzerland, Australia , great Britan (this analysis may vary accordingly eith foreign exchange rates and etc..)\n",
    "5. Deep Analysis on salary in the US was performed and show that the mean salry in USD is 125 K and maximun of600 K. There were ceratin outliers in the dataset which is common as people with more experience and skills have higher salary in this industry. \n",
    "6. USA, Great Britan has both the higehest employee residence and the compnay locations present.\n",
    "7. Majority of the people work remotely (62%).\n",
    "8. Majority of companies are large based companies (63%)."
   ]
  },
  {
   "cell_type": "markdown",
   "metadata": {
    "papermill": {
     "duration": 0.007548,
     "end_time": "2022-08-13T12:04:51.513507",
     "exception": false,
     "start_time": "2022-08-13T12:04:51.505959",
     "status": "completed"
    },
    "tags": []
   },
   "source": [
    "# **Basic Info on the dataset**\n",
    "******"
   ]
  },
  {
   "cell_type": "code",
   "execution_count": 4,
   "metadata": {
    "execution": {
     "iopub.execute_input": "2022-08-13T12:04:51.531545Z",
     "iopub.status.busy": "2022-08-13T12:04:51.531016Z",
     "iopub.status.idle": "2022-08-13T12:04:51.549201Z",
     "shell.execute_reply": "2022-08-13T12:04:51.548529Z"
    },
    "papermill": {
     "duration": 0.029858,
     "end_time": "2022-08-13T12:04:51.551238",
     "exception": false,
     "start_time": "2022-08-13T12:04:51.521380",
     "status": "completed"
    },
    "tags": []
   },
   "outputs": [],
   "source": [
    "data = pd.read_csv(\"salaries_cyber.csv\")\n"
   ]
  },
  {
   "cell_type": "code",
   "execution_count": 5,
   "metadata": {
    "execution": {
     "iopub.execute_input": "2022-08-13T12:04:51.570425Z",
     "iopub.status.busy": "2022-08-13T12:04:51.569837Z",
     "iopub.status.idle": "2022-08-13T12:04:51.577450Z",
     "shell.execute_reply": "2022-08-13T12:04:51.576000Z"
    },
    "papermill": {
     "duration": 0.018943,
     "end_time": "2022-08-13T12:04:51.579502",
     "exception": false,
     "start_time": "2022-08-13T12:04:51.560559",
     "status": "completed"
    },
    "tags": []
   },
   "outputs": [
    {
     "data": {
      "text/plain": [
       "(1247, 11)"
      ]
     },
     "execution_count": 5,
     "metadata": {},
     "output_type": "execute_result"
    }
   ],
   "source": [
    "data.shape"
   ]
  },
  {
   "cell_type": "code",
   "execution_count": 6,
   "metadata": {
    "execution": {
     "iopub.execute_input": "2022-08-13T12:04:51.597381Z",
     "iopub.status.busy": "2022-08-13T12:04:51.596822Z",
     "iopub.status.idle": "2022-08-13T12:04:51.632514Z",
     "shell.execute_reply": "2022-08-13T12:04:51.631632Z"
    },
    "papermill": {
     "duration": 0.046907,
     "end_time": "2022-08-13T12:04:51.634408",
     "exception": false,
     "start_time": "2022-08-13T12:04:51.587501",
     "status": "completed"
    },
    "tags": []
   },
   "outputs": [
    {
     "data": {
      "text/html": [
       "<div>\n",
       "<style scoped>\n",
       "    .dataframe tbody tr th:only-of-type {\n",
       "        vertical-align: middle;\n",
       "    }\n",
       "\n",
       "    .dataframe tbody tr th {\n",
       "        vertical-align: top;\n",
       "    }\n",
       "\n",
       "    .dataframe thead th {\n",
       "        text-align: right;\n",
       "    }\n",
       "</style>\n",
       "<table border=\"1\" class=\"dataframe\">\n",
       "  <thead>\n",
       "    <tr style=\"text-align: right;\">\n",
       "      <th></th>\n",
       "      <th>work_year</th>\n",
       "      <th>salary</th>\n",
       "      <th>salary_in_usd</th>\n",
       "      <th>remote_ratio</th>\n",
       "    </tr>\n",
       "  </thead>\n",
       "  <tbody>\n",
       "    <tr>\n",
       "      <th>count</th>\n",
       "      <td>1247.000000</td>\n",
       "      <td>1.247000e+03</td>\n",
       "      <td>1247.000000</td>\n",
       "      <td>1247.000000</td>\n",
       "    </tr>\n",
       "    <tr>\n",
       "      <th>mean</th>\n",
       "      <td>2021.316760</td>\n",
       "      <td>5.608525e+05</td>\n",
       "      <td>120278.218925</td>\n",
       "      <td>71.491580</td>\n",
       "    </tr>\n",
       "    <tr>\n",
       "      <th>std</th>\n",
       "      <td>0.715501</td>\n",
       "      <td>1.415944e+07</td>\n",
       "      <td>70291.394942</td>\n",
       "      <td>39.346851</td>\n",
       "    </tr>\n",
       "    <tr>\n",
       "      <th>min</th>\n",
       "      <td>2020.000000</td>\n",
       "      <td>1.740000e+03</td>\n",
       "      <td>2000.000000</td>\n",
       "      <td>0.000000</td>\n",
       "    </tr>\n",
       "    <tr>\n",
       "      <th>25%</th>\n",
       "      <td>2021.000000</td>\n",
       "      <td>7.975450e+04</td>\n",
       "      <td>74594.500000</td>\n",
       "      <td>50.000000</td>\n",
       "    </tr>\n",
       "    <tr>\n",
       "      <th>50%</th>\n",
       "      <td>2021.000000</td>\n",
       "      <td>1.200000e+05</td>\n",
       "      <td>110000.000000</td>\n",
       "      <td>100.000000</td>\n",
       "    </tr>\n",
       "    <tr>\n",
       "      <th>75%</th>\n",
       "      <td>2022.000000</td>\n",
       "      <td>1.600800e+05</td>\n",
       "      <td>150000.000000</td>\n",
       "      <td>100.000000</td>\n",
       "    </tr>\n",
       "    <tr>\n",
       "      <th>max</th>\n",
       "      <td>2022.000000</td>\n",
       "      <td>5.000000e+08</td>\n",
       "      <td>910991.000000</td>\n",
       "      <td>100.000000</td>\n",
       "    </tr>\n",
       "  </tbody>\n",
       "</table>\n",
       "</div>"
      ],
      "text/plain": [
       "         work_year        salary  salary_in_usd  remote_ratio\n",
       "count  1247.000000  1.247000e+03    1247.000000   1247.000000\n",
       "mean   2021.316760  5.608525e+05  120278.218925     71.491580\n",
       "std       0.715501  1.415944e+07   70291.394942     39.346851\n",
       "min    2020.000000  1.740000e+03    2000.000000      0.000000\n",
       "25%    2021.000000  7.975450e+04   74594.500000     50.000000\n",
       "50%    2021.000000  1.200000e+05  110000.000000    100.000000\n",
       "75%    2022.000000  1.600800e+05  150000.000000    100.000000\n",
       "max    2022.000000  5.000000e+08  910991.000000    100.000000"
      ]
     },
     "execution_count": 6,
     "metadata": {},
     "output_type": "execute_result"
    }
   ],
   "source": [
    "data.describe()"
   ]
  },
  {
   "cell_type": "code",
   "execution_count": 7,
   "metadata": {
    "execution": {
     "iopub.execute_input": "2022-08-13T12:04:51.652316Z",
     "iopub.status.busy": "2022-08-13T12:04:51.651979Z",
     "iopub.status.idle": "2022-08-13T12:04:51.666013Z",
     "shell.execute_reply": "2022-08-13T12:04:51.664669Z"
    },
    "papermill": {
     "duration": 0.025642,
     "end_time": "2022-08-13T12:04:51.668178",
     "exception": false,
     "start_time": "2022-08-13T12:04:51.642536",
     "status": "completed"
    },
    "tags": []
   },
   "outputs": [
    {
     "data": {
      "text/html": [
       "<div>\n",
       "<style scoped>\n",
       "    .dataframe tbody tr th:only-of-type {\n",
       "        vertical-align: middle;\n",
       "    }\n",
       "\n",
       "    .dataframe tbody tr th {\n",
       "        vertical-align: top;\n",
       "    }\n",
       "\n",
       "    .dataframe thead th {\n",
       "        text-align: right;\n",
       "    }\n",
       "</style>\n",
       "<table border=\"1\" class=\"dataframe\">\n",
       "  <thead>\n",
       "    <tr style=\"text-align: right;\">\n",
       "      <th></th>\n",
       "      <th>work_year</th>\n",
       "      <th>experience_level</th>\n",
       "      <th>employment_type</th>\n",
       "      <th>job_title</th>\n",
       "      <th>salary</th>\n",
       "      <th>salary_currency</th>\n",
       "      <th>salary_in_usd</th>\n",
       "      <th>employee_residence</th>\n",
       "      <th>remote_ratio</th>\n",
       "      <th>company_location</th>\n",
       "      <th>company_size</th>\n",
       "    </tr>\n",
       "  </thead>\n",
       "  <tbody>\n",
       "    <tr>\n",
       "      <th>0</th>\n",
       "      <td>2022</td>\n",
       "      <td>EN</td>\n",
       "      <td>FT</td>\n",
       "      <td>Cyber Program Manager</td>\n",
       "      <td>63000</td>\n",
       "      <td>USD</td>\n",
       "      <td>63000</td>\n",
       "      <td>US</td>\n",
       "      <td>50</td>\n",
       "      <td>US</td>\n",
       "      <td>S</td>\n",
       "    </tr>\n",
       "    <tr>\n",
       "      <th>1</th>\n",
       "      <td>2022</td>\n",
       "      <td>MI</td>\n",
       "      <td>FT</td>\n",
       "      <td>Security Analyst</td>\n",
       "      <td>95000</td>\n",
       "      <td>USD</td>\n",
       "      <td>95000</td>\n",
       "      <td>US</td>\n",
       "      <td>0</td>\n",
       "      <td>US</td>\n",
       "      <td>M</td>\n",
       "    </tr>\n",
       "    <tr>\n",
       "      <th>2</th>\n",
       "      <td>2022</td>\n",
       "      <td>MI</td>\n",
       "      <td>FT</td>\n",
       "      <td>Security Analyst</td>\n",
       "      <td>70000</td>\n",
       "      <td>USD</td>\n",
       "      <td>70000</td>\n",
       "      <td>US</td>\n",
       "      <td>0</td>\n",
       "      <td>US</td>\n",
       "      <td>M</td>\n",
       "    </tr>\n",
       "    <tr>\n",
       "      <th>3</th>\n",
       "      <td>2022</td>\n",
       "      <td>MI</td>\n",
       "      <td>FT</td>\n",
       "      <td>IT Security Analyst</td>\n",
       "      <td>250000</td>\n",
       "      <td>BRL</td>\n",
       "      <td>48853</td>\n",
       "      <td>BR</td>\n",
       "      <td>50</td>\n",
       "      <td>BR</td>\n",
       "      <td>L</td>\n",
       "    </tr>\n",
       "    <tr>\n",
       "      <th>4</th>\n",
       "      <td>2022</td>\n",
       "      <td>EN</td>\n",
       "      <td>CT</td>\n",
       "      <td>Cyber Security Analyst</td>\n",
       "      <td>120000</td>\n",
       "      <td>USD</td>\n",
       "      <td>120000</td>\n",
       "      <td>BW</td>\n",
       "      <td>100</td>\n",
       "      <td>BW</td>\n",
       "      <td>S</td>\n",
       "    </tr>\n",
       "  </tbody>\n",
       "</table>\n",
       "</div>"
      ],
      "text/plain": [
       "   work_year experience_level employment_type               job_title  salary  \\\n",
       "0       2022               EN              FT   Cyber Program Manager   63000   \n",
       "1       2022               MI              FT        Security Analyst   95000   \n",
       "2       2022               MI              FT        Security Analyst   70000   \n",
       "3       2022               MI              FT     IT Security Analyst  250000   \n",
       "4       2022               EN              CT  Cyber Security Analyst  120000   \n",
       "\n",
       "  salary_currency  salary_in_usd employee_residence  remote_ratio  \\\n",
       "0             USD          63000                 US            50   \n",
       "1             USD          95000                 US             0   \n",
       "2             USD          70000                 US             0   \n",
       "3             BRL          48853                 BR            50   \n",
       "4             USD         120000                 BW           100   \n",
       "\n",
       "  company_location company_size  \n",
       "0               US            S  \n",
       "1               US            M  \n",
       "2               US            M  \n",
       "3               BR            L  \n",
       "4               BW            S  "
      ]
     },
     "execution_count": 7,
     "metadata": {},
     "output_type": "execute_result"
    }
   ],
   "source": [
    "data.head()"
   ]
  },
  {
   "cell_type": "code",
   "execution_count": 8,
   "metadata": {
    "execution": {
     "iopub.execute_input": "2022-08-13T12:04:51.687817Z",
     "iopub.status.busy": "2022-08-13T12:04:51.687416Z",
     "iopub.status.idle": "2022-08-13T12:04:51.702307Z",
     "shell.execute_reply": "2022-08-13T12:04:51.701732Z"
    },
    "papermill": {
     "duration": 0.026667,
     "end_time": "2022-08-13T12:04:51.703986",
     "exception": false,
     "start_time": "2022-08-13T12:04:51.677319",
     "status": "completed"
    },
    "tags": []
   },
   "outputs": [
    {
     "name": "stdout",
     "output_type": "stream",
     "text": [
      "<class 'pandas.core.frame.DataFrame'>\n",
      "RangeIndex: 1247 entries, 0 to 1246\n",
      "Data columns (total 11 columns):\n",
      " #   Column              Non-Null Count  Dtype \n",
      "---  ------              --------------  ----- \n",
      " 0   work_year           1247 non-null   int64 \n",
      " 1   experience_level    1247 non-null   object\n",
      " 2   employment_type     1247 non-null   object\n",
      " 3   job_title           1247 non-null   object\n",
      " 4   salary              1247 non-null   int64 \n",
      " 5   salary_currency     1247 non-null   object\n",
      " 6   salary_in_usd       1247 non-null   int64 \n",
      " 7   employee_residence  1247 non-null   object\n",
      " 8   remote_ratio        1247 non-null   int64 \n",
      " 9   company_location    1247 non-null   object\n",
      " 10  company_size        1247 non-null   object\n",
      "dtypes: int64(4), object(7)\n",
      "memory usage: 107.3+ KB\n"
     ]
    }
   ],
   "source": [
    "data.info()"
   ]
  },
  {
   "cell_type": "code",
   "execution_count": 9,
   "metadata": {
    "execution": {
     "iopub.execute_input": "2022-08-13T12:04:51.723156Z",
     "iopub.status.busy": "2022-08-13T12:04:51.722259Z",
     "iopub.status.idle": "2022-08-13T12:04:51.729469Z",
     "shell.execute_reply": "2022-08-13T12:04:51.728874Z"
    },
    "papermill": {
     "duration": 0.018537,
     "end_time": "2022-08-13T12:04:51.731158",
     "exception": false,
     "start_time": "2022-08-13T12:04:51.712621",
     "status": "completed"
    },
    "tags": []
   },
   "outputs": [
    {
     "data": {
      "text/plain": [
       "work_year             0\n",
       "experience_level      0\n",
       "employment_type       0\n",
       "job_title             0\n",
       "salary                0\n",
       "salary_currency       0\n",
       "salary_in_usd         0\n",
       "employee_residence    0\n",
       "remote_ratio          0\n",
       "company_location      0\n",
       "company_size          0\n",
       "dtype: int64"
      ]
     },
     "execution_count": 9,
     "metadata": {},
     "output_type": "execute_result"
    }
   ],
   "source": [
    "data.isnull().sum()"
   ]
  },
  {
   "cell_type": "code",
   "execution_count": 10,
   "metadata": {
    "execution": {
     "iopub.execute_input": "2022-08-13T12:04:51.750498Z",
     "iopub.status.busy": "2022-08-13T12:04:51.749617Z",
     "iopub.status.idle": "2022-08-13T12:04:51.756999Z",
     "shell.execute_reply": "2022-08-13T12:04:51.756088Z"
    },
    "papermill": {
     "duration": 0.019125,
     "end_time": "2022-08-13T12:04:51.758912",
     "exception": false,
     "start_time": "2022-08-13T12:04:51.739787",
     "status": "completed"
    },
    "tags": []
   },
   "outputs": [
    {
     "data": {
      "text/plain": [
       "85"
      ]
     },
     "execution_count": 10,
     "metadata": {},
     "output_type": "execute_result"
    }
   ],
   "source": [
    "data.duplicated().sum()\n"
   ]
  },
  {
   "cell_type": "markdown",
   "metadata": {
    "papermill": {
     "duration": 0.008178,
     "end_time": "2022-08-13T12:04:51.775624",
     "exception": false,
     "start_time": "2022-08-13T12:04:51.767446",
     "status": "completed"
    },
    "tags": []
   },
   "source": [
    "Duplicated rows are present."
   ]
  },
  {
   "cell_type": "code",
   "execution_count": 11,
   "metadata": {
    "execution": {
     "iopub.execute_input": "2022-08-13T12:04:51.794344Z",
     "iopub.status.busy": "2022-08-13T12:04:51.793810Z",
     "iopub.status.idle": "2022-08-13T12:04:51.805017Z",
     "shell.execute_reply": "2022-08-13T12:04:51.804050Z"
    },
    "papermill": {
     "duration": 0.022654,
     "end_time": "2022-08-13T12:04:51.806579",
     "exception": false,
     "start_time": "2022-08-13T12:04:51.783925",
     "status": "completed"
    },
    "tags": []
   },
   "outputs": [
    {
     "data": {
      "text/html": [
       "<div>\n",
       "<style scoped>\n",
       "    .dataframe tbody tr th:only-of-type {\n",
       "        vertical-align: middle;\n",
       "    }\n",
       "\n",
       "    .dataframe tbody tr th {\n",
       "        vertical-align: top;\n",
       "    }\n",
       "\n",
       "    .dataframe thead th {\n",
       "        text-align: right;\n",
       "    }\n",
       "</style>\n",
       "<table border=\"1\" class=\"dataframe\">\n",
       "  <thead>\n",
       "    <tr style=\"text-align: right;\">\n",
       "      <th></th>\n",
       "      <th>work_year</th>\n",
       "      <th>salary</th>\n",
       "      <th>salary_in_usd</th>\n",
       "      <th>remote_ratio</th>\n",
       "    </tr>\n",
       "  </thead>\n",
       "  <tbody>\n",
       "    <tr>\n",
       "      <th>work_year</th>\n",
       "      <td>1.000000</td>\n",
       "      <td>0.027042</td>\n",
       "      <td>0.184246</td>\n",
       "      <td>0.135720</td>\n",
       "    </tr>\n",
       "    <tr>\n",
       "      <th>salary</th>\n",
       "      <td>0.027042</td>\n",
       "      <td>1.000000</td>\n",
       "      <td>-0.033166</td>\n",
       "      <td>0.019112</td>\n",
       "    </tr>\n",
       "    <tr>\n",
       "      <th>salary_in_usd</th>\n",
       "      <td>0.184246</td>\n",
       "      <td>-0.033166</td>\n",
       "      <td>1.000000</td>\n",
       "      <td>0.174523</td>\n",
       "    </tr>\n",
       "    <tr>\n",
       "      <th>remote_ratio</th>\n",
       "      <td>0.135720</td>\n",
       "      <td>0.019112</td>\n",
       "      <td>0.174523</td>\n",
       "      <td>1.000000</td>\n",
       "    </tr>\n",
       "  </tbody>\n",
       "</table>\n",
       "</div>"
      ],
      "text/plain": [
       "               work_year    salary  salary_in_usd  remote_ratio\n",
       "work_year       1.000000  0.027042       0.184246      0.135720\n",
       "salary          0.027042  1.000000      -0.033166      0.019112\n",
       "salary_in_usd   0.184246 -0.033166       1.000000      0.174523\n",
       "remote_ratio    0.135720  0.019112       0.174523      1.000000"
      ]
     },
     "execution_count": 11,
     "metadata": {},
     "output_type": "execute_result"
    }
   ],
   "source": [
    "data.corr()"
   ]
  },
  {
   "cell_type": "markdown",
   "metadata": {
    "papermill": {
     "duration": 0.008274,
     "end_time": "2022-08-13T12:04:51.823378",
     "exception": false,
     "start_time": "2022-08-13T12:04:51.815104",
     "status": "completed"
    },
    "tags": []
   },
   "source": [
    "Not a lot can be said from correlation."
   ]
  },
  {
   "cell_type": "markdown",
   "metadata": {
    "papermill": {
     "duration": 0.00842,
     "end_time": "2022-08-13T12:04:51.840241",
     "exception": false,
     "start_time": "2022-08-13T12:04:51.831821",
     "status": "completed"
    },
    "tags": []
   },
   "source": [
    "# ***Expeience Level***\n",
    "\n",
    "******"
   ]
  },
  {
   "cell_type": "code",
   "execution_count": 12,
   "metadata": {
    "execution": {
     "iopub.execute_input": "2022-08-13T12:04:51.859930Z",
     "iopub.status.busy": "2022-08-13T12:04:51.858994Z",
     "iopub.status.idle": "2022-08-13T12:04:52.027017Z",
     "shell.execute_reply": "2022-08-13T12:04:52.025267Z"
    },
    "papermill": {
     "duration": 0.180268,
     "end_time": "2022-08-13T12:04:52.029294",
     "exception": false,
     "start_time": "2022-08-13T12:04:51.849026",
     "status": "completed"
    },
    "tags": []
   },
   "outputs": [
    {
     "data": {
      "image/png": "[encoded data removed]",
      "text/plain": [
       "<Figure size 432x288 with 1 Axes>"
      ]
     },
     "metadata": {
      "needs_background": "light"
     },
     "output_type": "display_data"
    }
   ],
   "source": [
    "# labels = ['Entry Level','Mid Level','Executive Level','Senior Level']\n",
    "ax=sns.countplot(x=data['experience_level'])\n",
    "ax.set_title(\"Expereince Level\",fontsize = 20, fontweight='bold')\n",
    "ax.set_xlabel(\"Level\")\n",
    "ax.set_ylabel(\"Count\")\n",
    "plt.show()\n"
   ]
  },
  {
   "cell_type": "markdown",
   "metadata": {
    "papermill": {
     "duration": 0.008611,
     "end_time": "2022-08-13T12:04:52.046895",
     "exception": false,
     "start_time": "2022-08-13T12:04:52.038284",
     "status": "completed"
    },
    "tags": []
   },
   "source": [
    "# ***Employment Title***\n",
    "******"
   ]
  },
  {
   "cell_type": "code",
   "execution_count": 13,
   "metadata": {
    "execution": {
     "iopub.execute_input": "2022-08-13T12:04:52.066498Z",
     "iopub.status.busy": "2022-08-13T12:04:52.065873Z",
     "iopub.status.idle": "2022-08-13T12:04:52.195436Z",
     "shell.execute_reply": "2022-08-13T12:04:52.194744Z"
    },
    "papermill": {
     "duration": 0.141512,
     "end_time": "2022-08-13T12:04:52.197422",
     "exception": false,
     "start_time": "2022-08-13T12:04:52.055910",
     "status": "completed"
    },
    "tags": []
   },
   "outputs": [
    {
     "data": {
      "image/png": "[encoded data removed]",
      "text/plain": [
       "<Figure size 432x288 with 1 Axes>"
      ]
     },
     "metadata": {
      "needs_background": "light"
     },
     "output_type": "display_data"
    }
   ],
   "source": [
    "ax=data['employment_type'].value_counts().plot(kind='bar')\n",
    "ax.set_title(\"Employment Tilte\",fontsize = 20, fontweight='bold')\n",
    "plt.show()"
   ]
  },
  {
   "cell_type": "markdown",
   "metadata": {
    "papermill": {
     "duration": 0.012979,
     "end_time": "2022-08-13T12:04:52.222602",
     "exception": false,
     "start_time": "2022-08-13T12:04:52.209623",
     "status": "completed"
    },
    "tags": []
   },
   "source": [
    "# **Analysis Of Job Titles**\n",
    "\n",
    "***I have created a data frame job which consist of the unique job titles along with the count.\n",
    "Count plot is plotted with accordance to the top 10 rows of this dataframe.\n",
    "Job titles may vary accordingly according to their respective companies so the analysis may not be perfect !***\n",
    "\n",
    "******"
   ]
  },
  {
   "cell_type": "code",
   "execution_count": 14,
   "metadata": {
    "execution": {
     "iopub.execute_input": "2022-08-13T12:04:52.242215Z",
     "iopub.status.busy": "2022-08-13T12:04:52.241868Z",
     "iopub.status.idle": "2022-08-13T12:04:52.254997Z",
     "shell.execute_reply": "2022-08-13T12:04:52.254209Z"
    },
    "papermill": {
     "duration": 0.025307,
     "end_time": "2022-08-13T12:04:52.257280",
     "exception": false,
     "start_time": "2022-08-13T12:04:52.231973",
     "status": "completed"
    },
    "tags": []
   },
   "outputs": [
    {
     "data": {
      "text/html": [
       "<div>\n",
       "<style scoped>\n",
       "    .dataframe tbody tr th:only-of-type {\n",
       "        vertical-align: middle;\n",
       "    }\n",
       "\n",
       "    .dataframe tbody tr th {\n",
       "        vertical-align: top;\n",
       "    }\n",
       "\n",
       "    .dataframe thead th {\n",
       "        text-align: right;\n",
       "    }\n",
       "</style>\n",
       "<table border=\"1\" class=\"dataframe\">\n",
       "  <thead>\n",
       "    <tr style=\"text-align: right;\">\n",
       "      <th></th>\n",
       "      <th>job_title</th>\n",
       "      <th>count</th>\n",
       "    </tr>\n",
       "  </thead>\n",
       "  <tbody>\n",
       "    <tr>\n",
       "      <th>68</th>\n",
       "      <td>Security Engineer</td>\n",
       "      <td>194</td>\n",
       "    </tr>\n",
       "    <tr>\n",
       "      <th>14</th>\n",
       "      <td>Cyber Security Analyst</td>\n",
       "      <td>133</td>\n",
       "    </tr>\n",
       "    <tr>\n",
       "      <th>57</th>\n",
       "      <td>Penetration Tester</td>\n",
       "      <td>70</td>\n",
       "    </tr>\n",
       "    <tr>\n",
       "      <th>46</th>\n",
       "      <td>Information Security Manager</td>\n",
       "      <td>64</td>\n",
       "    </tr>\n",
       "    <tr>\n",
       "      <th>17</th>\n",
       "      <td>Cyber Security Engineer</td>\n",
       "      <td>63</td>\n",
       "    </tr>\n",
       "    <tr>\n",
       "      <th>65</th>\n",
       "      <td>Security Analyst</td>\n",
       "      <td>47</td>\n",
       "    </tr>\n",
       "    <tr>\n",
       "      <th>40</th>\n",
       "      <td>Information Security Analyst</td>\n",
       "      <td>39</td>\n",
       "    </tr>\n",
       "    <tr>\n",
       "      <th>19</th>\n",
       "      <td>Cyber Security Specialist</td>\n",
       "      <td>31</td>\n",
       "    </tr>\n",
       "    <tr>\n",
       "      <th>22</th>\n",
       "      <td>Cyber Threat Intelligence Analyst</td>\n",
       "      <td>29</td>\n",
       "    </tr>\n",
       "    <tr>\n",
       "      <th>64</th>\n",
       "      <td>SOC Analyst</td>\n",
       "      <td>28</td>\n",
       "    </tr>\n",
       "  </tbody>\n",
       "</table>\n",
       "</div>"
      ],
      "text/plain": [
       "                            job_title  count\n",
       "68                  Security Engineer    194\n",
       "14             Cyber Security Analyst    133\n",
       "57                 Penetration Tester     70\n",
       "46       Information Security Manager     64\n",
       "17            Cyber Security Engineer     63\n",
       "65                   Security Analyst     47\n",
       "40       Information Security Analyst     39\n",
       "19          Cyber Security Specialist     31\n",
       "22  Cyber Threat Intelligence Analyst     29\n",
       "64                        SOC Analyst     28"
      ]
     },
     "execution_count": 14,
     "metadata": {},
     "output_type": "execute_result"
    }
   ],
   "source": [
    "data1=data.groupby(data['job_title'])['job_title'].count()\n",
    "job=pd.DataFrame({'job_title':data1.index, 'count':data1.values})\n",
    "job = job.sort_values(by=['count'], ascending=False).iloc[0:10]\n",
    "job"
   ]
  },
  {
   "cell_type": "code",
   "execution_count": 15,
   "metadata": {
    "execution": {
     "iopub.execute_input": "2022-08-13T12:04:52.278436Z",
     "iopub.status.busy": "2022-08-13T12:04:52.278077Z",
     "iopub.status.idle": "2022-08-13T12:04:52.432348Z",
     "shell.execute_reply": "2022-08-13T12:04:52.431576Z"
    },
    "papermill": {
     "duration": 0.166532,
     "end_time": "2022-08-13T12:04:52.434463",
     "exception": false,
     "start_time": "2022-08-13T12:04:52.267931",
     "status": "completed"
    },
    "tags": []
   },
   "outputs": [
    {
     "data": {
      "image/png": "[encoded data removed]",
      "text/plain": [
       "<Figure size 720x504 with 1 Axes>"
      ]
     },
     "metadata": {},
     "output_type": "display_data"
    }
   ],
   "source": [
    "labels=job['job_title']\n",
    "y=job['count']\n",
    "fig = plt.figure(figsize =(10, 7))\n",
    "plt.pie(y,labels=labels,autopct='%.2f')\n",
    "plt.show()\n"
   ]
  },
  {
   "cell_type": "markdown",
   "metadata": {
    "papermill": {
     "duration": 0.01417,
     "end_time": "2022-08-13T12:04:52.462859",
     "exception": false,
     "start_time": "2022-08-13T12:04:52.448689",
     "status": "completed"
    },
    "tags": []
   },
   "source": [
    "# **Analysis Of Salary**\n",
    "\n",
    "***To visualize the salary of every country is difficut...so  i have considered the mean salry in USD of each country in the dataset.\n",
    "A dataframe salary is created and plotted.***\n",
    "\n",
    "******"
   ]
  },
  {
   "cell_type": "code",
   "execution_count": 16,
   "metadata": {
    "execution": {
     "iopub.execute_input": "2022-08-13T12:04:52.492197Z",
     "iopub.status.busy": "2022-08-13T12:04:52.491890Z",
     "iopub.status.idle": "2022-08-13T12:04:52.505933Z",
     "shell.execute_reply": "2022-08-13T12:04:52.505027Z"
    },
    "papermill": {
     "duration": 0.030784,
     "end_time": "2022-08-13T12:04:52.507675",
     "exception": false,
     "start_time": "2022-08-13T12:04:52.476891",
     "status": "completed"
    },
    "tags": []
   },
   "outputs": [
    {
     "data": {
      "text/html": [
       "<div>\n",
       "<style scoped>\n",
       "    .dataframe tbody tr th:only-of-type {\n",
       "        vertical-align: middle;\n",
       "    }\n",
       "\n",
       "    .dataframe tbody tr th {\n",
       "        vertical-align: top;\n",
       "    }\n",
       "\n",
       "    .dataframe thead th {\n",
       "        text-align: right;\n",
       "    }\n",
       "</style>\n",
       "<table border=\"1\" class=\"dataframe\">\n",
       "  <thead>\n",
       "    <tr style=\"text-align: right;\">\n",
       "      <th></th>\n",
       "      <th>salary</th>\n",
       "      <th>salary_currency</th>\n",
       "      <th>salary_in_usd</th>\n",
       "      <th>employee_residence</th>\n",
       "    </tr>\n",
       "  </thead>\n",
       "  <tbody>\n",
       "    <tr>\n",
       "      <th>0</th>\n",
       "      <td>63000</td>\n",
       "      <td>USD</td>\n",
       "      <td>63000</td>\n",
       "      <td>US</td>\n",
       "    </tr>\n",
       "    <tr>\n",
       "      <th>1</th>\n",
       "      <td>95000</td>\n",
       "      <td>USD</td>\n",
       "      <td>95000</td>\n",
       "      <td>US</td>\n",
       "    </tr>\n",
       "    <tr>\n",
       "      <th>2</th>\n",
       "      <td>70000</td>\n",
       "      <td>USD</td>\n",
       "      <td>70000</td>\n",
       "      <td>US</td>\n",
       "    </tr>\n",
       "    <tr>\n",
       "      <th>3</th>\n",
       "      <td>250000</td>\n",
       "      <td>BRL</td>\n",
       "      <td>48853</td>\n",
       "      <td>BR</td>\n",
       "    </tr>\n",
       "    <tr>\n",
       "      <th>4</th>\n",
       "      <td>120000</td>\n",
       "      <td>USD</td>\n",
       "      <td>120000</td>\n",
       "      <td>BW</td>\n",
       "    </tr>\n",
       "    <tr>\n",
       "      <th>...</th>\n",
       "      <td>...</td>\n",
       "      <td>...</td>\n",
       "      <td>...</td>\n",
       "      <td>...</td>\n",
       "    </tr>\n",
       "    <tr>\n",
       "      <th>1242</th>\n",
       "      <td>140000</td>\n",
       "      <td>AUD</td>\n",
       "      <td>96422</td>\n",
       "      <td>AU</td>\n",
       "    </tr>\n",
       "    <tr>\n",
       "      <th>1243</th>\n",
       "      <td>60000</td>\n",
       "      <td>GBP</td>\n",
       "      <td>82528</td>\n",
       "      <td>GB</td>\n",
       "    </tr>\n",
       "    <tr>\n",
       "      <th>1244</th>\n",
       "      <td>126000</td>\n",
       "      <td>USD</td>\n",
       "      <td>126000</td>\n",
       "      <td>US</td>\n",
       "    </tr>\n",
       "    <tr>\n",
       "      <th>1245</th>\n",
       "      <td>42000</td>\n",
       "      <td>GBP</td>\n",
       "      <td>57769</td>\n",
       "      <td>GB</td>\n",
       "    </tr>\n",
       "    <tr>\n",
       "      <th>1246</th>\n",
       "      <td>66310</td>\n",
       "      <td>USD</td>\n",
       "      <td>66310</td>\n",
       "      <td>US</td>\n",
       "    </tr>\n",
       "  </tbody>\n",
       "</table>\n",
       "<p>1247 rows × 4 columns</p>\n",
       "</div>"
      ],
      "text/plain": [
       "      salary salary_currency  salary_in_usd employee_residence\n",
       "0      63000             USD          63000                 US\n",
       "1      95000             USD          95000                 US\n",
       "2      70000             USD          70000                 US\n",
       "3     250000             BRL          48853                 BR\n",
       "4     120000             USD         120000                 BW\n",
       "...      ...             ...            ...                ...\n",
       "1242  140000             AUD          96422                 AU\n",
       "1243   60000             GBP          82528                 GB\n",
       "1244  126000             USD         126000                 US\n",
       "1245   42000             GBP          57769                 GB\n",
       "1246   66310             USD          66310                 US\n",
       "\n",
       "[1247 rows x 4 columns]"
      ]
     },
     "execution_count": 16,
     "metadata": {},
     "output_type": "execute_result"
    }
   ],
   "source": [
    "data.iloc[:,4:8]"
   ]
  },
  {
   "cell_type": "code",
   "execution_count": 17,
   "metadata": {
    "execution": {
     "iopub.execute_input": "2022-08-13T12:04:52.531798Z",
     "iopub.status.busy": "2022-08-13T12:04:52.531091Z",
     "iopub.status.idle": "2022-08-13T12:04:52.547463Z",
     "shell.execute_reply": "2022-08-13T12:04:52.545648Z"
    },
    "papermill": {
     "duration": 0.031912,
     "end_time": "2022-08-13T12:04:52.550101",
     "exception": false,
     "start_time": "2022-08-13T12:04:52.518189",
     "status": "completed"
    },
    "tags": []
   },
   "outputs": [
    {
     "data": {
      "text/html": [
       "<div>\n",
       "<style scoped>\n",
       "    .dataframe tbody tr th:only-of-type {\n",
       "        vertical-align: middle;\n",
       "    }\n",
       "\n",
       "    .dataframe tbody tr th {\n",
       "        vertical-align: top;\n",
       "    }\n",
       "\n",
       "    .dataframe thead th {\n",
       "        text-align: right;\n",
       "    }\n",
       "</style>\n",
       "<table border=\"1\" class=\"dataframe\">\n",
       "  <thead>\n",
       "    <tr style=\"text-align: right;\">\n",
       "      <th></th>\n",
       "      <th>country</th>\n",
       "      <th>mean_in_usd</th>\n",
       "    </tr>\n",
       "  </thead>\n",
       "  <tbody>\n",
       "    <tr>\n",
       "      <th>15</th>\n",
       "      <td>RUB</td>\n",
       "      <td>2764.000000</td>\n",
       "    </tr>\n",
       "    <tr>\n",
       "      <th>18</th>\n",
       "      <td>TWD</td>\n",
       "      <td>11812.000000</td>\n",
       "    </tr>\n",
       "    <tr>\n",
       "      <th>10</th>\n",
       "      <td>INR</td>\n",
       "      <td>17838.565217</td>\n",
       "    </tr>\n",
       "    <tr>\n",
       "      <th>11</th>\n",
       "      <td>MXN</td>\n",
       "      <td>23001.000000</td>\n",
       "    </tr>\n",
       "    <tr>\n",
       "      <th>7</th>\n",
       "      <td>HUF</td>\n",
       "      <td>34018.000000</td>\n",
       "    </tr>\n",
       "    <tr>\n",
       "      <th>8</th>\n",
       "      <td>IDR</td>\n",
       "      <td>34432.000000</td>\n",
       "    </tr>\n",
       "    <tr>\n",
       "      <th>20</th>\n",
       "      <td>ZAR</td>\n",
       "      <td>39944.666667</td>\n",
       "    </tr>\n",
       "    <tr>\n",
       "      <th>1</th>\n",
       "      <td>BRL</td>\n",
       "      <td>46786.416667</td>\n",
       "    </tr>\n",
       "    <tr>\n",
       "      <th>17</th>\n",
       "      <td>SGD</td>\n",
       "      <td>49111.500000</td>\n",
       "    </tr>\n",
       "    <tr>\n",
       "      <th>16</th>\n",
       "      <td>SEK</td>\n",
       "      <td>52701.000000</td>\n",
       "    </tr>\n",
       "    <tr>\n",
       "      <th>14</th>\n",
       "      <td>PLN</td>\n",
       "      <td>59563.500000</td>\n",
       "    </tr>\n",
       "    <tr>\n",
       "      <th>4</th>\n",
       "      <td>DKK</td>\n",
       "      <td>64254.000000</td>\n",
       "    </tr>\n",
       "    <tr>\n",
       "      <th>12</th>\n",
       "      <td>NOK</td>\n",
       "      <td>75658.000000</td>\n",
       "    </tr>\n",
       "    <tr>\n",
       "      <th>13</th>\n",
       "      <td>NZD</td>\n",
       "      <td>78282.800000</td>\n",
       "    </tr>\n",
       "    <tr>\n",
       "      <th>5</th>\n",
       "      <td>EUR</td>\n",
       "      <td>78966.220472</td>\n",
       "    </tr>\n",
       "    <tr>\n",
       "      <th>2</th>\n",
       "      <td>CAD</td>\n",
       "      <td>92338.230769</td>\n",
       "    </tr>\n",
       "    <tr>\n",
       "      <th>6</th>\n",
       "      <td>GBP</td>\n",
       "      <td>106610.482143</td>\n",
       "    </tr>\n",
       "    <tr>\n",
       "      <th>0</th>\n",
       "      <td>AUD</td>\n",
       "      <td>115419.055556</td>\n",
       "    </tr>\n",
       "    <tr>\n",
       "      <th>3</th>\n",
       "      <td>CHF</td>\n",
       "      <td>130444.555556</td>\n",
       "    </tr>\n",
       "    <tr>\n",
       "      <th>9</th>\n",
       "      <td>ILS</td>\n",
       "      <td>132201.000000</td>\n",
       "    </tr>\n",
       "    <tr>\n",
       "      <th>19</th>\n",
       "      <td>USD</td>\n",
       "      <td>133249.092077</td>\n",
       "    </tr>\n",
       "  </tbody>\n",
       "</table>\n",
       "</div>"
      ],
      "text/plain": [
       "   country    mean_in_usd\n",
       "15     RUB    2764.000000\n",
       "18     TWD   11812.000000\n",
       "10     INR   17838.565217\n",
       "11     MXN   23001.000000\n",
       "7      HUF   34018.000000\n",
       "8      IDR   34432.000000\n",
       "20     ZAR   39944.666667\n",
       "1      BRL   46786.416667\n",
       "17     SGD   49111.500000\n",
       "16     SEK   52701.000000\n",
       "14     PLN   59563.500000\n",
       "4      DKK   64254.000000\n",
       "12     NOK   75658.000000\n",
       "13     NZD   78282.800000\n",
       "5      EUR   78966.220472\n",
       "2      CAD   92338.230769\n",
       "6      GBP  106610.482143\n",
       "0      AUD  115419.055556\n",
       "3      CHF  130444.555556\n",
       "9      ILS  132201.000000\n",
       "19     USD  133249.092077"
      ]
     },
     "execution_count": 17,
     "metadata": {},
     "output_type": "execute_result"
    }
   ],
   "source": [
    "data2 = data.groupby(data['salary_currency'])['salary_in_usd'].mean()\n",
    "salary = pd.DataFrame({'country':data2.index, 'mean_in_usd':data2.values})\n",
    "salary=salary.sort_values(by=['mean_in_usd'])\n",
    "salary"
   ]
  },
  {
   "cell_type": "code",
   "execution_count": 18,
   "metadata": {
    "execution": {
     "iopub.execute_input": "2022-08-13T12:04:52.572783Z",
     "iopub.status.busy": "2022-08-13T12:04:52.572470Z",
     "iopub.status.idle": "2022-08-13T12:04:52.833689Z",
     "shell.execute_reply": "2022-08-13T12:04:52.832171Z"
    },
    "papermill": {
     "duration": 0.274851,
     "end_time": "2022-08-13T12:04:52.836222",
     "exception": false,
     "start_time": "2022-08-13T12:04:52.561371",
     "status": "completed"
    },
    "tags": []
   },
   "outputs": [
    {
     "data": {
      "image/png": "[encoded data removed]",
      "text/plain": [
       "<Figure size 1440x720 with 1 Axes>"
      ]
     },
     "metadata": {
      "needs_background": "light"
     },
     "output_type": "display_data"
    }
   ],
   "source": [
    "x=salary['country']\n",
    "y=salary['mean_in_usd']\n",
    "fig = plt.figure(figsize =(20,10))\n",
    "plt.bar(x,y)\n",
    "plt.xlabel(\"Country\",fontsize = 20, )\n",
    "plt.ylabel(\"Mean salary in USD\",fontsize = 20)\n",
    "plt.title(\"Mean Salary in USD in each Country\",fontsize = 20, fontweight='bold')\n",
    "plt.show()\n"
   ]
  },
  {
   "cell_type": "markdown",
   "metadata": {
    "papermill": {
     "duration": 0.011234,
     "end_time": "2022-08-13T12:04:52.858754",
     "exception": false,
     "start_time": "2022-08-13T12:04:52.847520",
     "status": "completed"
    },
    "tags": []
   },
   "source": [
    "# ***Analysis of Salary In USA***\n",
    "\n",
    "***It is much better to analyse the salary in a particular country rather than in a group***\n",
    "\n",
    "******"
   ]
  },
  {
   "cell_type": "code",
   "execution_count": 19,
   "metadata": {
    "execution": {
     "iopub.execute_input": "2022-08-13T12:04:52.884233Z",
     "iopub.status.busy": "2022-08-13T12:04:52.883687Z",
     "iopub.status.idle": "2022-08-13T12:04:52.896030Z",
     "shell.execute_reply": "2022-08-13T12:04:52.895158Z"
    },
    "papermill": {
     "duration": 0.027212,
     "end_time": "2022-08-13T12:04:52.897821",
     "exception": false,
     "start_time": "2022-08-13T12:04:52.870609",
     "status": "completed"
    },
    "tags": []
   },
   "outputs": [
    {
     "data": {
      "text/html": [
       "<div>\n",
       "<style scoped>\n",
       "    .dataframe tbody tr th:only-of-type {\n",
       "        vertical-align: middle;\n",
       "    }\n",
       "\n",
       "    .dataframe tbody tr th {\n",
       "        vertical-align: top;\n",
       "    }\n",
       "\n",
       "    .dataframe thead th {\n",
       "        text-align: right;\n",
       "    }\n",
       "</style>\n",
       "<table border=\"1\" class=\"dataframe\">\n",
       "  <thead>\n",
       "    <tr style=\"text-align: right;\">\n",
       "      <th></th>\n",
       "      <th>work_year</th>\n",
       "      <th>experience_level</th>\n",
       "      <th>employment_type</th>\n",
       "      <th>job_title</th>\n",
       "      <th>salary</th>\n",
       "      <th>salary_currency</th>\n",
       "      <th>salary_in_usd</th>\n",
       "      <th>employee_residence</th>\n",
       "      <th>remote_ratio</th>\n",
       "      <th>company_location</th>\n",
       "      <th>company_size</th>\n",
       "    </tr>\n",
       "  </thead>\n",
       "  <tbody>\n",
       "    <tr>\n",
       "      <th>0</th>\n",
       "      <td>2022</td>\n",
       "      <td>EN</td>\n",
       "      <td>FT</td>\n",
       "      <td>Cyber Program Manager</td>\n",
       "      <td>63000</td>\n",
       "      <td>USD</td>\n",
       "      <td>63000</td>\n",
       "      <td>US</td>\n",
       "      <td>50</td>\n",
       "      <td>US</td>\n",
       "      <td>S</td>\n",
       "    </tr>\n",
       "    <tr>\n",
       "      <th>1</th>\n",
       "      <td>2022</td>\n",
       "      <td>MI</td>\n",
       "      <td>FT</td>\n",
       "      <td>Security Analyst</td>\n",
       "      <td>95000</td>\n",
       "      <td>USD</td>\n",
       "      <td>95000</td>\n",
       "      <td>US</td>\n",
       "      <td>0</td>\n",
       "      <td>US</td>\n",
       "      <td>M</td>\n",
       "    </tr>\n",
       "    <tr>\n",
       "      <th>2</th>\n",
       "      <td>2022</td>\n",
       "      <td>MI</td>\n",
       "      <td>FT</td>\n",
       "      <td>Security Analyst</td>\n",
       "      <td>70000</td>\n",
       "      <td>USD</td>\n",
       "      <td>70000</td>\n",
       "      <td>US</td>\n",
       "      <td>0</td>\n",
       "      <td>US</td>\n",
       "      <td>M</td>\n",
       "    </tr>\n",
       "    <tr>\n",
       "      <th>3</th>\n",
       "      <td>2022</td>\n",
       "      <td>MI</td>\n",
       "      <td>FT</td>\n",
       "      <td>IT Security Analyst</td>\n",
       "      <td>250000</td>\n",
       "      <td>BRL</td>\n",
       "      <td>48853</td>\n",
       "      <td>BR</td>\n",
       "      <td>50</td>\n",
       "      <td>BR</td>\n",
       "      <td>L</td>\n",
       "    </tr>\n",
       "    <tr>\n",
       "      <th>4</th>\n",
       "      <td>2022</td>\n",
       "      <td>EN</td>\n",
       "      <td>CT</td>\n",
       "      <td>Cyber Security Analyst</td>\n",
       "      <td>120000</td>\n",
       "      <td>USD</td>\n",
       "      <td>120000</td>\n",
       "      <td>BW</td>\n",
       "      <td>100</td>\n",
       "      <td>BW</td>\n",
       "      <td>S</td>\n",
       "    </tr>\n",
       "  </tbody>\n",
       "</table>\n",
       "</div>"
      ],
      "text/plain": [
       "   work_year experience_level employment_type               job_title  salary  \\\n",
       "0       2022               EN              FT   Cyber Program Manager   63000   \n",
       "1       2022               MI              FT        Security Analyst   95000   \n",
       "2       2022               MI              FT        Security Analyst   70000   \n",
       "3       2022               MI              FT     IT Security Analyst  250000   \n",
       "4       2022               EN              CT  Cyber Security Analyst  120000   \n",
       "\n",
       "  salary_currency  salary_in_usd employee_residence  remote_ratio  \\\n",
       "0             USD          63000                 US            50   \n",
       "1             USD          95000                 US             0   \n",
       "2             USD          70000                 US             0   \n",
       "3             BRL          48853                 BR            50   \n",
       "4             USD         120000                 BW           100   \n",
       "\n",
       "  company_location company_size  \n",
       "0               US            S  \n",
       "1               US            M  \n",
       "2               US            M  \n",
       "3               BR            L  \n",
       "4               BW            S  "
      ]
     },
     "execution_count": 19,
     "metadata": {},
     "output_type": "execute_result"
    }
   ],
   "source": [
    "data.head()"
   ]
  },
  {
   "cell_type": "code",
   "execution_count": 20,
   "metadata": {
    "execution": {
     "iopub.execute_input": "2022-08-13T12:04:52.922067Z",
     "iopub.status.busy": "2022-08-13T12:04:52.921726Z",
     "iopub.status.idle": "2022-08-13T12:04:52.943389Z",
     "shell.execute_reply": "2022-08-13T12:04:52.942443Z"
    },
    "papermill": {
     "duration": 0.036154,
     "end_time": "2022-08-13T12:04:52.945386",
     "exception": false,
     "start_time": "2022-08-13T12:04:52.909232",
     "status": "completed"
    },
    "tags": []
   },
   "outputs": [
    {
     "data": {
      "text/html": [
       "<div>\n",
       "<style scoped>\n",
       "    .dataframe tbody tr th:only-of-type {\n",
       "        vertical-align: middle;\n",
       "    }\n",
       "\n",
       "    .dataframe tbody tr th {\n",
       "        vertical-align: top;\n",
       "    }\n",
       "\n",
       "    .dataframe thead th {\n",
       "        text-align: right;\n",
       "    }\n",
       "</style>\n",
       "<table border=\"1\" class=\"dataframe\">\n",
       "  <thead>\n",
       "    <tr style=\"text-align: right;\">\n",
       "      <th></th>\n",
       "      <th>work_year</th>\n",
       "      <th>salary</th>\n",
       "      <th>salary_in_usd</th>\n",
       "      <th>remote_ratio</th>\n",
       "    </tr>\n",
       "  </thead>\n",
       "  <tbody>\n",
       "    <tr>\n",
       "      <th>count</th>\n",
       "      <td>934.000000</td>\n",
       "      <td>934.000000</td>\n",
       "      <td>934.000000</td>\n",
       "      <td>934.000000</td>\n",
       "    </tr>\n",
       "    <tr>\n",
       "      <th>mean</th>\n",
       "      <td>2021.390792</td>\n",
       "      <td>133249.092077</td>\n",
       "      <td>133249.092077</td>\n",
       "      <td>72.269807</td>\n",
       "    </tr>\n",
       "    <tr>\n",
       "      <th>std</th>\n",
       "      <td>0.699380</td>\n",
       "      <td>64883.596992</td>\n",
       "      <td>64883.596992</td>\n",
       "      <td>39.919372</td>\n",
       "    </tr>\n",
       "    <tr>\n",
       "      <th>min</th>\n",
       "      <td>2020.000000</td>\n",
       "      <td>2000.000000</td>\n",
       "      <td>2000.000000</td>\n",
       "      <td>0.000000</td>\n",
       "    </tr>\n",
       "    <tr>\n",
       "      <th>25%</th>\n",
       "      <td>2021.000000</td>\n",
       "      <td>90000.000000</td>\n",
       "      <td>90000.000000</td>\n",
       "      <td>50.000000</td>\n",
       "    </tr>\n",
       "    <tr>\n",
       "      <th>50%</th>\n",
       "      <td>2022.000000</td>\n",
       "      <td>125000.000000</td>\n",
       "      <td>125000.000000</td>\n",
       "      <td>100.000000</td>\n",
       "    </tr>\n",
       "    <tr>\n",
       "      <th>75%</th>\n",
       "      <td>2022.000000</td>\n",
       "      <td>160080.000000</td>\n",
       "      <td>160080.000000</td>\n",
       "      <td>100.000000</td>\n",
       "    </tr>\n",
       "    <tr>\n",
       "      <th>max</th>\n",
       "      <td>2022.000000</td>\n",
       "      <td>600000.000000</td>\n",
       "      <td>600000.000000</td>\n",
       "      <td>100.000000</td>\n",
       "    </tr>\n",
       "  </tbody>\n",
       "</table>\n",
       "</div>"
      ],
      "text/plain": [
       "         work_year         salary  salary_in_usd  remote_ratio\n",
       "count   934.000000     934.000000     934.000000    934.000000\n",
       "mean   2021.390792  133249.092077  133249.092077     72.269807\n",
       "std       0.699380   64883.596992   64883.596992     39.919372\n",
       "min    2020.000000    2000.000000    2000.000000      0.000000\n",
       "25%    2021.000000   90000.000000   90000.000000     50.000000\n",
       "50%    2022.000000  125000.000000  125000.000000    100.000000\n",
       "75%    2022.000000  160080.000000  160080.000000    100.000000\n",
       "max    2022.000000  600000.000000  600000.000000    100.000000"
      ]
     },
     "execution_count": 20,
     "metadata": {},
     "output_type": "execute_result"
    }
   ],
   "source": [
    "us_salary=data[data['salary_currency']=='USD']\n",
    "us_salary.describe()"
   ]
  },
  {
   "cell_type": "code",
   "execution_count": 21,
   "metadata": {
    "execution": {
     "iopub.execute_input": "2022-08-13T12:04:52.970384Z",
     "iopub.status.busy": "2022-08-13T12:04:52.969352Z",
     "iopub.status.idle": "2022-08-13T12:04:53.175770Z",
     "shell.execute_reply": "2022-08-13T12:04:53.174718Z"
    },
    "papermill": {
     "duration": 0.221729,
     "end_time": "2022-08-13T12:04:53.178082",
     "exception": false,
     "start_time": "2022-08-13T12:04:52.956353",
     "status": "completed"
    },
    "tags": []
   },
   "outputs": [
    {
     "data": {
      "image/png": "[encoded data removed]",
      "text/plain": [
       "<Figure size 432x288 with 1 Axes>"
      ]
     },
     "metadata": {
      "needs_background": "light"
     },
     "output_type": "display_data"
    }
   ],
   "source": [
    "sns.histplot(x=us_salary['salary'])\n",
    "plt.title(\"Salary In USD\")\n",
    "plt.show()"
   ]
  },
  {
   "cell_type": "code",
   "execution_count": 22,
   "metadata": {
    "execution": {
     "iopub.execute_input": "2022-08-13T12:04:53.202218Z",
     "iopub.status.busy": "2022-08-13T12:04:53.201893Z",
     "iopub.status.idle": "2022-08-13T12:04:53.301132Z",
     "shell.execute_reply": "2022-08-13T12:04:53.300164Z"
    },
    "papermill": {
     "duration": 0.113719,
     "end_time": "2022-08-13T12:04:53.303167",
     "exception": false,
     "start_time": "2022-08-13T12:04:53.189448",
     "status": "completed"
    },
    "tags": []
   },
   "outputs": [
    {
     "data": {
      "image/png": "[encoded data removed]",
      "text/plain": [
       "<Figure size 432x288 with 1 Axes>"
      ]
     },
     "metadata": {
      "needs_background": "light"
     },
     "output_type": "display_data"
    }
   ],
   "source": [
    "sns.boxplot(x=us_salary['salary'])\n",
    "plt.show()"
   ]
  },
  {
   "cell_type": "markdown",
   "metadata": {
    "papermill": {
     "duration": 0.019719,
     "end_time": "2022-08-13T12:04:53.339617",
     "exception": false,
     "start_time": "2022-08-13T12:04:53.319898",
     "status": "completed"
    },
    "tags": []
   },
   "source": [
    "# ***Employee Residence***\n",
    "******"
   ]
  },
  {
   "cell_type": "code",
   "execution_count": 23,
   "metadata": {
    "execution": {
     "iopub.execute_input": "2022-08-13T12:04:53.370916Z",
     "iopub.status.busy": "2022-08-13T12:04:53.370588Z",
     "iopub.status.idle": "2022-08-13T12:04:54.227965Z",
     "shell.execute_reply": "2022-08-13T12:04:54.226874Z"
    },
    "papermill": {
     "duration": 0.876649,
     "end_time": "2022-08-13T12:04:54.229736",
     "exception": false,
     "start_time": "2022-08-13T12:04:53.353087",
     "status": "completed"
    },
    "tags": []
   },
   "outputs": [
    {
     "data": {
      "image/png": "[encoded data removed]",
      "text/plain": [
       "<Figure size 432x288 with 1 Axes>"
      ]
     },
     "metadata": {
      "needs_background": "light"
     },
     "output_type": "display_data"
    }
   ],
   "source": [
    "data['employee_residence'].value_counts().plot(kind=\"bar\")\n",
    "plt.yscale(\"log\")\n",
    "plt.xlabel(\"Residence Country\",fontsize=10)\n",
    "plt.ylabel(\"Number of people\",fontsize=10)\n",
    "plt.title(\"Employee Residence in each Country\",fontsize = 20, fontweight='bold')\n",
    "plt.show()"
   ]
  },
  {
   "cell_type": "markdown",
   "metadata": {
    "papermill": {
     "duration": 0.011893,
     "end_time": "2022-08-13T12:04:54.253480",
     "exception": false,
     "start_time": "2022-08-13T12:04:54.241587",
     "status": "completed"
    },
    "tags": []
   },
   "source": [
    "# ***Remote Location***\n",
    "******"
   ]
  },
  {
   "cell_type": "code",
   "execution_count": 24,
   "metadata": {
    "execution": {
     "iopub.execute_input": "2022-08-13T12:04:54.279193Z",
     "iopub.status.busy": "2022-08-13T12:04:54.278610Z",
     "iopub.status.idle": "2022-08-13T12:04:54.418858Z",
     "shell.execute_reply": "2022-08-13T12:04:54.417780Z"
    },
    "papermill": {
     "duration": 0.155349,
     "end_time": "2022-08-13T12:04:54.421019",
     "exception": false,
     "start_time": "2022-08-13T12:04:54.265670",
     "status": "completed"
    },
    "tags": []
   },
   "outputs": [
    {
     "data": {
      "image/png": "[encoded data removed]",
      "text/plain": [
       "<Figure size 432x288 with 1 Axes>"
      ]
     },
     "metadata": {},
     "output_type": "display_data"
    }
   ],
   "source": [
    "labels=['Fully Remote','Partially Remote','No remote']\n",
    "data['remote_ratio'].value_counts().plot(kind=\"pie\",labels=labels,autopct=\"%.2f\")\n",
    "plt.title(\"Remote Location \",fontsize = 20, fontweight='bold')\n",
    "plt.legend()\n",
    "plt.show()"
   ]
  },
  {
   "cell_type": "markdown",
   "metadata": {
    "papermill": {
     "duration": 0.01642,
     "end_time": "2022-08-13T12:04:54.454215",
     "exception": false,
     "start_time": "2022-08-13T12:04:54.437795",
     "status": "completed"
    },
    "tags": []
   },
   "source": [
    "***Most of the people in this sector work remotely***"
   ]
  },
  {
   "cell_type": "markdown",
   "metadata": {
    "papermill": {
     "duration": 0.016526,
     "end_time": "2022-08-13T12:04:54.487908",
     "exception": false,
     "start_time": "2022-08-13T12:04:54.471382",
     "status": "completed"
    },
    "tags": []
   },
   "source": [
    "# ***Compnay Location***\n",
    "******"
   ]
  },
  {
   "cell_type": "code",
   "execution_count": 25,
   "metadata": {
    "execution": {
     "iopub.execute_input": "2022-08-13T12:04:54.514304Z",
     "iopub.status.busy": "2022-08-13T12:04:54.513968Z",
     "iopub.status.idle": "2022-08-13T12:04:55.353098Z",
     "shell.execute_reply": "2022-08-13T12:04:55.352119Z"
    },
    "papermill": {
     "duration": 0.856004,
     "end_time": "2022-08-13T12:04:55.356251",
     "exception": false,
     "start_time": "2022-08-13T12:04:54.500247",
     "status": "completed"
    },
    "tags": []
   },
   "outputs": [
    {
     "data": {
      "image/png": "[encoded data removed]",
      "text/plain": [
       "<Figure size 432x288 with 1 Axes>"
      ]
     },
     "metadata": {
      "needs_background": "light"
     },
     "output_type": "display_data"
    }
   ],
   "source": [
    "data['company_location'].value_counts().plot(kind=\"bar\")\n",
    "plt.yscale(\"log\")\n",
    "plt.xlabel(\"Company Location\",fontsize=10)\n",
    "plt.ylabel(\"Number\",fontsize=10)\n",
    "plt.title(\"Company Location\",fontsize = 20, fontweight='bold')\n",
    "plt.show()"
   ]
  },
  {
   "cell_type": "markdown",
   "metadata": {
    "papermill": {
     "duration": 0.020903,
     "end_time": "2022-08-13T12:04:55.389580",
     "exception": false,
     "start_time": "2022-08-13T12:04:55.368677",
     "status": "completed"
    },
    "tags": []
   },
   "source": [
    "# ***Company Size***\n",
    "******"
   ]
  },
  {
   "cell_type": "code",
   "execution_count": 26,
   "metadata": {
    "execution": {
     "iopub.execute_input": "2022-08-13T12:04:55.416153Z",
     "iopub.status.busy": "2022-08-13T12:04:55.415813Z",
     "iopub.status.idle": "2022-08-13T12:04:55.551349Z",
     "shell.execute_reply": "2022-08-13T12:04:55.550266Z"
    },
    "papermill": {
     "duration": 0.151601,
     "end_time": "2022-08-13T12:04:55.553883",
     "exception": false,
     "start_time": "2022-08-13T12:04:55.402282",
     "status": "completed"
    },
    "tags": []
   },
   "outputs": [
    {
     "data": {
      "image/png": "[encoded data removed]",
      "text/plain": [
       "<Figure size 432x288 with 1 Axes>"
      ]
     },
     "metadata": {},
     "output_type": "display_data"
    }
   ],
   "source": [
    "labels=['Large','Medium','Small']\n",
    "data['company_size'].value_counts().plot(kind=\"pie\",autopct=\"%.2f\",labels=labels)\n",
    "plt.legend()\n",
    "plt.show()"
   ]
  },
  {
   "cell_type": "markdown",
   "metadata": {
    "papermill": {
     "duration": 0.017224,
     "end_time": "2022-08-13T12:04:55.589195",
     "exception": false,
     "start_time": "2022-08-13T12:04:55.571971",
     "status": "completed"
    },
    "tags": []
   },
   "source": [
    "# ***Further Analysis***"
   ]
  },
  {
   "cell_type": "markdown",
   "metadata": {
    "papermill": {
     "duration": 0.017606,
     "end_time": "2022-08-13T12:04:55.624468",
     "exception": false,
     "start_time": "2022-08-13T12:04:55.606862",
     "status": "completed"
    },
    "tags": []
   },
   "source": [
    "# **1. Profiles of people who are earning more than 250K in USA**"
   ]
  },
  {
   "cell_type": "code",
   "execution_count": 27,
   "metadata": {
    "execution": {
     "iopub.execute_input": "2022-08-13T12:04:55.652485Z",
     "iopub.status.busy": "2022-08-13T12:04:55.651141Z",
     "iopub.status.idle": "2022-08-13T12:04:55.675489Z",
     "shell.execute_reply": "2022-08-13T12:04:55.674300Z"
    },
    "papermill": {
     "duration": 0.040391,
     "end_time": "2022-08-13T12:04:55.677588",
     "exception": false,
     "start_time": "2022-08-13T12:04:55.637197",
     "status": "completed"
    },
    "tags": []
   },
   "outputs": [
    {
     "data": {
      "text/html": [
       "<div>\n",
       "<style scoped>\n",
       "    .dataframe tbody tr th:only-of-type {\n",
       "        vertical-align: middle;\n",
       "    }\n",
       "\n",
       "    .dataframe tbody tr th {\n",
       "        vertical-align: top;\n",
       "    }\n",
       "\n",
       "    .dataframe thead th {\n",
       "        text-align: right;\n",
       "    }\n",
       "</style>\n",
       "<table border=\"1\" class=\"dataframe\">\n",
       "  <thead>\n",
       "    <tr style=\"text-align: right;\">\n",
       "      <th></th>\n",
       "      <th>work_year</th>\n",
       "      <th>experience_level</th>\n",
       "      <th>employment_type</th>\n",
       "      <th>job_title</th>\n",
       "      <th>salary</th>\n",
       "      <th>salary_currency</th>\n",
       "      <th>salary_in_usd</th>\n",
       "      <th>employee_residence</th>\n",
       "      <th>remote_ratio</th>\n",
       "      <th>company_location</th>\n",
       "      <th>company_size</th>\n",
       "    </tr>\n",
       "  </thead>\n",
       "  <tbody>\n",
       "    <tr>\n",
       "      <th>5</th>\n",
       "      <td>2022</td>\n",
       "      <td>EX</td>\n",
       "      <td>FT</td>\n",
       "      <td>Application Security Architect</td>\n",
       "      <td>315000</td>\n",
       "      <td>USD</td>\n",
       "      <td>315000</td>\n",
       "      <td>US</td>\n",
       "      <td>100</td>\n",
       "      <td>US</td>\n",
       "      <td>L</td>\n",
       "    </tr>\n",
       "    <tr>\n",
       "      <th>9</th>\n",
       "      <td>2022</td>\n",
       "      <td>EX</td>\n",
       "      <td>FT</td>\n",
       "      <td>Information Security Compliance Manager</td>\n",
       "      <td>360000</td>\n",
       "      <td>USD</td>\n",
       "      <td>360000</td>\n",
       "      <td>TW</td>\n",
       "      <td>100</td>\n",
       "      <td>SG</td>\n",
       "      <td>L</td>\n",
       "    </tr>\n",
       "    <tr>\n",
       "      <th>14</th>\n",
       "      <td>2022</td>\n",
       "      <td>EX</td>\n",
       "      <td>FT</td>\n",
       "      <td>Head of Information Security</td>\n",
       "      <td>290000</td>\n",
       "      <td>USD</td>\n",
       "      <td>290000</td>\n",
       "      <td>US</td>\n",
       "      <td>100</td>\n",
       "      <td>US</td>\n",
       "      <td>L</td>\n",
       "    </tr>\n",
       "    <tr>\n",
       "      <th>27</th>\n",
       "      <td>2022</td>\n",
       "      <td>EX</td>\n",
       "      <td>FT</td>\n",
       "      <td>Chief Information Security Officer</td>\n",
       "      <td>300000</td>\n",
       "      <td>USD</td>\n",
       "      <td>300000</td>\n",
       "      <td>AE</td>\n",
       "      <td>50</td>\n",
       "      <td>AE</td>\n",
       "      <td>L</td>\n",
       "    </tr>\n",
       "    <tr>\n",
       "      <th>85</th>\n",
       "      <td>2022</td>\n",
       "      <td>SE</td>\n",
       "      <td>FT</td>\n",
       "      <td>Detection Engineer</td>\n",
       "      <td>252000</td>\n",
       "      <td>USD</td>\n",
       "      <td>252000</td>\n",
       "      <td>US</td>\n",
       "      <td>100</td>\n",
       "      <td>US</td>\n",
       "      <td>M</td>\n",
       "    </tr>\n",
       "    <tr>\n",
       "      <th>105</th>\n",
       "      <td>2022</td>\n",
       "      <td>SE</td>\n",
       "      <td>FT</td>\n",
       "      <td>Vulnerability Management Engineer</td>\n",
       "      <td>250600</td>\n",
       "      <td>USD</td>\n",
       "      <td>250600</td>\n",
       "      <td>US</td>\n",
       "      <td>100</td>\n",
       "      <td>US</td>\n",
       "      <td>M</td>\n",
       "    </tr>\n",
       "    <tr>\n",
       "      <th>110</th>\n",
       "      <td>2022</td>\n",
       "      <td>SE</td>\n",
       "      <td>FT</td>\n",
       "      <td>Information Security Officer</td>\n",
       "      <td>267840</td>\n",
       "      <td>USD</td>\n",
       "      <td>267840</td>\n",
       "      <td>US</td>\n",
       "      <td>100</td>\n",
       "      <td>US</td>\n",
       "      <td>M</td>\n",
       "    </tr>\n",
       "    <tr>\n",
       "      <th>135</th>\n",
       "      <td>2022</td>\n",
       "      <td>SE</td>\n",
       "      <td>FT</td>\n",
       "      <td>Detection Engineer</td>\n",
       "      <td>292000</td>\n",
       "      <td>USD</td>\n",
       "      <td>292000</td>\n",
       "      <td>GB</td>\n",
       "      <td>100</td>\n",
       "      <td>GB</td>\n",
       "      <td>M</td>\n",
       "    </tr>\n",
       "    <tr>\n",
       "      <th>163</th>\n",
       "      <td>2022</td>\n",
       "      <td>SE</td>\n",
       "      <td>FT</td>\n",
       "      <td>Security Engineer</td>\n",
       "      <td>276900</td>\n",
       "      <td>USD</td>\n",
       "      <td>276900</td>\n",
       "      <td>US</td>\n",
       "      <td>100</td>\n",
       "      <td>US</td>\n",
       "      <td>M</td>\n",
       "    </tr>\n",
       "    <tr>\n",
       "      <th>292</th>\n",
       "      <td>2022</td>\n",
       "      <td>SE</td>\n",
       "      <td>FT</td>\n",
       "      <td>Information Security Officer</td>\n",
       "      <td>267840</td>\n",
       "      <td>USD</td>\n",
       "      <td>267840</td>\n",
       "      <td>US</td>\n",
       "      <td>100</td>\n",
       "      <td>US</td>\n",
       "      <td>M</td>\n",
       "    </tr>\n",
       "    <tr>\n",
       "      <th>306</th>\n",
       "      <td>2022</td>\n",
       "      <td>EX</td>\n",
       "      <td>FT</td>\n",
       "      <td>Information Security Officer</td>\n",
       "      <td>300000</td>\n",
       "      <td>USD</td>\n",
       "      <td>300000</td>\n",
       "      <td>US</td>\n",
       "      <td>100</td>\n",
       "      <td>US</td>\n",
       "      <td>M</td>\n",
       "    </tr>\n",
       "    <tr>\n",
       "      <th>338</th>\n",
       "      <td>2022</td>\n",
       "      <td>SE</td>\n",
       "      <td>FT</td>\n",
       "      <td>Security Engineer</td>\n",
       "      <td>276900</td>\n",
       "      <td>USD</td>\n",
       "      <td>276900</td>\n",
       "      <td>US</td>\n",
       "      <td>100</td>\n",
       "      <td>US</td>\n",
       "      <td>M</td>\n",
       "    </tr>\n",
       "    <tr>\n",
       "      <th>358</th>\n",
       "      <td>2022</td>\n",
       "      <td>SE</td>\n",
       "      <td>FT</td>\n",
       "      <td>Principal Security Engineer</td>\n",
       "      <td>271600</td>\n",
       "      <td>USD</td>\n",
       "      <td>271600</td>\n",
       "      <td>US</td>\n",
       "      <td>100</td>\n",
       "      <td>US</td>\n",
       "      <td>L</td>\n",
       "    </tr>\n",
       "    <tr>\n",
       "      <th>361</th>\n",
       "      <td>2022</td>\n",
       "      <td>SE</td>\n",
       "      <td>FT</td>\n",
       "      <td>Principal Security Engineer</td>\n",
       "      <td>260000</td>\n",
       "      <td>USD</td>\n",
       "      <td>260000</td>\n",
       "      <td>US</td>\n",
       "      <td>100</td>\n",
       "      <td>US</td>\n",
       "      <td>L</td>\n",
       "    </tr>\n",
       "    <tr>\n",
       "      <th>373</th>\n",
       "      <td>2022</td>\n",
       "      <td>EX</td>\n",
       "      <td>FT</td>\n",
       "      <td>Application Security Analyst</td>\n",
       "      <td>259000</td>\n",
       "      <td>USD</td>\n",
       "      <td>259000</td>\n",
       "      <td>US</td>\n",
       "      <td>50</td>\n",
       "      <td>US</td>\n",
       "      <td>L</td>\n",
       "    </tr>\n",
       "    <tr>\n",
       "      <th>390</th>\n",
       "      <td>2022</td>\n",
       "      <td>MI</td>\n",
       "      <td>FT</td>\n",
       "      <td>Information Security Engineer</td>\n",
       "      <td>260000</td>\n",
       "      <td>USD</td>\n",
       "      <td>260000</td>\n",
       "      <td>US</td>\n",
       "      <td>100</td>\n",
       "      <td>US</td>\n",
       "      <td>L</td>\n",
       "    </tr>\n",
       "    <tr>\n",
       "      <th>404</th>\n",
       "      <td>2022</td>\n",
       "      <td>EX</td>\n",
       "      <td>FT</td>\n",
       "      <td>Information Security Architect</td>\n",
       "      <td>325000</td>\n",
       "      <td>USD</td>\n",
       "      <td>325000</td>\n",
       "      <td>US</td>\n",
       "      <td>100</td>\n",
       "      <td>US</td>\n",
       "      <td>L</td>\n",
       "    </tr>\n",
       "    <tr>\n",
       "      <th>417</th>\n",
       "      <td>2022</td>\n",
       "      <td>MI</td>\n",
       "      <td>FT</td>\n",
       "      <td>Cyber Security Engineer</td>\n",
       "      <td>410000</td>\n",
       "      <td>USD</td>\n",
       "      <td>410000</td>\n",
       "      <td>IN</td>\n",
       "      <td>100</td>\n",
       "      <td>IN</td>\n",
       "      <td>L</td>\n",
       "    </tr>\n",
       "    <tr>\n",
       "      <th>446</th>\n",
       "      <td>2022</td>\n",
       "      <td>SE</td>\n",
       "      <td>FT</td>\n",
       "      <td>Information Security Manager</td>\n",
       "      <td>260000</td>\n",
       "      <td>USD</td>\n",
       "      <td>260000</td>\n",
       "      <td>US</td>\n",
       "      <td>100</td>\n",
       "      <td>US</td>\n",
       "      <td>L</td>\n",
       "    </tr>\n",
       "    <tr>\n",
       "      <th>469</th>\n",
       "      <td>2022</td>\n",
       "      <td>EX</td>\n",
       "      <td>FT</td>\n",
       "      <td>Head of Security</td>\n",
       "      <td>270000</td>\n",
       "      <td>USD</td>\n",
       "      <td>270000</td>\n",
       "      <td>US</td>\n",
       "      <td>50</td>\n",
       "      <td>US</td>\n",
       "      <td>L</td>\n",
       "    </tr>\n",
       "    <tr>\n",
       "      <th>497</th>\n",
       "      <td>2021</td>\n",
       "      <td>EX</td>\n",
       "      <td>FT</td>\n",
       "      <td>Chief Information Security Officer</td>\n",
       "      <td>310000</td>\n",
       "      <td>USD</td>\n",
       "      <td>310000</td>\n",
       "      <td>US</td>\n",
       "      <td>50</td>\n",
       "      <td>US</td>\n",
       "      <td>L</td>\n",
       "    </tr>\n",
       "    <tr>\n",
       "      <th>522</th>\n",
       "      <td>2021</td>\n",
       "      <td>SE</td>\n",
       "      <td>FT</td>\n",
       "      <td>Security Engineering Manager</td>\n",
       "      <td>305000</td>\n",
       "      <td>USD</td>\n",
       "      <td>305000</td>\n",
       "      <td>US</td>\n",
       "      <td>100</td>\n",
       "      <td>US</td>\n",
       "      <td>L</td>\n",
       "    </tr>\n",
       "    <tr>\n",
       "      <th>523</th>\n",
       "      <td>2022</td>\n",
       "      <td>SE</td>\n",
       "      <td>FT</td>\n",
       "      <td>Security Researcher</td>\n",
       "      <td>500000</td>\n",
       "      <td>USD</td>\n",
       "      <td>500000</td>\n",
       "      <td>US</td>\n",
       "      <td>100</td>\n",
       "      <td>US</td>\n",
       "      <td>L</td>\n",
       "    </tr>\n",
       "    <tr>\n",
       "      <th>527</th>\n",
       "      <td>2022</td>\n",
       "      <td>SE</td>\n",
       "      <td>FT</td>\n",
       "      <td>Information Security Architect</td>\n",
       "      <td>297000</td>\n",
       "      <td>USD</td>\n",
       "      <td>297000</td>\n",
       "      <td>US</td>\n",
       "      <td>50</td>\n",
       "      <td>US</td>\n",
       "      <td>L</td>\n",
       "    </tr>\n",
       "    <tr>\n",
       "      <th>552</th>\n",
       "      <td>2022</td>\n",
       "      <td>EX</td>\n",
       "      <td>FT</td>\n",
       "      <td>Cyber Threat Intelligence Analyst</td>\n",
       "      <td>287500</td>\n",
       "      <td>USD</td>\n",
       "      <td>287500</td>\n",
       "      <td>US</td>\n",
       "      <td>50</td>\n",
       "      <td>US</td>\n",
       "      <td>L</td>\n",
       "    </tr>\n",
       "    <tr>\n",
       "      <th>566</th>\n",
       "      <td>2022</td>\n",
       "      <td>SE</td>\n",
       "      <td>FT</td>\n",
       "      <td>Detection Engineer</td>\n",
       "      <td>360000</td>\n",
       "      <td>USD</td>\n",
       "      <td>360000</td>\n",
       "      <td>US</td>\n",
       "      <td>100</td>\n",
       "      <td>US</td>\n",
       "      <td>L</td>\n",
       "    </tr>\n",
       "    <tr>\n",
       "      <th>612</th>\n",
       "      <td>2022</td>\n",
       "      <td>EX</td>\n",
       "      <td>FT</td>\n",
       "      <td>Threat Intelligence Response Analyst</td>\n",
       "      <td>300000</td>\n",
       "      <td>USD</td>\n",
       "      <td>300000</td>\n",
       "      <td>GB</td>\n",
       "      <td>100</td>\n",
       "      <td>RU</td>\n",
       "      <td>L</td>\n",
       "    </tr>\n",
       "    <tr>\n",
       "      <th>647</th>\n",
       "      <td>2022</td>\n",
       "      <td>SE</td>\n",
       "      <td>FT</td>\n",
       "      <td>Incident Response Manager</td>\n",
       "      <td>600000</td>\n",
       "      <td>USD</td>\n",
       "      <td>600000</td>\n",
       "      <td>US</td>\n",
       "      <td>100</td>\n",
       "      <td>US</td>\n",
       "      <td>L</td>\n",
       "    </tr>\n",
       "    <tr>\n",
       "      <th>663</th>\n",
       "      <td>2022</td>\n",
       "      <td>SE</td>\n",
       "      <td>FT</td>\n",
       "      <td>Security Engineer</td>\n",
       "      <td>255000</td>\n",
       "      <td>USD</td>\n",
       "      <td>255000</td>\n",
       "      <td>US</td>\n",
       "      <td>100</td>\n",
       "      <td>US</td>\n",
       "      <td>L</td>\n",
       "    </tr>\n",
       "    <tr>\n",
       "      <th>681</th>\n",
       "      <td>2022</td>\n",
       "      <td>SE</td>\n",
       "      <td>FT</td>\n",
       "      <td>Information Security Manager</td>\n",
       "      <td>310000</td>\n",
       "      <td>USD</td>\n",
       "      <td>310000</td>\n",
       "      <td>US</td>\n",
       "      <td>100</td>\n",
       "      <td>US</td>\n",
       "      <td>L</td>\n",
       "    </tr>\n",
       "    <tr>\n",
       "      <th>715</th>\n",
       "      <td>2021</td>\n",
       "      <td>MI</td>\n",
       "      <td>FT</td>\n",
       "      <td>Software Security Engineer</td>\n",
       "      <td>320000</td>\n",
       "      <td>USD</td>\n",
       "      <td>320000</td>\n",
       "      <td>US</td>\n",
       "      <td>50</td>\n",
       "      <td>US</td>\n",
       "      <td>L</td>\n",
       "    </tr>\n",
       "    <tr>\n",
       "      <th>814</th>\n",
       "      <td>2021</td>\n",
       "      <td>EX</td>\n",
       "      <td>FT</td>\n",
       "      <td>Chief Information Security Officer</td>\n",
       "      <td>375000</td>\n",
       "      <td>USD</td>\n",
       "      <td>375000</td>\n",
       "      <td>US</td>\n",
       "      <td>100</td>\n",
       "      <td>US</td>\n",
       "      <td>L</td>\n",
       "    </tr>\n",
       "    <tr>\n",
       "      <th>832</th>\n",
       "      <td>2021</td>\n",
       "      <td>SE</td>\n",
       "      <td>FT</td>\n",
       "      <td>Information Security Engineer</td>\n",
       "      <td>320000</td>\n",
       "      <td>USD</td>\n",
       "      <td>320000</td>\n",
       "      <td>US</td>\n",
       "      <td>100</td>\n",
       "      <td>US</td>\n",
       "      <td>L</td>\n",
       "    </tr>\n",
       "    <tr>\n",
       "      <th>886</th>\n",
       "      <td>2020</td>\n",
       "      <td>EX</td>\n",
       "      <td>FT</td>\n",
       "      <td>Security Engineering Manager</td>\n",
       "      <td>600000</td>\n",
       "      <td>USD</td>\n",
       "      <td>600000</td>\n",
       "      <td>US</td>\n",
       "      <td>50</td>\n",
       "      <td>US</td>\n",
       "      <td>L</td>\n",
       "    </tr>\n",
       "    <tr>\n",
       "      <th>890</th>\n",
       "      <td>2020</td>\n",
       "      <td>SE</td>\n",
       "      <td>FT</td>\n",
       "      <td>Cyber Security Engineer</td>\n",
       "      <td>272000</td>\n",
       "      <td>USD</td>\n",
       "      <td>272000</td>\n",
       "      <td>US</td>\n",
       "      <td>100</td>\n",
       "      <td>US</td>\n",
       "      <td>L</td>\n",
       "    </tr>\n",
       "    <tr>\n",
       "      <th>1003</th>\n",
       "      <td>2021</td>\n",
       "      <td>SE</td>\n",
       "      <td>FT</td>\n",
       "      <td>Cyber Security Researcher</td>\n",
       "      <td>275000</td>\n",
       "      <td>USD</td>\n",
       "      <td>275000</td>\n",
       "      <td>US</td>\n",
       "      <td>100</td>\n",
       "      <td>US</td>\n",
       "      <td>L</td>\n",
       "    </tr>\n",
       "    <tr>\n",
       "      <th>1103</th>\n",
       "      <td>2021</td>\n",
       "      <td>SE</td>\n",
       "      <td>FT</td>\n",
       "      <td>Cyber Security Architect</td>\n",
       "      <td>280000</td>\n",
       "      <td>USD</td>\n",
       "      <td>280000</td>\n",
       "      <td>AU</td>\n",
       "      <td>100</td>\n",
       "      <td>AU</td>\n",
       "      <td>L</td>\n",
       "    </tr>\n",
       "    <tr>\n",
       "      <th>1106</th>\n",
       "      <td>2021</td>\n",
       "      <td>SE</td>\n",
       "      <td>FT</td>\n",
       "      <td>Staff Security Engineer</td>\n",
       "      <td>450000</td>\n",
       "      <td>USD</td>\n",
       "      <td>450000</td>\n",
       "      <td>US</td>\n",
       "      <td>100</td>\n",
       "      <td>US</td>\n",
       "      <td>L</td>\n",
       "    </tr>\n",
       "    <tr>\n",
       "      <th>1160</th>\n",
       "      <td>2020</td>\n",
       "      <td>SE</td>\n",
       "      <td>FT</td>\n",
       "      <td>Security Engineer</td>\n",
       "      <td>300000</td>\n",
       "      <td>USD</td>\n",
       "      <td>300000</td>\n",
       "      <td>US</td>\n",
       "      <td>50</td>\n",
       "      <td>US</td>\n",
       "      <td>L</td>\n",
       "    </tr>\n",
       "    <tr>\n",
       "      <th>1172</th>\n",
       "      <td>2021</td>\n",
       "      <td>EX</td>\n",
       "      <td>FT</td>\n",
       "      <td>Chief Information Security Officer</td>\n",
       "      <td>289000</td>\n",
       "      <td>USD</td>\n",
       "      <td>289000</td>\n",
       "      <td>US</td>\n",
       "      <td>100</td>\n",
       "      <td>US</td>\n",
       "      <td>L</td>\n",
       "    </tr>\n",
       "    <tr>\n",
       "      <th>1175</th>\n",
       "      <td>2020</td>\n",
       "      <td>SE</td>\n",
       "      <td>FT</td>\n",
       "      <td>Information Security Manager</td>\n",
       "      <td>252000</td>\n",
       "      <td>USD</td>\n",
       "      <td>252000</td>\n",
       "      <td>US</td>\n",
       "      <td>100</td>\n",
       "      <td>US</td>\n",
       "      <td>M</td>\n",
       "    </tr>\n",
       "    <tr>\n",
       "      <th>1207</th>\n",
       "      <td>2020</td>\n",
       "      <td>SE</td>\n",
       "      <td>FT</td>\n",
       "      <td>Security Incident Response Engineer</td>\n",
       "      <td>260000</td>\n",
       "      <td>USD</td>\n",
       "      <td>260000</td>\n",
       "      <td>US</td>\n",
       "      <td>100</td>\n",
       "      <td>US</td>\n",
       "      <td>L</td>\n",
       "    </tr>\n",
       "    <tr>\n",
       "      <th>1214</th>\n",
       "      <td>2021</td>\n",
       "      <td>EX</td>\n",
       "      <td>FT</td>\n",
       "      <td>Chief Information Security Officer</td>\n",
       "      <td>400000</td>\n",
       "      <td>USD</td>\n",
       "      <td>400000</td>\n",
       "      <td>US</td>\n",
       "      <td>100</td>\n",
       "      <td>US</td>\n",
       "      <td>L</td>\n",
       "    </tr>\n",
       "  </tbody>\n",
       "</table>\n",
       "</div>"
      ],
      "text/plain": [
       "      work_year experience_level employment_type  \\\n",
       "5          2022               EX              FT   \n",
       "9          2022               EX              FT   \n",
       "14         2022               EX              FT   \n",
       "27         2022               EX              FT   \n",
       "85         2022               SE              FT   \n",
       "105        2022               SE              FT   \n",
       "110        2022               SE              FT   \n",
       "135        2022               SE              FT   \n",
       "163        2022               SE              FT   \n",
       "292        2022               SE              FT   \n",
       "306        2022               EX              FT   \n",
       "338        2022               SE              FT   \n",
       "358        2022               SE              FT   \n",
       "361        2022               SE              FT   \n",
       "373        2022               EX              FT   \n",
       "390        2022               MI              FT   \n",
       "404        2022               EX              FT   \n",
       "417        2022               MI              FT   \n",
       "446        2022               SE              FT   \n",
       "469        2022               EX              FT   \n",
       "497        2021               EX              FT   \n",
       "522        2021               SE              FT   \n",
       "523        2022               SE              FT   \n",
       "527        2022               SE              FT   \n",
       "552        2022               EX              FT   \n",
       "566        2022               SE              FT   \n",
       "612        2022               EX              FT   \n",
       "647        2022               SE              FT   \n",
       "663        2022               SE              FT   \n",
       "681        2022               SE              FT   \n",
       "715        2021               MI              FT   \n",
       "814        2021               EX              FT   \n",
       "832        2021               SE              FT   \n",
       "886        2020               EX              FT   \n",
       "890        2020               SE              FT   \n",
       "1003       2021               SE              FT   \n",
       "1103       2021               SE              FT   \n",
       "1106       2021               SE              FT   \n",
       "1160       2020               SE              FT   \n",
       "1172       2021               EX              FT   \n",
       "1175       2020               SE              FT   \n",
       "1207       2020               SE              FT   \n",
       "1214       2021               EX              FT   \n",
       "\n",
       "                                    job_title  salary salary_currency  \\\n",
       "5              Application Security Architect  315000             USD   \n",
       "9     Information Security Compliance Manager  360000             USD   \n",
       "14               Head of Information Security  290000             USD   \n",
       "27         Chief Information Security Officer  300000             USD   \n",
       "85                         Detection Engineer  252000             USD   \n",
       "105         Vulnerability Management Engineer  250600             USD   \n",
       "110              Information Security Officer  267840             USD   \n",
       "135                        Detection Engineer  292000             USD   \n",
       "163                         Security Engineer  276900             USD   \n",
       "292              Information Security Officer  267840             USD   \n",
       "306              Information Security Officer  300000             USD   \n",
       "338                         Security Engineer  276900             USD   \n",
       "358               Principal Security Engineer  271600             USD   \n",
       "361               Principal Security Engineer  260000             USD   \n",
       "373              Application Security Analyst  259000             USD   \n",
       "390             Information Security Engineer  260000             USD   \n",
       "404            Information Security Architect  325000             USD   \n",
       "417                   Cyber Security Engineer  410000             USD   \n",
       "446              Information Security Manager  260000             USD   \n",
       "469                          Head of Security  270000             USD   \n",
       "497        Chief Information Security Officer  310000             USD   \n",
       "522              Security Engineering Manager  305000             USD   \n",
       "523                       Security Researcher  500000             USD   \n",
       "527            Information Security Architect  297000             USD   \n",
       "552         Cyber Threat Intelligence Analyst  287500             USD   \n",
       "566                        Detection Engineer  360000             USD   \n",
       "612      Threat Intelligence Response Analyst  300000             USD   \n",
       "647                 Incident Response Manager  600000             USD   \n",
       "663                         Security Engineer  255000             USD   \n",
       "681              Information Security Manager  310000             USD   \n",
       "715                Software Security Engineer  320000             USD   \n",
       "814        Chief Information Security Officer  375000             USD   \n",
       "832             Information Security Engineer  320000             USD   \n",
       "886              Security Engineering Manager  600000             USD   \n",
       "890                   Cyber Security Engineer  272000             USD   \n",
       "1003                Cyber Security Researcher  275000             USD   \n",
       "1103                 Cyber Security Architect  280000             USD   \n",
       "1106                  Staff Security Engineer  450000             USD   \n",
       "1160                        Security Engineer  300000             USD   \n",
       "1172       Chief Information Security Officer  289000             USD   \n",
       "1175             Information Security Manager  252000             USD   \n",
       "1207      Security Incident Response Engineer  260000             USD   \n",
       "1214       Chief Information Security Officer  400000             USD   \n",
       "\n",
       "      salary_in_usd employee_residence  remote_ratio company_location  \\\n",
       "5            315000                 US           100               US   \n",
       "9            360000                 TW           100               SG   \n",
       "14           290000                 US           100               US   \n",
       "27           300000                 AE            50               AE   \n",
       "85           252000                 US           100               US   \n",
       "105          250600                 US           100               US   \n",
       "110          267840                 US           100               US   \n",
       "135          292000                 GB           100               GB   \n",
       "163          276900                 US           100               US   \n",
       "292          267840                 US           100               US   \n",
       "306          300000                 US           100               US   \n",
       "338          276900                 US           100               US   \n",
       "358          271600                 US           100               US   \n",
       "361          260000                 US           100               US   \n",
       "373          259000                 US            50               US   \n",
       "390          260000                 US           100               US   \n",
       "404          325000                 US           100               US   \n",
       "417          410000                 IN           100               IN   \n",
       "446          260000                 US           100               US   \n",
       "469          270000                 US            50               US   \n",
       "497          310000                 US            50               US   \n",
       "522          305000                 US           100               US   \n",
       "523          500000                 US           100               US   \n",
       "527          297000                 US            50               US   \n",
       "552          287500                 US            50               US   \n",
       "566          360000                 US           100               US   \n",
       "612          300000                 GB           100               RU   \n",
       "647          600000                 US           100               US   \n",
       "663          255000                 US           100               US   \n",
       "681          310000                 US           100               US   \n",
       "715          320000                 US            50               US   \n",
       "814          375000                 US           100               US   \n",
       "832          320000                 US           100               US   \n",
       "886          600000                 US            50               US   \n",
       "890          272000                 US           100               US   \n",
       "1003         275000                 US           100               US   \n",
       "1103         280000                 AU           100               AU   \n",
       "1106         450000                 US           100               US   \n",
       "1160         300000                 US            50               US   \n",
       "1172         289000                 US           100               US   \n",
       "1175         252000                 US           100               US   \n",
       "1207         260000                 US           100               US   \n",
       "1214         400000                 US           100               US   \n",
       "\n",
       "     company_size  \n",
       "5               L  \n",
       "9               L  \n",
       "14              L  \n",
       "27              L  \n",
       "85              M  \n",
       "105             M  \n",
       "110             M  \n",
       "135             M  \n",
       "163             M  \n",
       "292             M  \n",
       "306             M  \n",
       "338             M  \n",
       "358             L  \n",
       "361             L  \n",
       "373             L  \n",
       "390             L  \n",
       "404             L  \n",
       "417             L  \n",
       "446             L  \n",
       "469             L  \n",
       "497             L  \n",
       "522             L  \n",
       "523             L  \n",
       "527             L  \n",
       "552             L  \n",
       "566             L  \n",
       "612             L  \n",
       "647             L  \n",
       "663             L  \n",
       "681             L  \n",
       "715             L  \n",
       "814             L  \n",
       "832             L  \n",
       "886             L  \n",
       "890             L  \n",
       "1003            L  \n",
       "1103            L  \n",
       "1106            L  \n",
       "1160            L  \n",
       "1172            L  \n",
       "1175            M  \n",
       "1207            L  \n",
       "1214            L  "
      ]
     },
     "execution_count": 27,
     "metadata": {},
     "output_type": "execute_result"
    }
   ],
   "source": [
    "us250 = us_salary[us_salary['salary'] > 250000]\n",
    "us250"
   ]
  },
  {
   "cell_type": "code",
   "execution_count": 29,
   "metadata": {
    "execution": {
     "iopub.execute_input": "2022-08-13T12:04:55.705389Z",
     "iopub.status.busy": "2022-08-13T12:04:55.705085Z",
     "iopub.status.idle": "2022-08-13T12:04:56.043504Z",
     "shell.execute_reply": "2022-08-13T12:04:56.042697Z"
    },
    "papermill": {
     "duration": 0.354832,
     "end_time": "2022-08-13T12:04:56.045756",
     "exception": false,
     "start_time": "2022-08-13T12:04:55.690924",
     "status": "completed"
    },
    "tags": []
   },
   "outputs": [
    {
     "data": {
      "text/plain": [
       "<AxesSubplot:ylabel='job_title'>"
      ]
     },
     "execution_count": 29,
     "metadata": {},
     "output_type": "execute_result"
    },
    {
     "data": {
      "image/png": "[encoded data removed]",
      "text/plain": [
       "<Figure size 432x288 with 1 Axes>"
      ]
     },
     "metadata": {},
     "output_type": "display_data"
    }
   ],
   "source": [
    "us250['job_title'].value_counts().plot(kind=\"pie\",autopct=\"%.2f\")"
   ]
  },
  {
   "cell_type": "markdown",
   "metadata": {
    "papermill": {
     "duration": 0.014266,
     "end_time": "2022-08-13T12:04:56.076609",
     "exception": false,
     "start_time": "2022-08-13T12:04:56.062343",
     "status": "completed"
    },
    "tags": []
   },
   "source": [
    "***In this dataset there are 42 people earnig more than 250K in USA***\n",
    "1. Majority are SE, EX.\n",
    "2. All are FT employees.\n",
    "3. Majority are remote (>95%)\n",
    "4. Majority work at large comapnies(>90%).\n",
    "5. Most frequent tile **Chief Information Security Officer**"
   ]
  },
  {
   "cell_type": "markdown",
   "metadata": {
    "papermill": {
     "duration": 0.014371,
     "end_time": "2022-08-13T12:04:56.105776",
     "exception": false,
     "start_time": "2022-08-13T12:04:56.091405",
     "status": "completed"
    },
    "tags": []
   },
   "source": []
  },
  {
   "cell_type": "markdown",
   "metadata": {
    "papermill": {
     "duration": 0.014362,
     "end_time": "2022-08-13T12:04:56.134825",
     "exception": false,
     "start_time": "2022-08-13T12:04:56.120463",
     "status": "completed"
    },
    "tags": []
   },
   "source": [
    "# ***Upvote the notebook if you have liked it.. Comments for improvement are much appreciated !***\n",
    "***Profile*** : [Kaggle](https://www.kaggle.com/ritish1082)\n"
   ]
  }
 ],
 "metadata": {
  "kernelspec": {
   "display_name": "exp1",
   "language": "python",
   "name": "exp1"
  },
  "language_info": {
   "codemirror_mode": {
    "name": "ipython",
    "version": 3
   },
   "file_extension": ".py",
   "mimetype": "text/x-python",
   "name": "python",
   "nbconvert_exporter": "python",
   "pygments_lexer": "ipython3",
   "version": "3.6.13"
  },
  "papermill": {
   "default_parameters": {},
   "duration": 14.191266,
   "end_time": "2022-08-13T12:04:56.871987",
   "environment_variables": {},
   "exception": null,
   "input_path": "__notebook__.ipynb",
   "output_path": "__notebook__.ipynb",
   "parameters": {},
   "start_time": "2022-08-13T12:04:42.680721",
   "version": "2.3.4"
  }
 },
 "nbformat": 4,
 "nbformat_minor": 5
}
