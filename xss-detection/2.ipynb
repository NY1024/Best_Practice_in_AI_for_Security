{
 "cells": [
  {
   "cell_type": "code",
   "execution_count": 1,
   "metadata": {
    "_cell_guid": "b1076dfc-b9ad-4769-8c92-a6c4dae69d19",
    "_uuid": "8f2839f25d086af736a60e9eeb907d3b93b6e0e5",
    "execution": {
     "iopub.execute_input": "2022-06-16T05:43:41.969709Z",
     "iopub.status.busy": "2022-06-16T05:43:41.968687Z",
     "iopub.status.idle": "2022-06-16T05:43:49.997265Z",
     "shell.execute_reply": "2022-06-16T05:43:49.996278Z"
    },
    "papermill": {
     "duration": 8.037573,
     "end_time": "2022-06-16T05:43:49.999765",
     "exception": false,
     "start_time": "2022-06-16T05:43:41.962192",
     "status": "completed"
    },
    "tags": []
   },
   "outputs": [],
   "source": [
    "import pandas as pd\n",
    "from sklearn.feature_extraction.text import CountVectorizer\n",
    "from sklearn.model_selection import train_test_split\n",
    "from nltk.corpus import stopwords\n",
    "from sklearn.metrics import accuracy_score, f1_score\n",
    "from sklearn.linear_model import LogisticRegression\n",
    "from sklearn.ensemble import RandomForestClassifier\n",
    "from sklearn.svm import SVC\n",
    "from sklearn.naive_bayes import GaussianNB\n",
    "import tensorflow as tf\n",
    "import numpy as np\n",
    "from sklearn.metrics import confusion_matrix\n",
    "from tensorflow.keras import models, layers\n",
    "import warnings\n",
    "\n",
    "warnings.filterwarnings('ignore')"
   ]
  },
  {
   "cell_type": "code",
   "execution_count": 2,
   "metadata": {
    "execution": {
     "iopub.execute_input": "2022-06-16T05:43:50.009860Z",
     "iopub.status.busy": "2022-06-16T05:43:50.009270Z",
     "iopub.status.idle": "2022-06-16T05:43:50.080129Z",
     "shell.execute_reply": "2022-06-16T05:43:50.079498Z"
    },
    "papermill": {
     "duration": 0.077855,
     "end_time": "2022-06-16T05:43:50.082155",
     "exception": false,
     "start_time": "2022-06-16T05:43:50.004300",
     "status": "completed"
    },
    "tags": []
   },
   "outputs": [],
   "source": [
    "df = pd.read_csv('XSS_dataset.csv', encoding='utf-8-sig')\n",
    "X = df['Sentence']\n",
    "y = df['Label']"
   ]
  },
  {
   "cell_type": "code",
   "execution_count": 3,
   "metadata": {
    "execution": {
     "iopub.execute_input": "2022-06-16T05:43:50.091496Z",
     "iopub.status.busy": "2022-06-16T05:43:50.090619Z",
     "iopub.status.idle": "2022-06-16T05:44:10.137129Z",
     "shell.execute_reply": "2022-06-16T05:44:10.136271Z"
    },
    "papermill": {
     "duration": 20.053997,
     "end_time": "2022-06-16T05:44:10.140190",
     "exception": false,
     "start_time": "2022-06-16T05:43:50.086193",
     "status": "completed"
    },
    "tags": []
   },
   "outputs": [
    {
     "name": "stderr",
     "output_type": "stream",
     "text": [
      "[nltk_data] Downloading package stopwords to /root/nltk_data...\n",
      "[nltk_data]   Package stopwords is already up-to-date!\n"
     ]
    },
    {
     "data": {
      "text/plain": [
       "True"
      ]
     },
     "execution_count": 3,
     "metadata": {},
     "output_type": "execute_result"
    }
   ],
   "source": [
    "import nltk\n",
    "\n",
    "nltk.download('stopwords')"
   ]
  },
  {
   "cell_type": "code",
   "execution_count": 14,
   "metadata": {},
   "outputs": [],
   "source": [
    "from nltk.corpus import stopwords"
   ]
  },
  {
   "cell_type": "code",
   "execution_count": 4,
   "metadata": {
    "execution": {
     "iopub.execute_input": "2022-06-16T05:44:10.149493Z",
     "iopub.status.busy": "2022-06-16T05:44:10.149028Z",
     "iopub.status.idle": "2022-06-16T05:44:11.302844Z",
     "shell.execute_reply": "2022-06-16T05:44:11.301781Z"
    },
    "papermill": {
     "duration": 1.160809,
     "end_time": "2022-06-16T05:44:11.305045",
     "exception": false,
     "start_time": "2022-06-16T05:44:10.144236",
     "status": "completed"
    },
    "tags": []
   },
   "outputs": [
    {
     "name": "stdout",
     "output_type": "stream",
     "text": [
      "(10948, 5640)\n",
      "(10948,)\n",
      "(2738, 5640)\n",
      "(2738,)\n"
     ]
    }
   ],
   "source": [
    "vectorizer = CountVectorizer(min_df = 2, max_df = 0.8, stop_words = stopwords.words('english'))\n",
    "X = vectorizer.fit_transform(X.values.astype('U')).toarray()\n",
    "\n",
    "X_train, X_test, y_train, y_test = train_test_split(X, y, test_size = 0.2, random_state=1)\n",
    "print(X_train.shape)\n",
    "print(y_train.shape)\n",
    "print(X_test.shape)\n",
    "print(y_test.shape)"
   ]
  },
  {
   "cell_type": "code",
   "execution_count": 5,
   "metadata": {
    "execution": {
     "iopub.execute_input": "2022-06-16T05:44:11.315488Z",
     "iopub.status.busy": "2022-06-16T05:44:11.314679Z",
     "iopub.status.idle": "2022-06-16T05:44:13.124657Z",
     "shell.execute_reply": "2022-06-16T05:44:13.123734Z"
    },
    "papermill": {
     "duration": 1.820637,
     "end_time": "2022-06-16T05:44:13.129969",
     "exception": false,
     "start_time": "2022-06-16T05:44:11.309332",
     "status": "completed"
    },
    "tags": []
   },
   "outputs": [
    {
     "name": "stdout",
     "output_type": "stream",
     "text": [
      "Accuracy of Logistic Regression on test set : 0.9985390796201608\n",
      "F1 Score of Logistic Regression on test set : 0.9986101459346769\n",
      "sensitivity= 0.9979166666666667\n",
      "specificity= 0.9992295839753467\n",
      "Precision= 0.9993045897079277\n"
     ]
    }
   ],
   "source": [
    "lr_clf = LogisticRegression()\n",
    "lr_clf.fit(X_train, y_train)\n",
    "y_pred = lr_clf.predict(X_test)\n",
    "print(f\"Accuracy of Logistic Regression on test set : {accuracy_score(y_pred, y_test)}\")\n",
    "print(f\"F1 Score of Logistic Regression on test set : {f1_score(y_pred, y_test)}\")\n",
    "confusion = confusion_matrix(y_test, y_pred)\n",
    "\n",
    "TP = confusion[1, 1]\n",
    "TN = confusion[0, 0]\n",
    "FP = confusion[0, 1]\n",
    "FN = confusion[1, 0]\n",
    "\n",
    "sensitivity = TP / float(FN + TP)\n",
    "\n",
    "print(\"sensitivity=\",sensitivity)\n",
    "specificity = TN / (TN + FP)\n",
    "print(\"specificity=\",specificity)\n",
    "\n",
    "\n",
    "Precision = TP / float(TP + FP)\n",
    "Recall = TP / float(TP + FN)\n",
    "F1 = 2*((Precision*Recall)/(Precision+Recall))\n",
    "print (\"Precision=\",Precision)"
   ]
  },
  {
   "cell_type": "code",
   "execution_count": 6,
   "metadata": {
    "execution": {
     "iopub.execute_input": "2022-06-16T05:44:13.149232Z",
     "iopub.status.busy": "2022-06-16T05:44:13.148048Z",
     "iopub.status.idle": "2022-06-16T05:44:13.153803Z",
     "shell.execute_reply": "2022-06-16T05:44:13.152876Z"
    },
    "papermill": {
     "duration": 0.019206,
     "end_time": "2022-06-16T05:44:13.158033",
     "exception": false,
     "start_time": "2022-06-16T05:44:13.138827",
     "status": "completed"
    },
    "tags": []
   },
   "outputs": [],
   "source": [
    "from sklearn.ensemble import AdaBoostClassifier"
   ]
  },
  {
   "cell_type": "code",
   "execution_count": 7,
   "metadata": {
    "execution": {
     "iopub.execute_input": "2022-06-16T05:44:13.174001Z",
     "iopub.status.busy": "2022-06-16T05:44:13.173548Z",
     "iopub.status.idle": "2022-06-16T05:46:00.907841Z",
     "shell.execute_reply": "2022-06-16T05:46:00.906775Z"
    },
    "papermill": {
     "duration": 107.748845,
     "end_time": "2022-06-16T05:46:00.914049",
     "exception": false,
     "start_time": "2022-06-16T05:44:13.165204",
     "status": "completed"
    },
    "tags": []
   },
   "outputs": [
    {
     "name": "stdout",
     "output_type": "stream",
     "text": [
      "Accuracy of AadaBoost on test set : 0.9992695398100804\n",
      "F1 Score of AadaBoost on test set : 0.9993050729673384\n",
      "sensitivity= 0.9986111111111111\n",
      "specificity= 1.0\n",
      "Precision= 1.0\n"
     ]
    }
   ],
   "source": [
    "lr_clf = AdaBoostClassifier(n_estimators=100)\n",
    "lr_clf.fit(X_train, y_train)\n",
    "y_pred = lr_clf.predict(X_test)\n",
    "print(f\"Accuracy of AadaBoost on test set : {accuracy_score(y_pred, y_test)}\")\n",
    "print(f\"F1 Score of AadaBoost on test set : {f1_score(y_pred, y_test)}\")\n",
    "confusion = confusion_matrix(y_test, y_pred)\n",
    "\n",
    "TP = confusion[1, 1]\n",
    "TN = confusion[0, 0]\n",
    "FP = confusion[0, 1]\n",
    "FN = confusion[1, 0]\n",
    "\n",
    "sensitivity = TP / float(FN + TP)\n",
    "\n",
    "print(\"sensitivity=\",sensitivity)\n",
    "specificity = TN / (TN + FP)\n",
    "print(\"specificity=\",specificity)\n",
    "\n",
    "\n",
    "Precision = TP / float(TP + FP)\n",
    "Recall = TP / float(TP + FN)\n",
    "F1 = 2*((Precision*Recall)/(Precision+Recall))\n",
    "print (\"Precision=\",Precision)"
   ]
  },
  {
   "cell_type": "code",
   "execution_count": 8,
   "metadata": {
    "execution": {
     "iopub.execute_input": "2022-06-16T05:46:00.925384Z",
     "iopub.status.busy": "2022-06-16T05:46:00.925046Z",
     "iopub.status.idle": "2022-06-16T05:46:02.176392Z",
     "shell.execute_reply": "2022-06-16T05:46:02.175500Z"
    },
    "papermill": {
     "duration": 1.259138,
     "end_time": "2022-06-16T05:46:02.178791",
     "exception": false,
     "start_time": "2022-06-16T05:46:00.919653",
     "status": "completed"
    },
    "tags": []
   },
   "outputs": [
    {
     "name": "stdout",
     "output_type": "stream",
     "text": [
      "Accuracy of Naive Bayes on test set : 0.8889700511322133\n",
      "F1 Score of Naive Bayes on test set : 0.9044626021370208\n",
      "sensitivity= 0.9993055555555556\n",
      "specificity= 0.7665639445300462\n",
      "Precision= 0.8260619977037887\n"
     ]
    }
   ],
   "source": [
    "nb_clf = GaussianNB()\n",
    "nb_clf.fit(X_train, y_train)\n",
    "y_pred = nb_clf.predict(X_test)\n",
    "print(f\"Accuracy of Naive Bayes on test set : {accuracy_score(y_pred, y_test)}\")\n",
    "print(f\"F1 Score of Naive Bayes on test set : {f1_score(y_pred, y_test)}\")\n",
    "\n",
    "confusion = confusion_matrix(y_test, y_pred)\n",
    "\n",
    "TP = confusion[1, 1]\n",
    "TN = confusion[0, 0]\n",
    "FP = confusion[0, 1]\n",
    "FN = confusion[1, 0]\n",
    "\n",
    "sensitivity = TP / float(FN + TP)\n",
    "\n",
    "print(\"sensitivity=\",sensitivity)\n",
    "specificity = TN / (TN + FP)\n",
    "print(\"specificity=\",specificity)\n",
    "\n",
    "\n",
    "Precision = TP / float(TP + FP)\n",
    "Recall = TP / float(TP + FN)\n",
    "F1 = 2*((Precision*Recall)/(Precision+Recall))\n",
    "print (\"Precision=\",Precision)"
   ]
  },
  {
   "cell_type": "code",
   "execution_count": 9,
   "metadata": {
    "execution": {
     "iopub.execute_input": "2022-06-16T05:46:02.190256Z",
     "iopub.status.busy": "2022-06-16T05:46:02.189560Z",
     "iopub.status.idle": "2022-06-16T05:46:02.343398Z",
     "shell.execute_reply": "2022-06-16T05:46:02.342466Z"
    },
    "papermill": {
     "duration": 0.161278,
     "end_time": "2022-06-16T05:46:02.345692",
     "exception": false,
     "start_time": "2022-06-16T05:46:02.184414",
     "status": "completed"
    },
    "tags": []
   },
   "outputs": [],
   "source": [
    "import xgboost as xgb"
   ]
  },
  {
   "cell_type": "code",
   "execution_count": 10,
   "metadata": {
    "execution": {
     "iopub.execute_input": "2022-06-16T05:46:02.356230Z",
     "iopub.status.busy": "2022-06-16T05:46:02.355438Z",
     "iopub.status.idle": "2022-06-16T05:47:33.683408Z",
     "shell.execute_reply": "2022-06-16T05:47:33.682643Z"
    },
    "papermill": {
     "duration": 91.341347,
     "end_time": "2022-06-16T05:47:33.691363",
     "exception": false,
     "start_time": "2022-06-16T05:46:02.350016",
     "status": "completed"
    },
    "tags": []
   },
   "outputs": [
    {
     "name": "stdout",
     "output_type": "stream",
     "text": [
      "[01:13:37] WARNING: ../src/learner.cc:1115: Starting in XGBoost 1.3.0, the default evaluation metric used with the objective 'binary:logistic' was changed from 'error' to 'logloss'. Explicitly set eval_metric if you'd like to restore the old behavior.\n",
      "Accuracy of XGBoost on test set : 0.9970781592403214\n",
      "F1 Score of XGBoost on test set : 0.9972183588317107\n",
      "sensitivity= 0.9958333333333333\n",
      "specificity= 0.9984591679506933\n",
      "Precision= 0.9986072423398329\n"
     ]
    }
   ],
   "source": [
    "nb_clf = xgb.XGBClassifier(n_estimators=100)\n",
    "nb_clf.fit(X_train, y_train)\n",
    "y_pred = nb_clf.predict(X_test)\n",
    "print(f\"Accuracy of XGBoost on test set : {accuracy_score(y_pred, y_test)}\")\n",
    "print(f\"F1 Score of XGBoost on test set : {f1_score(y_pred, y_test)}\")\n",
    "confusion = confusion_matrix(y_test, y_pred)\n",
    "\n",
    "TP = confusion[1, 1]\n",
    "TN = confusion[0, 0]\n",
    "FP = confusion[0, 1]\n",
    "FN = confusion[1, 0]\n",
    "\n",
    "sensitivity = TP / float(FN + TP)\n",
    "\n",
    "print(\"sensitivity=\",sensitivity)\n",
    "specificity = TN / (TN + FP)\n",
    "print(\"specificity=\",specificity)\n",
    "\n",
    "\n",
    "Precision = TP / float(TP + FP)\n",
    "Recall = TP / float(TP + FN)\n",
    "F1 = 2*((Precision*Recall)/(Precision+Recall))\n",
    "print (\"Precision=\",Precision)"
   ]
  },
  {
   "cell_type": "code",
   "execution_count": 12,
   "metadata": {
    "execution": {
     "iopub.execute_input": "2022-06-16T05:47:33.716965Z",
     "iopub.status.busy": "2022-06-16T05:47:33.716702Z",
     "iopub.status.idle": "2022-06-16T05:47:33.720322Z",
     "shell.execute_reply": "2022-06-16T05:47:33.719498Z"
    },
    "papermill": {
     "duration": 0.010358,
     "end_time": "2022-06-16T05:47:33.722086",
     "exception": false,
     "start_time": "2022-06-16T05:47:33.711728",
     "status": "completed"
    },
    "tags": []
   },
   "outputs": [],
   "source": [
    "from sklearn.tree import DecisionTreeClassifier"
   ]
  },
  {
   "cell_type": "code",
   "execution_count": 13,
   "metadata": {
    "execution": {
     "iopub.execute_input": "2022-06-16T05:47:33.732049Z",
     "iopub.status.busy": "2022-06-16T05:47:33.731440Z",
     "iopub.status.idle": "2022-06-16T05:47:35.896185Z",
     "shell.execute_reply": "2022-06-16T05:47:35.894774Z"
    },
    "papermill": {
     "duration": 2.172582,
     "end_time": "2022-06-16T05:47:35.898883",
     "exception": false,
     "start_time": "2022-06-16T05:47:33.726301",
     "status": "completed"
    },
    "tags": []
   },
   "outputs": [
    {
     "name": "stdout",
     "output_type": "stream",
     "text": [
      "Accuracy of Decision Tree on test set : 0.9989043097151206\n",
      "F1 Score of Decision Tree on test set : 0.9989579715178881\n",
      "sensitivity= 0.9986111111111111\n",
      "specificity= 0.9992295839753467\n",
      "Precision= 0.9993050729673384\n"
     ]
    }
   ],
   "source": [
    "nb_clf = DecisionTreeClassifier(criterion='entropy', random_state=0)\n",
    "nb_clf.fit(X_train, y_train)\n",
    "y_pred = nb_clf.predict(X_test)\n",
    "print(f\"Accuracy of Decision Tree on test set : {accuracy_score(y_pred, y_test)}\")\n",
    "print(f\"F1 Score of Decision Tree on test set : {f1_score(y_pred, y_test)}\")\n",
    "confusion = confusion_matrix(y_test, y_pred)\n",
    "\n",
    "TP = confusion[1, 1]\n",
    "TN = confusion[0, 0]\n",
    "FP = confusion[0, 1]\n",
    "FN = confusion[1, 0]\n",
    "\n",
    "sensitivity = TP / float(FN + TP)\n",
    "\n",
    "print(\"sensitivity=\",sensitivity)\n",
    "specificity = TN / (TN + FP)\n",
    "print(\"specificity=\",specificity)\n",
    "\n",
    "\n",
    "Precision = TP / float(TP + FP)\n",
    "Recall = TP / float(TP + FN)\n",
    "F1 = 2*((Precision*Recall)/(Precision+Recall))\n",
    "print (\"Precision=\",Precision)"
   ]
  }
 ],
 "metadata": {
  "kernelspec": {
   "display_name": "exp1",
   "language": "python",
   "name": "exp1"
  },
  "language_info": {
   "codemirror_mode": {
    "name": "ipython",
    "version": 3
   },
   "file_extension": ".py",
   "mimetype": "text/x-python",
   "name": "python",
   "nbconvert_exporter": "python",
   "pygments_lexer": "ipython3",
   "version": "3.6.13"
  },
  "papermill": {
   "default_parameters": {},
   "duration": 246.021594,
   "end_time": "2022-06-16T05:47:38.590236",
   "environment_variables": {},
   "exception": null,
   "input_path": "__notebook__.ipynb",
   "output_path": "__notebook__.ipynb",
   "parameters": {},
   "start_time": "2022-06-16T05:43:32.568642",
   "version": "2.3.4"
  }
 },
 "nbformat": 4,
 "nbformat_minor": 5
}
