{
 "cells": [
  {
   "cell_type": "code",
   "execution_count": 1,
   "metadata": {
    "execution": {
     "iopub.execute_input": "2021-10-10T06:04:40.179257Z",
     "iopub.status.busy": "2021-10-10T06:04:40.177773Z",
     "iopub.status.idle": "2021-10-10T06:04:44.733064Z",
     "shell.execute_reply": "2021-10-10T06:04:44.734262Z",
     "shell.execute_reply.started": "2021-10-10T01:36:04.906571Z"
    },
    "papermill": {
     "duration": 4.570036,
     "end_time": "2021-10-10T06:04:44.734614",
     "exception": false,
     "start_time": "2021-10-10T06:04:40.164578",
     "status": "completed"
    },
    "tags": []
   },
   "outputs": [],
   "source": [
    "import numpy as np\n",
    "import pandas as pd\n",
    "import tensorflow as tf\n",
    "from sklearn.model_selection import train_test_split\n",
    "from sklearn.metrics import classification_report\n",
    "from sklearn.metrics import confusion_matrix, accuracy_score, precision_score, recall_score"
   ]
  },
  {
   "cell_type": "code",
   "execution_count": 2,
   "metadata": {
    "execution": {
     "iopub.execute_input": "2021-10-10T06:04:44.771573Z",
     "iopub.status.busy": "2021-10-10T06:04:44.770674Z",
     "iopub.status.idle": "2021-10-10T06:04:44.865932Z",
     "shell.execute_reply": "2021-10-10T06:04:44.866965Z",
     "shell.execute_reply.started": "2021-10-10T01:36:04.912316Z"
    },
    "papermill": {
     "duration": 0.11635,
     "end_time": "2021-10-10T06:04:44.867174",
     "exception": false,
     "start_time": "2021-10-10T06:04:44.750824",
     "status": "completed"
    },
    "tags": []
   },
   "outputs": [
    {
     "data": {
      "text/html": [
       "<div>\n",
       "<style scoped>\n",
       "    .dataframe tbody tr th:only-of-type {\n",
       "        vertical-align: middle;\n",
       "    }\n",
       "\n",
       "    .dataframe tbody tr th {\n",
       "        vertical-align: top;\n",
       "    }\n",
       "\n",
       "    .dataframe thead th {\n",
       "        text-align: right;\n",
       "    }\n",
       "</style>\n",
       "<table border=\"1\" class=\"dataframe\">\n",
       "  <thead>\n",
       "    <tr style=\"text-align: right;\">\n",
       "      <th></th>\n",
       "      <th>Unnamed: 0</th>\n",
       "      <th>Sentence</th>\n",
       "      <th>Label</th>\n",
       "    </tr>\n",
       "  </thead>\n",
       "  <tbody>\n",
       "    <tr>\n",
       "      <th>0</th>\n",
       "      <td>0</td>\n",
       "      <td>&lt;li&gt;&lt;a href=\"/wiki/File:Socrates.png\" class=\"i...</td>\n",
       "      <td>0</td>\n",
       "    </tr>\n",
       "    <tr>\n",
       "      <th>1</th>\n",
       "      <td>1</td>\n",
       "      <td>&lt;tt onmouseover=\"alert(1)\"&gt;test&lt;/tt&gt;</td>\n",
       "      <td>1</td>\n",
       "    </tr>\n",
       "    <tr>\n",
       "      <th>2</th>\n",
       "      <td>2</td>\n",
       "      <td>\\t &lt;/span&gt; &lt;span class=\"reference-text\"&gt;Steeri...</td>\n",
       "      <td>0</td>\n",
       "    </tr>\n",
       "    <tr>\n",
       "      <th>3</th>\n",
       "      <td>3</td>\n",
       "      <td>\\t &lt;/span&gt; &lt;span class=\"reference-text\"&gt;&lt;cite ...</td>\n",
       "      <td>0</td>\n",
       "    </tr>\n",
       "    <tr>\n",
       "      <th>4</th>\n",
       "      <td>4</td>\n",
       "      <td>\\t &lt;/span&gt;. &lt;a href=\"/wiki/Digital_object_iden...</td>\n",
       "      <td>0</td>\n",
       "    </tr>\n",
       "  </tbody>\n",
       "</table>\n",
       "</div>"
      ],
      "text/plain": [
       "   Unnamed: 0                                           Sentence  Label\n",
       "0           0  <li><a href=\"/wiki/File:Socrates.png\" class=\"i...      0\n",
       "1           1               <tt onmouseover=\"alert(1)\">test</tt>      1\n",
       "2           2  \\t </span> <span class=\"reference-text\">Steeri...      0\n",
       "3           3  \\t </span> <span class=\"reference-text\"><cite ...      0\n",
       "4           4  \\t </span>. <a href=\"/wiki/Digital_object_iden...      0"
      ]
     },
     "execution_count": 2,
     "metadata": {},
     "output_type": "execute_result"
    }
   ],
   "source": [
    "df = pd.read_csv('XSS_dataset.csv', encoding='utf-8-sig')\n",
    "df.head()"
   ]
  },
  {
   "cell_type": "code",
   "execution_count": 3,
   "metadata": {
    "execution": {
     "iopub.execute_input": "2021-10-10T06:04:44.902239Z",
     "iopub.status.busy": "2021-10-10T06:04:44.901259Z",
     "iopub.status.idle": "2021-10-10T06:04:44.902881Z",
     "shell.execute_reply": "2021-10-10T06:04:44.903316Z",
     "shell.execute_reply.started": "2021-10-10T01:36:04.955116Z"
    },
    "papermill": {
     "duration": 0.020151,
     "end_time": "2021-10-10T06:04:44.903443",
     "exception": false,
     "start_time": "2021-10-10T06:04:44.883292",
     "status": "completed"
    },
    "tags": []
   },
   "outputs": [],
   "source": [
    "def data2char_index(X, max_len):\n",
    "    alphabet = \" abcdefghijklmnopqrstuvwxyz0123456789-,;.!?:'\\\"/\\\\|_@#$%^&*~`+-=<>()[]{}\"\n",
    "    result = [] \n",
    "    for data in X:\n",
    "        mat = []\n",
    "        for ch in data:\n",
    "            if ch not in alphabet:\n",
    "                continue\n",
    "            mat.append(alphabet.index(ch))\n",
    "        result.append(mat)   \n",
    "    X_char = tf.keras.preprocessing.sequence.pad_sequences(np.array(result, dtype=object), padding='post',\n",
    "                                                           truncating='post', maxlen=max_len)\n",
    "    return X_char"
   ]
  },
  {
   "cell_type": "code",
   "execution_count": 4,
   "metadata": {
    "execution": {
     "iopub.execute_input": "2021-10-10T06:04:44.934541Z",
     "iopub.status.busy": "2021-10-10T06:04:44.929143Z",
     "iopub.status.idle": "2021-10-10T06:04:45.744085Z",
     "shell.execute_reply": "2021-10-10T06:04:45.743639Z",
     "shell.execute_reply.started": "2021-10-10T01:36:04.961278Z"
    },
    "papermill": {
     "duration": 0.831834,
     "end_time": "2021-10-10T06:04:45.744236",
     "exception": false,
     "start_time": "2021-10-10T06:04:44.912402",
     "status": "completed"
    },
    "tags": []
   },
   "outputs": [],
   "source": [
    "data = df['Sentence'].values\n",
    "label = df['Label'].values\n",
    "\n",
    "trainX, testX, y_train, y_test = train_test_split(data, label, test_size=0.2, random_state=42)\n",
    "\n",
    "x_train = data2char_index(trainX, max_len=1000)\n",
    "x_test = data2char_index(testX, max_len=1000)"
   ]
  },
  {
   "cell_type": "code",
   "execution_count": 5,
   "metadata": {
    "execution": {
     "iopub.execute_input": "2021-10-10T06:04:45.769700Z",
     "iopub.status.busy": "2021-10-10T06:04:45.768936Z",
     "iopub.status.idle": "2021-10-10T06:04:45.772318Z",
     "shell.execute_reply": "2021-10-10T06:04:45.772721Z",
     "shell.execute_reply.started": "2021-10-10T01:36:05.494098Z"
    },
    "papermill": {
     "duration": 0.019008,
     "end_time": "2021-10-10T06:04:45.772842",
     "exception": false,
     "start_time": "2021-10-10T06:04:45.753834",
     "status": "completed"
    },
    "tags": []
   },
   "outputs": [
    {
     "data": {
      "text/plain": [
       "(10948, 1000)"
      ]
     },
     "execution_count": 5,
     "metadata": {},
     "output_type": "execute_result"
    }
   ],
   "source": [
    "x_train.shape"
   ]
  },
  {
   "cell_type": "code",
   "execution_count": 6,
   "metadata": {
    "execution": {
     "iopub.execute_input": "2021-10-10T06:04:45.796710Z",
     "iopub.status.busy": "2021-10-10T06:04:45.793949Z",
     "iopub.status.idle": "2021-10-10T06:04:45.799284Z",
     "shell.execute_reply": "2021-10-10T06:04:45.799704Z",
     "shell.execute_reply.started": "2021-10-10T01:36:05.499933Z"
    },
    "papermill": {
     "duration": 0.017477,
     "end_time": "2021-10-10T06:04:45.799825",
     "exception": false,
     "start_time": "2021-10-10T06:04:45.782348",
     "status": "completed"
    },
    "tags": []
   },
   "outputs": [
    {
     "data": {
      "text/plain": [
       "(2738, 1000)"
      ]
     },
     "execution_count": 6,
     "metadata": {},
     "output_type": "execute_result"
    }
   ],
   "source": [
    "x_test.shape"
   ]
  },
  {
   "cell_type": "code",
   "execution_count": 7,
   "metadata": {
    "execution": {
     "iopub.execute_input": "2021-10-10T06:04:45.828927Z",
     "iopub.status.busy": "2021-10-10T06:04:45.826939Z",
     "iopub.status.idle": "2021-10-10T06:04:45.830881Z",
     "shell.execute_reply": "2021-10-10T06:04:45.831312Z",
     "shell.execute_reply.started": "2021-10-10T01:36:05.515166Z"
    },
    "papermill": {
     "duration": 0.022156,
     "end_time": "2021-10-10T06:04:45.831431",
     "exception": false,
     "start_time": "2021-10-10T06:04:45.809275",
     "status": "completed"
    },
    "tags": []
   },
   "outputs": [],
   "source": [
    "def get_charcnn_model(max_len):\n",
    "    main_input = tf.keras.layers.Input(shape=(max_len,))\n",
    "    \n",
    "    embedder = tf.keras.layers.Embedding(\n",
    "        input_dim=70,  \n",
    "        output_dim=80, \n",
    "        input_length=max_len,\n",
    "        trainable=False\n",
    "    )\n",
    "    embed = embedder(main_input)\n",
    "    \n",
    "    cnn1 = tf.keras.layers.Conv1D(32, 5, padding='same', strides=1, activation='relu')(embed)\n",
    "    cnn1 = tf.keras.layers.MaxPooling1D(pool_size=12)(cnn1)\n",
    "    \n",
    "    cnn2 = tf.keras.layers.Conv1D(32, 10, padding='same', strides=1, activation='relu')(embed)\n",
    "    cnn2 = tf.keras.layers.MaxPooling1D(pool_size=11)(cnn2)\n",
    "    \n",
    "    cnn3 = tf.keras.layers.Conv1D(32, 15, padding='same', strides=1, activation='relu')(embed)\n",
    "    cnn3 = tf.keras.layers.MaxPooling1D(pool_size=10)(cnn3)\n",
    "    \n",
    "    cnn = tf.keras.layers.concatenate([cnn1, cnn2, cnn3], axis=1)\n",
    "    flat = tf.keras.layers.Flatten()(cnn)\n",
    "    drop = tf.keras.layers.Dropout(0.2)(flat)\n",
    "    dense1 = tf.keras.layers.Dense(1024, activation='relu')(drop)\n",
    "    dense2 = tf.keras.layers.Dense(128, activation='relu')(dense1)\n",
    "    main_output = tf.keras.layers.Dense(1, activation='sigmoid')(dense2)\n",
    "    model = tf.keras.Model(inputs=main_input, outputs=main_output)\n",
    "    return model"
   ]
  },
  {
   "cell_type": "code",
   "execution_count": 8,
   "metadata": {
    "execution": {
     "iopub.execute_input": "2021-10-10T06:04:45.854650Z",
     "iopub.status.busy": "2021-10-10T06:04:45.853872Z",
     "iopub.status.idle": "2021-10-10T06:04:47.711892Z",
     "shell.execute_reply": "2021-10-10T06:04:47.712333Z",
     "shell.execute_reply.started": "2021-10-10T01:36:05.529111Z"
    },
    "papermill": {
     "duration": 1.871458,
     "end_time": "2021-10-10T06:04:47.712500",
     "exception": false,
     "start_time": "2021-10-10T06:04:45.841042",
     "status": "completed"
    },
    "tags": []
   },
   "outputs": [
    {
     "name": "stdout",
     "output_type": "stream",
     "text": [
      "WARNING:tensorflow:From /root/anaconda3/envs/exp1/lib/python3.6/site-packages/tensorflow_core/python/keras/initializers.py:119: calling RandomUniform.__init__ (from tensorflow.python.ops.init_ops) with dtype is deprecated and will be removed in a future version.\n",
      "Instructions for updating:\n",
      "Call initializer instance with the dtype argument instead of passing it to the constructor\n",
      "WARNING:tensorflow:From /root/anaconda3/envs/exp1/lib/python3.6/site-packages/tensorflow_core/python/ops/resource_variable_ops.py:1630: calling BaseResourceVariable.__init__ (from tensorflow.python.ops.resource_variable_ops) with constraint is deprecated and will be removed in a future version.\n",
      "Instructions for updating:\n",
      "If using Keras pass *_constraint arguments to layers.\n",
      "WARNING:tensorflow:From /root/anaconda3/envs/exp1/lib/python3.6/site-packages/tensorflow_core/python/ops/nn_impl.py:183: where (from tensorflow.python.ops.array_ops) is deprecated and will be removed in a future version.\n",
      "Instructions for updating:\n",
      "Use tf.where in 2.0, which has the same broadcast rule as np.where\n",
      "Model: \"model\"\n",
      "__________________________________________________________________________________________________\n",
      "Layer (type)                    Output Shape         Param #     Connected to                     \n",
      "==================================================================================================\n",
      "input_1 (InputLayer)            [(None, 1000)]       0                                            \n",
      "__________________________________________________________________________________________________\n",
      "embedding (Embedding)           (None, 1000, 80)     5600        input_1[0][0]                    \n",
      "__________________________________________________________________________________________________\n",
      "conv1d (Conv1D)                 (None, 1000, 32)     12832       embedding[0][0]                  \n",
      "__________________________________________________________________________________________________\n",
      "conv1d_1 (Conv1D)               (None, 1000, 32)     25632       embedding[0][0]                  \n",
      "__________________________________________________________________________________________________\n",
      "conv1d_2 (Conv1D)               (None, 1000, 32)     38432       embedding[0][0]                  \n",
      "__________________________________________________________________________________________________\n",
      "max_pooling1d (MaxPooling1D)    (None, 83, 32)       0           conv1d[0][0]                     \n",
      "__________________________________________________________________________________________________\n",
      "max_pooling1d_1 (MaxPooling1D)  (None, 90, 32)       0           conv1d_1[0][0]                   \n",
      "__________________________________________________________________________________________________\n",
      "max_pooling1d_2 (MaxPooling1D)  (None, 100, 32)      0           conv1d_2[0][0]                   \n",
      "__________________________________________________________________________________________________\n",
      "concatenate (Concatenate)       (None, 273, 32)      0           max_pooling1d[0][0]              \n",
      "                                                                 max_pooling1d_1[0][0]            \n",
      "                                                                 max_pooling1d_2[0][0]            \n",
      "__________________________________________________________________________________________________\n",
      "flatten (Flatten)               (None, 8736)         0           concatenate[0][0]                \n",
      "__________________________________________________________________________________________________\n",
      "dropout (Dropout)               (None, 8736)         0           flatten[0][0]                    \n",
      "__________________________________________________________________________________________________\n",
      "dense (Dense)                   (None, 1024)         8946688     dropout[0][0]                    \n",
      "__________________________________________________________________________________________________\n",
      "dense_1 (Dense)                 (None, 128)          131200      dense[0][0]                      \n",
      "__________________________________________________________________________________________________\n",
      "dense_2 (Dense)                 (None, 1)            129         dense_1[0][0]                    \n",
      "==================================================================================================\n",
      "Total params: 9,160,513\n",
      "Trainable params: 9,154,913\n",
      "Non-trainable params: 5,600\n",
      "__________________________________________________________________________________________________\n"
     ]
    }
   ],
   "source": [
    "model = get_charcnn_model(max_len=1000)\n",
    "model.compile(\n",
    "    loss='binary_crossentropy', \n",
    "    optimizer='adam', \n",
    "    metrics=['accuracy']\n",
    ")\n",
    "model.summary()"
   ]
  },
  {
   "cell_type": "code",
   "execution_count": 9,
   "metadata": {
    "execution": {
     "iopub.execute_input": "2021-10-10T06:04:47.738381Z",
     "iopub.status.busy": "2021-10-10T06:04:47.737850Z",
     "iopub.status.idle": "2021-10-10T06:05:07.510722Z",
     "shell.execute_reply": "2021-10-10T06:05:07.511182Z",
     "shell.execute_reply.started": "2021-10-10T01:36:05.687345Z"
    },
    "papermill": {
     "duration": 19.788134,
     "end_time": "2021-10-10T06:05:07.511360",
     "exception": false,
     "start_time": "2021-10-10T06:04:47.723226",
     "status": "completed"
    },
    "tags": []
   },
   "outputs": [
    {
     "name": "stdout",
     "output_type": "stream",
     "text": [
      "Train on 10948 samples, validate on 2738 samples\n",
      "Epoch 1/5\n",
      "10948/10948 [==============================] - 83s 8ms/sample - loss: 0.1520 - acc: 0.9312 - val_loss: 0.0163 - val_acc: 0.9953\n",
      "Epoch 2/5\n",
      "10948/10948 [==============================] - 83s 8ms/sample - loss: 0.0101 - acc: 0.9973 - val_loss: 0.0082 - val_acc: 0.9978\n",
      "Epoch 3/5\n",
      "10948/10948 [==============================] - 82s 7ms/sample - loss: 0.0041 - acc: 0.9987 - val_loss: 0.0056 - val_acc: 0.9982\n",
      "Epoch 4/5\n",
      "10948/10948 [==============================] - 77s 7ms/sample - loss: 0.0040 - acc: 0.9993 - val_loss: 0.0054 - val_acc: 0.9982\n",
      "Epoch 5/5\n",
      "10948/10948 [==============================] - 78s 7ms/sample - loss: 9.6411e-04 - acc: 0.9999 - val_loss: 0.0054 - val_acc: 0.9982\n"
     ]
    }
   ],
   "source": [
    "batch_size = 128\n",
    "num_epoch = 5\n",
    "model_log = model.fit(\n",
    "    x_train, \n",
    "    y_train,\n",
    "    batch_size=batch_size,\n",
    "    epochs=num_epoch,\n",
    "    verbose=1,\n",
    "    validation_data=(x_test, y_test)\n",
    ")"
   ]
  },
  {
   "cell_type": "code",
   "execution_count": 12,
   "metadata": {
    "execution": {
     "iopub.execute_input": "2021-10-10T06:05:07.622652Z",
     "iopub.status.busy": "2021-10-10T06:05:07.621733Z",
     "iopub.status.idle": "2021-10-10T06:05:08.102512Z",
     "shell.execute_reply": "2021-10-10T06:05:08.101966Z",
     "shell.execute_reply.started": "2021-10-10T01:41:44.247185Z"
    },
    "papermill": {
     "duration": 0.53778,
     "end_time": "2021-10-10T06:05:08.102654",
     "exception": false,
     "start_time": "2021-10-10T06:05:07.564874",
     "status": "completed"
    },
    "tags": []
   },
   "outputs": [],
   "source": [
    "pred = model.predict(x_test)\n",
    "y_pred = np.int64(pred>0.5)"
   ]
  },
  {
   "cell_type": "code",
   "execution_count": 13,
   "metadata": {
    "execution": {
     "iopub.execute_input": "2021-10-10T06:05:08.215698Z",
     "iopub.status.busy": "2021-10-10T06:05:08.214839Z",
     "iopub.status.idle": "2021-10-10T06:05:08.222636Z",
     "shell.execute_reply": "2021-10-10T06:05:08.223056Z",
     "shell.execute_reply.started": "2021-10-10T01:43:12.007382Z"
    },
    "papermill": {
     "duration": 0.066729,
     "end_time": "2021-10-10T06:05:08.223206",
     "exception": false,
     "start_time": "2021-10-10T06:05:08.156477",
     "status": "completed"
    },
    "tags": []
   },
   "outputs": [
    {
     "name": "stdout",
     "output_type": "stream",
     "text": [
      " Accuracy : 0.9981738495252008 \n",
      " Precision : 1.0 \n",
      " Recall : 0.996617050067659\n"
     ]
    }
   ],
   "source": [
    "accuracy = accuracy_score(y_test, y_pred)\n",
    "precision = precision_score(y_test, y_pred)\n",
    "recall = recall_score(y_test, y_pred)\n",
    "print(\" Accuracy : {0} \\n Precision : {1} \\n Recall : {2}\".format(accuracy, precision, recall))"
   ]
  }
 ],
 "metadata": {
  "kernelspec": {
   "display_name": "exp1",
   "language": "python",
   "name": "exp1"
  },
  "language_info": {
   "codemirror_mode": {
    "name": "ipython",
    "version": 3
   },
   "file_extension": ".py",
   "mimetype": "text/x-python",
   "name": "python",
   "nbconvert_exporter": "python",
   "pygments_lexer": "ipython3",
   "version": "3.6.13"
  },
  "papermill": {
   "default_parameters": {},
   "duration": 37.522638,
   "end_time": "2021-10-10T06:05:11.651416",
   "environment_variables": {},
   "exception": null,
   "input_path": "__notebook__.ipynb",
   "output_path": "__notebook__.ipynb",
   "parameters": {},
   "start_time": "2021-10-10T06:04:34.128778",
   "version": "2.3.3"
  }
 },
 "nbformat": 4,
 "nbformat_minor": 5
}
