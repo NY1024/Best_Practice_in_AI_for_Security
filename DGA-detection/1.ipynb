{
 "cells": [
  {
   "cell_type": "code",
   "execution_count": 1,
   "metadata": {},
   "outputs": [],
   "source": [
    "import pandas as pd\n",
    "from pandas import DataFrame\n",
    "import numpy as np\n",
    "import sklearn\n",
    "%matplotlib inline"
   ]
  },
  {
   "cell_type": "code",
   "execution_count": 2,
   "metadata": {},
   "outputs": [],
   "source": [
    "legit_dataframe = pd.read_csv(\"legit_websites.csv\", header=0)"
   ]
  },
  {
   "cell_type": "code",
   "execution_count": 3,
   "metadata": {},
   "outputs": [
    {
     "data": {
      "text/html": [
       "<div>\n",
       "<style scoped>\n",
       "    .dataframe tbody tr th:only-of-type {\n",
       "        vertical-align: middle;\n",
       "    }\n",
       "\n",
       "    .dataframe tbody tr th {\n",
       "        vertical-align: top;\n",
       "    }\n",
       "\n",
       "    .dataframe thead th {\n",
       "        text-align: right;\n",
       "    }\n",
       "</style>\n",
       "<table border=\"1\" class=\"dataframe\">\n",
       "  <thead>\n",
       "    <tr style=\"text-align: right;\">\n",
       "      <th></th>\n",
       "      <th>class</th>\n",
       "      <th>domain</th>\n",
       "    </tr>\n",
       "  </thead>\n",
       "  <tbody>\n",
       "    <tr>\n",
       "      <th>0</th>\n",
       "      <td>legit</td>\n",
       "      <td>plasticbags</td>\n",
       "    </tr>\n",
       "    <tr>\n",
       "      <th>1</th>\n",
       "      <td>legit</td>\n",
       "      <td>mzltrack</td>\n",
       "    </tr>\n",
       "    <tr>\n",
       "      <th>2</th>\n",
       "      <td>legit</td>\n",
       "      <td>miss-slim</td>\n",
       "    </tr>\n",
       "    <tr>\n",
       "      <th>3</th>\n",
       "      <td>legit</td>\n",
       "      <td>myhostingpack</td>\n",
       "    </tr>\n",
       "    <tr>\n",
       "      <th>4</th>\n",
       "      <td>legit</td>\n",
       "      <td>download-by-satoshi</td>\n",
       "    </tr>\n",
       "    <tr>\n",
       "      <th>...</th>\n",
       "      <td>...</td>\n",
       "      <td>...</td>\n",
       "    </tr>\n",
       "    <tr>\n",
       "      <th>337393</th>\n",
       "      <td>legit</td>\n",
       "      <td>studiomonocromo</td>\n",
       "    </tr>\n",
       "    <tr>\n",
       "      <th>337394</th>\n",
       "      <td>legit</td>\n",
       "      <td>webdesk</td>\n",
       "    </tr>\n",
       "    <tr>\n",
       "      <th>337395</th>\n",
       "      <td>legit</td>\n",
       "      <td>bingtorrent</td>\n",
       "    </tr>\n",
       "    <tr>\n",
       "      <th>337396</th>\n",
       "      <td>legit</td>\n",
       "      <td>classicfilmtvcafe</td>\n",
       "    </tr>\n",
       "    <tr>\n",
       "      <th>337397</th>\n",
       "      <td>legit</td>\n",
       "      <td>weloty</td>\n",
       "    </tr>\n",
       "  </tbody>\n",
       "</table>\n",
       "<p>337398 rows × 2 columns</p>\n",
       "</div>"
      ],
      "text/plain": [
       "        class               domain\n",
       "0       legit          plasticbags\n",
       "1       legit             mzltrack\n",
       "2       legit            miss-slim\n",
       "3       legit        myhostingpack\n",
       "4       legit  download-by-satoshi\n",
       "...       ...                  ...\n",
       "337393  legit      studiomonocromo\n",
       "337394  legit              webdesk\n",
       "337395  legit          bingtorrent\n",
       "337396  legit    classicfilmtvcafe\n",
       "337397  legit               weloty\n",
       "\n",
       "[337398 rows x 2 columns]"
      ]
     },
     "metadata": {},
     "output_type": "display_data"
    }
   ],
   "source": [
    "display(legit_dataframe)"
   ]
  },
  {
   "cell_type": "code",
   "execution_count": 4,
   "metadata": {},
   "outputs": [],
   "source": [
    "legit_dataframe = legit_dataframe.dropna()\n",
    "legit_dataframe = legit_dataframe.drop_duplicates()"
   ]
  },
  {
   "cell_type": "code",
   "execution_count": 5,
   "metadata": {},
   "outputs": [
    {
     "data": {
      "text/html": [
       "<div>\n",
       "<style scoped>\n",
       "    .dataframe tbody tr th:only-of-type {\n",
       "        vertical-align: middle;\n",
       "    }\n",
       "\n",
       "    .dataframe tbody tr th {\n",
       "        vertical-align: top;\n",
       "    }\n",
       "\n",
       "    .dataframe thead th {\n",
       "        text-align: right;\n",
       "    }\n",
       "</style>\n",
       "<table border=\"1\" class=\"dataframe\">\n",
       "  <thead>\n",
       "    <tr style=\"text-align: right;\">\n",
       "      <th></th>\n",
       "      <th>class</th>\n",
       "      <th>domain</th>\n",
       "    </tr>\n",
       "  </thead>\n",
       "  <tbody>\n",
       "    <tr>\n",
       "      <th>0</th>\n",
       "      <td>legit</td>\n",
       "      <td>plasticbags</td>\n",
       "    </tr>\n",
       "    <tr>\n",
       "      <th>1</th>\n",
       "      <td>legit</td>\n",
       "      <td>mzltrack</td>\n",
       "    </tr>\n",
       "    <tr>\n",
       "      <th>2</th>\n",
       "      <td>legit</td>\n",
       "      <td>miss-slim</td>\n",
       "    </tr>\n",
       "    <tr>\n",
       "      <th>3</th>\n",
       "      <td>legit</td>\n",
       "      <td>myhostingpack</td>\n",
       "    </tr>\n",
       "    <tr>\n",
       "      <th>4</th>\n",
       "      <td>legit</td>\n",
       "      <td>download-by-satoshi</td>\n",
       "    </tr>\n",
       "    <tr>\n",
       "      <th>...</th>\n",
       "      <td>...</td>\n",
       "      <td>...</td>\n",
       "    </tr>\n",
       "    <tr>\n",
       "      <th>337393</th>\n",
       "      <td>legit</td>\n",
       "      <td>studiomonocromo</td>\n",
       "    </tr>\n",
       "    <tr>\n",
       "      <th>337394</th>\n",
       "      <td>legit</td>\n",
       "      <td>webdesk</td>\n",
       "    </tr>\n",
       "    <tr>\n",
       "      <th>337395</th>\n",
       "      <td>legit</td>\n",
       "      <td>bingtorrent</td>\n",
       "    </tr>\n",
       "    <tr>\n",
       "      <th>337396</th>\n",
       "      <td>legit</td>\n",
       "      <td>classicfilmtvcafe</td>\n",
       "    </tr>\n",
       "    <tr>\n",
       "      <th>337397</th>\n",
       "      <td>legit</td>\n",
       "      <td>weloty</td>\n",
       "    </tr>\n",
       "  </tbody>\n",
       "</table>\n",
       "<p>337337 rows × 2 columns</p>\n",
       "</div>"
      ],
      "text/plain": [
       "        class               domain\n",
       "0       legit          plasticbags\n",
       "1       legit             mzltrack\n",
       "2       legit            miss-slim\n",
       "3       legit        myhostingpack\n",
       "4       legit  download-by-satoshi\n",
       "...       ...                  ...\n",
       "337393  legit      studiomonocromo\n",
       "337394  legit              webdesk\n",
       "337395  legit          bingtorrent\n",
       "337396  legit    classicfilmtvcafe\n",
       "337397  legit               weloty\n",
       "\n",
       "[337337 rows x 2 columns]"
      ]
     },
     "metadata": {},
     "output_type": "display_data"
    }
   ],
   "source": [
    "display(legit_dataframe)"
   ]
  },
  {
   "cell_type": "code",
   "execution_count": 6,
   "metadata": {},
   "outputs": [
    {
     "name": "stdout",
     "output_type": "stream",
     "text": [
      "Total Legit domains 337337\n"
     ]
    },
    {
     "data": {
      "text/html": [
       "<div>\n",
       "<style scoped>\n",
       "    .dataframe tbody tr th:only-of-type {\n",
       "        vertical-align: middle;\n",
       "    }\n",
       "\n",
       "    .dataframe tbody tr th {\n",
       "        vertical-align: top;\n",
       "    }\n",
       "\n",
       "    .dataframe thead th {\n",
       "        text-align: right;\n",
       "    }\n",
       "</style>\n",
       "<table border=\"1\" class=\"dataframe\">\n",
       "  <thead>\n",
       "    <tr style=\"text-align: right;\">\n",
       "      <th></th>\n",
       "      <th>class</th>\n",
       "      <th>domain</th>\n",
       "    </tr>\n",
       "  </thead>\n",
       "  <tbody>\n",
       "    <tr>\n",
       "      <th>90812</th>\n",
       "      <td>legit</td>\n",
       "      <td>newengen</td>\n",
       "    </tr>\n",
       "    <tr>\n",
       "      <th>5467</th>\n",
       "      <td>legit</td>\n",
       "      <td>vip-zona</td>\n",
       "    </tr>\n",
       "    <tr>\n",
       "      <th>207157</th>\n",
       "      <td>legit</td>\n",
       "      <td>chauffeur-prive</td>\n",
       "    </tr>\n",
       "    <tr>\n",
       "      <th>121550</th>\n",
       "      <td>legit</td>\n",
       "      <td>papoutsomania</td>\n",
       "    </tr>\n",
       "    <tr>\n",
       "      <th>244037</th>\n",
       "      <td>legit</td>\n",
       "      <td>lesaffaires</td>\n",
       "    </tr>\n",
       "    <tr>\n",
       "      <th>...</th>\n",
       "      <td>...</td>\n",
       "      <td>...</td>\n",
       "    </tr>\n",
       "    <tr>\n",
       "      <th>319575</th>\n",
       "      <td>legit</td>\n",
       "      <td>youaresolucky</td>\n",
       "    </tr>\n",
       "    <tr>\n",
       "      <th>129726</th>\n",
       "      <td>legit</td>\n",
       "      <td>chivemediagroup</td>\n",
       "    </tr>\n",
       "    <tr>\n",
       "      <th>210482</th>\n",
       "      <td>legit</td>\n",
       "      <td>headhair</td>\n",
       "    </tr>\n",
       "    <tr>\n",
       "      <th>80421</th>\n",
       "      <td>legit</td>\n",
       "      <td>12kanshu</td>\n",
       "    </tr>\n",
       "    <tr>\n",
       "      <th>33661</th>\n",
       "      <td>legit</td>\n",
       "      <td>imgcredit</td>\n",
       "    </tr>\n",
       "  </tbody>\n",
       "</table>\n",
       "<p>337337 rows × 2 columns</p>\n",
       "</div>"
      ],
      "text/plain": [
       "        class           domain\n",
       "90812   legit         newengen\n",
       "5467    legit         vip-zona\n",
       "207157  legit  chauffeur-prive\n",
       "121550  legit    papoutsomania\n",
       "244037  legit      lesaffaires\n",
       "...       ...              ...\n",
       "319575  legit    youaresolucky\n",
       "129726  legit  chivemediagroup\n",
       "210482  legit         headhair\n",
       "80421   legit         12kanshu\n",
       "33661   legit        imgcredit\n",
       "\n",
       "[337337 rows x 2 columns]"
      ]
     },
     "metadata": {},
     "output_type": "display_data"
    }
   ],
   "source": [
    "legit_dataframe = legit_dataframe.reindex(np.random.permutation(legit_dataframe.index))\n",
    "legit_total = legit_dataframe.shape[0]\n",
    "print('Total Legit domains %d' % legit_total)\n",
    "display(legit_dataframe)\n"
   ]
  },
  {
   "cell_type": "code",
   "execution_count": 7,
   "metadata": {},
   "outputs": [],
   "source": [
    "file_location = \"dga_websites.csv\"\n",
    "\n",
    "dga_dataframe = pd.read_csv(file_location, header=0);"
   ]
  },
  {
   "cell_type": "code",
   "execution_count": 8,
   "metadata": {},
   "outputs": [
    {
     "data": {
      "text/html": [
       "<div>\n",
       "<style scoped>\n",
       "    .dataframe tbody tr th:only-of-type {\n",
       "        vertical-align: middle;\n",
       "    }\n",
       "\n",
       "    .dataframe tbody tr th {\n",
       "        vertical-align: top;\n",
       "    }\n",
       "\n",
       "    .dataframe thead th {\n",
       "        text-align: right;\n",
       "    }\n",
       "</style>\n",
       "<table border=\"1\" class=\"dataframe\">\n",
       "  <thead>\n",
       "    <tr style=\"text-align: right;\">\n",
       "      <th></th>\n",
       "      <th>class</th>\n",
       "      <th>domain</th>\n",
       "    </tr>\n",
       "  </thead>\n",
       "  <tbody>\n",
       "    <tr>\n",
       "      <th>0</th>\n",
       "      <td>dga</td>\n",
       "      <td>mortiscontrastatim</td>\n",
       "    </tr>\n",
       "    <tr>\n",
       "      <th>1</th>\n",
       "      <td>dga</td>\n",
       "      <td>cvyh1po636avyrsxebwbkn7</td>\n",
       "    </tr>\n",
       "    <tr>\n",
       "      <th>2</th>\n",
       "      <td>dga</td>\n",
       "      <td>txumyqrubwutbb</td>\n",
       "    </tr>\n",
       "    <tr>\n",
       "      <th>3</th>\n",
       "      <td>dga</td>\n",
       "      <td>ixekrihagimau</td>\n",
       "    </tr>\n",
       "    <tr>\n",
       "      <th>4</th>\n",
       "      <td>dga</td>\n",
       "      <td>rjyuosmhfnaedlyg</td>\n",
       "    </tr>\n",
       "    <tr>\n",
       "      <th>...</th>\n",
       "      <td>...</td>\n",
       "      <td>...</td>\n",
       "    </tr>\n",
       "    <tr>\n",
       "      <th>337495</th>\n",
       "      <td>dga</td>\n",
       "      <td>poeguvtsixuriem</td>\n",
       "    </tr>\n",
       "    <tr>\n",
       "      <th>337496</th>\n",
       "      <td>dga</td>\n",
       "      <td>fkmmnlmdokedddmn</td>\n",
       "    </tr>\n",
       "    <tr>\n",
       "      <th>337497</th>\n",
       "      <td>dga</td>\n",
       "      <td>cwnhlchfhcqrgass</td>\n",
       "    </tr>\n",
       "    <tr>\n",
       "      <th>337498</th>\n",
       "      <td>dga</td>\n",
       "      <td>mwxquxbokithpn</td>\n",
       "    </tr>\n",
       "    <tr>\n",
       "      <th>337499</th>\n",
       "      <td>dga</td>\n",
       "      <td>aecojeyem</td>\n",
       "    </tr>\n",
       "  </tbody>\n",
       "</table>\n",
       "<p>337500 rows × 2 columns</p>\n",
       "</div>"
      ],
      "text/plain": [
       "       class                   domain\n",
       "0        dga       mortiscontrastatim\n",
       "1        dga  cvyh1po636avyrsxebwbkn7\n",
       "2        dga           txumyqrubwutbb\n",
       "3        dga            ixekrihagimau\n",
       "4        dga         rjyuosmhfnaedlyg\n",
       "...      ...                      ...\n",
       "337495   dga          poeguvtsixuriem\n",
       "337496   dga         fkmmnlmdokedddmn\n",
       "337497   dga         cwnhlchfhcqrgass\n",
       "337498   dga           mwxquxbokithpn\n",
       "337499   dga                aecojeyem\n",
       "\n",
       "[337500 rows x 2 columns]"
      ]
     },
     "metadata": {},
     "output_type": "display_data"
    }
   ],
   "source": [
    "display(dga_dataframe)"
   ]
  },
  {
   "cell_type": "code",
   "execution_count": 9,
   "metadata": {},
   "outputs": [],
   "source": [
    "dga_dataframe = dga_dataframe.dropna()\n",
    "dga_dataframe = dga_dataframe.drop_duplicates()"
   ]
  },
  {
   "cell_type": "code",
   "execution_count": 10,
   "metadata": {},
   "outputs": [
    {
     "name": "stdout",
     "output_type": "stream",
     "text": [
      "Total DGA domains 337500\n"
     ]
    },
    {
     "data": {
      "text/html": [
       "<div>\n",
       "<style scoped>\n",
       "    .dataframe tbody tr th:only-of-type {\n",
       "        vertical-align: middle;\n",
       "    }\n",
       "\n",
       "    .dataframe tbody tr th {\n",
       "        vertical-align: top;\n",
       "    }\n",
       "\n",
       "    .dataframe thead th {\n",
       "        text-align: right;\n",
       "    }\n",
       "</style>\n",
       "<table border=\"1\" class=\"dataframe\">\n",
       "  <thead>\n",
       "    <tr style=\"text-align: right;\">\n",
       "      <th></th>\n",
       "      <th>class</th>\n",
       "      <th>domain</th>\n",
       "    </tr>\n",
       "  </thead>\n",
       "  <tbody>\n",
       "    <tr>\n",
       "      <th>184357</th>\n",
       "      <td>dga</td>\n",
       "      <td>gptiaykokjgyjb</td>\n",
       "    </tr>\n",
       "    <tr>\n",
       "      <th>258590</th>\n",
       "      <td>dga</td>\n",
       "      <td>bgcunnsdvktwutyk</td>\n",
       "    </tr>\n",
       "    <tr>\n",
       "      <th>43815</th>\n",
       "      <td>dga</td>\n",
       "      <td>yyttnsuiwcymao</td>\n",
       "    </tr>\n",
       "    <tr>\n",
       "      <th>13416</th>\n",
       "      <td>dga</td>\n",
       "      <td>study-europe</td>\n",
       "    </tr>\n",
       "    <tr>\n",
       "      <th>214869</th>\n",
       "      <td>dga</td>\n",
       "      <td>fldccaffaobedafc</td>\n",
       "    </tr>\n",
       "    <tr>\n",
       "      <th>...</th>\n",
       "      <td>...</td>\n",
       "      <td>...</td>\n",
       "    </tr>\n",
       "    <tr>\n",
       "      <th>287998</th>\n",
       "      <td>dga</td>\n",
       "      <td>qsgbrwlaesoeji</td>\n",
       "    </tr>\n",
       "    <tr>\n",
       "      <th>126257</th>\n",
       "      <td>dga</td>\n",
       "      <td>mabyvik</td>\n",
       "    </tr>\n",
       "    <tr>\n",
       "      <th>210895</th>\n",
       "      <td>dga</td>\n",
       "      <td>rbddojivsanxujwoj</td>\n",
       "    </tr>\n",
       "    <tr>\n",
       "      <th>53460</th>\n",
       "      <td>dga</td>\n",
       "      <td>animabuseuangeliumpiet</td>\n",
       "    </tr>\n",
       "    <tr>\n",
       "      <th>206989</th>\n",
       "      <td>dga</td>\n",
       "      <td>jhmtivi3sd1d8yonqe</td>\n",
       "    </tr>\n",
       "  </tbody>\n",
       "</table>\n",
       "<p>337500 rows × 2 columns</p>\n",
       "</div>"
      ],
      "text/plain": [
       "       class                  domain\n",
       "184357   dga          gptiaykokjgyjb\n",
       "258590   dga        bgcunnsdvktwutyk\n",
       "43815    dga          yyttnsuiwcymao\n",
       "13416    dga            study-europe\n",
       "214869   dga        fldccaffaobedafc\n",
       "...      ...                     ...\n",
       "287998   dga          qsgbrwlaesoeji\n",
       "126257   dga                 mabyvik\n",
       "210895   dga       rbddojivsanxujwoj\n",
       "53460    dga  animabuseuangeliumpiet\n",
       "206989   dga      jhmtivi3sd1d8yonqe\n",
       "\n",
       "[337500 rows x 2 columns]"
      ]
     },
     "metadata": {},
     "output_type": "display_data"
    }
   ],
   "source": [
    "\n",
    "dga_dataframe = dga_dataframe.reindex(np.random.permutation(dga_dataframe.index))\n",
    "dga_total = dga_dataframe.shape[0]\n",
    "print('Total DGA domains %d' % dga_total)\n",
    "display(dga_dataframe)\n"
   ]
  },
  {
   "cell_type": "code",
   "execution_count": 11,
   "metadata": {},
   "outputs": [],
   "source": [
    "all_domains = pd.concat([legit_dataframe, dga_dataframe], ignore_index=True)"
   ]
  },
  {
   "cell_type": "code",
   "execution_count": 12,
   "metadata": {},
   "outputs": [
    {
     "data": {
      "text/html": [
       "<div>\n",
       "<style scoped>\n",
       "    .dataframe tbody tr th:only-of-type {\n",
       "        vertical-align: middle;\n",
       "    }\n",
       "\n",
       "    .dataframe tbody tr th {\n",
       "        vertical-align: top;\n",
       "    }\n",
       "\n",
       "    .dataframe thead th {\n",
       "        text-align: right;\n",
       "    }\n",
       "</style>\n",
       "<table border=\"1\" class=\"dataframe\">\n",
       "  <thead>\n",
       "    <tr style=\"text-align: right;\">\n",
       "      <th></th>\n",
       "      <th>class</th>\n",
       "      <th>domain</th>\n",
       "    </tr>\n",
       "  </thead>\n",
       "  <tbody>\n",
       "    <tr>\n",
       "      <th>0</th>\n",
       "      <td>legit</td>\n",
       "      <td>newengen</td>\n",
       "    </tr>\n",
       "    <tr>\n",
       "      <th>1</th>\n",
       "      <td>legit</td>\n",
       "      <td>vip-zona</td>\n",
       "    </tr>\n",
       "    <tr>\n",
       "      <th>2</th>\n",
       "      <td>legit</td>\n",
       "      <td>chauffeur-prive</td>\n",
       "    </tr>\n",
       "    <tr>\n",
       "      <th>3</th>\n",
       "      <td>legit</td>\n",
       "      <td>papoutsomania</td>\n",
       "    </tr>\n",
       "    <tr>\n",
       "      <th>4</th>\n",
       "      <td>legit</td>\n",
       "      <td>lesaffaires</td>\n",
       "    </tr>\n",
       "    <tr>\n",
       "      <th>...</th>\n",
       "      <td>...</td>\n",
       "      <td>...</td>\n",
       "    </tr>\n",
       "    <tr>\n",
       "      <th>674832</th>\n",
       "      <td>dga</td>\n",
       "      <td>qsgbrwlaesoeji</td>\n",
       "    </tr>\n",
       "    <tr>\n",
       "      <th>674833</th>\n",
       "      <td>dga</td>\n",
       "      <td>mabyvik</td>\n",
       "    </tr>\n",
       "    <tr>\n",
       "      <th>674834</th>\n",
       "      <td>dga</td>\n",
       "      <td>rbddojivsanxujwoj</td>\n",
       "    </tr>\n",
       "    <tr>\n",
       "      <th>674835</th>\n",
       "      <td>dga</td>\n",
       "      <td>animabuseuangeliumpiet</td>\n",
       "    </tr>\n",
       "    <tr>\n",
       "      <th>674836</th>\n",
       "      <td>dga</td>\n",
       "      <td>jhmtivi3sd1d8yonqe</td>\n",
       "    </tr>\n",
       "  </tbody>\n",
       "</table>\n",
       "<p>674837 rows × 2 columns</p>\n",
       "</div>"
      ],
      "text/plain": [
       "        class                  domain\n",
       "0       legit                newengen\n",
       "1       legit                vip-zona\n",
       "2       legit         chauffeur-prive\n",
       "3       legit           papoutsomania\n",
       "4       legit             lesaffaires\n",
       "...       ...                     ...\n",
       "674832    dga          qsgbrwlaesoeji\n",
       "674833    dga                 mabyvik\n",
       "674834    dga       rbddojivsanxujwoj\n",
       "674835    dga  animabuseuangeliumpiet\n",
       "674836    dga      jhmtivi3sd1d8yonqe\n",
       "\n",
       "[674837 rows x 2 columns]"
      ]
     },
     "metadata": {},
     "output_type": "display_data"
    }
   ],
   "source": [
    "display(all_domains)"
   ]
  },
  {
   "cell_type": "code",
   "execution_count": 13,
   "metadata": {},
   "outputs": [],
   "source": [
    "all_domains['length'] = [len(x) for x in all_domains['domain']]"
   ]
  },
  {
   "cell_type": "code",
   "execution_count": 14,
   "metadata": {},
   "outputs": [
    {
     "data": {
      "text/html": [
       "<div>\n",
       "<style scoped>\n",
       "    .dataframe tbody tr th:only-of-type {\n",
       "        vertical-align: middle;\n",
       "    }\n",
       "\n",
       "    .dataframe tbody tr th {\n",
       "        vertical-align: top;\n",
       "    }\n",
       "\n",
       "    .dataframe thead th {\n",
       "        text-align: right;\n",
       "    }\n",
       "</style>\n",
       "<table border=\"1\" class=\"dataframe\">\n",
       "  <thead>\n",
       "    <tr style=\"text-align: right;\">\n",
       "      <th></th>\n",
       "      <th>class</th>\n",
       "      <th>domain</th>\n",
       "      <th>length</th>\n",
       "    </tr>\n",
       "  </thead>\n",
       "  <tbody>\n",
       "    <tr>\n",
       "      <th>0</th>\n",
       "      <td>legit</td>\n",
       "      <td>newengen</td>\n",
       "      <td>8</td>\n",
       "    </tr>\n",
       "    <tr>\n",
       "      <th>1</th>\n",
       "      <td>legit</td>\n",
       "      <td>vip-zona</td>\n",
       "      <td>8</td>\n",
       "    </tr>\n",
       "    <tr>\n",
       "      <th>2</th>\n",
       "      <td>legit</td>\n",
       "      <td>chauffeur-prive</td>\n",
       "      <td>15</td>\n",
       "    </tr>\n",
       "    <tr>\n",
       "      <th>3</th>\n",
       "      <td>legit</td>\n",
       "      <td>papoutsomania</td>\n",
       "      <td>13</td>\n",
       "    </tr>\n",
       "    <tr>\n",
       "      <th>4</th>\n",
       "      <td>legit</td>\n",
       "      <td>lesaffaires</td>\n",
       "      <td>11</td>\n",
       "    </tr>\n",
       "    <tr>\n",
       "      <th>...</th>\n",
       "      <td>...</td>\n",
       "      <td>...</td>\n",
       "      <td>...</td>\n",
       "    </tr>\n",
       "    <tr>\n",
       "      <th>674832</th>\n",
       "      <td>dga</td>\n",
       "      <td>qsgbrwlaesoeji</td>\n",
       "      <td>14</td>\n",
       "    </tr>\n",
       "    <tr>\n",
       "      <th>674833</th>\n",
       "      <td>dga</td>\n",
       "      <td>mabyvik</td>\n",
       "      <td>7</td>\n",
       "    </tr>\n",
       "    <tr>\n",
       "      <th>674834</th>\n",
       "      <td>dga</td>\n",
       "      <td>rbddojivsanxujwoj</td>\n",
       "      <td>17</td>\n",
       "    </tr>\n",
       "    <tr>\n",
       "      <th>674835</th>\n",
       "      <td>dga</td>\n",
       "      <td>animabuseuangeliumpiet</td>\n",
       "      <td>22</td>\n",
       "    </tr>\n",
       "    <tr>\n",
       "      <th>674836</th>\n",
       "      <td>dga</td>\n",
       "      <td>jhmtivi3sd1d8yonqe</td>\n",
       "      <td>18</td>\n",
       "    </tr>\n",
       "  </tbody>\n",
       "</table>\n",
       "<p>674837 rows × 3 columns</p>\n",
       "</div>"
      ],
      "text/plain": [
       "        class                  domain  length\n",
       "0       legit                newengen       8\n",
       "1       legit                vip-zona       8\n",
       "2       legit         chauffeur-prive      15\n",
       "3       legit           papoutsomania      13\n",
       "4       legit             lesaffaires      11\n",
       "...       ...                     ...     ...\n",
       "674832    dga          qsgbrwlaesoeji      14\n",
       "674833    dga                 mabyvik       7\n",
       "674834    dga       rbddojivsanxujwoj      17\n",
       "674835    dga  animabuseuangeliumpiet      22\n",
       "674836    dga      jhmtivi3sd1d8yonqe      18\n",
       "\n",
       "[674837 rows x 3 columns]"
      ]
     },
     "metadata": {},
     "output_type": "display_data"
    }
   ],
   "source": [
    "display(all_domains)"
   ]
  },
  {
   "cell_type": "code",
   "execution_count": 15,
   "metadata": {},
   "outputs": [],
   "source": [
    "\n",
    "import math\n",
    "from collections import Counter\n",
    "\n",
    "def entropy(s):\n",
    "    p, lns = Counter(s), float(len(s))\n",
    "    return -sum( count/lns * math.log(count/lns, 2) for count in p.values())\n",
    "\n",
    "all_domains['entropy'] = [entropy(x) for x in all_domains['domain']]\n",
    "\n"
   ]
  },
  {
   "cell_type": "code",
   "execution_count": 16,
   "metadata": {},
   "outputs": [
    {
     "data": {
      "text/html": [
       "<div>\n",
       "<style scoped>\n",
       "    .dataframe tbody tr th:only-of-type {\n",
       "        vertical-align: middle;\n",
       "    }\n",
       "\n",
       "    .dataframe tbody tr th {\n",
       "        vertical-align: top;\n",
       "    }\n",
       "\n",
       "    .dataframe thead th {\n",
       "        text-align: right;\n",
       "    }\n",
       "</style>\n",
       "<table border=\"1\" class=\"dataframe\">\n",
       "  <thead>\n",
       "    <tr style=\"text-align: right;\">\n",
       "      <th></th>\n",
       "      <th>class</th>\n",
       "      <th>domain</th>\n",
       "      <th>length</th>\n",
       "      <th>entropy</th>\n",
       "    </tr>\n",
       "  </thead>\n",
       "  <tbody>\n",
       "    <tr>\n",
       "      <th>0</th>\n",
       "      <td>legit</td>\n",
       "      <td>newengen</td>\n",
       "      <td>8</td>\n",
       "      <td>1.811278</td>\n",
       "    </tr>\n",
       "    <tr>\n",
       "      <th>1</th>\n",
       "      <td>legit</td>\n",
       "      <td>vip-zona</td>\n",
       "      <td>8</td>\n",
       "      <td>3.000000</td>\n",
       "    </tr>\n",
       "    <tr>\n",
       "      <th>2</th>\n",
       "      <td>legit</td>\n",
       "      <td>chauffeur-prive</td>\n",
       "      <td>15</td>\n",
       "      <td>3.373557</td>\n",
       "    </tr>\n",
       "    <tr>\n",
       "      <th>3</th>\n",
       "      <td>legit</td>\n",
       "      <td>papoutsomania</td>\n",
       "      <td>13</td>\n",
       "      <td>3.026987</td>\n",
       "    </tr>\n",
       "    <tr>\n",
       "      <th>4</th>\n",
       "      <td>legit</td>\n",
       "      <td>lesaffaires</td>\n",
       "      <td>11</td>\n",
       "      <td>2.732159</td>\n",
       "    </tr>\n",
       "    <tr>\n",
       "      <th>...</th>\n",
       "      <td>...</td>\n",
       "      <td>...</td>\n",
       "      <td>...</td>\n",
       "      <td>...</td>\n",
       "    </tr>\n",
       "    <tr>\n",
       "      <th>674832</th>\n",
       "      <td>dga</td>\n",
       "      <td>qsgbrwlaesoeji</td>\n",
       "      <td>14</td>\n",
       "      <td>3.521641</td>\n",
       "    </tr>\n",
       "    <tr>\n",
       "      <th>674833</th>\n",
       "      <td>dga</td>\n",
       "      <td>mabyvik</td>\n",
       "      <td>7</td>\n",
       "      <td>2.807355</td>\n",
       "    </tr>\n",
       "    <tr>\n",
       "      <th>674834</th>\n",
       "      <td>dga</td>\n",
       "      <td>rbddojivsanxujwoj</td>\n",
       "      <td>17</td>\n",
       "      <td>3.572469</td>\n",
       "    </tr>\n",
       "    <tr>\n",
       "      <th>674835</th>\n",
       "      <td>dga</td>\n",
       "      <td>animabuseuangeliumpiet</td>\n",
       "      <td>22</td>\n",
       "      <td>3.413088</td>\n",
       "    </tr>\n",
       "    <tr>\n",
       "      <th>674836</th>\n",
       "      <td>dga</td>\n",
       "      <td>jhmtivi3sd1d8yonqe</td>\n",
       "      <td>18</td>\n",
       "      <td>3.947703</td>\n",
       "    </tr>\n",
       "  </tbody>\n",
       "</table>\n",
       "<p>674837 rows × 4 columns</p>\n",
       "</div>"
      ],
      "text/plain": [
       "        class                  domain  length   entropy\n",
       "0       legit                newengen       8  1.811278\n",
       "1       legit                vip-zona       8  3.000000\n",
       "2       legit         chauffeur-prive      15  3.373557\n",
       "3       legit           papoutsomania      13  3.026987\n",
       "4       legit             lesaffaires      11  2.732159\n",
       "...       ...                     ...     ...       ...\n",
       "674832    dga          qsgbrwlaesoeji      14  3.521641\n",
       "674833    dga                 mabyvik       7  2.807355\n",
       "674834    dga       rbddojivsanxujwoj      17  3.572469\n",
       "674835    dga  animabuseuangeliumpiet      22  3.413088\n",
       "674836    dga      jhmtivi3sd1d8yonqe      18  3.947703\n",
       "\n",
       "[674837 rows x 4 columns]"
      ]
     },
     "metadata": {},
     "output_type": "display_data"
    }
   ],
   "source": [
    "display(all_domains)"
   ]
  },
  {
   "cell_type": "code",
   "execution_count": 17,
   "metadata": {},
   "outputs": [],
   "source": [
    "import sklearn.ensemble\n",
    "from sklearn import feature_extraction"
   ]
  },
  {
   "cell_type": "code",
   "execution_count": 18,
   "metadata": {
    "tags": []
   },
   "outputs": [],
   "source": [
    "file_location = \"words.txt\"\n",
    "\n",
    "eng_dataframe = pd.read_csv(file_location, header=0, sep=' ');"
   ]
  },
  {
   "cell_type": "code",
   "execution_count": 19,
   "metadata": {},
   "outputs": [
    {
     "data": {
      "text/html": [
       "<div>\n",
       "<style scoped>\n",
       "    .dataframe tbody tr th:only-of-type {\n",
       "        vertical-align: middle;\n",
       "    }\n",
       "\n",
       "    .dataframe tbody tr th {\n",
       "        vertical-align: top;\n",
       "    }\n",
       "\n",
       "    .dataframe thead th {\n",
       "        text-align: right;\n",
       "    }\n",
       "</style>\n",
       "<table border=\"1\" class=\"dataframe\">\n",
       "  <thead>\n",
       "    <tr style=\"text-align: right;\">\n",
       "      <th></th>\n",
       "      <th>words</th>\n",
       "    </tr>\n",
       "  </thead>\n",
       "  <tbody>\n",
       "    <tr>\n",
       "      <th>0</th>\n",
       "      <td>&amp;c</td>\n",
       "    </tr>\n",
       "    <tr>\n",
       "      <th>1</th>\n",
       "      <td>'d</td>\n",
       "    </tr>\n",
       "    <tr>\n",
       "      <th>2</th>\n",
       "      <td>'em</td>\n",
       "    </tr>\n",
       "    <tr>\n",
       "      <th>3</th>\n",
       "      <td>'ll</td>\n",
       "    </tr>\n",
       "    <tr>\n",
       "      <th>4</th>\n",
       "      <td>'m</td>\n",
       "    </tr>\n",
       "    <tr>\n",
       "      <th>...</th>\n",
       "      <td>...</td>\n",
       "    </tr>\n",
       "    <tr>\n",
       "      <th>354979</th>\n",
       "      <td>zymurgy</td>\n",
       "    </tr>\n",
       "    <tr>\n",
       "      <th>354980</th>\n",
       "      <td>zythem</td>\n",
       "    </tr>\n",
       "    <tr>\n",
       "      <th>354981</th>\n",
       "      <td>zythum</td>\n",
       "    </tr>\n",
       "    <tr>\n",
       "      <th>354982</th>\n",
       "      <td>zyzzyva</td>\n",
       "    </tr>\n",
       "    <tr>\n",
       "      <th>354983</th>\n",
       "      <td>zyzzyvas</td>\n",
       "    </tr>\n",
       "  </tbody>\n",
       "</table>\n",
       "<p>354984 rows × 1 columns</p>\n",
       "</div>"
      ],
      "text/plain": [
       "           words\n",
       "0             &c\n",
       "1             'd\n",
       "2            'em\n",
       "3            'll\n",
       "4             'm\n",
       "...          ...\n",
       "354979   zymurgy\n",
       "354980    zythem\n",
       "354981    zythum\n",
       "354982   zyzzyva\n",
       "354983  zyzzyvas\n",
       "\n",
       "[354984 rows x 1 columns]"
      ]
     },
     "execution_count": 19,
     "metadata": {},
     "output_type": "execute_result"
    }
   ],
   "source": [
    "eng_dataframe"
   ]
  },
  {
   "cell_type": "code",
   "execution_count": 20,
   "metadata": {},
   "outputs": [],
   "source": [
    "eng_dataframe = eng_dataframe[eng_dataframe['words'].map(lambda x: str(x).isalpha())]"
   ]
  },
  {
   "cell_type": "code",
   "execution_count": 21,
   "metadata": {},
   "outputs": [
    {
     "data": {
      "text/html": [
       "<div>\n",
       "<style scoped>\n",
       "    .dataframe tbody tr th:only-of-type {\n",
       "        vertical-align: middle;\n",
       "    }\n",
       "\n",
       "    .dataframe tbody tr th {\n",
       "        vertical-align: top;\n",
       "    }\n",
       "\n",
       "    .dataframe thead th {\n",
       "        text-align: right;\n",
       "    }\n",
       "</style>\n",
       "<table border=\"1\" class=\"dataframe\">\n",
       "  <thead>\n",
       "    <tr style=\"text-align: right;\">\n",
       "      <th></th>\n",
       "      <th>words</th>\n",
       "    </tr>\n",
       "  </thead>\n",
       "  <tbody>\n",
       "    <tr>\n",
       "      <th>45</th>\n",
       "      <td>a</td>\n",
       "    </tr>\n",
       "    <tr>\n",
       "      <th>50</th>\n",
       "      <td>aa</td>\n",
       "    </tr>\n",
       "    <tr>\n",
       "      <th>51</th>\n",
       "      <td>aaa</td>\n",
       "    </tr>\n",
       "    <tr>\n",
       "      <th>52</th>\n",
       "      <td>aah</td>\n",
       "    </tr>\n",
       "    <tr>\n",
       "      <th>53</th>\n",
       "      <td>aahed</td>\n",
       "    </tr>\n",
       "    <tr>\n",
       "      <th>...</th>\n",
       "      <td>...</td>\n",
       "    </tr>\n",
       "    <tr>\n",
       "      <th>354979</th>\n",
       "      <td>zymurgy</td>\n",
       "    </tr>\n",
       "    <tr>\n",
       "      <th>354980</th>\n",
       "      <td>zythem</td>\n",
       "    </tr>\n",
       "    <tr>\n",
       "      <th>354981</th>\n",
       "      <td>zythum</td>\n",
       "    </tr>\n",
       "    <tr>\n",
       "      <th>354982</th>\n",
       "      <td>zyzzyva</td>\n",
       "    </tr>\n",
       "    <tr>\n",
       "      <th>354983</th>\n",
       "      <td>zyzzyvas</td>\n",
       "    </tr>\n",
       "  </tbody>\n",
       "</table>\n",
       "<p>351077 rows × 1 columns</p>\n",
       "</div>"
      ],
      "text/plain": [
       "           words\n",
       "45             a\n",
       "50            aa\n",
       "51           aaa\n",
       "52           aah\n",
       "53         aahed\n",
       "...          ...\n",
       "354979   zymurgy\n",
       "354980    zythem\n",
       "354981    zythum\n",
       "354982   zyzzyva\n",
       "354983  zyzzyvas\n",
       "\n",
       "[351077 rows x 1 columns]"
      ]
     },
     "execution_count": 21,
     "metadata": {},
     "output_type": "execute_result"
    }
   ],
   "source": [
    "eng_dataframe"
   ]
  },
  {
   "cell_type": "code",
   "execution_count": 22,
   "metadata": {},
   "outputs": [],
   "source": [
    "eng_dataframe = eng_dataframe.applymap(lambda x: str(x).strip().lower())"
   ]
  },
  {
   "cell_type": "code",
   "execution_count": 23,
   "metadata": {},
   "outputs": [
    {
     "data": {
      "text/html": [
       "<div>\n",
       "<style scoped>\n",
       "    .dataframe tbody tr th:only-of-type {\n",
       "        vertical-align: middle;\n",
       "    }\n",
       "\n",
       "    .dataframe tbody tr th {\n",
       "        vertical-align: top;\n",
       "    }\n",
       "\n",
       "    .dataframe thead th {\n",
       "        text-align: right;\n",
       "    }\n",
       "</style>\n",
       "<table border=\"1\" class=\"dataframe\">\n",
       "  <thead>\n",
       "    <tr style=\"text-align: right;\">\n",
       "      <th></th>\n",
       "      <th>words</th>\n",
       "    </tr>\n",
       "  </thead>\n",
       "  <tbody>\n",
       "    <tr>\n",
       "      <th>45</th>\n",
       "      <td>a</td>\n",
       "    </tr>\n",
       "    <tr>\n",
       "      <th>50</th>\n",
       "      <td>aa</td>\n",
       "    </tr>\n",
       "    <tr>\n",
       "      <th>51</th>\n",
       "      <td>aaa</td>\n",
       "    </tr>\n",
       "    <tr>\n",
       "      <th>52</th>\n",
       "      <td>aah</td>\n",
       "    </tr>\n",
       "    <tr>\n",
       "      <th>53</th>\n",
       "      <td>aahed</td>\n",
       "    </tr>\n",
       "    <tr>\n",
       "      <th>...</th>\n",
       "      <td>...</td>\n",
       "    </tr>\n",
       "    <tr>\n",
       "      <th>354979</th>\n",
       "      <td>zymurgy</td>\n",
       "    </tr>\n",
       "    <tr>\n",
       "      <th>354980</th>\n",
       "      <td>zythem</td>\n",
       "    </tr>\n",
       "    <tr>\n",
       "      <th>354981</th>\n",
       "      <td>zythum</td>\n",
       "    </tr>\n",
       "    <tr>\n",
       "      <th>354982</th>\n",
       "      <td>zyzzyva</td>\n",
       "    </tr>\n",
       "    <tr>\n",
       "      <th>354983</th>\n",
       "      <td>zyzzyvas</td>\n",
       "    </tr>\n",
       "  </tbody>\n",
       "</table>\n",
       "<p>351074 rows × 1 columns</p>\n",
       "</div>"
      ],
      "text/plain": [
       "           words\n",
       "45             a\n",
       "50            aa\n",
       "51           aaa\n",
       "52           aah\n",
       "53         aahed\n",
       "...          ...\n",
       "354979   zymurgy\n",
       "354980    zythem\n",
       "354981    zythum\n",
       "354982   zyzzyva\n",
       "354983  zyzzyvas\n",
       "\n",
       "[351074 rows x 1 columns]"
      ]
     },
     "execution_count": 23,
     "metadata": {},
     "output_type": "execute_result"
    }
   ],
   "source": [
    "eng_dataframe = eng_dataframe.dropna()\n",
    "eng_dataframe = eng_dataframe.drop_duplicates()\n",
    "eng_dataframe"
   ]
  },
  {
   "cell_type": "code",
   "execution_count": 24,
   "metadata": {},
   "outputs": [],
   "source": [
    "from sklearn.feature_extraction.text import TfidfVectorizer\n",
    "\n",
    "legit_websites_char_vectorizer = TfidfVectorizer(analyzer = 'char', ngram_range=(3,5), min_df=1e-6, max_df=1.0)\n",
    "legit_websites_counts_matrix = legit_websites_char_vectorizer.fit_transform(legit_dataframe['domain'])\n",
    "legit_websites_dict_counts = legit_websites_counts_matrix.sum(axis=0).getA1()\n",
    "legit_websites_feature_names = legit_websites_char_vectorizer.get_feature_names()\n",
    "\n",
    "\n",
    "all_domains['legit_websites_tfidf'] = legit_websites_dict_counts * legit_websites_char_vectorizer.transform(all_domains['domain']).T\n",
    "\n",
    "\n",
    "\n",
    "eng_word_char_vectorizer = TfidfVectorizer(analyzer = 'char', ngram_range=(3,5), min_df=1e-6, max_df=1.0)\n",
    "eng_word_counts_matrix = eng_word_char_vectorizer.fit_transform(eng_dataframe['words'])\n",
    "eng_word_dict_counts = eng_word_counts_matrix.sum(axis=0).getA1()\n",
    "eng_word_feature_names = eng_word_char_vectorizer.get_feature_names()\n",
    "\n",
    "\n",
    "all_domains['eng_word_tfidf'] = eng_word_dict_counts * eng_word_char_vectorizer.transform(all_domains['domain']).T\n"
   ]
  },
  {
   "cell_type": "code",
   "execution_count": 25,
   "metadata": {},
   "outputs": [
    {
     "data": {
      "text/html": [
       "<div>\n",
       "<style scoped>\n",
       "    .dataframe tbody tr th:only-of-type {\n",
       "        vertical-align: middle;\n",
       "    }\n",
       "\n",
       "    .dataframe tbody tr th {\n",
       "        vertical-align: top;\n",
       "    }\n",
       "\n",
       "    .dataframe thead th {\n",
       "        text-align: right;\n",
       "    }\n",
       "</style>\n",
       "<table border=\"1\" class=\"dataframe\">\n",
       "  <thead>\n",
       "    <tr style=\"text-align: right;\">\n",
       "      <th></th>\n",
       "      <th>class</th>\n",
       "      <th>domain</th>\n",
       "      <th>length</th>\n",
       "      <th>entropy</th>\n",
       "      <th>legit_websites_tfidf</th>\n",
       "      <th>eng_word_tfidf</th>\n",
       "    </tr>\n",
       "  </thead>\n",
       "  <tbody>\n",
       "    <tr>\n",
       "      <th>0</th>\n",
       "      <td>legit</td>\n",
       "      <td>newengen</td>\n",
       "      <td>8</td>\n",
       "      <td>1.811278</td>\n",
       "      <td>273.157233</td>\n",
       "      <td>269.473684</td>\n",
       "    </tr>\n",
       "    <tr>\n",
       "      <th>1</th>\n",
       "      <td>legit</td>\n",
       "      <td>vip-zona</td>\n",
       "      <td>8</td>\n",
       "      <td>3.000000</td>\n",
       "      <td>94.092823</td>\n",
       "      <td>236.820169</td>\n",
       "    </tr>\n",
       "    <tr>\n",
       "      <th>2</th>\n",
       "      <td>legit</td>\n",
       "      <td>chauffeur-prive</td>\n",
       "      <td>15</td>\n",
       "      <td>3.373557</td>\n",
       "      <td>233.446100</td>\n",
       "      <td>337.764478</td>\n",
       "    </tr>\n",
       "    <tr>\n",
       "      <th>3</th>\n",
       "      <td>legit</td>\n",
       "      <td>papoutsomania</td>\n",
       "      <td>13</td>\n",
       "      <td>3.026987</td>\n",
       "      <td>310.983393</td>\n",
       "      <td>499.345811</td>\n",
       "    </tr>\n",
       "    <tr>\n",
       "      <th>4</th>\n",
       "      <td>legit</td>\n",
       "      <td>lesaffaires</td>\n",
       "      <td>11</td>\n",
       "      <td>2.732159</td>\n",
       "      <td>325.881964</td>\n",
       "      <td>329.654688</td>\n",
       "    </tr>\n",
       "    <tr>\n",
       "      <th>...</th>\n",
       "      <td>...</td>\n",
       "      <td>...</td>\n",
       "      <td>...</td>\n",
       "      <td>...</td>\n",
       "      <td>...</td>\n",
       "      <td>...</td>\n",
       "    </tr>\n",
       "    <tr>\n",
       "      <th>674832</th>\n",
       "      <td>dga</td>\n",
       "      <td>qsgbrwlaesoeji</td>\n",
       "      <td>14</td>\n",
       "      <td>3.521641</td>\n",
       "      <td>55.642905</td>\n",
       "      <td>76.165117</td>\n",
       "    </tr>\n",
       "    <tr>\n",
       "      <th>674833</th>\n",
       "      <td>dga</td>\n",
       "      <td>mabyvik</td>\n",
       "      <td>7</td>\n",
       "      <td>2.807355</td>\n",
       "      <td>44.349325</td>\n",
       "      <td>29.979257</td>\n",
       "    </tr>\n",
       "    <tr>\n",
       "      <th>674834</th>\n",
       "      <td>dga</td>\n",
       "      <td>rbddojivsanxujwoj</td>\n",
       "      <td>17</td>\n",
       "      <td>3.572469</td>\n",
       "      <td>63.295749</td>\n",
       "      <td>50.885115</td>\n",
       "    </tr>\n",
       "    <tr>\n",
       "      <th>674835</th>\n",
       "      <td>dga</td>\n",
       "      <td>animabuseuangeliumpiet</td>\n",
       "      <td>22</td>\n",
       "      <td>3.413088</td>\n",
       "      <td>350.585643</td>\n",
       "      <td>444.221427</td>\n",
       "    </tr>\n",
       "    <tr>\n",
       "      <th>674836</th>\n",
       "      <td>dga</td>\n",
       "      <td>jhmtivi3sd1d8yonqe</td>\n",
       "      <td>18</td>\n",
       "      <td>3.947703</td>\n",
       "      <td>67.259928</td>\n",
       "      <td>271.379796</td>\n",
       "    </tr>\n",
       "  </tbody>\n",
       "</table>\n",
       "<p>674837 rows × 6 columns</p>\n",
       "</div>"
      ],
      "text/plain": [
       "        class                  domain  length   entropy  legit_websites_tfidf  \\\n",
       "0       legit                newengen       8  1.811278            273.157233   \n",
       "1       legit                vip-zona       8  3.000000             94.092823   \n",
       "2       legit         chauffeur-prive      15  3.373557            233.446100   \n",
       "3       legit           papoutsomania      13  3.026987            310.983393   \n",
       "4       legit             lesaffaires      11  2.732159            325.881964   \n",
       "...       ...                     ...     ...       ...                   ...   \n",
       "674832    dga          qsgbrwlaesoeji      14  3.521641             55.642905   \n",
       "674833    dga                 mabyvik       7  2.807355             44.349325   \n",
       "674834    dga       rbddojivsanxujwoj      17  3.572469             63.295749   \n",
       "674835    dga  animabuseuangeliumpiet      22  3.413088            350.585643   \n",
       "674836    dga      jhmtivi3sd1d8yonqe      18  3.947703             67.259928   \n",
       "\n",
       "        eng_word_tfidf  \n",
       "0           269.473684  \n",
       "1           236.820169  \n",
       "2           337.764478  \n",
       "3           499.345811  \n",
       "4           329.654688  \n",
       "...                ...  \n",
       "674832       76.165117  \n",
       "674833       29.979257  \n",
       "674834       50.885115  \n",
       "674835      444.221427  \n",
       "674836      271.379796  \n",
       "\n",
       "[674837 rows x 6 columns]"
      ]
     },
     "execution_count": 25,
     "metadata": {},
     "output_type": "execute_result"
    }
   ],
   "source": [
    "all_domains"
   ]
  },
  {
   "cell_type": "code",
   "execution_count": 26,
   "metadata": {},
   "outputs": [
    {
     "data": {
      "text/plain": [
       "<AxesSubplot:xlabel='length'>"
      ]
     },
     "execution_count": 26,
     "metadata": {},
     "output_type": "execute_result"
    },
    {
     "data": {
      "image/png": "[encoded data removed]",
      "text/plain": [
       "<Figure size 936x504 with 1 Axes>"
      ]
     },
     "metadata": {},
     "output_type": "display_data"
    }
   ],
   "source": [
    "import seaborn as sns\n",
    "import matplotlib.pyplot as plt\n",
    "\n",
    "sns.set(rc={'figure.figsize':(13,7)})\n",
    "\n",
    "\n",
    "sns.boxplot(x=all_domains['length'])"
   ]
  },
  {
   "cell_type": "code",
   "execution_count": 27,
   "metadata": {},
   "outputs": [
    {
     "data": {
      "text/plain": [
       "<AxesSubplot:xlabel='length', ylabel='Count'>"
      ]
     },
     "execution_count": 27,
     "metadata": {},
     "output_type": "execute_result"
    },
    {
     "data": {
      "image/png": "[encoded data removed]",
      "text/plain": [
       "<Figure size 936x504 with 1 Axes>"
      ]
     },
     "metadata": {},
     "output_type": "display_data"
    }
   ],
   "source": [
    "sns.histplot(data=all_domains, x=\"length\")"
   ]
  },
  {
   "cell_type": "code",
   "execution_count": 28,
   "metadata": {},
   "outputs": [
    {
     "data": {
      "text/plain": [
       "<AxesSubplot:xlabel='entropy'>"
      ]
     },
     "execution_count": 28,
     "metadata": {},
     "output_type": "execute_result"
    },
    {
     "data": {
      "image/png": "[encoded data removed]",
      "text/plain": [
       "<Figure size 936x504 with 1 Axes>"
      ]
     },
     "metadata": {},
     "output_type": "display_data"
    }
   ],
   "source": [
    "sns.boxplot(x=all_domains['entropy'])"
   ]
  },
  {
   "cell_type": "code",
   "execution_count": 29,
   "metadata": {},
   "outputs": [
    {
     "data": {
      "text/plain": [
       "<AxesSubplot:xlabel='entropy', ylabel='Count'>"
      ]
     },
     "execution_count": 29,
     "metadata": {},
     "output_type": "execute_result"
    },
    {
     "data": {
      "image/png": "[encoded data removed]",
      "text/plain": [
       "<Figure size 936x504 with 1 Axes>"
      ]
     },
     "metadata": {},
     "output_type": "display_data"
    }
   ],
   "source": [
    "sns.histplot(data=all_domains, x=\"entropy\")"
   ]
  },
  {
   "cell_type": "code",
   "execution_count": 30,
   "metadata": {},
   "outputs": [
    {
     "data": {
      "text/plain": [
       "<AxesSubplot:xlabel='legit_websites_tfidf'>"
      ]
     },
     "execution_count": 30,
     "metadata": {},
     "output_type": "execute_result"
    },
    {
     "data": {
      "image/png": "[encoded data removed]",
      "text/plain": [
       "<Figure size 936x504 with 1 Axes>"
      ]
     },
     "metadata": {},
     "output_type": "display_data"
    }
   ],
   "source": [
    "sns.boxplot(x=all_domains['legit_websites_tfidf'])"
   ]
  },
  {
   "cell_type": "code",
   "execution_count": 31,
   "metadata": {},
   "outputs": [
    {
     "data": {
      "text/plain": [
       "<AxesSubplot:xlabel='legit_websites_tfidf', ylabel='Count'>"
      ]
     },
     "execution_count": 31,
     "metadata": {},
     "output_type": "execute_result"
    },
    {
     "data": {
      "image/png": "[encoded data removed]",
      "text/plain": [
       "<Figure size 936x504 with 1 Axes>"
      ]
     },
     "metadata": {},
     "output_type": "display_data"
    }
   ],
   "source": [
    "sns.histplot(data=all_domains, x=\"legit_websites_tfidf\")"
   ]
  },
  {
   "cell_type": "code",
   "execution_count": 32,
   "metadata": {},
   "outputs": [
    {
     "data": {
      "text/plain": [
       "<AxesSubplot:xlabel='eng_word_tfidf'>"
      ]
     },
     "execution_count": 32,
     "metadata": {},
     "output_type": "execute_result"
    },
    {
     "data": {
      "image/png": "[encoded data removed]",
      "text/plain": [
       "<Figure size 936x504 with 1 Axes>"
      ]
     },
     "metadata": {},
     "output_type": "display_data"
    }
   ],
   "source": [
    "sns.boxplot(x=all_domains['eng_word_tfidf'])"
   ]
  },
  {
   "cell_type": "code",
   "execution_count": 33,
   "metadata": {},
   "outputs": [
    {
     "data": {
      "text/plain": [
       "<AxesSubplot:xlabel='eng_word_tfidf', ylabel='Count'>"
      ]
     },
     "execution_count": 33,
     "metadata": {},
     "output_type": "execute_result"
    },
    {
     "data": {
      "image/png": "[encoded data removed]",
      "text/plain": [
       "<Figure size 936x504 with 1 Axes>"
      ]
     },
     "metadata": {},
     "output_type": "display_data"
    }
   ],
   "source": [
    "sns.histplot(data=all_domains, x=\"eng_word_tfidf\")"
   ]
  },
  {
   "cell_type": "code",
   "execution_count": 34,
   "metadata": {},
   "outputs": [],
   "source": [
    "\n",
    "def outlier_thresholds(dataframe, col_name, q1=0.20, q3=0.80):\n",
    "    quartile1 = dataframe[col_name].quantile(q1)\n",
    "    quartile3 = dataframe[col_name].quantile(q3)\n",
    "    interquantile_range = quartile3 - quartile1\n",
    "    up_limit = quartile3 + 1.5 * interquantile_range\n",
    "    low_limit = quartile1 - 1.5 * interquantile_range\n",
    "    return low_limit, up_limit\n",
    "\n",
    "\n",
    "def remove_outlier(dataframe, col_name):\n",
    "    low_limit, up_limit = outlier_thresholds(dataframe, col_name)\n",
    "    df_without_outliers = dataframe[~((dataframe[col_name] <= low_limit) | (dataframe[col_name] >= up_limit))]\n",
    "    return df_without_outliers\n",
    "\n",
    "\n",
    "all_domains = remove_outlier(all_domains, 'length')\n",
    "all_domains = remove_outlier(all_domains, 'entropy')\n",
    "all_domains = remove_outlier(all_domains, 'legit_websites_tfidf')\n",
    "all_domains = remove_outlier(all_domains, 'eng_word_tfidf')\n",
    "\n"
   ]
  },
  {
   "cell_type": "code",
   "execution_count": 36,
   "metadata": {},
   "outputs": [
    {
     "data": {
      "text/plain": [
       "<AxesSubplot:xlabel='length'>"
      ]
     },
     "execution_count": 36,
     "metadata": {},
     "output_type": "execute_result"
    },
    {
     "data": {
      "image/png": "[encoded data removed]",
      "text/plain": [
       "<Figure size 936x504 with 1 Axes>"
      ]
     },
     "metadata": {},
     "output_type": "display_data"
    }
   ],
   "source": [
    "sns.boxplot(x=all_domains['length'])"
   ]
  },
  {
   "cell_type": "code",
   "execution_count": 37,
   "metadata": {},
   "outputs": [
    {
     "data": {
      "text/plain": [
       "<AxesSubplot:xlabel='length', ylabel='Count'>"
      ]
     },
     "execution_count": 37,
     "metadata": {},
     "output_type": "execute_result"
    },
    {
     "data": {
      "image/png": "[encoded data removed]",
      "text/plain": [
       "<Figure size 936x504 with 1 Axes>"
      ]
     },
     "metadata": {},
     "output_type": "display_data"
    }
   ],
   "source": [
    "sns.histplot(data=all_domains, x=\"length\")"
   ]
  },
  {
   "cell_type": "code",
   "execution_count": 38,
   "metadata": {},
   "outputs": [
    {
     "data": {
      "text/plain": [
       "<AxesSubplot:xlabel='entropy'>"
      ]
     },
     "execution_count": 38,
     "metadata": {},
     "output_type": "execute_result"
    },
    {
     "data": {
      "image/png": "[encoded data removed]",
      "text/plain": [
       "<Figure size 936x504 with 1 Axes>"
      ]
     },
     "metadata": {},
     "output_type": "display_data"
    }
   ],
   "source": [
    "sns.boxplot(x=all_domains['entropy'])"
   ]
  },
  {
   "cell_type": "code",
   "execution_count": 39,
   "metadata": {},
   "outputs": [
    {
     "data": {
      "text/plain": [
       "<AxesSubplot:xlabel='entropy', ylabel='Count'>"
      ]
     },
     "execution_count": 39,
     "metadata": {},
     "output_type": "execute_result"
    },
    {
     "data": {
      "image/png": "[encoded data removed]",
      "text/plain": [
       "<Figure size 936x504 with 1 Axes>"
      ]
     },
     "metadata": {},
     "output_type": "display_data"
    }
   ],
   "source": [
    "sns.histplot(data=all_domains, x=\"entropy\")"
   ]
  },
  {
   "cell_type": "code",
   "execution_count": 40,
   "metadata": {},
   "outputs": [
    {
     "data": {
      "text/plain": [
       "<AxesSubplot:xlabel='legit_websites_tfidf'>"
      ]
     },
     "execution_count": 40,
     "metadata": {},
     "output_type": "execute_result"
    },
    {
     "data": {
      "image/png": "[encoded data removed]",
      "text/plain": [
       "<Figure size 936x504 with 1 Axes>"
      ]
     },
     "metadata": {},
     "output_type": "display_data"
    }
   ],
   "source": [
    "sns.boxplot(x=all_domains['legit_websites_tfidf'])"
   ]
  },
  {
   "cell_type": "code",
   "execution_count": 41,
   "metadata": {},
   "outputs": [
    {
     "data": {
      "text/plain": [
       "<AxesSubplot:xlabel='legit_websites_tfidf', ylabel='Count'>"
      ]
     },
     "execution_count": 41,
     "metadata": {},
     "output_type": "execute_result"
    },
    {
     "data": {
      "image/png": "[encoded data removed]",
      "text/plain": [
       "<Figure size 936x504 with 1 Axes>"
      ]
     },
     "metadata": {},
     "output_type": "display_data"
    }
   ],
   "source": [
    "sns.histplot(data=all_domains, x=\"legit_websites_tfidf\")"
   ]
  },
  {
   "cell_type": "code",
   "execution_count": 42,
   "metadata": {},
   "outputs": [
    {
     "data": {
      "text/plain": [
       "<AxesSubplot:xlabel='eng_word_tfidf'>"
      ]
     },
     "execution_count": 42,
     "metadata": {},
     "output_type": "execute_result"
    },
    {
     "data": {
      "image/png": "[encoded data removed]",
      "text/plain": [
       "<Figure size 936x504 with 1 Axes>"
      ]
     },
     "metadata": {},
     "output_type": "display_data"
    }
   ],
   "source": [
    "sns.boxplot(x=all_domains['eng_word_tfidf'])"
   ]
  },
  {
   "cell_type": "code",
   "execution_count": 43,
   "metadata": {},
   "outputs": [
    {
     "data": {
      "text/plain": [
       "<AxesSubplot:xlabel='eng_word_tfidf', ylabel='Count'>"
      ]
     },
     "execution_count": 43,
     "metadata": {},
     "output_type": "execute_result"
    },
    {
     "data": {
      "image/png": "[encoded data removed]",
      "text/plain": [
       "<Figure size 936x504 with 1 Axes>"
      ]
     },
     "metadata": {},
     "output_type": "display_data"
    }
   ],
   "source": [
    "sns.histplot(data=all_domains, x=\"eng_word_tfidf\")"
   ]
  },
  {
   "cell_type": "code",
   "execution_count": 44,
   "metadata": {},
   "outputs": [
    {
     "data": {
      "text/html": [
       "<div>\n",
       "<style scoped>\n",
       "    .dataframe tbody tr th:only-of-type {\n",
       "        vertical-align: middle;\n",
       "    }\n",
       "\n",
       "    .dataframe tbody tr th {\n",
       "        vertical-align: top;\n",
       "    }\n",
       "\n",
       "    .dataframe thead tr th {\n",
       "        text-align: left;\n",
       "    }\n",
       "\n",
       "    .dataframe thead tr:last-of-type th {\n",
       "        text-align: right;\n",
       "    }\n",
       "</style>\n",
       "<table border=\"1\" class=\"dataframe\">\n",
       "  <thead>\n",
       "    <tr>\n",
       "      <th></th>\n",
       "      <th colspan=\"3\" halign=\"left\">length</th>\n",
       "    </tr>\n",
       "    <tr>\n",
       "      <th></th>\n",
       "      <th>mean</th>\n",
       "      <th>min</th>\n",
       "      <th>max</th>\n",
       "    </tr>\n",
       "    <tr>\n",
       "      <th>class</th>\n",
       "      <th></th>\n",
       "      <th></th>\n",
       "      <th></th>\n",
       "    </tr>\n",
       "  </thead>\n",
       "  <tbody>\n",
       "    <tr>\n",
       "      <th>dga</th>\n",
       "      <td>13.462319</td>\n",
       "      <td>4</td>\n",
       "      <td>27</td>\n",
       "    </tr>\n",
       "    <tr>\n",
       "      <th>legit</th>\n",
       "      <td>10.567697</td>\n",
       "      <td>3</td>\n",
       "      <td>27</td>\n",
       "    </tr>\n",
       "  </tbody>\n",
       "</table>\n",
       "</div>"
      ],
      "text/plain": [
       "          length        \n",
       "            mean min max\n",
       "class                   \n",
       "dga    13.462319   4  27\n",
       "legit  10.567697   3  27"
      ]
     },
     "execution_count": 44,
     "metadata": {},
     "output_type": "execute_result"
    }
   ],
   "source": [
    "all_domains.groupby('class').agg({'length':['mean', 'min', 'max']})"
   ]
  },
  {
   "cell_type": "code",
   "execution_count": 45,
   "metadata": {},
   "outputs": [
    {
     "data": {
      "text/html": [
       "<div>\n",
       "<style scoped>\n",
       "    .dataframe tbody tr th:only-of-type {\n",
       "        vertical-align: middle;\n",
       "    }\n",
       "\n",
       "    .dataframe tbody tr th {\n",
       "        vertical-align: top;\n",
       "    }\n",
       "\n",
       "    .dataframe thead tr th {\n",
       "        text-align: left;\n",
       "    }\n",
       "\n",
       "    .dataframe thead tr:last-of-type th {\n",
       "        text-align: right;\n",
       "    }\n",
       "</style>\n",
       "<table border=\"1\" class=\"dataframe\">\n",
       "  <thead>\n",
       "    <tr>\n",
       "      <th></th>\n",
       "      <th colspan=\"3\" halign=\"left\">entropy</th>\n",
       "    </tr>\n",
       "    <tr>\n",
       "      <th></th>\n",
       "      <th>mean</th>\n",
       "      <th>min</th>\n",
       "      <th>max</th>\n",
       "    </tr>\n",
       "    <tr>\n",
       "      <th>class</th>\n",
       "      <th></th>\n",
       "      <th></th>\n",
       "      <th></th>\n",
       "    </tr>\n",
       "  </thead>\n",
       "  <tbody>\n",
       "    <tr>\n",
       "      <th>dga</th>\n",
       "      <td>3.131282</td>\n",
       "      <td>1.378783</td>\n",
       "      <td>4.436605</td>\n",
       "    </tr>\n",
       "    <tr>\n",
       "      <th>legit</th>\n",
       "      <td>2.846514</td>\n",
       "      <td>1.378783</td>\n",
       "      <td>4.392747</td>\n",
       "    </tr>\n",
       "  </tbody>\n",
       "</table>\n",
       "</div>"
      ],
      "text/plain": [
       "        entropy                    \n",
       "           mean       min       max\n",
       "class                              \n",
       "dga    3.131282  1.378783  4.436605\n",
       "legit  2.846514  1.378783  4.392747"
      ]
     },
     "execution_count": 45,
     "metadata": {},
     "output_type": "execute_result"
    }
   ],
   "source": [
    "all_domains.groupby('class').agg({'entropy':['mean', 'min', 'max']})"
   ]
  },
  {
   "cell_type": "code",
   "execution_count": 46,
   "metadata": {},
   "outputs": [
    {
     "data": {
      "text/html": [
       "<div>\n",
       "<style scoped>\n",
       "    .dataframe tbody tr th:only-of-type {\n",
       "        vertical-align: middle;\n",
       "    }\n",
       "\n",
       "    .dataframe tbody tr th {\n",
       "        vertical-align: top;\n",
       "    }\n",
       "\n",
       "    .dataframe thead tr th {\n",
       "        text-align: left;\n",
       "    }\n",
       "\n",
       "    .dataframe thead tr:last-of-type th {\n",
       "        text-align: right;\n",
       "    }\n",
       "</style>\n",
       "<table border=\"1\" class=\"dataframe\">\n",
       "  <thead>\n",
       "    <tr>\n",
       "      <th></th>\n",
       "      <th colspan=\"3\" halign=\"left\">legit_websites_tfidf</th>\n",
       "    </tr>\n",
       "    <tr>\n",
       "      <th></th>\n",
       "      <th>mean</th>\n",
       "      <th>min</th>\n",
       "      <th>max</th>\n",
       "    </tr>\n",
       "    <tr>\n",
       "      <th>class</th>\n",
       "      <th></th>\n",
       "      <th></th>\n",
       "      <th></th>\n",
       "    </tr>\n",
       "  </thead>\n",
       "  <tbody>\n",
       "    <tr>\n",
       "      <th>dga</th>\n",
       "      <td>108.336258</td>\n",
       "      <td>0.0</td>\n",
       "      <td>825.256167</td>\n",
       "    </tr>\n",
       "    <tr>\n",
       "      <th>legit</th>\n",
       "      <td>268.546090</td>\n",
       "      <td>1.0</td>\n",
       "      <td>825.722716</td>\n",
       "    </tr>\n",
       "  </tbody>\n",
       "</table>\n",
       "</div>"
      ],
      "text/plain": [
       "      legit_websites_tfidf                 \n",
       "                      mean  min         max\n",
       "class                                      \n",
       "dga             108.336258  0.0  825.256167\n",
       "legit           268.546090  1.0  825.722716"
      ]
     },
     "execution_count": 46,
     "metadata": {},
     "output_type": "execute_result"
    }
   ],
   "source": [
    "all_domains.groupby('class').agg({'legit_websites_tfidf':['mean', 'min', 'max']})"
   ]
  },
  {
   "cell_type": "code",
   "execution_count": 47,
   "metadata": {},
   "outputs": [
    {
     "data": {
      "text/html": [
       "<div>\n",
       "<style scoped>\n",
       "    .dataframe tbody tr th:only-of-type {\n",
       "        vertical-align: middle;\n",
       "    }\n",
       "\n",
       "    .dataframe tbody tr th {\n",
       "        vertical-align: top;\n",
       "    }\n",
       "\n",
       "    .dataframe thead tr th {\n",
       "        text-align: left;\n",
       "    }\n",
       "\n",
       "    .dataframe thead tr:last-of-type th {\n",
       "        text-align: right;\n",
       "    }\n",
       "</style>\n",
       "<table border=\"1\" class=\"dataframe\">\n",
       "  <thead>\n",
       "    <tr>\n",
       "      <th></th>\n",
       "      <th colspan=\"3\" halign=\"left\">eng_word_tfidf</th>\n",
       "    </tr>\n",
       "    <tr>\n",
       "      <th></th>\n",
       "      <th>mean</th>\n",
       "      <th>min</th>\n",
       "      <th>max</th>\n",
       "    </tr>\n",
       "    <tr>\n",
       "      <th>class</th>\n",
       "      <th></th>\n",
       "      <th></th>\n",
       "      <th></th>\n",
       "    </tr>\n",
       "  </thead>\n",
       "  <tbody>\n",
       "    <tr>\n",
       "      <th>dga</th>\n",
       "      <td>151.326950</td>\n",
       "      <td>0.0</td>\n",
       "      <td>1046.531291</td>\n",
       "    </tr>\n",
       "    <tr>\n",
       "      <th>legit</th>\n",
       "      <td>336.810887</td>\n",
       "      <td>0.0</td>\n",
       "      <td>1046.657731</td>\n",
       "    </tr>\n",
       "  </tbody>\n",
       "</table>\n",
       "</div>"
      ],
      "text/plain": [
       "      eng_word_tfidf                  \n",
       "                mean  min          max\n",
       "class                                 \n",
       "dga       151.326950  0.0  1046.531291\n",
       "legit     336.810887  0.0  1046.657731"
      ]
     },
     "execution_count": 47,
     "metadata": {},
     "output_type": "execute_result"
    }
   ],
   "source": [
    "all_domains.groupby('class').agg({'eng_word_tfidf':['mean', 'min', 'max']})"
   ]
  },
  {
   "cell_type": "code",
   "execution_count": 48,
   "metadata": {},
   "outputs": [],
   "source": [
    "all_domains.loc[all_domains[\"class\"] == \"dga\", \"class\"] = 1\n",
    "all_domains.loc[all_domains[\"class\"] == \"legit\", \"class\"] = 0"
   ]
  },
  {
   "cell_type": "code",
   "execution_count": 49,
   "metadata": {},
   "outputs": [
    {
     "data": {
      "text/html": [
       "<div>\n",
       "<style scoped>\n",
       "    .dataframe tbody tr th:only-of-type {\n",
       "        vertical-align: middle;\n",
       "    }\n",
       "\n",
       "    .dataframe tbody tr th {\n",
       "        vertical-align: top;\n",
       "    }\n",
       "\n",
       "    .dataframe thead th {\n",
       "        text-align: right;\n",
       "    }\n",
       "</style>\n",
       "<table border=\"1\" class=\"dataframe\">\n",
       "  <thead>\n",
       "    <tr style=\"text-align: right;\">\n",
       "      <th></th>\n",
       "      <th>class</th>\n",
       "      <th>domain</th>\n",
       "      <th>length</th>\n",
       "      <th>entropy</th>\n",
       "      <th>legit_websites_tfidf</th>\n",
       "      <th>eng_word_tfidf</th>\n",
       "    </tr>\n",
       "  </thead>\n",
       "  <tbody>\n",
       "    <tr>\n",
       "      <th>0</th>\n",
       "      <td>0</td>\n",
       "      <td>newengen</td>\n",
       "      <td>8</td>\n",
       "      <td>1.811278</td>\n",
       "      <td>273.157233</td>\n",
       "      <td>269.473684</td>\n",
       "    </tr>\n",
       "    <tr>\n",
       "      <th>1</th>\n",
       "      <td>0</td>\n",
       "      <td>vip-zona</td>\n",
       "      <td>8</td>\n",
       "      <td>3.000000</td>\n",
       "      <td>94.092823</td>\n",
       "      <td>236.820169</td>\n",
       "    </tr>\n",
       "    <tr>\n",
       "      <th>2</th>\n",
       "      <td>0</td>\n",
       "      <td>chauffeur-prive</td>\n",
       "      <td>15</td>\n",
       "      <td>3.373557</td>\n",
       "      <td>233.446100</td>\n",
       "      <td>337.764478</td>\n",
       "    </tr>\n",
       "    <tr>\n",
       "      <th>3</th>\n",
       "      <td>0</td>\n",
       "      <td>papoutsomania</td>\n",
       "      <td>13</td>\n",
       "      <td>3.026987</td>\n",
       "      <td>310.983393</td>\n",
       "      <td>499.345811</td>\n",
       "    </tr>\n",
       "    <tr>\n",
       "      <th>4</th>\n",
       "      <td>0</td>\n",
       "      <td>lesaffaires</td>\n",
       "      <td>11</td>\n",
       "      <td>2.732159</td>\n",
       "      <td>325.881964</td>\n",
       "      <td>329.654688</td>\n",
       "    </tr>\n",
       "    <tr>\n",
       "      <th>...</th>\n",
       "      <td>...</td>\n",
       "      <td>...</td>\n",
       "      <td>...</td>\n",
       "      <td>...</td>\n",
       "      <td>...</td>\n",
       "      <td>...</td>\n",
       "    </tr>\n",
       "    <tr>\n",
       "      <th>674832</th>\n",
       "      <td>1</td>\n",
       "      <td>qsgbrwlaesoeji</td>\n",
       "      <td>14</td>\n",
       "      <td>3.521641</td>\n",
       "      <td>55.642905</td>\n",
       "      <td>76.165117</td>\n",
       "    </tr>\n",
       "    <tr>\n",
       "      <th>674833</th>\n",
       "      <td>1</td>\n",
       "      <td>mabyvik</td>\n",
       "      <td>7</td>\n",
       "      <td>2.807355</td>\n",
       "      <td>44.349325</td>\n",
       "      <td>29.979257</td>\n",
       "    </tr>\n",
       "    <tr>\n",
       "      <th>674834</th>\n",
       "      <td>1</td>\n",
       "      <td>rbddojivsanxujwoj</td>\n",
       "      <td>17</td>\n",
       "      <td>3.572469</td>\n",
       "      <td>63.295749</td>\n",
       "      <td>50.885115</td>\n",
       "    </tr>\n",
       "    <tr>\n",
       "      <th>674835</th>\n",
       "      <td>1</td>\n",
       "      <td>animabuseuangeliumpiet</td>\n",
       "      <td>22</td>\n",
       "      <td>3.413088</td>\n",
       "      <td>350.585643</td>\n",
       "      <td>444.221427</td>\n",
       "    </tr>\n",
       "    <tr>\n",
       "      <th>674836</th>\n",
       "      <td>1</td>\n",
       "      <td>jhmtivi3sd1d8yonqe</td>\n",
       "      <td>18</td>\n",
       "      <td>3.947703</td>\n",
       "      <td>67.259928</td>\n",
       "      <td>271.379796</td>\n",
       "    </tr>\n",
       "  </tbody>\n",
       "</table>\n",
       "<p>652584 rows × 6 columns</p>\n",
       "</div>"
      ],
      "text/plain": [
       "       class                  domain  length   entropy  legit_websites_tfidf  \\\n",
       "0          0                newengen       8  1.811278            273.157233   \n",
       "1          0                vip-zona       8  3.000000             94.092823   \n",
       "2          0         chauffeur-prive      15  3.373557            233.446100   \n",
       "3          0           papoutsomania      13  3.026987            310.983393   \n",
       "4          0             lesaffaires      11  2.732159            325.881964   \n",
       "...      ...                     ...     ...       ...                   ...   \n",
       "674832     1          qsgbrwlaesoeji      14  3.521641             55.642905   \n",
       "674833     1                 mabyvik       7  2.807355             44.349325   \n",
       "674834     1       rbddojivsanxujwoj      17  3.572469             63.295749   \n",
       "674835     1  animabuseuangeliumpiet      22  3.413088            350.585643   \n",
       "674836     1      jhmtivi3sd1d8yonqe      18  3.947703             67.259928   \n",
       "\n",
       "        eng_word_tfidf  \n",
       "0           269.473684  \n",
       "1           236.820169  \n",
       "2           337.764478  \n",
       "3           499.345811  \n",
       "4           329.654688  \n",
       "...                ...  \n",
       "674832       76.165117  \n",
       "674833       29.979257  \n",
       "674834       50.885115  \n",
       "674835      444.221427  \n",
       "674836      271.379796  \n",
       "\n",
       "[652584 rows x 6 columns]"
      ]
     },
     "execution_count": 49,
     "metadata": {},
     "output_type": "execute_result"
    }
   ],
   "source": [
    "all_domains"
   ]
  },
  {
   "cell_type": "code",
   "execution_count": 50,
   "metadata": {},
   "outputs": [
    {
     "name": "stdout",
     "output_type": "stream",
     "text": [
      "[[85991 12215]\n",
      " [19906 77664]]\n",
      "              precision    recall  f1-score   support\n",
      "\n",
      "           0       0.81      0.88      0.84     98206\n",
      "           1       0.86      0.80      0.83     97570\n",
      "\n",
      "    accuracy                           0.84    195776\n",
      "   macro avg       0.84      0.84      0.84    195776\n",
      "weighted avg       0.84      0.84      0.84    195776\n",
      "\n",
      "0.8359298381824125\n"
     ]
    }
   ],
   "source": [
    "from sklearn.model_selection import train_test_split, GridSearchCV, cross_validate, validation_curve\n",
    "\n",
    "rf_model = sklearn.ensemble.RandomForestClassifier(n_estimators=100)\n",
    "\n",
    "X = all_domains[['length', 'entropy', 'legit_websites_tfidf', 'eng_word_tfidf']]\n",
    "y = np.array(all_domains['class'].tolist())\n",
    "\n",
    "\n",
    "X_train, X_test, y_train, y_test = train_test_split(X, y, test_size=0.3)\n",
    "rf_model.fit(X_train, y_train)\n",
    "y_pred = rf_model.predict(X_test)\n",
    "rf_model.score(X_test,y_test)*100\n",
    "\n",
    "\n",
    "from sklearn.metrics import classification_report, confusion_matrix, accuracy_score\n",
    "\n",
    "print(confusion_matrix(y_test,y_pred))\n",
    "print(classification_report(y_test,y_pred))\n",
    "print(accuracy_score(y_test, y_pred))"
   ]
  },
  {
   "cell_type": "code",
   "execution_count": 51,
   "metadata": {},
   "outputs": [
    {
     "name": "stdout",
     "output_type": "stream",
     "text": [
      "Counter({0: 229388, 1: 227420})\n",
      "Counter({0: 98206, 1: 97570})\n"
     ]
    }
   ],
   "source": [
    "\n",
    "import collections, numpy\n",
    "\n",
    "\n",
    "counter = collections.Counter(y_train)\n",
    "print(counter)\n",
    "\n",
    "counter2 = collections.Counter(y_test)\n",
    "print(counter2)\n"
   ]
  },
  {
   "cell_type": "code",
   "execution_count": 52,
   "metadata": {},
   "outputs": [
    {
     "data": {
      "image/png": "[encoded data removed]",
      "text/plain": [
       "<Figure size 720x720 with 1 Axes>"
      ]
     },
     "metadata": {},
     "output_type": "display_data"
    }
   ],
   "source": [
    "\n",
    "def plot_importance(model, features, num=len(X), save=False):\n",
    "    feature_imp = pd.DataFrame({'Value': model.feature_importances_, 'Feature': features.columns})\n",
    "    plt.figure(figsize=(10, 10))\n",
    "    sns.set(font_scale=1)\n",
    "    sns.barplot(x=\"Value\", y=\"Feature\", data=feature_imp.sort_values(by=\"Value\",\n",
    "                                                                     ascending=False)[0:num])\n",
    "    plt.title('Features')\n",
    "    plt.tight_layout()\n",
    "    plt.show()\n",
    "    if save:\n",
    "        plt.savefig('importances.png')\n",
    "\n",
    "plot_importance(rf_model, X)\n"
   ]
  },
  {
   "cell_type": "code",
   "execution_count": 53,
   "metadata": {},
   "outputs": [
    {
     "data": {
      "image/png": "[encoded data removed]",
      "text/plain": [
       "<Figure size 1152x576 with 2 Axes>"
      ]
     },
     "metadata": {},
     "output_type": "display_data"
    }
   ],
   "source": [
    "plt.figure(figsize=(16, 8))\n",
    "corrMatrix = all_domains.corr()\n",
    "sns.heatmap(corrMatrix, annot=True)\n",
    "plt.show()"
   ]
  },
  {
   "cell_type": "code",
   "execution_count": 54,
   "metadata": {},
   "outputs": [
    {
     "name": "stdout",
     "output_type": "stream",
     "text": [
      "0\n"
     ]
    }
   ],
   "source": [
    "\n",
    "def dga_detect(domain):\n",
    "    legit_websites_tfidf_match = legit_websites_dict_counts * legit_websites_char_vectorizer.transform([domain]).T\n",
    "    \n",
    "    eng_word_tfidf_match = eng_word_dict_counts * eng_word_char_vectorizer.transform([domain]).T\n",
    "    \n",
    "    _X = [len(domain), entropy(domain), legit_websites_tfidf_match, eng_word_tfidf_match]\n",
    "    \n",
    "\n",
    "    return str(rf_model.predict([_X])[0])\n",
    "\n",
    "print(dga_detect('miuul'))\n"
   ]
  },
  {
   "cell_type": "code",
   "execution_count": 55,
   "metadata": {},
   "outputs": [
    {
     "name": "stdout",
     "output_type": "stream",
     "text": [
      "[[82990 15341]\n",
      " [19369 78076]]\n",
      "              precision    recall  f1-score   support\n",
      "\n",
      "           0       0.81      0.84      0.83     98331\n",
      "           1       0.84      0.80      0.82     97445\n",
      "\n",
      "    accuracy                           0.82    195776\n",
      "   macro avg       0.82      0.82      0.82    195776\n",
      "weighted avg       0.82      0.82      0.82    195776\n",
      "\n",
      "0.8227055410264792\n"
     ]
    }
   ],
   "source": [
    "from sklearn.linear_model import LogisticRegression\n",
    "\n",
    "\n",
    "log_model = LogisticRegression()\n",
    "\n",
    "\n",
    "X_train, X_test, y_train, y_test = train_test_split(X, y, test_size=0.3)\n",
    "log_model.fit(X_train, y_train)\n",
    "y_pred = log_model.predict(X_test)\n",
    "log_model.score(X_test,y_test)*100\n",
    "\n",
    "\n",
    "print(confusion_matrix(y_test,y_pred))\n",
    "print(classification_report(y_test,y_pred))\n",
    "print(accuracy_score(y_test, y_pred))\n"
   ]
  },
  {
   "cell_type": "code",
   "execution_count": 56,
   "metadata": {},
   "outputs": [
    {
     "name": "stdout",
     "output_type": "stream",
     "text": [
      "[[84079 13766]\n",
      " [20889 77042]]\n",
      "              precision    recall  f1-score   support\n",
      "\n",
      "           0       0.80      0.86      0.83     97845\n",
      "           1       0.85      0.79      0.82     97931\n",
      "\n",
      "    accuracy                           0.82    195776\n",
      "   macro avg       0.82      0.82      0.82    195776\n",
      "weighted avg       0.82      0.82      0.82    195776\n",
      "\n",
      "0.822986474338019\n"
     ]
    }
   ],
   "source": [
    "from sklearn.neighbors import KNeighborsClassifier\n",
    "\n",
    "knn_model = KNeighborsClassifier()\n",
    "\n",
    "\n",
    "X_train, X_test, y_train, y_test = train_test_split(X, y, test_size=0.3)\n",
    "knn_model.fit(X_train, y_train)\n",
    "y_pred = knn_model.predict(X_test)\n",
    "knn_model.score(X_test,y_test)*100\n",
    "\n",
    "\n",
    "print(confusion_matrix(y_test,y_pred))\n",
    "print(classification_report(y_test,y_pred))\n",
    "print(accuracy_score(y_test, y_pred))\n"
   ]
  }
 ],
 "metadata": {
  "kernelspec": {
   "display_name": "exp1",
   "language": "python",
   "name": "exp1"
  },
  "language_info": {
   "codemirror_mode": {
    "name": "ipython",
    "version": 3
   },
   "file_extension": ".py",
   "mimetype": "text/x-python",
   "name": "python",
   "nbconvert_exporter": "python",
   "pygments_lexer": "ipython3",
   "version": "3.6.13"
  }
 },
 "nbformat": 4,
 "nbformat_minor": 4
}
