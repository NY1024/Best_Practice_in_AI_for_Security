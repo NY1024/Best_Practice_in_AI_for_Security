{
 "cells": [
  {
   "cell_type": "code",
   "execution_count": 1,
   "metadata": {
    "execution": {
     "iopub.execute_input": "2021-12-07T17:40:05.038679Z",
     "iopub.status.busy": "2021-12-07T17:40:05.037767Z",
     "iopub.status.idle": "2021-12-07T17:40:06.126403Z",
     "shell.execute_reply": "2021-12-07T17:40:06.125737Z",
     "shell.execute_reply.started": "2021-12-07T17:37:56.450693Z"
    },
    "papermill": {
     "duration": 1.149682,
     "end_time": "2021-12-07T17:40:06.126586",
     "exception": false,
     "start_time": "2021-12-07T17:40:04.976904",
     "status": "completed"
    },
    "tags": []
   },
   "outputs": [],
   "source": [
    "import pandas as pd\n",
    "import numpy as np\n",
    "import matplotlib.pyplot as plt\n",
    "import seaborn as sb"
   ]
  },
  {
   "cell_type": "code",
   "execution_count": 2,
   "metadata": {
    "execution": {
     "iopub.execute_input": "2021-12-07T17:40:06.340009Z",
     "iopub.status.busy": "2021-12-07T17:40:06.339277Z",
     "iopub.status.idle": "2021-12-07T17:40:06.642742Z",
     "shell.execute_reply": "2021-12-07T17:40:06.643236Z",
     "shell.execute_reply.started": "2021-12-07T17:37:56.470144Z"
    },
    "papermill": {
     "duration": 0.355447,
     "end_time": "2021-12-07T17:40:06.643432",
     "exception": false,
     "start_time": "2021-12-07T17:40:06.287985",
     "status": "completed"
    },
    "tags": []
   },
   "outputs": [],
   "source": [
    "df = pd.read_csv('news_articles.csv')"
   ]
  },
  {
   "cell_type": "code",
   "execution_count": 3,
   "metadata": {
    "execution": {
     "iopub.execute_input": "2021-12-07T17:40:06.746630Z",
     "iopub.status.busy": "2021-12-07T17:40:06.746006Z",
     "iopub.status.idle": "2021-12-07T17:40:06.775343Z",
     "shell.execute_reply": "2021-12-07T17:40:06.775846Z",
     "shell.execute_reply.started": "2021-12-07T17:37:56.600667Z"
    },
    "papermill": {
     "duration": 0.082405,
     "end_time": "2021-12-07T17:40:06.776012",
     "exception": false,
     "start_time": "2021-12-07T17:40:06.693607",
     "status": "completed"
    },
    "scrolled": true,
    "tags": []
   },
   "outputs": [
    {
     "data": {
      "text/html": [
       "<div>\n",
       "<style scoped>\n",
       "    .dataframe tbody tr th:only-of-type {\n",
       "        vertical-align: middle;\n",
       "    }\n",
       "\n",
       "    .dataframe tbody tr th {\n",
       "        vertical-align: top;\n",
       "    }\n",
       "\n",
       "    .dataframe thead th {\n",
       "        text-align: right;\n",
       "    }\n",
       "</style>\n",
       "<table border=\"1\" class=\"dataframe\">\n",
       "  <thead>\n",
       "    <tr style=\"text-align: right;\">\n",
       "      <th></th>\n",
       "      <th>author</th>\n",
       "      <th>published</th>\n",
       "      <th>title</th>\n",
       "      <th>text</th>\n",
       "      <th>language</th>\n",
       "      <th>site_url</th>\n",
       "      <th>main_img_url</th>\n",
       "      <th>type</th>\n",
       "      <th>label</th>\n",
       "      <th>title_without_stopwords</th>\n",
       "      <th>text_without_stopwords</th>\n",
       "      <th>hasImage</th>\n",
       "    </tr>\n",
       "  </thead>\n",
       "  <tbody>\n",
       "    <tr>\n",
       "      <th>2081</th>\n",
       "      <td>-NO AUTHOR-</td>\n",
       "      <td>2016-10-27T06:30:35.864+03:00</td>\n",
       "      <td>dems sue gop over trumps rigged complaints</td>\n",
       "      <td>NaN</td>\n",
       "      <td>english</td>\n",
       "      <td>wnd.com</td>\n",
       "      <td>http://mobile.wnd.com/files/2016/10/tax_paymen...</td>\n",
       "      <td>bias</td>\n",
       "      <td>Real</td>\n",
       "      <td>dems sue gop trumps rigged complaints</td>\n",
       "      <td>NaN</td>\n",
       "      <td>1.0</td>\n",
       "    </tr>\n",
       "    <tr>\n",
       "      <th>2082</th>\n",
       "      <td>-NO AUTHOR-</td>\n",
       "      <td>2016-10-27T06:32:38.028+03:00</td>\n",
       "      <td>yearold hebrew mention of jerusalem found</td>\n",
       "      <td>NaN</td>\n",
       "      <td>english</td>\n",
       "      <td>wnd.com</td>\n",
       "      <td>http://mobile.wnd.com/files/2016/07/trump_make...</td>\n",
       "      <td>bias</td>\n",
       "      <td>Real</td>\n",
       "      <td>hillary emails whitelisted obamas blackberry</td>\n",
       "      <td>NaN</td>\n",
       "      <td>1.0</td>\n",
       "    </tr>\n",
       "    <tr>\n",
       "      <th>2083</th>\n",
       "      <td>-NO AUTHOR-</td>\n",
       "      <td>2016-10-27T07:20:12.250+03:00</td>\n",
       "      <td>boycott targets trump family on retail front</td>\n",
       "      <td>NaN</td>\n",
       "      <td>english</td>\n",
       "      <td>wnd.com</td>\n",
       "      <td>http://www.wnd.com/files/2016/10/obama_blackbe...</td>\n",
       "      <td>bias</td>\n",
       "      <td>Real</td>\n",
       "      <td>support assaultweapon ban hits record low</td>\n",
       "      <td>NaN</td>\n",
       "      <td>1.0</td>\n",
       "    </tr>\n",
       "    <tr>\n",
       "      <th>2084</th>\n",
       "      <td>-NO AUTHOR-</td>\n",
       "      <td>2016-10-27T07:20:12.436+03:00</td>\n",
       "      <td>obamacare tax penalty ill take it millions say</td>\n",
       "      <td>NaN</td>\n",
       "      <td>english</td>\n",
       "      <td>wnd.com</td>\n",
       "      <td>http://www.wnd.com/files/2016/10/assault_weapo...</td>\n",
       "      <td>bias</td>\n",
       "      <td>Real</td>\n",
       "      <td>pope god promised land people israel</td>\n",
       "      <td>NaN</td>\n",
       "      <td>1.0</td>\n",
       "    </tr>\n",
       "    <tr>\n",
       "      <th>2085</th>\n",
       "      <td>-NO AUTHOR-</td>\n",
       "      <td>2016-10-27T08:14:27.425+03:00</td>\n",
       "      <td>dems sue gop over trumps rigged complaints</td>\n",
       "      <td>NaN</td>\n",
       "      <td>english</td>\n",
       "      <td>wnd.com</td>\n",
       "      <td>http://www.wnd.com/files/2016/10/pope_francis_...</td>\n",
       "      <td>bias</td>\n",
       "      <td>Real</td>\n",
       "      <td>christs burial place exposed st time centuries</td>\n",
       "      <td>NaN</td>\n",
       "      <td>1.0</td>\n",
       "    </tr>\n",
       "    <tr>\n",
       "      <th>2086</th>\n",
       "      <td>-NO AUTHOR-</td>\n",
       "      <td>2016-10-27T08:20:38.377+03:00</td>\n",
       "      <td>hillary emails whitelisted for obamas blackberry</td>\n",
       "      <td>NaN</td>\n",
       "      <td>english</td>\n",
       "      <td>wnd.com</td>\n",
       "      <td>http://www.wnd.com/files/2016/10/jpg_holy_sepu...</td>\n",
       "      <td>bias</td>\n",
       "      <td>Real</td>\n",
       "      <td>prof canoes reek genocide white privilege</td>\n",
       "      <td>NaN</td>\n",
       "      <td>1.0</td>\n",
       "    </tr>\n",
       "    <tr>\n",
       "      <th>2087</th>\n",
       "      <td>-NO AUTHOR-</td>\n",
       "      <td>2016-10-27T15:10:52.832+03:00</td>\n",
       "      <td>support for assaultweapon ban hits record low</td>\n",
       "      <td>NaN</td>\n",
       "      <td>english</td>\n",
       "      <td>wnd.com</td>\n",
       "      <td>http://www.wnd.com/files/2016/10/canoe.jpg</td>\n",
       "      <td>bias</td>\n",
       "      <td>Real</td>\n",
       "      <td>teens walk free gangrape conviction</td>\n",
       "      <td>NaN</td>\n",
       "      <td>1.0</td>\n",
       "    </tr>\n",
       "    <tr>\n",
       "      <th>2088</th>\n",
       "      <td>-NO AUTHOR-</td>\n",
       "      <td>2016-10-27T15:24:15.986+03:00</td>\n",
       "      <td>pope god promised the land to people of israel</td>\n",
       "      <td>NaN</td>\n",
       "      <td>english</td>\n",
       "      <td>wnd.com</td>\n",
       "      <td>http://www.wnd.com/files/2016/10/trial_teens_g...</td>\n",
       "      <td>bias</td>\n",
       "      <td>Real</td>\n",
       "      <td>school named munichmassacre mastermind</td>\n",
       "      <td>NaN</td>\n",
       "      <td>1.0</td>\n",
       "    </tr>\n",
       "    <tr>\n",
       "      <th>2089</th>\n",
       "      <td>-NO AUTHOR-</td>\n",
       "      <td>2016-10-27T15:24:17.638+03:00</td>\n",
       "      <td>christs burial place exposed for st time in ce...</td>\n",
       "      <td>NaN</td>\n",
       "      <td>english</td>\n",
       "      <td>wnd.com</td>\n",
       "      <td>http://www.wnd.com/files/2016/10/Salah_Khalaf.jpg</td>\n",
       "      <td>bias</td>\n",
       "      <td>Real</td>\n",
       "      <td>russia unveils satan missile</td>\n",
       "      <td>NaN</td>\n",
       "      <td>1.0</td>\n",
       "    </tr>\n",
       "    <tr>\n",
       "      <th>2090</th>\n",
       "      <td>-NO AUTHOR-</td>\n",
       "      <td>2016-10-27T15:36:09.934+03:00</td>\n",
       "      <td>prof canoes reek of genocide white privilege</td>\n",
       "      <td>NaN</td>\n",
       "      <td>english</td>\n",
       "      <td>wnd.com</td>\n",
       "      <td>http://www.wnd.com/files/2016/10/satan2_missil...</td>\n",
       "      <td>bias</td>\n",
       "      <td>Real</td>\n",
       "      <td>check hillarythemed haunted house</td>\n",
       "      <td>NaN</td>\n",
       "      <td>1.0</td>\n",
       "    </tr>\n",
       "    <tr>\n",
       "      <th>2091</th>\n",
       "      <td>-NO AUTHOR-</td>\n",
       "      <td>2016-10-27T15:36:10.573+03:00</td>\n",
       "      <td>teens walk free after gangrape conviction</td>\n",
       "      <td>NaN</td>\n",
       "      <td>english</td>\n",
       "      <td>wnd.com</td>\n",
       "      <td>http://www.wnd.com/files/2016/10/hillary_haunt...</td>\n",
       "      <td>bias</td>\n",
       "      <td>Real</td>\n",
       "      <td>good samaritan wearing indian headdress disarm...</td>\n",
       "      <td>NaN</td>\n",
       "      <td>1.0</td>\n",
       "    </tr>\n",
       "    <tr>\n",
       "      <th>2092</th>\n",
       "      <td>-NO AUTHOR-</td>\n",
       "      <td>2016-10-27T15:36:10.671+03:00</td>\n",
       "      <td>school named for munichmassacre mastermind</td>\n",
       "      <td>NaN</td>\n",
       "      <td>english</td>\n",
       "      <td>wnd.com</td>\n",
       "      <td>http://www.wnd.com/files/2016/10/rambo_richard...</td>\n",
       "      <td>bias</td>\n",
       "      <td>Real</td>\n",
       "      <td>skype sex scam fortune built shame</td>\n",
       "      <td>NaN</td>\n",
       "      <td>1.0</td>\n",
       "    </tr>\n",
       "    <tr>\n",
       "      <th>2093</th>\n",
       "      <td>-NO AUTHOR-</td>\n",
       "      <td>2016-10-27T13:30:00.000+03:00</td>\n",
       "      <td>russia unveils satan  missile</td>\n",
       "      <td>NaN</td>\n",
       "      <td>english</td>\n",
       "      <td>wnd.com</td>\n",
       "      <td>http://www.wnd.com/files/2016/10/skype_sex_sca...</td>\n",
       "      <td>bs</td>\n",
       "      <td>Fake</td>\n",
       "      <td>cannabis aficionados develop thca crystalline ...</td>\n",
       "      <td>NaN</td>\n",
       "      <td>1.0</td>\n",
       "    </tr>\n",
       "    <tr>\n",
       "      <th>2094</th>\n",
       "      <td>-NO AUTHOR-</td>\n",
       "      <td>2016-10-27T15:58:41.935+03:00</td>\n",
       "      <td>check out hillarythemed haunted house</td>\n",
       "      <td>NaN</td>\n",
       "      <td>english</td>\n",
       "      <td>wnd.com</td>\n",
       "      <td>http://worldtruth.tv/wp-content/uploads/2016/1...</td>\n",
       "      <td>bs</td>\n",
       "      <td>Fake</td>\n",
       "      <td>title</td>\n",
       "      <td>NaN</td>\n",
       "      <td>0.0</td>\n",
       "    </tr>\n",
       "    <tr>\n",
       "      <th>2095</th>\n",
       "      <td>Eddy Lavine</td>\n",
       "      <td>2016-10-28T01:02:00.000+03:00</td>\n",
       "      <td>cannabis aficionados develop thca crystalline ...</td>\n",
       "      <td>NaN</td>\n",
       "      <td>NaN</td>\n",
       "      <td>NaN</td>\n",
       "      <td>NaN</td>\n",
       "      <td>NaN</td>\n",
       "      <td>NaN</td>\n",
       "      <td>NaN</td>\n",
       "      <td>NaN</td>\n",
       "      <td>NaN</td>\n",
       "    </tr>\n",
       "  </tbody>\n",
       "</table>\n",
       "</div>"
      ],
      "text/plain": [
       "           author                      published  \\\n",
       "2081  -NO AUTHOR-  2016-10-27T06:30:35.864+03:00   \n",
       "2082  -NO AUTHOR-  2016-10-27T06:32:38.028+03:00   \n",
       "2083  -NO AUTHOR-  2016-10-27T07:20:12.250+03:00   \n",
       "2084  -NO AUTHOR-  2016-10-27T07:20:12.436+03:00   \n",
       "2085  -NO AUTHOR-  2016-10-27T08:14:27.425+03:00   \n",
       "2086  -NO AUTHOR-  2016-10-27T08:20:38.377+03:00   \n",
       "2087  -NO AUTHOR-  2016-10-27T15:10:52.832+03:00   \n",
       "2088  -NO AUTHOR-  2016-10-27T15:24:15.986+03:00   \n",
       "2089  -NO AUTHOR-  2016-10-27T15:24:17.638+03:00   \n",
       "2090  -NO AUTHOR-  2016-10-27T15:36:09.934+03:00   \n",
       "2091  -NO AUTHOR-  2016-10-27T15:36:10.573+03:00   \n",
       "2092  -NO AUTHOR-  2016-10-27T15:36:10.671+03:00   \n",
       "2093  -NO AUTHOR-  2016-10-27T13:30:00.000+03:00   \n",
       "2094  -NO AUTHOR-  2016-10-27T15:58:41.935+03:00   \n",
       "2095  Eddy Lavine  2016-10-28T01:02:00.000+03:00   \n",
       "\n",
       "                                                  title text language  \\\n",
       "2081         dems sue gop over trumps rigged complaints  NaN  english   \n",
       "2082          yearold hebrew mention of jerusalem found  NaN  english   \n",
       "2083       boycott targets trump family on retail front  NaN  english   \n",
       "2084     obamacare tax penalty ill take it millions say  NaN  english   \n",
       "2085         dems sue gop over trumps rigged complaints  NaN  english   \n",
       "2086   hillary emails whitelisted for obamas blackberry  NaN  english   \n",
       "2087      support for assaultweapon ban hits record low  NaN  english   \n",
       "2088     pope god promised the land to people of israel  NaN  english   \n",
       "2089  christs burial place exposed for st time in ce...  NaN  english   \n",
       "2090       prof canoes reek of genocide white privilege  NaN  english   \n",
       "2091          teens walk free after gangrape conviction  NaN  english   \n",
       "2092         school named for munichmassacre mastermind  NaN  english   \n",
       "2093                      russia unveils satan  missile  NaN  english   \n",
       "2094              check out hillarythemed haunted house  NaN  english   \n",
       "2095  cannabis aficionados develop thca crystalline ...  NaN      NaN   \n",
       "\n",
       "     site_url                                       main_img_url  type label  \\\n",
       "2081  wnd.com  http://mobile.wnd.com/files/2016/10/tax_paymen...  bias  Real   \n",
       "2082  wnd.com  http://mobile.wnd.com/files/2016/07/trump_make...  bias  Real   \n",
       "2083  wnd.com  http://www.wnd.com/files/2016/10/obama_blackbe...  bias  Real   \n",
       "2084  wnd.com  http://www.wnd.com/files/2016/10/assault_weapo...  bias  Real   \n",
       "2085  wnd.com  http://www.wnd.com/files/2016/10/pope_francis_...  bias  Real   \n",
       "2086  wnd.com  http://www.wnd.com/files/2016/10/jpg_holy_sepu...  bias  Real   \n",
       "2087  wnd.com         http://www.wnd.com/files/2016/10/canoe.jpg  bias  Real   \n",
       "2088  wnd.com  http://www.wnd.com/files/2016/10/trial_teens_g...  bias  Real   \n",
       "2089  wnd.com  http://www.wnd.com/files/2016/10/Salah_Khalaf.jpg  bias  Real   \n",
       "2090  wnd.com  http://www.wnd.com/files/2016/10/satan2_missil...  bias  Real   \n",
       "2091  wnd.com  http://www.wnd.com/files/2016/10/hillary_haunt...  bias  Real   \n",
       "2092  wnd.com  http://www.wnd.com/files/2016/10/rambo_richard...  bias  Real   \n",
       "2093  wnd.com  http://www.wnd.com/files/2016/10/skype_sex_sca...    bs  Fake   \n",
       "2094  wnd.com  http://worldtruth.tv/wp-content/uploads/2016/1...    bs  Fake   \n",
       "2095      NaN                                                NaN   NaN   NaN   \n",
       "\n",
       "                                title_without_stopwords  \\\n",
       "2081              dems sue gop trumps rigged complaints   \n",
       "2082       hillary emails whitelisted obamas blackberry   \n",
       "2083          support assaultweapon ban hits record low   \n",
       "2084               pope god promised land people israel   \n",
       "2085     christs burial place exposed st time centuries   \n",
       "2086          prof canoes reek genocide white privilege   \n",
       "2087                teens walk free gangrape conviction   \n",
       "2088             school named munichmassacre mastermind   \n",
       "2089                       russia unveils satan missile   \n",
       "2090                  check hillarythemed haunted house   \n",
       "2091  good samaritan wearing indian headdress disarm...   \n",
       "2092                 skype sex scam fortune built shame   \n",
       "2093  cannabis aficionados develop thca crystalline ...   \n",
       "2094                                              title   \n",
       "2095                                                NaN   \n",
       "\n",
       "     text_without_stopwords  hasImage  \n",
       "2081                    NaN       1.0  \n",
       "2082                    NaN       1.0  \n",
       "2083                    NaN       1.0  \n",
       "2084                    NaN       1.0  \n",
       "2085                    NaN       1.0  \n",
       "2086                    NaN       1.0  \n",
       "2087                    NaN       1.0  \n",
       "2088                    NaN       1.0  \n",
       "2089                    NaN       1.0  \n",
       "2090                    NaN       1.0  \n",
       "2091                    NaN       1.0  \n",
       "2092                    NaN       1.0  \n",
       "2093                    NaN       1.0  \n",
       "2094                    NaN       0.0  \n",
       "2095                    NaN       NaN  "
      ]
     },
     "execution_count": 3,
     "metadata": {},
     "output_type": "execute_result"
    }
   ],
   "source": [
    "df.tail(15)"
   ]
  },
  {
   "cell_type": "code",
   "execution_count": 4,
   "metadata": {
    "execution": {
     "iopub.execute_input": "2021-12-07T17:40:06.977826Z",
     "iopub.status.busy": "2021-12-07T17:40:06.977204Z",
     "iopub.status.idle": "2021-12-07T17:40:07.000130Z",
     "shell.execute_reply": "2021-12-07T17:40:06.999578Z",
     "shell.execute_reply.started": "2021-12-07T17:37:56.620432Z"
    },
    "papermill": {
     "duration": 0.075039,
     "end_time": "2021-12-07T17:40:07.000282",
     "exception": false,
     "start_time": "2021-12-07T17:40:06.925243",
     "status": "completed"
    },
    "tags": []
   },
   "outputs": [
    {
     "data": {
      "text/html": [
       "<div>\n",
       "<style scoped>\n",
       "    .dataframe tbody tr th:only-of-type {\n",
       "        vertical-align: middle;\n",
       "    }\n",
       "\n",
       "    .dataframe tbody tr th {\n",
       "        vertical-align: top;\n",
       "    }\n",
       "\n",
       "    .dataframe thead th {\n",
       "        text-align: right;\n",
       "    }\n",
       "</style>\n",
       "<table border=\"1\" class=\"dataframe\">\n",
       "  <thead>\n",
       "    <tr style=\"text-align: right;\">\n",
       "      <th></th>\n",
       "      <th>hasImage</th>\n",
       "    </tr>\n",
       "  </thead>\n",
       "  <tbody>\n",
       "    <tr>\n",
       "      <th>count</th>\n",
       "      <td>2095.000000</td>\n",
       "    </tr>\n",
       "    <tr>\n",
       "      <th>mean</th>\n",
       "      <td>0.777088</td>\n",
       "    </tr>\n",
       "    <tr>\n",
       "      <th>std</th>\n",
       "      <td>0.416299</td>\n",
       "    </tr>\n",
       "    <tr>\n",
       "      <th>min</th>\n",
       "      <td>0.000000</td>\n",
       "    </tr>\n",
       "    <tr>\n",
       "      <th>25%</th>\n",
       "      <td>1.000000</td>\n",
       "    </tr>\n",
       "    <tr>\n",
       "      <th>50%</th>\n",
       "      <td>1.000000</td>\n",
       "    </tr>\n",
       "    <tr>\n",
       "      <th>75%</th>\n",
       "      <td>1.000000</td>\n",
       "    </tr>\n",
       "    <tr>\n",
       "      <th>max</th>\n",
       "      <td>1.000000</td>\n",
       "    </tr>\n",
       "  </tbody>\n",
       "</table>\n",
       "</div>"
      ],
      "text/plain": [
       "          hasImage\n",
       "count  2095.000000\n",
       "mean      0.777088\n",
       "std       0.416299\n",
       "min       0.000000\n",
       "25%       1.000000\n",
       "50%       1.000000\n",
       "75%       1.000000\n",
       "max       1.000000"
      ]
     },
     "execution_count": 4,
     "metadata": {},
     "output_type": "execute_result"
    }
   ],
   "source": [
    "df.describe()"
   ]
  },
  {
   "cell_type": "code",
   "execution_count": 5,
   "metadata": {
    "execution": {
     "iopub.execute_input": "2021-12-07T17:40:07.115085Z",
     "iopub.status.busy": "2021-12-07T17:40:07.114398Z",
     "iopub.status.idle": "2021-12-07T17:40:07.122418Z",
     "shell.execute_reply": "2021-12-07T17:40:07.121685Z",
     "shell.execute_reply.started": "2021-12-07T17:37:56.642960Z"
    },
    "papermill": {
     "duration": 0.07107,
     "end_time": "2021-12-07T17:40:07.122613",
     "exception": false,
     "start_time": "2021-12-07T17:40:07.051543",
     "status": "completed"
    },
    "scrolled": true,
    "tags": []
   },
   "outputs": [
    {
     "name": "stdout",
     "output_type": "stream",
     "text": [
      "<class 'pandas.core.frame.DataFrame'>\n",
      "RangeIndex: 2096 entries, 0 to 2095\n",
      "Data columns (total 12 columns):\n",
      " #   Column                   Non-Null Count  Dtype  \n",
      "---  ------                   --------------  -----  \n",
      " 0   author                   2096 non-null   object \n",
      " 1   published                2096 non-null   object \n",
      " 2   title                    2096 non-null   object \n",
      " 3   text                     2050 non-null   object \n",
      " 4   language                 2095 non-null   object \n",
      " 5   site_url                 2095 non-null   object \n",
      " 6   main_img_url             2095 non-null   object \n",
      " 7   type                     2095 non-null   object \n",
      " 8   label                    2095 non-null   object \n",
      " 9   title_without_stopwords  2094 non-null   object \n",
      " 10  text_without_stopwords   2046 non-null   object \n",
      " 11  hasImage                 2095 non-null   float64\n",
      "dtypes: float64(1), object(11)\n",
      "memory usage: 196.6+ KB\n"
     ]
    }
   ],
   "source": [
    "df.info()"
   ]
  },
  {
   "cell_type": "code",
   "execution_count": 6,
   "metadata": {
    "execution": {
     "iopub.execute_input": "2021-12-07T17:40:07.230470Z",
     "iopub.status.busy": "2021-12-07T17:40:07.229807Z",
     "iopub.status.idle": "2021-12-07T17:40:07.233328Z",
     "shell.execute_reply": "2021-12-07T17:40:07.232834Z",
     "shell.execute_reply.started": "2021-12-07T17:37:56.661316Z"
    },
    "papermill": {
     "duration": 0.059195,
     "end_time": "2021-12-07T17:40:07.233474",
     "exception": false,
     "start_time": "2021-12-07T17:40:07.174279",
     "status": "completed"
    },
    "tags": []
   },
   "outputs": [
    {
     "data": {
      "text/plain": [
       "(2096, 12)"
      ]
     },
     "execution_count": 6,
     "metadata": {},
     "output_type": "execute_result"
    }
   ],
   "source": [
    "df.shape"
   ]
  },
  {
   "cell_type": "code",
   "execution_count": 7,
   "metadata": {
    "execution": {
     "iopub.execute_input": "2021-12-07T17:40:07.441039Z",
     "iopub.status.busy": "2021-12-07T17:40:07.440286Z",
     "iopub.status.idle": "2021-12-07T17:40:07.452044Z",
     "shell.execute_reply": "2021-12-07T17:40:07.451312Z",
     "shell.execute_reply.started": "2021-12-07T17:37:56.673052Z"
    },
    "papermill": {
     "duration": 0.065283,
     "end_time": "2021-12-07T17:40:07.452187",
     "exception": false,
     "start_time": "2021-12-07T17:40:07.386904",
     "status": "completed"
    },
    "tags": []
   },
   "outputs": [
    {
     "data": {
      "text/plain": [
       "author                      0\n",
       "published                   0\n",
       "title                       0\n",
       "text                       46\n",
       "language                    1\n",
       "site_url                    1\n",
       "main_img_url                1\n",
       "type                        1\n",
       "label                       1\n",
       "title_without_stopwords     2\n",
       "text_without_stopwords     50\n",
       "hasImage                    1\n",
       "dtype: int64"
      ]
     },
     "execution_count": 7,
     "metadata": {},
     "output_type": "execute_result"
    }
   ],
   "source": [
    "df.isnull().sum()"
   ]
  },
  {
   "cell_type": "code",
   "execution_count": 8,
   "metadata": {
    "execution": {
     "iopub.execute_input": "2021-12-07T17:40:07.564803Z",
     "iopub.status.busy": "2021-12-07T17:40:07.564098Z",
     "iopub.status.idle": "2021-12-07T17:40:07.569854Z",
     "shell.execute_reply": "2021-12-07T17:40:07.570343Z",
     "shell.execute_reply.started": "2021-12-07T17:37:56.689227Z"
    },
    "papermill": {
     "duration": 0.066217,
     "end_time": "2021-12-07T17:40:07.570530",
     "exception": false,
     "start_time": "2021-12-07T17:40:07.504313",
     "status": "completed"
    },
    "tags": []
   },
   "outputs": [],
   "source": [
    "df.dropna(inplace=True)"
   ]
  },
  {
   "cell_type": "code",
   "execution_count": 9,
   "metadata": {
    "execution": {
     "iopub.execute_input": "2021-12-07T17:40:07.676914Z",
     "iopub.status.busy": "2021-12-07T17:40:07.676214Z",
     "iopub.status.idle": "2021-12-07T17:40:07.687472Z",
     "shell.execute_reply": "2021-12-07T17:40:07.686943Z",
     "shell.execute_reply.started": "2021-12-07T17:37:56.700449Z"
    },
    "papermill": {
     "duration": 0.065605,
     "end_time": "2021-12-07T17:40:07.687620",
     "exception": false,
     "start_time": "2021-12-07T17:40:07.622015",
     "status": "completed"
    },
    "tags": []
   },
   "outputs": [],
   "source": [
    "timesplit = df['published'].str.split('T', 1, expand=True)\n",
    "df['Time']=timesplit[1]\n",
    "df['Date']=timesplit[0]"
   ]
  },
  {
   "cell_type": "code",
   "execution_count": 10,
   "metadata": {
    "execution": {
     "iopub.execute_input": "2021-12-07T17:40:07.803422Z",
     "iopub.status.busy": "2021-12-07T17:40:07.802779Z",
     "iopub.status.idle": "2021-12-07T17:40:07.806892Z",
     "shell.execute_reply": "2021-12-07T17:40:07.807372Z",
     "shell.execute_reply.started": "2021-12-07T17:37:56.712822Z"
    },
    "papermill": {
     "duration": 0.067411,
     "end_time": "2021-12-07T17:40:07.807537",
     "exception": false,
     "start_time": "2021-12-07T17:40:07.740126",
     "status": "completed"
    },
    "tags": []
   },
   "outputs": [],
   "source": [
    "datesplit = df['Date'].str.split('-',n=-1, expand=True)\n",
    "df['Year']=datesplit[0]\n",
    "df['Month']=datesplit[1]\n",
    "df['Day']=datesplit[2]"
   ]
  },
  {
   "cell_type": "code",
   "execution_count": 11,
   "metadata": {
    "execution": {
     "iopub.execute_input": "2021-12-07T17:40:07.915782Z",
     "iopub.status.busy": "2021-12-07T17:40:07.915103Z",
     "iopub.status.idle": "2021-12-07T17:40:07.924865Z",
     "shell.execute_reply": "2021-12-07T17:40:07.925385Z",
     "shell.execute_reply.started": "2021-12-07T17:37:56.729446Z"
    },
    "papermill": {
     "duration": 0.066419,
     "end_time": "2021-12-07T17:40:07.925556",
     "exception": false,
     "start_time": "2021-12-07T17:40:07.859137",
     "status": "completed"
    },
    "tags": []
   },
   "outputs": [],
   "source": [
    "df.loc[df.Month == 'content/uploads/2014/04/jucundus']\n",
    "df.drop(848, inplace=True)\n",
    "df.loc[df.Month == 'content/uploads/2015/07/Earth']\n",
    "df.drop(1838, inplace=True)"
   ]
  },
  {
   "cell_type": "code",
   "execution_count": 12,
   "metadata": {
    "execution": {
     "iopub.execute_input": "2021-12-07T17:40:08.031510Z",
     "iopub.status.busy": "2021-12-07T17:40:08.030897Z",
     "iopub.status.idle": "2021-12-07T17:40:08.039140Z",
     "shell.execute_reply": "2021-12-07T17:40:08.039626Z",
     "shell.execute_reply.started": "2021-12-07T17:37:56.741610Z"
    },
    "papermill": {
     "duration": 0.062958,
     "end_time": "2021-12-07T17:40:08.039827",
     "exception": false,
     "start_time": "2021-12-07T17:40:07.976869",
     "status": "completed"
    },
    "tags": []
   },
   "outputs": [],
   "source": [
    "df = df.astype({\"Month\": float, \"Day\":float})"
   ]
  },
  {
   "cell_type": "code",
   "execution_count": 13,
   "metadata": {
    "execution": {
     "iopub.execute_input": "2021-12-07T17:40:08.146056Z",
     "iopub.status.busy": "2021-12-07T17:40:08.145359Z",
     "iopub.status.idle": "2021-12-07T17:40:08.164829Z",
     "shell.execute_reply": "2021-12-07T17:40:08.165312Z",
     "shell.execute_reply.started": "2021-12-07T17:37:56.753964Z"
    },
    "papermill": {
     "duration": 0.073762,
     "end_time": "2021-12-07T17:40:08.165477",
     "exception": false,
     "start_time": "2021-12-07T17:40:08.091715",
     "status": "completed"
    },
    "tags": []
   },
   "outputs": [
    {
     "data": {
      "text/html": [
       "<div>\n",
       "<style scoped>\n",
       "    .dataframe tbody tr th:only-of-type {\n",
       "        vertical-align: middle;\n",
       "    }\n",
       "\n",
       "    .dataframe tbody tr th {\n",
       "        vertical-align: top;\n",
       "    }\n",
       "\n",
       "    .dataframe thead th {\n",
       "        text-align: right;\n",
       "    }\n",
       "</style>\n",
       "<table border=\"1\" class=\"dataframe\">\n",
       "  <thead>\n",
       "    <tr style=\"text-align: right;\">\n",
       "      <th></th>\n",
       "      <th>author</th>\n",
       "      <th>published</th>\n",
       "      <th>title</th>\n",
       "      <th>text</th>\n",
       "      <th>language</th>\n",
       "      <th>site_url</th>\n",
       "      <th>main_img_url</th>\n",
       "      <th>type</th>\n",
       "      <th>label</th>\n",
       "      <th>title_without_stopwords</th>\n",
       "      <th>text_without_stopwords</th>\n",
       "      <th>hasImage</th>\n",
       "      <th>Time</th>\n",
       "      <th>Date</th>\n",
       "      <th>Year</th>\n",
       "      <th>Month</th>\n",
       "      <th>Day</th>\n",
       "    </tr>\n",
       "  </thead>\n",
       "  <tbody>\n",
       "    <tr>\n",
       "      <th>2041</th>\n",
       "      <td>Matt Barber</td>\n",
       "      <td>2016-10-27T03:04:50.327+03:00</td>\n",
       "      <td>why never trumpers must reconsider</td>\n",
       "      <td>prof canoes reek of genocide white privilege c...</td>\n",
       "      <td>english</td>\n",
       "      <td>wnd.com</td>\n",
       "      <td>No Image URL</td>\n",
       "      <td>bias</td>\n",
       "      <td>Real</td>\n",
       "      <td>trump vs clinton risk vs disaster</td>\n",
       "      <td>check hillarythemed haunted house anticlinton ...</td>\n",
       "      <td>0.0</td>\n",
       "      <td>03:04:50.327+03:00</td>\n",
       "      <td>2016-10-27</td>\n",
       "      <td>2016</td>\n",
       "      <td>10.0</td>\n",
       "      <td>27.0</td>\n",
       "    </tr>\n",
       "    <tr>\n",
       "      <th>2042</th>\n",
       "      <td>Jane Chastain</td>\n",
       "      <td>2016-10-27T03:04:50.704+03:00</td>\n",
       "      <td>election crossroads socialism or capitalism</td>\n",
       "      <td>teens walk free after gangrape conviction judg...</td>\n",
       "      <td>english</td>\n",
       "      <td>wnd.com</td>\n",
       "      <td>No Image URL</td>\n",
       "      <td>bias</td>\n",
       "      <td>Real</td>\n",
       "      <td>gingrich slutshames megyn kelly</td>\n",
       "      <td>good samaritan wearing indian headdress disarm...</td>\n",
       "      <td>1.0</td>\n",
       "      <td>03:04:50.704+03:00</td>\n",
       "      <td>2016-10-27</td>\n",
       "      <td>2016</td>\n",
       "      <td>10.0</td>\n",
       "      <td>27.0</td>\n",
       "    </tr>\n",
       "    <tr>\n",
       "      <th>2043</th>\n",
       "      <td>Michael Brown</td>\n",
       "      <td>2016-10-27T03:04:54.788+03:00</td>\n",
       "      <td>reasons ill vote for trump</td>\n",
       "      <td>school named for munichmassacre mastermind ter...</td>\n",
       "      <td>english</td>\n",
       "      <td>wnd.com</td>\n",
       "      <td>http://mobile.wnd.com/files/2011/12/leftfield3...</td>\n",
       "      <td>bias</td>\n",
       "      <td>Real</td>\n",
       "      <td>youtube bans clintons black son</td>\n",
       "      <td>skype sex scam fortune built shame moroccan bo...</td>\n",
       "      <td>1.0</td>\n",
       "      <td>03:04:54.788+03:00</td>\n",
       "      <td>2016-10-27</td>\n",
       "      <td>2016</td>\n",
       "      <td>10.0</td>\n",
       "      <td>27.0</td>\n",
       "    </tr>\n",
       "    <tr>\n",
       "      <th>2044</th>\n",
       "      <td>Ann Coulter</td>\n",
       "      <td>2016-10-27T03:05:01.989+03:00</td>\n",
       "      <td>our new country women and minorities hit hardest</td>\n",
       "      <td>wars and rumors of wars russia unveils satan  ...</td>\n",
       "      <td>english</td>\n",
       "      <td>wnd.com</td>\n",
       "      <td>http://www.wnd.com/files/2016/10/danney-willll...</td>\n",
       "      <td>bias</td>\n",
       "      <td>Real</td>\n",
       "      <td>wikileaks bombshells hillary need know</td>\n",
       "      <td>posted eddie skyhigh potency may scare away cr...</td>\n",
       "      <td>1.0</td>\n",
       "      <td>03:05:01.989+03:00</td>\n",
       "      <td>2016-10-27</td>\n",
       "      <td>2016</td>\n",
       "      <td>10.0</td>\n",
       "      <td>27.0</td>\n",
       "    </tr>\n",
       "    <tr>\n",
       "      <th>2045</th>\n",
       "      <td>Larry Elder</td>\n",
       "      <td>2016-10-27T03:05:05.815+03:00</td>\n",
       "      <td>trump vs clinton a risk vs a disaster</td>\n",
       "      <td>check out hillarythemed haunted house anticlin...</td>\n",
       "      <td>english</td>\n",
       "      <td>wnd.com</td>\n",
       "      <td>http://www.wnd.com/files/2015/10/Hillary-Clint...</td>\n",
       "      <td>bias</td>\n",
       "      <td>Real</td>\n",
       "      <td>fascinated sex</td>\n",
       "      <td>billion even known keeping supposedly deleted ...</td>\n",
       "      <td>0.0</td>\n",
       "      <td>03:05:05.815+03:00</td>\n",
       "      <td>2016-10-27</td>\n",
       "      <td>2016</td>\n",
       "      <td>10.0</td>\n",
       "      <td>27.0</td>\n",
       "    </tr>\n",
       "  </tbody>\n",
       "</table>\n",
       "</div>"
      ],
      "text/plain": [
       "             author                      published  \\\n",
       "2041    Matt Barber  2016-10-27T03:04:50.327+03:00   \n",
       "2042  Jane Chastain  2016-10-27T03:04:50.704+03:00   \n",
       "2043  Michael Brown  2016-10-27T03:04:54.788+03:00   \n",
       "2044    Ann Coulter  2016-10-27T03:05:01.989+03:00   \n",
       "2045    Larry Elder  2016-10-27T03:05:05.815+03:00   \n",
       "\n",
       "                                                 title  \\\n",
       "2041                why never trumpers must reconsider   \n",
       "2042       election crossroads socialism or capitalism   \n",
       "2043                        reasons ill vote for trump   \n",
       "2044  our new country women and minorities hit hardest   \n",
       "2045             trump vs clinton a risk vs a disaster   \n",
       "\n",
       "                                                   text language site_url  \\\n",
       "2041  prof canoes reek of genocide white privilege c...  english  wnd.com   \n",
       "2042  teens walk free after gangrape conviction judg...  english  wnd.com   \n",
       "2043  school named for munichmassacre mastermind ter...  english  wnd.com   \n",
       "2044  wars and rumors of wars russia unveils satan  ...  english  wnd.com   \n",
       "2045  check out hillarythemed haunted house anticlin...  english  wnd.com   \n",
       "\n",
       "                                           main_img_url  type label  \\\n",
       "2041                                       No Image URL  bias  Real   \n",
       "2042                                       No Image URL  bias  Real   \n",
       "2043  http://mobile.wnd.com/files/2011/12/leftfield3...  bias  Real   \n",
       "2044  http://www.wnd.com/files/2016/10/danney-willll...  bias  Real   \n",
       "2045  http://www.wnd.com/files/2015/10/Hillary-Clint...  bias  Real   \n",
       "\n",
       "                     title_without_stopwords  \\\n",
       "2041       trump vs clinton risk vs disaster   \n",
       "2042         gingrich slutshames megyn kelly   \n",
       "2043         youtube bans clintons black son   \n",
       "2044  wikileaks bombshells hillary need know   \n",
       "2045                          fascinated sex   \n",
       "\n",
       "                                 text_without_stopwords  hasImage  \\\n",
       "2041  check hillarythemed haunted house anticlinton ...       0.0   \n",
       "2042  good samaritan wearing indian headdress disarm...       1.0   \n",
       "2043  skype sex scam fortune built shame moroccan bo...       1.0   \n",
       "2044  posted eddie skyhigh potency may scare away cr...       1.0   \n",
       "2045  billion even known keeping supposedly deleted ...       0.0   \n",
       "\n",
       "                    Time        Date  Year  Month   Day  \n",
       "2041  03:04:50.327+03:00  2016-10-27  2016   10.0  27.0  \n",
       "2042  03:04:50.704+03:00  2016-10-27  2016   10.0  27.0  \n",
       "2043  03:04:54.788+03:00  2016-10-27  2016   10.0  27.0  \n",
       "2044  03:05:01.989+03:00  2016-10-27  2016   10.0  27.0  \n",
       "2045  03:05:05.815+03:00  2016-10-27  2016   10.0  27.0  "
      ]
     },
     "execution_count": 13,
     "metadata": {},
     "output_type": "execute_result"
    }
   ],
   "source": [
    "df.tail(5)"
   ]
  },
  {
   "cell_type": "code",
   "execution_count": 14,
   "metadata": {
    "execution": {
     "iopub.execute_input": "2021-12-07T17:40:08.272464Z",
     "iopub.status.busy": "2021-12-07T17:40:08.271875Z",
     "iopub.status.idle": "2021-12-07T17:40:08.286804Z",
     "shell.execute_reply": "2021-12-07T17:40:08.287312Z",
     "shell.execute_reply.started": "2021-12-07T17:37:56.779401Z"
    },
    "papermill": {
     "duration": 0.070008,
     "end_time": "2021-12-07T17:40:08.287499",
     "exception": false,
     "start_time": "2021-12-07T17:40:08.217491",
     "status": "completed"
    },
    "scrolled": true,
    "tags": []
   },
   "outputs": [],
   "source": [
    "dum_type=pd.get_dummies(df.label,drop_first=True,prefix=\"\")\n",
    "df=df.join(dum_type)\n",
    "df.drop('label', axis=1, inplace=True)\n",
    "df.rename(columns={'_Real':'Real'}, inplace=True)"
   ]
  },
  {
   "cell_type": "code",
   "execution_count": 15,
   "metadata": {
    "execution": {
     "iopub.execute_input": "2021-12-07T17:40:08.498059Z",
     "iopub.status.busy": "2021-12-07T17:40:08.497322Z",
     "iopub.status.idle": "2021-12-07T17:40:08.741480Z",
     "shell.execute_reply": "2021-12-07T17:40:08.740948Z",
     "shell.execute_reply.started": "2021-12-07T17:37:56.790437Z"
    },
    "papermill": {
     "duration": 0.298954,
     "end_time": "2021-12-07T17:40:08.741627",
     "exception": false,
     "start_time": "2021-12-07T17:40:08.442673",
     "status": "completed"
    },
    "scrolled": true,
    "tags": []
   },
   "outputs": [
    {
     "data": {
      "text/plain": [
       "Text(0.5, 1.0, 'Count of Real and Fake Data')"
      ]
     },
     "execution_count": 15,
     "metadata": {},
     "output_type": "execute_result"
    },
    {
     "data": {
      "image/png": "[encoded data removed]",
      "text/plain": [
       "<Figure size 432x288 with 1 Axes>"
      ]
     },
     "metadata": {},
     "output_type": "display_data"
    }
   ],
   "source": [
    "sb.set_theme(style=\"whitegrid\")\n",
    "ax = sb.countplot(x=\"Real\", data=df, palette='Set3')\n",
    "ax.set_title(\"Count of Real and Fake Data\")"
   ]
  },
  {
   "cell_type": "code",
   "execution_count": 16,
   "metadata": {
    "execution": {
     "iopub.execute_input": "2021-12-07T17:40:08.854971Z",
     "iopub.status.busy": "2021-12-07T17:40:08.854171Z",
     "iopub.status.idle": "2021-12-07T17:40:09.099376Z",
     "shell.execute_reply": "2021-12-07T17:40:09.098863Z",
     "shell.execute_reply.started": "2021-12-07T17:37:57.001313Z"
    },
    "papermill": {
     "duration": 0.304216,
     "end_time": "2021-12-07T17:40:09.099517",
     "exception": false,
     "start_time": "2021-12-07T17:40:08.795301",
     "status": "completed"
    },
    "tags": []
   },
   "outputs": [
    {
     "data": {
      "text/plain": [
       "Text(0.5, 1.0, 'Count of Languages of the news')"
      ]
     },
     "execution_count": 16,
     "metadata": {},
     "output_type": "execute_result"
    },
    {
     "data": {
      "image/png": "[encoded data removed]",
      "text/plain": [
       "<Figure size 432x288 with 1 Axes>"
      ]
     },
     "metadata": {},
     "output_type": "display_data"
    }
   ],
   "source": [
    "sb.set_theme(style=\"whitegrid\")\n",
    "ax = sb.countplot(x=\"language\", data=df, palette='Set3')\n",
    "ax.set_title(\"Count of Languages of the news\")"
   ]
  },
  {
   "cell_type": "code",
   "execution_count": 17,
   "metadata": {
    "execution": {
     "iopub.execute_input": "2021-12-07T17:40:09.220135Z",
     "iopub.status.busy": "2021-12-07T17:40:09.216763Z",
     "iopub.status.idle": "2021-12-07T17:40:09.482215Z",
     "shell.execute_reply": "2021-12-07T17:40:09.481625Z",
     "shell.execute_reply.started": "2021-12-07T17:37:57.251943Z"
    },
    "papermill": {
     "duration": 0.327739,
     "end_time": "2021-12-07T17:40:09.482352",
     "exception": false,
     "start_time": "2021-12-07T17:40:09.154613",
     "status": "completed"
    },
    "tags": []
   },
   "outputs": [
    {
     "data": {
      "text/plain": [
       "Text(0.5, 1.0, 'Count of Type of the news')"
      ]
     },
     "execution_count": 17,
     "metadata": {},
     "output_type": "execute_result"
    },
    {
     "data": {
      "image/png": "[encoded data removed]",
      "text/plain": [
       "<Figure size 432x288 with 1 Axes>"
      ]
     },
     "metadata": {},
     "output_type": "display_data"
    }
   ],
   "source": [
    "sb.set_theme(style=\"whitegrid\")\n",
    "ax = sb.countplot(x=\"type\", data=df, palette='Set3')\n",
    "ax.set_title(\"Count of Type of the news\")"
   ]
  },
  {
   "cell_type": "code",
   "execution_count": 18,
   "metadata": {
    "execution": {
     "iopub.execute_input": "2021-12-07T17:40:09.599299Z",
     "iopub.status.busy": "2021-12-07T17:40:09.598633Z",
     "iopub.status.idle": "2021-12-07T17:40:09.807966Z",
     "shell.execute_reply": "2021-12-07T17:40:09.807414Z",
     "shell.execute_reply.started": "2021-12-07T17:37:57.526474Z"
    },
    "papermill": {
     "duration": 0.268309,
     "end_time": "2021-12-07T17:40:09.808115",
     "exception": false,
     "start_time": "2021-12-07T17:40:09.539806",
     "status": "completed"
    },
    "tags": []
   },
   "outputs": [
    {
     "data": {
      "text/plain": [
       "Text(0.5, 1.0, 'Count of news with Images')"
      ]
     },
     "execution_count": 18,
     "metadata": {},
     "output_type": "execute_result"
    },
    {
     "data": {
      "image/png": "[encoded data removed]",
      "text/plain": [
       "<Figure size 432x288 with 1 Axes>"
      ]
     },
     "metadata": {},
     "output_type": "display_data"
    }
   ],
   "source": [
    "sb.set_theme(style=\"whitegrid\")\n",
    "ax = sb.countplot(x=\"hasImage\", data=df, palette='Set3')\n",
    "ax.set_title(\"Count of news with Images\")"
   ]
  },
  {
   "cell_type": "code",
   "execution_count": 19,
   "metadata": {
    "execution": {
     "iopub.execute_input": "2021-12-07T17:40:09.929517Z",
     "iopub.status.busy": "2021-12-07T17:40:09.928886Z",
     "iopub.status.idle": "2021-12-07T17:40:10.238895Z",
     "shell.execute_reply": "2021-12-07T17:40:10.238368Z",
     "shell.execute_reply.started": "2021-12-07T17:37:57.740247Z"
    },
    "papermill": {
     "duration": 0.373506,
     "end_time": "2021-12-07T17:40:10.239041",
     "exception": false,
     "start_time": "2021-12-07T17:40:09.865535",
     "status": "completed"
    },
    "tags": []
   },
   "outputs": [
    {
     "data": {
      "text/plain": [
       "Text(0.5, 1.0, 'Top 10 Authors with count of news')"
      ]
     },
     "execution_count": 19,
     "metadata": {},
     "output_type": "execute_result"
    },
    {
     "data": {
      "image/png": "[encoded data removed]",
      "text/plain": [
       "<Figure size 432x288 with 1 Axes>"
      ]
     },
     "metadata": {},
     "output_type": "display_data"
    }
   ],
   "source": [
    "sb.set_theme(style=\"whitegrid\")\n",
    "ax = sb.countplot(y=\"author\", data=df, palette='Set3', order =df.author.value_counts().iloc[:10].index)\n",
    "ax.set_title(\"Top 10 Authors with count of news\")"
   ]
  },
  {
   "cell_type": "code",
   "execution_count": 20,
   "metadata": {
    "execution": {
     "iopub.execute_input": "2021-12-07T17:40:10.357457Z",
     "iopub.status.busy": "2021-12-07T17:40:10.356806Z",
     "iopub.status.idle": "2021-12-07T17:40:10.672556Z",
     "shell.execute_reply": "2021-12-07T17:40:10.671851Z",
     "shell.execute_reply.started": "2021-12-07T17:37:58.068083Z"
    },
    "papermill": {
     "duration": 0.376205,
     "end_time": "2021-12-07T17:40:10.672700",
     "exception": false,
     "start_time": "2021-12-07T17:40:10.296495",
     "status": "completed"
    },
    "tags": []
   },
   "outputs": [
    {
     "data": {
      "text/plain": [
       "Text(0.5, 1.0, 'Top 10 Site URLS with count of news')"
      ]
     },
     "execution_count": 20,
     "metadata": {},
     "output_type": "execute_result"
    },
    {
     "data": {
      "image/png": "[encoded data removed]",
      "text/plain": [
       "<Figure size 432x288 with 1 Axes>"
      ]
     },
     "metadata": {},
     "output_type": "display_data"
    }
   ],
   "source": [
    "sb.set_theme(style=\"whitegrid\")\n",
    "ax = sb.countplot(y=\"site_url\", data=df, palette='Set3', order =df.site_url.value_counts().iloc[:10].index)\n",
    "ax.set_title(\"Top 10 Site URLS with count of news\")"
   ]
  },
  {
   "cell_type": "code",
   "execution_count": 21,
   "metadata": {
    "execution": {
     "iopub.execute_input": "2021-12-07T17:40:10.800005Z",
     "iopub.status.busy": "2021-12-07T17:40:10.799286Z",
     "iopub.status.idle": "2021-12-07T17:40:10.991183Z",
     "shell.execute_reply": "2021-12-07T17:40:10.990550Z",
     "shell.execute_reply.started": "2021-12-07T17:37:58.384597Z"
    },
    "papermill": {
     "duration": 0.25695,
     "end_time": "2021-12-07T17:40:10.991334",
     "exception": false,
     "start_time": "2021-12-07T17:40:10.734384",
     "status": "completed"
    },
    "tags": []
   },
   "outputs": [
    {
     "data": {
      "text/plain": [
       "Text(0.5, 1.0, 'Months of published news')"
      ]
     },
     "execution_count": 21,
     "metadata": {},
     "output_type": "execute_result"
    },
    {
     "data": {
      "image/png": "[encoded data removed]",
      "text/plain": [
       "<Figure size 432x288 with 1 Axes>"
      ]
     },
     "metadata": {},
     "output_type": "display_data"
    }
   ],
   "source": [
    "sb.set_theme(style=\"whitegrid\")\n",
    "ax = sb.countplot(x=\"Month\", data=df, palette='Set3')\n",
    "ax.set_title(\"Months of published news\")"
   ]
  },
  {
   "cell_type": "code",
   "execution_count": 22,
   "metadata": {
    "execution": {
     "iopub.execute_input": "2021-12-07T17:40:11.116303Z",
     "iopub.status.busy": "2021-12-07T17:40:11.115615Z",
     "iopub.status.idle": "2021-12-07T17:40:11.649433Z",
     "shell.execute_reply": "2021-12-07T17:40:11.650122Z",
     "shell.execute_reply.started": "2021-12-07T17:37:58.586917Z"
    },
    "papermill": {
     "duration": 0.598654,
     "end_time": "2021-12-07T17:40:11.650309",
     "exception": false,
     "start_time": "2021-12-07T17:40:11.051655",
     "status": "completed"
    },
    "tags": []
   },
   "outputs": [
    {
     "data": {
      "text/plain": [
       "Text(0.5, 1.0, 'Days of published news')"
      ]
     },
     "execution_count": 22,
     "metadata": {},
     "output_type": "execute_result"
    },
    {
     "data": {
      "image/png": "[encoded data removed]",
      "text/plain": [
       "<Figure size 432x288 with 1 Axes>"
      ]
     },
     "metadata": {},
     "output_type": "display_data"
    }
   ],
   "source": [
    "sb.set_theme(style=\"whitegrid\")\n",
    "ax = sb.countplot(x=\"Day\", data=df, palette='Set3')\n",
    "sb.set(rc = {'figure.figsize':(10,10)})\n",
    "ax.set_title(\"Days of published news\")"
   ]
  },
  {
   "cell_type": "code",
   "execution_count": 23,
   "metadata": {
    "execution": {
     "iopub.execute_input": "2021-12-07T17:40:12.030480Z",
     "iopub.status.busy": "2021-12-07T17:40:12.029827Z",
     "iopub.status.idle": "2021-12-07T17:40:12.038504Z",
     "shell.execute_reply": "2021-12-07T17:40:12.038978Z",
     "shell.execute_reply.started": "2021-12-07T17:37:59.071506Z"
    },
    "papermill": {
     "duration": 0.073738,
     "end_time": "2021-12-07T17:40:12.039152",
     "exception": false,
     "start_time": "2021-12-07T17:40:11.965414",
     "status": "completed"
    },
    "tags": []
   },
   "outputs": [
    {
     "data": {
      "text/plain": [
       "No Author                              329\n",
       "Activist Post                           82\n",
       "noreply@blogger.com (Der Postillon)     72\n",
       "Anonymous                               58\n",
       "admin                                   48\n",
       "Alex Ansary                             44\n",
       "Henry Wolff                             33\n",
       "Corbett                                 27\n",
       "tokyowashi (noreply@blogger.com)        20\n",
       "Steve Watson                            16\n",
       "Name: author, dtype: int64"
      ]
     },
     "execution_count": 23,
     "metadata": {},
     "output_type": "execute_result"
    }
   ],
   "source": [
    "df.loc[df.Real == 0].author.value_counts().head(10)"
   ]
  },
  {
   "cell_type": "code",
   "execution_count": 24,
   "metadata": {
    "execution": {
     "iopub.execute_input": "2021-12-07T17:40:12.173132Z",
     "iopub.status.busy": "2021-12-07T17:40:12.172207Z",
     "iopub.status.idle": "2021-12-07T17:40:12.176505Z",
     "shell.execute_reply": "2021-12-07T17:40:12.175973Z",
     "shell.execute_reply.started": "2021-12-07T17:37:59.084690Z"
    },
    "papermill": {
     "duration": 0.075397,
     "end_time": "2021-12-07T17:40:12.176658",
     "exception": false,
     "start_time": "2021-12-07T17:40:12.101261",
     "status": "completed"
    },
    "tags": []
   },
   "outputs": [
    {
     "data": {
      "text/plain": [
       "naturalnews.com       100\n",
       "awdnews.com           100\n",
       "infowars.com          100\n",
       "activistpost.com      100\n",
       "clickhole.com         100\n",
       "prisonplanet.com       99\n",
       "abeldanger.net         82\n",
       "der-postillon.com      72\n",
       "ahtribune.com          67\n",
       "abovetopsecret.com     53\n",
       "Name: site_url, dtype: int64"
      ]
     },
     "execution_count": 24,
     "metadata": {},
     "output_type": "execute_result"
    }
   ],
   "source": [
    "df.loc[df.Real == 0].site_url.value_counts().head(10)"
   ]
  },
  {
   "cell_type": "code",
   "execution_count": 25,
   "metadata": {
    "execution": {
     "iopub.execute_input": "2021-12-07T17:40:12.308072Z",
     "iopub.status.busy": "2021-12-07T17:40:12.306996Z",
     "iopub.status.idle": "2021-12-07T17:40:12.313887Z",
     "shell.execute_reply": "2021-12-07T17:40:12.314340Z",
     "shell.execute_reply.started": "2021-12-07T17:37:59.103034Z"
    },
    "papermill": {
     "duration": 0.075203,
     "end_time": "2021-12-07T17:40:12.314516",
     "exception": false,
     "start_time": "2021-12-07T17:40:12.239313",
     "status": "completed"
    },
    "tags": []
   },
   "outputs": [
    {
     "data": {
      "text/plain": [
       "No Author               176\n",
       "EdJenner                 73\n",
       "Daniel Greenfield        53\n",
       "Jason Easley             45\n",
       "Dr. Patrick Slattery     36\n",
       "-NO AUTHOR-              22\n",
       "Sarah Jones              16\n",
       "Hrafnkell Haraldsson     15\n",
       "Roosh Valizadeh          15\n",
       "Fed Up                   12\n",
       "Name: author, dtype: int64"
      ]
     },
     "execution_count": 25,
     "metadata": {},
     "output_type": "execute_result"
    }
   ],
   "source": [
    "df.loc[df.Real == 1].author.value_counts().head(10)"
   ]
  },
  {
   "cell_type": "code",
   "execution_count": 26,
   "metadata": {
    "execution": {
     "iopub.execute_input": "2021-12-07T17:40:12.445475Z",
     "iopub.status.busy": "2021-12-07T17:40:12.444444Z",
     "iopub.status.idle": "2021-12-07T17:40:12.451340Z",
     "shell.execute_reply": "2021-12-07T17:40:12.451896Z",
     "shell.execute_reply.started": "2021-12-07T17:37:59.118442Z"
    },
    "papermill": {
     "duration": 0.075033,
     "end_time": "2021-12-07T17:40:12.452069",
     "exception": false,
     "start_time": "2021-12-07T17:40:12.377036",
     "status": "completed"
    },
    "tags": []
   },
   "outputs": [
    {
     "data": {
      "text/plain": [
       "politicususa.com         100\n",
       "presstv.ir                99\n",
       "returnofkings.com         99\n",
       "frontpagemag.com          99\n",
       "westernjournalism.com     98\n",
       "dailywire.com             81\n",
       "wnd.com                   51\n",
       "davidduke.com             43\n",
       "100percentfedup.com       33\n",
       "presstv.com               21\n",
       "Name: site_url, dtype: int64"
      ]
     },
     "execution_count": 26,
     "metadata": {},
     "output_type": "execute_result"
    }
   ],
   "source": [
    "df.loc[df.Real == 1].site_url.value_counts().head(10)"
   ]
  },
  {
   "cell_type": "code",
   "execution_count": 27,
   "metadata": {
    "execution": {
     "iopub.execute_input": "2021-12-07T17:40:12.581465Z",
     "iopub.status.busy": "2021-12-07T17:40:12.580475Z",
     "iopub.status.idle": "2021-12-07T17:40:12.589404Z",
     "shell.execute_reply": "2021-12-07T17:40:12.590266Z",
     "shell.execute_reply.started": "2021-12-07T17:37:59.130278Z"
    },
    "papermill": {
     "duration": 0.07554,
     "end_time": "2021-12-07T17:40:12.590494",
     "exception": false,
     "start_time": "2021-12-07T17:40:12.514954",
     "status": "completed"
    },
    "tags": []
   },
   "outputs": [
    {
     "name": "stdout",
     "output_type": "stream",
     "text": [
      "{'washingtonsblog.com', 'prisonplanet.com', 'returnofkings.com', 'frontpagemag.com', 'presstv.ir', 'westernjournalism.com', 'davidduke.com', 'fromthetrenchesworldreport.com', 'newstarget.com'}\n"
     ]
    }
   ],
   "source": [
    "real = set(df[df['Real'] == 1]['site_url'].unique())\n",
    "fake = set(df[df['Real'] == 0]['site_url'].unique())\n",
    "print(f\"{real & fake}\")"
   ]
  },
  {
   "cell_type": "code",
   "execution_count": 28,
   "metadata": {
    "execution": {
     "iopub.execute_input": "2021-12-07T17:40:12.976142Z",
     "iopub.status.busy": "2021-12-07T17:40:12.975434Z",
     "iopub.status.idle": "2021-12-07T17:40:12.979828Z",
     "shell.execute_reply": "2021-12-07T17:40:12.980300Z",
     "shell.execute_reply.started": "2021-12-07T17:37:59.146680Z"
    },
    "papermill": {
     "duration": 0.071748,
     "end_time": "2021-12-07T17:40:12.980496",
     "exception": false,
     "start_time": "2021-12-07T17:40:12.908748",
     "status": "completed"
    },
    "tags": []
   },
   "outputs": [],
   "source": [
    "target = df.Real\n",
    "features = df[['author','site_url','text_without_stopwords']]"
   ]
  },
  {
   "cell_type": "code",
   "execution_count": 29,
   "metadata": {
    "execution": {
     "iopub.execute_input": "2021-12-07T17:40:13.121543Z",
     "iopub.status.busy": "2021-12-07T17:40:13.120754Z",
     "iopub.status.idle": "2021-12-07T17:40:13.124811Z",
     "shell.execute_reply": "2021-12-07T17:40:13.124174Z",
     "shell.execute_reply.started": "2021-12-07T17:37:59.156575Z"
    },
    "papermill": {
     "duration": 0.080755,
     "end_time": "2021-12-07T17:40:13.124957",
     "exception": false,
     "start_time": "2021-12-07T17:40:13.044202",
     "status": "completed"
    },
    "tags": []
   },
   "outputs": [
    {
     "data": {
      "text/html": [
       "<div>\n",
       "<style scoped>\n",
       "    .dataframe tbody tr th:only-of-type {\n",
       "        vertical-align: middle;\n",
       "    }\n",
       "\n",
       "    .dataframe tbody tr th {\n",
       "        vertical-align: top;\n",
       "    }\n",
       "\n",
       "    .dataframe thead th {\n",
       "        text-align: right;\n",
       "    }\n",
       "</style>\n",
       "<table border=\"1\" class=\"dataframe\">\n",
       "  <thead>\n",
       "    <tr style=\"text-align: right;\">\n",
       "      <th></th>\n",
       "      <th>author</th>\n",
       "      <th>site_url</th>\n",
       "      <th>text_without_stopwords</th>\n",
       "    </tr>\n",
       "  </thead>\n",
       "  <tbody>\n",
       "    <tr>\n",
       "      <th>0</th>\n",
       "      <td>Barracuda Brigade</td>\n",
       "      <td>100percentfedup.com</td>\n",
       "      <td>print pay back money plus interest entire fami...</td>\n",
       "    </tr>\n",
       "    <tr>\n",
       "      <th>1</th>\n",
       "      <td>reasoning with facts</td>\n",
       "      <td>100percentfedup.com</td>\n",
       "      <td>attorney general loretta lynch plead fifth bar...</td>\n",
       "    </tr>\n",
       "    <tr>\n",
       "      <th>2</th>\n",
       "      <td>Barracuda Brigade</td>\n",
       "      <td>100percentfedup.com</td>\n",
       "      <td>red state fox news sunday reported morning ant...</td>\n",
       "    </tr>\n",
       "    <tr>\n",
       "      <th>3</th>\n",
       "      <td>Fed Up</td>\n",
       "      <td>100percentfedup.com</td>\n",
       "      <td>email kayla mueller prisoner tortured isis cha...</td>\n",
       "    </tr>\n",
       "    <tr>\n",
       "      <th>4</th>\n",
       "      <td>Fed Up</td>\n",
       "      <td>100percentfedup.com</td>\n",
       "      <td>email healthcare reform make america great sin...</td>\n",
       "    </tr>\n",
       "    <tr>\n",
       "      <th>...</th>\n",
       "      <td>...</td>\n",
       "      <td>...</td>\n",
       "      <td>...</td>\n",
       "    </tr>\n",
       "    <tr>\n",
       "      <th>2041</th>\n",
       "      <td>Matt Barber</td>\n",
       "      <td>wnd.com</td>\n",
       "      <td>check hillarythemed haunted house anticlinton ...</td>\n",
       "    </tr>\n",
       "    <tr>\n",
       "      <th>2042</th>\n",
       "      <td>Jane Chastain</td>\n",
       "      <td>wnd.com</td>\n",
       "      <td>good samaritan wearing indian headdress disarm...</td>\n",
       "    </tr>\n",
       "    <tr>\n",
       "      <th>2043</th>\n",
       "      <td>Michael Brown</td>\n",
       "      <td>wnd.com</td>\n",
       "      <td>skype sex scam fortune built shame moroccan bo...</td>\n",
       "    </tr>\n",
       "    <tr>\n",
       "      <th>2044</th>\n",
       "      <td>Ann Coulter</td>\n",
       "      <td>wnd.com</td>\n",
       "      <td>posted eddie skyhigh potency may scare away cr...</td>\n",
       "    </tr>\n",
       "    <tr>\n",
       "      <th>2045</th>\n",
       "      <td>Larry Elder</td>\n",
       "      <td>wnd.com</td>\n",
       "      <td>billion even known keeping supposedly deleted ...</td>\n",
       "    </tr>\n",
       "  </tbody>\n",
       "</table>\n",
       "<p>2043 rows × 3 columns</p>\n",
       "</div>"
      ],
      "text/plain": [
       "                    author             site_url  \\\n",
       "0        Barracuda Brigade  100percentfedup.com   \n",
       "1     reasoning with facts  100percentfedup.com   \n",
       "2        Barracuda Brigade  100percentfedup.com   \n",
       "3                   Fed Up  100percentfedup.com   \n",
       "4                   Fed Up  100percentfedup.com   \n",
       "...                    ...                  ...   \n",
       "2041           Matt Barber              wnd.com   \n",
       "2042         Jane Chastain              wnd.com   \n",
       "2043         Michael Brown              wnd.com   \n",
       "2044           Ann Coulter              wnd.com   \n",
       "2045           Larry Elder              wnd.com   \n",
       "\n",
       "                                 text_without_stopwords  \n",
       "0     print pay back money plus interest entire fami...  \n",
       "1     attorney general loretta lynch plead fifth bar...  \n",
       "2     red state fox news sunday reported morning ant...  \n",
       "3     email kayla mueller prisoner tortured isis cha...  \n",
       "4     email healthcare reform make america great sin...  \n",
       "...                                                 ...  \n",
       "2041  check hillarythemed haunted house anticlinton ...  \n",
       "2042  good samaritan wearing indian headdress disarm...  \n",
       "2043  skype sex scam fortune built shame moroccan bo...  \n",
       "2044  posted eddie skyhigh potency may scare away cr...  \n",
       "2045  billion even known keeping supposedly deleted ...  \n",
       "\n",
       "[2043 rows x 3 columns]"
      ]
     },
     "execution_count": 29,
     "metadata": {},
     "output_type": "execute_result"
    }
   ],
   "source": [
    "features"
   ]
  },
  {
   "cell_type": "code",
   "execution_count": 30,
   "metadata": {
    "execution": {
     "iopub.execute_input": "2021-12-07T17:40:13.265402Z",
     "iopub.status.busy": "2021-12-07T17:40:13.264606Z",
     "iopub.status.idle": "2021-12-07T17:40:13.275083Z",
     "shell.execute_reply": "2021-12-07T17:40:13.274416Z",
     "shell.execute_reply.started": "2021-12-07T17:37:59.178691Z"
    },
    "papermill": {
     "duration": 0.086118,
     "end_time": "2021-12-07T17:40:13.275228",
     "exception": false,
     "start_time": "2021-12-07T17:40:13.189110",
     "status": "completed"
    },
    "tags": []
   },
   "outputs": [
    {
     "name": "stderr",
     "output_type": "stream",
     "text": [
      "/root/anaconda3/envs/exp1/lib/python3.6/site-packages/ipykernel_launcher.py:1: SettingWithCopyWarning: \n",
      "A value is trying to be set on a copy of a slice from a DataFrame.\n",
      "Try using .loc[row_indexer,col_indexer] = value instead\n",
      "\n",
      "See the caveats in the documentation: https://pandas.pydata.org/pandas-docs/stable/user_guide/indexing.html#returning-a-view-versus-a-copy\n",
      "  \"\"\"Entry point for launching an IPython kernel.\n",
      "/root/anaconda3/envs/exp1/lib/python3.6/site-packages/pandas/core/frame.py:4174: SettingWithCopyWarning: \n",
      "A value is trying to be set on a copy of a slice from a DataFrame\n",
      "\n",
      "See the caveats in the documentation: https://pandas.pydata.org/pandas-docs/stable/user_guide/indexing.html#returning-a-view-versus-a-copy\n",
      "  errors=errors,\n"
     ]
    }
   ],
   "source": [
    "features['combined_url_text'] = features[\"author\"]+\" \"+features[\"site_url\"] + \" \" + features[\"text_without_stopwords\"]\n",
    "features.drop(['author','site_url', 'text_without_stopwords'], axis = 1, inplace = True)\n",
    "features=features.combined_url_text"
   ]
  },
  {
   "cell_type": "code",
   "execution_count": 31,
   "metadata": {
    "execution": {
     "iopub.execute_input": "2021-12-07T17:40:13.411190Z",
     "iopub.status.busy": "2021-12-07T17:40:13.410508Z",
     "iopub.status.idle": "2021-12-07T17:40:13.413024Z",
     "shell.execute_reply": "2021-12-07T17:40:13.413606Z",
     "shell.execute_reply.started": "2021-12-07T17:37:59.198831Z"
    },
    "papermill": {
     "duration": 0.073894,
     "end_time": "2021-12-07T17:40:13.413797",
     "exception": false,
     "start_time": "2021-12-07T17:40:13.339903",
     "status": "completed"
    },
    "tags": []
   },
   "outputs": [
    {
     "data": {
      "text/plain": [
       "0       Barracuda Brigade 100percentfedup.com print pa...\n",
       "1       reasoning with facts 100percentfedup.com attor...\n",
       "2       Barracuda Brigade 100percentfedup.com red stat...\n",
       "3       Fed Up 100percentfedup.com email kayla mueller...\n",
       "4       Fed Up 100percentfedup.com email healthcare re...\n",
       "                              ...                        \n",
       "2041    Matt Barber wnd.com check hillarythemed haunte...\n",
       "2042    Jane Chastain wnd.com good samaritan wearing i...\n",
       "2043    Michael Brown wnd.com skype sex scam fortune b...\n",
       "2044    Ann Coulter wnd.com posted eddie skyhigh poten...\n",
       "2045    Larry Elder wnd.com billion even known keeping...\n",
       "Name: combined_url_text, Length: 2043, dtype: object"
      ]
     },
     "execution_count": 31,
     "metadata": {},
     "output_type": "execute_result"
    }
   ],
   "source": [
    "features"
   ]
  },
  {
   "cell_type": "code",
   "execution_count": 32,
   "metadata": {
    "execution": {
     "iopub.execute_input": "2021-12-07T17:40:13.805146Z",
     "iopub.status.busy": "2021-12-07T17:40:13.804395Z",
     "iopub.status.idle": "2021-12-07T17:40:14.917036Z",
     "shell.execute_reply": "2021-12-07T17:40:14.917855Z",
     "shell.execute_reply.started": "2021-12-07T17:37:59.208496Z"
    },
    "papermill": {
     "duration": 1.181369,
     "end_time": "2021-12-07T17:40:14.918057",
     "exception": false,
     "start_time": "2021-12-07T17:40:13.736688",
     "status": "completed"
    },
    "tags": []
   },
   "outputs": [],
   "source": [
    "from sklearn.feature_extraction.text import TfidfVectorizer\n",
    "vectorizer_words = TfidfVectorizer(stop_words='english')\n",
    "X = vectorizer_words.fit_transform(features)"
   ]
  },
  {
   "cell_type": "code",
   "execution_count": 33,
   "metadata": {
    "execution": {
     "iopub.execute_input": "2021-12-07T17:40:15.069161Z",
     "iopub.status.busy": "2021-12-07T17:40:15.068464Z",
     "iopub.status.idle": "2021-12-07T17:40:15.601598Z",
     "shell.execute_reply": "2021-12-07T17:40:15.602622Z",
     "shell.execute_reply.started": "2021-12-07T17:37:59.829209Z"
    },
    "papermill": {
     "duration": 0.605721,
     "end_time": "2021-12-07T17:40:15.602903",
     "exception": false,
     "start_time": "2021-12-07T17:40:14.997182",
     "status": "completed"
    },
    "tags": []
   },
   "outputs": [
    {
     "name": "stdout",
     "output_type": "stream",
     "text": [
      "Initialization complete\n",
      "Iteration 0, inertia 3935.7181279547576\n",
      "Iteration 1, inertia 1994.0234002648742\n",
      "Iteration 2, inertia 1989.5890650649917\n",
      "Iteration 3, inertia 1987.431849705778\n",
      "Iteration 4, inertia 1985.8200051198514\n",
      "Iteration 5, inertia 1984.69632442103\n",
      "Iteration 6, inertia 1983.937769667461\n",
      "Iteration 7, inertia 1983.5746964510342\n",
      "Iteration 8, inertia 1983.3980667580643\n",
      "Iteration 9, inertia 1983.3445276900725\n",
      "Iteration 10, inertia 1983.332626825183\n",
      "Iteration 11, inertia 1983.3302139556206\n",
      "Iteration 12, inertia 1983.3279030077888\n",
      "Converged at iteration 12: strict convergence.\n"
     ]
    },
    {
     "data": {
      "text/plain": [
       "KMeans(max_iter=100, n_clusters=2, n_init=1, verbose=True)"
      ]
     },
     "execution_count": 33,
     "metadata": {},
     "output_type": "execute_result"
    }
   ],
   "source": [
    "from sklearn.cluster import KMeans\n",
    "km = KMeans(n_clusters = 2, init = 'k-means++', max_iter = 100, n_init = 1, verbose = True)\n",
    "km.fit(X)"
   ]
  },
  {
   "cell_type": "code",
   "execution_count": 34,
   "metadata": {
    "execution": {
     "iopub.execute_input": "2021-12-07T17:40:15.775797Z",
     "iopub.status.busy": "2021-12-07T17:40:15.770608Z",
     "iopub.status.idle": "2021-12-07T17:40:15.777092Z",
     "shell.execute_reply": "2021-12-07T17:40:15.776437Z",
     "shell.execute_reply.started": "2021-12-07T17:37:59.942292Z"
    },
    "papermill": {
     "duration": 0.091321,
     "end_time": "2021-12-07T17:40:15.777253",
     "exception": false,
     "start_time": "2021-12-07T17:40:15.685932",
     "status": "completed"
    },
    "scrolled": true,
    "tags": []
   },
   "outputs": [],
   "source": [
    "import numpy as np\n",
    "np.unique(km.labels_, return_counts=True)\n",
    "features.reset_index(drop=True, inplace=True)"
   ]
  },
  {
   "cell_type": "code",
   "execution_count": 35,
   "metadata": {
    "execution": {
     "iopub.execute_input": "2021-12-07T17:40:15.947627Z",
     "iopub.status.busy": "2021-12-07T17:40:15.946926Z",
     "iopub.status.idle": "2021-12-07T17:40:16.193003Z",
     "shell.execute_reply": "2021-12-07T17:40:16.194022Z",
     "shell.execute_reply.started": "2021-12-07T17:37:59.952155Z"
    },
    "papermill": {
     "duration": 0.338735,
     "end_time": "2021-12-07T17:40:16.194226",
     "exception": false,
     "start_time": "2021-12-07T17:40:15.855491",
     "status": "completed"
    },
    "tags": []
   },
   "outputs": [],
   "source": [
    "text={}\n",
    "for i,cluster in enumerate(km.labels_):\n",
    "    oneDocument = features[i]\n",
    "    if cluster not in text.keys():\n",
    "        text[cluster] = oneDocument\n",
    "    else:\n",
    "        text[cluster] += oneDocument"
   ]
  },
  {
   "cell_type": "code",
   "execution_count": 36,
   "metadata": {
    "execution": {
     "iopub.execute_input": "2021-12-07T17:40:16.355979Z",
     "iopub.status.busy": "2021-12-07T17:40:16.355231Z",
     "iopub.status.idle": "2021-12-07T17:40:16.855853Z",
     "shell.execute_reply": "2021-12-07T17:40:16.856369Z",
     "shell.execute_reply.started": "2021-12-07T17:38:00.170993Z"
    },
    "papermill": {
     "duration": 0.584277,
     "end_time": "2021-12-07T17:40:16.856553",
     "exception": false,
     "start_time": "2021-12-07T17:40:16.272276",
     "status": "completed"
    },
    "tags": []
   },
   "outputs": [],
   "source": [
    "from nltk.tokenize import word_tokenize\n",
    "from nltk.corpus import stopwords\n",
    "from nltk.probability import FreqDist\n",
    "from string import punctuation\n",
    "from heapq import nlargest\n",
    "import nltk "
   ]
  },
  {
   "cell_type": "code",
   "execution_count": 37,
   "metadata": {
    "execution": {
     "iopub.execute_input": "2021-12-07T17:40:16.993206Z",
     "iopub.status.busy": "2021-12-07T17:40:16.992182Z",
     "iopub.status.idle": "2021-12-07T17:40:23.994916Z",
     "shell.execute_reply": "2021-12-07T17:40:23.994317Z",
     "shell.execute_reply.started": "2021-12-07T17:38:00.181243Z"
    },
    "papermill": {
     "duration": 7.072291,
     "end_time": "2021-12-07T17:40:23.995081",
     "exception": false,
     "start_time": "2021-12-07T17:40:16.922790",
     "status": "completed"
    },
    "tags": []
   },
   "outputs": [],
   "source": [
    "_stopwords = set(stopwords.words('english') + list(punctuation))\n",
    "\n",
    "keywords = {}\n",
    "counts={}\n",
    "for cluster in range(2):\n",
    "    word_sent = word_tokenize(text[cluster].lower())\n",
    "    word_sent=[word for word in word_sent if word not in _stopwords]\n",
    "    freq = FreqDist(word_sent)\n",
    "    keywords[cluster] = nlargest(100, freq, key=freq.get)\n",
    "    counts[cluster]=freq"
   ]
  },
  {
   "cell_type": "code",
   "execution_count": 38,
   "metadata": {
    "execution": {
     "iopub.execute_input": "2021-12-07T17:40:24.135231Z",
     "iopub.status.busy": "2021-12-07T17:40:24.134466Z",
     "iopub.status.idle": "2021-12-07T17:40:24.138584Z",
     "shell.execute_reply": "2021-12-07T17:40:24.138073Z",
     "shell.execute_reply.started": "2021-12-07T17:38:03.248960Z"
    },
    "papermill": {
     "duration": 0.077884,
     "end_time": "2021-12-07T17:40:24.138718",
     "exception": false,
     "start_time": "2021-12-07T17:40:24.060834",
     "status": "completed"
    },
    "scrolled": true,
    "tags": []
   },
   "outputs": [
    {
     "data": {
      "text/plain": [
       "{0: ['one',\n",
       "  'people',\n",
       "  'us',\n",
       "  'said',\n",
       "  'would',\n",
       "  'also',\n",
       "  'like',\n",
       "  'time',\n",
       "  'even',\n",
       "  'get',\n",
       "  'new',\n",
       "  'state',\n",
       "  'world',\n",
       "  'many',\n",
       "  'could',\n",
       "  'dont',\n",
       "  'years',\n",
       "  'life',\n",
       "  'first',\n",
       "  'two',\n",
       "  'government',\n",
       "  'women',\n",
       "  'police',\n",
       "  'see',\n",
       "  'make',\n",
       "  'way',\n",
       "  'der',\n",
       "  'well',\n",
       "  'right',\n",
       "  'author',\n",
       "  'know',\n",
       "  'take',\n",
       "  'states',\n",
       "  'may',\n",
       "  'back',\n",
       "  'man',\n",
       "  'men',\n",
       "  'media',\n",
       "  'much',\n",
       "  'news',\n",
       "  'american',\n",
       "  'day',\n",
       "  'good',\n",
       "  'every',\n",
       "  'want',\n",
       "  'made',\n",
       "  'october',\n",
       "  'go',\n",
       "  'since',\n",
       "  'die',\n",
       "  'think',\n",
       "  'food',\n",
       "  'another',\n",
       "  'say',\n",
       "  'president',\n",
       "  'war',\n",
       "  'still',\n",
       "  'public',\n",
       "  'going',\n",
       "  'according',\n",
       "  'need',\n",
       "  'trump',\n",
       "  'never',\n",
       "  'year',\n",
       "  'health',\n",
       "  'last',\n",
       "  'force',\n",
       "  'next',\n",
       "  'work',\n",
       "  'white',\n",
       "  'around',\n",
       "  'political',\n",
       "  'human',\n",
       "  'use',\n",
       "  'united',\n",
       "  'used',\n",
       "  'country',\n",
       "  'law',\n",
       "  'today',\n",
       "  'part',\n",
       "  'free',\n",
       "  'im',\n",
       "  'brain',\n",
       "  'water',\n",
       "  'power',\n",
       "  'without',\n",
       "  'city',\n",
       "  'system',\n",
       "  'times',\n",
       "  'mind',\n",
       "  'really',\n",
       "  'show',\n",
       "  'might',\n",
       "  'de',\n",
       "  'obama',\n",
       "  'military',\n",
       "  'help',\n",
       "  'things',\n",
       "  'israel',\n",
       "  'children'],\n",
       " 1: ['trump',\n",
       "  'clinton',\n",
       "  'hillary',\n",
       "  'election',\n",
       "  'us',\n",
       "  'would',\n",
       "  'said',\n",
       "  'campaign',\n",
       "  'one',\n",
       "  'donald',\n",
       "  'people',\n",
       "  'president',\n",
       "  'fbi',\n",
       "  'clintons',\n",
       "  'new',\n",
       "  'like',\n",
       "  'obama',\n",
       "  'media',\n",
       "  'also',\n",
       "  'email',\n",
       "  'even',\n",
       "  'emails',\n",
       "  'state',\n",
       "  'trumps',\n",
       "  'could',\n",
       "  'time',\n",
       "  'news',\n",
       "  'presidential',\n",
       "  'white',\n",
       "  'republican',\n",
       "  'democratic',\n",
       "  'political',\n",
       "  'going',\n",
       "  'states',\n",
       "  'american',\n",
       "  'investigation',\n",
       "  'vote',\n",
       "  'many',\n",
       "  'voters',\n",
       "  'know',\n",
       "  'get',\n",
       "  'first',\n",
       "  'house',\n",
       "  'dont',\n",
       "  'comey',\n",
       "  'day',\n",
       "  'years',\n",
       "  'way',\n",
       "  'bill',\n",
       "  'america',\n",
       "  'party',\n",
       "  'women',\n",
       "  'government',\n",
       "  'republicans',\n",
       "  'democrats',\n",
       "  'country',\n",
       "  'candidate',\n",
       "  'think',\n",
       "  'october',\n",
       "  'podesta',\n",
       "  'last',\n",
       "  'former',\n",
       "  'two',\n",
       "  'back',\n",
       "  'national',\n",
       "  'americans',\n",
       "  'united',\n",
       "  'make',\n",
       "  'may',\n",
       "  'percent',\n",
       "  'foundation',\n",
       "  'right',\n",
       "  'support',\n",
       "  'see',\n",
       "  'million',\n",
       "  'public',\n",
       "  'say',\n",
       "  'november',\n",
       "  'according',\n",
       "  'department',\n",
       "  'world',\n",
       "  'fact',\n",
       "  'well',\n",
       "  'information',\n",
       "  'take',\n",
       "  'since',\n",
       "  'told',\n",
       "  'voting',\n",
       "  'much',\n",
       "  'director',\n",
       "  'made',\n",
       "  'never',\n",
       "  'another',\n",
       "  'every',\n",
       "  'go',\n",
       "  'nominee',\n",
       "  'wikileaks',\n",
       "  'work',\n",
       "  'justice',\n",
       "  'secretary']}"
      ]
     },
     "execution_count": 38,
     "metadata": {},
     "output_type": "execute_result"
    }
   ],
   "source": [
    "keywords"
   ]
  },
  {
   "cell_type": "code",
   "execution_count": 39,
   "metadata": {
    "execution": {
     "iopub.execute_input": "2021-12-07T17:40:24.275850Z",
     "iopub.status.busy": "2021-12-07T17:40:24.275151Z",
     "iopub.status.idle": "2021-12-07T17:40:24.278145Z",
     "shell.execute_reply": "2021-12-07T17:40:24.277581Z",
     "shell.execute_reply.started": "2021-12-07T17:38:03.258556Z"
    },
    "papermill": {
     "duration": 0.073727,
     "end_time": "2021-12-07T17:40:24.278291",
     "exception": false,
     "start_time": "2021-12-07T17:40:24.204564",
     "status": "completed"
    },
    "tags": []
   },
   "outputs": [],
   "source": [
    "set0 = set(keywords[0])\n",
    "set1 = set(keywords[1])\n",
    "unique0=set0-set1\n",
    "unique1 =set1-set0"
   ]
  },
  {
   "cell_type": "code",
   "execution_count": 40,
   "metadata": {
    "execution": {
     "iopub.execute_input": "2021-12-07T17:40:24.418986Z",
     "iopub.status.busy": "2021-12-07T17:40:24.418309Z",
     "iopub.status.idle": "2021-12-07T17:40:24.421784Z",
     "shell.execute_reply": "2021-12-07T17:40:24.421108Z",
     "shell.execute_reply.started": "2021-12-07T17:38:03.269551Z"
    },
    "papermill": {
     "duration": 0.076498,
     "end_time": "2021-12-07T17:40:24.421967",
     "exception": false,
     "start_time": "2021-12-07T17:40:24.345469",
     "status": "completed"
    },
    "tags": []
   },
   "outputs": [],
   "source": [
    "unique_keys={}\n",
    "unique_keys[0]=nlargest(10, unique0, key=counts[0].get)\n",
    "unique_keys[1]=nlargest(10, unique1, key=counts[1].get)"
   ]
  },
  {
   "cell_type": "code",
   "execution_count": 41,
   "metadata": {
    "execution": {
     "iopub.execute_input": "2021-12-07T17:40:24.556972Z",
     "iopub.status.busy": "2021-12-07T17:40:24.556347Z",
     "iopub.status.idle": "2021-12-07T17:40:24.562856Z",
     "shell.execute_reply": "2021-12-07T17:40:24.563410Z",
     "shell.execute_reply.started": "2021-12-07T17:38:03.282438Z"
    },
    "papermill": {
     "duration": 0.075571,
     "end_time": "2021-12-07T17:40:24.563590",
     "exception": false,
     "start_time": "2021-12-07T17:40:24.488019",
     "status": "completed"
    },
    "tags": []
   },
   "outputs": [
    {
     "data": {
      "text/plain": [
       "{0: ['life',\n",
       "  'police',\n",
       "  'der',\n",
       "  'author',\n",
       "  'men',\n",
       "  'man',\n",
       "  'good',\n",
       "  'want',\n",
       "  'die',\n",
       "  'food'],\n",
       " 1: ['clinton',\n",
       "  'hillary',\n",
       "  'election',\n",
       "  'campaign',\n",
       "  'donald',\n",
       "  'fbi',\n",
       "  'clintons',\n",
       "  'email',\n",
       "  'emails',\n",
       "  'trumps']}"
      ]
     },
     "execution_count": 41,
     "metadata": {},
     "output_type": "execute_result"
    }
   ],
   "source": [
    "unique_keys"
   ]
  },
  {
   "cell_type": "code",
   "execution_count": 42,
   "metadata": {
    "execution": {
     "iopub.execute_input": "2021-12-07T17:40:24.971102Z",
     "iopub.status.busy": "2021-12-07T17:40:24.966345Z",
     "iopub.status.idle": "2021-12-07T17:40:26.398635Z",
     "shell.execute_reply": "2021-12-07T17:40:26.398083Z",
     "shell.execute_reply.started": "2021-12-07T17:38:03.294682Z"
    },
    "papermill": {
     "duration": 1.502201,
     "end_time": "2021-12-07T17:40:26.398801",
     "exception": false,
     "start_time": "2021-12-07T17:40:24.896600",
     "status": "completed"
    },
    "tags": []
   },
   "outputs": [],
   "source": [
    "from sklearn.feature_extraction.text import TfidfVectorizer\n",
    "from sklearn.model_selection import train_test_split\n",
    "\n",
    "X_train,X_test,y_train,y_test=train_test_split(features,target,test_size=0.20)\n",
    "\n",
    "vectorizer = TfidfVectorizer(stop_words = 'english')\n",
    "tfidf_train = vectorizer.fit_transform(X_train)\n",
    "tfidf_test = vectorizer.transform(X_test)\n",
    "tfidf_df = pd.DataFrame(tfidf_train.A, columns=vectorizer.get_feature_names())"
   ]
  },
  {
   "cell_type": "code",
   "execution_count": 43,
   "metadata": {
    "execution": {
     "iopub.execute_input": "2021-12-07T17:40:26.535024Z",
     "iopub.status.busy": "2021-12-07T17:40:26.534309Z",
     "iopub.status.idle": "2021-12-07T17:40:26.539136Z",
     "shell.execute_reply": "2021-12-07T17:40:26.538598Z",
     "shell.execute_reply.started": "2021-12-07T17:38:04.525900Z"
    },
    "papermill": {
     "duration": 0.074491,
     "end_time": "2021-12-07T17:40:26.539309",
     "exception": false,
     "start_time": "2021-12-07T17:40:26.464818",
     "status": "completed"
    },
    "tags": []
   },
   "outputs": [
    {
     "name": "stdout",
     "output_type": "stream",
     "text": [
      "(1634, 42094)\n",
      "(1634,)\n"
     ]
    }
   ],
   "source": [
    "print(tfidf_train.shape)\n",
    "print(y_train.shape)"
   ]
  },
  {
   "cell_type": "code",
   "execution_count": 44,
   "metadata": {
    "execution": {
     "iopub.execute_input": "2021-12-07T17:40:26.679645Z",
     "iopub.status.busy": "2021-12-07T17:40:26.678886Z",
     "iopub.status.idle": "2021-12-07T17:40:26.771294Z",
     "shell.execute_reply": "2021-12-07T17:40:26.770650Z",
     "shell.execute_reply.started": "2021-12-07T17:38:04.532123Z"
    },
    "papermill": {
     "duration": 0.165643,
     "end_time": "2021-12-07T17:40:26.771442",
     "exception": false,
     "start_time": "2021-12-07T17:40:26.605799",
     "status": "completed"
    },
    "tags": []
   },
   "outputs": [
    {
     "name": "stdout",
     "output_type": "stream",
     "text": [
      "Kneighbors Model accuracy: 0.7726\n",
      "CPU times: user 68.4 ms, sys: 28.2 ms, total: 96.5 ms\n",
      "Wall time: 95.5 ms\n"
     ]
    }
   ],
   "source": [
    "%%time\n",
    "from sklearn.neighbors import KNeighborsClassifier\n",
    "from sklearn import metrics\n",
    "\n",
    "KNb = KNeighborsClassifier(n_neighbors=5)\n",
    "KNb.fit(tfidf_train, y_train)\n",
    "y_pred = KNb.predict(tfidf_test)\n",
    "KNscore=metrics.accuracy_score(y_test,y_pred)\n",
    "print(\"Kneighbors Model accuracy: %0.4f\" %KNscore)"
   ]
  },
  {
   "cell_type": "code",
   "execution_count": 45,
   "metadata": {
    "execution": {
     "iopub.execute_input": "2021-12-07T17:40:26.907542Z",
     "iopub.status.busy": "2021-12-07T17:40:26.906910Z",
     "iopub.status.idle": "2021-12-07T17:40:42.625031Z",
     "shell.execute_reply": "2021-12-07T17:40:42.624379Z",
     "shell.execute_reply.started": "2021-12-07T17:38:04.621517Z"
    },
    "papermill": {
     "duration": 15.787357,
     "end_time": "2021-12-07T17:40:42.625187",
     "exception": false,
     "start_time": "2021-12-07T17:40:26.837830",
     "status": "completed"
    },
    "tags": []
   },
   "outputs": [
    {
     "name": "stdout",
     "output_type": "stream",
     "text": [
      "Random Forest Model accuracy:  0.9413\n",
      "CPU times: user 15.7 s, sys: 98 ms, total: 15.8 s\n",
      "Wall time: 15.8 s\n"
     ]
    }
   ],
   "source": [
    "%%time\n",
    "from sklearn.ensemble import RandomForestClassifier\n",
    "\n",
    "RF = RandomForestClassifier(n_estimators=1000)\n",
    "RF.fit(tfidf_train,y_train)\n",
    "y_pred = RF.predict(tfidf_test)\n",
    "RFscore = metrics.accuracy_score(y_test,y_pred)\n",
    "print(\"Random Forest Model accuracy:  %0.4f\" %RFscore)"
   ]
  },
  {
   "cell_type": "code",
   "execution_count": 46,
   "metadata": {
    "execution": {
     "iopub.execute_input": "2021-12-07T17:40:42.768842Z",
     "iopub.status.busy": "2021-12-07T17:40:42.767607Z",
     "iopub.status.idle": "2021-12-07T17:40:44.396121Z",
     "shell.execute_reply": "2021-12-07T17:40:44.396619Z",
     "shell.execute_reply.started": "2021-12-07T17:38:19.933055Z"
    },
    "papermill": {
     "duration": 1.704454,
     "end_time": "2021-12-07T17:40:44.396826",
     "exception": false,
     "start_time": "2021-12-07T17:40:42.692372",
     "status": "completed"
    },
    "tags": []
   },
   "outputs": [
    {
     "name": "stdout",
     "output_type": "stream",
     "text": [
      "Ada boost Classifier accuracy: 0.9682\n",
      "CPU times: user 1.55 s, sys: 3.53 ms, total: 1.55 s\n",
      "Wall time: 1.55 s\n"
     ]
    }
   ],
   "source": [
    "%%time\n",
    "from sklearn.ensemble import AdaBoostClassifier\n",
    "from sklearn.tree import DecisionTreeClassifier\n",
    "\n",
    "Adab = AdaBoostClassifier(DecisionTreeClassifier(max_depth=10),n_estimators=5)\n",
    "Adab.fit(tfidf_train, y_train)\n",
    "y_pred = Adab.predict(tfidf_test)\n",
    "ABscore = metrics.accuracy_score(y_test,y_pred)\n",
    "print(\"Ada boost Classifier accuracy: %0.4f\" %ABscore)"
   ]
  },
  {
   "cell_type": "code",
   "execution_count": 47,
   "metadata": {
    "execution": {
     "iopub.execute_input": "2021-12-07T17:40:44.805286Z",
     "iopub.status.busy": "2021-12-07T17:40:44.804308Z",
     "iopub.status.idle": "2021-12-07T17:40:44.810081Z",
     "shell.execute_reply": "2021-12-07T17:40:44.809452Z",
     "shell.execute_reply.started": "2021-12-07T17:38:21.553689Z"
    },
    "papermill": {
     "duration": 0.078115,
     "end_time": "2021-12-07T17:40:44.810223",
     "exception": false,
     "start_time": "2021-12-07T17:40:44.732108",
     "status": "completed"
    },
    "scrolled": true,
    "tags": []
   },
   "outputs": [
    {
     "name": "stdout",
     "output_type": "stream",
     "text": [
      "[[253   8]\n",
      " [  5 143]]\n"
     ]
    }
   ],
   "source": [
    "from sklearn.metrics import confusion_matrix\n",
    "conf_matrix = confusion_matrix(y_test, y_pred)\n",
    "print(conf_matrix)"
   ]
  },
  {
   "cell_type": "code",
   "execution_count": 48,
   "metadata": {
    "execution": {
     "iopub.execute_input": "2021-12-07T17:40:44.968707Z",
     "iopub.status.busy": "2021-12-07T17:40:44.963523Z",
     "iopub.status.idle": "2021-12-07T17:40:45.130190Z",
     "shell.execute_reply": "2021-12-07T17:40:45.129349Z",
     "shell.execute_reply.started": "2021-12-07T17:38:21.562077Z"
    },
    "papermill": {
     "duration": 0.25252,
     "end_time": "2021-12-07T17:40:45.130342",
     "exception": false,
     "start_time": "2021-12-07T17:40:44.877822",
     "status": "completed"
    },
    "tags": []
   },
   "outputs": [
    {
     "data": {
      "text/plain": [
       "<AxesSubplot:xlabel='Predicted', ylabel='Actual'>"
      ]
     },
     "execution_count": 48,
     "metadata": {},
     "output_type": "execute_result"
    },
    {
     "data": {
      "image/png": "[encoded data removed]",
      "text/plain": [
       "<Figure size 360x360 with 1 Axes>"
      ]
     },
     "metadata": {},
     "output_type": "display_data"
    }
   ],
   "source": [
    "import seaborn as sns\n",
    "\n",
    "cm_df = pd.DataFrame(conf_matrix, columns=np.unique(y_test), index = np.unique(y_test))\n",
    "cm_df.columns.name = 'Predicted'\n",
    "cm_df.index.name = 'Actual'\n",
    "cm_df\n",
    "plt.figure(figsize=(5,5))\n",
    "sns.heatmap(cm_df, annot=True, vmax=20, square=True, cmap=\"Reds\",annot_kws={\"size\":12} ,cbar=False, fmt='g')"
   ]
  }
 ],
 "metadata": {
  "kernelspec": {
   "display_name": "exp1",
   "language": "python",
   "name": "exp1"
  },
  "language_info": {
   "codemirror_mode": {
    "name": "ipython",
    "version": 3
   },
   "file_extension": ".py",
   "mimetype": "text/x-python",
   "name": "python",
   "nbconvert_exporter": "python",
   "pygments_lexer": "ipython3",
   "version": "3.6.13"
  },
  "papermill": {
   "default_parameters": {},
   "duration": 52.708801,
   "end_time": "2021-12-07T17:40:46.659513",
   "environment_variables": {},
   "exception": null,
   "input_path": "__notebook__.ipynb",
   "output_path": "__notebook__.ipynb",
   "parameters": {},
   "start_time": "2021-12-07T17:39:53.950712",
   "version": "2.3.3"
  }
 },
 "nbformat": 4,
 "nbformat_minor": 5
}
