{
 "cells": [
  {
   "cell_type": "code",
   "execution_count": 1,
   "metadata": {
    "_cell_guid": "79c7e3d0-c299-4dcb-8224-4455121ee9b0",
    "_uuid": "d629ff2d2480ee46fbb7e2d37f6b5fab8052498a",
    "execution": {
     "iopub.execute_input": "2020-11-05T07:59:53.347363Z",
     "iopub.status.busy": "2020-11-05T07:59:53.346397Z",
     "iopub.status.idle": "2020-11-05T08:00:03.306234Z",
     "shell.execute_reply": "2020-11-05T08:00:03.304904Z"
    },
    "papermill": {
     "duration": 9.992805,
     "end_time": "2020-11-05T08:00:03.306447",
     "exception": false,
     "start_time": "2020-11-05T07:59:53.313642",
     "status": "completed"
    },
    "tags": []
   },
   "outputs": [
    {
     "name": "stderr",
     "output_type": "stream",
     "text": [
      "Using TensorFlow backend.\n"
     ]
    }
   ],
   "source": [
    "import numpy as np\n",
    "import pandas as pd \n",
    "import matplotlib\n",
    "import seaborn as sns\n",
    "import sklearn\n",
    "import imblearn\n",
    "import matplotlib.pyplot as plt\n",
    "import time\n",
    "import sklearn.metrics as m\n",
    "import xgboost as xgb\n",
    "\n",
    "import warnings\n",
    "warnings.filterwarnings('ignore')\n",
    "\n",
    "\n",
    "pd.set_option('display.max_columns', None)\n",
    "pd.set_option('display.max_rows', None)\n",
    "\n",
    "\n",
    "cols = [' Bwd Packet Length Std',' PSH Flag Count',' min_seg_size_forward',' Min Packet Length',' ACK Flag Count',' Bwd Packet Length Min',' Fwd IAT Std','Init_Win_bytes_forward',' Flow IAT Max',' Bwd Packets/s',' URG Flag Count','Bwd IAT Total',' Label']\n",
    "df1=pd.read_csv(\"./MachineLearningCVE/Friday-WorkingHours-Afternoon-DDos.pcap_ISCX.csv\", usecols = cols)#,nrows = 50000\n",
    "df2=pd.read_csv(\"./MachineLearningCVE/Friday-WorkingHours-Afternoon-PortScan.pcap_ISCX.csv\", usecols = cols)\n",
    "df3=pd.read_csv(\"./MachineLearningCVE/Friday-WorkingHours-Morning.pcap_ISCX.csv\", usecols = cols)\n",
    "df5=pd.read_csv(\"./MachineLearningCVE/Thursday-WorkingHours-Afternoon-Infilteration.pcap_ISCX.csv\", usecols = cols)\n",
    "df6=pd.read_csv(\"./MachineLearningCVE/Thursday-WorkingHours-Morning-WebAttacks.pcap_ISCX.csv\", usecols = cols)\n"
   ]
  },
  {
   "cell_type": "code",
   "execution_count": 2,
   "metadata": {
    "execution": {
     "iopub.execute_input": "2020-11-05T08:00:03.381541Z",
     "iopub.status.busy": "2020-11-05T08:00:03.375846Z",
     "iopub.status.idle": "2020-11-05T08:00:04.155262Z",
     "shell.execute_reply": "2020-11-05T08:00:04.154652Z"
    },
    "papermill": {
     "duration": 0.804636,
     "end_time": "2020-11-05T08:00:04.155375",
     "exception": false,
     "start_time": "2020-11-05T08:00:03.350739",
     "status": "completed"
    },
    "tags": []
   },
   "outputs": [],
   "source": [
    "df = pd.concat([df1,df2])\n",
    "del df1,df2\n",
    "df = pd.concat([df,df3])\n",
    "del df3\n",
    "df = pd.concat([df,df5])\n",
    "del df5\n",
    "df = pd.concat([df,df6])\n",
    "del df6\n",
    "\n",
    "data = df.copy()\n",
    "\n",
    "for column in data.columns:\n",
    "    if data[column].dtype == np.int64:\n",
    "        maxVal = data[column].max()\n",
    "        if maxVal < 120:\n",
    "            data[column] = data[column].astype(np.int8)\n",
    "        elif maxVal < 32767:\n",
    "            data[column] = data[column].astype(np.int16)\n",
    "        else:\n",
    "            data[column] = data[column].astype(np.int32)\n",
    "            \n",
    "    if data[column].dtype == np.float64:\n",
    "        maxVal = data[column].max()\n",
    "        minVal = data[data[column]>0][column]\n",
    "        if maxVal < 120 and minVal>0.01 :\n",
    "            data[column] = data[column].astype(np.float16)\n",
    "        else:\n",
    "            data[column] = data[column].astype(np.float32)\n",
    "            \n",
    "            \n",
    "\n",
    "attackType = data[' Label'].unique()\n",
    "data[' Label'] = data[' Label'].astype('category')\n",
    "data[' Label'] = data[' Label'].astype(\"category\").cat.codes"
   ]
  },
  {
   "cell_type": "code",
   "execution_count": 3,
   "metadata": {
    "execution": {
     "iopub.execute_input": "2020-11-05T08:00:04.196772Z",
     "iopub.status.busy": "2020-11-05T08:00:04.195377Z",
     "iopub.status.idle": "2020-11-05T08:00:04.226967Z",
     "shell.execute_reply": "2020-11-05T08:00:04.226267Z"
    },
    "papermill": {
     "duration": 0.056658,
     "end_time": "2020-11-05T08:00:04.227111",
     "exception": false,
     "start_time": "2020-11-05T08:00:04.170453",
     "status": "completed"
    },
    "tags": []
   },
   "outputs": [],
   "source": [
    "y = data[' Label'].copy()\n",
    "X = data.drop([' Label'],axis=1)"
   ]
  },
  {
   "cell_type": "code",
   "execution_count": 4,
   "metadata": {
    "execution": {
     "iopub.execute_input": "2020-11-05T08:00:04.295913Z",
     "iopub.status.busy": "2020-11-05T08:00:04.295055Z",
     "iopub.status.idle": "2020-11-05T08:00:04.919089Z",
     "shell.execute_reply": "2020-11-05T08:00:04.918288Z"
    },
    "papermill": {
     "duration": 0.646823,
     "end_time": "2020-11-05T08:00:04.919239",
     "exception": false,
     "start_time": "2020-11-05T08:00:04.272416",
     "status": "completed"
    },
    "tags": []
   },
   "outputs": [],
   "source": [
    "from imblearn.under_sampling import RandomUnderSampler\n",
    "\n",
    "rus = RandomUnderSampler('majority')\n",
    "X_rus, y_rus = rus.fit_sample(X, y)"
   ]
  },
  {
   "cell_type": "code",
   "execution_count": 5,
   "metadata": {
    "execution": {
     "iopub.execute_input": "2020-11-05T08:00:04.956049Z",
     "iopub.status.busy": "2020-11-05T08:00:04.955241Z",
     "iopub.status.idle": "2020-11-05T08:00:04.967028Z",
     "shell.execute_reply": "2020-11-05T08:00:04.966528Z"
    },
    "papermill": {
     "duration": 0.032379,
     "end_time": "2020-11-05T08:00:04.967143",
     "exception": false,
     "start_time": "2020-11-05T08:00:04.934764",
     "status": "completed"
    },
    "tags": []
   },
   "outputs": [
    {
     "data": {
      "text/plain": [
       "4    158930\n",
       "2    128027\n",
       "1      1966\n",
       "5      1507\n",
       "7       652\n",
       "3        36\n",
       "6        21\n",
       "0        21\n",
       "Name:  Label, dtype: int64"
      ]
     },
     "execution_count": 5,
     "metadata": {},
     "output_type": "execute_result"
    }
   ],
   "source": [
    "y_rus.value_counts()"
   ]
  },
  {
   "cell_type": "code",
   "execution_count": 6,
   "metadata": {
    "execution": {
     "iopub.execute_input": "2020-11-05T08:00:05.013781Z",
     "iopub.status.busy": "2020-11-05T08:00:05.012891Z",
     "iopub.status.idle": "2020-11-05T08:00:05.031203Z",
     "shell.execute_reply": "2020-11-05T08:00:05.030465Z"
    },
    "papermill": {
     "duration": 0.047932,
     "end_time": "2020-11-05T08:00:05.031322",
     "exception": false,
     "start_time": "2020-11-05T08:00:04.983390",
     "status": "completed"
    },
    "tags": []
   },
   "outputs": [
    {
     "data": {
      "text/plain": [
       "1    1966\n",
       "5    1507\n",
       "7     652\n",
       "3      36\n",
       "6      21\n",
       "0      21\n",
       "Name:  Label, dtype: int64"
      ]
     },
     "execution_count": 6,
     "metadata": {},
     "output_type": "execute_result"
    }
   ],
   "source": [
    "df = X_rus\n",
    "df[' Label'] = y_rus\n",
    "minor = pd.DataFrame(df[(df[' Label']!=4) & (df[' Label']!=2)])\n",
    "major = pd.DataFrame(df[(df[' Label']==4) | (df[' Label']==2)])\n",
    "minor[' Label'].value_counts()"
   ]
  },
  {
   "cell_type": "code",
   "execution_count": 7,
   "metadata": {
    "execution": {
     "iopub.execute_input": "2020-11-05T08:00:05.079105Z",
     "iopub.status.busy": "2020-11-05T08:00:05.078241Z",
     "iopub.status.idle": "2020-11-05T08:00:05.128815Z",
     "shell.execute_reply": "2020-11-05T08:00:05.127939Z"
    },
    "papermill": {
     "duration": 0.080868,
     "end_time": "2020-11-05T08:00:05.128955",
     "exception": false,
     "start_time": "2020-11-05T08:00:05.048087",
     "status": "completed"
    },
    "tags": []
   },
   "outputs": [],
   "source": [
    "from imblearn.over_sampling import SMOTE\n",
    "y_rus_ =  minor[' Label']\n",
    "X_rus_ =  minor.drop([' Label'],axis=1)\n",
    "strategy = {1:2000, 5:1600, 7:800, 3:300, 6:200, 0:200}\n",
    "sm = SMOTE(sampling_strategy=strategy)\n",
    "X_sm, y_sm = sm.fit_sample(X_rus_, y_rus_)\n",
    "X_min,y_min = X_sm, y_sm "
   ]
  },
  {
   "cell_type": "code",
   "execution_count": 8,
   "metadata": {
    "execution": {
     "iopub.execute_input": "2020-11-05T08:00:05.184493Z",
     "iopub.status.busy": "2020-11-05T08:00:05.183769Z",
     "iopub.status.idle": "2020-11-05T08:00:05.196289Z",
     "shell.execute_reply": "2020-11-05T08:00:05.195575Z"
    },
    "papermill": {
     "duration": 0.042684,
     "end_time": "2020-11-05T08:00:05.196429",
     "exception": false,
     "start_time": "2020-11-05T08:00:05.153745",
     "status": "completed"
    },
    "tags": []
   },
   "outputs": [
    {
     "data": {
      "text/plain": [
       "4    158930\n",
       "2    128027\n",
       "Name:  Label, dtype: int64"
      ]
     },
     "execution_count": 8,
     "metadata": {},
     "output_type": "execute_result"
    }
   ],
   "source": [
    "major[' Label'].value_counts()"
   ]
  },
  {
   "cell_type": "code",
   "execution_count": 9,
   "metadata": {
    "execution": {
     "iopub.execute_input": "2020-11-05T08:00:05.245741Z",
     "iopub.status.busy": "2020-11-05T08:00:05.245104Z",
     "iopub.status.idle": "2020-11-05T08:00:05.420957Z",
     "shell.execute_reply": "2020-11-05T08:00:05.420290Z"
    },
    "papermill": {
     "duration": 0.206956,
     "end_time": "2020-11-05T08:00:05.421074",
     "exception": false,
     "start_time": "2020-11-05T08:00:05.214118",
     "status": "completed"
    },
    "tags": []
   },
   "outputs": [
    {
     "data": {
      "text/plain": [
       "4    10000\n",
       "2     6000\n",
       "Name:  Label, dtype: int64"
      ]
     },
     "execution_count": 9,
     "metadata": {},
     "output_type": "execute_result"
    }
   ],
   "source": [
    "from imblearn.under_sampling import RandomUnderSampler\n",
    "y_rus_ =  major[' Label']\n",
    "X_rus_ =  major.drop([' Label'],axis=1)\n",
    "strategy = {4:10000, 2:6000}\n",
    "tom = RandomUnderSampler(sampling_strategy=strategy)\n",
    "X_tom, y_tom = tom.fit_sample(X_rus_, y_rus_)\n",
    "y_tom.value_counts()"
   ]
  },
  {
   "cell_type": "code",
   "execution_count": 10,
   "metadata": {
    "execution": {
     "iopub.execute_input": "2020-11-05T08:00:05.469698Z",
     "iopub.status.busy": "2020-11-05T08:00:05.463139Z",
     "iopub.status.idle": "2020-11-05T08:00:05.486691Z",
     "shell.execute_reply": "2020-11-05T08:00:05.486076Z"
    },
    "papermill": {
     "duration": 0.047761,
     "end_time": "2020-11-05T08:00:05.486808",
     "exception": false,
     "start_time": "2020-11-05T08:00:05.439047",
     "status": "completed"
    },
    "tags": []
   },
   "outputs": [
    {
     "name": "stdout",
     "output_type": "stream",
     "text": [
      "<class 'pandas.core.frame.DataFrame'>\n",
      "Int64Index: 21100 entries, 0 to 5099\n",
      "Data columns (total 12 columns):\n",
      " #   Column                  Non-Null Count  Dtype  \n",
      "---  ------                  --------------  -----  \n",
      " 0    Bwd Packet Length Min  21100 non-null  int16  \n",
      " 1    Bwd Packet Length Std  21100 non-null  float32\n",
      " 2    Flow IAT Max           21100 non-null  int32  \n",
      " 3    Fwd IAT Std            21100 non-null  float32\n",
      " 4   Bwd IAT Total           21100 non-null  int32  \n",
      " 5    Bwd Packets/s          21100 non-null  float32\n",
      " 6    Min Packet Length      21100 non-null  int16  \n",
      " 7    PSH Flag Count         21100 non-null  int8   \n",
      " 8    ACK Flag Count         21100 non-null  int8   \n",
      " 9    URG Flag Count         21100 non-null  int8   \n",
      " 10  Init_Win_bytes_forward  21100 non-null  int32  \n",
      " 11   min_seg_size_forward   21100 non-null  int8   \n",
      "dtypes: float32(3), int16(2), int32(3), int8(4)\n",
      "memory usage: 824.2 KB\n"
     ]
    }
   ],
   "source": [
    "X_maj,y_maj = X_tom, y_tom\n",
    "X,y = pd.concat([X_maj,X_min]), pd.concat([y_maj,y_min])\n",
    "X.info()"
   ]
  },
  {
   "cell_type": "code",
   "execution_count": 11,
   "metadata": {
    "execution": {
     "iopub.execute_input": "2020-11-05T08:00:05.580281Z",
     "iopub.status.busy": "2020-11-05T08:00:05.579581Z",
     "iopub.status.idle": "2020-11-05T08:00:07.500808Z",
     "shell.execute_reply": "2020-11-05T08:00:07.500104Z"
    },
    "papermill": {
     "duration": 1.960431,
     "end_time": "2020-11-05T08:00:07.500923",
     "exception": false,
     "start_time": "2020-11-05T08:00:05.540492",
     "status": "completed"
    },
    "tags": []
   },
   "outputs": [
    {
     "name": "stdout",
     "output_type": "stream",
     "text": [
      "RF Classifier run\n",
      "SV Classifier run\n",
      "DTC Classifier run\n",
      "CPU times: user 1.36 s, sys: 15 ms, total: 1.38 s\n",
      "Wall time: 1.46 s\n"
     ]
    }
   ],
   "source": [
    "%%time\n",
    "from sklearn.preprocessing import StandardScaler\n",
    "scaler = StandardScaler()\n",
    "\n",
    "\n",
    "cols = X.select_dtypes(include=['float32','float16','int32','int16','int8']).columns\n",
    "train_X = scaler.fit_transform(X.select_dtypes(include=['float32','float16','int32','int16','int8']))\n",
    "\n",
    "\n",
    "\n",
    "from sklearn.model_selection import train_test_split\n",
    "X_train,X_test,Y_train,Y_test = train_test_split(train_X,y,train_size=0.70, random_state=2)\n",
    "\n",
    "\n",
    "from sklearn import tree\n",
    "from sklearn.model_selection import cross_val_score\n",
    "from sklearn.ensemble import RandomForestClassifier\n",
    "from sklearn.svm import SVC\n",
    "\n",
    "\n",
    "RFC_Classifier = RandomForestClassifier(max_depth=40)\n",
    "RFC_Classifier.fit(X_train, Y_train)\n",
    "print ('RF Classifier run')\n",
    "\n",
    "\n",
    "SVM_Classifier = SVC()\n",
    "SVM_Classifier.fit(X_train, Y_train)\n",
    "print ('SV Classifier run')\n",
    "\n",
    "DTC_Classifier = tree.DecisionTreeClassifier(criterion='gini', max_depth=33, random_state=20, max_features=12, splitter='random')\n",
    "DTC_Classifier.fit(X_train, Y_train)\n",
    "print ('DTC Classifier run')"
   ]
  },
  {
   "cell_type": "code",
   "execution_count": 12,
   "metadata": {
    "execution": {
     "iopub.execute_input": "2020-11-05T08:00:07.555054Z",
     "iopub.status.busy": "2020-11-05T08:00:07.554323Z",
     "iopub.status.idle": "2020-11-05T08:00:26.624903Z",
     "shell.execute_reply": "2020-11-05T08:00:26.623726Z"
    },
    "papermill": {
     "duration": 19.105004,
     "end_time": "2020-11-05T08:00:26.625084",
     "exception": false,
     "start_time": "2020-11-05T08:00:07.520080",
     "status": "completed"
    },
    "scrolled": true,
    "tags": []
   },
   "outputs": [
    {
     "name": "stdout",
     "output_type": "stream",
     "text": [
      "\n",
      "============================== Random Forest Classifier Model Evaluation ==============================\n",
      "\n",
      "Cross Validation Mean Score:\n",
      " 0.9612705568491027\n",
      "\n",
      "Model Accuracy:\n",
      " 0.9914686166971359\n",
      "\n",
      "Confusion matrix:\n",
      " [[ 140    0    0    0    0    0    0    0]\n",
      " [   0 1359    0    0    0    0    0    0]\n",
      " [   0    0 4232    0    0    0    0    0]\n",
      " [   0    0    0  197    0    0    0    0]\n",
      " [   0    0    0    0 7034    0    0    0]\n",
      " [   0    0    0    0    0 1103    0    2]\n",
      " [   0    0    0    0    0    1  141    0]\n",
      " [   0    0    0    0    0  123    0  437]]\n",
      "\n",
      "Classification report:\n",
      "               precision    recall  f1-score   support\n",
      "\n",
      "           0       1.00      1.00      1.00       140\n",
      "           1       1.00      1.00      1.00      1359\n",
      "           2       1.00      1.00      1.00      4232\n",
      "           3       1.00      1.00      1.00       197\n",
      "           4       1.00      1.00      1.00      7034\n",
      "           5       0.90      1.00      0.95      1105\n",
      "           6       1.00      0.99      1.00       142\n",
      "           7       1.00      0.78      0.87       560\n",
      "\n",
      "    accuracy                           0.99     14769\n",
      "   macro avg       0.99      0.97      0.98     14769\n",
      "weighted avg       0.99      0.99      0.99     14769\n",
      "\n",
      "\n",
      "\n",
      "============================== Decision Tree Classifier Model Evaluation ==============================\n",
      "\n",
      "Cross Validation Mean Score:\n",
      " 0.9593747305110153\n",
      "\n",
      "Model Accuracy:\n",
      " 0.9999322906087075\n",
      "\n",
      "Confusion matrix:\n",
      " [[ 140    0    0    0    0    0    0    0]\n",
      " [   0 1359    0    0    0    0    0    0]\n",
      " [   0    0 4232    0    0    0    0    0]\n",
      " [   0    0    0  197    0    0    0    0]\n",
      " [   0    0    0    0 7034    0    0    0]\n",
      " [   0    0    0    0    0 1105    0    0]\n",
      " [   0    0    0    0    0    1  141    0]\n",
      " [   0    0    0    0    0    0    0  560]]\n",
      "\n",
      "Classification report:\n",
      "               precision    recall  f1-score   support\n",
      "\n",
      "           0       1.00      1.00      1.00       140\n",
      "           1       1.00      1.00      1.00      1359\n",
      "           2       1.00      1.00      1.00      4232\n",
      "           3       1.00      1.00      1.00       197\n",
      "           4       1.00      1.00      1.00      7034\n",
      "           5       1.00      1.00      1.00      1105\n",
      "           6       1.00      0.99      1.00       142\n",
      "           7       1.00      1.00      1.00       560\n",
      "\n",
      "    accuracy                           1.00     14769\n",
      "   macro avg       1.00      1.00      1.00     14769\n",
      "weighted avg       1.00      1.00      1.00     14769\n",
      "\n",
      "\n",
      "\n",
      "============================== Support Vector Classifier Model Evaluation ==============================\n",
      "\n",
      "Cross Validation Mean Score:\n",
      " 0.9526712665569445\n",
      "\n",
      "Model Accuracy:\n",
      " 0.953619066964588\n",
      "\n",
      "Confusion matrix:\n",
      " [[ 106    6   11    0    6    2    7    2]\n",
      " [   0 1350    6    0    0    1    0    2]\n",
      " [   0    0 4232    0    0    0    0    0]\n",
      " [   6    1   21  169    0    0    0    0]\n",
      " [   0    0    0    0 7028    2    2    2]\n",
      " [   0    0    0    0    0 1102    3    0]\n",
      " [   3    0    0    0    0   68   71    0]\n",
      " [   0    0    0    0    0  529    5   26]]\n",
      "\n",
      "Classification report:\n",
      "               precision    recall  f1-score   support\n",
      "\n",
      "           0       0.92      0.76      0.83       140\n",
      "           1       0.99      0.99      0.99      1359\n",
      "           2       0.99      1.00      1.00      4232\n",
      "           3       1.00      0.86      0.92       197\n",
      "           4       1.00      1.00      1.00      7034\n",
      "           5       0.65      1.00      0.78      1105\n",
      "           6       0.81      0.50      0.62       142\n",
      "           7       0.81      0.05      0.09       560\n",
      "\n",
      "    accuracy                           0.95     14769\n",
      "   macro avg       0.90      0.77      0.78     14769\n",
      "weighted avg       0.96      0.95      0.94     14769\n",
      "\n",
      "\n"
     ]
    }
   ],
   "source": [
    "from sklearn import metrics\n",
    "\n",
    "models = []\n",
    "models.append(('Random Forest Classifier', RFC_Classifier))\n",
    "models.append(('Decision Tree Classifier', DTC_Classifier))\n",
    "models.append(('Support Vector Classifier',SVM_Classifier))\n",
    "\n",
    "\n",
    "for i, v in models:\n",
    "    Xpred =  v.predict(X_train)\n",
    "    scores = cross_val_score(v, X_train, Y_train, cv=10)\n",
    "    accuracy = metrics.accuracy_score(Y_train, Xpred)\n",
    "    confusion_matrix = metrics.confusion_matrix(Y_train, Xpred)\n",
    "    classification = metrics.classification_report(Y_train, Xpred)\n",
    "    print()\n",
    "    print('============================== {} Model Evaluation =============================='.format(i))\n",
    "    print()\n",
    "    print (\"Cross Validation Mean Score:\" \"\\n\", scores.mean())\n",
    "    print()\n",
    "    print (\"Model Accuracy:\" \"\\n\", accuracy)\n",
    "    print()\n",
    "    print(\"Confusion matrix:\" \"\\n\", confusion_matrix)\n",
    "    print()\n",
    "    print(\"Classification report:\" \"\\n\", classification) \n",
    "    print()"
   ]
  },
  {
   "cell_type": "code",
   "execution_count": 13,
   "metadata": {
    "execution": {
     "iopub.execute_input": "2020-11-05T08:00:28.232446Z",
     "iopub.status.busy": "2020-11-05T08:00:28.231562Z",
     "iopub.status.idle": "2020-11-05T08:00:30.021969Z",
     "shell.execute_reply": "2020-11-05T08:00:30.021439Z"
    },
    "papermill": {
     "duration": 1.824438,
     "end_time": "2020-11-05T08:00:30.022086",
     "exception": false,
     "start_time": "2020-11-05T08:00:28.197648",
     "status": "completed"
    },
    "tags": []
   },
   "outputs": [
    {
     "name": "stdout",
     "output_type": "stream",
     "text": [
      "CPU times: user 1.35 s, sys: 4.73 ms, total: 1.36 s\n",
      "Wall time: 1.41 s\n"
     ]
    },
    {
     "data": {
      "text/plain": [
       "VotingClassifier(estimators=[('dc',\n",
       "                              DecisionTreeClassifier(max_depth=33,\n",
       "                                                     max_features=12,\n",
       "                                                     random_state=20,\n",
       "                                                     splitter='random')),\n",
       "                             ('rf',\n",
       "                              RandomForestClassifier(max_depth=40,\n",
       "                                                     random_state=20)),\n",
       "                             ('svc', SVC())],\n",
       "                 weights=[2, 2, 1])"
      ]
     },
     "execution_count": 13,
     "metadata": {},
     "output_type": "execute_result"
    }
   ],
   "source": [
    "%%time\n",
    "from sklearn.ensemble import VotingClassifier\n",
    "\n",
    "clf1 = tree.DecisionTreeClassifier(criterion='gini', max_depth=33, random_state=20, max_features=12, splitter='random')\n",
    "clf2 = RandomForestClassifier(criterion='gini', max_depth=40, random_state=20)\n",
    "clf3 = SVC()\n",
    "\n",
    "votingC = VotingClassifier(estimators=[('dc',clf1), ('rf', clf2),('svc',clf3)],voting='hard', weights=[2,2,1],flatten_transform=True)\n",
    "votingC.fit(X_train,Y_train)"
   ]
  },
  {
   "cell_type": "code",
   "execution_count": 14,
   "metadata": {
    "execution": {
     "iopub.execute_input": "2020-11-05T08:00:30.076134Z",
     "iopub.status.busy": "2020-11-05T08:00:30.075495Z",
     "iopub.status.idle": "2020-11-05T08:00:31.496760Z",
     "shell.execute_reply": "2020-11-05T08:00:31.497567Z"
    },
    "papermill": {
     "duration": 1.453718,
     "end_time": "2020-11-05T08:00:31.497749",
     "exception": false,
     "start_time": "2020-11-05T08:00:30.044031",
     "status": "completed"
    },
    "tags": []
   },
   "outputs": [
    {
     "name": "stdout",
     "output_type": "stream",
     "text": [
      "\n",
      "============================== Voting Classifier Model Test Results ==============================\n",
      "\n",
      "Model Accuracy:\n",
      " 0.9639867319538777\n",
      "\n",
      "Confusion matrix:\n",
      " [[  58    1    0    0    0    0    0    1]\n",
      " [   0  641    0    0    0    0    0    0]\n",
      " [   0    0 1768    0    0    0    0    0]\n",
      " [   0    1    0  102    0    0    0    0]\n",
      " [   1    0    0    0 2965    0    0    0]\n",
      " [   0    0    0    0    0  424    2   69]\n",
      " [   1    0    0    0    0    3   54    0]\n",
      " [   1    0    0    0    1  145    2   91]]\n",
      "\n",
      "Classification report:\n",
      "               precision    recall  f1-score   support\n",
      "\n",
      "           0       0.95      0.97      0.96        60\n",
      "           1       1.00      1.00      1.00       641\n",
      "           2       1.00      1.00      1.00      1768\n",
      "           3       1.00      0.99      1.00       103\n",
      "           4       1.00      1.00      1.00      2966\n",
      "           5       0.74      0.86      0.79       495\n",
      "           6       0.93      0.93      0.93        58\n",
      "           7       0.57      0.38      0.45       240\n",
      "\n",
      "    accuracy                           0.96      6331\n",
      "   macro avg       0.90      0.89      0.89      6331\n",
      "weighted avg       0.96      0.96      0.96      6331\n",
      "\n",
      "\n"
     ]
    }
   ],
   "source": [
    "pred = votingC.predict(X_test)\n",
    "accuracy = metrics.accuracy_score(Y_test,pred)\n",
    "confusion_matrix = metrics.confusion_matrix(Y_test, pred)\n",
    "classification = metrics.classification_report(Y_test, pred)\n",
    "print()\n",
    "print('============================== {} Model Test Results =============================='.format('Voting Classifier'))\n",
    "print()\n",
    "print (\"Model Accuracy:\" \"\\n\", accuracy)\n",
    "print()\n",
    "print(\"Confusion matrix:\" \"\\n\", confusion_matrix)\n",
    "print()\n",
    "print(\"Classification report:\" \"\\n\", classification) \n",
    "print()    "
   ]
  }
 ],
 "metadata": {
  "kernelspec": {
   "display_name": "exp1",
   "language": "python",
   "name": "exp1"
  },
  "language_info": {
   "codemirror_mode": {
    "name": "ipython",
    "version": 3
   },
   "file_extension": ".py",
   "mimetype": "text/x-python",
   "name": "python",
   "nbconvert_exporter": "python",
   "pygments_lexer": "ipython3",
   "version": "3.6.13"
  },
  "papermill": {
   "duration": 44.655388,
   "end_time": "2020-11-05T08:00:31.707206",
   "environment_variables": {},
   "exception": null,
   "input_path": "__notebook__.ipynb",
   "output_path": "__notebook__.ipynb",
   "parameters": {},
   "start_time": "2020-11-05T07:59:47.051818",
   "version": "2.1.0"
  }
 },
 "nbformat": 4,
 "nbformat_minor": 4
}
