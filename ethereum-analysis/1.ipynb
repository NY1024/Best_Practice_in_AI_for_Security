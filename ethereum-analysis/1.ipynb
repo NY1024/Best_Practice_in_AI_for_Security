{
 "cells": [
  {
   "cell_type": "code",
   "execution_count": 1,
   "metadata": {
    "_cell_guid": "b1076dfc-b9ad-4769-8c92-a6c4dae69d19",
    "_uuid": "8f2839f25d086af736a60e9eeb907d3b93b6e0e5",
    "execution": {
     "iopub.execute_input": "2021-10-21T08:15:37.537303Z",
     "iopub.status.busy": "2021-10-21T08:15:37.535437Z",
     "iopub.status.idle": "2021-10-21T08:15:37.560551Z",
     "shell.execute_reply": "2021-10-21T08:15:37.561313Z",
     "shell.execute_reply.started": "2021-10-21T08:14:49.599629Z"
    },
    "papermill": {
     "duration": 0.05471,
     "end_time": "2021-10-21T08:15:37.561694",
     "exception": false,
     "start_time": "2021-10-21T08:15:37.506984",
     "status": "completed"
    },
    "tags": []
   },
   "outputs": [],
   "source": [
    "import numpy as np \n",
    "import pandas as pd \n",
    "\n"
   ]
  },
  {
   "cell_type": "code",
   "execution_count": 2,
   "metadata": {
    "execution": {
     "iopub.execute_input": "2021-10-21T08:15:37.606477Z",
     "iopub.status.busy": "2021-10-21T08:15:37.605763Z",
     "iopub.status.idle": "2021-10-21T08:15:37.643680Z",
     "shell.execute_reply": "2021-10-21T08:15:37.644196Z",
     "shell.execute_reply.started": "2021-10-21T08:14:49.636039Z"
    },
    "papermill": {
     "duration": 0.061759,
     "end_time": "2021-10-21T08:15:37.644416",
     "exception": false,
     "start_time": "2021-10-21T08:15:37.582657",
     "status": "completed"
    },
    "tags": []
   },
   "outputs": [
    {
     "data": {
      "text/html": [
       "<div>\n",
       "<style scoped>\n",
       "    .dataframe tbody tr th:only-of-type {\n",
       "        vertical-align: middle;\n",
       "    }\n",
       "\n",
       "    .dataframe tbody tr th {\n",
       "        vertical-align: top;\n",
       "    }\n",
       "\n",
       "    .dataframe thead th {\n",
       "        text-align: right;\n",
       "    }\n",
       "</style>\n",
       "<table border=\"1\" class=\"dataframe\">\n",
       "  <thead>\n",
       "    <tr style=\"text-align: right;\">\n",
       "      <th></th>\n",
       "      <th>Date</th>\n",
       "      <th>Open</th>\n",
       "      <th>High</th>\n",
       "      <th>Low</th>\n",
       "      <th>Close</th>\n",
       "      <th>Adj Close</th>\n",
       "      <th>Volume</th>\n",
       "    </tr>\n",
       "  </thead>\n",
       "  <tbody>\n",
       "    <tr>\n",
       "      <th>0</th>\n",
       "      <td>2015-08-07</td>\n",
       "      <td>2.831620</td>\n",
       "      <td>3.536610</td>\n",
       "      <td>2.521120</td>\n",
       "      <td>2.772120</td>\n",
       "      <td>2.772120</td>\n",
       "      <td>164329.0</td>\n",
       "    </tr>\n",
       "    <tr>\n",
       "      <th>1</th>\n",
       "      <td>2015-08-08</td>\n",
       "      <td>2.793760</td>\n",
       "      <td>2.798810</td>\n",
       "      <td>0.714725</td>\n",
       "      <td>0.753325</td>\n",
       "      <td>0.753325</td>\n",
       "      <td>674188.0</td>\n",
       "    </tr>\n",
       "    <tr>\n",
       "      <th>2</th>\n",
       "      <td>2015-08-09</td>\n",
       "      <td>0.706136</td>\n",
       "      <td>0.879810</td>\n",
       "      <td>0.629191</td>\n",
       "      <td>0.701897</td>\n",
       "      <td>0.701897</td>\n",
       "      <td>532170.0</td>\n",
       "    </tr>\n",
       "    <tr>\n",
       "      <th>3</th>\n",
       "      <td>2015-08-10</td>\n",
       "      <td>0.713989</td>\n",
       "      <td>0.729854</td>\n",
       "      <td>0.636546</td>\n",
       "      <td>0.708448</td>\n",
       "      <td>0.708448</td>\n",
       "      <td>405283.0</td>\n",
       "    </tr>\n",
       "    <tr>\n",
       "      <th>4</th>\n",
       "      <td>2015-08-11</td>\n",
       "      <td>0.708087</td>\n",
       "      <td>1.131410</td>\n",
       "      <td>0.663235</td>\n",
       "      <td>1.067860</td>\n",
       "      <td>1.067860</td>\n",
       "      <td>1463100.0</td>\n",
       "    </tr>\n",
       "  </tbody>\n",
       "</table>\n",
       "</div>"
      ],
      "text/plain": [
       "         Date      Open      High       Low     Close  Adj Close     Volume\n",
       "0  2015-08-07  2.831620  3.536610  2.521120  2.772120   2.772120   164329.0\n",
       "1  2015-08-08  2.793760  2.798810  0.714725  0.753325   0.753325   674188.0\n",
       "2  2015-08-09  0.706136  0.879810  0.629191  0.701897   0.701897   532170.0\n",
       "3  2015-08-10  0.713989  0.729854  0.636546  0.708448   0.708448   405283.0\n",
       "4  2015-08-11  0.708087  1.131410  0.663235  1.067860   1.067860  1463100.0"
      ]
     },
     "execution_count": 2,
     "metadata": {},
     "output_type": "execute_result"
    }
   ],
   "source": [
    "df=pd.read_csv(\"ETHUSD.csv\")\n",
    "df.head()"
   ]
  },
  {
   "cell_type": "code",
   "execution_count": 3,
   "metadata": {
    "execution": {
     "iopub.execute_input": "2021-10-21T08:15:37.687679Z",
     "iopub.status.busy": "2021-10-21T08:15:37.687000Z",
     "iopub.status.idle": "2021-10-21T08:15:37.691353Z",
     "shell.execute_reply": "2021-10-21T08:15:37.691842Z",
     "shell.execute_reply.started": "2021-10-21T08:14:49.680251Z"
    },
    "papermill": {
     "duration": 0.027547,
     "end_time": "2021-10-21T08:15:37.691998",
     "exception": false,
     "start_time": "2021-10-21T08:15:37.664451",
     "status": "completed"
    },
    "tags": []
   },
   "outputs": [
    {
     "data": {
      "text/plain": [
       "(2267, 7)"
      ]
     },
     "execution_count": 3,
     "metadata": {},
     "output_type": "execute_result"
    }
   ],
   "source": [
    "df.shape"
   ]
  },
  {
   "cell_type": "code",
   "execution_count": 4,
   "metadata": {
    "execution": {
     "iopub.execute_input": "2021-10-21T08:15:37.735614Z",
     "iopub.status.busy": "2021-10-21T08:15:37.734969Z",
     "iopub.status.idle": "2021-10-21T08:15:37.768647Z",
     "shell.execute_reply": "2021-10-21T08:15:37.769131Z",
     "shell.execute_reply.started": "2021-10-21T08:14:49.688695Z"
    },
    "papermill": {
     "duration": 0.057151,
     "end_time": "2021-10-21T08:15:37.769310",
     "exception": false,
     "start_time": "2021-10-21T08:15:37.712159",
     "status": "completed"
    },
    "tags": []
   },
   "outputs": [
    {
     "data": {
      "text/html": [
       "<div>\n",
       "<style scoped>\n",
       "    .dataframe tbody tr th:only-of-type {\n",
       "        vertical-align: middle;\n",
       "    }\n",
       "\n",
       "    .dataframe tbody tr th {\n",
       "        vertical-align: top;\n",
       "    }\n",
       "\n",
       "    .dataframe thead th {\n",
       "        text-align: right;\n",
       "    }\n",
       "</style>\n",
       "<table border=\"1\" class=\"dataframe\">\n",
       "  <thead>\n",
       "    <tr style=\"text-align: right;\">\n",
       "      <th></th>\n",
       "      <th>Open</th>\n",
       "      <th>High</th>\n",
       "      <th>Low</th>\n",
       "      <th>Close</th>\n",
       "      <th>Adj Close</th>\n",
       "      <th>Volume</th>\n",
       "    </tr>\n",
       "  </thead>\n",
       "  <tbody>\n",
       "    <tr>\n",
       "      <th>count</th>\n",
       "      <td>2262.000000</td>\n",
       "      <td>2262.000000</td>\n",
       "      <td>2262.000000</td>\n",
       "      <td>2262.000000</td>\n",
       "      <td>2262.000000</td>\n",
       "      <td>2.262000e+03</td>\n",
       "    </tr>\n",
       "    <tr>\n",
       "      <th>mean</th>\n",
       "      <td>504.643794</td>\n",
       "      <td>523.874192</td>\n",
       "      <td>483.580502</td>\n",
       "      <td>506.243005</td>\n",
       "      <td>506.243005</td>\n",
       "      <td>7.651589e+09</td>\n",
       "    </tr>\n",
       "    <tr>\n",
       "      <th>std</th>\n",
       "      <td>815.447289</td>\n",
       "      <td>847.466491</td>\n",
       "      <td>780.110901</td>\n",
       "      <td>818.223291</td>\n",
       "      <td>818.223291</td>\n",
       "      <td>1.082828e+10</td>\n",
       "    </tr>\n",
       "    <tr>\n",
       "      <th>min</th>\n",
       "      <td>0.431589</td>\n",
       "      <td>0.482988</td>\n",
       "      <td>0.420897</td>\n",
       "      <td>0.434829</td>\n",
       "      <td>0.434829</td>\n",
       "      <td>1.021280e+05</td>\n",
       "    </tr>\n",
       "    <tr>\n",
       "      <th>25%</th>\n",
       "      <td>15.396625</td>\n",
       "      <td>15.939850</td>\n",
       "      <td>14.291450</td>\n",
       "      <td>15.483300</td>\n",
       "      <td>15.483300</td>\n",
       "      <td>5.144278e+07</td>\n",
       "    </tr>\n",
       "    <tr>\n",
       "      <th>50%</th>\n",
       "      <td>208.800750</td>\n",
       "      <td>213.967026</td>\n",
       "      <td>202.311622</td>\n",
       "      <td>208.977218</td>\n",
       "      <td>208.977218</td>\n",
       "      <td>2.423995e+09</td>\n",
       "    </tr>\n",
       "    <tr>\n",
       "      <th>75%</th>\n",
       "      <td>447.946007</td>\n",
       "      <td>465.080513</td>\n",
       "      <td>431.290749</td>\n",
       "      <td>449.149490</td>\n",
       "      <td>449.149490</td>\n",
       "      <td>1.104452e+10</td>\n",
       "    </tr>\n",
       "    <tr>\n",
       "      <th>max</th>\n",
       "      <td>4174.635742</td>\n",
       "      <td>4362.350586</td>\n",
       "      <td>3868.994385</td>\n",
       "      <td>4168.701172</td>\n",
       "      <td>4168.701172</td>\n",
       "      <td>8.448291e+10</td>\n",
       "    </tr>\n",
       "  </tbody>\n",
       "</table>\n",
       "</div>"
      ],
      "text/plain": [
       "              Open         High          Low        Close    Adj Close  \\\n",
       "count  2262.000000  2262.000000  2262.000000  2262.000000  2262.000000   \n",
       "mean    504.643794   523.874192   483.580502   506.243005   506.243005   \n",
       "std     815.447289   847.466491   780.110901   818.223291   818.223291   \n",
       "min       0.431589     0.482988     0.420897     0.434829     0.434829   \n",
       "25%      15.396625    15.939850    14.291450    15.483300    15.483300   \n",
       "50%     208.800750   213.967026   202.311622   208.977218   208.977218   \n",
       "75%     447.946007   465.080513   431.290749   449.149490   449.149490   \n",
       "max    4174.635742  4362.350586  3868.994385  4168.701172  4168.701172   \n",
       "\n",
       "             Volume  \n",
       "count  2.262000e+03  \n",
       "mean   7.651589e+09  \n",
       "std    1.082828e+10  \n",
       "min    1.021280e+05  \n",
       "25%    5.144278e+07  \n",
       "50%    2.423995e+09  \n",
       "75%    1.104452e+10  \n",
       "max    8.448291e+10  "
      ]
     },
     "execution_count": 4,
     "metadata": {},
     "output_type": "execute_result"
    }
   ],
   "source": [
    "df.describe()"
   ]
  },
  {
   "cell_type": "code",
   "execution_count": 5,
   "metadata": {
    "execution": {
     "iopub.execute_input": "2021-10-21T08:15:37.815149Z",
     "iopub.status.busy": "2021-10-21T08:15:37.814546Z",
     "iopub.status.idle": "2021-10-21T08:15:37.821347Z",
     "shell.execute_reply": "2021-10-21T08:15:37.821864Z",
     "shell.execute_reply.started": "2021-10-21T08:14:49.728418Z"
    },
    "papermill": {
     "duration": 0.031698,
     "end_time": "2021-10-21T08:15:37.822029",
     "exception": false,
     "start_time": "2021-10-21T08:15:37.790331",
     "status": "completed"
    },
    "tags": []
   },
   "outputs": [
    {
     "data": {
      "text/plain": [
       "Date         0\n",
       "Open         5\n",
       "High         5\n",
       "Low          5\n",
       "Close        5\n",
       "Adj Close    5\n",
       "Volume       5\n",
       "dtype: int64"
      ]
     },
     "execution_count": 5,
     "metadata": {},
     "output_type": "execute_result"
    }
   ],
   "source": [
    "df.isnull().sum()"
   ]
  },
  {
   "cell_type": "code",
   "execution_count": 6,
   "metadata": {
    "execution": {
     "iopub.execute_input": "2021-10-21T08:15:37.868585Z",
     "iopub.status.busy": "2021-10-21T08:15:37.867942Z",
     "iopub.status.idle": "2021-10-21T08:15:37.878040Z",
     "shell.execute_reply": "2021-10-21T08:15:37.878832Z",
     "shell.execute_reply.started": "2021-10-21T08:14:49.741066Z"
    },
    "papermill": {
     "duration": 0.035734,
     "end_time": "2021-10-21T08:15:37.879065",
     "exception": false,
     "start_time": "2021-10-21T08:15:37.843331",
     "status": "completed"
    },
    "tags": []
   },
   "outputs": [
    {
     "name": "stdout",
     "output_type": "stream",
     "text": [
      "Data : \n",
      "            Date  Open  High  Low  Close  Adj Close  Volume\n",
      "1715  2020-04-17   NaN   NaN  NaN    NaN        NaN     NaN\n",
      "1890  2020-10-09   NaN   NaN  NaN    NaN        NaN     NaN\n",
      "1893  2020-10-12   NaN   NaN  NaN    NaN        NaN     NaN\n",
      "1894  2020-10-13   NaN   NaN  NaN    NaN        NaN     NaN\n",
      "2265  2021-10-19   NaN   NaN  NaN    NaN        NaN     NaN\n",
      "\n",
      "Size : 5\n"
     ]
    }
   ],
   "source": [
    "rows_with_NaN = df[df.isnull().any(axis=1)]\n",
    "print(f'Data : \\n{rows_with_NaN}')\n",
    "print(f'\\nSize : {len(rows_with_NaN)}')"
   ]
  },
  {
   "cell_type": "code",
   "execution_count": 7,
   "metadata": {
    "execution": {
     "iopub.execute_input": "2021-10-21T08:15:37.927045Z",
     "iopub.status.busy": "2021-10-21T08:15:37.926369Z",
     "iopub.status.idle": "2021-10-21T08:15:37.932097Z",
     "shell.execute_reply": "2021-10-21T08:15:37.932742Z",
     "shell.execute_reply.started": "2021-10-21T08:14:49.756061Z"
    },
    "papermill": {
     "duration": 0.031075,
     "end_time": "2021-10-21T08:15:37.932910",
     "exception": false,
     "start_time": "2021-10-21T08:15:37.901835",
     "status": "completed"
    },
    "tags": []
   },
   "outputs": [
    {
     "name": "stdout",
     "output_type": "stream",
     "text": [
      "['Open', 'High', 'Low', 'Close', 'Adj Close', 'Volume']\n"
     ]
    }
   ],
   "source": [
    "columns = list(df.columns)[1:]\n",
    "print(columns)"
   ]
  },
  {
   "cell_type": "code",
   "execution_count": 8,
   "metadata": {
    "execution": {
     "iopub.execute_input": "2021-10-21T08:15:37.980479Z",
     "iopub.status.busy": "2021-10-21T08:15:37.979849Z",
     "iopub.status.idle": "2021-10-21T08:15:37.988456Z",
     "shell.execute_reply": "2021-10-21T08:15:37.988965Z",
     "shell.execute_reply.started": "2021-10-21T08:14:49.762469Z"
    },
    "papermill": {
     "duration": 0.033735,
     "end_time": "2021-10-21T08:15:37.989158",
     "exception": false,
     "start_time": "2021-10-21T08:15:37.955423",
     "status": "completed"
    },
    "tags": []
   },
   "outputs": [],
   "source": [
    "for column in columns:\n",
    "    if(df[column].isnull().sum() > 0):\n",
    "        df[column].fillna(df[column].mean(), inplace=True)\n",
    "    else:\n",
    "        pass"
   ]
  },
  {
   "cell_type": "code",
   "execution_count": 9,
   "metadata": {
    "execution": {
     "iopub.execute_input": "2021-10-21T08:15:38.040384Z",
     "iopub.status.busy": "2021-10-21T08:15:38.039407Z",
     "iopub.status.idle": "2021-10-21T08:15:38.045347Z",
     "shell.execute_reply": "2021-10-21T08:15:38.045995Z",
     "shell.execute_reply.started": "2021-10-21T08:14:49.779000Z"
    },
    "papermill": {
     "duration": 0.033796,
     "end_time": "2021-10-21T08:15:38.046159",
     "exception": false,
     "start_time": "2021-10-21T08:15:38.012363",
     "status": "completed"
    },
    "tags": []
   },
   "outputs": [
    {
     "data": {
      "text/plain": [
       "Date         0\n",
       "Open         0\n",
       "High         0\n",
       "Low          0\n",
       "Close        0\n",
       "Adj Close    0\n",
       "Volume       0\n",
       "dtype: int64"
      ]
     },
     "execution_count": 9,
     "metadata": {},
     "output_type": "execute_result"
    }
   ],
   "source": [
    "df.isnull().sum()"
   ]
  },
  {
   "cell_type": "code",
   "execution_count": 10,
   "metadata": {
    "execution": {
     "iopub.execute_input": "2021-10-21T08:15:38.139536Z",
     "iopub.status.busy": "2021-10-21T08:15:38.138560Z",
     "iopub.status.idle": "2021-10-21T08:15:40.911002Z",
     "shell.execute_reply": "2021-10-21T08:15:40.911545Z",
     "shell.execute_reply.started": "2021-10-21T08:14:49.791689Z"
    },
    "papermill": {
     "duration": 2.79833,
     "end_time": "2021-10-21T08:15:40.911718",
     "exception": false,
     "start_time": "2021-10-21T08:15:38.113388",
     "status": "completed"
    },
    "tags": []
   },
   "outputs": [
    {
     "data": {
      "text/plain": [
       "<AxesSubplot:xlabel='Adj Close', ylabel='Count'>"
      ]
     },
     "execution_count": 10,
     "metadata": {},
     "output_type": "execute_result"
    },
    {
     "data": {
      "image/png": "[encoded data removed]",
      "text/plain": [
       "<Figure size 1440x720 with 6 Axes>"
      ]
     },
     "metadata": {
      "needs_background": "light"
     },
     "output_type": "display_data"
    }
   ],
   "source": [
    "import matplotlib.pyplot as plt\n",
    "import seaborn as sb\n",
    "\n",
    "plt.figure(figsize=(20,10))\n",
    "\n",
    "plt.subplot(2,3,1)\n",
    "sb.histplot(x=df.Volume,data=df, color='red')\n",
    "\n",
    "plt.subplot(2,3,2)\n",
    "sb.histplot(x=df.Open,data=df, color='blue')\n",
    "\n",
    "plt.subplot(2,3,3)\n",
    "sb.histplot(x=df.Low,data=df, color='purple')\n",
    "\n",
    "plt.subplot(2,3,4)\n",
    "sb.histplot(x=df.Close,data=df, color='violet')\n",
    "\n",
    "plt.subplot(2,3,5)\n",
    "sb.histplot(x=df.High,data=df, color='orange')\n",
    "\n",
    "plt.subplot(2,3,6)\n",
    "sb.histplot(x=df['Adj Close'],data=df, color='yellow')"
   ]
  },
  {
   "cell_type": "code",
   "execution_count": 11,
   "metadata": {
    "execution": {
     "iopub.execute_input": "2021-10-21T08:15:41.010899Z",
     "iopub.status.busy": "2021-10-21T08:15:41.009909Z",
     "iopub.status.idle": "2021-10-21T08:15:41.017425Z",
     "shell.execute_reply": "2021-10-21T08:15:41.017931Z",
     "shell.execute_reply.started": "2021-10-21T08:14:52.288852Z"
    },
    "papermill": {
     "duration": 0.034937,
     "end_time": "2021-10-21T08:15:41.018097",
     "exception": false,
     "start_time": "2021-10-21T08:15:40.983160",
     "status": "completed"
    },
    "tags": []
   },
   "outputs": [
    {
     "name": "stdout",
     "output_type": "stream",
     "text": [
      "Open : 2.45445268939209\n",
      "High : 2.4441756393610774\n",
      "Low : 2.468937465204794\n",
      "Close : 2.4511678979682254\n",
      "Adj Close : 2.4511678979682254\n",
      "Volume : 2.1852477132468007\n"
     ]
    }
   ],
   "source": [
    "for column in columns:\n",
    "    print(f'{column} : {df[column].skew()}')"
   ]
  },
  {
   "cell_type": "code",
   "execution_count": 12,
   "metadata": {
    "execution": {
     "iopub.execute_input": "2021-10-21T08:15:41.071667Z",
     "iopub.status.busy": "2021-10-21T08:15:41.070999Z",
     "iopub.status.idle": "2021-10-21T08:15:41.073343Z",
     "shell.execute_reply": "2021-10-21T08:15:41.073927Z",
     "shell.execute_reply.started": "2021-10-21T08:14:52.299154Z"
    },
    "papermill": {
     "duration": 0.031795,
     "end_time": "2021-10-21T08:15:41.074093",
     "exception": false,
     "start_time": "2021-10-21T08:15:41.042298",
     "status": "completed"
    },
    "tags": []
   },
   "outputs": [],
   "source": [
    "df_normalized = np.log(df.iloc[:,1:])"
   ]
  },
  {
   "cell_type": "code",
   "execution_count": 13,
   "metadata": {
    "execution": {
     "iopub.execute_input": "2021-10-21T08:15:41.127815Z",
     "iopub.status.busy": "2021-10-21T08:15:41.127145Z",
     "iopub.status.idle": "2021-10-21T08:15:42.277501Z",
     "shell.execute_reply": "2021-10-21T08:15:42.278010Z",
     "shell.execute_reply.started": "2021-10-21T08:14:52.309160Z"
    },
    "papermill": {
     "duration": 1.180068,
     "end_time": "2021-10-21T08:15:42.278178",
     "exception": false,
     "start_time": "2021-10-21T08:15:41.098110",
     "status": "completed"
    },
    "tags": []
   },
   "outputs": [
    {
     "data": {
      "text/plain": [
       "<AxesSubplot:xlabel='Adj Close', ylabel='Count'>"
      ]
     },
     "execution_count": 13,
     "metadata": {},
     "output_type": "execute_result"
    },
    {
     "data": {
      "image/png": "[encoded data removed]",
      "text/plain": [
       "<Figure size 1440x720 with 6 Axes>"
      ]
     },
     "metadata": {
      "needs_background": "light"
     },
     "output_type": "display_data"
    }
   ],
   "source": [
    "plt.figure(figsize=(20,10))\n",
    "\n",
    "plt.subplot(2,3,1)\n",
    "sb.histplot(x=df_normalized.Volume,data=df_normalized, color='red')\n",
    "\n",
    "plt.subplot(2,3,2)\n",
    "sb.histplot(x=df_normalized.Open,data=df_normalized, color='blue')\n",
    "\n",
    "plt.subplot(2,3,3)\n",
    "sb.histplot(x=df_normalized.Low,data=df_normalized, color='purple')\n",
    "\n",
    "plt.subplot(2,3,4)\n",
    "sb.histplot(x=df_normalized.Close,data=df_normalized, color='violet')\n",
    "\n",
    "plt.subplot(2,3,5)\n",
    "sb.histplot(x=df_normalized.High,data=df_normalized, color='orange')\n",
    "\n",
    "plt.subplot(2,3,6)\n",
    "sb.histplot(x=df_normalized['Adj Close'],data=df_normalized, color='yellow')"
   ]
  },
  {
   "cell_type": "code",
   "execution_count": 14,
   "metadata": {
    "execution": {
     "iopub.execute_input": "2021-10-21T08:15:42.386397Z",
     "iopub.status.busy": "2021-10-21T08:15:42.385780Z",
     "iopub.status.idle": "2021-10-21T08:15:42.396296Z",
     "shell.execute_reply": "2021-10-21T08:15:42.396823Z",
     "shell.execute_reply.started": "2021-10-21T08:14:53.364330Z"
    },
    "papermill": {
     "duration": 0.042057,
     "end_time": "2021-10-21T08:15:42.397005",
     "exception": false,
     "start_time": "2021-10-21T08:15:42.354948",
     "status": "completed"
    },
    "tags": []
   },
   "outputs": [
    {
     "data": {
      "text/html": [
       "<div>\n",
       "<style scoped>\n",
       "    .dataframe tbody tr th:only-of-type {\n",
       "        vertical-align: middle;\n",
       "    }\n",
       "\n",
       "    .dataframe tbody tr th {\n",
       "        vertical-align: top;\n",
       "    }\n",
       "\n",
       "    .dataframe thead th {\n",
       "        text-align: right;\n",
       "    }\n",
       "</style>\n",
       "<table border=\"1\" class=\"dataframe\">\n",
       "  <thead>\n",
       "    <tr style=\"text-align: right;\">\n",
       "      <th></th>\n",
       "      <th>Open</th>\n",
       "      <th>High</th>\n",
       "      <th>Low</th>\n",
       "      <th>Close</th>\n",
       "      <th>Adj Close</th>\n",
       "      <th>Volume</th>\n",
       "    </tr>\n",
       "  </thead>\n",
       "  <tbody>\n",
       "    <tr>\n",
       "      <th>Open</th>\n",
       "      <td>1.000000</td>\n",
       "      <td>0.999771</td>\n",
       "      <td>0.999636</td>\n",
       "      <td>0.999518</td>\n",
       "      <td>0.999518</td>\n",
       "      <td>0.921486</td>\n",
       "    </tr>\n",
       "    <tr>\n",
       "      <th>High</th>\n",
       "      <td>0.999771</td>\n",
       "      <td>1.000000</td>\n",
       "      <td>0.999503</td>\n",
       "      <td>0.999748</td>\n",
       "      <td>0.999748</td>\n",
       "      <td>0.922059</td>\n",
       "    </tr>\n",
       "    <tr>\n",
       "      <th>Low</th>\n",
       "      <td>0.999636</td>\n",
       "      <td>0.999503</td>\n",
       "      <td>1.000000</td>\n",
       "      <td>0.999760</td>\n",
       "      <td>0.999760</td>\n",
       "      <td>0.921310</td>\n",
       "    </tr>\n",
       "    <tr>\n",
       "      <th>Close</th>\n",
       "      <td>0.999518</td>\n",
       "      <td>0.999748</td>\n",
       "      <td>0.999760</td>\n",
       "      <td>1.000000</td>\n",
       "      <td>1.000000</td>\n",
       "      <td>0.921909</td>\n",
       "    </tr>\n",
       "    <tr>\n",
       "      <th>Adj Close</th>\n",
       "      <td>0.999518</td>\n",
       "      <td>0.999748</td>\n",
       "      <td>0.999760</td>\n",
       "      <td>1.000000</td>\n",
       "      <td>1.000000</td>\n",
       "      <td>0.921909</td>\n",
       "    </tr>\n",
       "    <tr>\n",
       "      <th>Volume</th>\n",
       "      <td>0.921486</td>\n",
       "      <td>0.922059</td>\n",
       "      <td>0.921310</td>\n",
       "      <td>0.921909</td>\n",
       "      <td>0.921909</td>\n",
       "      <td>1.000000</td>\n",
       "    </tr>\n",
       "  </tbody>\n",
       "</table>\n",
       "</div>"
      ],
      "text/plain": [
       "               Open      High       Low     Close  Adj Close    Volume\n",
       "Open       1.000000  0.999771  0.999636  0.999518   0.999518  0.921486\n",
       "High       0.999771  1.000000  0.999503  0.999748   0.999748  0.922059\n",
       "Low        0.999636  0.999503  1.000000  0.999760   0.999760  0.921310\n",
       "Close      0.999518  0.999748  0.999760  1.000000   1.000000  0.921909\n",
       "Adj Close  0.999518  0.999748  0.999760  1.000000   1.000000  0.921909\n",
       "Volume     0.921486  0.922059  0.921310  0.921909   0.921909  1.000000"
      ]
     },
     "execution_count": 14,
     "metadata": {},
     "output_type": "execute_result"
    }
   ],
   "source": [
    "correlation = df_normalized.corr()\n",
    "correlation"
   ]
  },
  {
   "cell_type": "code",
   "execution_count": 15,
   "metadata": {
    "execution": {
     "iopub.execute_input": "2021-10-21T08:15:42.453664Z",
     "iopub.status.busy": "2021-10-21T08:15:42.452692Z",
     "iopub.status.idle": "2021-10-21T08:15:43.017138Z",
     "shell.execute_reply": "2021-10-21T08:15:43.017760Z",
     "shell.execute_reply.started": "2021-10-21T08:14:53.380968Z"
    },
    "papermill": {
     "duration": 0.594428,
     "end_time": "2021-10-21T08:15:43.017936",
     "exception": false,
     "start_time": "2021-10-21T08:15:42.423508",
     "status": "completed"
    },
    "tags": []
   },
   "outputs": [
    {
     "data": {
      "text/plain": [
       "<AxesSubplot:>"
      ]
     },
     "execution_count": 15,
     "metadata": {},
     "output_type": "execute_result"
    },
    {
     "data": {
      "image/png": "[encoded data removed]",
      "text/plain": [
       "<Figure size 432x288 with 2 Axes>"
      ]
     },
     "metadata": {
      "needs_background": "light"
     },
     "output_type": "display_data"
    }
   ],
   "source": [
    "sb.heatmap(correlation, cmap=\"YlGnBu\", annot=True)"
   ]
  },
  {
   "cell_type": "code",
   "execution_count": 16,
   "metadata": {
    "execution": {
     "iopub.execute_input": "2021-10-21T08:15:43.080107Z",
     "iopub.status.busy": "2021-10-21T08:15:43.079356Z",
     "iopub.status.idle": "2021-10-21T08:15:43.081679Z",
     "shell.execute_reply": "2021-10-21T08:15:43.082188Z",
     "shell.execute_reply.started": "2021-10-21T08:14:53.921263Z"
    },
    "papermill": {
     "duration": 0.037104,
     "end_time": "2021-10-21T08:15:43.082361",
     "exception": false,
     "start_time": "2021-10-21T08:15:43.045257",
     "status": "completed"
    },
    "tags": []
   },
   "outputs": [],
   "source": [
    "x=df_normalized.drop(columns='Volume')\n",
    "y=df_normalized.Volume"
   ]
  },
  {
   "cell_type": "code",
   "execution_count": 17,
   "metadata": {
    "execution": {
     "iopub.execute_input": "2021-10-21T08:15:43.196164Z",
     "iopub.status.busy": "2021-10-21T08:15:43.195163Z",
     "iopub.status.idle": "2021-10-21T08:15:43.453883Z",
     "shell.execute_reply": "2021-10-21T08:15:43.453168Z",
     "shell.execute_reply.started": "2021-10-21T08:14:53.930389Z"
    },
    "papermill": {
     "duration": 0.288967,
     "end_time": "2021-10-21T08:15:43.454034",
     "exception": false,
     "start_time": "2021-10-21T08:15:43.165067",
     "status": "completed"
    },
    "tags": []
   },
   "outputs": [
    {
     "data": {
      "text/plain": [
       "LinearRegression()"
      ]
     },
     "execution_count": 17,
     "metadata": {},
     "output_type": "execute_result"
    }
   ],
   "source": [
    "from sklearn.linear_model import LinearRegression\n",
    "model=LinearRegression()\n",
    "model.fit(x,y)"
   ]
  },
  {
   "cell_type": "code",
   "execution_count": 18,
   "metadata": {
    "execution": {
     "iopub.execute_input": "2021-10-21T08:15:43.517564Z",
     "iopub.status.busy": "2021-10-21T08:15:43.516408Z",
     "iopub.status.idle": "2021-10-21T08:15:43.527986Z",
     "shell.execute_reply": "2021-10-21T08:15:43.529351Z",
     "shell.execute_reply.started": "2021-10-21T08:14:54.216221Z"
    },
    "papermill": {
     "duration": 0.0473,
     "end_time": "2021-10-21T08:15:43.529624",
     "exception": false,
     "start_time": "2021-10-21T08:15:43.482324",
     "status": "completed"
    },
    "tags": []
   },
   "outputs": [
    {
     "data": {
      "text/plain": [
       "0.8505316703701173"
      ]
     },
     "execution_count": 18,
     "metadata": {},
     "output_type": "execute_result"
    }
   ],
   "source": [
    "model.score(x,y)"
   ]
  },
  {
   "cell_type": "code",
   "execution_count": 19,
   "metadata": {
    "execution": {
     "iopub.execute_input": "2021-10-21T08:15:43.639853Z",
     "iopub.status.busy": "2021-10-21T08:15:43.639096Z",
     "iopub.status.idle": "2021-10-21T08:15:43.879496Z",
     "shell.execute_reply": "2021-10-21T08:15:43.879945Z",
     "shell.execute_reply.started": "2021-10-21T08:14:54.239459Z"
    },
    "papermill": {
     "duration": 0.297623,
     "end_time": "2021-10-21T08:15:43.880117",
     "exception": false,
     "start_time": "2021-10-21T08:15:43.582494",
     "status": "completed"
    },
    "tags": []
   },
   "outputs": [
    {
     "data": {
      "text/plain": [
       "RandomForestRegressor(n_estimators=10)"
      ]
     },
     "execution_count": 19,
     "metadata": {},
     "output_type": "execute_result"
    }
   ],
   "source": [
    "from sklearn.ensemble import RandomForestRegressor\n",
    "model1=RandomForestRegressor(n_estimators=10)\n",
    "model1.fit(x,y)"
   ]
  },
  {
   "cell_type": "code",
   "execution_count": 20,
   "metadata": {
    "execution": {
     "iopub.execute_input": "2021-10-21T08:15:43.941422Z",
     "iopub.status.busy": "2021-10-21T08:15:43.940682Z",
     "iopub.status.idle": "2021-10-21T08:15:43.951722Z",
     "shell.execute_reply": "2021-10-21T08:15:43.952332Z",
     "shell.execute_reply.started": "2021-10-21T08:14:54.468624Z"
    },
    "papermill": {
     "duration": 0.043156,
     "end_time": "2021-10-21T08:15:43.952501",
     "exception": false,
     "start_time": "2021-10-21T08:15:43.909345",
     "status": "completed"
    },
    "tags": []
   },
   "outputs": [
    {
     "data": {
      "text/plain": [
       "0.9879062833942168"
      ]
     },
     "execution_count": 20,
     "metadata": {},
     "output_type": "execute_result"
    }
   ],
   "source": [
    "model1.score(x,y)"
   ]
  }
 ],
 "metadata": {
  "kernelspec": {
   "display_name": "exp1",
   "language": "python",
   "name": "exp1"
  },
  "language_info": {
   "codemirror_mode": {
    "name": "ipython",
    "version": 3
   },
   "file_extension": ".py",
   "mimetype": "text/x-python",
   "name": "python",
   "nbconvert_exporter": "python",
   "pygments_lexer": "ipython3",
   "version": "3.6.13"
  },
  "papermill": {
   "default_parameters": {},
   "duration": 16.068011,
   "end_time": "2021-10-21T08:15:44.750142",
   "environment_variables": {},
   "exception": null,
   "input_path": "__notebook__.ipynb",
   "output_path": "__notebook__.ipynb",
   "parameters": {},
   "start_time": "2021-10-21T08:15:28.682131",
   "version": "2.3.3"
  }
 },
 "nbformat": 4,
 "nbformat_minor": 5
}
