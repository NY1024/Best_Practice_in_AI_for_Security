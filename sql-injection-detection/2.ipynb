{
 "cells": [
  {
   "cell_type": "code",
   "execution_count": 1,
   "metadata": {
    "_cell_guid": "b1076dfc-b9ad-4769-8c92-a6c4dae69d19",
    "_uuid": "8f2839f25d086af736a60e9eeb907d3b93b6e0e5",
    "execution": {
     "iopub.execute_input": "2022-09-22T13:15:40.025505Z",
     "iopub.status.busy": "2022-09-22T13:15:40.024747Z",
     "iopub.status.idle": "2022-09-22T13:15:48.400908Z",
     "shell.execute_reply": "2022-09-22T13:15:48.399787Z"
    },
    "id": "TVBsdTmJ683J",
    "papermill": {
     "duration": 8.387482,
     "end_time": "2022-09-22T13:15:48.403613",
     "exception": false,
     "start_time": "2022-09-22T13:15:40.016131",
     "status": "completed"
    },
    "tags": []
   },
   "outputs": [],
   "source": [
    "import numpy as np\n",
    "import pandas as pd\n",
    "import matplotlib.pyplot as plt\n",
    "from sklearn.feature_extraction.text import CountVectorizer\n",
    "from sklearn.model_selection import train_test_split\n",
    "from nltk.corpus import stopwords\n",
    "from sklearn.metrics import accuracy_score, f1_score\n",
    "from sklearn.linear_model import LogisticRegression\n",
    "from sklearn.ensemble import RandomForestClassifier\n",
    "from sklearn.svm import SVC\n",
    "from sklearn.naive_bayes import GaussianNB\n",
    "import tensorflow as tf\n",
    "from tensorflow.keras.utils import plot_model\n",
    "from sklearn import tree\n",
    "from tensorflow.keras import models, layers\n",
    "import warnings\n",
    "\n",
    "from sklearn.metrics import confusion_matrix, classification_report, f1_score, precision_score, recall_score, accuracy_score\n",
    "from sklearn.metrics import precision_recall_curve,precision_recall_fscore_support\n",
    "import seaborn as sns\n",
    "warnings.filterwarnings('ignore')"
   ]
  },
  {
   "cell_type": "code",
   "execution_count": 2,
   "metadata": {
    "execution": {
     "iopub.execute_input": "2022-09-22T13:15:48.433423Z",
     "iopub.status.busy": "2022-09-22T13:15:48.432770Z",
     "iopub.status.idle": "2022-09-22T13:15:48.496326Z",
     "shell.execute_reply": "2022-09-22T13:15:48.494789Z"
    },
    "id": "pwXfL2xxEwaM",
    "outputId": "bd7f74bc-e2c4-4dab-c2cc-271e3a0e3f74",
    "papermill": {
     "duration": 0.074488,
     "end_time": "2022-09-22T13:15:48.499149",
     "exception": false,
     "start_time": "2022-09-22T13:15:48.424661",
     "status": "completed"
    },
    "tags": []
   },
   "outputs": [
    {
     "name": "stdout",
     "output_type": "stream",
     "text": [
      "Data Shape: (4200, 2)\n"
     ]
    },
    {
     "data": {
      "text/html": [
       "<div>\n",
       "<style scoped>\n",
       "    .dataframe tbody tr th:only-of-type {\n",
       "        vertical-align: middle;\n",
       "    }\n",
       "\n",
       "    .dataframe tbody tr th {\n",
       "        vertical-align: top;\n",
       "    }\n",
       "\n",
       "    .dataframe thead th {\n",
       "        text-align: right;\n",
       "    }\n",
       "</style>\n",
       "<table border=\"1\" class=\"dataframe\">\n",
       "  <thead>\n",
       "    <tr style=\"text-align: right;\">\n",
       "      <th></th>\n",
       "      <th>Sentence</th>\n",
       "      <th>Label</th>\n",
       "    </tr>\n",
       "  </thead>\n",
       "  <tbody>\n",
       "    <tr>\n",
       "      <th>0</th>\n",
       "      <td>a</td>\n",
       "      <td>1</td>\n",
       "    </tr>\n",
       "    <tr>\n",
       "      <th>1</th>\n",
       "      <td>a'</td>\n",
       "      <td>1</td>\n",
       "    </tr>\n",
       "    <tr>\n",
       "      <th>2</th>\n",
       "      <td>a' --</td>\n",
       "      <td>1</td>\n",
       "    </tr>\n",
       "    <tr>\n",
       "      <th>3</th>\n",
       "      <td>a' or 1 = 1; --</td>\n",
       "      <td>1</td>\n",
       "    </tr>\n",
       "    <tr>\n",
       "      <th>4</th>\n",
       "      <td>@</td>\n",
       "      <td>1</td>\n",
       "    </tr>\n",
       "    <tr>\n",
       "      <th>5</th>\n",
       "      <td>?</td>\n",
       "      <td>1</td>\n",
       "    </tr>\n",
       "    <tr>\n",
       "      <th>6</th>\n",
       "      <td>' and 1 = 0 )  union all</td>\n",
       "      <td>1</td>\n",
       "    </tr>\n",
       "    <tr>\n",
       "      <th>7</th>\n",
       "      <td>? or 1 = 1 --</td>\n",
       "      <td>1</td>\n",
       "    </tr>\n",
       "    <tr>\n",
       "      <th>8</th>\n",
       "      <td>x' and userid is NULL; --</td>\n",
       "      <td>1</td>\n",
       "    </tr>\n",
       "    <tr>\n",
       "      <th>9</th>\n",
       "      <td>x' and email is NULL; --</td>\n",
       "      <td>1</td>\n",
       "    </tr>\n",
       "  </tbody>\n",
       "</table>\n",
       "</div>"
      ],
      "text/plain": [
       "                    Sentence  Label\n",
       "0                          a      1\n",
       "1                        a'       1\n",
       "2                      a' --      1\n",
       "3            a' or 1 = 1; --      1\n",
       "4                          @      1\n",
       "5                          ?      1\n",
       "6   ' and 1 = 0 )  union all      1\n",
       "7              ? or 1 = 1 --      1\n",
       "8  x' and userid is NULL; --      1\n",
       "9   x' and email is NULL; --      1"
      ]
     },
     "execution_count": 2,
     "metadata": {},
     "output_type": "execute_result"
    }
   ],
   "source": [
    "\n",
    "df = pd.read_csv(\"sqli.csv\", encoding='utf-16')\n",
    "print(\"Data Shape:\", df.shape)\n",
    "df.head(10)"
   ]
  },
  {
   "cell_type": "code",
   "execution_count": 3,
   "metadata": {
    "execution": {
     "iopub.execute_input": "2022-09-22T13:15:48.515453Z",
     "iopub.status.busy": "2022-09-22T13:15:48.515087Z",
     "iopub.status.idle": "2022-09-22T13:15:48.526525Z",
     "shell.execute_reply": "2022-09-22T13:15:48.525442Z"
    },
    "id": "B6OuxIyx683N",
    "outputId": "13d0213d-3e8a-444f-9c56-383a2f0fcbb8",
    "papermill": {
     "duration": 0.023098,
     "end_time": "2022-09-22T13:15:48.529702",
     "exception": false,
     "start_time": "2022-09-22T13:15:48.506604",
     "status": "completed"
    },
    "tags": []
   },
   "outputs": [
    {
     "name": "stdout",
     "output_type": "stream",
     "text": [
      "(4200,) (4200,)\n",
      "Dataset Input: \n",
      " 0                  a\n",
      "1                a' \n",
      "2              a' --\n",
      "3    a' or 1 = 1; --\n",
      "4                  @\n",
      "Name: Sentence, dtype: object\n",
      "Dataset Label: \n",
      " 0    1\n",
      "1    1\n",
      "2    1\n",
      "3    1\n",
      "4    1\n",
      "Name: Label, dtype: int64\n"
     ]
    }
   ],
   "source": [
    "X = df['Sentence']\n",
    "y = df['Label']\n",
    "print(X.shape, y.shape)\n",
    "print(\"Dataset Input:\", \"\\n\", X.head(5))\n",
    "print(\"Dataset Label:\", \"\\n\", y.head(5))"
   ]
  },
  {
   "cell_type": "code",
   "execution_count": 4,
   "metadata": {
    "execution": {
     "iopub.execute_input": "2022-09-22T13:15:48.546209Z",
     "iopub.status.busy": "2022-09-22T13:15:48.545819Z",
     "iopub.status.idle": "2022-09-22T13:15:48.952468Z",
     "shell.execute_reply": "2022-09-22T13:15:48.951490Z"
    },
    "id": "nNTZPR3jE3tX",
    "outputId": "9f1daf8a-f316-4525-a4fb-77ea5da1385a",
    "papermill": {
     "duration": 0.418052,
     "end_time": "2022-09-22T13:15:48.955172",
     "exception": false,
     "start_time": "2022-09-22T13:15:48.537120",
     "status": "completed"
    },
    "tags": []
   },
   "outputs": [],
   "source": [
    "import nltk\n",
    "#nltk.download('stopwords')\n",
    "from nltk.corpus import stopwords\n",
    "vectorizer = CountVectorizer(min_df = 2, max_df = 0.8, stop_words = stopwords.words('english'))\n",
    "X = vectorizer.fit_transform(X.values.astype('U')).toarray()"
   ]
  },
  {
   "cell_type": "code",
   "execution_count": 5,
   "metadata": {
    "execution": {
     "iopub.execute_input": "2022-09-22T13:15:48.972227Z",
     "iopub.status.busy": "2022-09-22T13:15:48.971841Z",
     "iopub.status.idle": "2022-09-22T13:15:49.072744Z",
     "shell.execute_reply": "2022-09-22T13:15:49.071098Z"
    },
    "id": "ab38XMjUE0ct",
    "outputId": "0c6fab19-1669-4aaa-f345-4938c73eaa04",
    "papermill": {
     "duration": 0.113037,
     "end_time": "2022-09-22T13:15:49.075863",
     "exception": false,
     "start_time": "2022-09-22T13:15:48.962826",
     "status": "completed"
    },
    "tags": []
   },
   "outputs": [
    {
     "name": "stdout",
     "output_type": "stream",
     "text": [
      "(3360, 4717)\n",
      "(3360,)\n",
      "(840, 4717)\n",
      "(840,)\n"
     ]
    }
   ],
   "source": [
    "X_train, X_test, y_train, y_test = train_test_split(X, y, test_size = 0.2)\n",
    "print(X_train.shape)\n",
    "print(y_train.shape)\n",
    "print(X_test.shape)\n",
    "print(y_test.shape)"
   ]
  },
  {
   "cell_type": "code",
   "execution_count": 6,
   "metadata": {
    "execution": {
     "iopub.execute_input": "2022-09-22T13:15:49.107765Z",
     "iopub.status.busy": "2022-09-22T13:15:49.107346Z",
     "iopub.status.idle": "2022-09-22T13:15:49.113172Z",
     "shell.execute_reply": "2022-09-22T13:15:49.111863Z"
    },
    "id": "4tRntf4etCpz",
    "papermill": {
     "duration": 0.028613,
     "end_time": "2022-09-22T13:15:49.115408",
     "exception": false,
     "start_time": "2022-09-22T13:15:49.086795",
     "status": "completed"
    },
    "tags": []
   },
   "outputs": [],
   "source": [
    "f1_dict = {}\n",
    "precision_dict = {}\n",
    "recall_dict = {}\n",
    "accuracy_dict = {}\n",
    "train_accuracy = {}\n",
    "validation_accuracy = {}\n",
    "test_accuracy = {}"
   ]
  },
  {
   "cell_type": "code",
   "execution_count": 7,
   "metadata": {
    "execution": {
     "iopub.execute_input": "2022-09-22T13:15:49.146863Z",
     "iopub.status.busy": "2022-09-22T13:15:49.146055Z",
     "iopub.status.idle": "2022-09-22T13:15:49.692941Z",
     "shell.execute_reply": "2022-09-22T13:15:49.691282Z"
    },
    "id": "hN1rIraz683Q",
    "outputId": "519666f4-03df-4fd3-f083-0eadb97d3a91",
    "papermill": {
     "duration": 0.562195,
     "end_time": "2022-09-22T13:15:49.699375",
     "exception": false,
     "start_time": "2022-09-22T13:15:49.137180",
     "status": "completed"
    },
    "tags": []
   },
   "outputs": [
    {
     "name": "stdout",
     "output_type": "stream",
     "text": [
      "Accuracy of Logistic Regression on test set : 0.9404761904761905\n",
      "F1 Score of Logistic Regression on test set : 0.8655913978494624\n",
      "CPU times: user 1.31 s, sys: 356 ms, total: 1.67 s\n",
      "Wall time: 534 ms\n"
     ]
    }
   ],
   "source": [
    "%%time\n",
    "lr_clf = LogisticRegression()\n",
    "y_pred_lr = lr_clf.fit(X_train, y_train)\n",
    "y_pred = y_pred_lr.predict(X_test)\n",
    "print(f\"Accuracy of Logistic Regression on test set : {accuracy_score(y_pred, y_test)}\")\n",
    "print(f\"F1 Score of Logistic Regression on test set : {f1_score(y_pred, y_test)}\")\n",
    "\n",
    "\n",
    "f1_dict[\"LogisticRegression\"] = f1_score(y_pred, y_test)\n",
    "precision_dict[\"LogisticRegression\"] = precision_score(y_pred, y_test)\n",
    "recall_dict[\"LogisticRegression\"] = recall_score(y_pred, y_test)\n",
    "accuracy_dict['LogisticRegression'] = accuracy_score(y_pred, y_test)"
   ]
  },
  {
   "cell_type": "code",
   "execution_count": 8,
   "metadata": {
    "execution": {
     "iopub.execute_input": "2022-09-22T13:15:49.778209Z",
     "iopub.status.busy": "2022-09-22T13:15:49.777471Z",
     "iopub.status.idle": "2022-09-22T13:15:58.042331Z",
     "shell.execute_reply": "2022-09-22T13:15:58.040648Z"
    },
    "id": "Ad6-zNAR683S",
    "outputId": "09aa79e3-35e0-4edb-cad0-171c04390326",
    "papermill": {
     "duration": 8.288326,
     "end_time": "2022-09-22T13:15:58.044785",
     "exception": false,
     "start_time": "2022-09-22T13:15:49.756459",
     "status": "completed"
    },
    "tags": []
   },
   "outputs": [
    {
     "name": "stdout",
     "output_type": "stream",
     "text": [
      "Accuracy of Random Forest on test set : 0.905952380952381\n",
      "F1 Score of Random Forest on test set : 0.8410462776659959\n",
      "CPU times: user 11.3 s, sys: 224 ms, total: 11.5 s\n",
      "Wall time: 11.3 s\n"
     ]
    }
   ],
   "source": [
    "%%time\n",
    "rf_clf = RandomForestClassifier()\n",
    "rf_clf.fit(X_train, y_train)\n",
    "y_pred = rf_clf.predict(X_test)\n",
    "print(f\"Accuracy of Random Forest on test set : {accuracy_score(y_pred, y_test)}\")\n",
    "print(f\"F1 Score of Random Forest on test set : {f1_score(y_pred, y_test)}\")\n",
    "\n",
    "f1_dict[\"RandomForest\"] = f1_score(y_pred, y_test)\n",
    "precision_dict[\"RandomForest\"] = precision_score(y_pred, y_test)\n",
    "recall_dict[\"RandomForest\"] = recall_score(y_pred, y_test)\n",
    "accuracy_dict['RandomForest'] = accuracy_score(y_pred, y_test)"
   ]
  },
  {
   "cell_type": "code",
   "execution_count": 9,
   "metadata": {
    "execution": {
     "iopub.execute_input": "2022-09-22T13:15:58.078231Z",
     "iopub.status.busy": "2022-09-22T13:15:58.077651Z",
     "iopub.status.idle": "2022-09-22T13:16:29.362036Z",
     "shell.execute_reply": "2022-09-22T13:16:29.360817Z"
    },
    "id": "BLbz8NpW683T",
    "outputId": "ab296a24-c57e-4202-eb3e-20540673215b",
    "papermill": {
     "duration": 31.304774,
     "end_time": "2022-09-22T13:16:29.372391",
     "exception": false,
     "start_time": "2022-09-22T13:15:58.067617",
     "status": "completed"
    },
    "tags": []
   },
   "outputs": [
    {
     "name": "stdout",
     "output_type": "stream",
     "text": [
      "Accuracy of SVM on test set : 0.8035714285714286\n",
      "F1 Score of SVM on test set : 0.34782608695652173\n",
      "CPU times: user 37.8 s, sys: 212 ms, total: 38 s\n",
      "Wall time: 38.1 s\n"
     ]
    }
   ],
   "source": [
    "%%time\n",
    "svm_clf = SVC(gamma = 'auto')\n",
    "svm_clf.fit(X_train, y_train)\n",
    "y_pred = svm_clf.predict(X_test)\n",
    "print(f\"Accuracy of SVM on test set : {accuracy_score(y_pred, y_test)}\")\n",
    "print(f\"F1 Score of SVM on test set : {f1_score(y_pred, y_test)}\")\n",
    "\n",
    "f1_dict[\"SVM\"] = f1_score(y_pred, y_test)\n",
    "precision_dict[\"SVM\"] = precision_score(y_pred, y_test)\n",
    "recall_dict[\"SVM\"] = recall_score(y_pred, y_test)\n",
    "accuracy_dict['SVM'] = accuracy_score(y_pred, y_test)"
   ]
  },
  {
   "cell_type": "code",
   "execution_count": 10,
   "metadata": {
    "execution": {
     "iopub.execute_input": "2022-09-22T13:16:29.405750Z",
     "iopub.status.busy": "2022-09-22T13:16:29.405310Z",
     "iopub.status.idle": "2022-09-22T13:16:29.754143Z",
     "shell.execute_reply": "2022-09-22T13:16:29.752500Z"
    },
    "id": "U0oiBYMU683V",
    "outputId": "aab99fe7-3c72-4692-f2fc-96cdcd6b2a1a",
    "papermill": {
     "duration": 0.361139,
     "end_time": "2022-09-22T13:16:29.756694",
     "exception": false,
     "start_time": "2022-09-22T13:16:29.395555",
     "status": "completed"
    },
    "tags": []
   },
   "outputs": [
    {
     "name": "stdout",
     "output_type": "stream",
     "text": [
      "Accuracy of Naive Bayes on test set : 0.9845238095238096\n",
      "F1 Score of Naive Bayes on test set : 0.9695550351288056\n",
      "CPU times: user 399 ms, sys: 180 ms, total: 579 ms\n",
      "Wall time: 603 ms\n"
     ]
    }
   ],
   "source": [
    "%%time\n",
    "nb_clf = GaussianNB()\n",
    "nb_clf.fit(X_train, y_train)\n",
    "y_pred = nb_clf.predict(X_test)\n",
    "print(f\"Accuracy of Naive Bayes on test set : {accuracy_score(y_pred, y_test)}\")\n",
    "print(f\"F1 Score of Naive Bayes on test set : {f1_score(y_pred, y_test)}\")\n",
    "\n",
    "f1_dict[\"NaiveBayes\"] = f1_score(y_pred, y_test)\n",
    "precision_dict[\"NaiveBayes\"] = precision_score(y_pred, y_test)\n",
    "recall_dict[\"NaiveBayes\"] = recall_score(y_pred, y_test)\n",
    "accuracy_dict['NaiveBayes'] = accuracy_score(y_pred, y_test)"
   ]
  },
  {
   "cell_type": "code",
   "execution_count": 11,
   "metadata": {
    "execution": {
     "iopub.execute_input": "2022-09-22T13:16:29.789552Z",
     "iopub.status.busy": "2022-09-22T13:16:29.789183Z",
     "iopub.status.idle": "2022-09-22T13:16:35.866140Z",
     "shell.execute_reply": "2022-09-22T13:16:35.864091Z"
    },
    "id": "t4zC42NwGSKe",
    "outputId": "5849f20f-7153-4746-bca0-223870cf1ab0",
    "papermill": {
     "duration": 6.089672,
     "end_time": "2022-09-22T13:16:35.869652",
     "exception": false,
     "start_time": "2022-09-22T13:16:29.779980",
     "status": "completed"
    },
    "tags": []
   },
   "outputs": [
    {
     "name": "stdout",
     "output_type": "stream",
     "text": [
      "Accuracy of Naive Bayes on test set : 0.8642857142857143\n",
      "F1 Score of Naive Bayes on test set : 0.7840909090909092\n",
      "CPU times: user 9.22 s, sys: 104 ms, total: 9.32 s\n",
      "Wall time: 9.33 s\n"
     ]
    }
   ],
   "source": [
    "%%time\n",
    "DT = tree.DecisionTreeClassifier()\n",
    "DT.fit(X_train, y_train)\n",
    "y_pred = DT.predict(X_test)\n",
    "print(f\"Accuracy of Naive Bayes on test set : {accuracy_score(y_pred, y_test)}\")\n",
    "print(f\"F1 Score of Naive Bayes on test set : {f1_score(y_pred, y_test)}\")\n",
    "\n",
    "\n",
    "f1_dict[\"DecisionTree\"] = f1_score(y_pred, y_test)\n",
    "precision_dict[\"DecisionTree\"] = precision_score(y_pred, y_test)\n",
    "recall_dict[\"DecisionTree\"] = recall_score(y_pred, y_test)\n",
    "accuracy_dict['DecisionTree'] = accuracy_score(y_pred, y_test)"
   ]
  },
  {
   "cell_type": "code",
   "execution_count": 12,
   "metadata": {
    "execution": {
     "iopub.execute_input": "2022-09-22T13:16:35.903154Z",
     "iopub.status.busy": "2022-09-22T13:16:35.902758Z",
     "iopub.status.idle": "2022-09-22T13:16:35.915394Z",
     "shell.execute_reply": "2022-09-22T13:16:35.914585Z"
    },
    "id": "Ympz9FOJMD2B",
    "papermill": {
     "duration": 0.024199,
     "end_time": "2022-09-22T13:16:35.917712",
     "exception": false,
     "start_time": "2022-09-22T13:16:35.893513",
     "status": "completed"
    },
    "tags": []
   },
   "outputs": [],
   "source": [
    "def plot_history(history):\n",
    "    history_dict = history.history\n",
    "    train_loss = history_dict['loss']    \n",
    "    val_loss = history_dict['val_loss']   \n",
    "    epochs = range(1, len(history_dict['loss'])+1)\n",
    "    plt.plot(epochs, train_loss,'b', label='Training error')\n",
    "    plt.plot(epochs, val_loss,'b', color=\"orange\", label='Validation error')\n",
    "    plt.title('Training and Validation Loss')\n",
    "    plt.xlabel('Epochs')\n",
    "    plt.ylabel('Loss')\n",
    "    plt.legend()\n",
    "    plt.show()\n",
    "\n",
    "def plot_historyAcc(history):\n",
    "    history_dict = history.history\n",
    "    train_acc = history_dict['acc']    \n",
    "    val_acc = history_dict['val_acc']   \n",
    "    epochs = range(1, len(history_dict['acc'])+1)\n",
    "    plt.plot(epochs, train_acc,'b', label='Training accuracy')\n",
    "    plt.plot(epochs, val_acc,'b', color=\"orange\", label='Validation accuracy')\n",
    "    plt.title('Training and Validation Accuracy')\n",
    "    plt.xlabel('Epochs')\n",
    "    plt.ylabel('Accuracy')\n",
    "    plt.legend()\n",
    "    plt.show()\n",
    "\n",
    "\n",
    "def plot_confusion_matrix(conf_matrix):    \n",
    "    fig, ax = plt.subplots(figsize=(7.5, 7.5))\n",
    "    ax.matshow(conf_matrix, cmap=plt.cm.Blues, alpha=0.3)\n",
    "    for i in range(conf_matrix.shape[0]):\n",
    "        for j in range(conf_matrix.shape[1]):\n",
    "            ax.text(x=j, y=i, s=conf_matrix[i, j], va='center', ha='center', size='xx-large')\n",
    "    \n",
    "    plt.xlabel('Predicted Value', fontsize=18)\n",
    "    plt.ylabel('Actual Value', fontsize=18)\n",
    "    plt.title('Confusion Matrix', fontsize=18)\n",
    "    plt.show()"
   ]
  },
  {
   "cell_type": "code",
   "execution_count": 13,
   "metadata": {
    "execution": {
     "iopub.execute_input": "2022-09-22T13:16:35.935386Z",
     "iopub.status.busy": "2022-09-22T13:16:35.934579Z",
     "iopub.status.idle": "2022-09-22T13:16:43.284594Z",
     "shell.execute_reply": "2022-09-22T13:16:43.283407Z"
    },
    "id": "ob1MU562683W",
    "outputId": "15a61dc0-5b8e-4a9b-d4e3-5f858892be38",
    "papermill": {
     "duration": 7.361911,
     "end_time": "2022-09-22T13:16:43.287322",
     "exception": false,
     "start_time": "2022-09-22T13:16:35.925411",
     "status": "completed"
    },
    "tags": []
   },
   "outputs": [
    {
     "name": "stdout",
     "output_type": "stream",
     "text": [
      "WARNING:tensorflow:From /root/anaconda3/envs/exp1/lib/python3.6/site-packages/tensorflow_core/python/ops/resource_variable_ops.py:1630: calling BaseResourceVariable.__init__ (from tensorflow.python.ops.resource_variable_ops) with constraint is deprecated and will be removed in a future version.\n",
      "Instructions for updating:\n",
      "If using Keras pass *_constraint arguments to layers.\n",
      "Model: \"sequential\"\n",
      "_________________________________________________________________\n",
      "Layer (type)                 Output Shape              Param #   \n",
      "=================================================================\n",
      "conv1d (Conv1D)              (None, 1, 32)             150976    \n",
      "_________________________________________________________________\n",
      "conv1d_1 (Conv1D)            (None, 1, 32)             1056      \n",
      "_________________________________________________________________\n",
      "flatten (Flatten)            (None, 32)                0         \n",
      "_________________________________________________________________\n",
      "dense (Dense)                (None, 1)                 33        \n",
      "=================================================================\n",
      "Total params: 152,065\n",
      "Trainable params: 152,065\n",
      "Non-trainable params: 0\n",
      "_________________________________________________________________\n",
      "WARNING:tensorflow:From /root/anaconda3/envs/exp1/lib/python3.6/site-packages/tensorflow_core/python/ops/nn_impl.py:183: where (from tensorflow.python.ops.array_ops) is deprecated and will be removed in a future version.\n",
      "Instructions for updating:\n",
      "Use tf.where in 2.0, which has the same broadcast rule as np.where\n",
      "Train on 3360 samples, validate on 840 samples\n",
      "Epoch 1/10\n",
      "3360/3360 [==============================] - 1s 406us/sample - loss: 0.4265 - acc: 0.7923 - val_loss: 0.1931 - val_acc: 0.9131\n",
      "Epoch 2/10\n",
      "3360/3360 [==============================] - 1s 162us/sample - loss: 0.1300 - acc: 0.9583 - val_loss: 0.0793 - val_acc: 0.9845\n",
      "Epoch 3/10\n",
      "3360/3360 [==============================] - 1s 155us/sample - loss: 0.0701 - acc: 0.9792 - val_loss: 0.0585 - val_acc: 0.9845\n",
      "Epoch 4/10\n",
      "3360/3360 [==============================] - 1s 151us/sample - loss: 0.0570 - acc: 0.9801 - val_loss: 0.0513 - val_acc: 0.9821\n",
      "Epoch 5/10\n",
      "3360/3360 [==============================] - 1s 169us/sample - loss: 0.0520 - acc: 0.9801 - val_loss: 0.0493 - val_acc: 0.9821\n",
      "Epoch 6/10\n",
      "3360/3360 [==============================] - 0s 111us/sample - loss: 0.0499 - acc: 0.9807 - val_loss: 0.0466 - val_acc: 0.9821\n",
      "Epoch 7/10\n",
      "3360/3360 [==============================] - 0s 134us/sample - loss: 0.0487 - acc: 0.9810 - val_loss: 0.0458 - val_acc: 0.9821\n",
      "Epoch 8/10\n",
      "3360/3360 [==============================] - 0s 132us/sample - loss: 0.0485 - acc: 0.9810 - val_loss: 0.0454 - val_acc: 0.9821\n",
      "Epoch 9/10\n",
      "3360/3360 [==============================] - 0s 117us/sample - loss: 0.0476 - acc: 0.9810 - val_loss: 0.0444 - val_acc: 0.9845\n",
      "Epoch 10/10\n",
      "3360/3360 [==============================] - 0s 115us/sample - loss: 0.0479 - acc: 0.9810 - val_loss: 0.0493 - val_acc: 0.9810\n",
      "CPU times: user 6.32 s, sys: 422 ms, total: 6.74 s\n",
      "Wall time: 6.93 s\n"
     ]
    }
   ],
   "source": [
    "%%time\n",
    "model = models.Sequential()\n",
    "model.add(layers.Conv1D(32, 1, activation = 'relu', input_shape = (1,4717)))\n",
    "model.add(layers.Conv1D(32, 1, activation = 'relu'))\n",
    "model.add(layers.Flatten())\n",
    "model.add(layers.Dense(1, activation = 'sigmoid'))\n",
    "model.summary()\n",
    "model.compile(optimizer = 'adam', loss = tf.keras.losses.BinaryCrossentropy(), metrics = ['accuracy'])\n",
    "\n",
    "X_train1 = X_train.reshape(-1, 1, 4717)\n",
    "X_test1 = X_test.reshape(-1, 1, 4717)\n",
    "\n",
    "history = model.fit(X_train1, y_train, epochs = 10, validation_data = (X_test1, y_test))"
   ]
  },
  {
   "cell_type": "code",
   "execution_count": 14,
   "metadata": {
    "execution": {
     "iopub.execute_input": "2022-09-22T13:16:43.320313Z",
     "iopub.status.busy": "2022-09-22T13:16:43.319923Z",
     "iopub.status.idle": "2022-09-22T13:16:43.568343Z",
     "shell.execute_reply": "2022-09-22T13:16:43.567502Z"
    },
    "id": "rO6xSeVL683W",
    "outputId": "ec0c71e1-10cc-42e9-ebba-310a09a2bf50",
    "papermill": {
     "duration": 0.267139,
     "end_time": "2022-09-22T13:16:43.570492",
     "exception": false,
     "start_time": "2022-09-22T13:16:43.303353",
     "status": "completed"
    },
    "tags": []
   },
   "outputs": [
    {
     "name": "stdout",
     "output_type": "stream",
     "text": [
      "Accuracy of CNN on test set : 0.9809523809523809\n",
      "F1 Score of CNN on test set : 0.9631336405529953\n"
     ]
    }
   ],
   "source": [
    "y_pred = model.predict(X_test1).flatten()\n",
    "y_pred = np.round(y_pred)\n",
    "print(f\"Accuracy of CNN on test set : {accuracy_score(y_pred, y_test)}\")\n",
    "print(f\"F1 Score of CNN on test set : {f1_score(y_pred, y_test)}\")\n",
    "\n",
    "\n",
    "f1_dict[\"CNN\"] = f1_score(y_pred, y_test)\n",
    "precision_dict[\"CNN\"] = precision_score(y_pred, y_test)\n",
    "recall_dict[\"CNN\"] = recall_score(y_pred, y_test)\n",
    "accuracy_dict['CNN'] = accuracy_score(y_pred, y_test)"
   ]
  },
  {
   "cell_type": "code",
   "execution_count": 16,
   "metadata": {
    "execution": {
     "iopub.execute_input": "2022-09-22T13:16:44.841834Z",
     "iopub.status.busy": "2022-09-22T13:16:44.841380Z",
     "iopub.status.idle": "2022-09-22T13:16:45.326312Z",
     "shell.execute_reply": "2022-09-22T13:16:45.325168Z"
    },
    "id": "2fQh_rQwPuSK",
    "outputId": "dddbcce8-7a53-4436-ed1a-c54d80ac5983",
    "papermill": {
     "duration": 0.505149,
     "end_time": "2022-09-22T13:16:45.328616",
     "exception": false,
     "start_time": "2022-09-22T13:16:44.823467",
     "status": "completed"
    },
    "tags": []
   },
   "outputs": [
    {
     "data": {
      "image/png": "[encoded data removed]",
      "text/plain": [
       "<Figure size 432x288 with 1 Axes>"
      ]
     },
     "metadata": {
      "needs_background": "light"
     },
     "output_type": "display_data"
    },
    {
     "data": {
      "image/png": "[encoded data removed]",
      "text/plain": [
       "<Figure size 432x288 with 1 Axes>"
      ]
     },
     "metadata": {
      "needs_background": "light"
     },
     "output_type": "display_data"
    }
   ],
   "source": [
    "plot_history(history)\n",
    "plot_historyAcc(history)"
   ]
  },
  {
   "cell_type": "code",
   "execution_count": 17,
   "metadata": {
    "execution": {
     "iopub.execute_input": "2022-09-22T13:16:45.363799Z",
     "iopub.status.busy": "2022-09-22T13:16:45.363374Z",
     "iopub.status.idle": "2022-09-22T13:16:45.666145Z",
     "shell.execute_reply": "2022-09-22T13:16:45.664583Z"
    },
    "id": "V0gGM_eashkp",
    "outputId": "e63bd819-a188-4df6-8a23-c62b2fc4d48c",
    "papermill": {
     "duration": 0.324799,
     "end_time": "2022-09-22T13:16:45.670275",
     "exception": false,
     "start_time": "2022-09-22T13:16:45.345476",
     "status": "completed"
    },
    "tags": []
   },
   "outputs": [
    {
     "data": {
      "image/png": "[encoded data removed]",
      "text/plain": [
       "<Figure size 540x540 with 1 Axes>"
      ]
     },
     "metadata": {
      "needs_background": "light"
     },
     "output_type": "display_data"
    },
    {
     "name": "stdout",
     "output_type": "stream",
     "text": [
      "               precision    recall  f1-score   support\n",
      "\n",
      "Non-Intrusion       1.00      0.97      0.99       631\n",
      "    Intrusion       0.93      1.00      0.96       209\n",
      "\n",
      "     accuracy                           0.98       840\n",
      "    macro avg       0.96      0.99      0.98       840\n",
      " weighted avg       0.98      0.98      0.98       840\n",
      "\n"
     ]
    }
   ],
   "source": [
    "conf_matrix_model = confusion_matrix(y_test, y_pred)\n",
    "plot_confusion_matrix(conf_matrix_model)\n",
    "print(classification_report(y_test, y_pred, target_names=[\"Non-Intrusion\", \"Intrusion\"]))"
   ]
  },
  {
   "cell_type": "code",
   "execution_count": 18,
   "metadata": {
    "execution": {
     "iopub.execute_input": "2022-09-22T13:16:45.740591Z",
     "iopub.status.busy": "2022-09-22T13:16:45.739712Z",
     "iopub.status.idle": "2022-09-22T13:16:45.756882Z",
     "shell.execute_reply": "2022-09-22T13:16:45.755986Z"
    },
    "id": "1KwQysSpT0wL",
    "outputId": "8576f88b-979b-483a-fb23-241b1ecf436f",
    "papermill": {
     "duration": 0.03758,
     "end_time": "2022-09-22T13:16:45.759138",
     "exception": false,
     "start_time": "2022-09-22T13:16:45.721558",
     "status": "completed"
    },
    "tags": []
   },
   "outputs": [
    {
     "data": {
      "text/html": [
       "<div>\n",
       "<style scoped>\n",
       "    .dataframe tbody tr th:only-of-type {\n",
       "        vertical-align: middle;\n",
       "    }\n",
       "\n",
       "    .dataframe tbody tr th {\n",
       "        vertical-align: top;\n",
       "    }\n",
       "\n",
       "    .dataframe thead th {\n",
       "        text-align: right;\n",
       "    }\n",
       "</style>\n",
       "<table border=\"1\" class=\"dataframe\">\n",
       "  <thead>\n",
       "    <tr style=\"text-align: right;\">\n",
       "      <th></th>\n",
       "      <th>LogisticRegression</th>\n",
       "      <th>RandomForest</th>\n",
       "      <th>SVM</th>\n",
       "      <th>NaiveBayes</th>\n",
       "      <th>DecisionTree</th>\n",
       "      <th>CNN</th>\n",
       "    </tr>\n",
       "  </thead>\n",
       "  <tbody>\n",
       "    <tr>\n",
       "      <th>F1_Score</th>\n",
       "      <td>0.865591</td>\n",
       "      <td>0.841046</td>\n",
       "      <td>0.347826</td>\n",
       "      <td>0.969555</td>\n",
       "      <td>0.784091</td>\n",
       "      <td>0.963134</td>\n",
       "    </tr>\n",
       "    <tr>\n",
       "      <th>Precision</th>\n",
       "      <td>0.770335</td>\n",
       "      <td>1.000000</td>\n",
       "      <td>0.210526</td>\n",
       "      <td>0.990431</td>\n",
       "      <td>0.990431</td>\n",
       "      <td>1.000000</td>\n",
       "    </tr>\n",
       "    <tr>\n",
       "      <th>Recall</th>\n",
       "      <td>0.987730</td>\n",
       "      <td>0.725694</td>\n",
       "      <td>1.000000</td>\n",
       "      <td>0.949541</td>\n",
       "      <td>0.648903</td>\n",
       "      <td>0.928889</td>\n",
       "    </tr>\n",
       "    <tr>\n",
       "      <th>Accuracy</th>\n",
       "      <td>0.940476</td>\n",
       "      <td>0.905952</td>\n",
       "      <td>0.803571</td>\n",
       "      <td>0.984524</td>\n",
       "      <td>0.864286</td>\n",
       "      <td>0.980952</td>\n",
       "    </tr>\n",
       "  </tbody>\n",
       "</table>\n",
       "</div>"
      ],
      "text/plain": [
       "           LogisticRegression  RandomForest       SVM  NaiveBayes  \\\n",
       "F1_Score             0.865591      0.841046  0.347826    0.969555   \n",
       "Precision            0.770335      1.000000  0.210526    0.990431   \n",
       "Recall               0.987730      0.725694  1.000000    0.949541   \n",
       "Accuracy             0.940476      0.905952  0.803571    0.984524   \n",
       "\n",
       "           DecisionTree       CNN  \n",
       "F1_Score       0.784091  0.963134  \n",
       "Precision      0.990431  1.000000  \n",
       "Recall         0.648903  0.928889  \n",
       "Accuracy       0.864286  0.980952  "
      ]
     },
     "execution_count": 18,
     "metadata": {},
     "output_type": "execute_result"
    }
   ],
   "source": [
    "keys2 = f1_dict, precision_dict, recall_dict, accuracy_dict\n",
    "metrics = ['F1_Score', 'Precision', 'Recall', 'Accuracy']\n",
    "data = pd.DataFrame(keys2)\n",
    "data.index = metrics\n",
    "data"
   ]
  },
  {
   "cell_type": "code",
   "execution_count": 19,
   "metadata": {
    "execution": {
     "iopub.execute_input": "2022-09-22T13:16:45.794794Z",
     "iopub.status.busy": "2022-09-22T13:16:45.794316Z",
     "iopub.status.idle": "2022-09-22T13:16:46.138741Z",
     "shell.execute_reply": "2022-09-22T13:16:46.137884Z"
    },
    "id": "V7s1MQ3nT0ss",
    "outputId": "0261f05b-f70b-4df5-c3ff-60e30a3ff732",
    "papermill": {
     "duration": 0.365554,
     "end_time": "2022-09-22T13:16:46.141527",
     "exception": false,
     "start_time": "2022-09-22T13:16:45.775973",
     "status": "completed"
    },
    "tags": []
   },
   "outputs": [
    {
     "data": {
      "image/png": "[encoded data removed]",
      "text/plain": [
       "<Figure size 1080x504 with 1 Axes>"
      ]
     },
     "metadata": {
      "needs_background": "light"
     },
     "output_type": "display_data"
    }
   ],
   "source": [
    "result = data.plot(kind='bar', rot=0, figsize=(15, 7));\n",
    "result.legend(bbox_to_anchor=(1, 1.02), loc='upper left');"
   ]
  }
 ],
 "metadata": {
  "kernelspec": {
   "display_name": "exp1",
   "language": "python",
   "name": "exp1"
  },
  "language_info": {
   "codemirror_mode": {
    "name": "ipython",
    "version": 3
   },
   "file_extension": ".py",
   "mimetype": "text/x-python",
   "name": "python",
   "nbconvert_exporter": "python",
   "pygments_lexer": "ipython3",
   "version": "3.6.13"
  },
  "papermill": {
   "default_parameters": {},
   "duration": 78.228267,
   "end_time": "2022-09-22T13:16:48.824915",
   "environment_variables": {},
   "exception": null,
   "input_path": "__notebook__.ipynb",
   "output_path": "__notebook__.ipynb",
   "parameters": {},
   "start_time": "2022-09-22T13:15:30.596648",
   "version": "2.3.4"
  }
 },
 "nbformat": 4,
 "nbformat_minor": 5
}
