{
 "cells": [
  {
   "cell_type": "code",
   "execution_count": 1,
   "metadata": {
    "execution": {
     "iopub.execute_input": "2022-11-10T04:22:58.353235Z",
     "iopub.status.busy": "2022-11-10T04:22:58.352315Z",
     "iopub.status.idle": "2022-11-10T04:23:00.936444Z",
     "shell.execute_reply": "2022-11-10T04:23:00.935193Z"
    },
    "papermill": {
     "duration": 2.664998,
     "end_time": "2022-11-10T04:23:00.939539",
     "exception": false,
     "start_time": "2022-11-10T04:22:58.274541",
     "status": "completed"
    },
    "tags": []
   },
   "outputs": [
    {
     "data": {
      "text/html": [
       "<style>div.output_scroll { height: 35em; }</style>"
      ],
      "text/plain": [
       "<IPython.core.display.HTML object>"
      ]
     },
     "metadata": {},
     "output_type": "display_data"
    }
   ],
   "source": [
    "import numpy as np\n",
    "import pandas as pd\n",
    "\n",
    "from IPython.core.display import display, HTML\n",
    "import plotly.graph_objects as go\n",
    "import plotly.express as px\n",
    "from plotly.subplots import make_subplots\n",
    "import plotly.io as pio\n",
    "\n",
    "\n",
    "import seaborn as sns\n",
    "from importlib import reload\n",
    "import matplotlib.pyplot as plt\n",
    "import matplotlib\n",
    "import warnings\n",
    "\n",
    "\n",
    "pd.set_option('display.max_columns', None) \n",
    "pd.set_option('display.max_rows', 500) \n",
    "pd.set_option('display.expand_frame_repr', False)\n",
    "\n",
    "display(HTML(\"<style>div.output_scroll { height: 35em; }</style>\"))\n",
    "\n",
    "reload(plt)\n",
    "%matplotlib inline\n",
    "%config InlineBackend.figure_format ='retina'\n",
    "\n",
    "warnings.filterwarnings('ignore')\n",
    "\n",
    "\n",
    "pio.renderers.default = 'iframe'\n",
    "\n",
    "\n",
    "pio.templates[\"ck_template\"] = go.layout.Template(\n",
    "    layout_colorway = px.colors.sequential.Viridis, \n",
    "\n",
    "    layout_autosize=False,\n",
    "    layout_width=800,\n",
    "    layout_height=600,\n",
    "    layout_font = dict(family=\"Calibri Light\"),\n",
    "    layout_title_font = dict(family=\"Calibri\"),\n",
    "    layout_hoverlabel_font = dict(family=\"Calibri Light\"),\n",
    "\n",
    ")\n",
    " \n",
    "\n",
    "pio.templates.default = 'ck_template+gridon'\n"
   ]
  },
  {
   "cell_type": "code",
   "execution_count": 2,
   "metadata": {
    "execution": {
     "iopub.execute_input": "2022-11-10T04:23:01.094104Z",
     "iopub.status.busy": "2022-11-10T04:23:01.093735Z",
     "iopub.status.idle": "2022-11-10T04:23:01.729003Z",
     "shell.execute_reply": "2022-11-10T04:23:01.727892Z"
    },
    "papermill": {
     "duration": 0.71496,
     "end_time": "2022-11-10T04:23:01.731686",
     "exception": false,
     "start_time": "2022-11-10T04:23:01.016726",
     "status": "completed"
    },
    "tags": []
   },
   "outputs": [],
   "source": [
    "df = pd.read_csv('UNSW_NB15_training-set.csv')"
   ]
  },
  {
   "cell_type": "code",
   "execution_count": 3,
   "metadata": {
    "execution": {
     "iopub.execute_input": "2022-11-10T04:23:01.884881Z",
     "iopub.status.busy": "2022-11-10T04:23:01.884413Z",
     "iopub.status.idle": "2022-11-10T04:23:02.089710Z",
     "shell.execute_reply": "2022-11-10T04:23:02.088523Z"
    },
    "papermill": {
     "duration": 0.285173,
     "end_time": "2022-11-10T04:23:02.092375",
     "exception": false,
     "start_time": "2022-11-10T04:23:01.807202",
     "status": "completed"
    },
    "tags": []
   },
   "outputs": [
    {
     "name": "stdout",
     "output_type": "stream",
     "text": [
      "<class 'pandas.core.frame.DataFrame'>\n",
      "RangeIndex: 82332 entries, 0 to 82331\n",
      "Data columns (total 45 columns):\n",
      " #   Column             Non-Null Count  Dtype  \n",
      "---  ------             --------------  -----  \n",
      " 0   id                 82332 non-null  int64  \n",
      " 1   dur                82332 non-null  float64\n",
      " 2   proto              82332 non-null  object \n",
      " 3   service            82332 non-null  object \n",
      " 4   state              82332 non-null  object \n",
      " 5   spkts              82332 non-null  int64  \n",
      " 6   dpkts              82332 non-null  int64  \n",
      " 7   sbytes             82332 non-null  int64  \n",
      " 8   dbytes             82332 non-null  int64  \n",
      " 9   rate               82332 non-null  float64\n",
      " 10  sttl               82332 non-null  int64  \n",
      " 11  dttl               82332 non-null  int64  \n",
      " 12  sload              82332 non-null  float64\n",
      " 13  dload              82332 non-null  float64\n",
      " 14  sloss              82332 non-null  int64  \n",
      " 15  dloss              82332 non-null  int64  \n",
      " 16  sinpkt             82332 non-null  float64\n",
      " 17  dinpkt             82332 non-null  float64\n",
      " 18  sjit               82332 non-null  float64\n",
      " 19  djit               82332 non-null  float64\n",
      " 20  swin               82332 non-null  int64  \n",
      " 21  stcpb              82332 non-null  int64  \n",
      " 22  dtcpb              82332 non-null  int64  \n",
      " 23  dwin               82332 non-null  int64  \n",
      " 24  tcprtt             82332 non-null  float64\n",
      " 25  synack             82332 non-null  float64\n",
      " 26  ackdat             82332 non-null  float64\n",
      " 27  smean              82332 non-null  int64  \n",
      " 28  dmean              82332 non-null  int64  \n",
      " 29  trans_depth        82332 non-null  int64  \n",
      " 30  response_body_len  82332 non-null  int64  \n",
      " 31  ct_srv_src         82332 non-null  int64  \n",
      " 32  ct_state_ttl       82332 non-null  int64  \n",
      " 33  ct_dst_ltm         82332 non-null  int64  \n",
      " 34  ct_src_dport_ltm   82332 non-null  int64  \n",
      " 35  ct_dst_sport_ltm   82332 non-null  int64  \n",
      " 36  ct_dst_src_ltm     82332 non-null  int64  \n",
      " 37  is_ftp_login       82332 non-null  int64  \n",
      " 38  ct_ftp_cmd         82332 non-null  int64  \n",
      " 39  ct_flw_http_mthd   82332 non-null  int64  \n",
      " 40  ct_src_ltm         82332 non-null  int64  \n",
      " 41  ct_srv_dst         82332 non-null  int64  \n",
      " 42  is_sm_ips_ports    82332 non-null  int64  \n",
      " 43  attack_cat         82332 non-null  object \n",
      " 44  label              82332 non-null  int64  \n",
      "dtypes: float64(11), int64(30), object(4)\n",
      "memory usage: 28.3+ MB\n"
     ]
    }
   ],
   "source": [
    "df.info()"
   ]
  },
  {
   "cell_type": "code",
   "execution_count": 4,
   "metadata": {
    "execution": {
     "iopub.execute_input": "2022-11-10T04:23:02.254554Z",
     "iopub.status.busy": "2022-11-10T04:23:02.252024Z",
     "iopub.status.idle": "2022-11-10T04:23:02.316678Z",
     "shell.execute_reply": "2022-11-10T04:23:02.315811Z"
    },
    "papermill": {
     "duration": 0.158352,
     "end_time": "2022-11-10T04:23:02.328144",
     "exception": false,
     "start_time": "2022-11-10T04:23:02.169792",
     "status": "completed"
    },
    "tags": []
   },
   "outputs": [
    {
     "data": {
      "text/html": [
       "<div>\n",
       "<style scoped>\n",
       "    .dataframe tbody tr th:only-of-type {\n",
       "        vertical-align: middle;\n",
       "    }\n",
       "\n",
       "    .dataframe tbody tr th {\n",
       "        vertical-align: top;\n",
       "    }\n",
       "\n",
       "    .dataframe thead th {\n",
       "        text-align: right;\n",
       "    }\n",
       "</style>\n",
       "<table border=\"1\" class=\"dataframe\">\n",
       "  <thead>\n",
       "    <tr style=\"text-align: right;\">\n",
       "      <th></th>\n",
       "      <th>id</th>\n",
       "      <th>dur</th>\n",
       "      <th>proto</th>\n",
       "      <th>service</th>\n",
       "      <th>state</th>\n",
       "      <th>spkts</th>\n",
       "      <th>dpkts</th>\n",
       "      <th>sbytes</th>\n",
       "      <th>dbytes</th>\n",
       "      <th>rate</th>\n",
       "      <th>sttl</th>\n",
       "      <th>dttl</th>\n",
       "      <th>sload</th>\n",
       "      <th>dload</th>\n",
       "      <th>sloss</th>\n",
       "      <th>dloss</th>\n",
       "      <th>sinpkt</th>\n",
       "      <th>dinpkt</th>\n",
       "      <th>sjit</th>\n",
       "      <th>djit</th>\n",
       "      <th>swin</th>\n",
       "      <th>stcpb</th>\n",
       "      <th>dtcpb</th>\n",
       "      <th>dwin</th>\n",
       "      <th>tcprtt</th>\n",
       "      <th>synack</th>\n",
       "      <th>ackdat</th>\n",
       "      <th>smean</th>\n",
       "      <th>dmean</th>\n",
       "      <th>trans_depth</th>\n",
       "      <th>response_body_len</th>\n",
       "      <th>ct_srv_src</th>\n",
       "      <th>ct_state_ttl</th>\n",
       "      <th>ct_dst_ltm</th>\n",
       "      <th>ct_src_dport_ltm</th>\n",
       "      <th>ct_dst_sport_ltm</th>\n",
       "      <th>ct_dst_src_ltm</th>\n",
       "      <th>is_ftp_login</th>\n",
       "      <th>ct_ftp_cmd</th>\n",
       "      <th>ct_flw_http_mthd</th>\n",
       "      <th>ct_src_ltm</th>\n",
       "      <th>ct_srv_dst</th>\n",
       "      <th>is_sm_ips_ports</th>\n",
       "      <th>attack_cat</th>\n",
       "      <th>label</th>\n",
       "    </tr>\n",
       "  </thead>\n",
       "  <tbody>\n",
       "    <tr>\n",
       "      <th>0</th>\n",
       "      <td>1</td>\n",
       "      <td>0.000011</td>\n",
       "      <td>udp</td>\n",
       "      <td>-</td>\n",
       "      <td>INT</td>\n",
       "      <td>2</td>\n",
       "      <td>0</td>\n",
       "      <td>496</td>\n",
       "      <td>0</td>\n",
       "      <td>90909.09020</td>\n",
       "      <td>254</td>\n",
       "      <td>0</td>\n",
       "      <td>1.803636e+08</td>\n",
       "      <td>0.0</td>\n",
       "      <td>0</td>\n",
       "      <td>0</td>\n",
       "      <td>0.011</td>\n",
       "      <td>0.0</td>\n",
       "      <td>0.0</td>\n",
       "      <td>0.0</td>\n",
       "      <td>0</td>\n",
       "      <td>0</td>\n",
       "      <td>0</td>\n",
       "      <td>0</td>\n",
       "      <td>0.0</td>\n",
       "      <td>0.0</td>\n",
       "      <td>0.0</td>\n",
       "      <td>248</td>\n",
       "      <td>0</td>\n",
       "      <td>0</td>\n",
       "      <td>0</td>\n",
       "      <td>2</td>\n",
       "      <td>2</td>\n",
       "      <td>1</td>\n",
       "      <td>1</td>\n",
       "      <td>1</td>\n",
       "      <td>2</td>\n",
       "      <td>0</td>\n",
       "      <td>0</td>\n",
       "      <td>0</td>\n",
       "      <td>1</td>\n",
       "      <td>2</td>\n",
       "      <td>0</td>\n",
       "      <td>Normal</td>\n",
       "      <td>0</td>\n",
       "    </tr>\n",
       "    <tr>\n",
       "      <th>1</th>\n",
       "      <td>2</td>\n",
       "      <td>0.000008</td>\n",
       "      <td>udp</td>\n",
       "      <td>-</td>\n",
       "      <td>INT</td>\n",
       "      <td>2</td>\n",
       "      <td>0</td>\n",
       "      <td>1762</td>\n",
       "      <td>0</td>\n",
       "      <td>125000.00030</td>\n",
       "      <td>254</td>\n",
       "      <td>0</td>\n",
       "      <td>8.810000e+08</td>\n",
       "      <td>0.0</td>\n",
       "      <td>0</td>\n",
       "      <td>0</td>\n",
       "      <td>0.008</td>\n",
       "      <td>0.0</td>\n",
       "      <td>0.0</td>\n",
       "      <td>0.0</td>\n",
       "      <td>0</td>\n",
       "      <td>0</td>\n",
       "      <td>0</td>\n",
       "      <td>0</td>\n",
       "      <td>0.0</td>\n",
       "      <td>0.0</td>\n",
       "      <td>0.0</td>\n",
       "      <td>881</td>\n",
       "      <td>0</td>\n",
       "      <td>0</td>\n",
       "      <td>0</td>\n",
       "      <td>2</td>\n",
       "      <td>2</td>\n",
       "      <td>1</td>\n",
       "      <td>1</td>\n",
       "      <td>1</td>\n",
       "      <td>2</td>\n",
       "      <td>0</td>\n",
       "      <td>0</td>\n",
       "      <td>0</td>\n",
       "      <td>1</td>\n",
       "      <td>2</td>\n",
       "      <td>0</td>\n",
       "      <td>Normal</td>\n",
       "      <td>0</td>\n",
       "    </tr>\n",
       "    <tr>\n",
       "      <th>2</th>\n",
       "      <td>3</td>\n",
       "      <td>0.000005</td>\n",
       "      <td>udp</td>\n",
       "      <td>-</td>\n",
       "      <td>INT</td>\n",
       "      <td>2</td>\n",
       "      <td>0</td>\n",
       "      <td>1068</td>\n",
       "      <td>0</td>\n",
       "      <td>200000.00510</td>\n",
       "      <td>254</td>\n",
       "      <td>0</td>\n",
       "      <td>8.544000e+08</td>\n",
       "      <td>0.0</td>\n",
       "      <td>0</td>\n",
       "      <td>0</td>\n",
       "      <td>0.005</td>\n",
       "      <td>0.0</td>\n",
       "      <td>0.0</td>\n",
       "      <td>0.0</td>\n",
       "      <td>0</td>\n",
       "      <td>0</td>\n",
       "      <td>0</td>\n",
       "      <td>0</td>\n",
       "      <td>0.0</td>\n",
       "      <td>0.0</td>\n",
       "      <td>0.0</td>\n",
       "      <td>534</td>\n",
       "      <td>0</td>\n",
       "      <td>0</td>\n",
       "      <td>0</td>\n",
       "      <td>3</td>\n",
       "      <td>2</td>\n",
       "      <td>1</td>\n",
       "      <td>1</td>\n",
       "      <td>1</td>\n",
       "      <td>3</td>\n",
       "      <td>0</td>\n",
       "      <td>0</td>\n",
       "      <td>0</td>\n",
       "      <td>1</td>\n",
       "      <td>3</td>\n",
       "      <td>0</td>\n",
       "      <td>Normal</td>\n",
       "      <td>0</td>\n",
       "    </tr>\n",
       "    <tr>\n",
       "      <th>3</th>\n",
       "      <td>4</td>\n",
       "      <td>0.000006</td>\n",
       "      <td>udp</td>\n",
       "      <td>-</td>\n",
       "      <td>INT</td>\n",
       "      <td>2</td>\n",
       "      <td>0</td>\n",
       "      <td>900</td>\n",
       "      <td>0</td>\n",
       "      <td>166666.66080</td>\n",
       "      <td>254</td>\n",
       "      <td>0</td>\n",
       "      <td>6.000000e+08</td>\n",
       "      <td>0.0</td>\n",
       "      <td>0</td>\n",
       "      <td>0</td>\n",
       "      <td>0.006</td>\n",
       "      <td>0.0</td>\n",
       "      <td>0.0</td>\n",
       "      <td>0.0</td>\n",
       "      <td>0</td>\n",
       "      <td>0</td>\n",
       "      <td>0</td>\n",
       "      <td>0</td>\n",
       "      <td>0.0</td>\n",
       "      <td>0.0</td>\n",
       "      <td>0.0</td>\n",
       "      <td>450</td>\n",
       "      <td>0</td>\n",
       "      <td>0</td>\n",
       "      <td>0</td>\n",
       "      <td>3</td>\n",
       "      <td>2</td>\n",
       "      <td>2</td>\n",
       "      <td>2</td>\n",
       "      <td>1</td>\n",
       "      <td>3</td>\n",
       "      <td>0</td>\n",
       "      <td>0</td>\n",
       "      <td>0</td>\n",
       "      <td>2</td>\n",
       "      <td>3</td>\n",
       "      <td>0</td>\n",
       "      <td>Normal</td>\n",
       "      <td>0</td>\n",
       "    </tr>\n",
       "    <tr>\n",
       "      <th>4</th>\n",
       "      <td>5</td>\n",
       "      <td>0.000010</td>\n",
       "      <td>udp</td>\n",
       "      <td>-</td>\n",
       "      <td>INT</td>\n",
       "      <td>2</td>\n",
       "      <td>0</td>\n",
       "      <td>2126</td>\n",
       "      <td>0</td>\n",
       "      <td>100000.00250</td>\n",
       "      <td>254</td>\n",
       "      <td>0</td>\n",
       "      <td>8.504000e+08</td>\n",
       "      <td>0.0</td>\n",
       "      <td>0</td>\n",
       "      <td>0</td>\n",
       "      <td>0.010</td>\n",
       "      <td>0.0</td>\n",
       "      <td>0.0</td>\n",
       "      <td>0.0</td>\n",
       "      <td>0</td>\n",
       "      <td>0</td>\n",
       "      <td>0</td>\n",
       "      <td>0</td>\n",
       "      <td>0.0</td>\n",
       "      <td>0.0</td>\n",
       "      <td>0.0</td>\n",
       "      <td>1063</td>\n",
       "      <td>0</td>\n",
       "      <td>0</td>\n",
       "      <td>0</td>\n",
       "      <td>3</td>\n",
       "      <td>2</td>\n",
       "      <td>2</td>\n",
       "      <td>2</td>\n",
       "      <td>1</td>\n",
       "      <td>3</td>\n",
       "      <td>0</td>\n",
       "      <td>0</td>\n",
       "      <td>0</td>\n",
       "      <td>2</td>\n",
       "      <td>3</td>\n",
       "      <td>0</td>\n",
       "      <td>Normal</td>\n",
       "      <td>0</td>\n",
       "    </tr>\n",
       "    <tr>\n",
       "      <th>5</th>\n",
       "      <td>6</td>\n",
       "      <td>0.000003</td>\n",
       "      <td>udp</td>\n",
       "      <td>-</td>\n",
       "      <td>INT</td>\n",
       "      <td>2</td>\n",
       "      <td>0</td>\n",
       "      <td>784</td>\n",
       "      <td>0</td>\n",
       "      <td>333333.32150</td>\n",
       "      <td>254</td>\n",
       "      <td>0</td>\n",
       "      <td>1.045333e+09</td>\n",
       "      <td>0.0</td>\n",
       "      <td>0</td>\n",
       "      <td>0</td>\n",
       "      <td>0.003</td>\n",
       "      <td>0.0</td>\n",
       "      <td>0.0</td>\n",
       "      <td>0.0</td>\n",
       "      <td>0</td>\n",
       "      <td>0</td>\n",
       "      <td>0</td>\n",
       "      <td>0</td>\n",
       "      <td>0.0</td>\n",
       "      <td>0.0</td>\n",
       "      <td>0.0</td>\n",
       "      <td>392</td>\n",
       "      <td>0</td>\n",
       "      <td>0</td>\n",
       "      <td>0</td>\n",
       "      <td>2</td>\n",
       "      <td>2</td>\n",
       "      <td>2</td>\n",
       "      <td>2</td>\n",
       "      <td>1</td>\n",
       "      <td>2</td>\n",
       "      <td>0</td>\n",
       "      <td>0</td>\n",
       "      <td>0</td>\n",
       "      <td>2</td>\n",
       "      <td>2</td>\n",
       "      <td>0</td>\n",
       "      <td>Normal</td>\n",
       "      <td>0</td>\n",
       "    </tr>\n",
       "    <tr>\n",
       "      <th>6</th>\n",
       "      <td>7</td>\n",
       "      <td>0.000006</td>\n",
       "      <td>udp</td>\n",
       "      <td>-</td>\n",
       "      <td>INT</td>\n",
       "      <td>2</td>\n",
       "      <td>0</td>\n",
       "      <td>1960</td>\n",
       "      <td>0</td>\n",
       "      <td>166666.66080</td>\n",
       "      <td>254</td>\n",
       "      <td>0</td>\n",
       "      <td>1.306667e+09</td>\n",
       "      <td>0.0</td>\n",
       "      <td>0</td>\n",
       "      <td>0</td>\n",
       "      <td>0.006</td>\n",
       "      <td>0.0</td>\n",
       "      <td>0.0</td>\n",
       "      <td>0.0</td>\n",
       "      <td>0</td>\n",
       "      <td>0</td>\n",
       "      <td>0</td>\n",
       "      <td>0</td>\n",
       "      <td>0.0</td>\n",
       "      <td>0.0</td>\n",
       "      <td>0.0</td>\n",
       "      <td>980</td>\n",
       "      <td>0</td>\n",
       "      <td>0</td>\n",
       "      <td>0</td>\n",
       "      <td>2</td>\n",
       "      <td>2</td>\n",
       "      <td>2</td>\n",
       "      <td>2</td>\n",
       "      <td>1</td>\n",
       "      <td>2</td>\n",
       "      <td>0</td>\n",
       "      <td>0</td>\n",
       "      <td>0</td>\n",
       "      <td>2</td>\n",
       "      <td>2</td>\n",
       "      <td>0</td>\n",
       "      <td>Normal</td>\n",
       "      <td>0</td>\n",
       "    </tr>\n",
       "    <tr>\n",
       "      <th>7</th>\n",
       "      <td>8</td>\n",
       "      <td>0.000028</td>\n",
       "      <td>udp</td>\n",
       "      <td>-</td>\n",
       "      <td>INT</td>\n",
       "      <td>2</td>\n",
       "      <td>0</td>\n",
       "      <td>1384</td>\n",
       "      <td>0</td>\n",
       "      <td>35714.28522</td>\n",
       "      <td>254</td>\n",
       "      <td>0</td>\n",
       "      <td>1.977143e+08</td>\n",
       "      <td>0.0</td>\n",
       "      <td>0</td>\n",
       "      <td>0</td>\n",
       "      <td>0.028</td>\n",
       "      <td>0.0</td>\n",
       "      <td>0.0</td>\n",
       "      <td>0.0</td>\n",
       "      <td>0</td>\n",
       "      <td>0</td>\n",
       "      <td>0</td>\n",
       "      <td>0</td>\n",
       "      <td>0.0</td>\n",
       "      <td>0.0</td>\n",
       "      <td>0.0</td>\n",
       "      <td>692</td>\n",
       "      <td>0</td>\n",
       "      <td>0</td>\n",
       "      <td>0</td>\n",
       "      <td>3</td>\n",
       "      <td>2</td>\n",
       "      <td>1</td>\n",
       "      <td>1</td>\n",
       "      <td>1</td>\n",
       "      <td>3</td>\n",
       "      <td>0</td>\n",
       "      <td>0</td>\n",
       "      <td>0</td>\n",
       "      <td>1</td>\n",
       "      <td>3</td>\n",
       "      <td>0</td>\n",
       "      <td>Normal</td>\n",
       "      <td>0</td>\n",
       "    </tr>\n",
       "    <tr>\n",
       "      <th>8</th>\n",
       "      <td>9</td>\n",
       "      <td>0.000000</td>\n",
       "      <td>arp</td>\n",
       "      <td>-</td>\n",
       "      <td>INT</td>\n",
       "      <td>1</td>\n",
       "      <td>0</td>\n",
       "      <td>46</td>\n",
       "      <td>0</td>\n",
       "      <td>0.00000</td>\n",
       "      <td>0</td>\n",
       "      <td>0</td>\n",
       "      <td>0.000000e+00</td>\n",
       "      <td>0.0</td>\n",
       "      <td>0</td>\n",
       "      <td>0</td>\n",
       "      <td>60000.688</td>\n",
       "      <td>0.0</td>\n",
       "      <td>0.0</td>\n",
       "      <td>0.0</td>\n",
       "      <td>0</td>\n",
       "      <td>0</td>\n",
       "      <td>0</td>\n",
       "      <td>0</td>\n",
       "      <td>0.0</td>\n",
       "      <td>0.0</td>\n",
       "      <td>0.0</td>\n",
       "      <td>46</td>\n",
       "      <td>0</td>\n",
       "      <td>0</td>\n",
       "      <td>0</td>\n",
       "      <td>2</td>\n",
       "      <td>2</td>\n",
       "      <td>2</td>\n",
       "      <td>2</td>\n",
       "      <td>2</td>\n",
       "      <td>2</td>\n",
       "      <td>0</td>\n",
       "      <td>0</td>\n",
       "      <td>0</td>\n",
       "      <td>2</td>\n",
       "      <td>2</td>\n",
       "      <td>1</td>\n",
       "      <td>Normal</td>\n",
       "      <td>0</td>\n",
       "    </tr>\n",
       "    <tr>\n",
       "      <th>9</th>\n",
       "      <td>10</td>\n",
       "      <td>0.000000</td>\n",
       "      <td>arp</td>\n",
       "      <td>-</td>\n",
       "      <td>INT</td>\n",
       "      <td>1</td>\n",
       "      <td>0</td>\n",
       "      <td>46</td>\n",
       "      <td>0</td>\n",
       "      <td>0.00000</td>\n",
       "      <td>0</td>\n",
       "      <td>0</td>\n",
       "      <td>0.000000e+00</td>\n",
       "      <td>0.0</td>\n",
       "      <td>0</td>\n",
       "      <td>0</td>\n",
       "      <td>60000.712</td>\n",
       "      <td>0.0</td>\n",
       "      <td>0.0</td>\n",
       "      <td>0.0</td>\n",
       "      <td>0</td>\n",
       "      <td>0</td>\n",
       "      <td>0</td>\n",
       "      <td>0</td>\n",
       "      <td>0.0</td>\n",
       "      <td>0.0</td>\n",
       "      <td>0.0</td>\n",
       "      <td>46</td>\n",
       "      <td>0</td>\n",
       "      <td>0</td>\n",
       "      <td>0</td>\n",
       "      <td>2</td>\n",
       "      <td>2</td>\n",
       "      <td>2</td>\n",
       "      <td>2</td>\n",
       "      <td>2</td>\n",
       "      <td>2</td>\n",
       "      <td>0</td>\n",
       "      <td>0</td>\n",
       "      <td>0</td>\n",
       "      <td>2</td>\n",
       "      <td>2</td>\n",
       "      <td>1</td>\n",
       "      <td>Normal</td>\n",
       "      <td>0</td>\n",
       "    </tr>\n",
       "  </tbody>\n",
       "</table>\n",
       "</div>"
      ],
      "text/plain": [
       "   id       dur proto service state  spkts  dpkts  sbytes  dbytes          rate  sttl  dttl         sload  dload  sloss  dloss     sinpkt  dinpkt  sjit  djit  swin  stcpb  dtcpb  dwin  tcprtt  synack  ackdat  smean  dmean  trans_depth  response_body_len  ct_srv_src  ct_state_ttl  ct_dst_ltm  ct_src_dport_ltm  ct_dst_sport_ltm  ct_dst_src_ltm  is_ftp_login  ct_ftp_cmd  ct_flw_http_mthd  ct_src_ltm  ct_srv_dst  is_sm_ips_ports attack_cat  label\n",
       "0   1  0.000011   udp       -   INT      2      0     496       0   90909.09020   254     0  1.803636e+08    0.0      0      0      0.011     0.0   0.0   0.0     0      0      0     0     0.0     0.0     0.0    248      0            0                  0           2             2           1                 1                 1               2             0           0                 0           1           2                0     Normal      0\n",
       "1   2  0.000008   udp       -   INT      2      0    1762       0  125000.00030   254     0  8.810000e+08    0.0      0      0      0.008     0.0   0.0   0.0     0      0      0     0     0.0     0.0     0.0    881      0            0                  0           2             2           1                 1                 1               2             0           0                 0           1           2                0     Normal      0\n",
       "2   3  0.000005   udp       -   INT      2      0    1068       0  200000.00510   254     0  8.544000e+08    0.0      0      0      0.005     0.0   0.0   0.0     0      0      0     0     0.0     0.0     0.0    534      0            0                  0           3             2           1                 1                 1               3             0           0                 0           1           3                0     Normal      0\n",
       "3   4  0.000006   udp       -   INT      2      0     900       0  166666.66080   254     0  6.000000e+08    0.0      0      0      0.006     0.0   0.0   0.0     0      0      0     0     0.0     0.0     0.0    450      0            0                  0           3             2           2                 2                 1               3             0           0                 0           2           3                0     Normal      0\n",
       "4   5  0.000010   udp       -   INT      2      0    2126       0  100000.00250   254     0  8.504000e+08    0.0      0      0      0.010     0.0   0.0   0.0     0      0      0     0     0.0     0.0     0.0   1063      0            0                  0           3             2           2                 2                 1               3             0           0                 0           2           3                0     Normal      0\n",
       "5   6  0.000003   udp       -   INT      2      0     784       0  333333.32150   254     0  1.045333e+09    0.0      0      0      0.003     0.0   0.0   0.0     0      0      0     0     0.0     0.0     0.0    392      0            0                  0           2             2           2                 2                 1               2             0           0                 0           2           2                0     Normal      0\n",
       "6   7  0.000006   udp       -   INT      2      0    1960       0  166666.66080   254     0  1.306667e+09    0.0      0      0      0.006     0.0   0.0   0.0     0      0      0     0     0.0     0.0     0.0    980      0            0                  0           2             2           2                 2                 1               2             0           0                 0           2           2                0     Normal      0\n",
       "7   8  0.000028   udp       -   INT      2      0    1384       0   35714.28522   254     0  1.977143e+08    0.0      0      0      0.028     0.0   0.0   0.0     0      0      0     0     0.0     0.0     0.0    692      0            0                  0           3             2           1                 1                 1               3             0           0                 0           1           3                0     Normal      0\n",
       "8   9  0.000000   arp       -   INT      1      0      46       0       0.00000     0     0  0.000000e+00    0.0      0      0  60000.688     0.0   0.0   0.0     0      0      0     0     0.0     0.0     0.0     46      0            0                  0           2             2           2                 2                 2               2             0           0                 0           2           2                1     Normal      0\n",
       "9  10  0.000000   arp       -   INT      1      0      46       0       0.00000     0     0  0.000000e+00    0.0      0      0  60000.712     0.0   0.0   0.0     0      0      0     0     0.0     0.0     0.0     46      0            0                  0           2             2           2                 2                 2               2             0           0                 0           2           2                1     Normal      0"
      ]
     },
     "execution_count": 4,
     "metadata": {},
     "output_type": "execute_result"
    }
   ],
   "source": [
    "df.head(10)"
   ]
  },
  {
   "cell_type": "code",
   "execution_count": 5,
   "metadata": {
    "execution": {
     "iopub.execute_input": "2022-11-10T04:23:02.517909Z",
     "iopub.status.busy": "2022-11-10T04:23:02.517126Z",
     "iopub.status.idle": "2022-11-10T04:23:02.841869Z",
     "shell.execute_reply": "2022-11-10T04:23:02.841252Z"
    },
    "papermill": {
     "duration": 0.423355,
     "end_time": "2022-11-10T04:23:02.845622",
     "exception": false,
     "start_time": "2022-11-10T04:23:02.422267",
     "status": "completed"
    },
    "tags": []
   },
   "outputs": [
    {
     "data": {
      "text/html": [
       "<div>\n",
       "<style scoped>\n",
       "    .dataframe tbody tr th:only-of-type {\n",
       "        vertical-align: middle;\n",
       "    }\n",
       "\n",
       "    .dataframe tbody tr th {\n",
       "        vertical-align: top;\n",
       "    }\n",
       "\n",
       "    .dataframe thead th {\n",
       "        text-align: right;\n",
       "    }\n",
       "</style>\n",
       "<table border=\"1\" class=\"dataframe\">\n",
       "  <thead>\n",
       "    <tr style=\"text-align: right;\">\n",
       "      <th></th>\n",
       "      <th>id</th>\n",
       "      <th>dur</th>\n",
       "      <th>proto</th>\n",
       "      <th>service</th>\n",
       "      <th>state</th>\n",
       "      <th>spkts</th>\n",
       "      <th>dpkts</th>\n",
       "      <th>sbytes</th>\n",
       "      <th>dbytes</th>\n",
       "      <th>rate</th>\n",
       "      <th>sttl</th>\n",
       "      <th>dttl</th>\n",
       "      <th>sload</th>\n",
       "      <th>dload</th>\n",
       "      <th>sloss</th>\n",
       "      <th>dloss</th>\n",
       "      <th>sinpkt</th>\n",
       "      <th>dinpkt</th>\n",
       "      <th>sjit</th>\n",
       "      <th>djit</th>\n",
       "      <th>swin</th>\n",
       "      <th>stcpb</th>\n",
       "      <th>dtcpb</th>\n",
       "      <th>dwin</th>\n",
       "      <th>tcprtt</th>\n",
       "      <th>synack</th>\n",
       "      <th>ackdat</th>\n",
       "      <th>smean</th>\n",
       "      <th>dmean</th>\n",
       "      <th>trans_depth</th>\n",
       "      <th>response_body_len</th>\n",
       "      <th>ct_srv_src</th>\n",
       "      <th>ct_state_ttl</th>\n",
       "      <th>ct_dst_ltm</th>\n",
       "      <th>ct_src_dport_ltm</th>\n",
       "      <th>ct_dst_sport_ltm</th>\n",
       "      <th>ct_dst_src_ltm</th>\n",
       "      <th>is_ftp_login</th>\n",
       "      <th>ct_ftp_cmd</th>\n",
       "      <th>ct_flw_http_mthd</th>\n",
       "      <th>ct_src_ltm</th>\n",
       "      <th>ct_srv_dst</th>\n",
       "      <th>is_sm_ips_ports</th>\n",
       "      <th>attack_cat</th>\n",
       "      <th>label</th>\n",
       "    </tr>\n",
       "  </thead>\n",
       "  <tbody>\n",
       "    <tr>\n",
       "      <th>count</th>\n",
       "      <td>82332.000000</td>\n",
       "      <td>82332.000000</td>\n",
       "      <td>82332</td>\n",
       "      <td>82332</td>\n",
       "      <td>82332</td>\n",
       "      <td>82332.000000</td>\n",
       "      <td>82332.000000</td>\n",
       "      <td>8.233200e+04</td>\n",
       "      <td>8.233200e+04</td>\n",
       "      <td>8.233200e+04</td>\n",
       "      <td>82332.000000</td>\n",
       "      <td>82332.000000</td>\n",
       "      <td>8.233200e+04</td>\n",
       "      <td>8.233200e+04</td>\n",
       "      <td>82332.000000</td>\n",
       "      <td>82332.000000</td>\n",
       "      <td>82332.000000</td>\n",
       "      <td>82332.000000</td>\n",
       "      <td>8.233200e+04</td>\n",
       "      <td>82332.000000</td>\n",
       "      <td>82332.00000</td>\n",
       "      <td>8.233200e+04</td>\n",
       "      <td>8.233200e+04</td>\n",
       "      <td>82332.00000</td>\n",
       "      <td>82332.000000</td>\n",
       "      <td>82332.000000</td>\n",
       "      <td>82332.000000</td>\n",
       "      <td>82332.000000</td>\n",
       "      <td>82332.000000</td>\n",
       "      <td>82332.000000</td>\n",
       "      <td>8.233200e+04</td>\n",
       "      <td>82332.000000</td>\n",
       "      <td>82332.000000</td>\n",
       "      <td>82332.000000</td>\n",
       "      <td>82332.000000</td>\n",
       "      <td>82332.000000</td>\n",
       "      <td>82332.000000</td>\n",
       "      <td>82332.000000</td>\n",
       "      <td>82332.000000</td>\n",
       "      <td>82332.000000</td>\n",
       "      <td>82332.000000</td>\n",
       "      <td>82332.000000</td>\n",
       "      <td>82332.000000</td>\n",
       "      <td>82332</td>\n",
       "      <td>82332.000000</td>\n",
       "    </tr>\n",
       "    <tr>\n",
       "      <th>unique</th>\n",
       "      <td>NaN</td>\n",
       "      <td>NaN</td>\n",
       "      <td>131</td>\n",
       "      <td>13</td>\n",
       "      <td>7</td>\n",
       "      <td>NaN</td>\n",
       "      <td>NaN</td>\n",
       "      <td>NaN</td>\n",
       "      <td>NaN</td>\n",
       "      <td>NaN</td>\n",
       "      <td>NaN</td>\n",
       "      <td>NaN</td>\n",
       "      <td>NaN</td>\n",
       "      <td>NaN</td>\n",
       "      <td>NaN</td>\n",
       "      <td>NaN</td>\n",
       "      <td>NaN</td>\n",
       "      <td>NaN</td>\n",
       "      <td>NaN</td>\n",
       "      <td>NaN</td>\n",
       "      <td>NaN</td>\n",
       "      <td>NaN</td>\n",
       "      <td>NaN</td>\n",
       "      <td>NaN</td>\n",
       "      <td>NaN</td>\n",
       "      <td>NaN</td>\n",
       "      <td>NaN</td>\n",
       "      <td>NaN</td>\n",
       "      <td>NaN</td>\n",
       "      <td>NaN</td>\n",
       "      <td>NaN</td>\n",
       "      <td>NaN</td>\n",
       "      <td>NaN</td>\n",
       "      <td>NaN</td>\n",
       "      <td>NaN</td>\n",
       "      <td>NaN</td>\n",
       "      <td>NaN</td>\n",
       "      <td>NaN</td>\n",
       "      <td>NaN</td>\n",
       "      <td>NaN</td>\n",
       "      <td>NaN</td>\n",
       "      <td>NaN</td>\n",
       "      <td>NaN</td>\n",
       "      <td>10</td>\n",
       "      <td>NaN</td>\n",
       "    </tr>\n",
       "    <tr>\n",
       "      <th>top</th>\n",
       "      <td>NaN</td>\n",
       "      <td>NaN</td>\n",
       "      <td>tcp</td>\n",
       "      <td>-</td>\n",
       "      <td>FIN</td>\n",
       "      <td>NaN</td>\n",
       "      <td>NaN</td>\n",
       "      <td>NaN</td>\n",
       "      <td>NaN</td>\n",
       "      <td>NaN</td>\n",
       "      <td>NaN</td>\n",
       "      <td>NaN</td>\n",
       "      <td>NaN</td>\n",
       "      <td>NaN</td>\n",
       "      <td>NaN</td>\n",
       "      <td>NaN</td>\n",
       "      <td>NaN</td>\n",
       "      <td>NaN</td>\n",
       "      <td>NaN</td>\n",
       "      <td>NaN</td>\n",
       "      <td>NaN</td>\n",
       "      <td>NaN</td>\n",
       "      <td>NaN</td>\n",
       "      <td>NaN</td>\n",
       "      <td>NaN</td>\n",
       "      <td>NaN</td>\n",
       "      <td>NaN</td>\n",
       "      <td>NaN</td>\n",
       "      <td>NaN</td>\n",
       "      <td>NaN</td>\n",
       "      <td>NaN</td>\n",
       "      <td>NaN</td>\n",
       "      <td>NaN</td>\n",
       "      <td>NaN</td>\n",
       "      <td>NaN</td>\n",
       "      <td>NaN</td>\n",
       "      <td>NaN</td>\n",
       "      <td>NaN</td>\n",
       "      <td>NaN</td>\n",
       "      <td>NaN</td>\n",
       "      <td>NaN</td>\n",
       "      <td>NaN</td>\n",
       "      <td>NaN</td>\n",
       "      <td>Normal</td>\n",
       "      <td>NaN</td>\n",
       "    </tr>\n",
       "    <tr>\n",
       "      <th>freq</th>\n",
       "      <td>NaN</td>\n",
       "      <td>NaN</td>\n",
       "      <td>43095</td>\n",
       "      <td>47153</td>\n",
       "      <td>39339</td>\n",
       "      <td>NaN</td>\n",
       "      <td>NaN</td>\n",
       "      <td>NaN</td>\n",
       "      <td>NaN</td>\n",
       "      <td>NaN</td>\n",
       "      <td>NaN</td>\n",
       "      <td>NaN</td>\n",
       "      <td>NaN</td>\n",
       "      <td>NaN</td>\n",
       "      <td>NaN</td>\n",
       "      <td>NaN</td>\n",
       "      <td>NaN</td>\n",
       "      <td>NaN</td>\n",
       "      <td>NaN</td>\n",
       "      <td>NaN</td>\n",
       "      <td>NaN</td>\n",
       "      <td>NaN</td>\n",
       "      <td>NaN</td>\n",
       "      <td>NaN</td>\n",
       "      <td>NaN</td>\n",
       "      <td>NaN</td>\n",
       "      <td>NaN</td>\n",
       "      <td>NaN</td>\n",
       "      <td>NaN</td>\n",
       "      <td>NaN</td>\n",
       "      <td>NaN</td>\n",
       "      <td>NaN</td>\n",
       "      <td>NaN</td>\n",
       "      <td>NaN</td>\n",
       "      <td>NaN</td>\n",
       "      <td>NaN</td>\n",
       "      <td>NaN</td>\n",
       "      <td>NaN</td>\n",
       "      <td>NaN</td>\n",
       "      <td>NaN</td>\n",
       "      <td>NaN</td>\n",
       "      <td>NaN</td>\n",
       "      <td>NaN</td>\n",
       "      <td>37000</td>\n",
       "      <td>NaN</td>\n",
       "    </tr>\n",
       "    <tr>\n",
       "      <th>mean</th>\n",
       "      <td>41166.500000</td>\n",
       "      <td>1.006756</td>\n",
       "      <td>NaN</td>\n",
       "      <td>NaN</td>\n",
       "      <td>NaN</td>\n",
       "      <td>18.666472</td>\n",
       "      <td>17.545936</td>\n",
       "      <td>7.993908e+03</td>\n",
       "      <td>1.323379e+04</td>\n",
       "      <td>8.241089e+04</td>\n",
       "      <td>180.967667</td>\n",
       "      <td>95.713003</td>\n",
       "      <td>6.454902e+07</td>\n",
       "      <td>6.305470e+05</td>\n",
       "      <td>4.753692</td>\n",
       "      <td>6.308556</td>\n",
       "      <td>755.394301</td>\n",
       "      <td>121.701284</td>\n",
       "      <td>6.363075e+03</td>\n",
       "      <td>535.180430</td>\n",
       "      <td>133.45908</td>\n",
       "      <td>1.084642e+09</td>\n",
       "      <td>1.073465e+09</td>\n",
       "      <td>128.28662</td>\n",
       "      <td>0.055925</td>\n",
       "      <td>0.029256</td>\n",
       "      <td>0.026669</td>\n",
       "      <td>139.528604</td>\n",
       "      <td>116.275069</td>\n",
       "      <td>0.094277</td>\n",
       "      <td>1.595372e+03</td>\n",
       "      <td>9.546604</td>\n",
       "      <td>1.369273</td>\n",
       "      <td>5.744923</td>\n",
       "      <td>4.928898</td>\n",
       "      <td>3.663011</td>\n",
       "      <td>7.456360</td>\n",
       "      <td>0.008284</td>\n",
       "      <td>0.008381</td>\n",
       "      <td>0.129743</td>\n",
       "      <td>6.468360</td>\n",
       "      <td>9.164262</td>\n",
       "      <td>0.011126</td>\n",
       "      <td>NaN</td>\n",
       "      <td>0.550600</td>\n",
       "    </tr>\n",
       "    <tr>\n",
       "      <th>std</th>\n",
       "      <td>23767.345519</td>\n",
       "      <td>4.710444</td>\n",
       "      <td>NaN</td>\n",
       "      <td>NaN</td>\n",
       "      <td>NaN</td>\n",
       "      <td>133.916353</td>\n",
       "      <td>115.574086</td>\n",
       "      <td>1.716423e+05</td>\n",
       "      <td>1.514715e+05</td>\n",
       "      <td>1.486204e+05</td>\n",
       "      <td>101.513358</td>\n",
       "      <td>116.667722</td>\n",
       "      <td>1.798618e+08</td>\n",
       "      <td>2.393001e+06</td>\n",
       "      <td>64.649620</td>\n",
       "      <td>55.708021</td>\n",
       "      <td>6182.615732</td>\n",
       "      <td>1292.378499</td>\n",
       "      <td>5.672402e+04</td>\n",
       "      <td>3635.305383</td>\n",
       "      <td>127.35700</td>\n",
       "      <td>1.390860e+09</td>\n",
       "      <td>1.381996e+09</td>\n",
       "      <td>127.49137</td>\n",
       "      <td>0.116022</td>\n",
       "      <td>0.070854</td>\n",
       "      <td>0.055094</td>\n",
       "      <td>208.472063</td>\n",
       "      <td>244.600271</td>\n",
       "      <td>0.542922</td>\n",
       "      <td>3.806697e+04</td>\n",
       "      <td>11.090289</td>\n",
       "      <td>1.067188</td>\n",
       "      <td>8.418112</td>\n",
       "      <td>8.389545</td>\n",
       "      <td>5.915386</td>\n",
       "      <td>11.415191</td>\n",
       "      <td>0.091171</td>\n",
       "      <td>0.092485</td>\n",
       "      <td>0.638683</td>\n",
       "      <td>8.543927</td>\n",
       "      <td>11.121413</td>\n",
       "      <td>0.104891</td>\n",
       "      <td>NaN</td>\n",
       "      <td>0.497436</td>\n",
       "    </tr>\n",
       "    <tr>\n",
       "      <th>min</th>\n",
       "      <td>1.000000</td>\n",
       "      <td>0.000000</td>\n",
       "      <td>NaN</td>\n",
       "      <td>NaN</td>\n",
       "      <td>NaN</td>\n",
       "      <td>1.000000</td>\n",
       "      <td>0.000000</td>\n",
       "      <td>2.400000e+01</td>\n",
       "      <td>0.000000e+00</td>\n",
       "      <td>0.000000e+00</td>\n",
       "      <td>0.000000</td>\n",
       "      <td>0.000000</td>\n",
       "      <td>0.000000e+00</td>\n",
       "      <td>0.000000e+00</td>\n",
       "      <td>0.000000</td>\n",
       "      <td>0.000000</td>\n",
       "      <td>0.000000</td>\n",
       "      <td>0.000000</td>\n",
       "      <td>0.000000e+00</td>\n",
       "      <td>0.000000</td>\n",
       "      <td>0.00000</td>\n",
       "      <td>0.000000e+00</td>\n",
       "      <td>0.000000e+00</td>\n",
       "      <td>0.00000</td>\n",
       "      <td>0.000000</td>\n",
       "      <td>0.000000</td>\n",
       "      <td>0.000000</td>\n",
       "      <td>24.000000</td>\n",
       "      <td>0.000000</td>\n",
       "      <td>0.000000</td>\n",
       "      <td>0.000000e+00</td>\n",
       "      <td>1.000000</td>\n",
       "      <td>0.000000</td>\n",
       "      <td>1.000000</td>\n",
       "      <td>1.000000</td>\n",
       "      <td>1.000000</td>\n",
       "      <td>1.000000</td>\n",
       "      <td>0.000000</td>\n",
       "      <td>0.000000</td>\n",
       "      <td>0.000000</td>\n",
       "      <td>1.000000</td>\n",
       "      <td>1.000000</td>\n",
       "      <td>0.000000</td>\n",
       "      <td>NaN</td>\n",
       "      <td>0.000000</td>\n",
       "    </tr>\n",
       "    <tr>\n",
       "      <th>25%</th>\n",
       "      <td>20583.750000</td>\n",
       "      <td>0.000008</td>\n",
       "      <td>NaN</td>\n",
       "      <td>NaN</td>\n",
       "      <td>NaN</td>\n",
       "      <td>2.000000</td>\n",
       "      <td>0.000000</td>\n",
       "      <td>1.140000e+02</td>\n",
       "      <td>0.000000e+00</td>\n",
       "      <td>2.860611e+01</td>\n",
       "      <td>62.000000</td>\n",
       "      <td>0.000000</td>\n",
       "      <td>1.120247e+04</td>\n",
       "      <td>0.000000e+00</td>\n",
       "      <td>0.000000</td>\n",
       "      <td>0.000000</td>\n",
       "      <td>0.008000</td>\n",
       "      <td>0.000000</td>\n",
       "      <td>0.000000e+00</td>\n",
       "      <td>0.000000</td>\n",
       "      <td>0.00000</td>\n",
       "      <td>0.000000e+00</td>\n",
       "      <td>0.000000e+00</td>\n",
       "      <td>0.00000</td>\n",
       "      <td>0.000000</td>\n",
       "      <td>0.000000</td>\n",
       "      <td>0.000000</td>\n",
       "      <td>57.000000</td>\n",
       "      <td>0.000000</td>\n",
       "      <td>0.000000</td>\n",
       "      <td>0.000000e+00</td>\n",
       "      <td>2.000000</td>\n",
       "      <td>1.000000</td>\n",
       "      <td>1.000000</td>\n",
       "      <td>1.000000</td>\n",
       "      <td>1.000000</td>\n",
       "      <td>1.000000</td>\n",
       "      <td>0.000000</td>\n",
       "      <td>0.000000</td>\n",
       "      <td>0.000000</td>\n",
       "      <td>1.000000</td>\n",
       "      <td>2.000000</td>\n",
       "      <td>0.000000</td>\n",
       "      <td>NaN</td>\n",
       "      <td>0.000000</td>\n",
       "    </tr>\n",
       "    <tr>\n",
       "      <th>50%</th>\n",
       "      <td>41166.500000</td>\n",
       "      <td>0.014138</td>\n",
       "      <td>NaN</td>\n",
       "      <td>NaN</td>\n",
       "      <td>NaN</td>\n",
       "      <td>6.000000</td>\n",
       "      <td>2.000000</td>\n",
       "      <td>5.340000e+02</td>\n",
       "      <td>1.780000e+02</td>\n",
       "      <td>2.650177e+03</td>\n",
       "      <td>254.000000</td>\n",
       "      <td>29.000000</td>\n",
       "      <td>5.770032e+05</td>\n",
       "      <td>2.112951e+03</td>\n",
       "      <td>1.000000</td>\n",
       "      <td>0.000000</td>\n",
       "      <td>0.557928</td>\n",
       "      <td>0.010000</td>\n",
       "      <td>1.762392e+01</td>\n",
       "      <td>0.000000</td>\n",
       "      <td>255.00000</td>\n",
       "      <td>2.788886e+07</td>\n",
       "      <td>2.856975e+07</td>\n",
       "      <td>255.00000</td>\n",
       "      <td>0.000551</td>\n",
       "      <td>0.000441</td>\n",
       "      <td>0.000080</td>\n",
       "      <td>65.000000</td>\n",
       "      <td>44.000000</td>\n",
       "      <td>0.000000</td>\n",
       "      <td>0.000000e+00</td>\n",
       "      <td>5.000000</td>\n",
       "      <td>1.000000</td>\n",
       "      <td>2.000000</td>\n",
       "      <td>1.000000</td>\n",
       "      <td>1.000000</td>\n",
       "      <td>3.000000</td>\n",
       "      <td>0.000000</td>\n",
       "      <td>0.000000</td>\n",
       "      <td>0.000000</td>\n",
       "      <td>3.000000</td>\n",
       "      <td>5.000000</td>\n",
       "      <td>0.000000</td>\n",
       "      <td>NaN</td>\n",
       "      <td>1.000000</td>\n",
       "    </tr>\n",
       "    <tr>\n",
       "      <th>75%</th>\n",
       "      <td>61749.250000</td>\n",
       "      <td>0.719360</td>\n",
       "      <td>NaN</td>\n",
       "      <td>NaN</td>\n",
       "      <td>NaN</td>\n",
       "      <td>12.000000</td>\n",
       "      <td>10.000000</td>\n",
       "      <td>1.280000e+03</td>\n",
       "      <td>9.560000e+02</td>\n",
       "      <td>1.111111e+05</td>\n",
       "      <td>254.000000</td>\n",
       "      <td>252.000000</td>\n",
       "      <td>6.514286e+07</td>\n",
       "      <td>1.585808e+04</td>\n",
       "      <td>3.000000</td>\n",
       "      <td>2.000000</td>\n",
       "      <td>63.409444</td>\n",
       "      <td>63.136369</td>\n",
       "      <td>3.219332e+03</td>\n",
       "      <td>128.459914</td>\n",
       "      <td>255.00000</td>\n",
       "      <td>2.171310e+09</td>\n",
       "      <td>2.144205e+09</td>\n",
       "      <td>255.00000</td>\n",
       "      <td>0.105541</td>\n",
       "      <td>0.052595</td>\n",
       "      <td>0.048816</td>\n",
       "      <td>100.000000</td>\n",
       "      <td>87.000000</td>\n",
       "      <td>0.000000</td>\n",
       "      <td>0.000000e+00</td>\n",
       "      <td>11.000000</td>\n",
       "      <td>2.000000</td>\n",
       "      <td>6.000000</td>\n",
       "      <td>4.000000</td>\n",
       "      <td>3.000000</td>\n",
       "      <td>6.000000</td>\n",
       "      <td>0.000000</td>\n",
       "      <td>0.000000</td>\n",
       "      <td>0.000000</td>\n",
       "      <td>7.000000</td>\n",
       "      <td>11.000000</td>\n",
       "      <td>0.000000</td>\n",
       "      <td>NaN</td>\n",
       "      <td>1.000000</td>\n",
       "    </tr>\n",
       "    <tr>\n",
       "      <th>max</th>\n",
       "      <td>82332.000000</td>\n",
       "      <td>59.999989</td>\n",
       "      <td>NaN</td>\n",
       "      <td>NaN</td>\n",
       "      <td>NaN</td>\n",
       "      <td>10646.000000</td>\n",
       "      <td>11018.000000</td>\n",
       "      <td>1.435577e+07</td>\n",
       "      <td>1.465753e+07</td>\n",
       "      <td>1.000000e+06</td>\n",
       "      <td>255.000000</td>\n",
       "      <td>253.000000</td>\n",
       "      <td>5.268000e+09</td>\n",
       "      <td>2.082111e+07</td>\n",
       "      <td>5319.000000</td>\n",
       "      <td>5507.000000</td>\n",
       "      <td>60009.992000</td>\n",
       "      <td>57739.240000</td>\n",
       "      <td>1.483831e+06</td>\n",
       "      <td>463199.240100</td>\n",
       "      <td>255.00000</td>\n",
       "      <td>4.294950e+09</td>\n",
       "      <td>4.294881e+09</td>\n",
       "      <td>255.00000</td>\n",
       "      <td>3.821465</td>\n",
       "      <td>3.226788</td>\n",
       "      <td>2.928778</td>\n",
       "      <td>1504.000000</td>\n",
       "      <td>1500.000000</td>\n",
       "      <td>131.000000</td>\n",
       "      <td>5.242880e+06</td>\n",
       "      <td>63.000000</td>\n",
       "      <td>6.000000</td>\n",
       "      <td>59.000000</td>\n",
       "      <td>59.000000</td>\n",
       "      <td>38.000000</td>\n",
       "      <td>63.000000</td>\n",
       "      <td>2.000000</td>\n",
       "      <td>2.000000</td>\n",
       "      <td>16.000000</td>\n",
       "      <td>60.000000</td>\n",
       "      <td>62.000000</td>\n",
       "      <td>1.000000</td>\n",
       "      <td>NaN</td>\n",
       "      <td>1.000000</td>\n",
       "    </tr>\n",
       "  </tbody>\n",
       "</table>\n",
       "</div>"
      ],
      "text/plain": [
       "                  id           dur  proto service  state         spkts         dpkts        sbytes        dbytes          rate          sttl          dttl         sload         dload         sloss         dloss        sinpkt        dinpkt          sjit           djit         swin         stcpb         dtcpb         dwin        tcprtt        synack        ackdat         smean         dmean   trans_depth  response_body_len    ct_srv_src  ct_state_ttl    ct_dst_ltm  ct_src_dport_ltm  ct_dst_sport_ltm  ct_dst_src_ltm  is_ftp_login    ct_ftp_cmd  ct_flw_http_mthd    ct_src_ltm    ct_srv_dst  is_sm_ips_ports attack_cat         label\n",
       "count   82332.000000  82332.000000  82332   82332  82332  82332.000000  82332.000000  8.233200e+04  8.233200e+04  8.233200e+04  82332.000000  82332.000000  8.233200e+04  8.233200e+04  82332.000000  82332.000000  82332.000000  82332.000000  8.233200e+04   82332.000000  82332.00000  8.233200e+04  8.233200e+04  82332.00000  82332.000000  82332.000000  82332.000000  82332.000000  82332.000000  82332.000000       8.233200e+04  82332.000000  82332.000000  82332.000000      82332.000000      82332.000000    82332.000000  82332.000000  82332.000000      82332.000000  82332.000000  82332.000000     82332.000000      82332  82332.000000\n",
       "unique           NaN           NaN    131      13      7           NaN           NaN           NaN           NaN           NaN           NaN           NaN           NaN           NaN           NaN           NaN           NaN           NaN           NaN            NaN          NaN           NaN           NaN          NaN           NaN           NaN           NaN           NaN           NaN           NaN                NaN           NaN           NaN           NaN               NaN               NaN             NaN           NaN           NaN               NaN           NaN           NaN              NaN         10           NaN\n",
       "top              NaN           NaN    tcp       -    FIN           NaN           NaN           NaN           NaN           NaN           NaN           NaN           NaN           NaN           NaN           NaN           NaN           NaN           NaN            NaN          NaN           NaN           NaN          NaN           NaN           NaN           NaN           NaN           NaN           NaN                NaN           NaN           NaN           NaN               NaN               NaN             NaN           NaN           NaN               NaN           NaN           NaN              NaN     Normal           NaN\n",
       "freq             NaN           NaN  43095   47153  39339           NaN           NaN           NaN           NaN           NaN           NaN           NaN           NaN           NaN           NaN           NaN           NaN           NaN           NaN            NaN          NaN           NaN           NaN          NaN           NaN           NaN           NaN           NaN           NaN           NaN                NaN           NaN           NaN           NaN               NaN               NaN             NaN           NaN           NaN               NaN           NaN           NaN              NaN      37000           NaN\n",
       "mean    41166.500000      1.006756    NaN     NaN    NaN     18.666472     17.545936  7.993908e+03  1.323379e+04  8.241089e+04    180.967667     95.713003  6.454902e+07  6.305470e+05      4.753692      6.308556    755.394301    121.701284  6.363075e+03     535.180430    133.45908  1.084642e+09  1.073465e+09    128.28662      0.055925      0.029256      0.026669    139.528604    116.275069      0.094277       1.595372e+03      9.546604      1.369273      5.744923          4.928898          3.663011        7.456360      0.008284      0.008381          0.129743      6.468360      9.164262         0.011126        NaN      0.550600\n",
       "std     23767.345519      4.710444    NaN     NaN    NaN    133.916353    115.574086  1.716423e+05  1.514715e+05  1.486204e+05    101.513358    116.667722  1.798618e+08  2.393001e+06     64.649620     55.708021   6182.615732   1292.378499  5.672402e+04    3635.305383    127.35700  1.390860e+09  1.381996e+09    127.49137      0.116022      0.070854      0.055094    208.472063    244.600271      0.542922       3.806697e+04     11.090289      1.067188      8.418112          8.389545          5.915386       11.415191      0.091171      0.092485          0.638683      8.543927     11.121413         0.104891        NaN      0.497436\n",
       "min         1.000000      0.000000    NaN     NaN    NaN      1.000000      0.000000  2.400000e+01  0.000000e+00  0.000000e+00      0.000000      0.000000  0.000000e+00  0.000000e+00      0.000000      0.000000      0.000000      0.000000  0.000000e+00       0.000000      0.00000  0.000000e+00  0.000000e+00      0.00000      0.000000      0.000000      0.000000     24.000000      0.000000      0.000000       0.000000e+00      1.000000      0.000000      1.000000          1.000000          1.000000        1.000000      0.000000      0.000000          0.000000      1.000000      1.000000         0.000000        NaN      0.000000\n",
       "25%     20583.750000      0.000008    NaN     NaN    NaN      2.000000      0.000000  1.140000e+02  0.000000e+00  2.860611e+01     62.000000      0.000000  1.120247e+04  0.000000e+00      0.000000      0.000000      0.008000      0.000000  0.000000e+00       0.000000      0.00000  0.000000e+00  0.000000e+00      0.00000      0.000000      0.000000      0.000000     57.000000      0.000000      0.000000       0.000000e+00      2.000000      1.000000      1.000000          1.000000          1.000000        1.000000      0.000000      0.000000          0.000000      1.000000      2.000000         0.000000        NaN      0.000000\n",
       "50%     41166.500000      0.014138    NaN     NaN    NaN      6.000000      2.000000  5.340000e+02  1.780000e+02  2.650177e+03    254.000000     29.000000  5.770032e+05  2.112951e+03      1.000000      0.000000      0.557928      0.010000  1.762392e+01       0.000000    255.00000  2.788886e+07  2.856975e+07    255.00000      0.000551      0.000441      0.000080     65.000000     44.000000      0.000000       0.000000e+00      5.000000      1.000000      2.000000          1.000000          1.000000        3.000000      0.000000      0.000000          0.000000      3.000000      5.000000         0.000000        NaN      1.000000\n",
       "75%     61749.250000      0.719360    NaN     NaN    NaN     12.000000     10.000000  1.280000e+03  9.560000e+02  1.111111e+05    254.000000    252.000000  6.514286e+07  1.585808e+04      3.000000      2.000000     63.409444     63.136369  3.219332e+03     128.459914    255.00000  2.171310e+09  2.144205e+09    255.00000      0.105541      0.052595      0.048816    100.000000     87.000000      0.000000       0.000000e+00     11.000000      2.000000      6.000000          4.000000          3.000000        6.000000      0.000000      0.000000          0.000000      7.000000     11.000000         0.000000        NaN      1.000000\n",
       "max     82332.000000     59.999989    NaN     NaN    NaN  10646.000000  11018.000000  1.435577e+07  1.465753e+07  1.000000e+06    255.000000    253.000000  5.268000e+09  2.082111e+07   5319.000000   5507.000000  60009.992000  57739.240000  1.483831e+06  463199.240100    255.00000  4.294950e+09  4.294881e+09    255.00000      3.821465      3.226788      2.928778   1504.000000   1500.000000    131.000000       5.242880e+06     63.000000      6.000000     59.000000         59.000000         38.000000       63.000000      2.000000      2.000000         16.000000     60.000000     62.000000         1.000000        NaN      1.000000"
      ]
     },
     "execution_count": 5,
     "metadata": {},
     "output_type": "execute_result"
    }
   ],
   "source": [
    "df.describe(include='all')"
   ]
  },
  {
   "cell_type": "code",
   "execution_count": 6,
   "metadata": {
    "execution": {
     "iopub.execute_input": "2022-11-10T04:23:03.511828Z",
     "iopub.status.busy": "2022-11-10T04:23:03.511230Z",
     "iopub.status.idle": "2022-11-10T04:23:03.515166Z",
     "shell.execute_reply": "2022-11-10T04:23:03.514356Z"
    },
    "papermill": {
     "duration": 0.086668,
     "end_time": "2022-11-10T04:23:03.517088",
     "exception": false,
     "start_time": "2022-11-10T04:23:03.430420",
     "status": "completed"
    },
    "tags": []
   },
   "outputs": [],
   "source": [
    "list_drop = ['id','attack_cat']"
   ]
  },
  {
   "cell_type": "code",
   "execution_count": 7,
   "metadata": {
    "execution": {
     "iopub.execute_input": "2022-11-10T04:23:03.680414Z",
     "iopub.status.busy": "2022-11-10T04:23:03.679738Z",
     "iopub.status.idle": "2022-11-10T04:23:03.695130Z",
     "shell.execute_reply": "2022-11-10T04:23:03.694123Z"
    },
    "papermill": {
     "duration": 0.100966,
     "end_time": "2022-11-10T04:23:03.697695",
     "exception": false,
     "start_time": "2022-11-10T04:23:03.596729",
     "status": "completed"
    },
    "tags": []
   },
   "outputs": [],
   "source": [
    "df.drop(list_drop,axis=1,inplace=True)"
   ]
  },
  {
   "cell_type": "code",
   "execution_count": 8,
   "metadata": {
    "execution": {
     "iopub.execute_input": "2022-11-10T04:23:04.015168Z",
     "iopub.status.busy": "2022-11-10T04:23:04.014140Z",
     "iopub.status.idle": "2022-11-10T04:23:04.244071Z",
     "shell.execute_reply": "2022-11-10T04:23:04.243196Z"
    },
    "papermill": {
     "duration": 0.313565,
     "end_time": "2022-11-10T04:23:04.247080",
     "exception": false,
     "start_time": "2022-11-10T04:23:03.933515",
     "status": "completed"
    },
    "tags": []
   },
   "outputs": [
    {
     "data": {
      "text/html": [
       "<div>\n",
       "<style scoped>\n",
       "    .dataframe tbody tr th:only-of-type {\n",
       "        vertical-align: middle;\n",
       "    }\n",
       "\n",
       "    .dataframe tbody tr th {\n",
       "        vertical-align: top;\n",
       "    }\n",
       "\n",
       "    .dataframe thead th {\n",
       "        text-align: right;\n",
       "    }\n",
       "</style>\n",
       "<table border=\"1\" class=\"dataframe\">\n",
       "  <thead>\n",
       "    <tr style=\"text-align: right;\">\n",
       "      <th></th>\n",
       "      <th>dur</th>\n",
       "      <th>spkts</th>\n",
       "      <th>dpkts</th>\n",
       "      <th>sbytes</th>\n",
       "      <th>dbytes</th>\n",
       "      <th>rate</th>\n",
       "      <th>sttl</th>\n",
       "      <th>dttl</th>\n",
       "      <th>sload</th>\n",
       "      <th>dload</th>\n",
       "      <th>sloss</th>\n",
       "      <th>dloss</th>\n",
       "      <th>sinpkt</th>\n",
       "      <th>dinpkt</th>\n",
       "      <th>sjit</th>\n",
       "      <th>djit</th>\n",
       "      <th>swin</th>\n",
       "      <th>stcpb</th>\n",
       "      <th>dtcpb</th>\n",
       "      <th>dwin</th>\n",
       "      <th>tcprtt</th>\n",
       "      <th>synack</th>\n",
       "      <th>ackdat</th>\n",
       "      <th>smean</th>\n",
       "      <th>dmean</th>\n",
       "      <th>trans_depth</th>\n",
       "      <th>response_body_len</th>\n",
       "      <th>ct_srv_src</th>\n",
       "      <th>ct_state_ttl</th>\n",
       "      <th>ct_dst_ltm</th>\n",
       "      <th>ct_src_dport_ltm</th>\n",
       "      <th>ct_dst_sport_ltm</th>\n",
       "      <th>ct_dst_src_ltm</th>\n",
       "      <th>is_ftp_login</th>\n",
       "      <th>ct_ftp_cmd</th>\n",
       "      <th>ct_flw_http_mthd</th>\n",
       "      <th>ct_src_ltm</th>\n",
       "      <th>ct_srv_dst</th>\n",
       "      <th>is_sm_ips_ports</th>\n",
       "      <th>label</th>\n",
       "    </tr>\n",
       "  </thead>\n",
       "  <tbody>\n",
       "    <tr>\n",
       "      <th>count</th>\n",
       "      <td>82332.000000</td>\n",
       "      <td>82332.000000</td>\n",
       "      <td>82332.000000</td>\n",
       "      <td>8.233200e+04</td>\n",
       "      <td>8.233200e+04</td>\n",
       "      <td>8.233200e+04</td>\n",
       "      <td>82332.000000</td>\n",
       "      <td>82332.000000</td>\n",
       "      <td>8.233200e+04</td>\n",
       "      <td>8.233200e+04</td>\n",
       "      <td>82332.000000</td>\n",
       "      <td>82332.000000</td>\n",
       "      <td>82332.000000</td>\n",
       "      <td>82332.000000</td>\n",
       "      <td>8.233200e+04</td>\n",
       "      <td>82332.000000</td>\n",
       "      <td>82332.00000</td>\n",
       "      <td>8.233200e+04</td>\n",
       "      <td>8.233200e+04</td>\n",
       "      <td>82332.00000</td>\n",
       "      <td>82332.000000</td>\n",
       "      <td>82332.000000</td>\n",
       "      <td>82332.000000</td>\n",
       "      <td>82332.000000</td>\n",
       "      <td>82332.000000</td>\n",
       "      <td>82332.000000</td>\n",
       "      <td>8.233200e+04</td>\n",
       "      <td>82332.000000</td>\n",
       "      <td>82332.000000</td>\n",
       "      <td>82332.000000</td>\n",
       "      <td>82332.000000</td>\n",
       "      <td>82332.000000</td>\n",
       "      <td>82332.000000</td>\n",
       "      <td>82332.000000</td>\n",
       "      <td>82332.000000</td>\n",
       "      <td>82332.000000</td>\n",
       "      <td>82332.000000</td>\n",
       "      <td>82332.000000</td>\n",
       "      <td>82332.000000</td>\n",
       "      <td>82332.000000</td>\n",
       "    </tr>\n",
       "    <tr>\n",
       "      <th>mean</th>\n",
       "      <td>1.006756</td>\n",
       "      <td>18.666472</td>\n",
       "      <td>17.545936</td>\n",
       "      <td>7.993908e+03</td>\n",
       "      <td>1.323379e+04</td>\n",
       "      <td>8.241089e+04</td>\n",
       "      <td>180.967667</td>\n",
       "      <td>95.713003</td>\n",
       "      <td>6.454902e+07</td>\n",
       "      <td>6.305470e+05</td>\n",
       "      <td>4.753692</td>\n",
       "      <td>6.308556</td>\n",
       "      <td>755.394301</td>\n",
       "      <td>121.701284</td>\n",
       "      <td>6.363075e+03</td>\n",
       "      <td>535.180430</td>\n",
       "      <td>133.45908</td>\n",
       "      <td>1.084642e+09</td>\n",
       "      <td>1.073465e+09</td>\n",
       "      <td>128.28662</td>\n",
       "      <td>0.055925</td>\n",
       "      <td>0.029256</td>\n",
       "      <td>0.026669</td>\n",
       "      <td>139.528604</td>\n",
       "      <td>116.275069</td>\n",
       "      <td>0.094277</td>\n",
       "      <td>1.595372e+03</td>\n",
       "      <td>9.546604</td>\n",
       "      <td>1.369273</td>\n",
       "      <td>5.744923</td>\n",
       "      <td>4.928898</td>\n",
       "      <td>3.663011</td>\n",
       "      <td>7.456360</td>\n",
       "      <td>0.008284</td>\n",
       "      <td>0.008381</td>\n",
       "      <td>0.129743</td>\n",
       "      <td>6.468360</td>\n",
       "      <td>9.164262</td>\n",
       "      <td>0.011126</td>\n",
       "      <td>0.550600</td>\n",
       "    </tr>\n",
       "    <tr>\n",
       "      <th>std</th>\n",
       "      <td>4.710444</td>\n",
       "      <td>133.916353</td>\n",
       "      <td>115.574086</td>\n",
       "      <td>1.716423e+05</td>\n",
       "      <td>1.514715e+05</td>\n",
       "      <td>1.486204e+05</td>\n",
       "      <td>101.513358</td>\n",
       "      <td>116.667722</td>\n",
       "      <td>1.798618e+08</td>\n",
       "      <td>2.393001e+06</td>\n",
       "      <td>64.649620</td>\n",
       "      <td>55.708021</td>\n",
       "      <td>6182.615732</td>\n",
       "      <td>1292.378499</td>\n",
       "      <td>5.672402e+04</td>\n",
       "      <td>3635.305383</td>\n",
       "      <td>127.35700</td>\n",
       "      <td>1.390860e+09</td>\n",
       "      <td>1.381996e+09</td>\n",
       "      <td>127.49137</td>\n",
       "      <td>0.116022</td>\n",
       "      <td>0.070854</td>\n",
       "      <td>0.055094</td>\n",
       "      <td>208.472063</td>\n",
       "      <td>244.600271</td>\n",
       "      <td>0.542922</td>\n",
       "      <td>3.806697e+04</td>\n",
       "      <td>11.090289</td>\n",
       "      <td>1.067188</td>\n",
       "      <td>8.418112</td>\n",
       "      <td>8.389545</td>\n",
       "      <td>5.915386</td>\n",
       "      <td>11.415191</td>\n",
       "      <td>0.091171</td>\n",
       "      <td>0.092485</td>\n",
       "      <td>0.638683</td>\n",
       "      <td>8.543927</td>\n",
       "      <td>11.121413</td>\n",
       "      <td>0.104891</td>\n",
       "      <td>0.497436</td>\n",
       "    </tr>\n",
       "    <tr>\n",
       "      <th>min</th>\n",
       "      <td>0.000000</td>\n",
       "      <td>1.000000</td>\n",
       "      <td>0.000000</td>\n",
       "      <td>2.400000e+01</td>\n",
       "      <td>0.000000e+00</td>\n",
       "      <td>0.000000e+00</td>\n",
       "      <td>0.000000</td>\n",
       "      <td>0.000000</td>\n",
       "      <td>0.000000e+00</td>\n",
       "      <td>0.000000e+00</td>\n",
       "      <td>0.000000</td>\n",
       "      <td>0.000000</td>\n",
       "      <td>0.000000</td>\n",
       "      <td>0.000000</td>\n",
       "      <td>0.000000e+00</td>\n",
       "      <td>0.000000</td>\n",
       "      <td>0.00000</td>\n",
       "      <td>0.000000e+00</td>\n",
       "      <td>0.000000e+00</td>\n",
       "      <td>0.00000</td>\n",
       "      <td>0.000000</td>\n",
       "      <td>0.000000</td>\n",
       "      <td>0.000000</td>\n",
       "      <td>24.000000</td>\n",
       "      <td>0.000000</td>\n",
       "      <td>0.000000</td>\n",
       "      <td>0.000000e+00</td>\n",
       "      <td>1.000000</td>\n",
       "      <td>0.000000</td>\n",
       "      <td>1.000000</td>\n",
       "      <td>1.000000</td>\n",
       "      <td>1.000000</td>\n",
       "      <td>1.000000</td>\n",
       "      <td>0.000000</td>\n",
       "      <td>0.000000</td>\n",
       "      <td>0.000000</td>\n",
       "      <td>1.000000</td>\n",
       "      <td>1.000000</td>\n",
       "      <td>0.000000</td>\n",
       "      <td>0.000000</td>\n",
       "    </tr>\n",
       "    <tr>\n",
       "      <th>25%</th>\n",
       "      <td>0.000008</td>\n",
       "      <td>2.000000</td>\n",
       "      <td>0.000000</td>\n",
       "      <td>1.140000e+02</td>\n",
       "      <td>0.000000e+00</td>\n",
       "      <td>2.860611e+01</td>\n",
       "      <td>62.000000</td>\n",
       "      <td>0.000000</td>\n",
       "      <td>1.120247e+04</td>\n",
       "      <td>0.000000e+00</td>\n",
       "      <td>0.000000</td>\n",
       "      <td>0.000000</td>\n",
       "      <td>0.008000</td>\n",
       "      <td>0.000000</td>\n",
       "      <td>0.000000e+00</td>\n",
       "      <td>0.000000</td>\n",
       "      <td>0.00000</td>\n",
       "      <td>0.000000e+00</td>\n",
       "      <td>0.000000e+00</td>\n",
       "      <td>0.00000</td>\n",
       "      <td>0.000000</td>\n",
       "      <td>0.000000</td>\n",
       "      <td>0.000000</td>\n",
       "      <td>57.000000</td>\n",
       "      <td>0.000000</td>\n",
       "      <td>0.000000</td>\n",
       "      <td>0.000000e+00</td>\n",
       "      <td>2.000000</td>\n",
       "      <td>1.000000</td>\n",
       "      <td>1.000000</td>\n",
       "      <td>1.000000</td>\n",
       "      <td>1.000000</td>\n",
       "      <td>1.000000</td>\n",
       "      <td>0.000000</td>\n",
       "      <td>0.000000</td>\n",
       "      <td>0.000000</td>\n",
       "      <td>1.000000</td>\n",
       "      <td>2.000000</td>\n",
       "      <td>0.000000</td>\n",
       "      <td>0.000000</td>\n",
       "    </tr>\n",
       "    <tr>\n",
       "      <th>50%</th>\n",
       "      <td>0.014138</td>\n",
       "      <td>6.000000</td>\n",
       "      <td>2.000000</td>\n",
       "      <td>5.340000e+02</td>\n",
       "      <td>1.780000e+02</td>\n",
       "      <td>2.650177e+03</td>\n",
       "      <td>254.000000</td>\n",
       "      <td>29.000000</td>\n",
       "      <td>5.770032e+05</td>\n",
       "      <td>2.112951e+03</td>\n",
       "      <td>1.000000</td>\n",
       "      <td>0.000000</td>\n",
       "      <td>0.557928</td>\n",
       "      <td>0.010000</td>\n",
       "      <td>1.762392e+01</td>\n",
       "      <td>0.000000</td>\n",
       "      <td>255.00000</td>\n",
       "      <td>2.788886e+07</td>\n",
       "      <td>2.856975e+07</td>\n",
       "      <td>255.00000</td>\n",
       "      <td>0.000551</td>\n",
       "      <td>0.000441</td>\n",
       "      <td>0.000080</td>\n",
       "      <td>65.000000</td>\n",
       "      <td>44.000000</td>\n",
       "      <td>0.000000</td>\n",
       "      <td>0.000000e+00</td>\n",
       "      <td>5.000000</td>\n",
       "      <td>1.000000</td>\n",
       "      <td>2.000000</td>\n",
       "      <td>1.000000</td>\n",
       "      <td>1.000000</td>\n",
       "      <td>3.000000</td>\n",
       "      <td>0.000000</td>\n",
       "      <td>0.000000</td>\n",
       "      <td>0.000000</td>\n",
       "      <td>3.000000</td>\n",
       "      <td>5.000000</td>\n",
       "      <td>0.000000</td>\n",
       "      <td>1.000000</td>\n",
       "    </tr>\n",
       "    <tr>\n",
       "      <th>75%</th>\n",
       "      <td>0.719360</td>\n",
       "      <td>12.000000</td>\n",
       "      <td>10.000000</td>\n",
       "      <td>1.280000e+03</td>\n",
       "      <td>9.560000e+02</td>\n",
       "      <td>1.111111e+05</td>\n",
       "      <td>254.000000</td>\n",
       "      <td>252.000000</td>\n",
       "      <td>6.514286e+07</td>\n",
       "      <td>1.585808e+04</td>\n",
       "      <td>3.000000</td>\n",
       "      <td>2.000000</td>\n",
       "      <td>63.409444</td>\n",
       "      <td>63.136369</td>\n",
       "      <td>3.219332e+03</td>\n",
       "      <td>128.459914</td>\n",
       "      <td>255.00000</td>\n",
       "      <td>2.171310e+09</td>\n",
       "      <td>2.144205e+09</td>\n",
       "      <td>255.00000</td>\n",
       "      <td>0.105541</td>\n",
       "      <td>0.052595</td>\n",
       "      <td>0.048816</td>\n",
       "      <td>100.000000</td>\n",
       "      <td>87.000000</td>\n",
       "      <td>0.000000</td>\n",
       "      <td>0.000000e+00</td>\n",
       "      <td>11.000000</td>\n",
       "      <td>2.000000</td>\n",
       "      <td>6.000000</td>\n",
       "      <td>4.000000</td>\n",
       "      <td>3.000000</td>\n",
       "      <td>6.000000</td>\n",
       "      <td>0.000000</td>\n",
       "      <td>0.000000</td>\n",
       "      <td>0.000000</td>\n",
       "      <td>7.000000</td>\n",
       "      <td>11.000000</td>\n",
       "      <td>0.000000</td>\n",
       "      <td>1.000000</td>\n",
       "    </tr>\n",
       "    <tr>\n",
       "      <th>max</th>\n",
       "      <td>59.999989</td>\n",
       "      <td>10646.000000</td>\n",
       "      <td>11018.000000</td>\n",
       "      <td>1.435577e+07</td>\n",
       "      <td>1.465753e+07</td>\n",
       "      <td>1.000000e+06</td>\n",
       "      <td>255.000000</td>\n",
       "      <td>253.000000</td>\n",
       "      <td>5.268000e+09</td>\n",
       "      <td>2.082111e+07</td>\n",
       "      <td>5319.000000</td>\n",
       "      <td>5507.000000</td>\n",
       "      <td>60009.992000</td>\n",
       "      <td>57739.240000</td>\n",
       "      <td>1.483831e+06</td>\n",
       "      <td>463199.240100</td>\n",
       "      <td>255.00000</td>\n",
       "      <td>4.294950e+09</td>\n",
       "      <td>4.294881e+09</td>\n",
       "      <td>255.00000</td>\n",
       "      <td>3.821465</td>\n",
       "      <td>3.226788</td>\n",
       "      <td>2.928778</td>\n",
       "      <td>1504.000000</td>\n",
       "      <td>1500.000000</td>\n",
       "      <td>131.000000</td>\n",
       "      <td>5.242880e+06</td>\n",
       "      <td>63.000000</td>\n",
       "      <td>6.000000</td>\n",
       "      <td>59.000000</td>\n",
       "      <td>59.000000</td>\n",
       "      <td>38.000000</td>\n",
       "      <td>63.000000</td>\n",
       "      <td>2.000000</td>\n",
       "      <td>2.000000</td>\n",
       "      <td>16.000000</td>\n",
       "      <td>60.000000</td>\n",
       "      <td>62.000000</td>\n",
       "      <td>1.000000</td>\n",
       "      <td>1.000000</td>\n",
       "    </tr>\n",
       "  </tbody>\n",
       "</table>\n",
       "</div>"
      ],
      "text/plain": [
       "                dur         spkts         dpkts        sbytes        dbytes          rate          sttl          dttl         sload         dload         sloss         dloss        sinpkt        dinpkt          sjit           djit         swin         stcpb         dtcpb         dwin        tcprtt        synack        ackdat         smean         dmean   trans_depth  response_body_len    ct_srv_src  ct_state_ttl    ct_dst_ltm  ct_src_dport_ltm  ct_dst_sport_ltm  ct_dst_src_ltm  is_ftp_login    ct_ftp_cmd  ct_flw_http_mthd    ct_src_ltm    ct_srv_dst  is_sm_ips_ports         label\n",
       "count  82332.000000  82332.000000  82332.000000  8.233200e+04  8.233200e+04  8.233200e+04  82332.000000  82332.000000  8.233200e+04  8.233200e+04  82332.000000  82332.000000  82332.000000  82332.000000  8.233200e+04   82332.000000  82332.00000  8.233200e+04  8.233200e+04  82332.00000  82332.000000  82332.000000  82332.000000  82332.000000  82332.000000  82332.000000       8.233200e+04  82332.000000  82332.000000  82332.000000      82332.000000      82332.000000    82332.000000  82332.000000  82332.000000      82332.000000  82332.000000  82332.000000     82332.000000  82332.000000\n",
       "mean       1.006756     18.666472     17.545936  7.993908e+03  1.323379e+04  8.241089e+04    180.967667     95.713003  6.454902e+07  6.305470e+05      4.753692      6.308556    755.394301    121.701284  6.363075e+03     535.180430    133.45908  1.084642e+09  1.073465e+09    128.28662      0.055925      0.029256      0.026669    139.528604    116.275069      0.094277       1.595372e+03      9.546604      1.369273      5.744923          4.928898          3.663011        7.456360      0.008284      0.008381          0.129743      6.468360      9.164262         0.011126      0.550600\n",
       "std        4.710444    133.916353    115.574086  1.716423e+05  1.514715e+05  1.486204e+05    101.513358    116.667722  1.798618e+08  2.393001e+06     64.649620     55.708021   6182.615732   1292.378499  5.672402e+04    3635.305383    127.35700  1.390860e+09  1.381996e+09    127.49137      0.116022      0.070854      0.055094    208.472063    244.600271      0.542922       3.806697e+04     11.090289      1.067188      8.418112          8.389545          5.915386       11.415191      0.091171      0.092485          0.638683      8.543927     11.121413         0.104891      0.497436\n",
       "min        0.000000      1.000000      0.000000  2.400000e+01  0.000000e+00  0.000000e+00      0.000000      0.000000  0.000000e+00  0.000000e+00      0.000000      0.000000      0.000000      0.000000  0.000000e+00       0.000000      0.00000  0.000000e+00  0.000000e+00      0.00000      0.000000      0.000000      0.000000     24.000000      0.000000      0.000000       0.000000e+00      1.000000      0.000000      1.000000          1.000000          1.000000        1.000000      0.000000      0.000000          0.000000      1.000000      1.000000         0.000000      0.000000\n",
       "25%        0.000008      2.000000      0.000000  1.140000e+02  0.000000e+00  2.860611e+01     62.000000      0.000000  1.120247e+04  0.000000e+00      0.000000      0.000000      0.008000      0.000000  0.000000e+00       0.000000      0.00000  0.000000e+00  0.000000e+00      0.00000      0.000000      0.000000      0.000000     57.000000      0.000000      0.000000       0.000000e+00      2.000000      1.000000      1.000000          1.000000          1.000000        1.000000      0.000000      0.000000          0.000000      1.000000      2.000000         0.000000      0.000000\n",
       "50%        0.014138      6.000000      2.000000  5.340000e+02  1.780000e+02  2.650177e+03    254.000000     29.000000  5.770032e+05  2.112951e+03      1.000000      0.000000      0.557928      0.010000  1.762392e+01       0.000000    255.00000  2.788886e+07  2.856975e+07    255.00000      0.000551      0.000441      0.000080     65.000000     44.000000      0.000000       0.000000e+00      5.000000      1.000000      2.000000          1.000000          1.000000        3.000000      0.000000      0.000000          0.000000      3.000000      5.000000         0.000000      1.000000\n",
       "75%        0.719360     12.000000     10.000000  1.280000e+03  9.560000e+02  1.111111e+05    254.000000    252.000000  6.514286e+07  1.585808e+04      3.000000      2.000000     63.409444     63.136369  3.219332e+03     128.459914    255.00000  2.171310e+09  2.144205e+09    255.00000      0.105541      0.052595      0.048816    100.000000     87.000000      0.000000       0.000000e+00     11.000000      2.000000      6.000000          4.000000          3.000000        6.000000      0.000000      0.000000          0.000000      7.000000     11.000000         0.000000      1.000000\n",
       "max       59.999989  10646.000000  11018.000000  1.435577e+07  1.465753e+07  1.000000e+06    255.000000    253.000000  5.268000e+09  2.082111e+07   5319.000000   5507.000000  60009.992000  57739.240000  1.483831e+06  463199.240100    255.00000  4.294950e+09  4.294881e+09    255.00000      3.821465      3.226788      2.928778   1504.000000   1500.000000    131.000000       5.242880e+06     63.000000      6.000000     59.000000         59.000000         38.000000       63.000000      2.000000      2.000000         16.000000     60.000000     62.000000         1.000000      1.000000"
      ]
     },
     "execution_count": 8,
     "metadata": {},
     "output_type": "execute_result"
    }
   ],
   "source": [
    "df_numeric = df.select_dtypes(include=[np.number])\n",
    "df_numeric.describe(include='all')"
   ]
  },
  {
   "cell_type": "code",
   "execution_count": 9,
   "metadata": {
    "execution": {
     "iopub.execute_input": "2022-11-10T04:23:04.410494Z",
     "iopub.status.busy": "2022-11-10T04:23:04.409548Z",
     "iopub.status.idle": "2022-11-10T04:23:04.701218Z",
     "shell.execute_reply": "2022-11-10T04:23:04.700319Z"
    },
    "papermill": {
     "duration": 0.376488,
     "end_time": "2022-11-10T04:23:04.703949",
     "exception": false,
     "start_time": "2022-11-10T04:23:04.327461",
     "status": "completed"
    },
    "tags": []
   },
   "outputs": [],
   "source": [
    "DEBUG =0\n",
    "\n",
    "for feature in df_numeric.columns:\n",
    "    if DEBUG == 1:\n",
    "        print(feature)\n",
    "        print('max = '+str(df_numeric[feature].max()))\n",
    "        print('75th = '+str(df_numeric[feature].quantile(0.95)))\n",
    "        print('median = '+str(df_numeric[feature].median()))\n",
    "        print(df_numeric[feature].max()>10*df_numeric[feature].median())\n",
    "        print('----------------------------------------------------')\n",
    "    if df_numeric[feature].max()>10*df_numeric[feature].median() and df_numeric[feature].max()>10 :\n",
    "        df[feature] = np.where(df[feature]<df[feature].quantile(0.95), df[feature], df[feature].quantile(0.95))"
   ]
  },
  {
   "cell_type": "code",
   "execution_count": 10,
   "metadata": {
    "execution": {
     "iopub.execute_input": "2022-11-10T04:23:05.031084Z",
     "iopub.status.busy": "2022-11-10T04:23:05.030756Z",
     "iopub.status.idle": "2022-11-10T04:23:05.313165Z",
     "shell.execute_reply": "2022-11-10T04:23:05.312239Z"
    },
    "papermill": {
     "duration": 0.368854,
     "end_time": "2022-11-10T04:23:05.315761",
     "exception": false,
     "start_time": "2022-11-10T04:23:04.946907",
     "status": "completed"
    },
    "tags": []
   },
   "outputs": [
    {
     "data": {
      "text/html": [
       "<div>\n",
       "<style scoped>\n",
       "    .dataframe tbody tr th:only-of-type {\n",
       "        vertical-align: middle;\n",
       "    }\n",
       "\n",
       "    .dataframe tbody tr th {\n",
       "        vertical-align: top;\n",
       "    }\n",
       "\n",
       "    .dataframe thead th {\n",
       "        text-align: right;\n",
       "    }\n",
       "</style>\n",
       "<table border=\"1\" class=\"dataframe\">\n",
       "  <thead>\n",
       "    <tr style=\"text-align: right;\">\n",
       "      <th></th>\n",
       "      <th>dur</th>\n",
       "      <th>spkts</th>\n",
       "      <th>dpkts</th>\n",
       "      <th>sbytes</th>\n",
       "      <th>dbytes</th>\n",
       "      <th>rate</th>\n",
       "      <th>sttl</th>\n",
       "      <th>dttl</th>\n",
       "      <th>sload</th>\n",
       "      <th>dload</th>\n",
       "      <th>sloss</th>\n",
       "      <th>dloss</th>\n",
       "      <th>sinpkt</th>\n",
       "      <th>dinpkt</th>\n",
       "      <th>sjit</th>\n",
       "      <th>djit</th>\n",
       "      <th>swin</th>\n",
       "      <th>stcpb</th>\n",
       "      <th>dtcpb</th>\n",
       "      <th>dwin</th>\n",
       "      <th>tcprtt</th>\n",
       "      <th>synack</th>\n",
       "      <th>ackdat</th>\n",
       "      <th>smean</th>\n",
       "      <th>dmean</th>\n",
       "      <th>trans_depth</th>\n",
       "      <th>response_body_len</th>\n",
       "      <th>ct_srv_src</th>\n",
       "      <th>ct_state_ttl</th>\n",
       "      <th>ct_dst_ltm</th>\n",
       "      <th>ct_src_dport_ltm</th>\n",
       "      <th>ct_dst_sport_ltm</th>\n",
       "      <th>ct_dst_src_ltm</th>\n",
       "      <th>is_ftp_login</th>\n",
       "      <th>ct_ftp_cmd</th>\n",
       "      <th>ct_flw_http_mthd</th>\n",
       "      <th>ct_src_ltm</th>\n",
       "      <th>ct_srv_dst</th>\n",
       "      <th>is_sm_ips_ports</th>\n",
       "      <th>label</th>\n",
       "    </tr>\n",
       "  </thead>\n",
       "  <tbody>\n",
       "    <tr>\n",
       "      <th>count</th>\n",
       "      <td>82332.000000</td>\n",
       "      <td>82332.00000</td>\n",
       "      <td>82332.000000</td>\n",
       "      <td>82332.000000</td>\n",
       "      <td>82332.000000</td>\n",
       "      <td>82332.000000</td>\n",
       "      <td>82332.000000</td>\n",
       "      <td>82332.000000</td>\n",
       "      <td>8.233200e+04</td>\n",
       "      <td>8.233200e+04</td>\n",
       "      <td>82332.000000</td>\n",
       "      <td>82332.000000</td>\n",
       "      <td>82332.000000</td>\n",
       "      <td>82332.000000</td>\n",
       "      <td>82332.000000</td>\n",
       "      <td>82332.000000</td>\n",
       "      <td>82332.00000</td>\n",
       "      <td>8.233200e+04</td>\n",
       "      <td>8.233200e+04</td>\n",
       "      <td>82332.00000</td>\n",
       "      <td>82332.000000</td>\n",
       "      <td>82332.000000</td>\n",
       "      <td>82332.000000</td>\n",
       "      <td>82332.000000</td>\n",
       "      <td>82332.000000</td>\n",
       "      <td>82332.000000</td>\n",
       "      <td>82332.000000</td>\n",
       "      <td>82332.000000</td>\n",
       "      <td>82332.000000</td>\n",
       "      <td>82332.000000</td>\n",
       "      <td>82332.000000</td>\n",
       "      <td>82332.000000</td>\n",
       "      <td>82332.000000</td>\n",
       "      <td>82332.000000</td>\n",
       "      <td>82332.000000</td>\n",
       "      <td>82332.000000</td>\n",
       "      <td>82332.000000</td>\n",
       "      <td>82332.000000</td>\n",
       "      <td>82332.000000</td>\n",
       "      <td>82332.000000</td>\n",
       "    </tr>\n",
       "    <tr>\n",
       "      <th>mean</th>\n",
       "      <td>0.445016</td>\n",
       "      <td>11.84186</td>\n",
       "      <td>9.178424</td>\n",
       "      <td>1580.566135</td>\n",
       "      <td>2866.918367</td>\n",
       "      <td>71576.702810</td>\n",
       "      <td>180.967667</td>\n",
       "      <td>95.713003</td>\n",
       "      <td>4.649418e+07</td>\n",
       "      <td>3.105380e+05</td>\n",
       "      <td>2.188068</td>\n",
       "      <td>2.542729</td>\n",
       "      <td>37.836042</td>\n",
       "      <td>33.982038</td>\n",
       "      <td>1920.889858</td>\n",
       "      <td>199.566224</td>\n",
       "      <td>133.45908</td>\n",
       "      <td>1.074064e+09</td>\n",
       "      <td>1.062670e+09</td>\n",
       "      <td>128.28662</td>\n",
       "      <td>0.055925</td>\n",
       "      <td>0.029256</td>\n",
       "      <td>0.026669</td>\n",
       "      <td>124.772822</td>\n",
       "      <td>100.240891</td>\n",
       "      <td>0.092091</td>\n",
       "      <td>9.643063</td>\n",
       "      <td>9.259887</td>\n",
       "      <td>1.369273</td>\n",
       "      <td>5.269591</td>\n",
       "      <td>4.466611</td>\n",
       "      <td>3.388901</td>\n",
       "      <td>7.160679</td>\n",
       "      <td>0.008284</td>\n",
       "      <td>0.008381</td>\n",
       "      <td>0.092066</td>\n",
       "      <td>5.974809</td>\n",
       "      <td>8.832532</td>\n",
       "      <td>0.011126</td>\n",
       "      <td>0.550600</td>\n",
       "    </tr>\n",
       "    <tr>\n",
       "      <th>std</th>\n",
       "      <td>0.672222</td>\n",
       "      <td>15.66461</td>\n",
       "      <td>14.504212</td>\n",
       "      <td>2948.850472</td>\n",
       "      <td>7525.606738</td>\n",
       "      <td>102631.946851</td>\n",
       "      <td>101.513358</td>\n",
       "      <td>116.667722</td>\n",
       "      <td>7.417784e+07</td>\n",
       "      <td>8.918691e+05</td>\n",
       "      <td>3.057946</td>\n",
       "      <td>4.767511</td>\n",
       "      <td>57.658385</td>\n",
       "      <td>52.184248</td>\n",
       "      <td>2900.509949</td>\n",
       "      <td>520.285264</td>\n",
       "      <td>127.35700</td>\n",
       "      <td>1.368335e+09</td>\n",
       "      <td>1.358850e+09</td>\n",
       "      <td>127.49137</td>\n",
       "      <td>0.116022</td>\n",
       "      <td>0.070854</td>\n",
       "      <td>0.055094</td>\n",
       "      <td>148.294212</td>\n",
       "      <td>184.094183</td>\n",
       "      <td>0.289156</td>\n",
       "      <td>35.977508</td>\n",
       "      <td>10.221752</td>\n",
       "      <td>1.067188</td>\n",
       "      <td>6.729755</td>\n",
       "      <td>6.685037</td>\n",
       "      <td>5.029129</td>\n",
       "      <td>10.481621</td>\n",
       "      <td>0.091171</td>\n",
       "      <td>0.092485</td>\n",
       "      <td>0.289121</td>\n",
       "      <td>6.867156</td>\n",
       "      <td>10.124902</td>\n",
       "      <td>0.104891</td>\n",
       "      <td>0.497436</td>\n",
       "    </tr>\n",
       "    <tr>\n",
       "      <th>min</th>\n",
       "      <td>0.000000</td>\n",
       "      <td>1.00000</td>\n",
       "      <td>0.000000</td>\n",
       "      <td>24.000000</td>\n",
       "      <td>0.000000</td>\n",
       "      <td>0.000000</td>\n",
       "      <td>0.000000</td>\n",
       "      <td>0.000000</td>\n",
       "      <td>0.000000e+00</td>\n",
       "      <td>0.000000e+00</td>\n",
       "      <td>0.000000</td>\n",
       "      <td>0.000000</td>\n",
       "      <td>0.000000</td>\n",
       "      <td>0.000000</td>\n",
       "      <td>0.000000</td>\n",
       "      <td>0.000000</td>\n",
       "      <td>0.00000</td>\n",
       "      <td>0.000000e+00</td>\n",
       "      <td>0.000000e+00</td>\n",
       "      <td>0.00000</td>\n",
       "      <td>0.000000</td>\n",
       "      <td>0.000000</td>\n",
       "      <td>0.000000</td>\n",
       "      <td>24.000000</td>\n",
       "      <td>0.000000</td>\n",
       "      <td>0.000000</td>\n",
       "      <td>0.000000</td>\n",
       "      <td>1.000000</td>\n",
       "      <td>0.000000</td>\n",
       "      <td>1.000000</td>\n",
       "      <td>1.000000</td>\n",
       "      <td>1.000000</td>\n",
       "      <td>1.000000</td>\n",
       "      <td>0.000000</td>\n",
       "      <td>0.000000</td>\n",
       "      <td>0.000000</td>\n",
       "      <td>1.000000</td>\n",
       "      <td>1.000000</td>\n",
       "      <td>0.000000</td>\n",
       "      <td>0.000000</td>\n",
       "    </tr>\n",
       "    <tr>\n",
       "      <th>25%</th>\n",
       "      <td>0.000008</td>\n",
       "      <td>2.00000</td>\n",
       "      <td>0.000000</td>\n",
       "      <td>114.000000</td>\n",
       "      <td>0.000000</td>\n",
       "      <td>28.606114</td>\n",
       "      <td>62.000000</td>\n",
       "      <td>0.000000</td>\n",
       "      <td>1.120247e+04</td>\n",
       "      <td>0.000000e+00</td>\n",
       "      <td>0.000000</td>\n",
       "      <td>0.000000</td>\n",
       "      <td>0.008000</td>\n",
       "      <td>0.000000</td>\n",
       "      <td>0.000000</td>\n",
       "      <td>0.000000</td>\n",
       "      <td>0.00000</td>\n",
       "      <td>0.000000e+00</td>\n",
       "      <td>0.000000e+00</td>\n",
       "      <td>0.00000</td>\n",
       "      <td>0.000000</td>\n",
       "      <td>0.000000</td>\n",
       "      <td>0.000000</td>\n",
       "      <td>57.000000</td>\n",
       "      <td>0.000000</td>\n",
       "      <td>0.000000</td>\n",
       "      <td>0.000000</td>\n",
       "      <td>2.000000</td>\n",
       "      <td>1.000000</td>\n",
       "      <td>1.000000</td>\n",
       "      <td>1.000000</td>\n",
       "      <td>1.000000</td>\n",
       "      <td>1.000000</td>\n",
       "      <td>0.000000</td>\n",
       "      <td>0.000000</td>\n",
       "      <td>0.000000</td>\n",
       "      <td>1.000000</td>\n",
       "      <td>2.000000</td>\n",
       "      <td>0.000000</td>\n",
       "      <td>0.000000</td>\n",
       "    </tr>\n",
       "    <tr>\n",
       "      <th>50%</th>\n",
       "      <td>0.014138</td>\n",
       "      <td>6.00000</td>\n",
       "      <td>2.000000</td>\n",
       "      <td>534.000000</td>\n",
       "      <td>178.000000</td>\n",
       "      <td>2650.176667</td>\n",
       "      <td>254.000000</td>\n",
       "      <td>29.000000</td>\n",
       "      <td>5.770032e+05</td>\n",
       "      <td>2.112951e+03</td>\n",
       "      <td>1.000000</td>\n",
       "      <td>0.000000</td>\n",
       "      <td>0.557928</td>\n",
       "      <td>0.010000</td>\n",
       "      <td>17.623919</td>\n",
       "      <td>0.000000</td>\n",
       "      <td>255.00000</td>\n",
       "      <td>2.788886e+07</td>\n",
       "      <td>2.856975e+07</td>\n",
       "      <td>255.00000</td>\n",
       "      <td>0.000551</td>\n",
       "      <td>0.000441</td>\n",
       "      <td>0.000080</td>\n",
       "      <td>65.000000</td>\n",
       "      <td>44.000000</td>\n",
       "      <td>0.000000</td>\n",
       "      <td>0.000000</td>\n",
       "      <td>5.000000</td>\n",
       "      <td>1.000000</td>\n",
       "      <td>2.000000</td>\n",
       "      <td>1.000000</td>\n",
       "      <td>1.000000</td>\n",
       "      <td>3.000000</td>\n",
       "      <td>0.000000</td>\n",
       "      <td>0.000000</td>\n",
       "      <td>0.000000</td>\n",
       "      <td>3.000000</td>\n",
       "      <td>5.000000</td>\n",
       "      <td>0.000000</td>\n",
       "      <td>1.000000</td>\n",
       "    </tr>\n",
       "    <tr>\n",
       "      <th>75%</th>\n",
       "      <td>0.719360</td>\n",
       "      <td>12.00000</td>\n",
       "      <td>10.000000</td>\n",
       "      <td>1280.000000</td>\n",
       "      <td>956.000000</td>\n",
       "      <td>111111.107200</td>\n",
       "      <td>254.000000</td>\n",
       "      <td>252.000000</td>\n",
       "      <td>6.514286e+07</td>\n",
       "      <td>1.585808e+04</td>\n",
       "      <td>3.000000</td>\n",
       "      <td>2.000000</td>\n",
       "      <td>63.409444</td>\n",
       "      <td>63.136369</td>\n",
       "      <td>3219.332412</td>\n",
       "      <td>128.459914</td>\n",
       "      <td>255.00000</td>\n",
       "      <td>2.171310e+09</td>\n",
       "      <td>2.144205e+09</td>\n",
       "      <td>255.00000</td>\n",
       "      <td>0.105541</td>\n",
       "      <td>0.052595</td>\n",
       "      <td>0.048816</td>\n",
       "      <td>100.000000</td>\n",
       "      <td>87.000000</td>\n",
       "      <td>0.000000</td>\n",
       "      <td>0.000000</td>\n",
       "      <td>11.000000</td>\n",
       "      <td>2.000000</td>\n",
       "      <td>6.000000</td>\n",
       "      <td>4.000000</td>\n",
       "      <td>3.000000</td>\n",
       "      <td>6.000000</td>\n",
       "      <td>0.000000</td>\n",
       "      <td>0.000000</td>\n",
       "      <td>0.000000</td>\n",
       "      <td>7.000000</td>\n",
       "      <td>11.000000</td>\n",
       "      <td>0.000000</td>\n",
       "      <td>1.000000</td>\n",
       "    </tr>\n",
       "    <tr>\n",
       "      <th>max</th>\n",
       "      <td>2.403792</td>\n",
       "      <td>60.00000</td>\n",
       "      <td>54.000000</td>\n",
       "      <td>12472.000000</td>\n",
       "      <td>30622.000000</td>\n",
       "      <td>333333.321500</td>\n",
       "      <td>255.000000</td>\n",
       "      <td>253.000000</td>\n",
       "      <td>2.666667e+08</td>\n",
       "      <td>3.741446e+06</td>\n",
       "      <td>11.000000</td>\n",
       "      <td>18.000000</td>\n",
       "      <td>204.530258</td>\n",
       "      <td>167.626851</td>\n",
       "      <td>9532.382646</td>\n",
       "      <td>2218.933526</td>\n",
       "      <td>255.00000</td>\n",
       "      <td>3.876194e+09</td>\n",
       "      <td>3.862459e+09</td>\n",
       "      <td>255.00000</td>\n",
       "      <td>3.821465</td>\n",
       "      <td>3.226788</td>\n",
       "      <td>2.928778</td>\n",
       "      <td>638.000000</td>\n",
       "      <td>683.000000</td>\n",
       "      <td>1.000000</td>\n",
       "      <td>150.450000</td>\n",
       "      <td>37.000000</td>\n",
       "      <td>6.000000</td>\n",
       "      <td>25.000000</td>\n",
       "      <td>25.000000</td>\n",
       "      <td>18.000000</td>\n",
       "      <td>37.000000</td>\n",
       "      <td>2.000000</td>\n",
       "      <td>2.000000</td>\n",
       "      <td>1.000000</td>\n",
       "      <td>25.000000</td>\n",
       "      <td>36.000000</td>\n",
       "      <td>1.000000</td>\n",
       "      <td>1.000000</td>\n",
       "    </tr>\n",
       "  </tbody>\n",
       "</table>\n",
       "</div>"
      ],
      "text/plain": [
       "                dur        spkts         dpkts        sbytes        dbytes           rate          sttl          dttl         sload         dload         sloss         dloss        sinpkt        dinpkt          sjit          djit         swin         stcpb         dtcpb         dwin        tcprtt        synack        ackdat         smean         dmean   trans_depth  response_body_len    ct_srv_src  ct_state_ttl    ct_dst_ltm  ct_src_dport_ltm  ct_dst_sport_ltm  ct_dst_src_ltm  is_ftp_login    ct_ftp_cmd  ct_flw_http_mthd    ct_src_ltm    ct_srv_dst  is_sm_ips_ports         label\n",
       "count  82332.000000  82332.00000  82332.000000  82332.000000  82332.000000   82332.000000  82332.000000  82332.000000  8.233200e+04  8.233200e+04  82332.000000  82332.000000  82332.000000  82332.000000  82332.000000  82332.000000  82332.00000  8.233200e+04  8.233200e+04  82332.00000  82332.000000  82332.000000  82332.000000  82332.000000  82332.000000  82332.000000       82332.000000  82332.000000  82332.000000  82332.000000      82332.000000      82332.000000    82332.000000  82332.000000  82332.000000      82332.000000  82332.000000  82332.000000     82332.000000  82332.000000\n",
       "mean       0.445016     11.84186      9.178424   1580.566135   2866.918367   71576.702810    180.967667     95.713003  4.649418e+07  3.105380e+05      2.188068      2.542729     37.836042     33.982038   1920.889858    199.566224    133.45908  1.074064e+09  1.062670e+09    128.28662      0.055925      0.029256      0.026669    124.772822    100.240891      0.092091           9.643063      9.259887      1.369273      5.269591          4.466611          3.388901        7.160679      0.008284      0.008381          0.092066      5.974809      8.832532         0.011126      0.550600\n",
       "std        0.672222     15.66461     14.504212   2948.850472   7525.606738  102631.946851    101.513358    116.667722  7.417784e+07  8.918691e+05      3.057946      4.767511     57.658385     52.184248   2900.509949    520.285264    127.35700  1.368335e+09  1.358850e+09    127.49137      0.116022      0.070854      0.055094    148.294212    184.094183      0.289156          35.977508     10.221752      1.067188      6.729755          6.685037          5.029129       10.481621      0.091171      0.092485          0.289121      6.867156     10.124902         0.104891      0.497436\n",
       "min        0.000000      1.00000      0.000000     24.000000      0.000000       0.000000      0.000000      0.000000  0.000000e+00  0.000000e+00      0.000000      0.000000      0.000000      0.000000      0.000000      0.000000      0.00000  0.000000e+00  0.000000e+00      0.00000      0.000000      0.000000      0.000000     24.000000      0.000000      0.000000           0.000000      1.000000      0.000000      1.000000          1.000000          1.000000        1.000000      0.000000      0.000000          0.000000      1.000000      1.000000         0.000000      0.000000\n",
       "25%        0.000008      2.00000      0.000000    114.000000      0.000000      28.606114     62.000000      0.000000  1.120247e+04  0.000000e+00      0.000000      0.000000      0.008000      0.000000      0.000000      0.000000      0.00000  0.000000e+00  0.000000e+00      0.00000      0.000000      0.000000      0.000000     57.000000      0.000000      0.000000           0.000000      2.000000      1.000000      1.000000          1.000000          1.000000        1.000000      0.000000      0.000000          0.000000      1.000000      2.000000         0.000000      0.000000\n",
       "50%        0.014138      6.00000      2.000000    534.000000    178.000000    2650.176667    254.000000     29.000000  5.770032e+05  2.112951e+03      1.000000      0.000000      0.557928      0.010000     17.623919      0.000000    255.00000  2.788886e+07  2.856975e+07    255.00000      0.000551      0.000441      0.000080     65.000000     44.000000      0.000000           0.000000      5.000000      1.000000      2.000000          1.000000          1.000000        3.000000      0.000000      0.000000          0.000000      3.000000      5.000000         0.000000      1.000000\n",
       "75%        0.719360     12.00000     10.000000   1280.000000    956.000000  111111.107200    254.000000    252.000000  6.514286e+07  1.585808e+04      3.000000      2.000000     63.409444     63.136369   3219.332412    128.459914    255.00000  2.171310e+09  2.144205e+09    255.00000      0.105541      0.052595      0.048816    100.000000     87.000000      0.000000           0.000000     11.000000      2.000000      6.000000          4.000000          3.000000        6.000000      0.000000      0.000000          0.000000      7.000000     11.000000         0.000000      1.000000\n",
       "max        2.403792     60.00000     54.000000  12472.000000  30622.000000  333333.321500    255.000000    253.000000  2.666667e+08  3.741446e+06     11.000000     18.000000    204.530258    167.626851   9532.382646   2218.933526    255.00000  3.876194e+09  3.862459e+09    255.00000      3.821465      3.226788      2.928778    638.000000    683.000000      1.000000         150.450000     37.000000      6.000000     25.000000         25.000000         18.000000       37.000000      2.000000      2.000000          1.000000     25.000000     36.000000         1.000000      1.000000"
      ]
     },
     "execution_count": 10,
     "metadata": {},
     "output_type": "execute_result"
    }
   ],
   "source": [
    "df_numeric = df.select_dtypes(include=[np.number])\n",
    "df_numeric.describe(include='all')"
   ]
  },
  {
   "cell_type": "code",
   "execution_count": 11,
   "metadata": {
    "execution": {
     "iopub.execute_input": "2022-11-10T04:23:05.639995Z",
     "iopub.status.busy": "2022-11-10T04:23:05.639622Z",
     "iopub.status.idle": "2022-11-10T04:23:05.777864Z",
     "shell.execute_reply": "2022-11-10T04:23:05.776853Z"
    },
    "papermill": {
     "duration": 0.223233,
     "end_time": "2022-11-10T04:23:05.780557",
     "exception": false,
     "start_time": "2022-11-10T04:23:05.557324",
     "status": "completed"
    },
    "tags": []
   },
   "outputs": [],
   "source": [
    "df_numeric = df.select_dtypes(include=[np.number])\n",
    "df_before = df_numeric.copy()\n",
    "DEBUG = 0\n",
    "for feature in df_numeric.columns:\n",
    "    if DEBUG == 1:\n",
    "        print(feature)\n",
    "        print('nunique = '+str(df_numeric[feature].nunique()))\n",
    "        print(df_numeric[feature].nunique()>50)\n",
    "        print('----------------------------------------------------')\n",
    "    if df_numeric[feature].nunique()>50:\n",
    "        if df_numeric[feature].min()==0:\n",
    "            df[feature] = np.log(df[feature]+1)\n",
    "        else:\n",
    "            df[feature] = np.log(df[feature])\n",
    "\n",
    "df_numeric = df.select_dtypes(include=[np.number])"
   ]
  },
  {
   "cell_type": "code",
   "execution_count": 12,
   "metadata": {
    "execution": {
     "iopub.execute_input": "2022-11-10T04:23:06.103509Z",
     "iopub.status.busy": "2022-11-10T04:23:06.103185Z",
     "iopub.status.idle": "2022-11-10T04:23:06.150409Z",
     "shell.execute_reply": "2022-11-10T04:23:06.149206Z"
    },
    "papermill": {
     "duration": 0.131144,
     "end_time": "2022-11-10T04:23:06.152724",
     "exception": false,
     "start_time": "2022-11-10T04:23:06.021580",
     "status": "completed"
    },
    "tags": []
   },
   "outputs": [
    {
     "data": {
      "text/html": [
       "<div>\n",
       "<style scoped>\n",
       "    .dataframe tbody tr th:only-of-type {\n",
       "        vertical-align: middle;\n",
       "    }\n",
       "\n",
       "    .dataframe tbody tr th {\n",
       "        vertical-align: top;\n",
       "    }\n",
       "\n",
       "    .dataframe thead th {\n",
       "        text-align: right;\n",
       "    }\n",
       "</style>\n",
       "<table border=\"1\" class=\"dataframe\">\n",
       "  <thead>\n",
       "    <tr style=\"text-align: right;\">\n",
       "      <th></th>\n",
       "      <th>proto</th>\n",
       "      <th>service</th>\n",
       "      <th>state</th>\n",
       "    </tr>\n",
       "  </thead>\n",
       "  <tbody>\n",
       "    <tr>\n",
       "      <th>count</th>\n",
       "      <td>82332</td>\n",
       "      <td>82332</td>\n",
       "      <td>82332</td>\n",
       "    </tr>\n",
       "    <tr>\n",
       "      <th>unique</th>\n",
       "      <td>131</td>\n",
       "      <td>13</td>\n",
       "      <td>7</td>\n",
       "    </tr>\n",
       "    <tr>\n",
       "      <th>top</th>\n",
       "      <td>tcp</td>\n",
       "      <td>-</td>\n",
       "      <td>FIN</td>\n",
       "    </tr>\n",
       "    <tr>\n",
       "      <th>freq</th>\n",
       "      <td>43095</td>\n",
       "      <td>47153</td>\n",
       "      <td>39339</td>\n",
       "    </tr>\n",
       "  </tbody>\n",
       "</table>\n",
       "</div>"
      ],
      "text/plain": [
       "        proto service  state\n",
       "count   82332   82332  82332\n",
       "unique    131      13      7\n",
       "top       tcp       -    FIN\n",
       "freq    43095   47153  39339"
      ]
     },
     "execution_count": 12,
     "metadata": {},
     "output_type": "execute_result"
    }
   ],
   "source": [
    "df_cat = df.select_dtypes(exclude=[np.number])\n",
    "df_cat.describe(include='all')"
   ]
  },
  {
   "cell_type": "code",
   "execution_count": 13,
   "metadata": {
    "execution": {
     "iopub.execute_input": "2022-11-10T04:23:06.335893Z",
     "iopub.status.busy": "2022-11-10T04:23:06.335123Z",
     "iopub.status.idle": "2022-11-10T04:23:06.403291Z",
     "shell.execute_reply": "2022-11-10T04:23:06.402368Z"
    },
    "papermill": {
     "duration": 0.172146,
     "end_time": "2022-11-10T04:23:06.406052",
     "exception": false,
     "start_time": "2022-11-10T04:23:06.233906",
     "status": "completed"
    },
    "tags": []
   },
   "outputs": [],
   "source": [
    "DEBUG = 0\n",
    "for feature in df_cat.columns:\n",
    "    if DEBUG == 1:\n",
    "        print(feature)\n",
    "        print('nunique = '+str(df_cat[feature].nunique()))\n",
    "        print(df_cat[feature].nunique()>6)\n",
    "        print(sum(df[feature].isin(df[feature].value_counts().head().index)))\n",
    "        print('----------------------------------------------------')\n",
    "    \n",
    "    if df_cat[feature].nunique()>6:\n",
    "        df[feature] = np.where(df[feature].isin(df[feature].value_counts().head().index), df[feature], '-')"
   ]
  },
  {
   "cell_type": "code",
   "execution_count": 14,
   "metadata": {
    "execution": {
     "iopub.execute_input": "2022-11-10T04:23:06.572768Z",
     "iopub.status.busy": "2022-11-10T04:23:06.572461Z",
     "iopub.status.idle": "2022-11-10T04:23:06.620987Z",
     "shell.execute_reply": "2022-11-10T04:23:06.620003Z"
    },
    "papermill": {
     "duration": 0.135325,
     "end_time": "2022-11-10T04:23:06.623449",
     "exception": false,
     "start_time": "2022-11-10T04:23:06.488124",
     "status": "completed"
    },
    "tags": []
   },
   "outputs": [
    {
     "data": {
      "text/html": [
       "<div>\n",
       "<style scoped>\n",
       "    .dataframe tbody tr th:only-of-type {\n",
       "        vertical-align: middle;\n",
       "    }\n",
       "\n",
       "    .dataframe tbody tr th {\n",
       "        vertical-align: top;\n",
       "    }\n",
       "\n",
       "    .dataframe thead th {\n",
       "        text-align: right;\n",
       "    }\n",
       "</style>\n",
       "<table border=\"1\" class=\"dataframe\">\n",
       "  <thead>\n",
       "    <tr style=\"text-align: right;\">\n",
       "      <th></th>\n",
       "      <th>proto</th>\n",
       "      <th>service</th>\n",
       "      <th>state</th>\n",
       "    </tr>\n",
       "  </thead>\n",
       "  <tbody>\n",
       "    <tr>\n",
       "      <th>count</th>\n",
       "      <td>82332</td>\n",
       "      <td>82332</td>\n",
       "      <td>82332</td>\n",
       "    </tr>\n",
       "    <tr>\n",
       "      <th>unique</th>\n",
       "      <td>6</td>\n",
       "      <td>5</td>\n",
       "      <td>6</td>\n",
       "    </tr>\n",
       "    <tr>\n",
       "      <th>top</th>\n",
       "      <td>tcp</td>\n",
       "      <td>-</td>\n",
       "      <td>FIN</td>\n",
       "    </tr>\n",
       "    <tr>\n",
       "      <th>freq</th>\n",
       "      <td>43095</td>\n",
       "      <td>49275</td>\n",
       "      <td>39339</td>\n",
       "    </tr>\n",
       "  </tbody>\n",
       "</table>\n",
       "</div>"
      ],
      "text/plain": [
       "        proto service  state\n",
       "count   82332   82332  82332\n",
       "unique      6       5      6\n",
       "top       tcp       -    FIN\n",
       "freq    43095   49275  39339"
      ]
     },
     "execution_count": 14,
     "metadata": {},
     "output_type": "execute_result"
    }
   ],
   "source": [
    "df_cat = df.select_dtypes(exclude=[np.number])\n",
    "df_cat.describe(include='all')"
   ]
  },
  {
   "cell_type": "code",
   "execution_count": 15,
   "metadata": {
    "execution": {
     "iopub.execute_input": "2022-11-10T04:23:06.793506Z",
     "iopub.status.busy": "2022-11-10T04:23:06.793203Z",
     "iopub.status.idle": "2022-11-10T04:23:06.806793Z",
     "shell.execute_reply": "2022-11-10T04:23:06.805879Z"
    },
    "papermill": {
     "duration": 0.100679,
     "end_time": "2022-11-10T04:23:06.808896",
     "exception": false,
     "start_time": "2022-11-10T04:23:06.708217",
     "status": "completed"
    },
    "tags": []
   },
   "outputs": [
    {
     "data": {
      "text/plain": [
       "Index(['tcp', 'udp', '-', 'unas', 'arp'], dtype='object')"
      ]
     },
     "execution_count": 15,
     "metadata": {},
     "output_type": "execute_result"
    }
   ],
   "source": [
    "df['proto'].value_counts().head().index"
   ]
  },
  {
   "cell_type": "code",
   "execution_count": 16,
   "metadata": {
    "execution": {
     "iopub.execute_input": "2022-11-10T04:23:06.976062Z",
     "iopub.status.busy": "2022-11-10T04:23:06.975731Z",
     "iopub.status.idle": "2022-11-10T04:23:06.989034Z",
     "shell.execute_reply": "2022-11-10T04:23:06.988112Z"
    },
    "papermill": {
     "duration": 0.099358,
     "end_time": "2022-11-10T04:23:06.991203",
     "exception": false,
     "start_time": "2022-11-10T04:23:06.891845",
     "status": "completed"
    },
    "tags": []
   },
   "outputs": [
    {
     "data": {
      "text/plain": [
       "Index(['tcp', 'udp', '-', 'unas', 'arp', 'ospf'], dtype='object')"
      ]
     },
     "execution_count": 16,
     "metadata": {},
     "output_type": "execute_result"
    }
   ],
   "source": [
    "df['proto'].value_counts().index"
   ]
  },
  {
   "cell_type": "code",
   "execution_count": 17,
   "metadata": {
    "execution": {
     "iopub.execute_input": "2022-11-10T04:23:07.488285Z",
     "iopub.status.busy": "2022-11-10T04:23:07.487966Z",
     "iopub.status.idle": "2022-11-10T04:23:08.029637Z",
     "shell.execute_reply": "2022-11-10T04:23:08.029008Z"
    },
    "papermill": {
     "duration": 0.627178,
     "end_time": "2022-11-10T04:23:08.031514",
     "exception": false,
     "start_time": "2022-11-10T04:23:07.404336",
     "status": "completed"
    },
    "tags": []
   },
   "outputs": [
    {
     "data": {
      "text/html": [
       "<iframe\n",
       "    scrolling=\"no\"\n",
       "    width=\"100%\"\n",
       "    height=\"1220\"\n",
       "    src=\"iframe_figures/figure_17.html\"\n",
       "    frameborder=\"0\"\n",
       "    allowfullscreen\n",
       "></iframe>\n"
      ]
     },
     "metadata": {},
     "output_type": "display_data"
    }
   ],
   "source": [
    "\n",
    "from sklearn.feature_selection import SelectKBest, chi2\n",
    "\n",
    "best_features = SelectKBest(score_func=chi2,k='all')\n",
    "\n",
    "X = df.iloc[:,4:-2]\n",
    "y = df.iloc[:,-1]\n",
    "fit = best_features.fit(X,y)\n",
    "\n",
    "df_scores=pd.DataFrame(fit.scores_)\n",
    "df_col=pd.DataFrame(X.columns)\n",
    "\n",
    "feature_score=pd.concat([df_col,df_scores],axis=1)\n",
    "feature_score.columns=['feature','score']\n",
    "feature_score.sort_values(by=['score'],ascending=True,inplace=True)\n",
    "\n",
    "fig = go.Figure(go.Bar(\n",
    "            x=feature_score['score'][0:21],\n",
    "            y=feature_score['feature'][0:21],\n",
    "            orientation='h'))\n",
    "\n",
    "fig.update_layout(title=\"Top 20 Features\",\n",
    "                  height=1200,\n",
    "                  showlegend=False,\n",
    "                 )\n",
    "\n",
    "fig.show()"
   ]
  },
  {
   "cell_type": "code",
   "execution_count": 18,
   "metadata": {
    "execution": {
     "iopub.execute_input": "2022-11-10T04:23:08.365324Z",
     "iopub.status.busy": "2022-11-10T04:23:08.364672Z",
     "iopub.status.idle": "2022-11-10T04:23:08.381938Z",
     "shell.execute_reply": "2022-11-10T04:23:08.381050Z"
    },
    "papermill": {
     "duration": 0.106095,
     "end_time": "2022-11-10T04:23:08.384599",
     "exception": false,
     "start_time": "2022-11-10T04:23:08.278504",
     "status": "completed"
    },
    "tags": []
   },
   "outputs": [],
   "source": [
    "X = df.iloc[:,:-1]\n",
    "y = df.iloc[:,-1]"
   ]
  },
  {
   "cell_type": "code",
   "execution_count": 19,
   "metadata": {
    "execution": {
     "iopub.execute_input": "2022-11-10T04:23:08.554701Z",
     "iopub.status.busy": "2022-11-10T04:23:08.554123Z",
     "iopub.status.idle": "2022-11-10T04:23:08.559759Z",
     "shell.execute_reply": "2022-11-10T04:23:08.559138Z"
    },
    "papermill": {
     "duration": 0.093165,
     "end_time": "2022-11-10T04:23:08.561556",
     "exception": false,
     "start_time": "2022-11-10T04:23:08.468391",
     "status": "completed"
    },
    "tags": []
   },
   "outputs": [
    {
     "data": {
      "text/plain": [
       "(82332, 42)"
      ]
     },
     "execution_count": 19,
     "metadata": {},
     "output_type": "execute_result"
    }
   ],
   "source": [
    "X.head()\n",
    "feature_names = list(X.columns)\n",
    "np.shape(X)"
   ]
  },
  {
   "cell_type": "code",
   "execution_count": 20,
   "metadata": {
    "execution": {
     "iopub.execute_input": "2022-11-10T04:23:08.733193Z",
     "iopub.status.busy": "2022-11-10T04:23:08.732879Z",
     "iopub.status.idle": "2022-11-10T04:23:08.898084Z",
     "shell.execute_reply": "2022-11-10T04:23:08.897306Z"
    },
    "papermill": {
     "duration": 0.253724,
     "end_time": "2022-11-10T04:23:08.900526",
     "exception": false,
     "start_time": "2022-11-10T04:23:08.646802",
     "status": "completed"
    },
    "tags": []
   },
   "outputs": [],
   "source": [
    "from sklearn.compose import ColumnTransformer\n",
    "from sklearn.preprocessing import OneHotEncoder\n",
    "ct = ColumnTransformer(transformers=[('encoder', OneHotEncoder(), [1,2,3])], remainder='passthrough')\n",
    "X = np.array(ct.fit_transform(X))"
   ]
  },
  {
   "cell_type": "code",
   "execution_count": 21,
   "metadata": {
    "execution": {
     "iopub.execute_input": "2022-11-10T04:23:09.067319Z",
     "iopub.status.busy": "2022-11-10T04:23:09.066980Z",
     "iopub.status.idle": "2022-11-10T04:23:09.072701Z",
     "shell.execute_reply": "2022-11-10T04:23:09.072132Z"
    },
    "papermill": {
     "duration": 0.091444,
     "end_time": "2022-11-10T04:23:09.074500",
     "exception": false,
     "start_time": "2022-11-10T04:23:08.983056",
     "status": "completed"
    },
    "tags": []
   },
   "outputs": [
    {
     "data": {
      "text/plain": [
       "(82332, 56)"
      ]
     },
     "execution_count": 21,
     "metadata": {},
     "output_type": "execute_result"
    }
   ],
   "source": [
    "np.shape(X)"
   ]
  },
  {
   "cell_type": "code",
   "execution_count": 22,
   "metadata": {
    "execution": {
     "iopub.execute_input": "2022-11-10T04:23:09.241077Z",
     "iopub.status.busy": "2022-11-10T04:23:09.240575Z",
     "iopub.status.idle": "2022-11-10T04:23:09.281866Z",
     "shell.execute_reply": "2022-11-10T04:23:09.281011Z"
    },
    "papermill": {
     "duration": 0.127209,
     "end_time": "2022-11-10T04:23:09.284222",
     "exception": false,
     "start_time": "2022-11-10T04:23:09.157013",
     "status": "completed"
    },
    "tags": []
   },
   "outputs": [
    {
     "data": {
      "text/html": [
       "<div>\n",
       "<style scoped>\n",
       "    .dataframe tbody tr th:only-of-type {\n",
       "        vertical-align: middle;\n",
       "    }\n",
       "\n",
       "    .dataframe tbody tr th {\n",
       "        vertical-align: top;\n",
       "    }\n",
       "\n",
       "    .dataframe thead th {\n",
       "        text-align: right;\n",
       "    }\n",
       "</style>\n",
       "<table border=\"1\" class=\"dataframe\">\n",
       "  <thead>\n",
       "    <tr style=\"text-align: right;\">\n",
       "      <th></th>\n",
       "      <th>proto</th>\n",
       "      <th>service</th>\n",
       "      <th>state</th>\n",
       "    </tr>\n",
       "  </thead>\n",
       "  <tbody>\n",
       "    <tr>\n",
       "      <th>count</th>\n",
       "      <td>82332</td>\n",
       "      <td>82332</td>\n",
       "      <td>82332</td>\n",
       "    </tr>\n",
       "    <tr>\n",
       "      <th>unique</th>\n",
       "      <td>6</td>\n",
       "      <td>5</td>\n",
       "      <td>6</td>\n",
       "    </tr>\n",
       "    <tr>\n",
       "      <th>top</th>\n",
       "      <td>tcp</td>\n",
       "      <td>-</td>\n",
       "      <td>FIN</td>\n",
       "    </tr>\n",
       "    <tr>\n",
       "      <th>freq</th>\n",
       "      <td>43095</td>\n",
       "      <td>49275</td>\n",
       "      <td>39339</td>\n",
       "    </tr>\n",
       "  </tbody>\n",
       "</table>\n",
       "</div>"
      ],
      "text/plain": [
       "        proto service  state\n",
       "count   82332   82332  82332\n",
       "unique      6       5      6\n",
       "top       tcp       -    FIN\n",
       "freq    43095   49275  39339"
      ]
     },
     "execution_count": 22,
     "metadata": {},
     "output_type": "execute_result"
    }
   ],
   "source": [
    "df_cat.describe(include='all')"
   ]
  },
  {
   "cell_type": "code",
   "execution_count": 23,
   "metadata": {
    "execution": {
     "iopub.execute_input": "2022-11-10T04:23:09.454441Z",
     "iopub.status.busy": "2022-11-10T04:23:09.454101Z",
     "iopub.status.idle": "2022-11-10T04:23:09.460565Z",
     "shell.execute_reply": "2022-11-10T04:23:09.459963Z"
    },
    "papermill": {
     "duration": 0.093877,
     "end_time": "2022-11-10T04:23:09.462734",
     "exception": false,
     "start_time": "2022-11-10T04:23:09.368857",
     "status": "completed"
    },
    "tags": []
   },
   "outputs": [
    {
     "data": {
      "text/plain": [
       "array([0.00000000e+00, 0.00000000e+00, 0.00000000e+00, 0.00000000e+00,\n",
       "       1.00000000e+00, 0.00000000e+00, 1.00000000e+00, 0.00000000e+00,\n",
       "       0.00000000e+00, 0.00000000e+00, 0.00000000e+00, 0.00000000e+00,\n",
       "       0.00000000e+00, 0.00000000e+00, 0.00000000e+00, 1.00000000e+00,\n",
       "       0.00000000e+00, 1.09999395e-05, 6.93147181e-01, 0.00000000e+00,\n",
       "       6.20657593e+00, 0.00000000e+00, 1.14176263e+01, 2.54000000e+02,\n",
       "       0.00000000e+00, 1.90104856e+01, 0.00000000e+00, 0.00000000e+00,\n",
       "       0.00000000e+00, 1.09399400e-02, 0.00000000e+00, 0.00000000e+00,\n",
       "       0.00000000e+00, 0.00000000e+00, 0.00000000e+00, 0.00000000e+00,\n",
       "       0.00000000e+00, 0.00000000e+00, 0.00000000e+00, 0.00000000e+00,\n",
       "       5.51342875e+00, 0.00000000e+00, 0.00000000e+00, 0.00000000e+00,\n",
       "       2.00000000e+00, 2.00000000e+00, 1.00000000e+00, 1.00000000e+00,\n",
       "       1.00000000e+00, 2.00000000e+00, 0.00000000e+00, 0.00000000e+00,\n",
       "       0.00000000e+00, 1.00000000e+00, 2.00000000e+00, 0.00000000e+00])"
      ]
     },
     "execution_count": 23,
     "metadata": {},
     "output_type": "execute_result"
    }
   ],
   "source": [
    "X[0]"
   ]
  },
  {
   "cell_type": "code",
   "execution_count": 24,
   "metadata": {
    "execution": {
     "iopub.execute_input": "2022-11-10T04:23:09.637463Z",
     "iopub.status.busy": "2022-11-10T04:23:09.636655Z",
     "iopub.status.idle": "2022-11-10T04:23:09.642803Z",
     "shell.execute_reply": "2022-11-10T04:23:09.641957Z"
    },
    "papermill": {
     "duration": 0.095841,
     "end_time": "2022-11-10T04:23:09.644849",
     "exception": false,
     "start_time": "2022-11-10T04:23:09.549008",
     "status": "completed"
    },
    "tags": []
   },
   "outputs": [
    {
     "data": {
      "text/plain": [
       "42"
      ]
     },
     "execution_count": 24,
     "metadata": {},
     "output_type": "execute_result"
    }
   ],
   "source": [
    "len(feature_names)"
   ]
  },
  {
   "cell_type": "code",
   "execution_count": 25,
   "metadata": {
    "execution": {
     "iopub.execute_input": "2022-11-10T04:23:09.815099Z",
     "iopub.status.busy": "2022-11-10T04:23:09.814691Z",
     "iopub.status.idle": "2022-11-10T04:23:09.836873Z",
     "shell.execute_reply": "2022-11-10T04:23:09.836159Z"
    },
    "papermill": {
     "duration": 0.109706,
     "end_time": "2022-11-10T04:23:09.839171",
     "exception": false,
     "start_time": "2022-11-10T04:23:09.729465",
     "status": "completed"
    },
    "tags": []
   },
   "outputs": [],
   "source": [
    "for label in list(df_cat['state'].value_counts().index)[::-1][1:]:\n",
    "    feature_names.insert(0,label)\n",
    "    \n",
    "for label in list(df_cat['service'].value_counts().index)[::-1][1:]:\n",
    "    feature_names.insert(0,label)\n",
    "    \n",
    "for label in list(df_cat['proto'].value_counts().index)[::-1][1:]:\n",
    "    feature_names.insert(0,label)"
   ]
  },
  {
   "cell_type": "code",
   "execution_count": 26,
   "metadata": {
    "execution": {
     "iopub.execute_input": "2022-11-10T04:23:10.008888Z",
     "iopub.status.busy": "2022-11-10T04:23:10.007753Z",
     "iopub.status.idle": "2022-11-10T04:23:10.013521Z",
     "shell.execute_reply": "2022-11-10T04:23:10.012856Z"
    },
    "papermill": {
     "duration": 0.092332,
     "end_time": "2022-11-10T04:23:10.015322",
     "exception": false,
     "start_time": "2022-11-10T04:23:09.922990",
     "status": "completed"
    },
    "tags": []
   },
   "outputs": [
    {
     "data": {
      "text/plain": [
       "56"
      ]
     },
     "execution_count": 26,
     "metadata": {},
     "output_type": "execute_result"
    }
   ],
   "source": [
    "len(feature_names)"
   ]
  },
  {
   "cell_type": "code",
   "execution_count": 27,
   "metadata": {
    "execution": {
     "iopub.execute_input": "2022-11-10T04:23:10.693492Z",
     "iopub.status.busy": "2022-11-10T04:23:10.693132Z",
     "iopub.status.idle": "2022-11-10T04:23:10.740908Z",
     "shell.execute_reply": "2022-11-10T04:23:10.739989Z"
    },
    "papermill": {
     "duration": 0.138059,
     "end_time": "2022-11-10T04:23:10.743582",
     "exception": false,
     "start_time": "2022-11-10T04:23:10.605523",
     "status": "completed"
    },
    "tags": []
   },
   "outputs": [],
   "source": [
    "from sklearn.model_selection import train_test_split\n",
    "X_train, X_test, y_train, y_test = train_test_split(X, y, \n",
    "                                                    test_size = 0.2, \n",
    "                                                    random_state = 0,\n",
    "                                                    stratify=y)"
   ]
  },
  {
   "cell_type": "code",
   "execution_count": 28,
   "metadata": {
    "execution": {
     "iopub.execute_input": "2022-11-10T04:23:11.085344Z",
     "iopub.status.busy": "2022-11-10T04:23:11.085010Z",
     "iopub.status.idle": "2022-11-10T04:23:11.126973Z",
     "shell.execute_reply": "2022-11-10T04:23:11.125806Z"
    },
    "papermill": {
     "duration": 0.130642,
     "end_time": "2022-11-10T04:23:11.129145",
     "exception": false,
     "start_time": "2022-11-10T04:23:10.998503",
     "status": "completed"
    },
    "tags": []
   },
   "outputs": [
    {
     "data": {
      "text/html": [
       "<div>\n",
       "<style scoped>\n",
       "    .dataframe tbody tr th:only-of-type {\n",
       "        vertical-align: middle;\n",
       "    }\n",
       "\n",
       "    .dataframe tbody tr th {\n",
       "        vertical-align: top;\n",
       "    }\n",
       "\n",
       "    .dataframe thead th {\n",
       "        text-align: right;\n",
       "    }\n",
       "</style>\n",
       "<table border=\"1\" class=\"dataframe\">\n",
       "  <thead>\n",
       "    <tr style=\"text-align: right;\">\n",
       "      <th></th>\n",
       "      <th>proto</th>\n",
       "      <th>service</th>\n",
       "      <th>state</th>\n",
       "    </tr>\n",
       "  </thead>\n",
       "  <tbody>\n",
       "    <tr>\n",
       "      <th>count</th>\n",
       "      <td>82332</td>\n",
       "      <td>82332</td>\n",
       "      <td>82332</td>\n",
       "    </tr>\n",
       "    <tr>\n",
       "      <th>unique</th>\n",
       "      <td>6</td>\n",
       "      <td>5</td>\n",
       "      <td>6</td>\n",
       "    </tr>\n",
       "    <tr>\n",
       "      <th>top</th>\n",
       "      <td>tcp</td>\n",
       "      <td>-</td>\n",
       "      <td>FIN</td>\n",
       "    </tr>\n",
       "    <tr>\n",
       "      <th>freq</th>\n",
       "      <td>43095</td>\n",
       "      <td>49275</td>\n",
       "      <td>39339</td>\n",
       "    </tr>\n",
       "  </tbody>\n",
       "</table>\n",
       "</div>"
      ],
      "text/plain": [
       "        proto service  state\n",
       "count   82332   82332  82332\n",
       "unique      6       5      6\n",
       "top       tcp       -    FIN\n",
       "freq    43095   49275  39339"
      ]
     },
     "execution_count": 28,
     "metadata": {},
     "output_type": "execute_result"
    }
   ],
   "source": [
    "df_cat.describe(include='all')"
   ]
  },
  {
   "cell_type": "code",
   "execution_count": 29,
   "metadata": {
    "execution": {
     "iopub.execute_input": "2022-11-10T04:23:11.301177Z",
     "iopub.status.busy": "2022-11-10T04:23:11.300810Z",
     "iopub.status.idle": "2022-11-10T04:23:11.372055Z",
     "shell.execute_reply": "2022-11-10T04:23:11.371228Z"
    },
    "papermill": {
     "duration": 0.16014,
     "end_time": "2022-11-10T04:23:11.374419",
     "exception": false,
     "start_time": "2022-11-10T04:23:11.214279",
     "status": "completed"
    },
    "tags": []
   },
   "outputs": [],
   "source": [
    "from sklearn.preprocessing import StandardScaler\n",
    "sc = StandardScaler()\n",
    "X_train[:, 18:] = sc.fit_transform(X_train[:, 18:])\n",
    "X_test[:, 18:] = sc.transform(X_test[:, 18:])"
   ]
  },
  {
   "cell_type": "code",
   "execution_count": 30,
   "metadata": {
    "execution": {
     "iopub.execute_input": "2022-11-10T04:23:11.721025Z",
     "iopub.status.busy": "2022-11-10T04:23:11.720513Z",
     "iopub.status.idle": "2022-11-10T04:23:11.727410Z",
     "shell.execute_reply": "2022-11-10T04:23:11.726718Z"
    },
    "papermill": {
     "duration": 0.09754,
     "end_time": "2022-11-10T04:23:11.729630",
     "exception": false,
     "start_time": "2022-11-10T04:23:11.632090",
     "status": "completed"
    },
    "tags": []
   },
   "outputs": [],
   "source": [
    "from sklearn.metrics import f1_score, precision_score, recall_score, accuracy_score\n",
    "from sklearn.metrics import plot_confusion_matrix # will plot the confusion matrix\n",
    "import time\n",
    "model_performance = pd.DataFrame(columns=['Accuracy','Recall','Precision','F1-Score','time to train','time to predict','total time'])\n"
   ]
  },
  {
   "cell_type": "code",
   "execution_count": 31,
   "metadata": {
    "execution": {
     "iopub.execute_input": "2022-11-10T04:23:12.078238Z",
     "iopub.status.busy": "2022-11-10T04:23:12.077852Z",
     "iopub.status.idle": "2022-11-10T04:23:13.771012Z",
     "shell.execute_reply": "2022-11-10T04:23:13.769763Z"
    },
    "papermill": {
     "duration": 1.786461,
     "end_time": "2022-11-10T04:23:13.775980",
     "exception": false,
     "start_time": "2022-11-10T04:23:11.989519",
     "status": "completed"
    },
    "tags": []
   },
   "outputs": [
    {
     "name": "stdout",
     "output_type": "stream",
     "text": [
      "CPU times: user 3.09 s, sys: 1.42 s, total: 4.51 s\n",
      "Wall time: 1.66 s\n"
     ]
    }
   ],
   "source": [
    "%%time\n",
    "from sklearn.linear_model import LogisticRegression\n",
    "start = time.time()\n",
    "model = LogisticRegression().fit(X_train,y_train)\n",
    "end_train = time.time()\n",
    "y_predictions = model.predict(X_test) # These are the predictions from the test data.\n",
    "end_predict = time.time()"
   ]
  },
  {
   "cell_type": "code",
   "execution_count": 32,
   "metadata": {
    "execution": {
     "iopub.execute_input": "2022-11-10T04:23:14.016755Z",
     "iopub.status.busy": "2022-11-10T04:23:14.016408Z",
     "iopub.status.idle": "2022-11-10T04:23:14.056007Z",
     "shell.execute_reply": "2022-11-10T04:23:14.055115Z"
    },
    "papermill": {
     "duration": 0.129862,
     "end_time": "2022-11-10T04:23:14.059340",
     "exception": false,
     "start_time": "2022-11-10T04:23:13.929478",
     "status": "completed"
    },
    "tags": []
   },
   "outputs": [
    {
     "name": "stdout",
     "output_type": "stream",
     "text": [
      "Accuracy: 92.80%\n",
      "Recall: 92.80%\n",
      "Precision: 92.83%\n",
      "F1-Score: 92.80%\n",
      "time to train: 1.65 s\n",
      "time to predict: 0.00 s\n",
      "total: 1.66 s\n"
     ]
    }
   ],
   "source": [
    "accuracy = accuracy_score(y_test, y_predictions)\n",
    "recall = recall_score(y_test, y_predictions, average='weighted')\n",
    "precision = precision_score(y_test, y_predictions, average='weighted')\n",
    "f1s = f1_score(y_test, y_predictions, average='weighted')\n",
    "\n",
    "print(\"Accuracy: \"+ \"{:.2%}\".format(accuracy))\n",
    "print(\"Recall: \"+ \"{:.2%}\".format(recall))\n",
    "print(\"Precision: \"+ \"{:.2%}\".format(precision))\n",
    "print(\"F1-Score: \"+ \"{:.2%}\".format(f1s))\n",
    "print(\"time to train: \"+ \"{:.2f}\".format(end_train-start)+\" s\")\n",
    "print(\"time to predict: \"+\"{:.2f}\".format(end_predict-end_train)+\" s\")\n",
    "print(\"total: \"+\"{:.2f}\".format(end_predict-start)+\" s\")\n",
    "model_performance.loc['Logistic'] = [accuracy, recall, precision, f1s,end_train-start,end_predict-end_train,end_predict-start]"
   ]
  },
  {
   "cell_type": "code",
   "execution_count": 33,
   "metadata": {
    "execution": {
     "iopub.execute_input": "2022-11-10T04:23:14.235668Z",
     "iopub.status.busy": "2022-11-10T04:23:14.235366Z",
     "iopub.status.idle": "2022-11-10T04:23:14.626710Z",
     "shell.execute_reply": "2022-11-10T04:23:14.625698Z"
    },
    "papermill": {
     "duration": 0.482977,
     "end_time": "2022-11-10T04:23:14.629221",
     "exception": false,
     "start_time": "2022-11-10T04:23:14.146244",
     "status": "completed"
    },
    "tags": []
   },
   "outputs": [
    {
     "data": {
      "image/png": "[encoded data removed]",
      "text/plain": [
       "<Figure size 360x360 with 2 Axes>"
      ]
     },
     "metadata": {
      "image/png": {
       "height": 291,
       "width": 324
      }
     },
     "output_type": "display_data"
    }
   ],
   "source": [
    "plt.rcParams['figure.figsize']=5,5 \n",
    "sns.set_style(\"white\")\n",
    "plot_confusion_matrix(model, X_test, y_test, cmap=plt.cm.Blues)  \n",
    "plt.show()"
   ]
  },
  {
   "cell_type": "code",
   "execution_count": 34,
   "metadata": {
    "execution": {
     "iopub.execute_input": "2022-11-10T04:23:14.979870Z",
     "iopub.status.busy": "2022-11-10T04:23:14.979547Z",
     "iopub.status.idle": "2022-11-10T04:23:35.034998Z",
     "shell.execute_reply": "2022-11-10T04:23:35.033100Z"
    },
    "papermill": {
     "duration": 20.146984,
     "end_time": "2022-11-10T04:23:35.038490",
     "exception": false,
     "start_time": "2022-11-10T04:23:14.891506",
     "status": "completed"
    },
    "tags": []
   },
   "outputs": [
    {
     "name": "stdout",
     "output_type": "stream",
     "text": [
      "CPU times: user 17.2 s, sys: 15.9 s, total: 33.1 s\n",
      "Wall time: 20.6 s\n"
     ]
    }
   ],
   "source": [
    "%%time\n",
    "from sklearn.neighbors import KNeighborsClassifier\n",
    "start = time.time()\n",
    "model = KNeighborsClassifier(n_neighbors=3).fit(X_train,y_train)\n",
    "end_train = time.time()\n",
    "y_predictions = model.predict(X_test) # These are the predictions from the test data.\n",
    "end_predict = time.time()"
   ]
  },
  {
   "cell_type": "code",
   "execution_count": 35,
   "metadata": {
    "execution": {
     "iopub.execute_input": "2022-11-10T04:23:35.249816Z",
     "iopub.status.busy": "2022-11-10T04:23:35.248786Z",
     "iopub.status.idle": "2022-11-10T04:23:35.292357Z",
     "shell.execute_reply": "2022-11-10T04:23:35.291305Z"
    },
    "papermill": {
     "duration": 0.14973,
     "end_time": "2022-11-10T04:23:35.295383",
     "exception": false,
     "start_time": "2022-11-10T04:23:35.145653",
     "status": "completed"
    },
    "tags": []
   },
   "outputs": [
    {
     "name": "stdout",
     "output_type": "stream",
     "text": [
      "Accuracy: 95.04%\n",
      "Recall: 95.04%\n",
      "Precision: 95.09%\n",
      "F1-Score: 95.05%\n",
      "time to train: 0.01 s\n",
      "time to predict: 20.54 s\n",
      "total: 20.55 s\n"
     ]
    }
   ],
   "source": [
    "accuracy = accuracy_score(y_test, y_predictions)\n",
    "recall = recall_score(y_test, y_predictions, average='weighted')\n",
    "precision = precision_score(y_test, y_predictions, average='weighted')\n",
    "f1s = f1_score(y_test, y_predictions, average='weighted')\n",
    "\n",
    "print(\"Accuracy: \"+ \"{:.2%}\".format(accuracy))\n",
    "print(\"Recall: \"+ \"{:.2%}\".format(recall))\n",
    "print(\"Precision: \"+ \"{:.2%}\".format(precision))\n",
    "print(\"F1-Score: \"+ \"{:.2%}\".format(f1s))\n",
    "print(\"time to train: \"+ \"{:.2f}\".format(end_train-start)+\" s\")\n",
    "print(\"time to predict: \"+\"{:.2f}\".format(end_predict-end_train)+\" s\")\n",
    "print(\"total: \"+\"{:.2f}\".format(end_predict-start)+\" s\")\n",
    "model_performance.loc['kNN'] = [accuracy, recall, precision, f1s,end_train-start,end_predict-end_train,end_predict-start]"
   ]
  },
  {
   "cell_type": "code",
   "execution_count": 36,
   "metadata": {
    "execution": {
     "iopub.execute_input": "2022-11-10T04:23:35.485121Z",
     "iopub.status.busy": "2022-11-10T04:23:35.484546Z",
     "iopub.status.idle": "2022-11-10T04:23:55.031140Z",
     "shell.execute_reply": "2022-11-10T04:23:55.030388Z"
    },
    "papermill": {
     "duration": 19.644765,
     "end_time": "2022-11-10T04:23:55.033423",
     "exception": false,
     "start_time": "2022-11-10T04:23:35.388658",
     "status": "completed"
    },
    "tags": []
   },
   "outputs": [
    {
     "data": {
      "image/png": "[encoded data removed]",
      "text/plain": [
       "<Figure size 360x360 with 2 Axes>"
      ]
     },
     "metadata": {
      "image/png": {
       "height": 291,
       "width": 324
      }
     },
     "output_type": "display_data"
    }
   ],
   "source": [
    "plt.rcParams['figure.figsize']=5,5 \n",
    "sns.set_style(\"white\")\n",
    "plot_confusion_matrix(model, X_test, y_test, cmap=plt.cm.Blues)  \n",
    "plt.show()"
   ]
  },
  {
   "cell_type": "code",
   "execution_count": 37,
   "metadata": {
    "execution": {
     "iopub.execute_input": "2022-11-10T04:23:55.408195Z",
     "iopub.status.busy": "2022-11-10T04:23:55.407809Z",
     "iopub.status.idle": "2022-11-10T04:23:56.827646Z",
     "shell.execute_reply": "2022-11-10T04:23:56.826584Z"
    },
    "papermill": {
     "duration": 1.514954,
     "end_time": "2022-11-10T04:23:56.829996",
     "exception": false,
     "start_time": "2022-11-10T04:23:55.315042",
     "status": "completed"
    },
    "tags": []
   },
   "outputs": [
    {
     "name": "stdout",
     "output_type": "stream",
     "text": [
      "CPU times: user 1.09 s, sys: 16.1 ms, total: 1.11 s\n",
      "Wall time: 1.62 s\n"
     ]
    }
   ],
   "source": [
    "%%time\n",
    "from sklearn.tree import DecisionTreeClassifier\n",
    "start = time.time()\n",
    "model = DecisionTreeClassifier().fit(X_train,y_train)\n",
    "end_train = time.time()\n",
    "y_predictions = model.predict(X_test) # These are the predictions from the test data.\n",
    "end_predict = time.time()"
   ]
  },
  {
   "cell_type": "code",
   "execution_count": 38,
   "metadata": {
    "execution": {
     "iopub.execute_input": "2022-11-10T04:23:57.013611Z",
     "iopub.status.busy": "2022-11-10T04:23:57.013244Z",
     "iopub.status.idle": "2022-11-10T04:23:57.052677Z",
     "shell.execute_reply": "2022-11-10T04:23:57.051736Z"
    },
    "papermill": {
     "duration": 0.134682,
     "end_time": "2022-11-10T04:23:57.055213",
     "exception": false,
     "start_time": "2022-11-10T04:23:56.920531",
     "status": "completed"
    },
    "tags": []
   },
   "outputs": [
    {
     "name": "stdout",
     "output_type": "stream",
     "text": [
      "Accuracy: 96.53%\n",
      "Recall: 96.53%\n",
      "Precision: 96.53%\n",
      "F1-Score: 96.53%\n",
      "time to train: 1.31 s\n",
      "time to predict: 0.00 s\n",
      "total: 1.31 s\n"
     ]
    }
   ],
   "source": [
    "accuracy = accuracy_score(y_test, y_predictions)\n",
    "recall = recall_score(y_test, y_predictions, average='weighted')\n",
    "precision = precision_score(y_test, y_predictions, average='weighted')\n",
    "f1s = f1_score(y_test, y_predictions, average='weighted')\n",
    "\n",
    "print(\"Accuracy: \"+ \"{:.2%}\".format(accuracy))\n",
    "print(\"Recall: \"+ \"{:.2%}\".format(recall))\n",
    "print(\"Precision: \"+ \"{:.2%}\".format(precision))\n",
    "print(\"F1-Score: \"+ \"{:.2%}\".format(f1s))\n",
    "print(\"time to train: \"+ \"{:.2f}\".format(end_train-start)+\" s\")\n",
    "print(\"time to predict: \"+\"{:.2f}\".format(end_predict-end_train)+\" s\")\n",
    "print(\"total: \"+\"{:.2f}\".format(end_predict-start)+\" s\")\n",
    "model_performance.loc['Decision Tree'] = [accuracy, recall, precision, f1s,end_train-start,end_predict-end_train,end_predict-start]"
   ]
  },
  {
   "cell_type": "code",
   "execution_count": 39,
   "metadata": {
    "execution": {
     "iopub.execute_input": "2022-11-10T04:23:57.241231Z",
     "iopub.status.busy": "2022-11-10T04:23:57.240910Z",
     "iopub.status.idle": "2022-11-10T04:23:57.536539Z",
     "shell.execute_reply": "2022-11-10T04:23:57.535509Z"
    },
    "papermill": {
     "duration": 0.391089,
     "end_time": "2022-11-10T04:23:57.538896",
     "exception": false,
     "start_time": "2022-11-10T04:23:57.147807",
     "status": "completed"
    },
    "tags": []
   },
   "outputs": [
    {
     "data": {
      "image/png": "[encoded data removed]",
      "text/plain": [
       "<Figure size 360x360 with 2 Axes>"
      ]
     },
     "metadata": {
      "image/png": {
       "height": 291,
       "width": 324
      }
     },
     "output_type": "display_data"
    }
   ],
   "source": [
    "plt.rcParams['figure.figsize']=5,5 \n",
    "sns.set_style(\"white\")\n",
    "plot_confusion_matrix(model, X_test, y_test, cmap=plt.cm.Blues)  \n",
    "plt.show()"
   ]
  },
  {
   "cell_type": "code",
   "execution_count": 40,
   "metadata": {
    "execution": {
     "iopub.execute_input": "2022-11-10T04:23:57.733688Z",
     "iopub.status.busy": "2022-11-10T04:23:57.733395Z",
     "iopub.status.idle": "2022-11-10T04:23:58.196549Z",
     "shell.execute_reply": "2022-11-10T04:23:58.195662Z"
    },
    "papermill": {
     "duration": 0.567563,
     "end_time": "2022-11-10T04:23:58.199402",
     "exception": false,
     "start_time": "2022-11-10T04:23:57.631839",
     "status": "completed"
    },
    "tags": []
   },
   "outputs": [
    {
     "data": {
      "image/png": "[encoded data removed]",
      "text/plain": [
       "<Figure size 720x720 with 1 Axes>"
      ]
     },
     "metadata": {
      "image/png": {
       "height": 574,
       "width": 680
      }
     },
     "output_type": "display_data"
    }
   ],
   "source": [
    "plt.rcParams['figure.figsize']=10,10\n",
    "sns.set_style(\"white\")\n",
    "feat_importances = pd.Series(model.feature_importances_, index=feature_names)\n",
    "feat_importances = feat_importances.groupby(level=0).mean()\n",
    "feat_importances.nlargest(20).plot(kind='barh').invert_yaxis()\n",
    "sns.despine()\n",
    "plt.show()"
   ]
  },
  {
   "cell_type": "code",
   "execution_count": 41,
   "metadata": {
    "execution": {
     "iopub.execute_input": "2022-11-10T04:23:58.581365Z",
     "iopub.status.busy": "2022-11-10T04:23:58.580813Z",
     "iopub.status.idle": "2022-11-10T04:24:02.530009Z",
     "shell.execute_reply": "2022-11-10T04:24:02.528723Z"
    },
    "papermill": {
     "duration": 4.049858,
     "end_time": "2022-11-10T04:24:02.533527",
     "exception": false,
     "start_time": "2022-11-10T04:23:58.483669",
     "status": "completed"
    },
    "tags": []
   },
   "outputs": [
    {
     "name": "stdout",
     "output_type": "stream",
     "text": [
      "CPU times: user 6.93 s, sys: 161 ms, total: 7.09 s\n",
      "Wall time: 2.7 s\n"
     ]
    }
   ],
   "source": [
    "%%time\n",
    "from sklearn.ensemble import ExtraTreesClassifier\n",
    "start = time.time()\n",
    "model = ExtraTreesClassifier(random_state=0,n_jobs=-1).fit(X_train,y_train)\n",
    "end_train = time.time()\n",
    "y_predictions = model.predict(X_test) \n",
    "end_predict = time.time()"
   ]
  },
  {
   "cell_type": "code",
   "execution_count": 42,
   "metadata": {
    "execution": {
     "iopub.execute_input": "2022-11-10T04:24:02.728586Z",
     "iopub.status.busy": "2022-11-10T04:24:02.728274Z",
     "iopub.status.idle": "2022-11-10T04:24:02.774202Z",
     "shell.execute_reply": "2022-11-10T04:24:02.772949Z"
    },
    "papermill": {
     "duration": 0.147789,
     "end_time": "2022-11-10T04:24:02.776970",
     "exception": false,
     "start_time": "2022-11-10T04:24:02.629181",
     "status": "completed"
    },
    "tags": []
   },
   "outputs": [
    {
     "name": "stdout",
     "output_type": "stream",
     "text": [
      "Accuracy: 97.53%\n",
      "Recall: 97.53%\n",
      "Precision: 97.55%\n",
      "F1-Score: 97.53%\n",
      "time to train: 2.54 s\n",
      "time to predict: 0.11 s\n",
      "total: 2.65 s\n"
     ]
    }
   ],
   "source": [
    "accuracy = accuracy_score(y_test, y_predictions)\n",
    "recall = recall_score(y_test, y_predictions, average='weighted')\n",
    "precision = precision_score(y_test, y_predictions, average='weighted')\n",
    "f1s = f1_score(y_test, y_predictions, average='weighted')\n",
    "\n",
    "print(\"Accuracy: \"+ \"{:.2%}\".format(accuracy))\n",
    "print(\"Recall: \"+ \"{:.2%}\".format(recall))\n",
    "print(\"Precision: \"+ \"{:.2%}\".format(precision))\n",
    "print(\"F1-Score: \"+ \"{:.2%}\".format(f1s))\n",
    "print(\"time to train: \"+ \"{:.2f}\".format(end_train-start)+\" s\")\n",
    "print(\"time to predict: \"+\"{:.2f}\".format(end_predict-end_train)+\" s\")\n",
    "print(\"total: \"+\"{:.2f}\".format(end_predict-start)+\" s\")\n",
    "model_performance.loc['Extra Trees'] = [accuracy, recall, precision, f1s,end_train-start,end_predict-end_train,end_predict-start]"
   ]
  },
  {
   "cell_type": "code",
   "execution_count": 43,
   "metadata": {
    "execution": {
     "iopub.execute_input": "2022-11-10T04:24:02.971035Z",
     "iopub.status.busy": "2022-11-10T04:24:02.970702Z",
     "iopub.status.idle": "2022-11-10T04:24:03.499026Z",
     "shell.execute_reply": "2022-11-10T04:24:03.498090Z"
    },
    "papermill": {
     "duration": 0.627776,
     "end_time": "2022-11-10T04:24:03.501788",
     "exception": false,
     "start_time": "2022-11-10T04:24:02.874012",
     "status": "completed"
    },
    "tags": []
   },
   "outputs": [
    {
     "data": {
      "image/png": "[encoded data removed]",
      "text/plain": [
       "<Figure size 360x360 with 2 Axes>"
      ]
     },
     "metadata": {
      "image/png": {
       "height": 291,
       "width": 324
      }
     },
     "output_type": "display_data"
    }
   ],
   "source": [
    "plt.rcParams['figure.figsize']=5,5 \n",
    "sns.set_style(\"white\")\n",
    "plot_confusion_matrix(model, X_test, y_test, cmap=plt.cm.Blues)  \n",
    "plt.show()"
   ]
  },
  {
   "cell_type": "code",
   "execution_count": 44,
   "metadata": {
    "execution": {
     "iopub.execute_input": "2022-11-10T04:24:03.712110Z",
     "iopub.status.busy": "2022-11-10T04:24:03.711564Z",
     "iopub.status.idle": "2022-11-10T04:24:04.298455Z",
     "shell.execute_reply": "2022-11-10T04:24:04.297378Z"
    },
    "papermill": {
     "duration": 0.701046,
     "end_time": "2022-11-10T04:24:04.301190",
     "exception": false,
     "start_time": "2022-11-10T04:24:03.600144",
     "status": "completed"
    },
    "tags": []
   },
   "outputs": [
    {
     "data": {
      "image/png": "[encoded data removed]",
      "text/plain": [
       "<Figure size 720x720 with 1 Axes>"
      ]
     },
     "metadata": {
      "image/png": {
       "height": 574,
       "width": 661
      }
     },
     "output_type": "display_data"
    }
   ],
   "source": [
    "plt.rcParams['figure.figsize']=10,10\n",
    "sns.set_style(\"white\")\n",
    "sns.despine()\n",
    "feat_importances = pd.Series(model.feature_importances_, index=feature_names)\n",
    "feat_importances = feat_importances.groupby(level=0).mean()\n",
    "feat_importances.nlargest(20).plot(kind='barh').invert_yaxis()\n",
    "sns.despine()\n",
    "plt.show()"
   ]
  },
  {
   "cell_type": "code",
   "execution_count": 45,
   "metadata": {
    "execution": {
     "iopub.execute_input": "2022-11-10T04:24:04.774729Z",
     "iopub.status.busy": "2022-11-10T04:24:04.774007Z",
     "iopub.status.idle": "2022-11-10T04:24:10.460329Z",
     "shell.execute_reply": "2022-11-10T04:24:10.458896Z"
    },
    "papermill": {
     "duration": 5.811551,
     "end_time": "2022-11-10T04:24:10.462808",
     "exception": false,
     "start_time": "2022-11-10T04:24:04.651257",
     "status": "completed"
    },
    "tags": []
   },
   "outputs": [
    {
     "name": "stdout",
     "output_type": "stream",
     "text": [
      "CPU times: user 10.9 s, sys: 99.9 ms, total: 11 s\n",
      "Wall time: 3.55 s\n"
     ]
    }
   ],
   "source": [
    "%%time\n",
    "from sklearn.ensemble import RandomForestClassifier\n",
    "start = time.time()\n",
    "model = RandomForestClassifier(n_estimators = 100,n_jobs=-1,random_state=0,bootstrap=True,).fit(X_train,y_train)\n",
    "end_train = time.time()\n",
    "y_predictions = model.predict(X_test)\n",
    "end_predict = time.time()"
   ]
  },
  {
   "cell_type": "code",
   "execution_count": 46,
   "metadata": {
    "execution": {
     "iopub.execute_input": "2022-11-10T04:24:10.665368Z",
     "iopub.status.busy": "2022-11-10T04:24:10.665070Z",
     "iopub.status.idle": "2022-11-10T04:24:10.703854Z",
     "shell.execute_reply": "2022-11-10T04:24:10.702795Z"
    },
    "papermill": {
     "duration": 0.144123,
     "end_time": "2022-11-10T04:24:10.706617",
     "exception": false,
     "start_time": "2022-11-10T04:24:10.562494",
     "status": "completed"
    },
    "tags": []
   },
   "outputs": [
    {
     "name": "stdout",
     "output_type": "stream",
     "text": [
      "Accuracy: 97.68%\n",
      "Recall: 97.68%\n",
      "Precision: 97.69%\n",
      "F1-Score: 97.68%\n",
      "time to train: 3.44 s\n",
      "time to predict: 0.11 s\n",
      "total: 3.54 s\n"
     ]
    }
   ],
   "source": [
    "accuracy = accuracy_score(y_test, y_predictions)\n",
    "recall = recall_score(y_test, y_predictions, average='weighted')\n",
    "precision = precision_score(y_test, y_predictions, average='weighted')\n",
    "f1s = f1_score(y_test, y_predictions, average='weighted')\n",
    "\n",
    "print(\"Accuracy: \"+ \"{:.2%}\".format(accuracy))\n",
    "print(\"Recall: \"+ \"{:.2%}\".format(recall))\n",
    "print(\"Precision: \"+ \"{:.2%}\".format(precision))\n",
    "print(\"F1-Score: \"+ \"{:.2%}\".format(f1s))\n",
    "print(\"time to train: \"+ \"{:.2f}\".format(end_train-start)+\" s\")\n",
    "print(\"time to predict: \"+\"{:.2f}\".format(end_predict-end_train)+\" s\")\n",
    "print(\"total: \"+\"{:.2f}\".format(end_predict-start)+\" s\")\n",
    "model_performance.loc['Random Forest'] = [accuracy, recall, precision, f1s,end_train-start,end_predict-end_train,end_predict-start]"
   ]
  },
  {
   "cell_type": "code",
   "execution_count": 47,
   "metadata": {
    "execution": {
     "iopub.execute_input": "2022-11-10T04:24:10.912878Z",
     "iopub.status.busy": "2022-11-10T04:24:10.912530Z",
     "iopub.status.idle": "2022-11-10T04:24:11.426976Z",
     "shell.execute_reply": "2022-11-10T04:24:11.425725Z"
    },
    "papermill": {
     "duration": 0.622469,
     "end_time": "2022-11-10T04:24:11.429534",
     "exception": false,
     "start_time": "2022-11-10T04:24:10.807065",
     "status": "completed"
    },
    "tags": []
   },
   "outputs": [
    {
     "data": {
      "image/png": "[encoded data removed]",
      "text/plain": [
       "<Figure size 360x360 with 2 Axes>"
      ]
     },
     "metadata": {
      "image/png": {
       "height": 291,
       "width": 324
      }
     },
     "output_type": "display_data"
    }
   ],
   "source": [
    "plt.rcParams['figure.figsize']=5,5 \n",
    "sns.set_style(\"white\")\n",
    "plot_confusion_matrix(model, X_test, y_test, cmap=plt.cm.Blues)  \n",
    "plt.show()"
   ]
  },
  {
   "cell_type": "code",
   "execution_count": 48,
   "metadata": {
    "execution": {
     "iopub.execute_input": "2022-11-10T04:24:11.644521Z",
     "iopub.status.busy": "2022-11-10T04:24:11.643731Z",
     "iopub.status.idle": "2022-11-10T04:24:12.246692Z",
     "shell.execute_reply": "2022-11-10T04:24:12.245901Z"
    },
    "papermill": {
     "duration": 0.71233,
     "end_time": "2022-11-10T04:24:12.249417",
     "exception": false,
     "start_time": "2022-11-10T04:24:11.537087",
     "status": "completed"
    },
    "tags": []
   },
   "outputs": [
    {
     "data": {
      "image/png": "[encoded data removed]",
      "text/plain": [
       "<Figure size 720x720 with 1 Axes>"
      ]
     },
     "metadata": {
      "image/png": {
       "height": 574,
       "width": 661
      }
     },
     "output_type": "display_data"
    }
   ],
   "source": [
    "plt.rcParams['figure.figsize']=10,10\n",
    "sns.set_style(\"white\")\n",
    "feat_importances = pd.Series(model.feature_importances_, index=feature_names)\n",
    "feat_importances = feat_importances.groupby(level=0).mean()\n",
    "feat_importances.nlargest(20).plot(kind='barh').invert_yaxis()\n",
    "sns.despine()\n",
    "plt.show()"
   ]
  },
  {
   "cell_type": "code",
   "execution_count": 49,
   "metadata": {
    "execution": {
     "iopub.execute_input": "2022-11-10T04:24:12.750085Z",
     "iopub.status.busy": "2022-11-10T04:24:12.749491Z",
     "iopub.status.idle": "2022-11-10T04:24:59.712410Z",
     "shell.execute_reply": "2022-11-10T04:24:59.710908Z"
    },
    "papermill": {
     "duration": 47.191606,
     "end_time": "2022-11-10T04:24:59.823864",
     "exception": false,
     "start_time": "2022-11-10T04:24:12.632258",
     "status": "completed"
    },
    "tags": []
   },
   "outputs": [
    {
     "name": "stdout",
     "output_type": "stream",
     "text": [
      "CPU times: user 35.3 s, sys: 5.26 ms, total: 35.3 s\n",
      "Wall time: 35.5 s\n"
     ]
    }
   ],
   "source": [
    "%%time\n",
    "from sklearn.ensemble import GradientBoostingClassifier\n",
    "start = time.time()\n",
    "model = GradientBoostingClassifier().fit(X_train,y_train)\n",
    "end_train = time.time()\n",
    "y_predictions = model.predict(X_test) # These are the predictions from the test data.\n",
    "end_predict = time.time()"
   ]
  },
  {
   "cell_type": "code",
   "execution_count": 50,
   "metadata": {
    "execution": {
     "iopub.execute_input": "2022-11-10T04:25:00.035846Z",
     "iopub.status.busy": "2022-11-10T04:25:00.035185Z",
     "iopub.status.idle": "2022-11-10T04:25:00.077564Z",
     "shell.execute_reply": "2022-11-10T04:25:00.076284Z"
    },
    "papermill": {
     "duration": 0.152574,
     "end_time": "2022-11-10T04:25:00.079902",
     "exception": false,
     "start_time": "2022-11-10T04:24:59.927328",
     "status": "completed"
    },
    "tags": []
   },
   "outputs": [
    {
     "name": "stdout",
     "output_type": "stream",
     "text": [
      "Accuracy: 95.85%\n",
      "Recall: 95.85%\n",
      "Precision: 95.86%\n",
      "F1-Score: 95.85%\n",
      "time to train: 35.51 s\n",
      "time to predict: 0.03 s\n",
      "total: 35.54 s\n"
     ]
    }
   ],
   "source": [
    "accuracy = accuracy_score(y_test, y_predictions)\n",
    "recall = recall_score(y_test, y_predictions, average='weighted')\n",
    "precision = precision_score(y_test, y_predictions, average='weighted')\n",
    "f1s = f1_score(y_test, y_predictions, average='weighted')\n",
    "\n",
    "print(\"Accuracy: \"+ \"{:.2%}\".format(accuracy))\n",
    "print(\"Recall: \"+ \"{:.2%}\".format(recall))\n",
    "print(\"Precision: \"+ \"{:.2%}\".format(precision))\n",
    "print(\"F1-Score: \"+ \"{:.2%}\".format(f1s))\n",
    "print(\"time to train: \"+ \"{:.2f}\".format(end_train-start)+\" s\")\n",
    "print(\"time to predict: \"+\"{:.2f}\".format(end_predict-end_train)+\" s\")\n",
    "print(\"total: \"+\"{:.2f}\".format(end_predict-start)+\" s\")\n",
    "model_performance.loc['Gradient Boosting Classifier'] = [accuracy, recall, precision, f1s,end_train-start,end_predict-end_train,end_predict-start]"
   ]
  },
  {
   "cell_type": "code",
   "execution_count": 51,
   "metadata": {
    "execution": {
     "iopub.execute_input": "2022-11-10T04:25:00.299890Z",
     "iopub.status.busy": "2022-11-10T04:25:00.298994Z",
     "iopub.status.idle": "2022-11-10T04:25:00.639905Z",
     "shell.execute_reply": "2022-11-10T04:25:00.638892Z"
    },
    "papermill": {
     "duration": 0.454277,
     "end_time": "2022-11-10T04:25:00.642294",
     "exception": false,
     "start_time": "2022-11-10T04:25:00.188017",
     "status": "completed"
    },
    "tags": []
   },
   "outputs": [
    {
     "data": {
      "image/png": "[encoded data removed]",
      "text/plain": [
       "<Figure size 360x360 with 2 Axes>"
      ]
     },
     "metadata": {
      "image/png": {
       "height": 291,
       "width": 324
      }
     },
     "output_type": "display_data"
    }
   ],
   "source": [
    "plt.rcParams['figure.figsize']=5,5 \n",
    "sns.set_style(\"white\")\n",
    "plot_confusion_matrix(model, X_test, y_test, cmap=plt.cm.Blues)  \n",
    "plt.show()"
   ]
  },
  {
   "cell_type": "code",
   "execution_count": 52,
   "metadata": {
    "execution": {
     "iopub.execute_input": "2022-11-10T04:25:00.858792Z",
     "iopub.status.busy": "2022-11-10T04:25:00.858367Z",
     "iopub.status.idle": "2022-11-10T04:25:01.327823Z",
     "shell.execute_reply": "2022-11-10T04:25:01.326870Z"
    },
    "papermill": {
     "duration": 0.582658,
     "end_time": "2022-11-10T04:25:01.330967",
     "exception": false,
     "start_time": "2022-11-10T04:25:00.748309",
     "status": "completed"
    },
    "tags": []
   },
   "outputs": [
    {
     "data": {
      "image/png": "[encoded data removed]",
      "text/plain": [
       "<Figure size 720x720 with 1 Axes>"
      ]
     },
     "metadata": {
      "image/png": {
       "height": 574,
       "width": 675
      }
     },
     "output_type": "display_data"
    }
   ],
   "source": [
    "plt.rcParams['figure.figsize']=10,10\n",
    "sns.set_style(\"white\")\n",
    "feat_importances = pd.Series(model.feature_importances_, index=feature_names)\n",
    "feat_importances = feat_importances.groupby(level=0).mean()\n",
    "feat_importances.nlargest(20).plot(kind='barh').invert_yaxis()\n",
    "sns.despine()\n",
    "plt.show()"
   ]
  },
  {
   "cell_type": "code",
   "execution_count": 53,
   "metadata": {
    "execution": {
     "iopub.execute_input": "2022-11-10T04:25:01.770796Z",
     "iopub.status.busy": "2022-11-10T04:25:01.770493Z",
     "iopub.status.idle": "2022-11-10T04:25:45.725273Z",
     "shell.execute_reply": "2022-11-10T04:25:45.723700Z"
    },
    "papermill": {
     "duration": 44.26022,
     "end_time": "2022-11-10T04:25:45.919329",
     "exception": false,
     "start_time": "2022-11-10T04:25:01.659109",
     "status": "completed"
    },
    "tags": []
   },
   "outputs": [
    {
     "name": "stdout",
     "output_type": "stream",
     "text": [
      "CPU times: user 1min 1s, sys: 25.6 s, total: 1min 26s\n",
      "Wall time: 22.2 s\n"
     ]
    }
   ],
   "source": [
    "%%time\n",
    "from sklearn.neural_network import MLPClassifier\n",
    "start = time.time()\n",
    "model = MLPClassifier(hidden_layer_sizes = (20,20,), \n",
    "                      activation='relu', \n",
    "                      solver='adam',\n",
    "                      batch_size=2000,\n",
    "                      verbose=0).fit(X_train,y_train)\n",
    "end_train = time.time()\n",
    "y_predictions = model.predict(X_test) # These are the predictions from the test data.\n",
    "end_predict = time.time()"
   ]
  },
  {
   "cell_type": "code",
   "execution_count": 54,
   "metadata": {
    "execution": {
     "iopub.execute_input": "2022-11-10T04:25:46.164342Z",
     "iopub.status.busy": "2022-11-10T04:25:46.164001Z",
     "iopub.status.idle": "2022-11-10T04:25:46.208012Z",
     "shell.execute_reply": "2022-11-10T04:25:46.206731Z"
    },
    "papermill": {
     "duration": 0.170774,
     "end_time": "2022-11-10T04:25:46.210852",
     "exception": false,
     "start_time": "2022-11-10T04:25:46.040078",
     "status": "completed"
    },
    "tags": []
   },
   "outputs": [
    {
     "name": "stdout",
     "output_type": "stream",
     "text": [
      "Accuracy: 96.42%\n",
      "Recall: 96.42%\n",
      "Precision: 96.43%\n",
      "F1-Score: 96.42%\n",
      "time to train: 22.16 s\n",
      "time to predict: 0.02 s\n",
      "total: 22.18 s\n"
     ]
    }
   ],
   "source": [
    "accuracy = accuracy_score(y_test, y_predictions)\n",
    "recall = recall_score(y_test, y_predictions, average='weighted')\n",
    "precision = precision_score(y_test, y_predictions, average='weighted')\n",
    "f1s = f1_score(y_test, y_predictions, average='weighted')\n",
    "\n",
    "print(\"Accuracy: \"+ \"{:.2%}\".format(accuracy))\n",
    "print(\"Recall: \"+ \"{:.2%}\".format(recall))\n",
    "print(\"Precision: \"+ \"{:.2%}\".format(precision))\n",
    "print(\"F1-Score: \"+ \"{:.2%}\".format(f1s))\n",
    "print(\"time to train: \"+ \"{:.2f}\".format(end_train-start)+\" s\")\n",
    "print(\"time to predict: \"+\"{:.2f}\".format(end_predict-end_train)+\" s\")\n",
    "print(\"total: \"+\"{:.2f}\".format(end_predict-start)+\" s\")\n",
    "model_performance.loc['MLP'] = [accuracy, recall, precision, f1s,end_train-start,end_predict-end_train,end_predict-start]"
   ]
  },
  {
   "cell_type": "code",
   "execution_count": 55,
   "metadata": {
    "execution": {
     "iopub.execute_input": "2022-11-10T04:25:46.455344Z",
     "iopub.status.busy": "2022-11-10T04:25:46.455028Z",
     "iopub.status.idle": "2022-11-10T04:25:46.768628Z",
     "shell.execute_reply": "2022-11-10T04:25:46.767580Z"
    },
    "papermill": {
     "duration": 0.43109,
     "end_time": "2022-11-10T04:25:46.771172",
     "exception": false,
     "start_time": "2022-11-10T04:25:46.340082",
     "status": "completed"
    },
    "tags": []
   },
   "outputs": [
    {
     "data": {
      "image/png": "[encoded data removed]",
      "text/plain": [
       "<Figure size 360x360 with 2 Axes>"
      ]
     },
     "metadata": {
      "image/png": {
       "height": 291,
       "width": 324
      }
     },
     "output_type": "display_data"
    }
   ],
   "source": [
    "plt.rcParams['figure.figsize']=5,5 \n",
    "sns.set_style(\"white\")\n",
    "plot_confusion_matrix(model, X_test, y_test, cmap=plt.cm.Blues)  \n",
    "plt.show()"
   ]
  },
  {
   "cell_type": "code",
   "execution_count": 56,
   "metadata": {
    "execution": {
     "iopub.execute_input": "2022-11-10T04:25:46.994010Z",
     "iopub.status.busy": "2022-11-10T04:25:46.993642Z",
     "iopub.status.idle": "2022-11-10T04:25:47.329362Z",
     "shell.execute_reply": "2022-11-10T04:25:47.328420Z"
    },
    "papermill": {
     "duration": 0.450292,
     "end_time": "2022-11-10T04:25:47.331855",
     "exception": false,
     "start_time": "2022-11-10T04:25:46.881563",
     "status": "completed"
    },
    "tags": []
   },
   "outputs": [
    {
     "data": {
      "text/html": [
       "<style  type=\"text/css\" >\n",
       "#T_c9dcacd0_9c5a_11ed_9e50_0538493ce578row0_col0,#T_c9dcacd0_9c5a_11ed_9e50_0538493ce578row0_col1,#T_c9dcacd0_9c5a_11ed_9e50_0538493ce578row0_col2,#T_c9dcacd0_9c5a_11ed_9e50_0538493ce578row0_col3,#T_c9dcacd0_9c5a_11ed_9e50_0538493ce578row0_col5,#T_c9dcacd0_9c5a_11ed_9e50_0538493ce578row1_col4,#T_c9dcacd0_9c5a_11ed_9e50_0538493ce578row2_col5,#T_c9dcacd0_9c5a_11ed_9e50_0538493ce578row2_col6,#T_c9dcacd0_9c5a_11ed_9e50_0538493ce578row5_col5,#T_c9dcacd0_9c5a_11ed_9e50_0538493ce578row6_col5{\n",
       "            background-color:  #3b4cc0;\n",
       "            color:  #f1f1f1;\n",
       "        }#T_c9dcacd0_9c5a_11ed_9e50_0538493ce578row0_col4{\n",
       "            background-color:  #485fd1;\n",
       "            color:  #f1f1f1;\n",
       "        }#T_c9dcacd0_9c5a_11ed_9e50_0538493ce578row0_col6{\n",
       "            background-color:  #3d50c3;\n",
       "            color:  #f1f1f1;\n",
       "        }#T_c9dcacd0_9c5a_11ed_9e50_0538493ce578row1_col0,#T_c9dcacd0_9c5a_11ed_9e50_0538493ce578row1_col1,#T_c9dcacd0_9c5a_11ed_9e50_0538493ce578row1_col3{\n",
       "            background-color:  #d2dbe8;\n",
       "            color:  #000000;\n",
       "        }#T_c9dcacd0_9c5a_11ed_9e50_0538493ce578row1_col2{\n",
       "            background-color:  #d4dbe6;\n",
       "            color:  #000000;\n",
       "        }#T_c9dcacd0_9c5a_11ed_9e50_0538493ce578row1_col5,#T_c9dcacd0_9c5a_11ed_9e50_0538493ce578row4_col0,#T_c9dcacd0_9c5a_11ed_9e50_0538493ce578row4_col1,#T_c9dcacd0_9c5a_11ed_9e50_0538493ce578row4_col2,#T_c9dcacd0_9c5a_11ed_9e50_0538493ce578row4_col3,#T_c9dcacd0_9c5a_11ed_9e50_0538493ce578row5_col4,#T_c9dcacd0_9c5a_11ed_9e50_0538493ce578row5_col6{\n",
       "            background-color:  #b40426;\n",
       "            color:  #f1f1f1;\n",
       "        }#T_c9dcacd0_9c5a_11ed_9e50_0538493ce578row1_col6{\n",
       "            background-color:  #ebd3c6;\n",
       "            color:  #000000;\n",
       "        }#T_c9dcacd0_9c5a_11ed_9e50_0538493ce578row2_col0,#T_c9dcacd0_9c5a_11ed_9e50_0538493ce578row2_col1,#T_c9dcacd0_9c5a_11ed_9e50_0538493ce578row2_col3{\n",
       "            background-color:  #f39475;\n",
       "            color:  #000000;\n",
       "        }#T_c9dcacd0_9c5a_11ed_9e50_0538493ce578row2_col2{\n",
       "            background-color:  #f39577;\n",
       "            color:  #000000;\n",
       "        }#T_c9dcacd0_9c5a_11ed_9e50_0538493ce578row2_col4,#T_c9dcacd0_9c5a_11ed_9e50_0538493ce578row3_col6{\n",
       "            background-color:  #455cce;\n",
       "            color:  #f1f1f1;\n",
       "        }#T_c9dcacd0_9c5a_11ed_9e50_0538493ce578row3_col0,#T_c9dcacd0_9c5a_11ed_9e50_0538493ce578row3_col1,#T_c9dcacd0_9c5a_11ed_9e50_0538493ce578row3_col2,#T_c9dcacd0_9c5a_11ed_9e50_0538493ce578row3_col3{\n",
       "            background-color:  #be242e;\n",
       "            color:  #f1f1f1;\n",
       "        }#T_c9dcacd0_9c5a_11ed_9e50_0538493ce578row3_col4{\n",
       "            background-color:  #506bda;\n",
       "            color:  #000000;\n",
       "        }#T_c9dcacd0_9c5a_11ed_9e50_0538493ce578row3_col5,#T_c9dcacd0_9c5a_11ed_9e50_0538493ce578row4_col5{\n",
       "            background-color:  #3c4ec2;\n",
       "            color:  #f1f1f1;\n",
       "        }#T_c9dcacd0_9c5a_11ed_9e50_0538493ce578row4_col4{\n",
       "            background-color:  #5875e1;\n",
       "            color:  #000000;\n",
       "        }#T_c9dcacd0_9c5a_11ed_9e50_0538493ce578row4_col6{\n",
       "            background-color:  #4e68d8;\n",
       "            color:  #000000;\n",
       "        }#T_c9dcacd0_9c5a_11ed_9e50_0538493ce578row5_col0,#T_c9dcacd0_9c5a_11ed_9e50_0538493ce578row5_col1,#T_c9dcacd0_9c5a_11ed_9e50_0538493ce578row5_col3{\n",
       "            background-color:  #f5c4ac;\n",
       "            color:  #000000;\n",
       "        }#T_c9dcacd0_9c5a_11ed_9e50_0538493ce578row5_col2,#T_c9dcacd0_9c5a_11ed_9e50_0538493ce578row6_col4{\n",
       "            background-color:  #f4c5ad;\n",
       "            color:  #000000;\n",
       "        }#T_c9dcacd0_9c5a_11ed_9e50_0538493ce578row6_col0,#T_c9dcacd0_9c5a_11ed_9e50_0538493ce578row6_col1,#T_c9dcacd0_9c5a_11ed_9e50_0538493ce578row6_col3{\n",
       "            background-color:  #f59c7d;\n",
       "            color:  #000000;\n",
       "        }#T_c9dcacd0_9c5a_11ed_9e50_0538493ce578row6_col2{\n",
       "            background-color:  #f59d7e;\n",
       "            color:  #000000;\n",
       "        }#T_c9dcacd0_9c5a_11ed_9e50_0538493ce578row6_col6{\n",
       "            background-color:  #f3c8b2;\n",
       "            color:  #000000;\n",
       "        }</style><table id=\"T_c9dcacd0_9c5a_11ed_9e50_0538493ce578\" ><thead>    <tr>        <th class=\"blank level0\" ></th>        <th class=\"col_heading level0 col0\" >Accuracy</th>        <th class=\"col_heading level0 col1\" >Recall</th>        <th class=\"col_heading level0 col2\" >Precision</th>        <th class=\"col_heading level0 col3\" >F1-Score</th>        <th class=\"col_heading level0 col4\" >time to train</th>        <th class=\"col_heading level0 col5\" >time to predict</th>        <th class=\"col_heading level0 col6\" >total time</th>    </tr></thead><tbody>\n",
       "                <tr>\n",
       "                        <th id=\"T_c9dcacd0_9c5a_11ed_9e50_0538493ce578level0_row0\" class=\"row_heading level0 row0\" >Logistic</th>\n",
       "                        <td id=\"T_c9dcacd0_9c5a_11ed_9e50_0538493ce578row0_col0\" class=\"data row0 col0\" >92.80%</td>\n",
       "                        <td id=\"T_c9dcacd0_9c5a_11ed_9e50_0538493ce578row0_col1\" class=\"data row0 col1\" >92.80%</td>\n",
       "                        <td id=\"T_c9dcacd0_9c5a_11ed_9e50_0538493ce578row0_col2\" class=\"data row0 col2\" >92.83%</td>\n",
       "                        <td id=\"T_c9dcacd0_9c5a_11ed_9e50_0538493ce578row0_col3\" class=\"data row0 col3\" >92.80%</td>\n",
       "                        <td id=\"T_c9dcacd0_9c5a_11ed_9e50_0538493ce578row0_col4\" class=\"data row0 col4\" >1.7</td>\n",
       "                        <td id=\"T_c9dcacd0_9c5a_11ed_9e50_0538493ce578row0_col5\" class=\"data row0 col5\" >0.0</td>\n",
       "                        <td id=\"T_c9dcacd0_9c5a_11ed_9e50_0538493ce578row0_col6\" class=\"data row0 col6\" >1.7</td>\n",
       "            </tr>\n",
       "            <tr>\n",
       "                        <th id=\"T_c9dcacd0_9c5a_11ed_9e50_0538493ce578level0_row1\" class=\"row_heading level0 row1\" >kNN</th>\n",
       "                        <td id=\"T_c9dcacd0_9c5a_11ed_9e50_0538493ce578row1_col0\" class=\"data row1 col0\" >95.04%</td>\n",
       "                        <td id=\"T_c9dcacd0_9c5a_11ed_9e50_0538493ce578row1_col1\" class=\"data row1 col1\" >95.04%</td>\n",
       "                        <td id=\"T_c9dcacd0_9c5a_11ed_9e50_0538493ce578row1_col2\" class=\"data row1 col2\" >95.09%</td>\n",
       "                        <td id=\"T_c9dcacd0_9c5a_11ed_9e50_0538493ce578row1_col3\" class=\"data row1 col3\" >95.05%</td>\n",
       "                        <td id=\"T_c9dcacd0_9c5a_11ed_9e50_0538493ce578row1_col4\" class=\"data row1 col4\" >0.0</td>\n",
       "                        <td id=\"T_c9dcacd0_9c5a_11ed_9e50_0538493ce578row1_col5\" class=\"data row1 col5\" >20.5</td>\n",
       "                        <td id=\"T_c9dcacd0_9c5a_11ed_9e50_0538493ce578row1_col6\" class=\"data row1 col6\" >20.5</td>\n",
       "            </tr>\n",
       "            <tr>\n",
       "                        <th id=\"T_c9dcacd0_9c5a_11ed_9e50_0538493ce578level0_row2\" class=\"row_heading level0 row2\" >Decision Tree</th>\n",
       "                        <td id=\"T_c9dcacd0_9c5a_11ed_9e50_0538493ce578row2_col0\" class=\"data row2 col0\" >96.53%</td>\n",
       "                        <td id=\"T_c9dcacd0_9c5a_11ed_9e50_0538493ce578row2_col1\" class=\"data row2 col1\" >96.53%</td>\n",
       "                        <td id=\"T_c9dcacd0_9c5a_11ed_9e50_0538493ce578row2_col2\" class=\"data row2 col2\" >96.53%</td>\n",
       "                        <td id=\"T_c9dcacd0_9c5a_11ed_9e50_0538493ce578row2_col3\" class=\"data row2 col3\" >96.53%</td>\n",
       "                        <td id=\"T_c9dcacd0_9c5a_11ed_9e50_0538493ce578row2_col4\" class=\"data row2 col4\" >1.3</td>\n",
       "                        <td id=\"T_c9dcacd0_9c5a_11ed_9e50_0538493ce578row2_col5\" class=\"data row2 col5\" >0.0</td>\n",
       "                        <td id=\"T_c9dcacd0_9c5a_11ed_9e50_0538493ce578row2_col6\" class=\"data row2 col6\" >1.3</td>\n",
       "            </tr>\n",
       "            <tr>\n",
       "                        <th id=\"T_c9dcacd0_9c5a_11ed_9e50_0538493ce578level0_row3\" class=\"row_heading level0 row3\" >Extra Trees</th>\n",
       "                        <td id=\"T_c9dcacd0_9c5a_11ed_9e50_0538493ce578row3_col0\" class=\"data row3 col0\" >97.53%</td>\n",
       "                        <td id=\"T_c9dcacd0_9c5a_11ed_9e50_0538493ce578row3_col1\" class=\"data row3 col1\" >97.53%</td>\n",
       "                        <td id=\"T_c9dcacd0_9c5a_11ed_9e50_0538493ce578row3_col2\" class=\"data row3 col2\" >97.55%</td>\n",
       "                        <td id=\"T_c9dcacd0_9c5a_11ed_9e50_0538493ce578row3_col3\" class=\"data row3 col3\" >97.53%</td>\n",
       "                        <td id=\"T_c9dcacd0_9c5a_11ed_9e50_0538493ce578row3_col4\" class=\"data row3 col4\" >2.5</td>\n",
       "                        <td id=\"T_c9dcacd0_9c5a_11ed_9e50_0538493ce578row3_col5\" class=\"data row3 col5\" >0.1</td>\n",
       "                        <td id=\"T_c9dcacd0_9c5a_11ed_9e50_0538493ce578row3_col6\" class=\"data row3 col6\" >2.6</td>\n",
       "            </tr>\n",
       "            <tr>\n",
       "                        <th id=\"T_c9dcacd0_9c5a_11ed_9e50_0538493ce578level0_row4\" class=\"row_heading level0 row4\" >Random Forest</th>\n",
       "                        <td id=\"T_c9dcacd0_9c5a_11ed_9e50_0538493ce578row4_col0\" class=\"data row4 col0\" >97.68%</td>\n",
       "                        <td id=\"T_c9dcacd0_9c5a_11ed_9e50_0538493ce578row4_col1\" class=\"data row4 col1\" >97.68%</td>\n",
       "                        <td id=\"T_c9dcacd0_9c5a_11ed_9e50_0538493ce578row4_col2\" class=\"data row4 col2\" >97.69%</td>\n",
       "                        <td id=\"T_c9dcacd0_9c5a_11ed_9e50_0538493ce578row4_col3\" class=\"data row4 col3\" >97.68%</td>\n",
       "                        <td id=\"T_c9dcacd0_9c5a_11ed_9e50_0538493ce578row4_col4\" class=\"data row4 col4\" >3.4</td>\n",
       "                        <td id=\"T_c9dcacd0_9c5a_11ed_9e50_0538493ce578row4_col5\" class=\"data row4 col5\" >0.1</td>\n",
       "                        <td id=\"T_c9dcacd0_9c5a_11ed_9e50_0538493ce578row4_col6\" class=\"data row4 col6\" >3.5</td>\n",
       "            </tr>\n",
       "            <tr>\n",
       "                        <th id=\"T_c9dcacd0_9c5a_11ed_9e50_0538493ce578level0_row5\" class=\"row_heading level0 row5\" >Gradient Boosting Classifier</th>\n",
       "                        <td id=\"T_c9dcacd0_9c5a_11ed_9e50_0538493ce578row5_col0\" class=\"data row5 col0\" >95.85%</td>\n",
       "                        <td id=\"T_c9dcacd0_9c5a_11ed_9e50_0538493ce578row5_col1\" class=\"data row5 col1\" >95.85%</td>\n",
       "                        <td id=\"T_c9dcacd0_9c5a_11ed_9e50_0538493ce578row5_col2\" class=\"data row5 col2\" >95.86%</td>\n",
       "                        <td id=\"T_c9dcacd0_9c5a_11ed_9e50_0538493ce578row5_col3\" class=\"data row5 col3\" >95.85%</td>\n",
       "                        <td id=\"T_c9dcacd0_9c5a_11ed_9e50_0538493ce578row5_col4\" class=\"data row5 col4\" >35.5</td>\n",
       "                        <td id=\"T_c9dcacd0_9c5a_11ed_9e50_0538493ce578row5_col5\" class=\"data row5 col5\" >0.0</td>\n",
       "                        <td id=\"T_c9dcacd0_9c5a_11ed_9e50_0538493ce578row5_col6\" class=\"data row5 col6\" >35.5</td>\n",
       "            </tr>\n",
       "            <tr>\n",
       "                        <th id=\"T_c9dcacd0_9c5a_11ed_9e50_0538493ce578level0_row6\" class=\"row_heading level0 row6\" >MLP</th>\n",
       "                        <td id=\"T_c9dcacd0_9c5a_11ed_9e50_0538493ce578row6_col0\" class=\"data row6 col0\" >96.42%</td>\n",
       "                        <td id=\"T_c9dcacd0_9c5a_11ed_9e50_0538493ce578row6_col1\" class=\"data row6 col1\" >96.42%</td>\n",
       "                        <td id=\"T_c9dcacd0_9c5a_11ed_9e50_0538493ce578row6_col2\" class=\"data row6 col2\" >96.43%</td>\n",
       "                        <td id=\"T_c9dcacd0_9c5a_11ed_9e50_0538493ce578row6_col3\" class=\"data row6 col3\" >96.42%</td>\n",
       "                        <td id=\"T_c9dcacd0_9c5a_11ed_9e50_0538493ce578row6_col4\" class=\"data row6 col4\" >22.2</td>\n",
       "                        <td id=\"T_c9dcacd0_9c5a_11ed_9e50_0538493ce578row6_col5\" class=\"data row6 col5\" >0.0</td>\n",
       "                        <td id=\"T_c9dcacd0_9c5a_11ed_9e50_0538493ce578row6_col6\" class=\"data row6 col6\" >22.2</td>\n",
       "            </tr>\n",
       "    </tbody></table>"
      ],
      "text/plain": [
       "<pandas.io.formats.style.Styler at 0x7f627d985dd8>"
      ]
     },
     "execution_count": 56,
     "metadata": {},
     "output_type": "execute_result"
    }
   ],
   "source": [
    "model_performance.style.background_gradient(cmap='coolwarm').format({'Accuracy': '{:.2%}',\n",
    "                                                                     'Precision': '{:.2%}',\n",
    "                                                                     'Recall': '{:.2%}',\n",
    "                                                                     'F1-Score': '{:.2%}',\n",
    "                                                                     'time to train':'{:.1f}',\n",
    "                                                                     'time to predict':'{:.1f}',\n",
    "                                                                     'total time':'{:.1f}',\n",
    "                                                                     })"
   ]
  }
 ],
 "metadata": {
  "kernelspec": {
   "display_name": "exp1",
   "language": "python",
   "name": "exp1"
  },
  "language_info": {
   "codemirror_mode": {
    "name": "ipython",
    "version": 3
   },
   "file_extension": ".py",
   "mimetype": "text/x-python",
   "name": "python",
   "nbconvert_exporter": "python",
   "pygments_lexer": "ipython3",
   "version": "3.6.13"
  },
  "papermill": {
   "default_parameters": {},
   "duration": 432.464639,
   "end_time": "2022-11-10T04:29:59.438036",
   "environment_variables": {},
   "exception": null,
   "input_path": "__notebook__.ipynb",
   "output_path": "__notebook__.ipynb",
   "parameters": {},
   "start_time": "2022-11-10T04:22:46.973397",
   "version": "2.3.4"
  }
 },
 "nbformat": 4,
 "nbformat_minor": 5
}
