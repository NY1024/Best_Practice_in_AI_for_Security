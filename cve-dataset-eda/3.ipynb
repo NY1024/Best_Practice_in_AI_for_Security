{
 "cells": [
  {
   "cell_type": "code",
   "execution_count": 18,
   "metadata": {
    "_cell_guid": "b1076dfc-b9ad-4769-8c92-a6c4dae69d19",
    "_kg_hide-input": true,
    "_kg_hide-output": true,
    "_uuid": "8f2839f25d086af736a60e9eeb907d3b93b6e0e5",
    "execution": {
     "iopub.execute_input": "2022-01-24T20:31:16.418471Z",
     "iopub.status.busy": "2022-01-24T20:31:16.417338Z",
     "iopub.status.idle": "2022-01-24T20:32:00.463406Z",
     "shell.execute_reply": "2022-01-24T20:32:00.463905Z",
     "shell.execute_reply.started": "2022-01-24T18:51:02.182548Z"
    },
    "papermill": {
     "duration": 44.068304,
     "end_time": "2022-01-24T20:32:00.464189",
     "exception": false,
     "start_time": "2022-01-24T20:31:16.395885",
     "status": "completed"
    },
    "tags": []
   },
   "outputs": [
    {
     "data": {
      "text/html": [
       "        <script type=\"text/javascript\">\n",
       "        window.PlotlyConfig = {MathJaxConfig: 'local'};\n",
       "        if (window.MathJax && window.MathJax.Hub && window.MathJax.Hub.Config) {window.MathJax.Hub.Config({SVG: {font: \"STIX-Web\"}});}\n",
       "        if (typeof require !== 'undefined') {\n",
       "        require.undef(\"plotly\");\n",
       "        requirejs.config({\n",
       "            paths: {\n",
       "                'plotly': ['https://cdn.plot.ly/plotly-2.16.1.min']\n",
       "            }\n",
       "        });\n",
       "        require(['plotly'], function(Plotly) {\n",
       "            window._Plotly = Plotly;\n",
       "        });\n",
       "        }\n",
       "        </script>\n",
       "        "
      ]
     },
     "metadata": {},
     "output_type": "display_data"
    }
   ],
   "source": [
    "import numpy as np \n",
    "import pandas as pd \n",
    "\n",
    "from plotly.offline import init_notebook_mode,iplot\n",
    "init_notebook_mode(connected=True)"
   ]
  },
  {
   "cell_type": "code",
   "execution_count": 19,
   "metadata": {
    "_kg_hide-input": true,
    "execution": {
     "iopub.execute_input": "2022-01-24T20:32:00.561575Z",
     "iopub.status.busy": "2022-01-24T20:32:00.560899Z",
     "iopub.status.idle": "2022-01-24T20:32:22.574617Z",
     "shell.execute_reply": "2022-01-24T20:32:22.573580Z",
     "shell.execute_reply.started": "2022-01-24T18:51:20.543684Z"
    },
    "papermill": {
     "duration": 22.063581,
     "end_time": "2022-01-24T20:32:22.574772",
     "exception": false,
     "start_time": "2022-01-24T20:32:00.511191",
     "status": "completed"
    },
    "tags": []
   },
   "outputs": [],
   "source": [
    "data=pd.read_excel(\"Global_Dataset.xlsx\",engine='openpyxl' )"
   ]
  },
  {
   "cell_type": "code",
   "execution_count": 20,
   "metadata": {
    "_kg_hide-input": true,
    "execution": {
     "iopub.execute_input": "2022-01-24T20:32:23.223724Z",
     "iopub.status.busy": "2022-01-24T20:32:23.223034Z",
     "iopub.status.idle": "2022-01-24T20:32:24.295518Z",
     "shell.execute_reply": "2022-01-24T20:32:24.296142Z",
     "shell.execute_reply.started": "2022-01-24T18:51:52.696769Z"
    },
    "papermill": {
     "duration": 1.122133,
     "end_time": "2022-01-24T20:32:24.296403",
     "exception": false,
     "start_time": "2022-01-24T20:32:23.174270",
     "status": "completed"
    },
    "tags": []
   },
   "outputs": [
    {
     "name": "stdout",
     "output_type": "stream",
     "text": [
      "<class 'pandas.core.frame.DataFrame'>\n",
      "RangeIndex: 169566 entries, 0 to 169565\n",
      "Data columns (total 8 columns):\n",
      " #   Column       Non-Null Count   Dtype \n",
      "---  ------       --------------   ----- \n",
      " 0   ID           169566 non-null  int64 \n",
      " 1   CVE-ID       169566 non-null  object\n",
      " 2   Year         169566 non-null  object\n",
      " 3   CVSS-V3      169566 non-null  object\n",
      " 4   CVSS-V2      169566 non-null  object\n",
      " 5   SEVERITY     169566 non-null  object\n",
      " 6   DESCRIPTION  169566 non-null  object\n",
      " 7   CWE-ID       169566 non-null  object\n",
      "dtypes: int64(1), object(7)\n",
      "memory usage: 10.3+ MB\n"
     ]
    }
   ],
   "source": [
    "year_list=[]\n",
    "for i in range(0,len(data[\"CVE-ID\"])):\n",
    "    a=data[\"CVE-ID\"][i].split(\"-\")[1]\n",
    "    year_list.append(a)\n",
    "\n",
    "data.insert(loc=2, column='Year', value=year_list)\n",
    "data.info()"
   ]
  },
  {
   "cell_type": "code",
   "execution_count": 21,
   "metadata": {
    "_kg_hide-input": true,
    "execution": {
     "iopub.execute_input": "2022-01-24T20:32:24.493071Z",
     "iopub.status.busy": "2022-01-24T20:32:24.492152Z",
     "iopub.status.idle": "2022-01-24T20:32:24.612724Z",
     "shell.execute_reply": "2022-01-24T20:32:24.613189Z",
     "shell.execute_reply.started": "2022-01-24T18:51:54.242661Z"
    },
    "papermill": {
     "duration": 0.173825,
     "end_time": "2022-01-24T20:32:24.613407",
     "exception": false,
     "start_time": "2022-01-24T20:32:24.439582",
     "status": "completed"
    },
    "tags": []
   },
   "outputs": [
    {
     "data": {
      "application/vnd.plotly.v1+json": {
       "config": {
        "plotlyServerURL": "https://plot.ly"
       },
       "data": [
        {
         "cells": {
          "align": "left",
          "fill": {
           "color": "mistyrose"
          },
          "line": {
           "color": "darkslategray"
          },
          "values": [
           [
            1,
            2,
            3,
            4,
            5,
            6,
            7,
            8,
            9,
            10
           ],
           [
            "CVE-1999-0001",
            "CVE-1999-0002",
            "CVE-1999-0003",
            "CVE-1999-0004",
            "CVE-1999-0005",
            "CVE-1999-0006",
            "CVE-1999-0007",
            "CVE-1999-0008",
            "CVE-1999-0009",
            "CVE-1999-0010"
           ],
           [
            "1999",
            "1999",
            "1999",
            "1999",
            "1999",
            "1999",
            "1999",
            "1999",
            "1999",
            "1999"
           ],
           [
            "None",
            "None",
            "None",
            "None",
            "None",
            "None",
            "None",
            "None",
            "None",
            "None"
           ],
           [
            5,
            10,
            10,
            5,
            10,
            10,
            5,
            10,
            10,
            5
           ],
           [
            "MEDIUM",
            "HIGH",
            "HIGH",
            "MEDIUM",
            "HIGH",
            "HIGH",
            "MEDIUM",
            "HIGH",
            "HIGH",
            "MEDIUM"
           ],
           [
            "ip_input.c in BSD-derived TCP/IP implementations allows remote attackers to cause a denial of service (crash or hang) via crafted packets.",
            "Buffer overflow in NFS mountd gives root access to remote attackers, mostly in Linux systems.",
            "Execute commands as root via buffer overflow in Tooltalk database server (rpc.ttdbserverd).",
            "MIME buffer overflow in email clients, e.g. Solaris mailtool and Outlook.",
            "Arbitrary command execution via IMAP buffer overflow in authenticate command.",
            "Buffer overflow in POP servers based on BSD/Qualcomm's qpopper allows remote attackers to gain root access using a long PASS command.",
            "Information from SSL-encrypted sessions via PKCS #1.",
            "Buffer overflow in NIS+, in Sun's rpc.nisd program.",
            "Inverse query buffer overflow in BIND 4.9 and BIND 8 Releases.",
            "Denial of Service vulnerability in BIND 8 Releases via maliciously formatted DNS messages."
           ],
           [
            "CWE-20",
            "CWE-119",
            "NVD-CWE-Other",
            "NVD-CWE-Other",
            "NVD-CWE-Other",
            "NVD-CWE-Other",
            "CWE-327",
            "NVD-CWE-Other",
            "NVD-CWE-Other",
            "NVD-CWE-Other"
           ]
          ]
         },
         "header": {
          "align": "left",
          "fill": {
           "color": "indianred"
          },
          "line": {
           "color": "darkslategray"
          },
          "values": [
           "ID",
           "CVE-ID",
           "Year",
           "CVSS-V3",
           "CVSS-V2",
           "SEVERITY",
           "DESCRIPTION",
           "CWE-ID"
          ]
         },
         "type": "table"
        }
       ],
       "layout": {
        "height": 1000,
        "template": {
         "data": {
          "bar": [
           {
            "error_x": {
             "color": "#2a3f5f"
            },
            "error_y": {
             "color": "#2a3f5f"
            },
            "marker": {
             "line": {
              "color": "#E5ECF6",
              "width": 0.5
             },
             "pattern": {
              "fillmode": "overlay",
              "size": 10,
              "solidity": 0.2
             }
            },
            "type": "bar"
           }
          ],
          "barpolar": [
           {
            "marker": {
             "line": {
              "color": "#E5ECF6",
              "width": 0.5
             },
             "pattern": {
              "fillmode": "overlay",
              "size": 10,
              "solidity": 0.2
             }
            },
            "type": "barpolar"
           }
          ],
          "carpet": [
           {
            "aaxis": {
             "endlinecolor": "#2a3f5f",
             "gridcolor": "white",
             "linecolor": "white",
             "minorgridcolor": "white",
             "startlinecolor": "#2a3f5f"
            },
            "baxis": {
             "endlinecolor": "#2a3f5f",
             "gridcolor": "white",
             "linecolor": "white",
             "minorgridcolor": "white",
             "startlinecolor": "#2a3f5f"
            },
            "type": "carpet"
           }
          ],
          "choropleth": [
           {
            "colorbar": {
             "outlinewidth": 0,
             "ticks": ""
            },
            "type": "choropleth"
           }
          ],
          "contour": [
           {
            "colorbar": {
             "outlinewidth": 0,
             "ticks": ""
            },
            "colorscale": [
             [
              0,
              "#0d0887"
             ],
             [
              0.1111111111111111,
              "#46039f"
             ],
             [
              0.2222222222222222,
              "#7201a8"
             ],
             [
              0.3333333333333333,
              "#9c179e"
             ],
             [
              0.4444444444444444,
              "#bd3786"
             ],
             [
              0.5555555555555556,
              "#d8576b"
             ],
             [
              0.6666666666666666,
              "#ed7953"
             ],
             [
              0.7777777777777778,
              "#fb9f3a"
             ],
             [
              0.8888888888888888,
              "#fdca26"
             ],
             [
              1,
              "#f0f921"
             ]
            ],
            "type": "contour"
           }
          ],
          "contourcarpet": [
           {
            "colorbar": {
             "outlinewidth": 0,
             "ticks": ""
            },
            "type": "contourcarpet"
           }
          ],
          "heatmap": [
           {
            "colorbar": {
             "outlinewidth": 0,
             "ticks": ""
            },
            "colorscale": [
             [
              0,
              "#0d0887"
             ],
             [
              0.1111111111111111,
              "#46039f"
             ],
             [
              0.2222222222222222,
              "#7201a8"
             ],
             [
              0.3333333333333333,
              "#9c179e"
             ],
             [
              0.4444444444444444,
              "#bd3786"
             ],
             [
              0.5555555555555556,
              "#d8576b"
             ],
             [
              0.6666666666666666,
              "#ed7953"
             ],
             [
              0.7777777777777778,
              "#fb9f3a"
             ],
             [
              0.8888888888888888,
              "#fdca26"
             ],
             [
              1,
              "#f0f921"
             ]
            ],
            "type": "heatmap"
           }
          ],
          "heatmapgl": [
           {
            "colorbar": {
             "outlinewidth": 0,
             "ticks": ""
            },
            "colorscale": [
             [
              0,
              "#0d0887"
             ],
             [
              0.1111111111111111,
              "#46039f"
             ],
             [
              0.2222222222222222,
              "#7201a8"
             ],
             [
              0.3333333333333333,
              "#9c179e"
             ],
             [
              0.4444444444444444,
              "#bd3786"
             ],
             [
              0.5555555555555556,
              "#d8576b"
             ],
             [
              0.6666666666666666,
              "#ed7953"
             ],
             [
              0.7777777777777778,
              "#fb9f3a"
             ],
             [
              0.8888888888888888,
              "#fdca26"
             ],
             [
              1,
              "#f0f921"
             ]
            ],
            "type": "heatmapgl"
           }
          ],
          "histogram": [
           {
            "marker": {
             "pattern": {
              "fillmode": "overlay",
              "size": 10,
              "solidity": 0.2
             }
            },
            "type": "histogram"
           }
          ],
          "histogram2d": [
           {
            "colorbar": {
             "outlinewidth": 0,
             "ticks": ""
            },
            "colorscale": [
             [
              0,
              "#0d0887"
             ],
             [
              0.1111111111111111,
              "#46039f"
             ],
             [
              0.2222222222222222,
              "#7201a8"
             ],
             [
              0.3333333333333333,
              "#9c179e"
             ],
             [
              0.4444444444444444,
              "#bd3786"
             ],
             [
              0.5555555555555556,
              "#d8576b"
             ],
             [
              0.6666666666666666,
              "#ed7953"
             ],
             [
              0.7777777777777778,
              "#fb9f3a"
             ],
             [
              0.8888888888888888,
              "#fdca26"
             ],
             [
              1,
              "#f0f921"
             ]
            ],
            "type": "histogram2d"
           }
          ],
          "histogram2dcontour": [
           {
            "colorbar": {
             "outlinewidth": 0,
             "ticks": ""
            },
            "colorscale": [
             [
              0,
              "#0d0887"
             ],
             [
              0.1111111111111111,
              "#46039f"
             ],
             [
              0.2222222222222222,
              "#7201a8"
             ],
             [
              0.3333333333333333,
              "#9c179e"
             ],
             [
              0.4444444444444444,
              "#bd3786"
             ],
             [
              0.5555555555555556,
              "#d8576b"
             ],
             [
              0.6666666666666666,
              "#ed7953"
             ],
             [
              0.7777777777777778,
              "#fb9f3a"
             ],
             [
              0.8888888888888888,
              "#fdca26"
             ],
             [
              1,
              "#f0f921"
             ]
            ],
            "type": "histogram2dcontour"
           }
          ],
          "mesh3d": [
           {
            "colorbar": {
             "outlinewidth": 0,
             "ticks": ""
            },
            "type": "mesh3d"
           }
          ],
          "parcoords": [
           {
            "line": {
             "colorbar": {
              "outlinewidth": 0,
              "ticks": ""
             }
            },
            "type": "parcoords"
           }
          ],
          "pie": [
           {
            "automargin": true,
            "type": "pie"
           }
          ],
          "scatter": [
           {
            "fillpattern": {
             "fillmode": "overlay",
             "size": 10,
             "solidity": 0.2
            },
            "type": "scatter"
           }
          ],
          "scatter3d": [
           {
            "line": {
             "colorbar": {
              "outlinewidth": 0,
              "ticks": ""
             }
            },
            "marker": {
             "colorbar": {
              "outlinewidth": 0,
              "ticks": ""
             }
            },
            "type": "scatter3d"
           }
          ],
          "scattercarpet": [
           {
            "marker": {
             "colorbar": {
              "outlinewidth": 0,
              "ticks": ""
             }
            },
            "type": "scattercarpet"
           }
          ],
          "scattergeo": [
           {
            "marker": {
             "colorbar": {
              "outlinewidth": 0,
              "ticks": ""
             }
            },
            "type": "scattergeo"
           }
          ],
          "scattergl": [
           {
            "marker": {
             "colorbar": {
              "outlinewidth": 0,
              "ticks": ""
             }
            },
            "type": "scattergl"
           }
          ],
          "scattermapbox": [
           {
            "marker": {
             "colorbar": {
              "outlinewidth": 0,
              "ticks": ""
             }
            },
            "type": "scattermapbox"
           }
          ],
          "scatterpolar": [
           {
            "marker": {
             "colorbar": {
              "outlinewidth": 0,
              "ticks": ""
             }
            },
            "type": "scatterpolar"
           }
          ],
          "scatterpolargl": [
           {
            "marker": {
             "colorbar": {
              "outlinewidth": 0,
              "ticks": ""
             }
            },
            "type": "scatterpolargl"
           }
          ],
          "scatterternary": [
           {
            "marker": {
             "colorbar": {
              "outlinewidth": 0,
              "ticks": ""
             }
            },
            "type": "scatterternary"
           }
          ],
          "surface": [
           {
            "colorbar": {
             "outlinewidth": 0,
             "ticks": ""
            },
            "colorscale": [
             [
              0,
              "#0d0887"
             ],
             [
              0.1111111111111111,
              "#46039f"
             ],
             [
              0.2222222222222222,
              "#7201a8"
             ],
             [
              0.3333333333333333,
              "#9c179e"
             ],
             [
              0.4444444444444444,
              "#bd3786"
             ],
             [
              0.5555555555555556,
              "#d8576b"
             ],
             [
              0.6666666666666666,
              "#ed7953"
             ],
             [
              0.7777777777777778,
              "#fb9f3a"
             ],
             [
              0.8888888888888888,
              "#fdca26"
             ],
             [
              1,
              "#f0f921"
             ]
            ],
            "type": "surface"
           }
          ],
          "table": [
           {
            "cells": {
             "fill": {
              "color": "#EBF0F8"
             },
             "line": {
              "color": "white"
             }
            },
            "header": {
             "fill": {
              "color": "#C8D4E3"
             },
             "line": {
              "color": "white"
             }
            },
            "type": "table"
           }
          ]
         },
         "layout": {
          "annotationdefaults": {
           "arrowcolor": "#2a3f5f",
           "arrowhead": 0,
           "arrowwidth": 1
          },
          "autotypenumbers": "strict",
          "coloraxis": {
           "colorbar": {
            "outlinewidth": 0,
            "ticks": ""
           }
          },
          "colorscale": {
           "diverging": [
            [
             0,
             "#8e0152"
            ],
            [
             0.1,
             "#c51b7d"
            ],
            [
             0.2,
             "#de77ae"
            ],
            [
             0.3,
             "#f1b6da"
            ],
            [
             0.4,
             "#fde0ef"
            ],
            [
             0.5,
             "#f7f7f7"
            ],
            [
             0.6,
             "#e6f5d0"
            ],
            [
             0.7,
             "#b8e186"
            ],
            [
             0.8,
             "#7fbc41"
            ],
            [
             0.9,
             "#4d9221"
            ],
            [
             1,
             "#276419"
            ]
           ],
           "sequential": [
            [
             0,
             "#0d0887"
            ],
            [
             0.1111111111111111,
             "#46039f"
            ],
            [
             0.2222222222222222,
             "#7201a8"
            ],
            [
             0.3333333333333333,
             "#9c179e"
            ],
            [
             0.4444444444444444,
             "#bd3786"
            ],
            [
             0.5555555555555556,
             "#d8576b"
            ],
            [
             0.6666666666666666,
             "#ed7953"
            ],
            [
             0.7777777777777778,
             "#fb9f3a"
            ],
            [
             0.8888888888888888,
             "#fdca26"
            ],
            [
             1,
             "#f0f921"
            ]
           ],
           "sequentialminus": [
            [
             0,
             "#0d0887"
            ],
            [
             0.1111111111111111,
             "#46039f"
            ],
            [
             0.2222222222222222,
             "#7201a8"
            ],
            [
             0.3333333333333333,
             "#9c179e"
            ],
            [
             0.4444444444444444,
             "#bd3786"
            ],
            [
             0.5555555555555556,
             "#d8576b"
            ],
            [
             0.6666666666666666,
             "#ed7953"
            ],
            [
             0.7777777777777778,
             "#fb9f3a"
            ],
            [
             0.8888888888888888,
             "#fdca26"
            ],
            [
             1,
             "#f0f921"
            ]
           ]
          },
          "colorway": [
           "#636efa",
           "#EF553B",
           "#00cc96",
           "#ab63fa",
           "#FFA15A",
           "#19d3f3",
           "#FF6692",
           "#B6E880",
           "#FF97FF",
           "#FECB52"
          ],
          "font": {
           "color": "#2a3f5f"
          },
          "geo": {
           "bgcolor": "white",
           "lakecolor": "white",
           "landcolor": "#E5ECF6",
           "showlakes": true,
           "showland": true,
           "subunitcolor": "white"
          },
          "hoverlabel": {
           "align": "left"
          },
          "hovermode": "closest",
          "mapbox": {
           "style": "light"
          },
          "paper_bgcolor": "white",
          "plot_bgcolor": "#E5ECF6",
          "polar": {
           "angularaxis": {
            "gridcolor": "white",
            "linecolor": "white",
            "ticks": ""
           },
           "bgcolor": "#E5ECF6",
           "radialaxis": {
            "gridcolor": "white",
            "linecolor": "white",
            "ticks": ""
           }
          },
          "scene": {
           "xaxis": {
            "backgroundcolor": "#E5ECF6",
            "gridcolor": "white",
            "gridwidth": 2,
            "linecolor": "white",
            "showbackground": true,
            "ticks": "",
            "zerolinecolor": "white"
           },
           "yaxis": {
            "backgroundcolor": "#E5ECF6",
            "gridcolor": "white",
            "gridwidth": 2,
            "linecolor": "white",
            "showbackground": true,
            "ticks": "",
            "zerolinecolor": "white"
           },
           "zaxis": {
            "backgroundcolor": "#E5ECF6",
            "gridcolor": "white",
            "gridwidth": 2,
            "linecolor": "white",
            "showbackground": true,
            "ticks": "",
            "zerolinecolor": "white"
           }
          },
          "shapedefaults": {
           "line": {
            "color": "#2a3f5f"
           }
          },
          "ternary": {
           "aaxis": {
            "gridcolor": "white",
            "linecolor": "white",
            "ticks": ""
           },
           "baxis": {
            "gridcolor": "white",
            "linecolor": "white",
            "ticks": ""
           },
           "bgcolor": "#E5ECF6",
           "caxis": {
            "gridcolor": "white",
            "linecolor": "white",
            "ticks": ""
           }
          },
          "title": {
           "x": 0.05
          },
          "xaxis": {
           "automargin": true,
           "gridcolor": "white",
           "linecolor": "white",
           "ticks": "",
           "title": {
            "standoff": 15
           },
           "zerolinecolor": "white",
           "zerolinewidth": 2
          },
          "yaxis": {
           "automargin": true,
           "gridcolor": "white",
           "linecolor": "white",
           "ticks": "",
           "title": {
            "standoff": 15
           },
           "zerolinecolor": "white",
           "zerolinewidth": 2
          }
         }
        },
        "width": 1000
       }
      },
      "text/html": [
       "<div>                            <div id=\"489435a4-01c7-4642-a4ad-c61aebb79870\" class=\"plotly-graph-div\" style=\"height:1000px; width:1000px;\"></div>            <script type=\"text/javascript\">                require([\"plotly\"], function(Plotly) {                    window.PLOTLYENV=window.PLOTLYENV || {};                                    if (document.getElementById(\"489435a4-01c7-4642-a4ad-c61aebb79870\")) {                    Plotly.newPlot(                        \"489435a4-01c7-4642-a4ad-c61aebb79870\",                        [{\"cells\":{\"align\":\"left\",\"fill\":{\"color\":\"mistyrose\"},\"line\":{\"color\":\"darkslategray\"},\"values\":[[1,2,3,4,5,6,7,8,9,10],[\"CVE-1999-0001\",\"CVE-1999-0002\",\"CVE-1999-0003\",\"CVE-1999-0004\",\"CVE-1999-0005\",\"CVE-1999-0006\",\"CVE-1999-0007\",\"CVE-1999-0008\",\"CVE-1999-0009\",\"CVE-1999-0010\"],[\"1999\",\"1999\",\"1999\",\"1999\",\"1999\",\"1999\",\"1999\",\"1999\",\"1999\",\"1999\"],[\"None\",\"None\",\"None\",\"None\",\"None\",\"None\",\"None\",\"None\",\"None\",\"None\"],[5,10,10,5,10,10,5,10,10,5],[\"MEDIUM\",\"HIGH\",\"HIGH\",\"MEDIUM\",\"HIGH\",\"HIGH\",\"MEDIUM\",\"HIGH\",\"HIGH\",\"MEDIUM\"],[\"ip_input.c in BSD-derived TCP/IP implementations allows remote attackers to cause a denial of service (crash or hang) via crafted packets.\",\"Buffer overflow in NFS mountd gives root access to remote attackers, mostly in Linux systems.\",\"Execute commands as root via buffer overflow in Tooltalk database server (rpc.ttdbserverd).\",\"MIME buffer overflow in email clients, e.g. Solaris mailtool and Outlook.\",\"Arbitrary command execution via IMAP buffer overflow in authenticate command.\",\"Buffer overflow in POP servers based on BSD/Qualcomm's qpopper allows remote attackers to gain root access using a long PASS command.\",\"Information from SSL-encrypted sessions via PKCS #1.\",\"Buffer overflow in NIS+, in Sun's rpc.nisd program.\",\"Inverse query buffer overflow in BIND 4.9 and BIND 8 Releases.\",\"Denial of Service vulnerability in BIND 8 Releases via maliciously formatted DNS messages.\"],[\"CWE-20\",\"CWE-119\",\"NVD-CWE-Other\",\"NVD-CWE-Other\",\"NVD-CWE-Other\",\"NVD-CWE-Other\",\"CWE-327\",\"NVD-CWE-Other\",\"NVD-CWE-Other\",\"NVD-CWE-Other\"]]},\"header\":{\"align\":\"left\",\"fill\":{\"color\":\"indianred\"},\"line\":{\"color\":\"darkslategray\"},\"values\":[\"ID\",\"CVE-ID\",\"Year\",\"CVSS-V3\",\"CVSS-V2\",\"SEVERITY\",\"DESCRIPTION\",\"CWE-ID\"]},\"type\":\"table\"}],                        {\"template\":{\"data\":{\"histogram2dcontour\":[{\"type\":\"histogram2dcontour\",\"colorbar\":{\"outlinewidth\":0,\"ticks\":\"\"},\"colorscale\":[[0.0,\"#0d0887\"],[0.1111111111111111,\"#46039f\"],[0.2222222222222222,\"#7201a8\"],[0.3333333333333333,\"#9c179e\"],[0.4444444444444444,\"#bd3786\"],[0.5555555555555556,\"#d8576b\"],[0.6666666666666666,\"#ed7953\"],[0.7777777777777778,\"#fb9f3a\"],[0.8888888888888888,\"#fdca26\"],[1.0,\"#f0f921\"]]}],\"choropleth\":[{\"type\":\"choropleth\",\"colorbar\":{\"outlinewidth\":0,\"ticks\":\"\"}}],\"histogram2d\":[{\"type\":\"histogram2d\",\"colorbar\":{\"outlinewidth\":0,\"ticks\":\"\"},\"colorscale\":[[0.0,\"#0d0887\"],[0.1111111111111111,\"#46039f\"],[0.2222222222222222,\"#7201a8\"],[0.3333333333333333,\"#9c179e\"],[0.4444444444444444,\"#bd3786\"],[0.5555555555555556,\"#d8576b\"],[0.6666666666666666,\"#ed7953\"],[0.7777777777777778,\"#fb9f3a\"],[0.8888888888888888,\"#fdca26\"],[1.0,\"#f0f921\"]]}],\"heatmap\":[{\"type\":\"heatmap\",\"colorbar\":{\"outlinewidth\":0,\"ticks\":\"\"},\"colorscale\":[[0.0,\"#0d0887\"],[0.1111111111111111,\"#46039f\"],[0.2222222222222222,\"#7201a8\"],[0.3333333333333333,\"#9c179e\"],[0.4444444444444444,\"#bd3786\"],[0.5555555555555556,\"#d8576b\"],[0.6666666666666666,\"#ed7953\"],[0.7777777777777778,\"#fb9f3a\"],[0.8888888888888888,\"#fdca26\"],[1.0,\"#f0f921\"]]}],\"heatmapgl\":[{\"type\":\"heatmapgl\",\"colorbar\":{\"outlinewidth\":0,\"ticks\":\"\"},\"colorscale\":[[0.0,\"#0d0887\"],[0.1111111111111111,\"#46039f\"],[0.2222222222222222,\"#7201a8\"],[0.3333333333333333,\"#9c179e\"],[0.4444444444444444,\"#bd3786\"],[0.5555555555555556,\"#d8576b\"],[0.6666666666666666,\"#ed7953\"],[0.7777777777777778,\"#fb9f3a\"],[0.8888888888888888,\"#fdca26\"],[1.0,\"#f0f921\"]]}],\"contourcarpet\":[{\"type\":\"contourcarpet\",\"colorbar\":{\"outlinewidth\":0,\"ticks\":\"\"}}],\"contour\":[{\"type\":\"contour\",\"colorbar\":{\"outlinewidth\":0,\"ticks\":\"\"},\"colorscale\":[[0.0,\"#0d0887\"],[0.1111111111111111,\"#46039f\"],[0.2222222222222222,\"#7201a8\"],[0.3333333333333333,\"#9c179e\"],[0.4444444444444444,\"#bd3786\"],[0.5555555555555556,\"#d8576b\"],[0.6666666666666666,\"#ed7953\"],[0.7777777777777778,\"#fb9f3a\"],[0.8888888888888888,\"#fdca26\"],[1.0,\"#f0f921\"]]}],\"surface\":[{\"type\":\"surface\",\"colorbar\":{\"outlinewidth\":0,\"ticks\":\"\"},\"colorscale\":[[0.0,\"#0d0887\"],[0.1111111111111111,\"#46039f\"],[0.2222222222222222,\"#7201a8\"],[0.3333333333333333,\"#9c179e\"],[0.4444444444444444,\"#bd3786\"],[0.5555555555555556,\"#d8576b\"],[0.6666666666666666,\"#ed7953\"],[0.7777777777777778,\"#fb9f3a\"],[0.8888888888888888,\"#fdca26\"],[1.0,\"#f0f921\"]]}],\"mesh3d\":[{\"type\":\"mesh3d\",\"colorbar\":{\"outlinewidth\":0,\"ticks\":\"\"}}],\"scatter\":[{\"fillpattern\":{\"fillmode\":\"overlay\",\"size\":10,\"solidity\":0.2},\"type\":\"scatter\"}],\"parcoords\":[{\"type\":\"parcoords\",\"line\":{\"colorbar\":{\"outlinewidth\":0,\"ticks\":\"\"}}}],\"scatterpolargl\":[{\"type\":\"scatterpolargl\",\"marker\":{\"colorbar\":{\"outlinewidth\":0,\"ticks\":\"\"}}}],\"bar\":[{\"error_x\":{\"color\":\"#2a3f5f\"},\"error_y\":{\"color\":\"#2a3f5f\"},\"marker\":{\"line\":{\"color\":\"#E5ECF6\",\"width\":0.5},\"pattern\":{\"fillmode\":\"overlay\",\"size\":10,\"solidity\":0.2}},\"type\":\"bar\"}],\"scattergeo\":[{\"type\":\"scattergeo\",\"marker\":{\"colorbar\":{\"outlinewidth\":0,\"ticks\":\"\"}}}],\"scatterpolar\":[{\"type\":\"scatterpolar\",\"marker\":{\"colorbar\":{\"outlinewidth\":0,\"ticks\":\"\"}}}],\"histogram\":[{\"marker\":{\"pattern\":{\"fillmode\":\"overlay\",\"size\":10,\"solidity\":0.2}},\"type\":\"histogram\"}],\"scattergl\":[{\"type\":\"scattergl\",\"marker\":{\"colorbar\":{\"outlinewidth\":0,\"ticks\":\"\"}}}],\"scatter3d\":[{\"type\":\"scatter3d\",\"line\":{\"colorbar\":{\"outlinewidth\":0,\"ticks\":\"\"}},\"marker\":{\"colorbar\":{\"outlinewidth\":0,\"ticks\":\"\"}}}],\"scattermapbox\":[{\"type\":\"scattermapbox\",\"marker\":{\"colorbar\":{\"outlinewidth\":0,\"ticks\":\"\"}}}],\"scatterternary\":[{\"type\":\"scatterternary\",\"marker\":{\"colorbar\":{\"outlinewidth\":0,\"ticks\":\"\"}}}],\"scattercarpet\":[{\"type\":\"scattercarpet\",\"marker\":{\"colorbar\":{\"outlinewidth\":0,\"ticks\":\"\"}}}],\"carpet\":[{\"aaxis\":{\"endlinecolor\":\"#2a3f5f\",\"gridcolor\":\"white\",\"linecolor\":\"white\",\"minorgridcolor\":\"white\",\"startlinecolor\":\"#2a3f5f\"},\"baxis\":{\"endlinecolor\":\"#2a3f5f\",\"gridcolor\":\"white\",\"linecolor\":\"white\",\"minorgridcolor\":\"white\",\"startlinecolor\":\"#2a3f5f\"},\"type\":\"carpet\"}],\"table\":[{\"cells\":{\"fill\":{\"color\":\"#EBF0F8\"},\"line\":{\"color\":\"white\"}},\"header\":{\"fill\":{\"color\":\"#C8D4E3\"},\"line\":{\"color\":\"white\"}},\"type\":\"table\"}],\"barpolar\":[{\"marker\":{\"line\":{\"color\":\"#E5ECF6\",\"width\":0.5},\"pattern\":{\"fillmode\":\"overlay\",\"size\":10,\"solidity\":0.2}},\"type\":\"barpolar\"}],\"pie\":[{\"automargin\":true,\"type\":\"pie\"}]},\"layout\":{\"autotypenumbers\":\"strict\",\"colorway\":[\"#636efa\",\"#EF553B\",\"#00cc96\",\"#ab63fa\",\"#FFA15A\",\"#19d3f3\",\"#FF6692\",\"#B6E880\",\"#FF97FF\",\"#FECB52\"],\"font\":{\"color\":\"#2a3f5f\"},\"hovermode\":\"closest\",\"hoverlabel\":{\"align\":\"left\"},\"paper_bgcolor\":\"white\",\"plot_bgcolor\":\"#E5ECF6\",\"polar\":{\"bgcolor\":\"#E5ECF6\",\"angularaxis\":{\"gridcolor\":\"white\",\"linecolor\":\"white\",\"ticks\":\"\"},\"radialaxis\":{\"gridcolor\":\"white\",\"linecolor\":\"white\",\"ticks\":\"\"}},\"ternary\":{\"bgcolor\":\"#E5ECF6\",\"aaxis\":{\"gridcolor\":\"white\",\"linecolor\":\"white\",\"ticks\":\"\"},\"baxis\":{\"gridcolor\":\"white\",\"linecolor\":\"white\",\"ticks\":\"\"},\"caxis\":{\"gridcolor\":\"white\",\"linecolor\":\"white\",\"ticks\":\"\"}},\"coloraxis\":{\"colorbar\":{\"outlinewidth\":0,\"ticks\":\"\"}},\"colorscale\":{\"sequential\":[[0.0,\"#0d0887\"],[0.1111111111111111,\"#46039f\"],[0.2222222222222222,\"#7201a8\"],[0.3333333333333333,\"#9c179e\"],[0.4444444444444444,\"#bd3786\"],[0.5555555555555556,\"#d8576b\"],[0.6666666666666666,\"#ed7953\"],[0.7777777777777778,\"#fb9f3a\"],[0.8888888888888888,\"#fdca26\"],[1.0,\"#f0f921\"]],\"sequentialminus\":[[0.0,\"#0d0887\"],[0.1111111111111111,\"#46039f\"],[0.2222222222222222,\"#7201a8\"],[0.3333333333333333,\"#9c179e\"],[0.4444444444444444,\"#bd3786\"],[0.5555555555555556,\"#d8576b\"],[0.6666666666666666,\"#ed7953\"],[0.7777777777777778,\"#fb9f3a\"],[0.8888888888888888,\"#fdca26\"],[1.0,\"#f0f921\"]],\"diverging\":[[0,\"#8e0152\"],[0.1,\"#c51b7d\"],[0.2,\"#de77ae\"],[0.3,\"#f1b6da\"],[0.4,\"#fde0ef\"],[0.5,\"#f7f7f7\"],[0.6,\"#e6f5d0\"],[0.7,\"#b8e186\"],[0.8,\"#7fbc41\"],[0.9,\"#4d9221\"],[1,\"#276419\"]]},\"xaxis\":{\"gridcolor\":\"white\",\"linecolor\":\"white\",\"ticks\":\"\",\"title\":{\"standoff\":15},\"zerolinecolor\":\"white\",\"automargin\":true,\"zerolinewidth\":2},\"yaxis\":{\"gridcolor\":\"white\",\"linecolor\":\"white\",\"ticks\":\"\",\"title\":{\"standoff\":15},\"zerolinecolor\":\"white\",\"automargin\":true,\"zerolinewidth\":2},\"scene\":{\"xaxis\":{\"backgroundcolor\":\"#E5ECF6\",\"gridcolor\":\"white\",\"linecolor\":\"white\",\"showbackground\":true,\"ticks\":\"\",\"zerolinecolor\":\"white\",\"gridwidth\":2},\"yaxis\":{\"backgroundcolor\":\"#E5ECF6\",\"gridcolor\":\"white\",\"linecolor\":\"white\",\"showbackground\":true,\"ticks\":\"\",\"zerolinecolor\":\"white\",\"gridwidth\":2},\"zaxis\":{\"backgroundcolor\":\"#E5ECF6\",\"gridcolor\":\"white\",\"linecolor\":\"white\",\"showbackground\":true,\"ticks\":\"\",\"zerolinecolor\":\"white\",\"gridwidth\":2}},\"shapedefaults\":{\"line\":{\"color\":\"#2a3f5f\"}},\"annotationdefaults\":{\"arrowcolor\":\"#2a3f5f\",\"arrowhead\":0,\"arrowwidth\":1},\"geo\":{\"bgcolor\":\"white\",\"landcolor\":\"#E5ECF6\",\"subunitcolor\":\"white\",\"showland\":true,\"showlakes\":true,\"lakecolor\":\"white\"},\"title\":{\"x\":0.05},\"mapbox\":{\"style\":\"light\"}}},\"width\":1000,\"height\":1000},                        {\"responsive\": true}                    ).then(function(){\n",
       "                            \n",
       "var gd = document.getElementById('489435a4-01c7-4642-a4ad-c61aebb79870');\n",
       "var x = new MutationObserver(function (mutations, observer) {{\n",
       "        var display = window.getComputedStyle(gd).display;\n",
       "        if (!display || display === 'none') {{\n",
       "            console.log([gd, 'removed!']);\n",
       "            Plotly.purge(gd);\n",
       "            observer.disconnect();\n",
       "        }}\n",
       "}});\n",
       "\n",
       "// Listen for the removal of the full notebook cells\n",
       "var notebookContainer = gd.closest('#notebook-container');\n",
       "if (notebookContainer) {{\n",
       "    x.observe(notebookContainer, {childList: true});\n",
       "}}\n",
       "\n",
       "// Listen for the clearing of the current output cell\n",
       "var outputEl = gd.closest('.output');\n",
       "if (outputEl) {{\n",
       "    x.observe(outputEl, {childList: true});\n",
       "}}\n",
       "\n",
       "                        })                };                });            </script>        </div>"
      ]
     },
     "metadata": {},
     "output_type": "display_data"
    }
   ],
   "source": [
    "import plotly.graph_objects as go\n",
    "dataN=data.head(10)\n",
    "\n",
    "fig = go.Figure(data=[go.Table(\n",
    "    header=dict(values=dataN.columns,\n",
    "                line_color='darkslategray',\n",
    "                fill_color='indianred',\n",
    "                align='left'),\n",
    "    cells=dict(values=[dataN.ID, dataN[\"CVE-ID\"], dataN.Year, dataN[\"CVSS-V3\"],dataN[\"CVSS-V2\"],dataN.SEVERITY,dataN.DESCRIPTION,dataN[\"CWE-ID\"]], # 2nd column\n",
    "               line_color='darkslategray',\n",
    "               fill_color='mistyrose',\n",
    "               align='left'))\n",
    "])\n",
    "\n",
    "fig.update_layout(width=1000, height=1000)\n",
    "fig.show()"
   ]
  },
  {
   "cell_type": "code",
   "execution_count": 22,
   "metadata": {
    "_kg_hide-input": true,
    "execution": {
     "iopub.execute_input": "2022-01-24T20:32:24.821035Z",
     "iopub.status.busy": "2022-01-24T20:32:24.820422Z",
     "iopub.status.idle": "2022-01-24T20:32:26.426748Z",
     "shell.execute_reply": "2022-01-24T20:32:26.427191Z",
     "shell.execute_reply.started": "2022-01-24T18:52:08.756169Z"
    },
    "papermill": {
     "duration": 1.660487,
     "end_time": "2022-01-24T20:32:26.427400",
     "exception": false,
     "start_time": "2022-01-24T20:32:24.766913",
     "status": "completed"
    },
    "tags": []
   },
   "outputs": [
    {
     "data": {
      "image/png": "[encoded data removed]",
      "text/plain": [
       "<Figure size 1440x720 with 1 Axes>"
      ]
     },
     "metadata": {},
     "output_type": "display_data"
    }
   ],
   "source": [
    "import matplotlib.pyplot as plt\n",
    "import seaborn as sns\n",
    "plt.rcParams[\"figure.figsize\"] = (20,10)\n",
    "sns.set_theme(style=\"darkgrid\")\n",
    "\n",
    "ax = sns.countplot(x=\"Year\", data=data,palette=\"hls\")\n",
    "ax.set_title(\"Vulnerabilities By Year\")\n",
    "for p in ax.patches:\n",
    "        ax.annotate('{:.0f}'.format(p.get_height()), (p.get_x()+0.1, p.get_height()+50))\n",
    "plt.xticks(rotation=90)\n",
    "plt.show()"
   ]
  },
  {
   "cell_type": "code",
   "execution_count": 23,
   "metadata": {
    "_kg_hide-input": true,
    "execution": {
     "iopub.execute_input": "2022-01-24T20:32:26.643819Z",
     "iopub.status.busy": "2022-01-24T20:32:26.643049Z",
     "iopub.status.idle": "2022-01-24T20:32:28.210142Z",
     "shell.execute_reply": "2022-01-24T20:32:28.210609Z",
     "shell.execute_reply.started": "2022-01-24T18:52:18.118512Z"
    },
    "papermill": {
     "duration": 1.62401,
     "end_time": "2022-01-24T20:32:28.210784",
     "exception": false,
     "start_time": "2022-01-24T20:32:26.586774",
     "status": "completed"
    },
    "tags": []
   },
   "outputs": [
    {
     "data": {
      "image/png": "[encoded data removed]",
      "text/plain": [
       "<Figure size 1440x720 with 1 Axes>"
      ]
     },
     "metadata": {},
     "output_type": "display_data"
    }
   ],
   "source": [
    "\n",
    "plt.rcParams[\"figure.figsize\"] = (20,10)\n",
    "sns.set_theme(style=\"darkgrid\")\n",
    "\n",
    "ax = sns.countplot(x=\"Year\", data=data,palette=\"Set3\",hue=\"SEVERITY\")\n",
    "ax.set_title(\"Vulnerabilities By Year And Severity\")\n",
    "for p in ax.patches:\n",
    "        ax.annotate('{:.0f}'.format(p.get_height()), (p.get_x()+0.1, p.get_height()+50))\n",
    "plt.xticks(rotation=90)\n",
    "plt.show()"
   ]
  },
  {
   "cell_type": "code",
   "execution_count": 24,
   "metadata": {
    "_kg_hide-input": true,
    "execution": {
     "iopub.execute_input": "2022-01-24T20:32:28.439097Z",
     "iopub.status.busy": "2022-01-24T20:32:28.438477Z",
     "iopub.status.idle": "2022-01-24T20:32:51.209341Z",
     "shell.execute_reply": "2022-01-24T20:32:51.209832Z",
     "shell.execute_reply.started": "2022-01-24T20:22:06.684269Z"
    },
    "papermill": {
     "duration": 22.8326,
     "end_time": "2022-01-24T20:32:51.210014",
     "exception": false,
     "start_time": "2022-01-24T20:32:28.377414",
     "status": "completed"
    },
    "tags": []
   },
   "outputs": [
    {
     "data": {
      "image/png": "[encoded data removed]",
      "text/plain": [
       "<Figure size 1080x1080 with 1 Axes>"
      ]
     },
     "metadata": {},
     "output_type": "display_data"
    }
   ],
   "source": [
    "from PIL import Image\n",
    "from wordcloud import WordCloud,STOPWORDS\n",
    "text = \" \".join(desc for desc in data.DESCRIPTION)\n",
    "stopwords = set(STOPWORDS)\n",
    "stopwords.update([\"will\",\"announcing\",\"via\",\"none\"])\n",
    "word_cloud = WordCloud(background_color = 'black',colormap=\"gist_ncar\",contour_width=1, stopwords=stopwords,contour_color=\"black\").generate(text)\n",
    "plt.rcParams[\"figure.figsize\"] = (15,15)\n",
    "plt.imshow(word_cloud, interpolation='bilinear')\n",
    "plt.axis(\"off\")\n",
    "plt.show()"
   ]
  },
  {
   "cell_type": "code",
   "execution_count": 25,
   "metadata": {
    "_kg_hide-input": true,
    "execution": {
     "iopub.execute_input": "2022-01-24T20:32:51.485783Z",
     "iopub.status.busy": "2022-01-24T20:32:51.485103Z",
     "iopub.status.idle": "2022-01-24T20:32:51.607579Z",
     "shell.execute_reply": "2022-01-24T20:32:51.607033Z",
     "shell.execute_reply.started": "2022-01-24T18:59:18.473999Z"
    },
    "papermill": {
     "duration": 0.194571,
     "end_time": "2022-01-24T20:32:51.607754",
     "exception": false,
     "start_time": "2022-01-24T20:32:51.413183",
     "status": "completed"
    },
    "tags": []
   },
   "outputs": [],
   "source": [
    "dataHD=pd.read_excel(\"./Hardware Design/HD_Vulnerability_Dataset.xlsx\",engine='openpyxl')"
   ]
  },
  {
   "cell_type": "code",
   "execution_count": 26,
   "metadata": {
    "_kg_hide-input": true,
    "execution": {
     "iopub.execute_input": "2022-01-24T20:32:51.752897Z",
     "iopub.status.busy": "2022-01-24T20:32:51.752160Z",
     "iopub.status.idle": "2022-01-24T20:32:51.755063Z",
     "shell.execute_reply": "2022-01-24T20:32:51.755674Z",
     "shell.execute_reply.started": "2022-01-24T18:59:20.071216Z"
    },
    "papermill": {
     "duration": 0.081504,
     "end_time": "2022-01-24T20:32:51.755848",
     "exception": false,
     "start_time": "2022-01-24T20:32:51.674344",
     "status": "completed"
    },
    "tags": []
   },
   "outputs": [],
   "source": [
    "year_list=[]\n",
    "for i in range(0,len(dataHD[\"CVE-ID\"])):\n",
    "    a=dataHD[\"CVE-ID\"][i].split(\"-\")[1]\n",
    "    year_list.append(a)\n",
    "\n",
    "dataHD.insert(loc=2, column='Year', value=year_list)"
   ]
  },
  {
   "cell_type": "code",
   "execution_count": 27,
   "metadata": {
    "_kg_hide-input": true,
    "execution": {
     "iopub.execute_input": "2022-01-24T20:32:51.904786Z",
     "iopub.status.busy": "2022-01-24T20:32:51.896797Z",
     "iopub.status.idle": "2022-01-24T20:32:51.924871Z",
     "shell.execute_reply": "2022-01-24T20:32:51.925425Z",
     "shell.execute_reply.started": "2022-01-24T18:59:36.779991Z"
    },
    "papermill": {
     "duration": 0.103429,
     "end_time": "2022-01-24T20:32:51.925598",
     "exception": false,
     "start_time": "2022-01-24T20:32:51.822169",
     "status": "completed"
    },
    "tags": []
   },
   "outputs": [],
   "source": [
    "df2011=dataHD[dataHD.Year==\"2011\"][\"CWE-NAME\"].value_counts().to_frame().reset_index()\n",
    "df2012=dataHD[dataHD.Year==\"2012\"][\"CWE-NAME\"].value_counts().to_frame().reset_index()\n",
    "df2013=dataHD[dataHD.Year==\"2013\"][\"CWE-NAME\"].value_counts().to_frame().reset_index()\n",
    "df2014=dataHD[dataHD.Year==\"2014\"][\"CWE-NAME\"].value_counts().to_frame().reset_index()\n",
    "df2015=dataHD[dataHD.Year==\"2015\"][\"CWE-NAME\"].value_counts().to_frame().reset_index()\n",
    "df2016=dataHD[dataHD.Year==\"2016\"][\"CWE-NAME\"].value_counts().to_frame().reset_index()\n",
    "df2017=dataHD[dataHD.Year==\"2017\"][\"CWE-NAME\"].value_counts().to_frame().reset_index()\n",
    "df2018=dataHD[dataHD.Year==\"2018\"][\"CWE-NAME\"].value_counts().to_frame().reset_index()\n",
    "df2019=dataHD[dataHD.Year==\"2019\"][\"CWE-NAME\"].value_counts().to_frame().reset_index()\n",
    "df2020=dataHD[dataHD.Year==\"2020\"][\"CWE-NAME\"].value_counts().to_frame().reset_index()\n",
    "df2021=dataHD[dataHD.Year==\"2021\"][\"CWE-NAME\"].value_counts().to_frame().reset_index()\n",
    "df2022=dataHD[dataHD.Year==\"2022\"][\"CWE-NAME\"].value_counts().to_frame().reset_index()"
   ]
  },
  {
   "cell_type": "code",
   "execution_count": 28,
   "metadata": {
    "_kg_hide-input": true,
    "execution": {
     "iopub.execute_input": "2022-01-24T20:32:52.211471Z",
     "iopub.status.busy": "2022-01-24T20:32:52.210788Z",
     "iopub.status.idle": "2022-01-24T20:32:53.517395Z",
     "shell.execute_reply": "2022-01-24T20:32:53.517958Z",
     "shell.execute_reply.started": "2022-01-24T19:32:06.476805Z"
    },
    "papermill": {
     "duration": 1.390298,
     "end_time": "2022-01-24T20:32:53.518125",
     "exception": false,
     "start_time": "2022-01-24T20:32:52.127827",
     "status": "completed"
    },
    "tags": []
   },
   "outputs": [
    {
     "data": {
      "application/vnd.plotly.v1+json": {
       "config": {
        "plotlyServerURL": "https://plot.ly"
       },
       "data": [
        {
         "domain": {
          "x": [
           0,
           0.2125
          ],
          "y": [
           0.7777777777777778,
           1
          ]
         },
         "hoverinfo": "label+percent",
         "labels": [
          "Incorrect Default Permissions"
         ],
         "marker": {
          "line": {
           "color": "red",
           "width": 2
          }
         },
         "name": "2011",
         "textfont": {
          "size": 15
         },
         "textposition": "inside",
         "type": "pie",
         "values": [
          4
         ]
        },
        {
         "domain": {
          "x": [
           0.2625,
           0.475
          ],
          "y": [
           0.7777777777777778,
           1
          ]
         },
         "hoverinfo": "label+percent",
         "labels": [
          "Incorrect Default Permissions"
         ],
         "marker": {
          "line": {
           "color": "red",
           "width": 2
          }
         },
         "name": "2012",
         "textfont": {
          "size": 15
         },
         "textposition": "inside",
         "type": "pie",
         "values": [
          6
         ]
        },
        {
         "domain": {
          "x": [
           0.525,
           0.7375
          ],
          "y": [
           0.7777777777777778,
           1
          ]
         },
         "hoverinfo": "label+percent",
         "labels": [
          "Incorrect Default Permissions",
          "Observable Discrepancy"
         ],
         "marker": {
          "line": {
           "color": "red",
           "width": 2
          }
         },
         "name": "2013",
         "textfont": {
          "size": 15
         },
         "textposition": "inside",
         "type": "pie",
         "values": [
          5,
          1
         ]
        },
        {
         "domain": {
          "x": [
           0.7875,
           1
          ],
          "y": [
           0.7777777777777778,
           1
          ]
         },
         "hoverinfo": "label+percent",
         "labels": [
          "Incorrect Default Permissions",
          "Observable Discrepancy"
         ],
         "marker": {
          "line": {
           "color": "red",
           "width": 2
          }
         },
         "name": "2014",
         "textfont": {
          "size": 15
         },
         "textposition": "inside",
         "type": "pie",
         "values": [
          6,
          2
         ]
        },
        {
         "domain": {
          "x": [
           0,
           0.2125
          ],
          "y": [
           0.3888888888888889,
           0.6111111111111112
          ]
         },
         "hoverinfo": "label+percent",
         "labels": [
          "Incorrect Default Permissions",
          "Observable Discrepancy",
          "Unintended Proxy or Intermediary ('Confused Deputy')"
         ],
         "marker": {
          "line": {
           "color": "red",
           "width": 2
          }
         },
         "name": "2015",
         "textfont": {
          "size": 15
         },
         "textposition": "inside",
         "type": "pie",
         "values": [
          5,
          2,
          1
         ]
        },
        {
         "domain": {
          "x": [
           0.2625,
           0.475
          ],
          "y": [
           0.3888888888888889,
           0.6111111111111112
          ]
         },
         "hoverinfo": "label+percent",
         "labels": [
          "Incorrect Default Permissions",
          "Observable Discrepancy"
         ],
         "marker": {
          "line": {
           "color": "red",
           "width": 2
          }
         },
         "name": "2016",
         "textfont": {
          "size": 15
         },
         "textposition": "inside",
         "type": "pie",
         "values": [
          3,
          1
         ]
        },
        {
         "domain": {
          "x": [
           0.525,
           0.7375
          ],
          "y": [
           0.3888888888888889,
           0.6111111111111112
          ]
         },
         "hoverinfo": "label+percent",
         "labels": [
          "Incorrect Default Permissions",
          "Observable Discrepancy"
         ],
         "marker": {
          "line": {
           "color": "red",
           "width": 2
          }
         },
         "name": "2017",
         "textfont": {
          "size": 15
         },
         "textposition": "inside",
         "type": "pie",
         "values": [
          33,
          12
         ]
        },
        {
         "domain": {
          "x": [
           0.7875,
           1
          ],
          "y": [
           0.3888888888888889,
           0.6111111111111112
          ]
         },
         "hoverinfo": "label+percent",
         "labels": [
          "Incorrect Default Permissions",
          "Observable Discrepancy",
          "Unintended Proxy or Intermediary ('Confused Deputy')"
         ],
         "marker": {
          "line": {
           "color": "red",
           "width": 2
          }
         },
         "name": "2018",
         "textfont": {
          "size": 15
         },
         "textposition": "inside",
         "type": "pie",
         "values": [
          19,
          14,
          3
         ]
        },
        {
         "domain": {
          "x": [
           0,
           0.2125
          ],
          "y": [
           0,
           0.22222222222222224
          ]
         },
         "hoverinfo": "label+percent",
         "labels": [
          "Incorrect Default Permissions",
          "Observable Discrepancy",
          "Expected Behavior Violation",
          "Missing Cryptographic Step",
          "Unintended Proxy or Intermediary ('Confused Deputy')"
         ],
         "marker": {
          "line": {
           "color": "red",
           "width": 2
          }
         },
         "name": "2019",
         "textfont": {
          "size": 15
         },
         "textposition": "inside",
         "type": "pie",
         "values": [
          96,
          60,
          1,
          1,
          1
         ]
        },
        {
         "domain": {
          "x": [
           0.2625,
           0.475
          ],
          "y": [
           0,
           0.22222222222222224
          ]
         },
         "hoverinfo": "label+percent",
         "labels": [
          "Incorrect Default Permissions",
          "Observable Discrepancy",
          "Unintended Proxy or Intermediary ('Confused Deputy')"
         ],
         "marker": {
          "line": {
           "color": "red",
           "width": 2
          }
         },
         "name": "2020",
         "textfont": {
          "size": 15
         },
         "textposition": "inside",
         "type": "pie",
         "values": [
          223,
          63,
          1
         ]
        },
        {
         "domain": {
          "x": [
           0.525,
           0.7375
          ],
          "y": [
           0,
           0.22222222222222224
          ]
         },
         "hoverinfo": "label+percent",
         "labels": [
          "Incorrect Default Permissions",
          "Observable Discrepancy",
          "Missing Protection Against Hardware Reverse Engineering Using Integrated Circuit (IC) Imaging Techniques"
         ],
         "marker": {
          "line": {
           "color": "red",
           "width": 2
          }
         },
         "name": "2021",
         "textfont": {
          "size": 15
         },
         "textposition": "inside",
         "type": "pie",
         "values": [
          114,
          59,
          1
         ]
        },
        {
         "domain": {
          "x": [
           0.7875,
           1
          ],
          "y": [
           0,
           0.22222222222222224
          ]
         },
         "hoverinfo": "label+percent",
         "labels": [],
         "marker": {
          "line": {
           "color": "red",
           "width": 2
          }
         },
         "name": "2022",
         "textfont": {
          "size": 15
         },
         "textposition": "inside",
         "type": "pie",
         "values": []
        }
       ],
       "layout": {
        "annotations": [
         {
          "font": {
           "size": 16
          },
          "showarrow": false,
          "text": "2011",
          "x": 0.10625,
          "xanchor": "center",
          "xref": "paper",
          "y": 1,
          "yanchor": "bottom",
          "yref": "paper"
         },
         {
          "font": {
           "size": 16
          },
          "showarrow": false,
          "text": "2012",
          "x": 0.36875,
          "xanchor": "center",
          "xref": "paper",
          "y": 1,
          "yanchor": "bottom",
          "yref": "paper"
         },
         {
          "font": {
           "size": 16
          },
          "showarrow": false,
          "text": "2013",
          "x": 0.6312500000000001,
          "xanchor": "center",
          "xref": "paper",
          "y": 1,
          "yanchor": "bottom",
          "yref": "paper"
         },
         {
          "font": {
           "size": 16
          },
          "showarrow": false,
          "text": "2014",
          "x": 0.89375,
          "xanchor": "center",
          "xref": "paper",
          "y": 1,
          "yanchor": "bottom",
          "yref": "paper"
         },
         {
          "font": {
           "size": 16
          },
          "showarrow": false,
          "text": "2015",
          "x": 0.10625,
          "xanchor": "center",
          "xref": "paper",
          "y": 0.6111111111111112,
          "yanchor": "bottom",
          "yref": "paper"
         },
         {
          "font": {
           "size": 16
          },
          "showarrow": false,
          "text": "2016",
          "x": 0.36875,
          "xanchor": "center",
          "xref": "paper",
          "y": 0.6111111111111112,
          "yanchor": "bottom",
          "yref": "paper"
         },
         {
          "font": {
           "size": 16
          },
          "showarrow": false,
          "text": "2017",
          "x": 0.6312500000000001,
          "xanchor": "center",
          "xref": "paper",
          "y": 0.6111111111111112,
          "yanchor": "bottom",
          "yref": "paper"
         },
         {
          "font": {
           "size": 16
          },
          "showarrow": false,
          "text": "2018",
          "x": 0.89375,
          "xanchor": "center",
          "xref": "paper",
          "y": 0.6111111111111112,
          "yanchor": "bottom",
          "yref": "paper"
         },
         {
          "font": {
           "size": 16
          },
          "showarrow": false,
          "text": "2019",
          "x": 0.10625,
          "xanchor": "center",
          "xref": "paper",
          "y": 0.22222222222222224,
          "yanchor": "bottom",
          "yref": "paper"
         },
         {
          "font": {
           "size": 16
          },
          "showarrow": false,
          "text": "2020",
          "x": 0.36875,
          "xanchor": "center",
          "xref": "paper",
          "y": 0.22222222222222224,
          "yanchor": "bottom",
          "yref": "paper"
         },
         {
          "font": {
           "size": 16
          },
          "showarrow": false,
          "text": "2021",
          "x": 0.6312500000000001,
          "xanchor": "center",
          "xref": "paper",
          "y": 0.22222222222222224,
          "yanchor": "bottom",
          "yref": "paper"
         }
        ],
        "colorway": [
         "rgb(0,0,0)",
         "rgb(30,0,100)",
         "rgb(120,0,100)",
         "rgb(160,90,0)",
         "rgb(230,200,0)",
         "rgb(255,250,220)"
        ],
        "height": 900,
        "template": {
         "data": {
          "bar": [
           {
            "error_x": {
             "color": "#2a3f5f"
            },
            "error_y": {
             "color": "#2a3f5f"
            },
            "marker": {
             "line": {
              "color": "#E5ECF6",
              "width": 0.5
             },
             "pattern": {
              "fillmode": "overlay",
              "size": 10,
              "solidity": 0.2
             }
            },
            "type": "bar"
           }
          ],
          "barpolar": [
           {
            "marker": {
             "line": {
              "color": "#E5ECF6",
              "width": 0.5
             },
             "pattern": {
              "fillmode": "overlay",
              "size": 10,
              "solidity": 0.2
             }
            },
            "type": "barpolar"
           }
          ],
          "carpet": [
           {
            "aaxis": {
             "endlinecolor": "#2a3f5f",
             "gridcolor": "white",
             "linecolor": "white",
             "minorgridcolor": "white",
             "startlinecolor": "#2a3f5f"
            },
            "baxis": {
             "endlinecolor": "#2a3f5f",
             "gridcolor": "white",
             "linecolor": "white",
             "minorgridcolor": "white",
             "startlinecolor": "#2a3f5f"
            },
            "type": "carpet"
           }
          ],
          "choropleth": [
           {
            "colorbar": {
             "outlinewidth": 0,
             "ticks": ""
            },
            "type": "choropleth"
           }
          ],
          "contour": [
           {
            "colorbar": {
             "outlinewidth": 0,
             "ticks": ""
            },
            "colorscale": [
             [
              0,
              "#0d0887"
             ],
             [
              0.1111111111111111,
              "#46039f"
             ],
             [
              0.2222222222222222,
              "#7201a8"
             ],
             [
              0.3333333333333333,
              "#9c179e"
             ],
             [
              0.4444444444444444,
              "#bd3786"
             ],
             [
              0.5555555555555556,
              "#d8576b"
             ],
             [
              0.6666666666666666,
              "#ed7953"
             ],
             [
              0.7777777777777778,
              "#fb9f3a"
             ],
             [
              0.8888888888888888,
              "#fdca26"
             ],
             [
              1,
              "#f0f921"
             ]
            ],
            "type": "contour"
           }
          ],
          "contourcarpet": [
           {
            "colorbar": {
             "outlinewidth": 0,
             "ticks": ""
            },
            "type": "contourcarpet"
           }
          ],
          "heatmap": [
           {
            "colorbar": {
             "outlinewidth": 0,
             "ticks": ""
            },
            "colorscale": [
             [
              0,
              "#0d0887"
             ],
             [
              0.1111111111111111,
              "#46039f"
             ],
             [
              0.2222222222222222,
              "#7201a8"
             ],
             [
              0.3333333333333333,
              "#9c179e"
             ],
             [
              0.4444444444444444,
              "#bd3786"
             ],
             [
              0.5555555555555556,
              "#d8576b"
             ],
             [
              0.6666666666666666,
              "#ed7953"
             ],
             [
              0.7777777777777778,
              "#fb9f3a"
             ],
             [
              0.8888888888888888,
              "#fdca26"
             ],
             [
              1,
              "#f0f921"
             ]
            ],
            "type": "heatmap"
           }
          ],
          "heatmapgl": [
           {
            "colorbar": {
             "outlinewidth": 0,
             "ticks": ""
            },
            "colorscale": [
             [
              0,
              "#0d0887"
             ],
             [
              0.1111111111111111,
              "#46039f"
             ],
             [
              0.2222222222222222,
              "#7201a8"
             ],
             [
              0.3333333333333333,
              "#9c179e"
             ],
             [
              0.4444444444444444,
              "#bd3786"
             ],
             [
              0.5555555555555556,
              "#d8576b"
             ],
             [
              0.6666666666666666,
              "#ed7953"
             ],
             [
              0.7777777777777778,
              "#fb9f3a"
             ],
             [
              0.8888888888888888,
              "#fdca26"
             ],
             [
              1,
              "#f0f921"
             ]
            ],
            "type": "heatmapgl"
           }
          ],
          "histogram": [
           {
            "marker": {
             "pattern": {
              "fillmode": "overlay",
              "size": 10,
              "solidity": 0.2
             }
            },
            "type": "histogram"
           }
          ],
          "histogram2d": [
           {
            "colorbar": {
             "outlinewidth": 0,
             "ticks": ""
            },
            "colorscale": [
             [
              0,
              "#0d0887"
             ],
             [
              0.1111111111111111,
              "#46039f"
             ],
             [
              0.2222222222222222,
              "#7201a8"
             ],
             [
              0.3333333333333333,
              "#9c179e"
             ],
             [
              0.4444444444444444,
              "#bd3786"
             ],
             [
              0.5555555555555556,
              "#d8576b"
             ],
             [
              0.6666666666666666,
              "#ed7953"
             ],
             [
              0.7777777777777778,
              "#fb9f3a"
             ],
             [
              0.8888888888888888,
              "#fdca26"
             ],
             [
              1,
              "#f0f921"
             ]
            ],
            "type": "histogram2d"
           }
          ],
          "histogram2dcontour": [
           {
            "colorbar": {
             "outlinewidth": 0,
             "ticks": ""
            },
            "colorscale": [
             [
              0,
              "#0d0887"
             ],
             [
              0.1111111111111111,
              "#46039f"
             ],
             [
              0.2222222222222222,
              "#7201a8"
             ],
             [
              0.3333333333333333,
              "#9c179e"
             ],
             [
              0.4444444444444444,
              "#bd3786"
             ],
             [
              0.5555555555555556,
              "#d8576b"
             ],
             [
              0.6666666666666666,
              "#ed7953"
             ],
             [
              0.7777777777777778,
              "#fb9f3a"
             ],
             [
              0.8888888888888888,
              "#fdca26"
             ],
             [
              1,
              "#f0f921"
             ]
            ],
            "type": "histogram2dcontour"
           }
          ],
          "mesh3d": [
           {
            "colorbar": {
             "outlinewidth": 0,
             "ticks": ""
            },
            "type": "mesh3d"
           }
          ],
          "parcoords": [
           {
            "line": {
             "colorbar": {
              "outlinewidth": 0,
              "ticks": ""
             }
            },
            "type": "parcoords"
           }
          ],
          "pie": [
           {
            "automargin": true,
            "type": "pie"
           }
          ],
          "scatter": [
           {
            "fillpattern": {
             "fillmode": "overlay",
             "size": 10,
             "solidity": 0.2
            },
            "type": "scatter"
           }
          ],
          "scatter3d": [
           {
            "line": {
             "colorbar": {
              "outlinewidth": 0,
              "ticks": ""
             }
            },
            "marker": {
             "colorbar": {
              "outlinewidth": 0,
              "ticks": ""
             }
            },
            "type": "scatter3d"
           }
          ],
          "scattercarpet": [
           {
            "marker": {
             "colorbar": {
              "outlinewidth": 0,
              "ticks": ""
             }
            },
            "type": "scattercarpet"
           }
          ],
          "scattergeo": [
           {
            "marker": {
             "colorbar": {
              "outlinewidth": 0,
              "ticks": ""
             }
            },
            "type": "scattergeo"
           }
          ],
          "scattergl": [
           {
            "marker": {
             "colorbar": {
              "outlinewidth": 0,
              "ticks": ""
             }
            },
            "type": "scattergl"
           }
          ],
          "scattermapbox": [
           {
            "marker": {
             "colorbar": {
              "outlinewidth": 0,
              "ticks": ""
             }
            },
            "type": "scattermapbox"
           }
          ],
          "scatterpolar": [
           {
            "marker": {
             "colorbar": {
              "outlinewidth": 0,
              "ticks": ""
             }
            },
            "type": "scatterpolar"
           }
          ],
          "scatterpolargl": [
           {
            "marker": {
             "colorbar": {
              "outlinewidth": 0,
              "ticks": ""
             }
            },
            "type": "scatterpolargl"
           }
          ],
          "scatterternary": [
           {
            "marker": {
             "colorbar": {
              "outlinewidth": 0,
              "ticks": ""
             }
            },
            "type": "scatterternary"
           }
          ],
          "surface": [
           {
            "colorbar": {
             "outlinewidth": 0,
             "ticks": ""
            },
            "colorscale": [
             [
              0,
              "#0d0887"
             ],
             [
              0.1111111111111111,
              "#46039f"
             ],
             [
              0.2222222222222222,
              "#7201a8"
             ],
             [
              0.3333333333333333,
              "#9c179e"
             ],
             [
              0.4444444444444444,
              "#bd3786"
             ],
             [
              0.5555555555555556,
              "#d8576b"
             ],
             [
              0.6666666666666666,
              "#ed7953"
             ],
             [
              0.7777777777777778,
              "#fb9f3a"
             ],
             [
              0.8888888888888888,
              "#fdca26"
             ],
             [
              1,
              "#f0f921"
             ]
            ],
            "type": "surface"
           }
          ],
          "table": [
           {
            "cells": {
             "fill": {
              "color": "#EBF0F8"
             },
             "line": {
              "color": "white"
             }
            },
            "header": {
             "fill": {
              "color": "#C8D4E3"
             },
             "line": {
              "color": "white"
             }
            },
            "type": "table"
           }
          ]
         },
         "layout": {
          "annotationdefaults": {
           "arrowcolor": "#2a3f5f",
           "arrowhead": 0,
           "arrowwidth": 1
          },
          "autotypenumbers": "strict",
          "coloraxis": {
           "colorbar": {
            "outlinewidth": 0,
            "ticks": ""
           }
          },
          "colorscale": {
           "diverging": [
            [
             0,
             "#8e0152"
            ],
            [
             0.1,
             "#c51b7d"
            ],
            [
             0.2,
             "#de77ae"
            ],
            [
             0.3,
             "#f1b6da"
            ],
            [
             0.4,
             "#fde0ef"
            ],
            [
             0.5,
             "#f7f7f7"
            ],
            [
             0.6,
             "#e6f5d0"
            ],
            [
             0.7,
             "#b8e186"
            ],
            [
             0.8,
             "#7fbc41"
            ],
            [
             0.9,
             "#4d9221"
            ],
            [
             1,
             "#276419"
            ]
           ],
           "sequential": [
            [
             0,
             "#0d0887"
            ],
            [
             0.1111111111111111,
             "#46039f"
            ],
            [
             0.2222222222222222,
             "#7201a8"
            ],
            [
             0.3333333333333333,
             "#9c179e"
            ],
            [
             0.4444444444444444,
             "#bd3786"
            ],
            [
             0.5555555555555556,
             "#d8576b"
            ],
            [
             0.6666666666666666,
             "#ed7953"
            ],
            [
             0.7777777777777778,
             "#fb9f3a"
            ],
            [
             0.8888888888888888,
             "#fdca26"
            ],
            [
             1,
             "#f0f921"
            ]
           ],
           "sequentialminus": [
            [
             0,
             "#0d0887"
            ],
            [
             0.1111111111111111,
             "#46039f"
            ],
            [
             0.2222222222222222,
             "#7201a8"
            ],
            [
             0.3333333333333333,
             "#9c179e"
            ],
            [
             0.4444444444444444,
             "#bd3786"
            ],
            [
             0.5555555555555556,
             "#d8576b"
            ],
            [
             0.6666666666666666,
             "#ed7953"
            ],
            [
             0.7777777777777778,
             "#fb9f3a"
            ],
            [
             0.8888888888888888,
             "#fdca26"
            ],
            [
             1,
             "#f0f921"
            ]
           ]
          },
          "colorway": [
           "#636efa",
           "#EF553B",
           "#00cc96",
           "#ab63fa",
           "#FFA15A",
           "#19d3f3",
           "#FF6692",
           "#B6E880",
           "#FF97FF",
           "#FECB52"
          ],
          "font": {
           "color": "#2a3f5f"
          },
          "geo": {
           "bgcolor": "white",
           "lakecolor": "white",
           "landcolor": "#E5ECF6",
           "showlakes": true,
           "showland": true,
           "subunitcolor": "white"
          },
          "hoverlabel": {
           "align": "left"
          },
          "hovermode": "closest",
          "mapbox": {
           "style": "light"
          },
          "paper_bgcolor": "white",
          "plot_bgcolor": "#E5ECF6",
          "polar": {
           "angularaxis": {
            "gridcolor": "white",
            "linecolor": "white",
            "ticks": ""
           },
           "bgcolor": "#E5ECF6",
           "radialaxis": {
            "gridcolor": "white",
            "linecolor": "white",
            "ticks": ""
           }
          },
          "scene": {
           "xaxis": {
            "backgroundcolor": "#E5ECF6",
            "gridcolor": "white",
            "gridwidth": 2,
            "linecolor": "white",
            "showbackground": true,
            "ticks": "",
            "zerolinecolor": "white"
           },
           "yaxis": {
            "backgroundcolor": "#E5ECF6",
            "gridcolor": "white",
            "gridwidth": 2,
            "linecolor": "white",
            "showbackground": true,
            "ticks": "",
            "zerolinecolor": "white"
           },
           "zaxis": {
            "backgroundcolor": "#E5ECF6",
            "gridcolor": "white",
            "gridwidth": 2,
            "linecolor": "white",
            "showbackground": true,
            "ticks": "",
            "zerolinecolor": "white"
           }
          },
          "shapedefaults": {
           "line": {
            "color": "#2a3f5f"
           }
          },
          "ternary": {
           "aaxis": {
            "gridcolor": "white",
            "linecolor": "white",
            "ticks": ""
           },
           "baxis": {
            "gridcolor": "white",
            "linecolor": "white",
            "ticks": ""
           },
           "bgcolor": "#E5ECF6",
           "caxis": {
            "gridcolor": "white",
            "linecolor": "white",
            "ticks": ""
           }
          },
          "title": {
           "x": 0.05
          },
          "xaxis": {
           "automargin": true,
           "gridcolor": "white",
           "linecolor": "white",
           "ticks": "",
           "title": {
            "standoff": 15
           },
           "zerolinecolor": "white",
           "zerolinewidth": 2
          },
          "yaxis": {
           "automargin": true,
           "gridcolor": "white",
           "linecolor": "white",
           "ticks": "",
           "title": {
            "standoff": 15
           },
           "zerolinecolor": "white",
           "zerolinewidth": 2
          }
         }
        },
        "title": {
         "text": "Percentage of Hardware Design Vulnerabilities between 2011-2021"
        },
        "width": 1700
       }
      },
      "text/html": [
       "<div>                            <div id=\"cc9b4447-46ec-4459-8640-2367a8e5a87e\" class=\"plotly-graph-div\" style=\"height:900px; width:1700px;\"></div>            <script type=\"text/javascript\">                require([\"plotly\"], function(Plotly) {                    window.PLOTLYENV=window.PLOTLYENV || {};                                    if (document.getElementById(\"cc9b4447-46ec-4459-8640-2367a8e5a87e\")) {                    Plotly.newPlot(                        \"cc9b4447-46ec-4459-8640-2367a8e5a87e\",                        [{\"labels\":[\"Incorrect Default Permissions\"],\"name\":\"2011\",\"values\":[4],\"type\":\"pie\",\"domain\":{\"x\":[0.0,0.2125],\"y\":[0.7777777777777778,1.0]},\"textfont\":{\"size\":15},\"marker\":{\"line\":{\"color\":\"red\",\"width\":2}},\"hoverinfo\":\"label+percent\",\"textposition\":\"inside\"},{\"labels\":[\"Incorrect Default Permissions\"],\"name\":\"2012\",\"values\":[6],\"type\":\"pie\",\"domain\":{\"x\":[0.2625,0.475],\"y\":[0.7777777777777778,1.0]},\"textfont\":{\"size\":15},\"marker\":{\"line\":{\"color\":\"red\",\"width\":2}},\"hoverinfo\":\"label+percent\",\"textposition\":\"inside\"},{\"labels\":[\"Incorrect Default Permissions\",\"Observable Discrepancy\"],\"name\":\"2013\",\"values\":[5,1],\"type\":\"pie\",\"domain\":{\"x\":[0.525,0.7375],\"y\":[0.7777777777777778,1.0]},\"textfont\":{\"size\":15},\"marker\":{\"line\":{\"color\":\"red\",\"width\":2}},\"hoverinfo\":\"label+percent\",\"textposition\":\"inside\"},{\"labels\":[\"Incorrect Default Permissions\",\"Observable Discrepancy\"],\"name\":\"2014\",\"values\":[6,2],\"type\":\"pie\",\"domain\":{\"x\":[0.7875,1.0],\"y\":[0.7777777777777778,1.0]},\"textfont\":{\"size\":15},\"marker\":{\"line\":{\"color\":\"red\",\"width\":2}},\"hoverinfo\":\"label+percent\",\"textposition\":\"inside\"},{\"labels\":[\"Incorrect Default Permissions\",\"Observable Discrepancy\",\"Unintended Proxy or Intermediary ('Confused Deputy')\"],\"name\":\"2015\",\"values\":[5,2,1],\"type\":\"pie\",\"domain\":{\"x\":[0.0,0.2125],\"y\":[0.3888888888888889,0.6111111111111112]},\"textfont\":{\"size\":15},\"marker\":{\"line\":{\"color\":\"red\",\"width\":2}},\"hoverinfo\":\"label+percent\",\"textposition\":\"inside\"},{\"labels\":[\"Incorrect Default Permissions\",\"Observable Discrepancy\"],\"name\":\"2016\",\"values\":[3,1],\"type\":\"pie\",\"domain\":{\"x\":[0.2625,0.475],\"y\":[0.3888888888888889,0.6111111111111112]},\"textfont\":{\"size\":15},\"marker\":{\"line\":{\"color\":\"red\",\"width\":2}},\"hoverinfo\":\"label+percent\",\"textposition\":\"inside\"},{\"labels\":[\"Incorrect Default Permissions\",\"Observable Discrepancy\"],\"name\":\"2017\",\"values\":[33,12],\"type\":\"pie\",\"domain\":{\"x\":[0.525,0.7375],\"y\":[0.3888888888888889,0.6111111111111112]},\"textfont\":{\"size\":15},\"marker\":{\"line\":{\"color\":\"red\",\"width\":2}},\"hoverinfo\":\"label+percent\",\"textposition\":\"inside\"},{\"labels\":[\"Incorrect Default Permissions\",\"Observable Discrepancy\",\"Unintended Proxy or Intermediary ('Confused Deputy')\"],\"name\":\"2018\",\"values\":[19,14,3],\"type\":\"pie\",\"domain\":{\"x\":[0.7875,1.0],\"y\":[0.3888888888888889,0.6111111111111112]},\"textfont\":{\"size\":15},\"marker\":{\"line\":{\"color\":\"red\",\"width\":2}},\"hoverinfo\":\"label+percent\",\"textposition\":\"inside\"},{\"labels\":[\"Incorrect Default Permissions\",\"Observable Discrepancy\",\"Expected Behavior Violation\",\"Missing Cryptographic Step\",\"Unintended Proxy or Intermediary ('Confused Deputy')\"],\"name\":\"2019\",\"values\":[96,60,1,1,1],\"type\":\"pie\",\"domain\":{\"x\":[0.0,0.2125],\"y\":[0.0,0.22222222222222224]},\"textfont\":{\"size\":15},\"marker\":{\"line\":{\"color\":\"red\",\"width\":2}},\"hoverinfo\":\"label+percent\",\"textposition\":\"inside\"},{\"labels\":[\"Incorrect Default Permissions\",\"Observable Discrepancy\",\"Unintended Proxy or Intermediary ('Confused Deputy')\"],\"name\":\"2020\",\"values\":[223,63,1],\"type\":\"pie\",\"domain\":{\"x\":[0.2625,0.475],\"y\":[0.0,0.22222222222222224]},\"textfont\":{\"size\":15},\"marker\":{\"line\":{\"color\":\"red\",\"width\":2}},\"hoverinfo\":\"label+percent\",\"textposition\":\"inside\"},{\"labels\":[\"Incorrect Default Permissions\",\"Observable Discrepancy\",\"Missing Protection Against Hardware Reverse Engineering Using Integrated Circuit (IC) Imaging Techniques\"],\"name\":\"2021\",\"values\":[114,59,1],\"type\":\"pie\",\"domain\":{\"x\":[0.525,0.7375],\"y\":[0.0,0.22222222222222224]},\"textfont\":{\"size\":15},\"marker\":{\"line\":{\"color\":\"red\",\"width\":2}},\"hoverinfo\":\"label+percent\",\"textposition\":\"inside\"},{\"labels\":[],\"name\":\"2022\",\"values\":[],\"type\":\"pie\",\"domain\":{\"x\":[0.7875,1.0],\"y\":[0.0,0.22222222222222224]},\"textfont\":{\"size\":15},\"marker\":{\"line\":{\"color\":\"red\",\"width\":2}},\"hoverinfo\":\"label+percent\",\"textposition\":\"inside\"}],                        {\"template\":{\"data\":{\"histogram2dcontour\":[{\"type\":\"histogram2dcontour\",\"colorbar\":{\"outlinewidth\":0,\"ticks\":\"\"},\"colorscale\":[[0.0,\"#0d0887\"],[0.1111111111111111,\"#46039f\"],[0.2222222222222222,\"#7201a8\"],[0.3333333333333333,\"#9c179e\"],[0.4444444444444444,\"#bd3786\"],[0.5555555555555556,\"#d8576b\"],[0.6666666666666666,\"#ed7953\"],[0.7777777777777778,\"#fb9f3a\"],[0.8888888888888888,\"#fdca26\"],[1.0,\"#f0f921\"]]}],\"choropleth\":[{\"type\":\"choropleth\",\"colorbar\":{\"outlinewidth\":0,\"ticks\":\"\"}}],\"histogram2d\":[{\"type\":\"histogram2d\",\"colorbar\":{\"outlinewidth\":0,\"ticks\":\"\"},\"colorscale\":[[0.0,\"#0d0887\"],[0.1111111111111111,\"#46039f\"],[0.2222222222222222,\"#7201a8\"],[0.3333333333333333,\"#9c179e\"],[0.4444444444444444,\"#bd3786\"],[0.5555555555555556,\"#d8576b\"],[0.6666666666666666,\"#ed7953\"],[0.7777777777777778,\"#fb9f3a\"],[0.8888888888888888,\"#fdca26\"],[1.0,\"#f0f921\"]]}],\"heatmap\":[{\"type\":\"heatmap\",\"colorbar\":{\"outlinewidth\":0,\"ticks\":\"\"},\"colorscale\":[[0.0,\"#0d0887\"],[0.1111111111111111,\"#46039f\"],[0.2222222222222222,\"#7201a8\"],[0.3333333333333333,\"#9c179e\"],[0.4444444444444444,\"#bd3786\"],[0.5555555555555556,\"#d8576b\"],[0.6666666666666666,\"#ed7953\"],[0.7777777777777778,\"#fb9f3a\"],[0.8888888888888888,\"#fdca26\"],[1.0,\"#f0f921\"]]}],\"heatmapgl\":[{\"type\":\"heatmapgl\",\"colorbar\":{\"outlinewidth\":0,\"ticks\":\"\"},\"colorscale\":[[0.0,\"#0d0887\"],[0.1111111111111111,\"#46039f\"],[0.2222222222222222,\"#7201a8\"],[0.3333333333333333,\"#9c179e\"],[0.4444444444444444,\"#bd3786\"],[0.5555555555555556,\"#d8576b\"],[0.6666666666666666,\"#ed7953\"],[0.7777777777777778,\"#fb9f3a\"],[0.8888888888888888,\"#fdca26\"],[1.0,\"#f0f921\"]]}],\"contourcarpet\":[{\"type\":\"contourcarpet\",\"colorbar\":{\"outlinewidth\":0,\"ticks\":\"\"}}],\"contour\":[{\"type\":\"contour\",\"colorbar\":{\"outlinewidth\":0,\"ticks\":\"\"},\"colorscale\":[[0.0,\"#0d0887\"],[0.1111111111111111,\"#46039f\"],[0.2222222222222222,\"#7201a8\"],[0.3333333333333333,\"#9c179e\"],[0.4444444444444444,\"#bd3786\"],[0.5555555555555556,\"#d8576b\"],[0.6666666666666666,\"#ed7953\"],[0.7777777777777778,\"#fb9f3a\"],[0.8888888888888888,\"#fdca26\"],[1.0,\"#f0f921\"]]}],\"surface\":[{\"type\":\"surface\",\"colorbar\":{\"outlinewidth\":0,\"ticks\":\"\"},\"colorscale\":[[0.0,\"#0d0887\"],[0.1111111111111111,\"#46039f\"],[0.2222222222222222,\"#7201a8\"],[0.3333333333333333,\"#9c179e\"],[0.4444444444444444,\"#bd3786\"],[0.5555555555555556,\"#d8576b\"],[0.6666666666666666,\"#ed7953\"],[0.7777777777777778,\"#fb9f3a\"],[0.8888888888888888,\"#fdca26\"],[1.0,\"#f0f921\"]]}],\"mesh3d\":[{\"type\":\"mesh3d\",\"colorbar\":{\"outlinewidth\":0,\"ticks\":\"\"}}],\"scatter\":[{\"fillpattern\":{\"fillmode\":\"overlay\",\"size\":10,\"solidity\":0.2},\"type\":\"scatter\"}],\"parcoords\":[{\"type\":\"parcoords\",\"line\":{\"colorbar\":{\"outlinewidth\":0,\"ticks\":\"\"}}}],\"scatterpolargl\":[{\"type\":\"scatterpolargl\",\"marker\":{\"colorbar\":{\"outlinewidth\":0,\"ticks\":\"\"}}}],\"bar\":[{\"error_x\":{\"color\":\"#2a3f5f\"},\"error_y\":{\"color\":\"#2a3f5f\"},\"marker\":{\"line\":{\"color\":\"#E5ECF6\",\"width\":0.5},\"pattern\":{\"fillmode\":\"overlay\",\"size\":10,\"solidity\":0.2}},\"type\":\"bar\"}],\"scattergeo\":[{\"type\":\"scattergeo\",\"marker\":{\"colorbar\":{\"outlinewidth\":0,\"ticks\":\"\"}}}],\"scatterpolar\":[{\"type\":\"scatterpolar\",\"marker\":{\"colorbar\":{\"outlinewidth\":0,\"ticks\":\"\"}}}],\"histogram\":[{\"marker\":{\"pattern\":{\"fillmode\":\"overlay\",\"size\":10,\"solidity\":0.2}},\"type\":\"histogram\"}],\"scattergl\":[{\"type\":\"scattergl\",\"marker\":{\"colorbar\":{\"outlinewidth\":0,\"ticks\":\"\"}}}],\"scatter3d\":[{\"type\":\"scatter3d\",\"line\":{\"colorbar\":{\"outlinewidth\":0,\"ticks\":\"\"}},\"marker\":{\"colorbar\":{\"outlinewidth\":0,\"ticks\":\"\"}}}],\"scattermapbox\":[{\"type\":\"scattermapbox\",\"marker\":{\"colorbar\":{\"outlinewidth\":0,\"ticks\":\"\"}}}],\"scatterternary\":[{\"type\":\"scatterternary\",\"marker\":{\"colorbar\":{\"outlinewidth\":0,\"ticks\":\"\"}}}],\"scattercarpet\":[{\"type\":\"scattercarpet\",\"marker\":{\"colorbar\":{\"outlinewidth\":0,\"ticks\":\"\"}}}],\"carpet\":[{\"aaxis\":{\"endlinecolor\":\"#2a3f5f\",\"gridcolor\":\"white\",\"linecolor\":\"white\",\"minorgridcolor\":\"white\",\"startlinecolor\":\"#2a3f5f\"},\"baxis\":{\"endlinecolor\":\"#2a3f5f\",\"gridcolor\":\"white\",\"linecolor\":\"white\",\"minorgridcolor\":\"white\",\"startlinecolor\":\"#2a3f5f\"},\"type\":\"carpet\"}],\"table\":[{\"cells\":{\"fill\":{\"color\":\"#EBF0F8\"},\"line\":{\"color\":\"white\"}},\"header\":{\"fill\":{\"color\":\"#C8D4E3\"},\"line\":{\"color\":\"white\"}},\"type\":\"table\"}],\"barpolar\":[{\"marker\":{\"line\":{\"color\":\"#E5ECF6\",\"width\":0.5},\"pattern\":{\"fillmode\":\"overlay\",\"size\":10,\"solidity\":0.2}},\"type\":\"barpolar\"}],\"pie\":[{\"automargin\":true,\"type\":\"pie\"}]},\"layout\":{\"autotypenumbers\":\"strict\",\"colorway\":[\"#636efa\",\"#EF553B\",\"#00cc96\",\"#ab63fa\",\"#FFA15A\",\"#19d3f3\",\"#FF6692\",\"#B6E880\",\"#FF97FF\",\"#FECB52\"],\"font\":{\"color\":\"#2a3f5f\"},\"hovermode\":\"closest\",\"hoverlabel\":{\"align\":\"left\"},\"paper_bgcolor\":\"white\",\"plot_bgcolor\":\"#E5ECF6\",\"polar\":{\"bgcolor\":\"#E5ECF6\",\"angularaxis\":{\"gridcolor\":\"white\",\"linecolor\":\"white\",\"ticks\":\"\"},\"radialaxis\":{\"gridcolor\":\"white\",\"linecolor\":\"white\",\"ticks\":\"\"}},\"ternary\":{\"bgcolor\":\"#E5ECF6\",\"aaxis\":{\"gridcolor\":\"white\",\"linecolor\":\"white\",\"ticks\":\"\"},\"baxis\":{\"gridcolor\":\"white\",\"linecolor\":\"white\",\"ticks\":\"\"},\"caxis\":{\"gridcolor\":\"white\",\"linecolor\":\"white\",\"ticks\":\"\"}},\"coloraxis\":{\"colorbar\":{\"outlinewidth\":0,\"ticks\":\"\"}},\"colorscale\":{\"sequential\":[[0.0,\"#0d0887\"],[0.1111111111111111,\"#46039f\"],[0.2222222222222222,\"#7201a8\"],[0.3333333333333333,\"#9c179e\"],[0.4444444444444444,\"#bd3786\"],[0.5555555555555556,\"#d8576b\"],[0.6666666666666666,\"#ed7953\"],[0.7777777777777778,\"#fb9f3a\"],[0.8888888888888888,\"#fdca26\"],[1.0,\"#f0f921\"]],\"sequentialminus\":[[0.0,\"#0d0887\"],[0.1111111111111111,\"#46039f\"],[0.2222222222222222,\"#7201a8\"],[0.3333333333333333,\"#9c179e\"],[0.4444444444444444,\"#bd3786\"],[0.5555555555555556,\"#d8576b\"],[0.6666666666666666,\"#ed7953\"],[0.7777777777777778,\"#fb9f3a\"],[0.8888888888888888,\"#fdca26\"],[1.0,\"#f0f921\"]],\"diverging\":[[0,\"#8e0152\"],[0.1,\"#c51b7d\"],[0.2,\"#de77ae\"],[0.3,\"#f1b6da\"],[0.4,\"#fde0ef\"],[0.5,\"#f7f7f7\"],[0.6,\"#e6f5d0\"],[0.7,\"#b8e186\"],[0.8,\"#7fbc41\"],[0.9,\"#4d9221\"],[1,\"#276419\"]]},\"xaxis\":{\"gridcolor\":\"white\",\"linecolor\":\"white\",\"ticks\":\"\",\"title\":{\"standoff\":15},\"zerolinecolor\":\"white\",\"automargin\":true,\"zerolinewidth\":2},\"yaxis\":{\"gridcolor\":\"white\",\"linecolor\":\"white\",\"ticks\":\"\",\"title\":{\"standoff\":15},\"zerolinecolor\":\"white\",\"automargin\":true,\"zerolinewidth\":2},\"scene\":{\"xaxis\":{\"backgroundcolor\":\"#E5ECF6\",\"gridcolor\":\"white\",\"linecolor\":\"white\",\"showbackground\":true,\"ticks\":\"\",\"zerolinecolor\":\"white\",\"gridwidth\":2},\"yaxis\":{\"backgroundcolor\":\"#E5ECF6\",\"gridcolor\":\"white\",\"linecolor\":\"white\",\"showbackground\":true,\"ticks\":\"\",\"zerolinecolor\":\"white\",\"gridwidth\":2},\"zaxis\":{\"backgroundcolor\":\"#E5ECF6\",\"gridcolor\":\"white\",\"linecolor\":\"white\",\"showbackground\":true,\"ticks\":\"\",\"zerolinecolor\":\"white\",\"gridwidth\":2}},\"shapedefaults\":{\"line\":{\"color\":\"#2a3f5f\"}},\"annotationdefaults\":{\"arrowcolor\":\"#2a3f5f\",\"arrowhead\":0,\"arrowwidth\":1},\"geo\":{\"bgcolor\":\"white\",\"landcolor\":\"#E5ECF6\",\"subunitcolor\":\"white\",\"showland\":true,\"showlakes\":true,\"lakecolor\":\"white\"},\"title\":{\"x\":0.05},\"mapbox\":{\"style\":\"light\"}}},\"annotations\":[{\"font\":{\"size\":16},\"showarrow\":false,\"text\":\"2011\",\"x\":0.10625,\"xanchor\":\"center\",\"xref\":\"paper\",\"y\":1.0,\"yanchor\":\"bottom\",\"yref\":\"paper\"},{\"font\":{\"size\":16},\"showarrow\":false,\"text\":\"2012\",\"x\":0.36875,\"xanchor\":\"center\",\"xref\":\"paper\",\"y\":1.0,\"yanchor\":\"bottom\",\"yref\":\"paper\"},{\"font\":{\"size\":16},\"showarrow\":false,\"text\":\"2013\",\"x\":0.6312500000000001,\"xanchor\":\"center\",\"xref\":\"paper\",\"y\":1.0,\"yanchor\":\"bottom\",\"yref\":\"paper\"},{\"font\":{\"size\":16},\"showarrow\":false,\"text\":\"2014\",\"x\":0.89375,\"xanchor\":\"center\",\"xref\":\"paper\",\"y\":1.0,\"yanchor\":\"bottom\",\"yref\":\"paper\"},{\"font\":{\"size\":16},\"showarrow\":false,\"text\":\"2015\",\"x\":0.10625,\"xanchor\":\"center\",\"xref\":\"paper\",\"y\":0.6111111111111112,\"yanchor\":\"bottom\",\"yref\":\"paper\"},{\"font\":{\"size\":16},\"showarrow\":false,\"text\":\"2016\",\"x\":0.36875,\"xanchor\":\"center\",\"xref\":\"paper\",\"y\":0.6111111111111112,\"yanchor\":\"bottom\",\"yref\":\"paper\"},{\"font\":{\"size\":16},\"showarrow\":false,\"text\":\"2017\",\"x\":0.6312500000000001,\"xanchor\":\"center\",\"xref\":\"paper\",\"y\":0.6111111111111112,\"yanchor\":\"bottom\",\"yref\":\"paper\"},{\"font\":{\"size\":16},\"showarrow\":false,\"text\":\"2018\",\"x\":0.89375,\"xanchor\":\"center\",\"xref\":\"paper\",\"y\":0.6111111111111112,\"yanchor\":\"bottom\",\"yref\":\"paper\"},{\"font\":{\"size\":16},\"showarrow\":false,\"text\":\"2019\",\"x\":0.10625,\"xanchor\":\"center\",\"xref\":\"paper\",\"y\":0.22222222222222224,\"yanchor\":\"bottom\",\"yref\":\"paper\"},{\"font\":{\"size\":16},\"showarrow\":false,\"text\":\"2020\",\"x\":0.36875,\"xanchor\":\"center\",\"xref\":\"paper\",\"y\":0.22222222222222224,\"yanchor\":\"bottom\",\"yref\":\"paper\"},{\"font\":{\"size\":16},\"showarrow\":false,\"text\":\"2021\",\"x\":0.6312500000000001,\"xanchor\":\"center\",\"xref\":\"paper\",\"y\":0.22222222222222224,\"yanchor\":\"bottom\",\"yref\":\"paper\"}],\"title\":{\"text\":\"Percentage of Hardware Design Vulnerabilities between 2011-2021\"},\"height\":900,\"width\":1700,\"colorway\":[\"rgb(0,0,0)\",\"rgb(30,0,100)\",\"rgb(120,0,100)\",\"rgb(160,90,0)\",\"rgb(230,200,0)\",\"rgb(255,250,220)\"]},                        {\"responsive\": true}                    ).then(function(){\n",
       "                            \n",
       "var gd = document.getElementById('cc9b4447-46ec-4459-8640-2367a8e5a87e');\n",
       "var x = new MutationObserver(function (mutations, observer) {{\n",
       "        var display = window.getComputedStyle(gd).display;\n",
       "        if (!display || display === 'none') {{\n",
       "            console.log([gd, 'removed!']);\n",
       "            Plotly.purge(gd);\n",
       "            observer.disconnect();\n",
       "        }}\n",
       "}});\n",
       "\n",
       "// Listen for the removal of the full notebook cells\n",
       "var notebookContainer = gd.closest('#notebook-container');\n",
       "if (notebookContainer) {{\n",
       "    x.observe(notebookContainer, {childList: true});\n",
       "}}\n",
       "\n",
       "// Listen for the clearing of the current output cell\n",
       "var outputEl = gd.closest('.output');\n",
       "if (outputEl) {{\n",
       "    x.observe(outputEl, {childList: true});\n",
       "}}\n",
       "\n",
       "                        })                };                });            </script>        </div>"
      ]
     },
     "metadata": {},
     "output_type": "display_data"
    }
   ],
   "source": [
    "import plotly.graph_objects as go\n",
    "from plotly.subplots import make_subplots\n",
    "\n",
    "import plotly.express as px\n",
    "fig = make_subplots(rows=3, cols=4,  subplot_titles=(\"2011\", \"2012\", \"2013\",\"2014\",\"2015\",\"2016\",\"2017\",\"2018\",\"2019\",\"2020\",\"2021\"),\n",
    "                    specs=[[{\"type\": \"pie\"}, {\"type\": \"pie\"}, {\"type\": \"pie\"}, {\"type\": \"pie\"}],[{\"type\": \"pie\"},{\"type\": \"pie\"},{\"type\": \"pie\"},{\"type\": \"pie\"}],[{\"type\": \"pie\"},{\"type\": \"pie\"},{\"type\": \"pie\"},{\"type\": \"pie\"}]])\n",
    "\n",
    "fig.add_trace(go.Pie(labels=df2011[\"index\"].values, values=df2011[\"CWE-NAME\"].values,name=2011 ) ,row=1, col=1)\n",
    "fig.add_trace(go.Pie(labels=df2012[\"index\"].values, values=df2012[\"CWE-NAME\"].values,name=2012) ,row=1, col=2)\n",
    "fig.add_trace(go.Pie(labels=df2013[\"index\"].values, values=df2013[\"CWE-NAME\"].values,name=2013) ,row=1, col=3)\n",
    "fig.add_trace(go.Pie(labels=df2014[\"index\"].values, values=df2014[\"CWE-NAME\"].values,name=2014) ,row=1, col=4)\n",
    "fig.add_trace(go.Pie(labels=df2015[\"index\"].values, values=df2015[\"CWE-NAME\"].values,name=2015) ,row=2, col=1)\n",
    "fig.add_trace(go.Pie(labels=df2016[\"index\"].values, values=df2016[\"CWE-NAME\"].values,name=2016) ,row=2, col=2)\n",
    "fig.add_trace(go.Pie(labels=df2017[\"index\"].values, values=df2017[\"CWE-NAME\"].values,name=2017) ,row=2, col=3)\n",
    "fig.add_trace(go.Pie(labels=df2018[\"index\"].values, values=df2018[\"CWE-NAME\"].values,name=2018) ,row=2, col=4)\n",
    "fig.add_trace(go.Pie(labels=df2019[\"index\"].values, values=df2019[\"CWE-NAME\"].values,name=2019) ,row=3, col=1)\n",
    "fig.add_trace(go.Pie(labels=df2020[\"index\"].values, values=df2020[\"CWE-NAME\"].values,name=2020) ,row=3, col=2)\n",
    "fig.add_trace(go.Pie(labels=df2021[\"index\"].values, values=df2021[\"CWE-NAME\"].values,name=2021) ,row=3, col=3)\n",
    "fig.add_trace(go.Pie(labels=df2022[\"index\"].values, values=df2022[\"CWE-NAME\"].values,name=2022) ,row=3, col=4)\n",
    "\n",
    "fig.update_traces(hoverinfo='label+percent', textfont_size=15,textposition='inside',\n",
    "                  marker=dict(line=dict(color='red', width=2)))\n",
    "\n",
    "\n",
    "fig.update_layout(height=900, width=1700, colorway=px.colors.sequential.Electric , \n",
    "                  title_text=\"Percentage of Hardware Design Vulnerabilities between 2011-2021\")\n",
    "\n",
    "fig.show()"
   ]
  },
  {
   "cell_type": "code",
   "execution_count": 29,
   "metadata": {
    "_kg_hide-input": true,
    "execution": {
     "iopub.execute_input": "2022-01-24T20:32:53.822607Z",
     "iopub.status.busy": "2022-01-24T20:32:53.821930Z",
     "iopub.status.idle": "2022-01-24T20:32:54.874231Z",
     "shell.execute_reply": "2022-01-24T20:32:54.874764Z",
     "shell.execute_reply.started": "2022-01-24T19:04:49.28504Z"
    },
    "papermill": {
     "duration": 1.132508,
     "end_time": "2022-01-24T20:32:54.874936",
     "exception": false,
     "start_time": "2022-01-24T20:32:53.742428",
     "status": "completed"
    },
    "tags": []
   },
   "outputs": [
    {
     "data": {
      "application/vnd.plotly.v1+json": {
       "config": {
        "plotlyServerURL": "https://plot.ly"
       },
       "data": [
        {
         "alignmentgroup": "True",
         "bingroup": "y",
         "histfunc": "avg",
         "hovertemplate": "CWE-NAME=Incorrect Default Permissions<br>avg of CVSS-V2=%{x}<br>Year=%{y}<extra></extra>",
         "legendgroup": "Incorrect Default Permissions",
         "marker": {
          "color": "#636efa",
          "line": {
           "color": "rgb(8,48,107)",
           "width": 1.5
          },
          "pattern": {
           "shape": ""
          }
         },
         "name": "Incorrect Default Permissions",
         "offsetgroup": "Incorrect Default Permissions",
         "opacity": 0.6,
         "orientation": "h",
         "showlegend": true,
         "texttemplate": "%{value:.2s}",
         "type": "histogram",
         "x": [
          5,
          5,
          4.3,
          6.8,
          5,
          4,
          6.5,
          2.1,
          5,
          2.1,
          4.9,
          2.1,
          5.9,
          2.1,
          2.1,
          9.3,
          9,
          9,
          9,
          4.6,
          7.2,
          7.2,
          7.2,
          6.5,
          6.5,
          6.5,
          6.5,
          7.2,
          7.2,
          7.2,
          4,
          7.5,
          4,
          5,
          9,
          7.2,
          9,
          3.6,
          9,
          3.6,
          2.1,
          2.1,
          2.1,
          10,
          10,
          9,
          5,
          5,
          5.5,
          7.5,
          4.8,
          5,
          3.6,
          7.5,
          2.1,
          2.1,
          2.1,
          2.1,
          3.6,
          4.6,
          7.2,
          6.8,
          4,
          2.1,
          6.5,
          7.2,
          4.6,
          4.6,
          7.2,
          4,
          4,
          1.9,
          6.5,
          7.2,
          6.5,
          3.6,
          4.6,
          4.6,
          7.2,
          7.2,
          2.1,
          4,
          4.6,
          4.3,
          4,
          4,
          4,
          4,
          4,
          4,
          4,
          7.2,
          4.6,
          4.3,
          7.5,
          4.6,
          4.1,
          4.6,
          4.3,
          7.2,
          7.2,
          7.2,
          4.6,
          4.6,
          4.6,
          4.6,
          4.6,
          4.6,
          4.6,
          3.5,
          4,
          5,
          4,
          2.1,
          4.6,
          6.6,
          6.5,
          5,
          4,
          6.5,
          6.5,
          2.1,
          5.5,
          4,
          5.5,
          8.5,
          7.2,
          5,
          4.6,
          7.2,
          2.1,
          2.1,
          2.1,
          2.1,
          2.1,
          10,
          6,
          4.6,
          7.5,
          7.2,
          5,
          5,
          5,
          2.1,
          4,
          6.5,
          7.5,
          6.6,
          9,
          4.4,
          4.4,
          5,
          5,
          7.2,
          5,
          9,
          4,
          7.5,
          7.5,
          5,
          5,
          4.4,
          4.6,
          6.9,
          1.9,
          6.6,
          10,
          3.6,
          7.8,
          3.6,
          3.6,
          6.9,
          4.3,
          2.1,
          5,
          6.5,
          6.8,
          5,
          2.1,
          4.4,
          7.2,
          4.4,
          4.6,
          6.8,
          4.6,
          4.6,
          4.4,
          7.2,
          7.2,
          2.1,
          4.6,
          4.6,
          7.2,
          7.2,
          2.1,
          2.1,
          4.6,
          7.2,
          6.8,
          4.6,
          4.6,
          4.6,
          4.6,
          2.1,
          4.6,
          4.6,
          4.6,
          4.6,
          4.4,
          7.2,
          7.5,
          4.6,
          4.3,
          5,
          4.6,
          6.5,
          4,
          4,
          7.5,
          2.1,
          9,
          4,
          6.5,
          4,
          6.4,
          5,
          4.6,
          4.6,
          4.6,
          4.6,
          4.6,
          4.3,
          4.3,
          6,
          9.3,
          7.8,
          7.5,
          4.6,
          5.5,
          6.5,
          5,
          7.5,
          4.6,
          7.2,
          4.4,
          7.2,
          7.2,
          7.2,
          4.6,
          4.6,
          7.2,
          7.2,
          7.2,
          7.2,
          7.2,
          7.2,
          7.2,
          7.2,
          2.1,
          4.3,
          7.2,
          2.1,
          7.2,
          7.2,
          5,
          4,
          4.6,
          6.5,
          4.4,
          7.2,
          2.1,
          7.2,
          4,
          4.4,
          7.2,
          4.6,
          3.5,
          4.4,
          4.6,
          5,
          5.5,
          4,
          4,
          4,
          5,
          4,
          4,
          4,
          4.6,
          5,
          4.6,
          2.1,
          5,
          5,
          7.2,
          5,
          7.2,
          7.2,
          4,
          2.1,
          6.5,
          4,
          2.1,
          5,
          3.6,
          6.8,
          4,
          4.6,
          5,
          5,
          5,
          4.3,
          7.2,
          4.6,
          9,
          10,
          5,
          6.4,
          2.1,
          5,
          7.2,
          5,
          6.5,
          4.6,
          4.6,
          7.5,
          9.3,
          4,
          4.6,
          5.5,
          3.6,
          5.5,
          4,
          7.2,
          9,
          5.4,
          7.2,
          4.6,
          5.5,
          4.6,
          5,
          5.5,
          4.3,
          6.8,
          4.3,
          4.3,
          4.3,
          4.3,
          6.8,
          6.8,
          4.3,
          4.3,
          4.3,
          4.3,
          4.3,
          4.3,
          4.3,
          4.3,
          4.3,
          4.3,
          4.3,
          4.3,
          4.3,
          4.3,
          7.2,
          7.2,
          4.6,
          5,
          4,
          4,
          5,
          4.3,
          4.3,
          7.2,
          7.2,
          6.8,
          7.2,
          7.5,
          4,
          2.1,
          2.1,
          4.6,
          4.6,
          4.6,
          4.6,
          4.6,
          4.6,
          4.6,
          2.1,
          6.9,
          6.9,
          6.9,
          5.8,
          7.5,
          7.5,
          9,
          10,
          4.6,
          2.1,
          6.5,
          9.3,
          4.6,
          4.6,
          4.6,
          4.1,
          4.6,
          4.6,
          4.6,
          4.6,
          4.6,
          2.1,
          2.1,
          4.6,
          2.1,
          4.4,
          4.6,
          4.9,
          4.9,
          4.4,
          4.3,
          2.1,
          4.9,
          7.2,
          2.1,
          3.6,
          4.3,
          4.3,
          7.2,
          2.1,
          7.2,
          5,
          4,
          4,
          5,
          8,
          5,
          2.1,
          6.5,
          5,
          5,
          5,
          5,
          6.5,
          2.1,
          1.9,
          2.1,
          7.2,
          2.1,
          4.6,
          2.1,
          2.1,
          4.6,
          3.6,
          4,
          7.2,
          7.5,
          4.4,
          6.5,
          4.4,
          9,
          4,
          4.9,
          4.9,
          4.3,
          9.4,
          4.4,
          4.6,
          7.2,
          7.2,
          5,
          4.6,
          4.6,
          7.2,
          7.2,
          7.2,
          6,
          4,
          4,
          6.5,
          4,
          5,
          2.1,
          6.5,
          7.2,
          4.6,
          2.1,
          7.2,
          4.6,
          7.5,
          7.5,
          4.4,
          7.5,
          7.5,
          5,
          10,
          5,
          9.3,
          2.1,
          4.6,
          9,
          10,
          7.2,
          4.6,
          4,
          4,
          4.6,
          4.6,
          6.5,
          7.2,
          5,
          4.6,
          4.6,
          6.4,
          7.5,
          5
         ],
         "xaxis": "x",
         "y": [
          "2010",
          "2011",
          "2011",
          "2011",
          "2011",
          "2012",
          "2012",
          "2012",
          "2012",
          "2012",
          "2012",
          "2013",
          "2013",
          "2013",
          "2013",
          "2013",
          "2014",
          "2014",
          "2014",
          "2014",
          "2014",
          "2014",
          "2015",
          "2015",
          "2015",
          "2015",
          "2015",
          "2016",
          "2016",
          "2016",
          "2017",
          "2017",
          "2017",
          "2017",
          "2017",
          "2017",
          "2017",
          "2017",
          "2017",
          "2017",
          "2017",
          "2017",
          "2017",
          "2017",
          "2017",
          "2017",
          "2017",
          "2017",
          "2017",
          "2017",
          "2017",
          "2017",
          "2017",
          "2017",
          "2017",
          "2017",
          "2017",
          "2017",
          "2017",
          "2017",
          "2017",
          "2017",
          "2017",
          "2018",
          "2018",
          "2018",
          "2018",
          "2018",
          "2018",
          "2018",
          "2018",
          "2018",
          "2018",
          "2018",
          "2018",
          "2018",
          "2018",
          "2018",
          "2018",
          "2018",
          "2018",
          "2018",
          "2019",
          "2019",
          "2019",
          "2019",
          "2019",
          "2019",
          "2019",
          "2019",
          "2019",
          "2019",
          "2019",
          "2019",
          "2019",
          "2019",
          "2019",
          "2019",
          "2019",
          "2019",
          "2019",
          "2019",
          "2019",
          "2019",
          "2019",
          "2019",
          "2019",
          "2019",
          "2019",
          "2019",
          "2019",
          "2019",
          "2019",
          "2019",
          "2019",
          "2019",
          "2019",
          "2019",
          "2019",
          "2019",
          "2019",
          "2019",
          "2019",
          "2019",
          "2019",
          "2019",
          "2019",
          "2019",
          "2019",
          "2019",
          "2019",
          "2019",
          "2019",
          "2019",
          "2019",
          "2019",
          "2019",
          "2019",
          "2019",
          "2019",
          "2019",
          "2019",
          "2019",
          "2019",
          "2019",
          "2019",
          "2019",
          "2019",
          "2019",
          "2019",
          "2019",
          "2019",
          "2019",
          "2019",
          "2019",
          "2019",
          "2019",
          "2019",
          "2019",
          "2019",
          "2019",
          "2019",
          "2019",
          "2019",
          "2019",
          "2019",
          "2019",
          "2019",
          "2019",
          "2019",
          "2019",
          "2019",
          "2019",
          "2019",
          "2019",
          "2019",
          "2019",
          "2019",
          "2020",
          "2020",
          "2020",
          "2020",
          "2020",
          "2020",
          "2020",
          "2020",
          "2020",
          "2020",
          "2020",
          "2020",
          "2020",
          "2020",
          "2020",
          "2020",
          "2020",
          "2020",
          "2020",
          "2020",
          "2020",
          "2020",
          "2020",
          "2020",
          "2020",
          "2020",
          "2020",
          "2020",
          "2020",
          "2020",
          "2020",
          "2020",
          "2020",
          "2020",
          "2020",
          "2020",
          "2020",
          "2020",
          "2020",
          "2020",
          "2020",
          "2020",
          "2020",
          "2020",
          "2020",
          "2020",
          "2020",
          "2020",
          "2020",
          "2020",
          "2020",
          "2020",
          "2020",
          "2020",
          "2020",
          "2020",
          "2020",
          "2020",
          "2020",
          "2020",
          "2020",
          "2020",
          "2020",
          "2020",
          "2020",
          "2020",
          "2020",
          "2020",
          "2020",
          "2020",
          "2020",
          "2020",
          "2020",
          "2020",
          "2020",
          "2020",
          "2020",
          "2020",
          "2020",
          "2020",
          "2020",
          "2020",
          "2020",
          "2020",
          "2020",
          "2020",
          "2020",
          "2020",
          "2020",
          "2020",
          "2020",
          "2020",
          "2020",
          "2020",
          "2020",
          "2020",
          "2020",
          "2020",
          "2020",
          "2020",
          "2020",
          "2020",
          "2020",
          "2020",
          "2020",
          "2020",
          "2020",
          "2020",
          "2020",
          "2020",
          "2020",
          "2020",
          "2020",
          "2020",
          "2020",
          "2020",
          "2020",
          "2020",
          "2020",
          "2020",
          "2020",
          "2020",
          "2020",
          "2020",
          "2020",
          "2020",
          "2020",
          "2020",
          "2020",
          "2020",
          "2020",
          "2020",
          "2020",
          "2020",
          "2020",
          "2020",
          "2020",
          "2020",
          "2020",
          "2020",
          "2020",
          "2020",
          "2020",
          "2020",
          "2020",
          "2020",
          "2020",
          "2020",
          "2020",
          "2020",
          "2020",
          "2020",
          "2020",
          "2020",
          "2020",
          "2020",
          "2020",
          "2020",
          "2020",
          "2020",
          "2020",
          "2020",
          "2020",
          "2020",
          "2020",
          "2020",
          "2020",
          "2020",
          "2020",
          "2020",
          "2020",
          "2020",
          "2020",
          "2020",
          "2020",
          "2020",
          "2020",
          "2020",
          "2020",
          "2020",
          "2020",
          "2020",
          "2020",
          "2020",
          "2020",
          "2020",
          "2020",
          "2020",
          "2020",
          "2020",
          "2020",
          "2020",
          "2020",
          "2020",
          "2020",
          "2020",
          "2020",
          "2020",
          "2020",
          "2020",
          "2020",
          "2020",
          "2020",
          "2020",
          "2020",
          "2020",
          "2020",
          "2020",
          "2020",
          "2020",
          "2020",
          "2020",
          "2020",
          "2020",
          "2020",
          "2020",
          "2020",
          "2020",
          "2020",
          "2020",
          "2020",
          "2020",
          "2020",
          "2021",
          "2021",
          "2021",
          "2021",
          "2021",
          "2021",
          "2021",
          "2021",
          "2021",
          "2021",
          "2021",
          "2021",
          "2021",
          "2021",
          "2021",
          "2021",
          "2021",
          "2021",
          "2021",
          "2021",
          "2021",
          "2021",
          "2021",
          "2021",
          "2021",
          "2021",
          "2021",
          "2021",
          "2021",
          "2021",
          "2021",
          "2021",
          "2021",
          "2021",
          "2021",
          "2021",
          "2021",
          "2021",
          "2021",
          "2021",
          "2021",
          "2021",
          "2021",
          "2021",
          "2021",
          "2021",
          "2021",
          "2021",
          "2021",
          "2021",
          "2021",
          "2021",
          "2021",
          "2021",
          "2021",
          "2021",
          "2021",
          "2021",
          "2021",
          "2021",
          "2021",
          "2021",
          "2021",
          "2021",
          "2021",
          "2021",
          "2021",
          "2021",
          "2021",
          "2021",
          "2021",
          "2021",
          "2021",
          "2021",
          "2021",
          "2021",
          "2021",
          "2021",
          "2021",
          "2021",
          "2021",
          "2021",
          "2021",
          "2021",
          "2021",
          "2021",
          "2021",
          "2021",
          "2021",
          "2021",
          "2021",
          "2021",
          "2021",
          "2021",
          "2021",
          "2021",
          "2021",
          "2021",
          "2021",
          "2021",
          "2021",
          "2021",
          "2021",
          "2021",
          "2021",
          "2021",
          "2021",
          "2021",
          "2021",
          "2021",
          "2021",
          "2021",
          "2021",
          "2021"
         ],
         "yaxis": "y"
        },
        {
         "alignmentgroup": "True",
         "bingroup": "y",
         "histfunc": "avg",
         "hovertemplate": "CWE-NAME=Observable Discrepancy<br>avg of CVSS-V2=%{x}<br>Year=%{y}<extra></extra>",
         "legendgroup": "Observable Discrepancy",
         "marker": {
          "color": "#EF553B",
          "line": {
           "color": "rgb(8,48,107)",
           "width": 1.5
          },
          "pattern": {
           "shape": ""
          }
         },
         "name": "Observable Discrepancy",
         "offsetgroup": "Observable Discrepancy",
         "opacity": 0.6,
         "orientation": "h",
         "showlegend": true,
         "texttemplate": "%{value:.2s}",
         "type": "histogram",
         "x": [
          5,
          5,
          4.3,
          4.3,
          4.3,
          5,
          4.3,
          4.3,
          4.3,
          4.3,
          4.3,
          4.3,
          4.3,
          1.9,
          4.7,
          4.3,
          2.6,
          5,
          5,
          1.9,
          4.3,
          5,
          5,
          3.3,
          3.3,
          5.4,
          4.7,
          2.1,
          4.7,
          1.9,
          4.3,
          4.3,
          6.8,
          5,
          5,
          6.8,
          2.1,
          5.8,
          5,
          4.3,
          4.3,
          4.3,
          5,
          5,
          4.3,
          5,
          4.3,
          2.9,
          5,
          2.6,
          1.2,
          4.3,
          4.3,
          2.6,
          4.9,
          2.1,
          1.9,
          1.9,
          1.9,
          5,
          1.9,
          1.9,
          2.1,
          1.9,
          5,
          4.3,
          4.3,
          1.2,
          5,
          5,
          5,
          4.3,
          4.3,
          1.9,
          1.9,
          5,
          5,
          6.8,
          2.1,
          5,
          4.3,
          2.6,
          5,
          5,
          4.3,
          5,
          5,
          5,
          2.1,
          4.3,
          4.3,
          6.8,
          2.1,
          3.5,
          1.9,
          4.3,
          5,
          5,
          5,
          4.6,
          5,
          5,
          1.2,
          1.2,
          1.9,
          1.2,
          5,
          2.1,
          5,
          2.1,
          4.3,
          4.3,
          4.3,
          2.1,
          4.3,
          5,
          2.1,
          5,
          5,
          4.3,
          3.5,
          3.5,
          5,
          2.1,
          7.8,
          1.9,
          5,
          5,
          4.3,
          1.9,
          5,
          7.8,
          5,
          5,
          5,
          4.3,
          5,
          5,
          1.9,
          5,
          2.9,
          2.9,
          2.9,
          5,
          2.6,
          4.3,
          4.3,
          4.3,
          5,
          5,
          2.1,
          5,
          4.3,
          6.5,
          3.5,
          2.1,
          2.1,
          2.1,
          2.1,
          2.1,
          2.1,
          2.1,
          2.1,
          2.1,
          2.1,
          2.1,
          2.1,
          2.1,
          2.1,
          2.1,
          2.1,
          2.1,
          2.1,
          2.1,
          5,
          2.1,
          5,
          4.3,
          4.3,
          4,
          4,
          4,
          1.9,
          4.3,
          4.3,
          4.3,
          4.3,
          4.3,
          5,
          5,
          5,
          1.9,
          1.9,
          1.9,
          1.9,
          5,
          5,
          4.7,
          2.1,
          5,
          3.3,
          5,
          2.1,
          3.5,
          4.3,
          2.1,
          5,
          5,
          5,
          5,
          4,
          5,
          5,
          5
         ],
         "xaxis": "x",
         "y": [
          "2013",
          "2014",
          "2014",
          "2015",
          "2015",
          "2016",
          "2017",
          "2017",
          "2017",
          "2017",
          "2017",
          "2017",
          "2017",
          "2017",
          "2017",
          "2017",
          "2017",
          "2017",
          "2018",
          "2018",
          "2018",
          "2018",
          "2018",
          "2018",
          "2018",
          "2018",
          "2018",
          "2018",
          "2018",
          "2018",
          "2018",
          "2018",
          "2019",
          "2019",
          "2019",
          "2019",
          "2019",
          "2019",
          "2019",
          "2019",
          "2019",
          "2019",
          "2019",
          "2019",
          "2019",
          "2019",
          "2019",
          "2019",
          "2019",
          "2019",
          "2019",
          "2019",
          "2019",
          "2019",
          "2019",
          "2019",
          "2019",
          "2019",
          "2019",
          "2019",
          "2019",
          "2019",
          "2019",
          "2019",
          "2019",
          "2019",
          "2019",
          "2019",
          "2019",
          "2019",
          "2019",
          "2019",
          "2019",
          "2019",
          "2019",
          "2019",
          "2019",
          "2019",
          "2019",
          "2019",
          "2019",
          "2019",
          "2019",
          "2019",
          "2019",
          "2019",
          "2019",
          "2019",
          "2019",
          "2019",
          "2019",
          "2019",
          "2020",
          "2020",
          "2020",
          "2020",
          "2020",
          "2020",
          "2020",
          "2020",
          "2020",
          "2020",
          "2020",
          "2020",
          "2020",
          "2020",
          "2020",
          "2020",
          "2020",
          "2020",
          "2020",
          "2020",
          "2020",
          "2020",
          "2020",
          "2020",
          "2020",
          "2020",
          "2020",
          "2020",
          "2020",
          "2020",
          "2020",
          "2020",
          "2020",
          "2020",
          "2020",
          "2020",
          "2020",
          "2020",
          "2020",
          "2020",
          "2020",
          "2020",
          "2020",
          "2020",
          "2020",
          "2020",
          "2020",
          "2020",
          "2020",
          "2020",
          "2020",
          "2020",
          "2020",
          "2020",
          "2020",
          "2020",
          "2020",
          "2020",
          "2020",
          "2020",
          "2020",
          "2020",
          "2020",
          "2021",
          "2021",
          "2021",
          "2021",
          "2021",
          "2021",
          "2021",
          "2021",
          "2021",
          "2021",
          "2021",
          "2021",
          "2021",
          "2021",
          "2021",
          "2021",
          "2021",
          "2021",
          "2021",
          "2021",
          "2021",
          "2021",
          "2021",
          "2021",
          "2021",
          "2021",
          "2021",
          "2021",
          "2021",
          "2021",
          "2021",
          "2021",
          "2021",
          "2021",
          "2021",
          "2021",
          "2021",
          "2021",
          "2021",
          "2021",
          "2021",
          "2021",
          "2021",
          "2021",
          "2021",
          "2021",
          "2021",
          "2021",
          "2021",
          "2021",
          "2021",
          "2021",
          "2021",
          "2021",
          "2021",
          "2021",
          "2021",
          "2021",
          "2021"
         ],
         "yaxis": "y"
        },
        {
         "alignmentgroup": "True",
         "bingroup": "y",
         "histfunc": "avg",
         "hovertemplate": "CWE-NAME=Unintended Proxy or Intermediary ('Confused Deputy')<br>avg of CVSS-V2=%{x}<br>Year=%{y}<extra></extra>",
         "legendgroup": "Unintended Proxy or Intermediary ('Confused Deputy')",
         "marker": {
          "color": "#00cc96",
          "line": {
           "color": "rgb(8,48,107)",
           "width": 1.5
          },
          "pattern": {
           "shape": ""
          }
         },
         "name": "Unintended Proxy or Intermediary ('Confused Deputy')",
         "offsetgroup": "Unintended Proxy or Intermediary ('Confused Deputy')",
         "opacity": 0.6,
         "orientation": "h",
         "showlegend": true,
         "texttemplate": "%{value:.2s}",
         "type": "histogram",
         "x": [
          6.4,
          4.6,
          4.3,
          4.9,
          5,
          6.4
         ],
         "xaxis": "x",
         "y": [
          "2015",
          "2018",
          "2018",
          "2018",
          "2019",
          "2020"
         ],
         "yaxis": "y"
        },
        {
         "alignmentgroup": "True",
         "bingroup": "y",
         "histfunc": "avg",
         "hovertemplate": "CWE-NAME=Missing Cryptographic Step<br>avg of CVSS-V2=%{x}<br>Year=%{y}<extra></extra>",
         "legendgroup": "Missing Cryptographic Step",
         "marker": {
          "color": "#ab63fa",
          "line": {
           "color": "rgb(8,48,107)",
           "width": 1.5
          },
          "pattern": {
           "shape": ""
          }
         },
         "name": "Missing Cryptographic Step",
         "offsetgroup": "Missing Cryptographic Step",
         "opacity": 0.6,
         "orientation": "h",
         "showlegend": true,
         "texttemplate": "%{value:.2s}",
         "type": "histogram",
         "x": [
          4.3
         ],
         "xaxis": "x",
         "y": [
          "2019"
         ],
         "yaxis": "y"
        },
        {
         "alignmentgroup": "True",
         "bingroup": "y",
         "histfunc": "avg",
         "hovertemplate": "CWE-NAME=Expected Behavior Violation<br>avg of CVSS-V2=%{x}<br>Year=%{y}<extra></extra>",
         "legendgroup": "Expected Behavior Violation",
         "marker": {
          "color": "#FFA15A",
          "line": {
           "color": "rgb(8,48,107)",
           "width": 1.5
          },
          "pattern": {
           "shape": ""
          }
         },
         "name": "Expected Behavior Violation",
         "offsetgroup": "Expected Behavior Violation",
         "opacity": 0.6,
         "orientation": "h",
         "showlegend": true,
         "texttemplate": "%{value:.2s}",
         "type": "histogram",
         "x": [
          6.4
         ],
         "xaxis": "x",
         "y": [
          "2019"
         ],
         "yaxis": "y"
        },
        {
         "alignmentgroup": "True",
         "bingroup": "y",
         "histfunc": "avg",
         "hovertemplate": "CWE-NAME=Missing Protection Against Hardware Reverse Engineering Using Integrated Circuit (IC) Imaging Techniques<br>avg of CVSS-V2=%{x}<br>Year=%{y}<extra></extra>",
         "legendgroup": "Missing Protection Against Hardware Reverse Engineering Using Integrated Circuit (IC) Imaging Techniques",
         "marker": {
          "color": "#19d3f3",
          "line": {
           "color": "rgb(8,48,107)",
           "width": 1.5
          },
          "pattern": {
           "shape": ""
          }
         },
         "name": "Missing Protection Against Hardware Reverse Engineering Using Integrated Circuit (IC) Imaging Techniques",
         "offsetgroup": "Missing Protection Against Hardware Reverse Engineering Using Integrated Circuit (IC) Imaging Techniques",
         "opacity": 0.6,
         "orientation": "h",
         "showlegend": true,
         "texttemplate": "%{value:.2s}",
         "type": "histogram",
         "x": [
          6.9
         ],
         "xaxis": "x",
         "y": [
          "2021"
         ],
         "yaxis": "y"
        }
       ],
       "layout": {
        "barmode": "relative",
        "height": 700,
        "legend": {
         "title": {
          "text": "CWE-NAME"
         },
         "tracegroupgap": 0
        },
        "template": {
         "data": {
          "bar": [
           {
            "error_x": {
             "color": "#2a3f5f"
            },
            "error_y": {
             "color": "#2a3f5f"
            },
            "marker": {
             "line": {
              "color": "#E5ECF6",
              "width": 0.5
             },
             "pattern": {
              "fillmode": "overlay",
              "size": 10,
              "solidity": 0.2
             }
            },
            "type": "bar"
           }
          ],
          "barpolar": [
           {
            "marker": {
             "line": {
              "color": "#E5ECF6",
              "width": 0.5
             },
             "pattern": {
              "fillmode": "overlay",
              "size": 10,
              "solidity": 0.2
             }
            },
            "type": "barpolar"
           }
          ],
          "carpet": [
           {
            "aaxis": {
             "endlinecolor": "#2a3f5f",
             "gridcolor": "white",
             "linecolor": "white",
             "minorgridcolor": "white",
             "startlinecolor": "#2a3f5f"
            },
            "baxis": {
             "endlinecolor": "#2a3f5f",
             "gridcolor": "white",
             "linecolor": "white",
             "minorgridcolor": "white",
             "startlinecolor": "#2a3f5f"
            },
            "type": "carpet"
           }
          ],
          "choropleth": [
           {
            "colorbar": {
             "outlinewidth": 0,
             "ticks": ""
            },
            "type": "choropleth"
           }
          ],
          "contour": [
           {
            "colorbar": {
             "outlinewidth": 0,
             "ticks": ""
            },
            "colorscale": [
             [
              0,
              "#0d0887"
             ],
             [
              0.1111111111111111,
              "#46039f"
             ],
             [
              0.2222222222222222,
              "#7201a8"
             ],
             [
              0.3333333333333333,
              "#9c179e"
             ],
             [
              0.4444444444444444,
              "#bd3786"
             ],
             [
              0.5555555555555556,
              "#d8576b"
             ],
             [
              0.6666666666666666,
              "#ed7953"
             ],
             [
              0.7777777777777778,
              "#fb9f3a"
             ],
             [
              0.8888888888888888,
              "#fdca26"
             ],
             [
              1,
              "#f0f921"
             ]
            ],
            "type": "contour"
           }
          ],
          "contourcarpet": [
           {
            "colorbar": {
             "outlinewidth": 0,
             "ticks": ""
            },
            "type": "contourcarpet"
           }
          ],
          "heatmap": [
           {
            "colorbar": {
             "outlinewidth": 0,
             "ticks": ""
            },
            "colorscale": [
             [
              0,
              "#0d0887"
             ],
             [
              0.1111111111111111,
              "#46039f"
             ],
             [
              0.2222222222222222,
              "#7201a8"
             ],
             [
              0.3333333333333333,
              "#9c179e"
             ],
             [
              0.4444444444444444,
              "#bd3786"
             ],
             [
              0.5555555555555556,
              "#d8576b"
             ],
             [
              0.6666666666666666,
              "#ed7953"
             ],
             [
              0.7777777777777778,
              "#fb9f3a"
             ],
             [
              0.8888888888888888,
              "#fdca26"
             ],
             [
              1,
              "#f0f921"
             ]
            ],
            "type": "heatmap"
           }
          ],
          "heatmapgl": [
           {
            "colorbar": {
             "outlinewidth": 0,
             "ticks": ""
            },
            "colorscale": [
             [
              0,
              "#0d0887"
             ],
             [
              0.1111111111111111,
              "#46039f"
             ],
             [
              0.2222222222222222,
              "#7201a8"
             ],
             [
              0.3333333333333333,
              "#9c179e"
             ],
             [
              0.4444444444444444,
              "#bd3786"
             ],
             [
              0.5555555555555556,
              "#d8576b"
             ],
             [
              0.6666666666666666,
              "#ed7953"
             ],
             [
              0.7777777777777778,
              "#fb9f3a"
             ],
             [
              0.8888888888888888,
              "#fdca26"
             ],
             [
              1,
              "#f0f921"
             ]
            ],
            "type": "heatmapgl"
           }
          ],
          "histogram": [
           {
            "marker": {
             "pattern": {
              "fillmode": "overlay",
              "size": 10,
              "solidity": 0.2
             }
            },
            "type": "histogram"
           }
          ],
          "histogram2d": [
           {
            "colorbar": {
             "outlinewidth": 0,
             "ticks": ""
            },
            "colorscale": [
             [
              0,
              "#0d0887"
             ],
             [
              0.1111111111111111,
              "#46039f"
             ],
             [
              0.2222222222222222,
              "#7201a8"
             ],
             [
              0.3333333333333333,
              "#9c179e"
             ],
             [
              0.4444444444444444,
              "#bd3786"
             ],
             [
              0.5555555555555556,
              "#d8576b"
             ],
             [
              0.6666666666666666,
              "#ed7953"
             ],
             [
              0.7777777777777778,
              "#fb9f3a"
             ],
             [
              0.8888888888888888,
              "#fdca26"
             ],
             [
              1,
              "#f0f921"
             ]
            ],
            "type": "histogram2d"
           }
          ],
          "histogram2dcontour": [
           {
            "colorbar": {
             "outlinewidth": 0,
             "ticks": ""
            },
            "colorscale": [
             [
              0,
              "#0d0887"
             ],
             [
              0.1111111111111111,
              "#46039f"
             ],
             [
              0.2222222222222222,
              "#7201a8"
             ],
             [
              0.3333333333333333,
              "#9c179e"
             ],
             [
              0.4444444444444444,
              "#bd3786"
             ],
             [
              0.5555555555555556,
              "#d8576b"
             ],
             [
              0.6666666666666666,
              "#ed7953"
             ],
             [
              0.7777777777777778,
              "#fb9f3a"
             ],
             [
              0.8888888888888888,
              "#fdca26"
             ],
             [
              1,
              "#f0f921"
             ]
            ],
            "type": "histogram2dcontour"
           }
          ],
          "mesh3d": [
           {
            "colorbar": {
             "outlinewidth": 0,
             "ticks": ""
            },
            "type": "mesh3d"
           }
          ],
          "parcoords": [
           {
            "line": {
             "colorbar": {
              "outlinewidth": 0,
              "ticks": ""
             }
            },
            "type": "parcoords"
           }
          ],
          "pie": [
           {
            "automargin": true,
            "type": "pie"
           }
          ],
          "scatter": [
           {
            "fillpattern": {
             "fillmode": "overlay",
             "size": 10,
             "solidity": 0.2
            },
            "type": "scatter"
           }
          ],
          "scatter3d": [
           {
            "line": {
             "colorbar": {
              "outlinewidth": 0,
              "ticks": ""
             }
            },
            "marker": {
             "colorbar": {
              "outlinewidth": 0,
              "ticks": ""
             }
            },
            "type": "scatter3d"
           }
          ],
          "scattercarpet": [
           {
            "marker": {
             "colorbar": {
              "outlinewidth": 0,
              "ticks": ""
             }
            },
            "type": "scattercarpet"
           }
          ],
          "scattergeo": [
           {
            "marker": {
             "colorbar": {
              "outlinewidth": 0,
              "ticks": ""
             }
            },
            "type": "scattergeo"
           }
          ],
          "scattergl": [
           {
            "marker": {
             "colorbar": {
              "outlinewidth": 0,
              "ticks": ""
             }
            },
            "type": "scattergl"
           }
          ],
          "scattermapbox": [
           {
            "marker": {
             "colorbar": {
              "outlinewidth": 0,
              "ticks": ""
             }
            },
            "type": "scattermapbox"
           }
          ],
          "scatterpolar": [
           {
            "marker": {
             "colorbar": {
              "outlinewidth": 0,
              "ticks": ""
             }
            },
            "type": "scatterpolar"
           }
          ],
          "scatterpolargl": [
           {
            "marker": {
             "colorbar": {
              "outlinewidth": 0,
              "ticks": ""
             }
            },
            "type": "scatterpolargl"
           }
          ],
          "scatterternary": [
           {
            "marker": {
             "colorbar": {
              "outlinewidth": 0,
              "ticks": ""
             }
            },
            "type": "scatterternary"
           }
          ],
          "surface": [
           {
            "colorbar": {
             "outlinewidth": 0,
             "ticks": ""
            },
            "colorscale": [
             [
              0,
              "#0d0887"
             ],
             [
              0.1111111111111111,
              "#46039f"
             ],
             [
              0.2222222222222222,
              "#7201a8"
             ],
             [
              0.3333333333333333,
              "#9c179e"
             ],
             [
              0.4444444444444444,
              "#bd3786"
             ],
             [
              0.5555555555555556,
              "#d8576b"
             ],
             [
              0.6666666666666666,
              "#ed7953"
             ],
             [
              0.7777777777777778,
              "#fb9f3a"
             ],
             [
              0.8888888888888888,
              "#fdca26"
             ],
             [
              1,
              "#f0f921"
             ]
            ],
            "type": "surface"
           }
          ],
          "table": [
           {
            "cells": {
             "fill": {
              "color": "#EBF0F8"
             },
             "line": {
              "color": "white"
             }
            },
            "header": {
             "fill": {
              "color": "#C8D4E3"
             },
             "line": {
              "color": "white"
             }
            },
            "type": "table"
           }
          ]
         },
         "layout": {
          "annotationdefaults": {
           "arrowcolor": "#2a3f5f",
           "arrowhead": 0,
           "arrowwidth": 1
          },
          "autotypenumbers": "strict",
          "coloraxis": {
           "colorbar": {
            "outlinewidth": 0,
            "ticks": ""
           }
          },
          "colorscale": {
           "diverging": [
            [
             0,
             "#8e0152"
            ],
            [
             0.1,
             "#c51b7d"
            ],
            [
             0.2,
             "#de77ae"
            ],
            [
             0.3,
             "#f1b6da"
            ],
            [
             0.4,
             "#fde0ef"
            ],
            [
             0.5,
             "#f7f7f7"
            ],
            [
             0.6,
             "#e6f5d0"
            ],
            [
             0.7,
             "#b8e186"
            ],
            [
             0.8,
             "#7fbc41"
            ],
            [
             0.9,
             "#4d9221"
            ],
            [
             1,
             "#276419"
            ]
           ],
           "sequential": [
            [
             0,
             "#0d0887"
            ],
            [
             0.1111111111111111,
             "#46039f"
            ],
            [
             0.2222222222222222,
             "#7201a8"
            ],
            [
             0.3333333333333333,
             "#9c179e"
            ],
            [
             0.4444444444444444,
             "#bd3786"
            ],
            [
             0.5555555555555556,
             "#d8576b"
            ],
            [
             0.6666666666666666,
             "#ed7953"
            ],
            [
             0.7777777777777778,
             "#fb9f3a"
            ],
            [
             0.8888888888888888,
             "#fdca26"
            ],
            [
             1,
             "#f0f921"
            ]
           ],
           "sequentialminus": [
            [
             0,
             "#0d0887"
            ],
            [
             0.1111111111111111,
             "#46039f"
            ],
            [
             0.2222222222222222,
             "#7201a8"
            ],
            [
             0.3333333333333333,
             "#9c179e"
            ],
            [
             0.4444444444444444,
             "#bd3786"
            ],
            [
             0.5555555555555556,
             "#d8576b"
            ],
            [
             0.6666666666666666,
             "#ed7953"
            ],
            [
             0.7777777777777778,
             "#fb9f3a"
            ],
            [
             0.8888888888888888,
             "#fdca26"
            ],
            [
             1,
             "#f0f921"
            ]
           ]
          },
          "colorway": [
           "#636efa",
           "#EF553B",
           "#00cc96",
           "#ab63fa",
           "#FFA15A",
           "#19d3f3",
           "#FF6692",
           "#B6E880",
           "#FF97FF",
           "#FECB52"
          ],
          "font": {
           "color": "#2a3f5f"
          },
          "geo": {
           "bgcolor": "white",
           "lakecolor": "white",
           "landcolor": "#E5ECF6",
           "showlakes": true,
           "showland": true,
           "subunitcolor": "white"
          },
          "hoverlabel": {
           "align": "left"
          },
          "hovermode": "closest",
          "mapbox": {
           "style": "light"
          },
          "paper_bgcolor": "white",
          "plot_bgcolor": "#E5ECF6",
          "polar": {
           "angularaxis": {
            "gridcolor": "white",
            "linecolor": "white",
            "ticks": ""
           },
           "bgcolor": "#E5ECF6",
           "radialaxis": {
            "gridcolor": "white",
            "linecolor": "white",
            "ticks": ""
           }
          },
          "scene": {
           "xaxis": {
            "backgroundcolor": "#E5ECF6",
            "gridcolor": "white",
            "gridwidth": 2,
            "linecolor": "white",
            "showbackground": true,
            "ticks": "",
            "zerolinecolor": "white"
           },
           "yaxis": {
            "backgroundcolor": "#E5ECF6",
            "gridcolor": "white",
            "gridwidth": 2,
            "linecolor": "white",
            "showbackground": true,
            "ticks": "",
            "zerolinecolor": "white"
           },
           "zaxis": {
            "backgroundcolor": "#E5ECF6",
            "gridcolor": "white",
            "gridwidth": 2,
            "linecolor": "white",
            "showbackground": true,
            "ticks": "",
            "zerolinecolor": "white"
           }
          },
          "shapedefaults": {
           "line": {
            "color": "#2a3f5f"
           }
          },
          "ternary": {
           "aaxis": {
            "gridcolor": "white",
            "linecolor": "white",
            "ticks": ""
           },
           "baxis": {
            "gridcolor": "white",
            "linecolor": "white",
            "ticks": ""
           },
           "bgcolor": "#E5ECF6",
           "caxis": {
            "gridcolor": "white",
            "linecolor": "white",
            "ticks": ""
           }
          },
          "title": {
           "x": 0.05
          },
          "xaxis": {
           "automargin": true,
           "gridcolor": "white",
           "linecolor": "white",
           "ticks": "",
           "title": {
            "standoff": 15
           },
           "zerolinecolor": "white",
           "zerolinewidth": 2
          },
          "yaxis": {
           "automargin": true,
           "gridcolor": "white",
           "linecolor": "white",
           "ticks": "",
           "title": {
            "standoff": 15
           },
           "zerolinecolor": "white",
           "zerolinewidth": 2
          }
         }
        },
        "title": {
         "text": "Hardware Design- Average CVSS-V2 Score by CWE NAME and Year"
        },
        "width": 1500,
        "xaxis": {
         "anchor": "y",
         "domain": [
          0,
          1
         ],
         "title": {
          "text": "avg of CVSS-V2"
         }
        },
        "yaxis": {
         "anchor": "x",
         "domain": [
          0,
          1
         ],
         "title": {
          "text": "Year"
         }
        }
       }
      },
      "text/html": [
       "<div>                            <div id=\"aaaccc60-4dbd-4f08-9b5c-7645f75195fc\" class=\"plotly-graph-div\" style=\"height:700px; width:1500px;\"></div>            <script type=\"text/javascript\">                require([\"plotly\"], function(Plotly) {                    window.PLOTLYENV=window.PLOTLYENV || {};                                    if (document.getElementById(\"aaaccc60-4dbd-4f08-9b5c-7645f75195fc\")) {                    Plotly.newPlot(                        \"aaaccc60-4dbd-4f08-9b5c-7645f75195fc\",                        [{\"alignmentgroup\":\"True\",\"bingroup\":\"y\",\"histfunc\":\"avg\",\"hovertemplate\":\"CWE-NAME=Incorrect Default Permissions<br>avg of CVSS-V2=%{x}<br>Year=%{y}<extra></extra>\",\"legendgroup\":\"Incorrect Default Permissions\",\"marker\":{\"color\":\"#636efa\",\"pattern\":{\"shape\":\"\"},\"line\":{\"color\":\"rgb(8,48,107)\",\"width\":1.5}},\"name\":\"Incorrect Default Permissions\",\"offsetgroup\":\"Incorrect Default Permissions\",\"orientation\":\"h\",\"showlegend\":true,\"texttemplate\":\"%{value:.2s}\",\"x\":[5.0,5.0,4.3,6.8,5.0,4.0,6.5,2.1,5.0,2.1,4.9,2.1,5.9,2.1,2.1,9.3,9.0,9.0,9.0,4.6,7.2,7.2,7.2,6.5,6.5,6.5,6.5,7.2,7.2,7.2,4.0,7.5,4.0,5.0,9.0,7.2,9.0,3.6,9.0,3.6,2.1,2.1,2.1,10.0,10.0,9.0,5.0,5.0,5.5,7.5,4.8,5.0,3.6,7.5,2.1,2.1,2.1,2.1,3.6,4.6,7.2,6.8,4.0,2.1,6.5,7.2,4.6,4.6,7.2,4.0,4.0,1.9,6.5,7.2,6.5,3.6,4.6,4.6,7.2,7.2,2.1,4.0,4.6,4.3,4.0,4.0,4.0,4.0,4.0,4.0,4.0,7.2,4.6,4.3,7.5,4.6,4.1,4.6,4.3,7.2,7.2,7.2,4.6,4.6,4.6,4.6,4.6,4.6,4.6,3.5,4.0,5.0,4.0,2.1,4.6,6.6,6.5,5.0,4.0,6.5,6.5,2.1,5.5,4.0,5.5,8.5,7.2,5.0,4.6,7.2,2.1,2.1,2.1,2.1,2.1,10.0,6.0,4.6,7.5,7.2,5.0,5.0,5.0,2.1,4.0,6.5,7.5,6.6,9.0,4.4,4.4,5.0,5.0,7.2,5.0,9.0,4.0,7.5,7.5,5.0,5.0,4.4,4.6,6.9,1.9,6.6,10.0,3.6,7.8,3.6,3.6,6.9,4.3,2.1,5.0,6.5,6.8,5.0,2.1,4.4,7.2,4.4,4.6,6.8,4.6,4.6,4.4,7.2,7.2,2.1,4.6,4.6,7.2,7.2,2.1,2.1,4.6,7.2,6.8,4.6,4.6,4.6,4.6,2.1,4.6,4.6,4.6,4.6,4.4,7.2,7.5,4.6,4.3,5.0,4.6,6.5,4.0,4.0,7.5,2.1,9.0,4.0,6.5,4.0,6.4,5.0,4.6,4.6,4.6,4.6,4.6,4.3,4.3,6.0,9.3,7.8,7.5,4.6,5.5,6.5,5.0,7.5,4.6,7.2,4.4,7.2,7.2,7.2,4.6,4.6,7.2,7.2,7.2,7.2,7.2,7.2,7.2,7.2,2.1,4.3,7.2,2.1,7.2,7.2,5.0,4.0,4.6,6.5,4.4,7.2,2.1,7.2,4.0,4.4,7.2,4.6,3.5,4.4,4.6,5.0,5.5,4.0,4.0,4.0,5.0,4.0,4.0,4.0,4.6,5.0,4.6,2.1,5.0,5.0,7.2,5.0,7.2,7.2,4.0,2.1,6.5,4.0,2.1,5.0,3.6,6.8,4.0,4.6,5.0,5.0,5.0,4.3,7.2,4.6,9.0,10.0,5.0,6.4,2.1,5.0,7.2,5.0,6.5,4.6,4.6,7.5,9.3,4.0,4.6,5.5,3.6,5.5,4.0,7.2,9.0,5.4,7.2,4.6,5.5,4.6,5.0,5.5,4.3,6.8,4.3,4.3,4.3,4.3,6.8,6.8,4.3,4.3,4.3,4.3,4.3,4.3,4.3,4.3,4.3,4.3,4.3,4.3,4.3,4.3,7.2,7.2,4.6,5.0,4.0,4.0,5.0,4.3,4.3,7.2,7.2,6.8,7.2,7.5,4.0,2.1,2.1,4.6,4.6,4.6,4.6,4.6,4.6,4.6,2.1,6.9,6.9,6.9,5.8,7.5,7.5,9.0,10.0,4.6,2.1,6.5,9.3,4.6,4.6,4.6,4.1,4.6,4.6,4.6,4.6,4.6,2.1,2.1,4.6,2.1,4.4,4.6,4.9,4.9,4.4,4.3,2.1,4.9,7.2,2.1,3.6,4.3,4.3,7.2,2.1,7.2,5.0,4.0,4.0,5.0,8.0,5.0,2.1,6.5,5.0,5.0,5.0,5.0,6.5,2.1,1.9,2.1,7.2,2.1,4.6,2.1,2.1,4.6,3.6,4.0,7.2,7.5,4.4,6.5,4.4,9.0,4.0,4.9,4.9,4.3,9.4,4.4,4.6,7.2,7.2,5.0,4.6,4.6,7.2,7.2,7.2,6.0,4.0,4.0,6.5,4.0,5.0,2.1,6.5,7.2,4.6,2.1,7.2,4.6,7.5,7.5,4.4,7.5,7.5,5.0,10.0,5.0,9.3,2.1,4.6,9.0,10.0,7.2,4.6,4.0,4.0,4.6,4.6,6.5,7.2,5.0,4.6,4.6,6.4,7.5,5.0],\"xaxis\":\"x\",\"y\":[\"2010\",\"2011\",\"2011\",\"2011\",\"2011\",\"2012\",\"2012\",\"2012\",\"2012\",\"2012\",\"2012\",\"2013\",\"2013\",\"2013\",\"2013\",\"2013\",\"2014\",\"2014\",\"2014\",\"2014\",\"2014\",\"2014\",\"2015\",\"2015\",\"2015\",\"2015\",\"2015\",\"2016\",\"2016\",\"2016\",\"2017\",\"2017\",\"2017\",\"2017\",\"2017\",\"2017\",\"2017\",\"2017\",\"2017\",\"2017\",\"2017\",\"2017\",\"2017\",\"2017\",\"2017\",\"2017\",\"2017\",\"2017\",\"2017\",\"2017\",\"2017\",\"2017\",\"2017\",\"2017\",\"2017\",\"2017\",\"2017\",\"2017\",\"2017\",\"2017\",\"2017\",\"2017\",\"2017\",\"2018\",\"2018\",\"2018\",\"2018\",\"2018\",\"2018\",\"2018\",\"2018\",\"2018\",\"2018\",\"2018\",\"2018\",\"2018\",\"2018\",\"2018\",\"2018\",\"2018\",\"2018\",\"2018\",\"2019\",\"2019\",\"2019\",\"2019\",\"2019\",\"2019\",\"2019\",\"2019\",\"2019\",\"2019\",\"2019\",\"2019\",\"2019\",\"2019\",\"2019\",\"2019\",\"2019\",\"2019\",\"2019\",\"2019\",\"2019\",\"2019\",\"2019\",\"2019\",\"2019\",\"2019\",\"2019\",\"2019\",\"2019\",\"2019\",\"2019\",\"2019\",\"2019\",\"2019\",\"2019\",\"2019\",\"2019\",\"2019\",\"2019\",\"2019\",\"2019\",\"2019\",\"2019\",\"2019\",\"2019\",\"2019\",\"2019\",\"2019\",\"2019\",\"2019\",\"2019\",\"2019\",\"2019\",\"2019\",\"2019\",\"2019\",\"2019\",\"2019\",\"2019\",\"2019\",\"2019\",\"2019\",\"2019\",\"2019\",\"2019\",\"2019\",\"2019\",\"2019\",\"2019\",\"2019\",\"2019\",\"2019\",\"2019\",\"2019\",\"2019\",\"2019\",\"2019\",\"2019\",\"2019\",\"2019\",\"2019\",\"2019\",\"2019\",\"2019\",\"2019\",\"2019\",\"2019\",\"2019\",\"2019\",\"2019\",\"2019\",\"2019\",\"2019\",\"2019\",\"2019\",\"2019\",\"2020\",\"2020\",\"2020\",\"2020\",\"2020\",\"2020\",\"2020\",\"2020\",\"2020\",\"2020\",\"2020\",\"2020\",\"2020\",\"2020\",\"2020\",\"2020\",\"2020\",\"2020\",\"2020\",\"2020\",\"2020\",\"2020\",\"2020\",\"2020\",\"2020\",\"2020\",\"2020\",\"2020\",\"2020\",\"2020\",\"2020\",\"2020\",\"2020\",\"2020\",\"2020\",\"2020\",\"2020\",\"2020\",\"2020\",\"2020\",\"2020\",\"2020\",\"2020\",\"2020\",\"2020\",\"2020\",\"2020\",\"2020\",\"2020\",\"2020\",\"2020\",\"2020\",\"2020\",\"2020\",\"2020\",\"2020\",\"2020\",\"2020\",\"2020\",\"2020\",\"2020\",\"2020\",\"2020\",\"2020\",\"2020\",\"2020\",\"2020\",\"2020\",\"2020\",\"2020\",\"2020\",\"2020\",\"2020\",\"2020\",\"2020\",\"2020\",\"2020\",\"2020\",\"2020\",\"2020\",\"2020\",\"2020\",\"2020\",\"2020\",\"2020\",\"2020\",\"2020\",\"2020\",\"2020\",\"2020\",\"2020\",\"2020\",\"2020\",\"2020\",\"2020\",\"2020\",\"2020\",\"2020\",\"2020\",\"2020\",\"2020\",\"2020\",\"2020\",\"2020\",\"2020\",\"2020\",\"2020\",\"2020\",\"2020\",\"2020\",\"2020\",\"2020\",\"2020\",\"2020\",\"2020\",\"2020\",\"2020\",\"2020\",\"2020\",\"2020\",\"2020\",\"2020\",\"2020\",\"2020\",\"2020\",\"2020\",\"2020\",\"2020\",\"2020\",\"2020\",\"2020\",\"2020\",\"2020\",\"2020\",\"2020\",\"2020\",\"2020\",\"2020\",\"2020\",\"2020\",\"2020\",\"2020\",\"2020\",\"2020\",\"2020\",\"2020\",\"2020\",\"2020\",\"2020\",\"2020\",\"2020\",\"2020\",\"2020\",\"2020\",\"2020\",\"2020\",\"2020\",\"2020\",\"2020\",\"2020\",\"2020\",\"2020\",\"2020\",\"2020\",\"2020\",\"2020\",\"2020\",\"2020\",\"2020\",\"2020\",\"2020\",\"2020\",\"2020\",\"2020\",\"2020\",\"2020\",\"2020\",\"2020\",\"2020\",\"2020\",\"2020\",\"2020\",\"2020\",\"2020\",\"2020\",\"2020\",\"2020\",\"2020\",\"2020\",\"2020\",\"2020\",\"2020\",\"2020\",\"2020\",\"2020\",\"2020\",\"2020\",\"2020\",\"2020\",\"2020\",\"2020\",\"2020\",\"2020\",\"2020\",\"2020\",\"2020\",\"2020\",\"2020\",\"2020\",\"2020\",\"2020\",\"2020\",\"2020\",\"2020\",\"2020\",\"2020\",\"2020\",\"2020\",\"2020\",\"2020\",\"2020\",\"2020\",\"2020\",\"2021\",\"2021\",\"2021\",\"2021\",\"2021\",\"2021\",\"2021\",\"2021\",\"2021\",\"2021\",\"2021\",\"2021\",\"2021\",\"2021\",\"2021\",\"2021\",\"2021\",\"2021\",\"2021\",\"2021\",\"2021\",\"2021\",\"2021\",\"2021\",\"2021\",\"2021\",\"2021\",\"2021\",\"2021\",\"2021\",\"2021\",\"2021\",\"2021\",\"2021\",\"2021\",\"2021\",\"2021\",\"2021\",\"2021\",\"2021\",\"2021\",\"2021\",\"2021\",\"2021\",\"2021\",\"2021\",\"2021\",\"2021\",\"2021\",\"2021\",\"2021\",\"2021\",\"2021\",\"2021\",\"2021\",\"2021\",\"2021\",\"2021\",\"2021\",\"2021\",\"2021\",\"2021\",\"2021\",\"2021\",\"2021\",\"2021\",\"2021\",\"2021\",\"2021\",\"2021\",\"2021\",\"2021\",\"2021\",\"2021\",\"2021\",\"2021\",\"2021\",\"2021\",\"2021\",\"2021\",\"2021\",\"2021\",\"2021\",\"2021\",\"2021\",\"2021\",\"2021\",\"2021\",\"2021\",\"2021\",\"2021\",\"2021\",\"2021\",\"2021\",\"2021\",\"2021\",\"2021\",\"2021\",\"2021\",\"2021\",\"2021\",\"2021\",\"2021\",\"2021\",\"2021\",\"2021\",\"2021\",\"2021\",\"2021\",\"2021\",\"2021\",\"2021\",\"2021\",\"2021\"],\"yaxis\":\"y\",\"type\":\"histogram\",\"opacity\":0.6},{\"alignmentgroup\":\"True\",\"bingroup\":\"y\",\"histfunc\":\"avg\",\"hovertemplate\":\"CWE-NAME=Observable Discrepancy<br>avg of CVSS-V2=%{x}<br>Year=%{y}<extra></extra>\",\"legendgroup\":\"Observable Discrepancy\",\"marker\":{\"color\":\"#EF553B\",\"pattern\":{\"shape\":\"\"},\"line\":{\"color\":\"rgb(8,48,107)\",\"width\":1.5}},\"name\":\"Observable Discrepancy\",\"offsetgroup\":\"Observable Discrepancy\",\"orientation\":\"h\",\"showlegend\":true,\"texttemplate\":\"%{value:.2s}\",\"x\":[5.0,5.0,4.3,4.3,4.3,5.0,4.3,4.3,4.3,4.3,4.3,4.3,4.3,1.9,4.7,4.3,2.6,5.0,5.0,1.9,4.3,5.0,5.0,3.3,3.3,5.4,4.7,2.1,4.7,1.9,4.3,4.3,6.8,5.0,5.0,6.8,2.1,5.8,5.0,4.3,4.3,4.3,5.0,5.0,4.3,5.0,4.3,2.9,5.0,2.6,1.2,4.3,4.3,2.6,4.9,2.1,1.9,1.9,1.9,5.0,1.9,1.9,2.1,1.9,5.0,4.3,4.3,1.2,5.0,5.0,5.0,4.3,4.3,1.9,1.9,5.0,5.0,6.8,2.1,5.0,4.3,2.6,5.0,5.0,4.3,5.0,5.0,5.0,2.1,4.3,4.3,6.8,2.1,3.5,1.9,4.3,5.0,5.0,5.0,4.6,5.0,5.0,1.2,1.2,1.9,1.2,5.0,2.1,5.0,2.1,4.3,4.3,4.3,2.1,4.3,5.0,2.1,5.0,5.0,4.3,3.5,3.5,5.0,2.1,7.8,1.9,5.0,5.0,4.3,1.9,5.0,7.8,5.0,5.0,5.0,4.3,5.0,5.0,1.9,5.0,2.9,2.9,2.9,5.0,2.6,4.3,4.3,4.3,5.0,5.0,2.1,5.0,4.3,6.5,3.5,2.1,2.1,2.1,2.1,2.1,2.1,2.1,2.1,2.1,2.1,2.1,2.1,2.1,2.1,2.1,2.1,2.1,2.1,2.1,5.0,2.1,5.0,4.3,4.3,4.0,4.0,4.0,1.9,4.3,4.3,4.3,4.3,4.3,5.0,5.0,5.0,1.9,1.9,1.9,1.9,5.0,5.0,4.7,2.1,5.0,3.3,5.0,2.1,3.5,4.3,2.1,5.0,5.0,5.0,5.0,4.0,5.0,5.0,5.0],\"xaxis\":\"x\",\"y\":[\"2013\",\"2014\",\"2014\",\"2015\",\"2015\",\"2016\",\"2017\",\"2017\",\"2017\",\"2017\",\"2017\",\"2017\",\"2017\",\"2017\",\"2017\",\"2017\",\"2017\",\"2017\",\"2018\",\"2018\",\"2018\",\"2018\",\"2018\",\"2018\",\"2018\",\"2018\",\"2018\",\"2018\",\"2018\",\"2018\",\"2018\",\"2018\",\"2019\",\"2019\",\"2019\",\"2019\",\"2019\",\"2019\",\"2019\",\"2019\",\"2019\",\"2019\",\"2019\",\"2019\",\"2019\",\"2019\",\"2019\",\"2019\",\"2019\",\"2019\",\"2019\",\"2019\",\"2019\",\"2019\",\"2019\",\"2019\",\"2019\",\"2019\",\"2019\",\"2019\",\"2019\",\"2019\",\"2019\",\"2019\",\"2019\",\"2019\",\"2019\",\"2019\",\"2019\",\"2019\",\"2019\",\"2019\",\"2019\",\"2019\",\"2019\",\"2019\",\"2019\",\"2019\",\"2019\",\"2019\",\"2019\",\"2019\",\"2019\",\"2019\",\"2019\",\"2019\",\"2019\",\"2019\",\"2019\",\"2019\",\"2019\",\"2019\",\"2020\",\"2020\",\"2020\",\"2020\",\"2020\",\"2020\",\"2020\",\"2020\",\"2020\",\"2020\",\"2020\",\"2020\",\"2020\",\"2020\",\"2020\",\"2020\",\"2020\",\"2020\",\"2020\",\"2020\",\"2020\",\"2020\",\"2020\",\"2020\",\"2020\",\"2020\",\"2020\",\"2020\",\"2020\",\"2020\",\"2020\",\"2020\",\"2020\",\"2020\",\"2020\",\"2020\",\"2020\",\"2020\",\"2020\",\"2020\",\"2020\",\"2020\",\"2020\",\"2020\",\"2020\",\"2020\",\"2020\",\"2020\",\"2020\",\"2020\",\"2020\",\"2020\",\"2020\",\"2020\",\"2020\",\"2020\",\"2020\",\"2020\",\"2020\",\"2020\",\"2020\",\"2020\",\"2020\",\"2021\",\"2021\",\"2021\",\"2021\",\"2021\",\"2021\",\"2021\",\"2021\",\"2021\",\"2021\",\"2021\",\"2021\",\"2021\",\"2021\",\"2021\",\"2021\",\"2021\",\"2021\",\"2021\",\"2021\",\"2021\",\"2021\",\"2021\",\"2021\",\"2021\",\"2021\",\"2021\",\"2021\",\"2021\",\"2021\",\"2021\",\"2021\",\"2021\",\"2021\",\"2021\",\"2021\",\"2021\",\"2021\",\"2021\",\"2021\",\"2021\",\"2021\",\"2021\",\"2021\",\"2021\",\"2021\",\"2021\",\"2021\",\"2021\",\"2021\",\"2021\",\"2021\",\"2021\",\"2021\",\"2021\",\"2021\",\"2021\",\"2021\",\"2021\"],\"yaxis\":\"y\",\"type\":\"histogram\",\"opacity\":0.6},{\"alignmentgroup\":\"True\",\"bingroup\":\"y\",\"histfunc\":\"avg\",\"hovertemplate\":\"CWE-NAME=Unintended Proxy or Intermediary ('Confused Deputy')<br>avg of CVSS-V2=%{x}<br>Year=%{y}<extra></extra>\",\"legendgroup\":\"Unintended Proxy or Intermediary ('Confused Deputy')\",\"marker\":{\"color\":\"#00cc96\",\"pattern\":{\"shape\":\"\"},\"line\":{\"color\":\"rgb(8,48,107)\",\"width\":1.5}},\"name\":\"Unintended Proxy or Intermediary ('Confused Deputy')\",\"offsetgroup\":\"Unintended Proxy or Intermediary ('Confused Deputy')\",\"orientation\":\"h\",\"showlegend\":true,\"texttemplate\":\"%{value:.2s}\",\"x\":[6.4,4.6,4.3,4.9,5.0,6.4],\"xaxis\":\"x\",\"y\":[\"2015\",\"2018\",\"2018\",\"2018\",\"2019\",\"2020\"],\"yaxis\":\"y\",\"type\":\"histogram\",\"opacity\":0.6},{\"alignmentgroup\":\"True\",\"bingroup\":\"y\",\"histfunc\":\"avg\",\"hovertemplate\":\"CWE-NAME=Missing Cryptographic Step<br>avg of CVSS-V2=%{x}<br>Year=%{y}<extra></extra>\",\"legendgroup\":\"Missing Cryptographic Step\",\"marker\":{\"color\":\"#ab63fa\",\"pattern\":{\"shape\":\"\"},\"line\":{\"color\":\"rgb(8,48,107)\",\"width\":1.5}},\"name\":\"Missing Cryptographic Step\",\"offsetgroup\":\"Missing Cryptographic Step\",\"orientation\":\"h\",\"showlegend\":true,\"texttemplate\":\"%{value:.2s}\",\"x\":[4.3],\"xaxis\":\"x\",\"y\":[\"2019\"],\"yaxis\":\"y\",\"type\":\"histogram\",\"opacity\":0.6},{\"alignmentgroup\":\"True\",\"bingroup\":\"y\",\"histfunc\":\"avg\",\"hovertemplate\":\"CWE-NAME=Expected Behavior Violation<br>avg of CVSS-V2=%{x}<br>Year=%{y}<extra></extra>\",\"legendgroup\":\"Expected Behavior Violation\",\"marker\":{\"color\":\"#FFA15A\",\"pattern\":{\"shape\":\"\"},\"line\":{\"color\":\"rgb(8,48,107)\",\"width\":1.5}},\"name\":\"Expected Behavior Violation\",\"offsetgroup\":\"Expected Behavior Violation\",\"orientation\":\"h\",\"showlegend\":true,\"texttemplate\":\"%{value:.2s}\",\"x\":[6.4],\"xaxis\":\"x\",\"y\":[\"2019\"],\"yaxis\":\"y\",\"type\":\"histogram\",\"opacity\":0.6},{\"alignmentgroup\":\"True\",\"bingroup\":\"y\",\"histfunc\":\"avg\",\"hovertemplate\":\"CWE-NAME=Missing Protection Against Hardware Reverse Engineering Using Integrated Circuit (IC) Imaging Techniques<br>avg of CVSS-V2=%{x}<br>Year=%{y}<extra></extra>\",\"legendgroup\":\"Missing Protection Against Hardware Reverse Engineering Using Integrated Circuit (IC) Imaging Techniques\",\"marker\":{\"color\":\"#19d3f3\",\"pattern\":{\"shape\":\"\"},\"line\":{\"color\":\"rgb(8,48,107)\",\"width\":1.5}},\"name\":\"Missing Protection Against Hardware Reverse Engineering Using Integrated Circuit (IC) Imaging Techniques\",\"offsetgroup\":\"Missing Protection Against Hardware Reverse Engineering Using Integrated Circuit (IC) Imaging Techniques\",\"orientation\":\"h\",\"showlegend\":true,\"texttemplate\":\"%{value:.2s}\",\"x\":[6.9],\"xaxis\":\"x\",\"y\":[\"2021\"],\"yaxis\":\"y\",\"type\":\"histogram\",\"opacity\":0.6}],                        {\"template\":{\"data\":{\"histogram2dcontour\":[{\"type\":\"histogram2dcontour\",\"colorbar\":{\"outlinewidth\":0,\"ticks\":\"\"},\"colorscale\":[[0.0,\"#0d0887\"],[0.1111111111111111,\"#46039f\"],[0.2222222222222222,\"#7201a8\"],[0.3333333333333333,\"#9c179e\"],[0.4444444444444444,\"#bd3786\"],[0.5555555555555556,\"#d8576b\"],[0.6666666666666666,\"#ed7953\"],[0.7777777777777778,\"#fb9f3a\"],[0.8888888888888888,\"#fdca26\"],[1.0,\"#f0f921\"]]}],\"choropleth\":[{\"type\":\"choropleth\",\"colorbar\":{\"outlinewidth\":0,\"ticks\":\"\"}}],\"histogram2d\":[{\"type\":\"histogram2d\",\"colorbar\":{\"outlinewidth\":0,\"ticks\":\"\"},\"colorscale\":[[0.0,\"#0d0887\"],[0.1111111111111111,\"#46039f\"],[0.2222222222222222,\"#7201a8\"],[0.3333333333333333,\"#9c179e\"],[0.4444444444444444,\"#bd3786\"],[0.5555555555555556,\"#d8576b\"],[0.6666666666666666,\"#ed7953\"],[0.7777777777777778,\"#fb9f3a\"],[0.8888888888888888,\"#fdca26\"],[1.0,\"#f0f921\"]]}],\"heatmap\":[{\"type\":\"heatmap\",\"colorbar\":{\"outlinewidth\":0,\"ticks\":\"\"},\"colorscale\":[[0.0,\"#0d0887\"],[0.1111111111111111,\"#46039f\"],[0.2222222222222222,\"#7201a8\"],[0.3333333333333333,\"#9c179e\"],[0.4444444444444444,\"#bd3786\"],[0.5555555555555556,\"#d8576b\"],[0.6666666666666666,\"#ed7953\"],[0.7777777777777778,\"#fb9f3a\"],[0.8888888888888888,\"#fdca26\"],[1.0,\"#f0f921\"]]}],\"heatmapgl\":[{\"type\":\"heatmapgl\",\"colorbar\":{\"outlinewidth\":0,\"ticks\":\"\"},\"colorscale\":[[0.0,\"#0d0887\"],[0.1111111111111111,\"#46039f\"],[0.2222222222222222,\"#7201a8\"],[0.3333333333333333,\"#9c179e\"],[0.4444444444444444,\"#bd3786\"],[0.5555555555555556,\"#d8576b\"],[0.6666666666666666,\"#ed7953\"],[0.7777777777777778,\"#fb9f3a\"],[0.8888888888888888,\"#fdca26\"],[1.0,\"#f0f921\"]]}],\"contourcarpet\":[{\"type\":\"contourcarpet\",\"colorbar\":{\"outlinewidth\":0,\"ticks\":\"\"}}],\"contour\":[{\"type\":\"contour\",\"colorbar\":{\"outlinewidth\":0,\"ticks\":\"\"},\"colorscale\":[[0.0,\"#0d0887\"],[0.1111111111111111,\"#46039f\"],[0.2222222222222222,\"#7201a8\"],[0.3333333333333333,\"#9c179e\"],[0.4444444444444444,\"#bd3786\"],[0.5555555555555556,\"#d8576b\"],[0.6666666666666666,\"#ed7953\"],[0.7777777777777778,\"#fb9f3a\"],[0.8888888888888888,\"#fdca26\"],[1.0,\"#f0f921\"]]}],\"surface\":[{\"type\":\"surface\",\"colorbar\":{\"outlinewidth\":0,\"ticks\":\"\"},\"colorscale\":[[0.0,\"#0d0887\"],[0.1111111111111111,\"#46039f\"],[0.2222222222222222,\"#7201a8\"],[0.3333333333333333,\"#9c179e\"],[0.4444444444444444,\"#bd3786\"],[0.5555555555555556,\"#d8576b\"],[0.6666666666666666,\"#ed7953\"],[0.7777777777777778,\"#fb9f3a\"],[0.8888888888888888,\"#fdca26\"],[1.0,\"#f0f921\"]]}],\"mesh3d\":[{\"type\":\"mesh3d\",\"colorbar\":{\"outlinewidth\":0,\"ticks\":\"\"}}],\"scatter\":[{\"fillpattern\":{\"fillmode\":\"overlay\",\"size\":10,\"solidity\":0.2},\"type\":\"scatter\"}],\"parcoords\":[{\"type\":\"parcoords\",\"line\":{\"colorbar\":{\"outlinewidth\":0,\"ticks\":\"\"}}}],\"scatterpolargl\":[{\"type\":\"scatterpolargl\",\"marker\":{\"colorbar\":{\"outlinewidth\":0,\"ticks\":\"\"}}}],\"bar\":[{\"error_x\":{\"color\":\"#2a3f5f\"},\"error_y\":{\"color\":\"#2a3f5f\"},\"marker\":{\"line\":{\"color\":\"#E5ECF6\",\"width\":0.5},\"pattern\":{\"fillmode\":\"overlay\",\"size\":10,\"solidity\":0.2}},\"type\":\"bar\"}],\"scattergeo\":[{\"type\":\"scattergeo\",\"marker\":{\"colorbar\":{\"outlinewidth\":0,\"ticks\":\"\"}}}],\"scatterpolar\":[{\"type\":\"scatterpolar\",\"marker\":{\"colorbar\":{\"outlinewidth\":0,\"ticks\":\"\"}}}],\"histogram\":[{\"marker\":{\"pattern\":{\"fillmode\":\"overlay\",\"size\":10,\"solidity\":0.2}},\"type\":\"histogram\"}],\"scattergl\":[{\"type\":\"scattergl\",\"marker\":{\"colorbar\":{\"outlinewidth\":0,\"ticks\":\"\"}}}],\"scatter3d\":[{\"type\":\"scatter3d\",\"line\":{\"colorbar\":{\"outlinewidth\":0,\"ticks\":\"\"}},\"marker\":{\"colorbar\":{\"outlinewidth\":0,\"ticks\":\"\"}}}],\"scattermapbox\":[{\"type\":\"scattermapbox\",\"marker\":{\"colorbar\":{\"outlinewidth\":0,\"ticks\":\"\"}}}],\"scatterternary\":[{\"type\":\"scatterternary\",\"marker\":{\"colorbar\":{\"outlinewidth\":0,\"ticks\":\"\"}}}],\"scattercarpet\":[{\"type\":\"scattercarpet\",\"marker\":{\"colorbar\":{\"outlinewidth\":0,\"ticks\":\"\"}}}],\"carpet\":[{\"aaxis\":{\"endlinecolor\":\"#2a3f5f\",\"gridcolor\":\"white\",\"linecolor\":\"white\",\"minorgridcolor\":\"white\",\"startlinecolor\":\"#2a3f5f\"},\"baxis\":{\"endlinecolor\":\"#2a3f5f\",\"gridcolor\":\"white\",\"linecolor\":\"white\",\"minorgridcolor\":\"white\",\"startlinecolor\":\"#2a3f5f\"},\"type\":\"carpet\"}],\"table\":[{\"cells\":{\"fill\":{\"color\":\"#EBF0F8\"},\"line\":{\"color\":\"white\"}},\"header\":{\"fill\":{\"color\":\"#C8D4E3\"},\"line\":{\"color\":\"white\"}},\"type\":\"table\"}],\"barpolar\":[{\"marker\":{\"line\":{\"color\":\"#E5ECF6\",\"width\":0.5},\"pattern\":{\"fillmode\":\"overlay\",\"size\":10,\"solidity\":0.2}},\"type\":\"barpolar\"}],\"pie\":[{\"automargin\":true,\"type\":\"pie\"}]},\"layout\":{\"autotypenumbers\":\"strict\",\"colorway\":[\"#636efa\",\"#EF553B\",\"#00cc96\",\"#ab63fa\",\"#FFA15A\",\"#19d3f3\",\"#FF6692\",\"#B6E880\",\"#FF97FF\",\"#FECB52\"],\"font\":{\"color\":\"#2a3f5f\"},\"hovermode\":\"closest\",\"hoverlabel\":{\"align\":\"left\"},\"paper_bgcolor\":\"white\",\"plot_bgcolor\":\"#E5ECF6\",\"polar\":{\"bgcolor\":\"#E5ECF6\",\"angularaxis\":{\"gridcolor\":\"white\",\"linecolor\":\"white\",\"ticks\":\"\"},\"radialaxis\":{\"gridcolor\":\"white\",\"linecolor\":\"white\",\"ticks\":\"\"}},\"ternary\":{\"bgcolor\":\"#E5ECF6\",\"aaxis\":{\"gridcolor\":\"white\",\"linecolor\":\"white\",\"ticks\":\"\"},\"baxis\":{\"gridcolor\":\"white\",\"linecolor\":\"white\",\"ticks\":\"\"},\"caxis\":{\"gridcolor\":\"white\",\"linecolor\":\"white\",\"ticks\":\"\"}},\"coloraxis\":{\"colorbar\":{\"outlinewidth\":0,\"ticks\":\"\"}},\"colorscale\":{\"sequential\":[[0.0,\"#0d0887\"],[0.1111111111111111,\"#46039f\"],[0.2222222222222222,\"#7201a8\"],[0.3333333333333333,\"#9c179e\"],[0.4444444444444444,\"#bd3786\"],[0.5555555555555556,\"#d8576b\"],[0.6666666666666666,\"#ed7953\"],[0.7777777777777778,\"#fb9f3a\"],[0.8888888888888888,\"#fdca26\"],[1.0,\"#f0f921\"]],\"sequentialminus\":[[0.0,\"#0d0887\"],[0.1111111111111111,\"#46039f\"],[0.2222222222222222,\"#7201a8\"],[0.3333333333333333,\"#9c179e\"],[0.4444444444444444,\"#bd3786\"],[0.5555555555555556,\"#d8576b\"],[0.6666666666666666,\"#ed7953\"],[0.7777777777777778,\"#fb9f3a\"],[0.8888888888888888,\"#fdca26\"],[1.0,\"#f0f921\"]],\"diverging\":[[0,\"#8e0152\"],[0.1,\"#c51b7d\"],[0.2,\"#de77ae\"],[0.3,\"#f1b6da\"],[0.4,\"#fde0ef\"],[0.5,\"#f7f7f7\"],[0.6,\"#e6f5d0\"],[0.7,\"#b8e186\"],[0.8,\"#7fbc41\"],[0.9,\"#4d9221\"],[1,\"#276419\"]]},\"xaxis\":{\"gridcolor\":\"white\",\"linecolor\":\"white\",\"ticks\":\"\",\"title\":{\"standoff\":15},\"zerolinecolor\":\"white\",\"automargin\":true,\"zerolinewidth\":2},\"yaxis\":{\"gridcolor\":\"white\",\"linecolor\":\"white\",\"ticks\":\"\",\"title\":{\"standoff\":15},\"zerolinecolor\":\"white\",\"automargin\":true,\"zerolinewidth\":2},\"scene\":{\"xaxis\":{\"backgroundcolor\":\"#E5ECF6\",\"gridcolor\":\"white\",\"linecolor\":\"white\",\"showbackground\":true,\"ticks\":\"\",\"zerolinecolor\":\"white\",\"gridwidth\":2},\"yaxis\":{\"backgroundcolor\":\"#E5ECF6\",\"gridcolor\":\"white\",\"linecolor\":\"white\",\"showbackground\":true,\"ticks\":\"\",\"zerolinecolor\":\"white\",\"gridwidth\":2},\"zaxis\":{\"backgroundcolor\":\"#E5ECF6\",\"gridcolor\":\"white\",\"linecolor\":\"white\",\"showbackground\":true,\"ticks\":\"\",\"zerolinecolor\":\"white\",\"gridwidth\":2}},\"shapedefaults\":{\"line\":{\"color\":\"#2a3f5f\"}},\"annotationdefaults\":{\"arrowcolor\":\"#2a3f5f\",\"arrowhead\":0,\"arrowwidth\":1},\"geo\":{\"bgcolor\":\"white\",\"landcolor\":\"#E5ECF6\",\"subunitcolor\":\"white\",\"showland\":true,\"showlakes\":true,\"lakecolor\":\"white\"},\"title\":{\"x\":0.05},\"mapbox\":{\"style\":\"light\"}}},\"xaxis\":{\"anchor\":\"y\",\"domain\":[0.0,1.0],\"title\":{\"text\":\"avg of CVSS-V2\"}},\"yaxis\":{\"anchor\":\"x\",\"domain\":[0.0,1.0],\"title\":{\"text\":\"Year\"}},\"legend\":{\"title\":{\"text\":\"CWE-NAME\"},\"tracegroupgap\":0},\"title\":{\"text\":\"Hardware Design- Average CVSS-V2 Score by CWE NAME and Year\"},\"barmode\":\"relative\",\"height\":700,\"width\":1500},                        {\"responsive\": true}                    ).then(function(){\n",
       "                            \n",
       "var gd = document.getElementById('aaaccc60-4dbd-4f08-9b5c-7645f75195fc');\n",
       "var x = new MutationObserver(function (mutations, observer) {{\n",
       "        var display = window.getComputedStyle(gd).display;\n",
       "        if (!display || display === 'none') {{\n",
       "            console.log([gd, 'removed!']);\n",
       "            Plotly.purge(gd);\n",
       "            observer.disconnect();\n",
       "        }}\n",
       "}});\n",
       "\n",
       "// Listen for the removal of the full notebook cells\n",
       "var notebookContainer = gd.closest('#notebook-container');\n",
       "if (notebookContainer) {{\n",
       "    x.observe(notebookContainer, {childList: true});\n",
       "}}\n",
       "\n",
       "// Listen for the clearing of the current output cell\n",
       "var outputEl = gd.closest('.output');\n",
       "if (outputEl) {{\n",
       "    x.observe(outputEl, {childList: true});\n",
       "}}\n",
       "\n",
       "                        })                };                });            </script>        </div>"
      ]
     },
     "metadata": {},
     "output_type": "display_data"
    }
   ],
   "source": [
    "import plotly.express as px\n",
    "\n",
    "fig = px.histogram(dataHD, x=\"CVSS-V2\", histfunc='avg',y=\"Year\",color=\"CWE-NAME\",orientation='h', height=700,width=1500,text_auto='.2s',title=\"Hardware Design- Average CVSS-V2 Score by CWE NAME and Year\")\n",
    "fig.update_traces( marker_line_color='rgb(8,48,107)',\n",
    "                  marker_line_width=1.5, opacity=0.6)\n",
    "fig.show()"
   ]
  },
  {
   "cell_type": "code",
   "execution_count": 30,
   "metadata": {
    "_kg_hide-input": true,
    "execution": {
     "iopub.execute_input": "2022-01-24T20:32:55.213538Z",
     "iopub.status.busy": "2022-01-24T20:32:55.212878Z",
     "iopub.status.idle": "2022-01-24T20:33:03.070124Z",
     "shell.execute_reply": "2022-01-24T20:33:03.069619Z",
     "shell.execute_reply.started": "2022-01-24T19:11:11.950963Z"
    },
    "papermill": {
     "duration": 7.944572,
     "end_time": "2022-01-24T20:33:03.070300",
     "exception": false,
     "start_time": "2022-01-24T20:32:55.125728",
     "status": "completed"
    },
    "tags": []
   },
   "outputs": [],
   "source": [
    "dataSD=pd.read_excel(\"./Software Development/SD_Vulnerability_Dataset.xlsx\",engine='openpyxl')"
   ]
  },
  {
   "cell_type": "code",
   "execution_count": 31,
   "metadata": {
    "_kg_hide-input": true,
    "execution": {
     "iopub.execute_input": "2022-01-24T20:33:03.243746Z",
     "iopub.status.busy": "2022-01-24T20:33:03.243035Z",
     "iopub.status.idle": "2022-01-24T20:33:03.552825Z",
     "shell.execute_reply": "2022-01-24T20:33:03.553381Z",
     "shell.execute_reply.started": "2022-01-24T19:11:34.898Z"
    },
    "papermill": {
     "duration": 0.397296,
     "end_time": "2022-01-24T20:33:03.553559",
     "exception": false,
     "start_time": "2022-01-24T20:33:03.156263",
     "status": "completed"
    },
    "tags": []
   },
   "outputs": [],
   "source": [
    "year_list=[]\n",
    "for i in range(0,len(dataSD[\"CVE-ID\"])):\n",
    "    a=dataSD[\"CVE-ID\"][i].split(\"-\")[1]\n",
    "    year_list.append(a)\n",
    "\n",
    "dataSD.insert(loc=2, column='Year', value=year_list)"
   ]
  },
  {
   "cell_type": "code",
   "execution_count": 32,
   "metadata": {
    "_kg_hide-input": true,
    "execution": {
     "iopub.execute_input": "2022-01-24T20:33:03.724582Z",
     "iopub.status.busy": "2022-01-24T20:33:03.723577Z",
     "iopub.status.idle": "2022-01-24T20:33:03.818321Z",
     "shell.execute_reply": "2022-01-24T20:33:03.817769Z",
     "shell.execute_reply.started": "2022-01-24T19:11:50.013977Z"
    },
    "papermill": {
     "duration": 0.181045,
     "end_time": "2022-01-24T20:33:03.818485",
     "exception": false,
     "start_time": "2022-01-24T20:33:03.637440",
     "status": "completed"
    },
    "tags": []
   },
   "outputs": [],
   "source": [
    "dfs2014=dataSD[dataSD.Year==\"2014\"][\"CWE-NAME\"].value_counts().to_frame().reset_index()[0:20]\n",
    "dfs2015=dataSD[dataSD.Year==\"2015\"][\"CWE-NAME\"].value_counts().to_frame().reset_index()[0:20]\n",
    "dfs2016=dataSD[dataSD.Year==\"2016\"][\"CWE-NAME\"].value_counts().to_frame().reset_index()[0:20]\n",
    "dfs2017=dataSD[dataSD.Year==\"2017\"][\"CWE-NAME\"].value_counts().to_frame().reset_index()[0:20]\n",
    "dfs2018=dataSD[dataSD.Year==\"2018\"][\"CWE-NAME\"].value_counts().to_frame().reset_index()[0:20]\n",
    "dfs2019=dataSD[dataSD.Year==\"2019\"][\"CWE-NAME\"].value_counts().to_frame().reset_index()[0:20]\n",
    "dfs2020=dataSD[dataSD.Year==\"2020\"][\"CWE-NAME\"].value_counts().to_frame().reset_index()[0:20]\n",
    "dfs2021=dataSD[dataSD.Year==\"2021\"][\"CWE-NAME\"].value_counts().to_frame().reset_index()[0:20]\n"
   ]
  },
  {
   "cell_type": "code",
   "execution_count": 33,
   "metadata": {
    "_kg_hide-input": true,
    "execution": {
     "iopub.execute_input": "2022-01-24T20:33:04.183623Z",
     "iopub.status.busy": "2022-01-24T20:33:04.171684Z",
     "iopub.status.idle": "2022-01-24T20:33:04.227494Z",
     "shell.execute_reply": "2022-01-24T20:33:04.228211Z",
     "shell.execute_reply.started": "2022-01-24T19:25:34.924281Z"
    },
    "papermill": {
     "duration": 0.154801,
     "end_time": "2022-01-24T20:33:04.228440",
     "exception": false,
     "start_time": "2022-01-24T20:33:04.073639",
     "status": "completed"
    },
    "tags": []
   },
   "outputs": [
    {
     "data": {
      "application/vnd.plotly.v1+json": {
       "config": {
        "plotlyServerURL": "https://plot.ly"
       },
       "data": [
        {
         "domain": {
          "x": [
           0,
           0.2125
          ],
          "y": [
           0.625,
           1
          ]
         },
         "hoverinfo": "label+percent",
         "labels": [
          "Improper Neutralization of Input During Web Page Generation ('Cross-site Scripting')",
          "Improper Neutralization of Special Elements used in an SQL Command ('SQL Injection')",
          "Improper Control of Generation of Code ('Code Injection')",
          "Improper Link Resolution Before File Access ('Link Following')",
          "Improper Neutralization of Special Elements used in an OS Command ('OS Command Injection')",
          "Out-of-bounds Write",
          "Out-of-bounds Read",
          "Integer Overflow or Wraparound",
          "NULL Pointer Dereference",
          "Improper Restriction of XML External Entity Reference",
          "Improper Certificate Validation",
          "Unrestricted Upload of File with Dangerous Type",
          "Buffer Copy without Checking Size of Input ('Classic Buffer Overflow')",
          "Use of Hard-coded Credentials",
          "Improper Validation of Array Index",
          "Incorrect Default Permissions",
          "Use of Externally-Controlled Format String",
          "Deserialization of Untrusted Data",
          "Integer Underflow (Wrap or Wraparound)",
          "Improper Neutralization of CRLF Sequences ('CRLF Injection')"
         ],
         "marker": {
          "line": {
           "color": "#000000",
           "width": 2
          }
         },
         "name": "2014",
         "textfont": {
          "size": 15
         },
         "textinfo": "value",
         "textposition": "inside",
         "type": "pie",
         "values": [
          1013,
          288,
          161,
          49,
          47,
          28,
          27,
          21,
          21,
          17,
          15,
          13,
          11,
          9,
          6,
          6,
          6,
          5,
          4,
          3
         ]
        },
        {
         "domain": {
          "x": [
           0.2625,
           0.475
          ],
          "y": [
           0.625,
           1
          ]
         },
         "hoverinfo": "label+percent",
         "labels": [
          "Improper Neutralization of Input During Web Page Generation ('Cross-site Scripting')",
          "Improper Neutralization of Special Elements used in an SQL Command ('SQL Injection')",
          "NULL Pointer Dereference",
          "Improper Control of Generation of Code ('Code Injection')",
          "Improper Neutralization of Special Elements used in an OS Command ('OS Command Injection')",
          "Improper Link Resolution Before File Access ('Link Following')",
          "Integer Overflow or Wraparound",
          "Out-of-bounds Write",
          "Out-of-bounds Read",
          "Unrestricted Upload of File with Dangerous Type",
          "Improper Certificate Validation",
          "URL Redirection to Untrusted Site ('Open Redirect')",
          "Buffer Copy without Checking Size of Input ('Classic Buffer Overflow')",
          "Improper Restriction of XML External Entity Reference",
          "Use of Hard-coded Credentials",
          "Missing Release of Resource after Effective Lifetime",
          "Loop with Unreachable Exit Condition ('Infinite Loop')",
          "Use of Externally-Controlled Format String",
          "Untrusted Search Path",
          "Integer Underflow (Wrap or Wraparound)"
         ],
         "marker": {
          "line": {
           "color": "#000000",
           "width": 2
          }
         },
         "name": "2015",
         "textfont": {
          "size": 15
         },
         "textinfo": "value",
         "textposition": "inside",
         "type": "pie",
         "values": [
          941,
          271,
          60,
          60,
          47,
          38,
          38,
          35,
          33,
          31,
          29,
          18,
          18,
          17,
          10,
          10,
          10,
          7,
          6,
          6
         ]
        },
        {
         "domain": {
          "x": [
           0.525,
           0.7375
          ],
          "y": [
           0.625,
           1
          ]
         },
         "hoverinfo": "label+percent",
         "labels": [
          "Improper Neutralization of Input During Web Page Generation ('Cross-site Scripting')",
          "Out-of-bounds Read",
          "Improper Neutralization of Special Elements used in an SQL Command ('SQL Injection')",
          "NULL Pointer Dereference",
          "Integer Overflow or Wraparound",
          "Out-of-bounds Write",
          "Improper Restriction of XML External Entity Reference",
          "Improper Certificate Validation",
          "URL Redirection to Untrusted Site ('Open Redirect')",
          "Deserialization of Untrusted Data",
          "Use of Hard-coded Credentials",
          "Improper Neutralization of Special Elements used in an OS Command ('OS Command Injection')",
          "Improper Control of Generation of Code ('Code Injection')",
          "Unrestricted Upload of File with Dangerous Type",
          "Divide By Zero",
          "Untrusted Search Path",
          "Insertion of Sensitive Information into Log File",
          "Improper Link Resolution Before File Access ('Link Following')",
          "Missing Release of Resource after Effective Lifetime",
          "Buffer Copy without Checking Size of Input ('Classic Buffer Overflow')"
         ],
         "marker": {
          "line": {
           "color": "#000000",
           "width": 2
          }
         },
         "name": "2016",
         "textfont": {
          "size": 15
         },
         "textinfo": "value",
         "textposition": "inside",
         "type": "pie",
         "values": [
          814,
          200,
          170,
          146,
          129,
          95,
          52,
          43,
          41,
          41,
          40,
          39,
          38,
          29,
          22,
          21,
          16,
          15,
          11,
          9
         ]
        },
        {
         "domain": {
          "x": [
           0.7875,
           1
          ],
          "y": [
           0.625,
           1
          ]
         },
         "hoverinfo": "label+percent",
         "labels": [
          "Improper Neutralization of Input During Web Page Generation ('Cross-site Scripting')",
          "Out-of-bounds Read",
          "Improper Neutralization of Special Elements used in an SQL Command ('SQL Injection')",
          "NULL Pointer Dereference",
          "Out-of-bounds Write",
          "Integer Overflow or Wraparound",
          "Missing Release of Resource after Effective Lifetime",
          "Improper Neutralization of Special Elements used in an OS Command ('OS Command Injection')",
          "Improper Certificate Validation",
          "Untrusted Search Path",
          "Loop with Unreachable Exit Condition ('Infinite Loop')",
          "Use of Hard-coded Credentials",
          "Improper Restriction of XML External Entity Reference",
          "Deserialization of Untrusted Data",
          "URL Redirection to Untrusted Site ('Open Redirect')",
          "Unrestricted Upload of File with Dangerous Type",
          "Improper Control of Generation of Code ('Code Injection')",
          "Allocation of Resources Without Limits or Throttling",
          "Reachable Assertion",
          "Buffer Copy without Checking Size of Input ('Classic Buffer Overflow')"
         ],
         "marker": {
          "line": {
           "color": "#000000",
           "width": 2
          }
         },
         "name": "2017",
         "textfont": {
          "size": 15
         },
         "textinfo": "value",
         "textposition": "inside",
         "type": "pie",
         "values": [
          1480,
          696,
          489,
          307,
          278,
          219,
          204,
          177,
          160,
          131,
          117,
          102,
          92,
          87,
          87,
          86,
          82,
          49,
          47,
          45
         ]
        },
        {
         "domain": {
          "x": [
           0,
           0.2125
          ],
          "y": [
           0,
           0.375
          ]
         },
         "hoverinfo": "label+percent",
         "labels": [
          "Improper Neutralization of Input During Web Page Generation ('Cross-site Scripting')",
          "Out-of-bounds Write",
          "Out-of-bounds Read",
          "Integer Overflow or Wraparound",
          "Improper Neutralization of Special Elements used in an SQL Command ('SQL Injection')",
          "Improper Neutralization of Special Elements used in an OS Command ('OS Command Injection')",
          "NULL Pointer Dereference",
          "Improper Restriction of XML External Entity Reference",
          "Unrestricted Upload of File with Dangerous Type",
          "Improper Control of Generation of Code ('Code Injection')",
          "Use of Hard-coded Credentials",
          "Deserialization of Untrusted Data",
          "Improper Certificate Validation",
          "Loop with Unreachable Exit Condition ('Infinite Loop')",
          "Missing Release of Resource after Effective Lifetime",
          "Untrusted Search Path",
          "URL Redirection to Untrusted Site ('Open Redirect')",
          "Insertion of Sensitive Information into Log File",
          "Buffer Copy without Checking Size of Input ('Classic Buffer Overflow')",
          "Missing Authentication for Critical Function"
         ],
         "marker": {
          "line": {
           "color": "#000000",
           "width": 2
          }
         },
         "name": "2018",
         "textfont": {
          "size": 15
         },
         "textinfo": "value",
         "textposition": "inside",
         "type": "pie",
         "values": [
          2083,
          918,
          816,
          659,
          501,
          381,
          278,
          178,
          169,
          153,
          130,
          103,
          95,
          95,
          88,
          84,
          79,
          63,
          47,
          44
         ]
        },
        {
         "domain": {
          "x": [
           0.2625,
           0.475
          ],
          "y": [
           0,
           0.375
          ]
         },
         "hoverinfo": "label+percent",
         "labels": [
          "Improper Neutralization of Input During Web Page Generation ('Cross-site Scripting')",
          "Out-of-bounds Write",
          "Out-of-bounds Read",
          "Improper Neutralization of Special Elements used in an SQL Command ('SQL Injection')",
          "Improper Neutralization of Special Elements used in an OS Command ('OS Command Injection')",
          "NULL Pointer Dereference",
          "Missing Authentication for Critical Function",
          "Integer Overflow or Wraparound",
          "Unrestricted Upload of File with Dangerous Type",
          "Buffer Copy without Checking Size of Input ('Classic Buffer Overflow')",
          "Deserialization of Untrusted Data",
          "Use of Hard-coded Credentials",
          "Improper Restriction of XML External Entity Reference",
          "Cleartext Transmission of Sensitive Information",
          "Improper Control of Generation of Code ('Code Injection')",
          "Insertion of Sensitive Information into Log File",
          "Allocation of Resources Without Limits or Throttling",
          "URL Redirection to Untrusted Site ('Open Redirect')",
          "Incorrect Default Permissions",
          "Improper Link Resolution Before File Access ('Link Following')"
         ],
         "marker": {
          "line": {
           "color": "#000000",
           "width": 2
          }
         },
         "name": "2019",
         "textfont": {
          "size": 15
         },
         "textinfo": "value",
         "textposition": "inside",
         "type": "pie",
         "values": [
          1791,
          1404,
          817,
          417,
          402,
          254,
          215,
          210,
          179,
          173,
          124,
          123,
          114,
          113,
          109,
          102,
          97,
          97,
          96,
          94
         ]
        },
        {
         "domain": {
          "x": [
           0.525,
           0.7375
          ],
          "y": [
           0,
           0.375
          ]
         },
         "hoverinfo": "label+percent",
         "labels": [
          "Improper Neutralization of Input During Web Page Generation ('Cross-site Scripting')",
          "Out-of-bounds Write",
          "Out-of-bounds Read",
          "Improper Neutralization of Special Elements used in an SQL Command ('SQL Injection')",
          "Improper Neutralization of Special Elements used in an OS Command ('OS Command Injection')",
          "Buffer Copy without Checking Size of Input ('Classic Buffer Overflow')",
          "Unrestricted Upload of File with Dangerous Type",
          "Incorrect Default Permissions",
          "Missing Authentication for Critical Function",
          "NULL Pointer Dereference",
          "Integer Overflow or Wraparound",
          "Deserialization of Untrusted Data",
          "Use of Hard-coded Credentials",
          "Improper Certificate Validation",
          "Improper Restriction of XML External Entity Reference",
          "Cleartext Transmission of Sensitive Information",
          "Uncontrolled Search Path Element",
          "URL Redirection to Untrusted Site ('Open Redirect')",
          "Improper Control of Generation of Code ('Code Injection')",
          "Improper Link Resolution Before File Access ('Link Following')"
         ],
         "marker": {
          "line": {
           "color": "#000000",
           "width": 2
          }
         },
         "name": "2020",
         "textfont": {
          "size": 15
         },
         "textinfo": "value",
         "textposition": "inside",
         "type": "pie",
         "values": [
          2182,
          1403,
          730,
          573,
          447,
          326,
          258,
          223,
          215,
          203,
          195,
          168,
          167,
          125,
          113,
          110,
          109,
          99,
          94,
          90
         ]
        },
        {
         "domain": {
          "x": [
           0.7875,
           1
          ],
          "y": [
           0,
           0.375
          ]
         },
         "hoverinfo": "label+percent",
         "labels": [
          "Improper Neutralization of Input During Web Page Generation ('Cross-site Scripting')",
          "Out-of-bounds Write",
          "Improper Neutralization of Special Elements used in an SQL Command ('SQL Injection')",
          "Out-of-bounds Read",
          "Buffer Copy without Checking Size of Input ('Classic Buffer Overflow')",
          "NULL Pointer Dereference",
          "Improper Neutralization of Special Elements used in an OS Command ('OS Command Injection')",
          "Unrestricted Upload of File with Dangerous Type",
          "Integer Overflow or Wraparound",
          "Deserialization of Untrusted Data",
          "Improper Control of Generation of Code ('Code Injection')",
          "Incorrect Default Permissions",
          "Use of Hard-coded Credentials",
          "URL Redirection to Untrusted Site ('Open Redirect')",
          "Improper Restriction of XML External Entity Reference",
          "Improper Certificate Validation",
          "Cleartext Storage of Sensitive Information",
          "Uncontrolled Search Path Element",
          "Insertion of Sensitive Information into Log File",
          "Divide By Zero"
         ],
         "marker": {
          "line": {
           "color": "#000000",
           "width": 2
          }
         },
         "name": "2021",
         "textfont": {
          "size": 15
         },
         "textinfo": "value",
         "textposition": "inside",
         "type": "pie",
         "values": [
          2006,
          959,
          512,
          498,
          289,
          272,
          235,
          226,
          192,
          176,
          145,
          114,
          113,
          108,
          96,
          96,
          81,
          79,
          67,
          65
         ]
        }
       ],
       "layout": {
        "annotations": [
         {
          "font": {
           "size": 16
          },
          "showarrow": false,
          "text": "2014",
          "x": 0.10625,
          "xanchor": "center",
          "xref": "paper",
          "y": 1,
          "yanchor": "bottom",
          "yref": "paper"
         },
         {
          "font": {
           "size": 16
          },
          "showarrow": false,
          "text": "2015",
          "x": 0.36875,
          "xanchor": "center",
          "xref": "paper",
          "y": 1,
          "yanchor": "bottom",
          "yref": "paper"
         },
         {
          "font": {
           "size": 16
          },
          "showarrow": false,
          "text": "2016",
          "x": 0.6312500000000001,
          "xanchor": "center",
          "xref": "paper",
          "y": 1,
          "yanchor": "bottom",
          "yref": "paper"
         },
         {
          "font": {
           "size": 16
          },
          "showarrow": false,
          "text": "2017",
          "x": 0.89375,
          "xanchor": "center",
          "xref": "paper",
          "y": 1,
          "yanchor": "bottom",
          "yref": "paper"
         },
         {
          "font": {
           "size": 16
          },
          "showarrow": false,
          "text": "2018",
          "x": 0.10625,
          "xanchor": "center",
          "xref": "paper",
          "y": 0.375,
          "yanchor": "bottom",
          "yref": "paper"
         },
         {
          "font": {
           "size": 16
          },
          "showarrow": false,
          "text": "2019",
          "x": 0.36875,
          "xanchor": "center",
          "xref": "paper",
          "y": 0.375,
          "yanchor": "bottom",
          "yref": "paper"
         },
         {
          "font": {
           "size": 16
          },
          "showarrow": false,
          "text": "2020",
          "x": 0.6312500000000001,
          "xanchor": "center",
          "xref": "paper",
          "y": 0.375,
          "yanchor": "bottom",
          "yref": "paper"
         },
         {
          "font": {
           "size": 16
          },
          "showarrow": false,
          "text": "2021",
          "x": 0.89375,
          "xanchor": "center",
          "xref": "paper",
          "y": 0.375,
          "yanchor": "bottom",
          "yref": "paper"
         }
        ],
        "colorway": [
         "#17BECF",
         "#BCBD22",
         "#7F7F7F",
         "#E377C2",
         "#8C564B",
         "#9467BD",
         "#D62728",
         "#2CA02C",
         "#FF7F0E",
         "#1F77B4"
        ],
        "height": 800,
        "template": {
         "data": {
          "bar": [
           {
            "error_x": {
             "color": "#2a3f5f"
            },
            "error_y": {
             "color": "#2a3f5f"
            },
            "marker": {
             "line": {
              "color": "#E5ECF6",
              "width": 0.5
             },
             "pattern": {
              "fillmode": "overlay",
              "size": 10,
              "solidity": 0.2
             }
            },
            "type": "bar"
           }
          ],
          "barpolar": [
           {
            "marker": {
             "line": {
              "color": "#E5ECF6",
              "width": 0.5
             },
             "pattern": {
              "fillmode": "overlay",
              "size": 10,
              "solidity": 0.2
             }
            },
            "type": "barpolar"
           }
          ],
          "carpet": [
           {
            "aaxis": {
             "endlinecolor": "#2a3f5f",
             "gridcolor": "white",
             "linecolor": "white",
             "minorgridcolor": "white",
             "startlinecolor": "#2a3f5f"
            },
            "baxis": {
             "endlinecolor": "#2a3f5f",
             "gridcolor": "white",
             "linecolor": "white",
             "minorgridcolor": "white",
             "startlinecolor": "#2a3f5f"
            },
            "type": "carpet"
           }
          ],
          "choropleth": [
           {
            "colorbar": {
             "outlinewidth": 0,
             "ticks": ""
            },
            "type": "choropleth"
           }
          ],
          "contour": [
           {
            "colorbar": {
             "outlinewidth": 0,
             "ticks": ""
            },
            "colorscale": [
             [
              0,
              "#0d0887"
             ],
             [
              0.1111111111111111,
              "#46039f"
             ],
             [
              0.2222222222222222,
              "#7201a8"
             ],
             [
              0.3333333333333333,
              "#9c179e"
             ],
             [
              0.4444444444444444,
              "#bd3786"
             ],
             [
              0.5555555555555556,
              "#d8576b"
             ],
             [
              0.6666666666666666,
              "#ed7953"
             ],
             [
              0.7777777777777778,
              "#fb9f3a"
             ],
             [
              0.8888888888888888,
              "#fdca26"
             ],
             [
              1,
              "#f0f921"
             ]
            ],
            "type": "contour"
           }
          ],
          "contourcarpet": [
           {
            "colorbar": {
             "outlinewidth": 0,
             "ticks": ""
            },
            "type": "contourcarpet"
           }
          ],
          "heatmap": [
           {
            "colorbar": {
             "outlinewidth": 0,
             "ticks": ""
            },
            "colorscale": [
             [
              0,
              "#0d0887"
             ],
             [
              0.1111111111111111,
              "#46039f"
             ],
             [
              0.2222222222222222,
              "#7201a8"
             ],
             [
              0.3333333333333333,
              "#9c179e"
             ],
             [
              0.4444444444444444,
              "#bd3786"
             ],
             [
              0.5555555555555556,
              "#d8576b"
             ],
             [
              0.6666666666666666,
              "#ed7953"
             ],
             [
              0.7777777777777778,
              "#fb9f3a"
             ],
             [
              0.8888888888888888,
              "#fdca26"
             ],
             [
              1,
              "#f0f921"
             ]
            ],
            "type": "heatmap"
           }
          ],
          "heatmapgl": [
           {
            "colorbar": {
             "outlinewidth": 0,
             "ticks": ""
            },
            "colorscale": [
             [
              0,
              "#0d0887"
             ],
             [
              0.1111111111111111,
              "#46039f"
             ],
             [
              0.2222222222222222,
              "#7201a8"
             ],
             [
              0.3333333333333333,
              "#9c179e"
             ],
             [
              0.4444444444444444,
              "#bd3786"
             ],
             [
              0.5555555555555556,
              "#d8576b"
             ],
             [
              0.6666666666666666,
              "#ed7953"
             ],
             [
              0.7777777777777778,
              "#fb9f3a"
             ],
             [
              0.8888888888888888,
              "#fdca26"
             ],
             [
              1,
              "#f0f921"
             ]
            ],
            "type": "heatmapgl"
           }
          ],
          "histogram": [
           {
            "marker": {
             "pattern": {
              "fillmode": "overlay",
              "size": 10,
              "solidity": 0.2
             }
            },
            "type": "histogram"
           }
          ],
          "histogram2d": [
           {
            "colorbar": {
             "outlinewidth": 0,
             "ticks": ""
            },
            "colorscale": [
             [
              0,
              "#0d0887"
             ],
             [
              0.1111111111111111,
              "#46039f"
             ],
             [
              0.2222222222222222,
              "#7201a8"
             ],
             [
              0.3333333333333333,
              "#9c179e"
             ],
             [
              0.4444444444444444,
              "#bd3786"
             ],
             [
              0.5555555555555556,
              "#d8576b"
             ],
             [
              0.6666666666666666,
              "#ed7953"
             ],
             [
              0.7777777777777778,
              "#fb9f3a"
             ],
             [
              0.8888888888888888,
              "#fdca26"
             ],
             [
              1,
              "#f0f921"
             ]
            ],
            "type": "histogram2d"
           }
          ],
          "histogram2dcontour": [
           {
            "colorbar": {
             "outlinewidth": 0,
             "ticks": ""
            },
            "colorscale": [
             [
              0,
              "#0d0887"
             ],
             [
              0.1111111111111111,
              "#46039f"
             ],
             [
              0.2222222222222222,
              "#7201a8"
             ],
             [
              0.3333333333333333,
              "#9c179e"
             ],
             [
              0.4444444444444444,
              "#bd3786"
             ],
             [
              0.5555555555555556,
              "#d8576b"
             ],
             [
              0.6666666666666666,
              "#ed7953"
             ],
             [
              0.7777777777777778,
              "#fb9f3a"
             ],
             [
              0.8888888888888888,
              "#fdca26"
             ],
             [
              1,
              "#f0f921"
             ]
            ],
            "type": "histogram2dcontour"
           }
          ],
          "mesh3d": [
           {
            "colorbar": {
             "outlinewidth": 0,
             "ticks": ""
            },
            "type": "mesh3d"
           }
          ],
          "parcoords": [
           {
            "line": {
             "colorbar": {
              "outlinewidth": 0,
              "ticks": ""
             }
            },
            "type": "parcoords"
           }
          ],
          "pie": [
           {
            "automargin": true,
            "type": "pie"
           }
          ],
          "scatter": [
           {
            "fillpattern": {
             "fillmode": "overlay",
             "size": 10,
             "solidity": 0.2
            },
            "type": "scatter"
           }
          ],
          "scatter3d": [
           {
            "line": {
             "colorbar": {
              "outlinewidth": 0,
              "ticks": ""
             }
            },
            "marker": {
             "colorbar": {
              "outlinewidth": 0,
              "ticks": ""
             }
            },
            "type": "scatter3d"
           }
          ],
          "scattercarpet": [
           {
            "marker": {
             "colorbar": {
              "outlinewidth": 0,
              "ticks": ""
             }
            },
            "type": "scattercarpet"
           }
          ],
          "scattergeo": [
           {
            "marker": {
             "colorbar": {
              "outlinewidth": 0,
              "ticks": ""
             }
            },
            "type": "scattergeo"
           }
          ],
          "scattergl": [
           {
            "marker": {
             "colorbar": {
              "outlinewidth": 0,
              "ticks": ""
             }
            },
            "type": "scattergl"
           }
          ],
          "scattermapbox": [
           {
            "marker": {
             "colorbar": {
              "outlinewidth": 0,
              "ticks": ""
             }
            },
            "type": "scattermapbox"
           }
          ],
          "scatterpolar": [
           {
            "marker": {
             "colorbar": {
              "outlinewidth": 0,
              "ticks": ""
             }
            },
            "type": "scatterpolar"
           }
          ],
          "scatterpolargl": [
           {
            "marker": {
             "colorbar": {
              "outlinewidth": 0,
              "ticks": ""
             }
            },
            "type": "scatterpolargl"
           }
          ],
          "scatterternary": [
           {
            "marker": {
             "colorbar": {
              "outlinewidth": 0,
              "ticks": ""
             }
            },
            "type": "scatterternary"
           }
          ],
          "surface": [
           {
            "colorbar": {
             "outlinewidth": 0,
             "ticks": ""
            },
            "colorscale": [
             [
              0,
              "#0d0887"
             ],
             [
              0.1111111111111111,
              "#46039f"
             ],
             [
              0.2222222222222222,
              "#7201a8"
             ],
             [
              0.3333333333333333,
              "#9c179e"
             ],
             [
              0.4444444444444444,
              "#bd3786"
             ],
             [
              0.5555555555555556,
              "#d8576b"
             ],
             [
              0.6666666666666666,
              "#ed7953"
             ],
             [
              0.7777777777777778,
              "#fb9f3a"
             ],
             [
              0.8888888888888888,
              "#fdca26"
             ],
             [
              1,
              "#f0f921"
             ]
            ],
            "type": "surface"
           }
          ],
          "table": [
           {
            "cells": {
             "fill": {
              "color": "#EBF0F8"
             },
             "line": {
              "color": "white"
             }
            },
            "header": {
             "fill": {
              "color": "#C8D4E3"
             },
             "line": {
              "color": "white"
             }
            },
            "type": "table"
           }
          ]
         },
         "layout": {
          "annotationdefaults": {
           "arrowcolor": "#2a3f5f",
           "arrowhead": 0,
           "arrowwidth": 1
          },
          "autotypenumbers": "strict",
          "coloraxis": {
           "colorbar": {
            "outlinewidth": 0,
            "ticks": ""
           }
          },
          "colorscale": {
           "diverging": [
            [
             0,
             "#8e0152"
            ],
            [
             0.1,
             "#c51b7d"
            ],
            [
             0.2,
             "#de77ae"
            ],
            [
             0.3,
             "#f1b6da"
            ],
            [
             0.4,
             "#fde0ef"
            ],
            [
             0.5,
             "#f7f7f7"
            ],
            [
             0.6,
             "#e6f5d0"
            ],
            [
             0.7,
             "#b8e186"
            ],
            [
             0.8,
             "#7fbc41"
            ],
            [
             0.9,
             "#4d9221"
            ],
            [
             1,
             "#276419"
            ]
           ],
           "sequential": [
            [
             0,
             "#0d0887"
            ],
            [
             0.1111111111111111,
             "#46039f"
            ],
            [
             0.2222222222222222,
             "#7201a8"
            ],
            [
             0.3333333333333333,
             "#9c179e"
            ],
            [
             0.4444444444444444,
             "#bd3786"
            ],
            [
             0.5555555555555556,
             "#d8576b"
            ],
            [
             0.6666666666666666,
             "#ed7953"
            ],
            [
             0.7777777777777778,
             "#fb9f3a"
            ],
            [
             0.8888888888888888,
             "#fdca26"
            ],
            [
             1,
             "#f0f921"
            ]
           ],
           "sequentialminus": [
            [
             0,
             "#0d0887"
            ],
            [
             0.1111111111111111,
             "#46039f"
            ],
            [
             0.2222222222222222,
             "#7201a8"
            ],
            [
             0.3333333333333333,
             "#9c179e"
            ],
            [
             0.4444444444444444,
             "#bd3786"
            ],
            [
             0.5555555555555556,
             "#d8576b"
            ],
            [
             0.6666666666666666,
             "#ed7953"
            ],
            [
             0.7777777777777778,
             "#fb9f3a"
            ],
            [
             0.8888888888888888,
             "#fdca26"
            ],
            [
             1,
             "#f0f921"
            ]
           ]
          },
          "colorway": [
           "#636efa",
           "#EF553B",
           "#00cc96",
           "#ab63fa",
           "#FFA15A",
           "#19d3f3",
           "#FF6692",
           "#B6E880",
           "#FF97FF",
           "#FECB52"
          ],
          "font": {
           "color": "#2a3f5f"
          },
          "geo": {
           "bgcolor": "white",
           "lakecolor": "white",
           "landcolor": "#E5ECF6",
           "showlakes": true,
           "showland": true,
           "subunitcolor": "white"
          },
          "hoverlabel": {
           "align": "left"
          },
          "hovermode": "closest",
          "mapbox": {
           "style": "light"
          },
          "paper_bgcolor": "white",
          "plot_bgcolor": "#E5ECF6",
          "polar": {
           "angularaxis": {
            "gridcolor": "white",
            "linecolor": "white",
            "ticks": ""
           },
           "bgcolor": "#E5ECF6",
           "radialaxis": {
            "gridcolor": "white",
            "linecolor": "white",
            "ticks": ""
           }
          },
          "scene": {
           "xaxis": {
            "backgroundcolor": "#E5ECF6",
            "gridcolor": "white",
            "gridwidth": 2,
            "linecolor": "white",
            "showbackground": true,
            "ticks": "",
            "zerolinecolor": "white"
           },
           "yaxis": {
            "backgroundcolor": "#E5ECF6",
            "gridcolor": "white",
            "gridwidth": 2,
            "linecolor": "white",
            "showbackground": true,
            "ticks": "",
            "zerolinecolor": "white"
           },
           "zaxis": {
            "backgroundcolor": "#E5ECF6",
            "gridcolor": "white",
            "gridwidth": 2,
            "linecolor": "white",
            "showbackground": true,
            "ticks": "",
            "zerolinecolor": "white"
           }
          },
          "shapedefaults": {
           "line": {
            "color": "#2a3f5f"
           }
          },
          "ternary": {
           "aaxis": {
            "gridcolor": "white",
            "linecolor": "white",
            "ticks": ""
           },
           "baxis": {
            "gridcolor": "white",
            "linecolor": "white",
            "ticks": ""
           },
           "bgcolor": "#E5ECF6",
           "caxis": {
            "gridcolor": "white",
            "linecolor": "white",
            "ticks": ""
           }
          },
          "title": {
           "x": 0.05
          },
          "xaxis": {
           "automargin": true,
           "gridcolor": "white",
           "linecolor": "white",
           "ticks": "",
           "title": {
            "standoff": 15
           },
           "zerolinecolor": "white",
           "zerolinewidth": 2
          },
          "yaxis": {
           "automargin": true,
           "gridcolor": "white",
           "linecolor": "white",
           "ticks": "",
           "title": {
            "standoff": 15
           },
           "zerolinecolor": "white",
           "zerolinewidth": 2
          }
         }
        },
        "title": {
         "text": "Number of Top 20 Software Development Vulnerabilities between 2014-2021"
        },
        "width": 1700
       }
      },
      "text/html": [
       "<div>                            <div id=\"28ab57a2-7bc3-414a-af0c-053a8747350a\" class=\"plotly-graph-div\" style=\"height:800px; width:1700px;\"></div>            <script type=\"text/javascript\">                require([\"plotly\"], function(Plotly) {                    window.PLOTLYENV=window.PLOTLYENV || {};                                    if (document.getElementById(\"28ab57a2-7bc3-414a-af0c-053a8747350a\")) {                    Plotly.newPlot(                        \"28ab57a2-7bc3-414a-af0c-053a8747350a\",                        [{\"labels\":[\"Improper Neutralization of Input During Web Page Generation ('Cross-site Scripting')\",\"Improper Neutralization of Special Elements used in an SQL Command ('SQL Injection')\",\"Improper Control of Generation of Code ('Code Injection')\",\"Improper Link Resolution Before File Access ('Link Following')\",\"Improper Neutralization of Special Elements used in an OS Command ('OS Command Injection')\",\"Out-of-bounds Write\",\"Out-of-bounds Read\",\"Integer Overflow or Wraparound\",\"NULL Pointer Dereference\",\"Improper Restriction of XML External Entity Reference\",\"Improper Certificate Validation\",\"Unrestricted Upload of File with Dangerous Type\",\"Buffer Copy without Checking Size of Input ('Classic Buffer Overflow')\",\"Use of Hard-coded Credentials\",\"Improper Validation of Array Index\",\"Incorrect Default Permissions\",\"Use of Externally-Controlled Format String\",\"Deserialization of Untrusted Data\",\"Integer Underflow (Wrap or Wraparound)\",\"Improper Neutralization of CRLF Sequences ('CRLF Injection')\"],\"name\":\"2014\",\"values\":[1013,288,161,49,47,28,27,21,21,17,15,13,11,9,6,6,6,5,4,3],\"type\":\"pie\",\"domain\":{\"x\":[0.0,0.2125],\"y\":[0.625,1.0]},\"textfont\":{\"size\":15},\"marker\":{\"line\":{\"color\":\"#000000\",\"width\":2}},\"hoverinfo\":\"label+percent\",\"textinfo\":\"value\",\"textposition\":\"inside\"},{\"labels\":[\"Improper Neutralization of Input During Web Page Generation ('Cross-site Scripting')\",\"Improper Neutralization of Special Elements used in an SQL Command ('SQL Injection')\",\"NULL Pointer Dereference\",\"Improper Control of Generation of Code ('Code Injection')\",\"Improper Neutralization of Special Elements used in an OS Command ('OS Command Injection')\",\"Improper Link Resolution Before File Access ('Link Following')\",\"Integer Overflow or Wraparound\",\"Out-of-bounds Write\",\"Out-of-bounds Read\",\"Unrestricted Upload of File with Dangerous Type\",\"Improper Certificate Validation\",\"URL Redirection to Untrusted Site ('Open Redirect')\",\"Buffer Copy without Checking Size of Input ('Classic Buffer Overflow')\",\"Improper Restriction of XML External Entity Reference\",\"Use of Hard-coded Credentials\",\"Missing Release of Resource after Effective Lifetime\",\"Loop with Unreachable Exit Condition ('Infinite Loop')\",\"Use of Externally-Controlled Format String\",\"Untrusted Search Path\",\"Integer Underflow (Wrap or Wraparound)\"],\"name\":\"2015\",\"values\":[941,271,60,60,47,38,38,35,33,31,29,18,18,17,10,10,10,7,6,6],\"type\":\"pie\",\"domain\":{\"x\":[0.2625,0.475],\"y\":[0.625,1.0]},\"textfont\":{\"size\":15},\"marker\":{\"line\":{\"color\":\"#000000\",\"width\":2}},\"hoverinfo\":\"label+percent\",\"textinfo\":\"value\",\"textposition\":\"inside\"},{\"labels\":[\"Improper Neutralization of Input During Web Page Generation ('Cross-site Scripting')\",\"Out-of-bounds Read\",\"Improper Neutralization of Special Elements used in an SQL Command ('SQL Injection')\",\"NULL Pointer Dereference\",\"Integer Overflow or Wraparound\",\"Out-of-bounds Write\",\"Improper Restriction of XML External Entity Reference\",\"Improper Certificate Validation\",\"URL Redirection to Untrusted Site ('Open Redirect')\",\"Deserialization of Untrusted Data\",\"Use of Hard-coded Credentials\",\"Improper Neutralization of Special Elements used in an OS Command ('OS Command Injection')\",\"Improper Control of Generation of Code ('Code Injection')\",\"Unrestricted Upload of File with Dangerous Type\",\"Divide By Zero\",\"Untrusted Search Path\",\"Insertion of Sensitive Information into Log File\",\"Improper Link Resolution Before File Access ('Link Following')\",\"Missing Release of Resource after Effective Lifetime\",\"Buffer Copy without Checking Size of Input ('Classic Buffer Overflow')\"],\"name\":\"2016\",\"values\":[814,200,170,146,129,95,52,43,41,41,40,39,38,29,22,21,16,15,11,9],\"type\":\"pie\",\"domain\":{\"x\":[0.525,0.7375],\"y\":[0.625,1.0]},\"textfont\":{\"size\":15},\"marker\":{\"line\":{\"color\":\"#000000\",\"width\":2}},\"hoverinfo\":\"label+percent\",\"textinfo\":\"value\",\"textposition\":\"inside\"},{\"labels\":[\"Improper Neutralization of Input During Web Page Generation ('Cross-site Scripting')\",\"Out-of-bounds Read\",\"Improper Neutralization of Special Elements used in an SQL Command ('SQL Injection')\",\"NULL Pointer Dereference\",\"Out-of-bounds Write\",\"Integer Overflow or Wraparound\",\"Missing Release of Resource after Effective Lifetime\",\"Improper Neutralization of Special Elements used in an OS Command ('OS Command Injection')\",\"Improper Certificate Validation\",\"Untrusted Search Path\",\"Loop with Unreachable Exit Condition ('Infinite Loop')\",\"Use of Hard-coded Credentials\",\"Improper Restriction of XML External Entity Reference\",\"Deserialization of Untrusted Data\",\"URL Redirection to Untrusted Site ('Open Redirect')\",\"Unrestricted Upload of File with Dangerous Type\",\"Improper Control of Generation of Code ('Code Injection')\",\"Allocation of Resources Without Limits or Throttling\",\"Reachable Assertion\",\"Buffer Copy without Checking Size of Input ('Classic Buffer Overflow')\"],\"name\":\"2017\",\"values\":[1480,696,489,307,278,219,204,177,160,131,117,102,92,87,87,86,82,49,47,45],\"type\":\"pie\",\"domain\":{\"x\":[0.7875,1.0],\"y\":[0.625,1.0]},\"textfont\":{\"size\":15},\"marker\":{\"line\":{\"color\":\"#000000\",\"width\":2}},\"hoverinfo\":\"label+percent\",\"textinfo\":\"value\",\"textposition\":\"inside\"},{\"labels\":[\"Improper Neutralization of Input During Web Page Generation ('Cross-site Scripting')\",\"Out-of-bounds Write\",\"Out-of-bounds Read\",\"Integer Overflow or Wraparound\",\"Improper Neutralization of Special Elements used in an SQL Command ('SQL Injection')\",\"Improper Neutralization of Special Elements used in an OS Command ('OS Command Injection')\",\"NULL Pointer Dereference\",\"Improper Restriction of XML External Entity Reference\",\"Unrestricted Upload of File with Dangerous Type\",\"Improper Control of Generation of Code ('Code Injection')\",\"Use of Hard-coded Credentials\",\"Deserialization of Untrusted Data\",\"Improper Certificate Validation\",\"Loop with Unreachable Exit Condition ('Infinite Loop')\",\"Missing Release of Resource after Effective Lifetime\",\"Untrusted Search Path\",\"URL Redirection to Untrusted Site ('Open Redirect')\",\"Insertion of Sensitive Information into Log File\",\"Buffer Copy without Checking Size of Input ('Classic Buffer Overflow')\",\"Missing Authentication for Critical Function\"],\"name\":\"2018\",\"values\":[2083,918,816,659,501,381,278,178,169,153,130,103,95,95,88,84,79,63,47,44],\"type\":\"pie\",\"domain\":{\"x\":[0.0,0.2125],\"y\":[0.0,0.375]},\"textfont\":{\"size\":15},\"marker\":{\"line\":{\"color\":\"#000000\",\"width\":2}},\"hoverinfo\":\"label+percent\",\"textinfo\":\"value\",\"textposition\":\"inside\"},{\"labels\":[\"Improper Neutralization of Input During Web Page Generation ('Cross-site Scripting')\",\"Out-of-bounds Write\",\"Out-of-bounds Read\",\"Improper Neutralization of Special Elements used in an SQL Command ('SQL Injection')\",\"Improper Neutralization of Special Elements used in an OS Command ('OS Command Injection')\",\"NULL Pointer Dereference\",\"Missing Authentication for Critical Function\",\"Integer Overflow or Wraparound\",\"Unrestricted Upload of File with Dangerous Type\",\"Buffer Copy without Checking Size of Input ('Classic Buffer Overflow')\",\"Deserialization of Untrusted Data\",\"Use of Hard-coded Credentials\",\"Improper Restriction of XML External Entity Reference\",\"Cleartext Transmission of Sensitive Information\",\"Improper Control of Generation of Code ('Code Injection')\",\"Insertion of Sensitive Information into Log File\",\"Allocation of Resources Without Limits or Throttling\",\"URL Redirection to Untrusted Site ('Open Redirect')\",\"Incorrect Default Permissions\",\"Improper Link Resolution Before File Access ('Link Following')\"],\"name\":\"2019\",\"values\":[1791,1404,817,417,402,254,215,210,179,173,124,123,114,113,109,102,97,97,96,94],\"type\":\"pie\",\"domain\":{\"x\":[0.2625,0.475],\"y\":[0.0,0.375]},\"textfont\":{\"size\":15},\"marker\":{\"line\":{\"color\":\"#000000\",\"width\":2}},\"hoverinfo\":\"label+percent\",\"textinfo\":\"value\",\"textposition\":\"inside\"},{\"labels\":[\"Improper Neutralization of Input During Web Page Generation ('Cross-site Scripting')\",\"Out-of-bounds Write\",\"Out-of-bounds Read\",\"Improper Neutralization of Special Elements used in an SQL Command ('SQL Injection')\",\"Improper Neutralization of Special Elements used in an OS Command ('OS Command Injection')\",\"Buffer Copy without Checking Size of Input ('Classic Buffer Overflow')\",\"Unrestricted Upload of File with Dangerous Type\",\"Incorrect Default Permissions\",\"Missing Authentication for Critical Function\",\"NULL Pointer Dereference\",\"Integer Overflow or Wraparound\",\"Deserialization of Untrusted Data\",\"Use of Hard-coded Credentials\",\"Improper Certificate Validation\",\"Improper Restriction of XML External Entity Reference\",\"Cleartext Transmission of Sensitive Information\",\"Uncontrolled Search Path Element\",\"URL Redirection to Untrusted Site ('Open Redirect')\",\"Improper Control of Generation of Code ('Code Injection')\",\"Improper Link Resolution Before File Access ('Link Following')\"],\"name\":\"2020\",\"values\":[2182,1403,730,573,447,326,258,223,215,203,195,168,167,125,113,110,109,99,94,90],\"type\":\"pie\",\"domain\":{\"x\":[0.525,0.7375],\"y\":[0.0,0.375]},\"textfont\":{\"size\":15},\"marker\":{\"line\":{\"color\":\"#000000\",\"width\":2}},\"hoverinfo\":\"label+percent\",\"textinfo\":\"value\",\"textposition\":\"inside\"},{\"labels\":[\"Improper Neutralization of Input During Web Page Generation ('Cross-site Scripting')\",\"Out-of-bounds Write\",\"Improper Neutralization of Special Elements used in an SQL Command ('SQL Injection')\",\"Out-of-bounds Read\",\"Buffer Copy without Checking Size of Input ('Classic Buffer Overflow')\",\"NULL Pointer Dereference\",\"Improper Neutralization of Special Elements used in an OS Command ('OS Command Injection')\",\"Unrestricted Upload of File with Dangerous Type\",\"Integer Overflow or Wraparound\",\"Deserialization of Untrusted Data\",\"Improper Control of Generation of Code ('Code Injection')\",\"Incorrect Default Permissions\",\"Use of Hard-coded Credentials\",\"URL Redirection to Untrusted Site ('Open Redirect')\",\"Improper Restriction of XML External Entity Reference\",\"Improper Certificate Validation\",\"Cleartext Storage of Sensitive Information\",\"Uncontrolled Search Path Element\",\"Insertion of Sensitive Information into Log File\",\"Divide By Zero\"],\"name\":\"2021\",\"values\":[2006,959,512,498,289,272,235,226,192,176,145,114,113,108,96,96,81,79,67,65],\"type\":\"pie\",\"domain\":{\"x\":[0.7875,1.0],\"y\":[0.0,0.375]},\"textfont\":{\"size\":15},\"marker\":{\"line\":{\"color\":\"#000000\",\"width\":2}},\"hoverinfo\":\"label+percent\",\"textinfo\":\"value\",\"textposition\":\"inside\"}],                        {\"template\":{\"data\":{\"histogram2dcontour\":[{\"type\":\"histogram2dcontour\",\"colorbar\":{\"outlinewidth\":0,\"ticks\":\"\"},\"colorscale\":[[0.0,\"#0d0887\"],[0.1111111111111111,\"#46039f\"],[0.2222222222222222,\"#7201a8\"],[0.3333333333333333,\"#9c179e\"],[0.4444444444444444,\"#bd3786\"],[0.5555555555555556,\"#d8576b\"],[0.6666666666666666,\"#ed7953\"],[0.7777777777777778,\"#fb9f3a\"],[0.8888888888888888,\"#fdca26\"],[1.0,\"#f0f921\"]]}],\"choropleth\":[{\"type\":\"choropleth\",\"colorbar\":{\"outlinewidth\":0,\"ticks\":\"\"}}],\"histogram2d\":[{\"type\":\"histogram2d\",\"colorbar\":{\"outlinewidth\":0,\"ticks\":\"\"},\"colorscale\":[[0.0,\"#0d0887\"],[0.1111111111111111,\"#46039f\"],[0.2222222222222222,\"#7201a8\"],[0.3333333333333333,\"#9c179e\"],[0.4444444444444444,\"#bd3786\"],[0.5555555555555556,\"#d8576b\"],[0.6666666666666666,\"#ed7953\"],[0.7777777777777778,\"#fb9f3a\"],[0.8888888888888888,\"#fdca26\"],[1.0,\"#f0f921\"]]}],\"heatmap\":[{\"type\":\"heatmap\",\"colorbar\":{\"outlinewidth\":0,\"ticks\":\"\"},\"colorscale\":[[0.0,\"#0d0887\"],[0.1111111111111111,\"#46039f\"],[0.2222222222222222,\"#7201a8\"],[0.3333333333333333,\"#9c179e\"],[0.4444444444444444,\"#bd3786\"],[0.5555555555555556,\"#d8576b\"],[0.6666666666666666,\"#ed7953\"],[0.7777777777777778,\"#fb9f3a\"],[0.8888888888888888,\"#fdca26\"],[1.0,\"#f0f921\"]]}],\"heatmapgl\":[{\"type\":\"heatmapgl\",\"colorbar\":{\"outlinewidth\":0,\"ticks\":\"\"},\"colorscale\":[[0.0,\"#0d0887\"],[0.1111111111111111,\"#46039f\"],[0.2222222222222222,\"#7201a8\"],[0.3333333333333333,\"#9c179e\"],[0.4444444444444444,\"#bd3786\"],[0.5555555555555556,\"#d8576b\"],[0.6666666666666666,\"#ed7953\"],[0.7777777777777778,\"#fb9f3a\"],[0.8888888888888888,\"#fdca26\"],[1.0,\"#f0f921\"]]}],\"contourcarpet\":[{\"type\":\"contourcarpet\",\"colorbar\":{\"outlinewidth\":0,\"ticks\":\"\"}}],\"contour\":[{\"type\":\"contour\",\"colorbar\":{\"outlinewidth\":0,\"ticks\":\"\"},\"colorscale\":[[0.0,\"#0d0887\"],[0.1111111111111111,\"#46039f\"],[0.2222222222222222,\"#7201a8\"],[0.3333333333333333,\"#9c179e\"],[0.4444444444444444,\"#bd3786\"],[0.5555555555555556,\"#d8576b\"],[0.6666666666666666,\"#ed7953\"],[0.7777777777777778,\"#fb9f3a\"],[0.8888888888888888,\"#fdca26\"],[1.0,\"#f0f921\"]]}],\"surface\":[{\"type\":\"surface\",\"colorbar\":{\"outlinewidth\":0,\"ticks\":\"\"},\"colorscale\":[[0.0,\"#0d0887\"],[0.1111111111111111,\"#46039f\"],[0.2222222222222222,\"#7201a8\"],[0.3333333333333333,\"#9c179e\"],[0.4444444444444444,\"#bd3786\"],[0.5555555555555556,\"#d8576b\"],[0.6666666666666666,\"#ed7953\"],[0.7777777777777778,\"#fb9f3a\"],[0.8888888888888888,\"#fdca26\"],[1.0,\"#f0f921\"]]}],\"mesh3d\":[{\"type\":\"mesh3d\",\"colorbar\":{\"outlinewidth\":0,\"ticks\":\"\"}}],\"scatter\":[{\"fillpattern\":{\"fillmode\":\"overlay\",\"size\":10,\"solidity\":0.2},\"type\":\"scatter\"}],\"parcoords\":[{\"type\":\"parcoords\",\"line\":{\"colorbar\":{\"outlinewidth\":0,\"ticks\":\"\"}}}],\"scatterpolargl\":[{\"type\":\"scatterpolargl\",\"marker\":{\"colorbar\":{\"outlinewidth\":0,\"ticks\":\"\"}}}],\"bar\":[{\"error_x\":{\"color\":\"#2a3f5f\"},\"error_y\":{\"color\":\"#2a3f5f\"},\"marker\":{\"line\":{\"color\":\"#E5ECF6\",\"width\":0.5},\"pattern\":{\"fillmode\":\"overlay\",\"size\":10,\"solidity\":0.2}},\"type\":\"bar\"}],\"scattergeo\":[{\"type\":\"scattergeo\",\"marker\":{\"colorbar\":{\"outlinewidth\":0,\"ticks\":\"\"}}}],\"scatterpolar\":[{\"type\":\"scatterpolar\",\"marker\":{\"colorbar\":{\"outlinewidth\":0,\"ticks\":\"\"}}}],\"histogram\":[{\"marker\":{\"pattern\":{\"fillmode\":\"overlay\",\"size\":10,\"solidity\":0.2}},\"type\":\"histogram\"}],\"scattergl\":[{\"type\":\"scattergl\",\"marker\":{\"colorbar\":{\"outlinewidth\":0,\"ticks\":\"\"}}}],\"scatter3d\":[{\"type\":\"scatter3d\",\"line\":{\"colorbar\":{\"outlinewidth\":0,\"ticks\":\"\"}},\"marker\":{\"colorbar\":{\"outlinewidth\":0,\"ticks\":\"\"}}}],\"scattermapbox\":[{\"type\":\"scattermapbox\",\"marker\":{\"colorbar\":{\"outlinewidth\":0,\"ticks\":\"\"}}}],\"scatterternary\":[{\"type\":\"scatterternary\",\"marker\":{\"colorbar\":{\"outlinewidth\":0,\"ticks\":\"\"}}}],\"scattercarpet\":[{\"type\":\"scattercarpet\",\"marker\":{\"colorbar\":{\"outlinewidth\":0,\"ticks\":\"\"}}}],\"carpet\":[{\"aaxis\":{\"endlinecolor\":\"#2a3f5f\",\"gridcolor\":\"white\",\"linecolor\":\"white\",\"minorgridcolor\":\"white\",\"startlinecolor\":\"#2a3f5f\"},\"baxis\":{\"endlinecolor\":\"#2a3f5f\",\"gridcolor\":\"white\",\"linecolor\":\"white\",\"minorgridcolor\":\"white\",\"startlinecolor\":\"#2a3f5f\"},\"type\":\"carpet\"}],\"table\":[{\"cells\":{\"fill\":{\"color\":\"#EBF0F8\"},\"line\":{\"color\":\"white\"}},\"header\":{\"fill\":{\"color\":\"#C8D4E3\"},\"line\":{\"color\":\"white\"}},\"type\":\"table\"}],\"barpolar\":[{\"marker\":{\"line\":{\"color\":\"#E5ECF6\",\"width\":0.5},\"pattern\":{\"fillmode\":\"overlay\",\"size\":10,\"solidity\":0.2}},\"type\":\"barpolar\"}],\"pie\":[{\"automargin\":true,\"type\":\"pie\"}]},\"layout\":{\"autotypenumbers\":\"strict\",\"colorway\":[\"#636efa\",\"#EF553B\",\"#00cc96\",\"#ab63fa\",\"#FFA15A\",\"#19d3f3\",\"#FF6692\",\"#B6E880\",\"#FF97FF\",\"#FECB52\"],\"font\":{\"color\":\"#2a3f5f\"},\"hovermode\":\"closest\",\"hoverlabel\":{\"align\":\"left\"},\"paper_bgcolor\":\"white\",\"plot_bgcolor\":\"#E5ECF6\",\"polar\":{\"bgcolor\":\"#E5ECF6\",\"angularaxis\":{\"gridcolor\":\"white\",\"linecolor\":\"white\",\"ticks\":\"\"},\"radialaxis\":{\"gridcolor\":\"white\",\"linecolor\":\"white\",\"ticks\":\"\"}},\"ternary\":{\"bgcolor\":\"#E5ECF6\",\"aaxis\":{\"gridcolor\":\"white\",\"linecolor\":\"white\",\"ticks\":\"\"},\"baxis\":{\"gridcolor\":\"white\",\"linecolor\":\"white\",\"ticks\":\"\"},\"caxis\":{\"gridcolor\":\"white\",\"linecolor\":\"white\",\"ticks\":\"\"}},\"coloraxis\":{\"colorbar\":{\"outlinewidth\":0,\"ticks\":\"\"}},\"colorscale\":{\"sequential\":[[0.0,\"#0d0887\"],[0.1111111111111111,\"#46039f\"],[0.2222222222222222,\"#7201a8\"],[0.3333333333333333,\"#9c179e\"],[0.4444444444444444,\"#bd3786\"],[0.5555555555555556,\"#d8576b\"],[0.6666666666666666,\"#ed7953\"],[0.7777777777777778,\"#fb9f3a\"],[0.8888888888888888,\"#fdca26\"],[1.0,\"#f0f921\"]],\"sequentialminus\":[[0.0,\"#0d0887\"],[0.1111111111111111,\"#46039f\"],[0.2222222222222222,\"#7201a8\"],[0.3333333333333333,\"#9c179e\"],[0.4444444444444444,\"#bd3786\"],[0.5555555555555556,\"#d8576b\"],[0.6666666666666666,\"#ed7953\"],[0.7777777777777778,\"#fb9f3a\"],[0.8888888888888888,\"#fdca26\"],[1.0,\"#f0f921\"]],\"diverging\":[[0,\"#8e0152\"],[0.1,\"#c51b7d\"],[0.2,\"#de77ae\"],[0.3,\"#f1b6da\"],[0.4,\"#fde0ef\"],[0.5,\"#f7f7f7\"],[0.6,\"#e6f5d0\"],[0.7,\"#b8e186\"],[0.8,\"#7fbc41\"],[0.9,\"#4d9221\"],[1,\"#276419\"]]},\"xaxis\":{\"gridcolor\":\"white\",\"linecolor\":\"white\",\"ticks\":\"\",\"title\":{\"standoff\":15},\"zerolinecolor\":\"white\",\"automargin\":true,\"zerolinewidth\":2},\"yaxis\":{\"gridcolor\":\"white\",\"linecolor\":\"white\",\"ticks\":\"\",\"title\":{\"standoff\":15},\"zerolinecolor\":\"white\",\"automargin\":true,\"zerolinewidth\":2},\"scene\":{\"xaxis\":{\"backgroundcolor\":\"#E5ECF6\",\"gridcolor\":\"white\",\"linecolor\":\"white\",\"showbackground\":true,\"ticks\":\"\",\"zerolinecolor\":\"white\",\"gridwidth\":2},\"yaxis\":{\"backgroundcolor\":\"#E5ECF6\",\"gridcolor\":\"white\",\"linecolor\":\"white\",\"showbackground\":true,\"ticks\":\"\",\"zerolinecolor\":\"white\",\"gridwidth\":2},\"zaxis\":{\"backgroundcolor\":\"#E5ECF6\",\"gridcolor\":\"white\",\"linecolor\":\"white\",\"showbackground\":true,\"ticks\":\"\",\"zerolinecolor\":\"white\",\"gridwidth\":2}},\"shapedefaults\":{\"line\":{\"color\":\"#2a3f5f\"}},\"annotationdefaults\":{\"arrowcolor\":\"#2a3f5f\",\"arrowhead\":0,\"arrowwidth\":1},\"geo\":{\"bgcolor\":\"white\",\"landcolor\":\"#E5ECF6\",\"subunitcolor\":\"white\",\"showland\":true,\"showlakes\":true,\"lakecolor\":\"white\"},\"title\":{\"x\":0.05},\"mapbox\":{\"style\":\"light\"}}},\"annotations\":[{\"font\":{\"size\":16},\"showarrow\":false,\"text\":\"2014\",\"x\":0.10625,\"xanchor\":\"center\",\"xref\":\"paper\",\"y\":1.0,\"yanchor\":\"bottom\",\"yref\":\"paper\"},{\"font\":{\"size\":16},\"showarrow\":false,\"text\":\"2015\",\"x\":0.36875,\"xanchor\":\"center\",\"xref\":\"paper\",\"y\":1.0,\"yanchor\":\"bottom\",\"yref\":\"paper\"},{\"font\":{\"size\":16},\"showarrow\":false,\"text\":\"2016\",\"x\":0.6312500000000001,\"xanchor\":\"center\",\"xref\":\"paper\",\"y\":1.0,\"yanchor\":\"bottom\",\"yref\":\"paper\"},{\"font\":{\"size\":16},\"showarrow\":false,\"text\":\"2017\",\"x\":0.89375,\"xanchor\":\"center\",\"xref\":\"paper\",\"y\":1.0,\"yanchor\":\"bottom\",\"yref\":\"paper\"},{\"font\":{\"size\":16},\"showarrow\":false,\"text\":\"2018\",\"x\":0.10625,\"xanchor\":\"center\",\"xref\":\"paper\",\"y\":0.375,\"yanchor\":\"bottom\",\"yref\":\"paper\"},{\"font\":{\"size\":16},\"showarrow\":false,\"text\":\"2019\",\"x\":0.36875,\"xanchor\":\"center\",\"xref\":\"paper\",\"y\":0.375,\"yanchor\":\"bottom\",\"yref\":\"paper\"},{\"font\":{\"size\":16},\"showarrow\":false,\"text\":\"2020\",\"x\":0.6312500000000001,\"xanchor\":\"center\",\"xref\":\"paper\",\"y\":0.375,\"yanchor\":\"bottom\",\"yref\":\"paper\"},{\"font\":{\"size\":16},\"showarrow\":false,\"text\":\"2021\",\"x\":0.89375,\"xanchor\":\"center\",\"xref\":\"paper\",\"y\":0.375,\"yanchor\":\"bottom\",\"yref\":\"paper\"}],\"title\":{\"text\":\"Number of Top 20 Software Development Vulnerabilities between 2014-2021\"},\"height\":800,\"width\":1700,\"colorway\":[\"#17BECF\",\"#BCBD22\",\"#7F7F7F\",\"#E377C2\",\"#8C564B\",\"#9467BD\",\"#D62728\",\"#2CA02C\",\"#FF7F0E\",\"#1F77B4\"]},                        {\"responsive\": true}                    ).then(function(){\n",
       "                            \n",
       "var gd = document.getElementById('28ab57a2-7bc3-414a-af0c-053a8747350a');\n",
       "var x = new MutationObserver(function (mutations, observer) {{\n",
       "        var display = window.getComputedStyle(gd).display;\n",
       "        if (!display || display === 'none') {{\n",
       "            console.log([gd, 'removed!']);\n",
       "            Plotly.purge(gd);\n",
       "            observer.disconnect();\n",
       "        }}\n",
       "}});\n",
       "\n",
       "// Listen for the removal of the full notebook cells\n",
       "var notebookContainer = gd.closest('#notebook-container');\n",
       "if (notebookContainer) {{\n",
       "    x.observe(notebookContainer, {childList: true});\n",
       "}}\n",
       "\n",
       "// Listen for the clearing of the current output cell\n",
       "var outputEl = gd.closest('.output');\n",
       "if (outputEl) {{\n",
       "    x.observe(outputEl, {childList: true});\n",
       "}}\n",
       "\n",
       "                        })                };                });            </script>        </div>"
      ]
     },
     "metadata": {},
     "output_type": "display_data"
    }
   ],
   "source": [
    "\n",
    "import plotly.express as px\n",
    "fig = make_subplots(rows=2, cols=4,  subplot_titles=(\"2014\", \"2015\", \"2016\",\"2017\",\"2018\",\"2019\",\"2020\",\"2021\"),\n",
    "                    specs=[[{\"type\": \"pie\"}, {\"type\": \"pie\"}, {\"type\": \"pie\"}, {\"type\": \"pie\"}],[{\"type\": \"pie\"},{\"type\": \"pie\"},{\"type\": \"pie\"},{\"type\": \"pie\"}]])\n",
    "\n",
    "fig.add_trace(go.Pie(labels=dfs2014[\"index\"].values, values=dfs2014[\"CWE-NAME\"].values,name=2014) ,row=1, col=1)\n",
    "fig.add_trace(go.Pie(labels=dfs2015[\"index\"].values, values=dfs2015[\"CWE-NAME\"].values,name=2015) ,row=1, col=2)\n",
    "fig.add_trace(go.Pie(labels=dfs2016[\"index\"].values, values=dfs2016[\"CWE-NAME\"].values,name=2016) ,row=1, col=3)\n",
    "fig.add_trace(go.Pie(labels=dfs2017[\"index\"].values, values=dfs2017[\"CWE-NAME\"].values,name=2017) ,row=1, col=4)\n",
    "fig.add_trace(go.Pie(labels=dfs2018[\"index\"].values, values=dfs2018[\"CWE-NAME\"].values,name=2018) ,row=2, col=1)\n",
    "fig.add_trace(go.Pie(labels=dfs2019[\"index\"].values, values=dfs2019[\"CWE-NAME\"].values,name=2019) ,row=2, col=2)\n",
    "fig.add_trace(go.Pie(labels=dfs2020[\"index\"].values, values=dfs2020[\"CWE-NAME\"].values,name=2020) ,row=2, col=3)\n",
    "fig.add_trace(go.Pie(labels=dfs2021[\"index\"].values, values=dfs2021[\"CWE-NAME\"].values,name=2021) ,row=2, col=4)\n",
    "\n",
    "fig.update_traces(hoverinfo='label+percent', textinfo='value', textfont_size=15,textposition='inside',\n",
    "                  marker=dict(line=dict(color='#000000', width=2)))\n",
    "fig.update_layout(height=800, width=1700,colorway=px.colors.qualitative.D3_r,\n",
    "                  title_text=\"Number of Top 20 Software Development Vulnerabilities between 2014-2021\")\n",
    "\n",
    "fig.show()"
   ]
  }
 ],
 "metadata": {
  "kernelspec": {
   "display_name": "exp1",
   "language": "python",
   "name": "exp1"
  },
  "language_info": {
   "codemirror_mode": {
    "name": "ipython",
    "version": 3
   },
   "file_extension": ".py",
   "mimetype": "text/x-python",
   "name": "python",
   "nbconvert_exporter": "python",
   "pygments_lexer": "ipython3",
   "version": "3.6.13"
  },
  "papermill": {
   "default_parameters": {},
   "duration": 117.844695,
   "end_time": "2022-01-24T20:33:05.233102",
   "environment_variables": {},
   "exception": null,
   "input_path": "__notebook__.ipynb",
   "output_path": "__notebook__.ipynb",
   "parameters": {},
   "start_time": "2022-01-24T20:31:07.388407",
   "version": "2.3.3"
  }
 },
 "nbformat": 4,
 "nbformat_minor": 5
}
