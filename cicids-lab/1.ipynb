{
 "cells": [
  {
   "cell_type": "code",
   "execution_count": 1,
   "metadata": {
    "execution": {
     "iopub.execute_input": "2022-01-07T20:05:48.730835Z",
     "iopub.status.busy": "2022-01-07T20:05:48.730421Z",
     "iopub.status.idle": "2022-01-07T20:05:56.694457Z",
     "shell.execute_reply": "2022-01-07T20:05:56.693683Z",
     "shell.execute_reply.started": "2022-01-07T20:05:48.730703Z"
    }
   },
   "outputs": [
    {
     "name": "stderr",
     "output_type": "stream",
     "text": [
      "Using TensorFlow backend.\n"
     ]
    }
   ],
   "source": [
    "import numpy as np \n",
    "import pandas as pd \n",
    "import os, re, time, math, tqdm, itertools\n",
    "import matplotlib.pyplot as plt\n",
    "import seaborn as sns\n",
    "import plotly.express as px\n",
    "import plotly.offline as pyo\n",
    "from sklearn.model_selection import train_test_split\n",
    "from sklearn.preprocessing import MinMaxScaler\n",
    "from sklearn.ensemble import RandomForestClassifier\n",
    "from sklearn.preprocessing import LabelEncoder\n",
    "from sklearn.neural_network import MLPClassifier\n",
    "import keras\n",
    "from keras.layers import Conv2D, Conv1D, MaxPooling2D, MaxPooling1D, Flatten, BatchNormalization, Dense\n",
    "from keras.utils.np_utils import to_categorical\n",
    "from keras.models import Sequential\n",
    "from keras.callbacks import CSVLogger, ModelCheckpoint"
   ]
  },
  {
   "cell_type": "code",
   "execution_count": 2,
   "metadata": {
    "execution": {
     "iopub.execute_input": "2022-01-07T20:06:32.433507Z",
     "iopub.status.busy": "2022-01-07T20:06:32.432831Z",
     "iopub.status.idle": "2022-01-07T20:06:44.148856Z",
     "shell.execute_reply": "2022-01-07T20:06:44.148091Z",
     "shell.execute_reply.started": "2022-01-07T20:06:32.433469Z"
    }
   },
   "outputs": [
    {
     "name": "stdout",
     "output_type": "stream",
     "text": [
      "CPU times: user 5.6 s, sys: 2.92 s, total: 8.53 s\n",
      "Wall time: 10.6 s\n"
     ]
    }
   ],
   "source": [
    "%%time\n",
    "network_data = pd.read_csv('02-14-2018.csv')"
   ]
  },
  {
   "cell_type": "code",
   "execution_count": 3,
   "metadata": {
    "execution": {
     "iopub.execute_input": "2022-01-07T20:07:03.471572Z",
     "iopub.status.busy": "2022-01-07T20:07:03.470900Z",
     "iopub.status.idle": "2022-01-07T20:07:03.477017Z",
     "shell.execute_reply": "2022-01-07T20:07:03.476251Z",
     "shell.execute_reply.started": "2022-01-07T20:07:03.471535Z"
    }
   },
   "outputs": [
    {
     "data": {
      "text/plain": [
       "(1048575, 80)"
      ]
     },
     "execution_count": 3,
     "metadata": {},
     "output_type": "execute_result"
    }
   ],
   "source": [
    "network_data.shape"
   ]
  },
  {
   "cell_type": "code",
   "execution_count": 4,
   "metadata": {
    "execution": {
     "iopub.execute_input": "2022-01-07T20:07:16.858135Z",
     "iopub.status.busy": "2022-01-07T20:07:16.857866Z",
     "iopub.status.idle": "2022-01-07T20:07:16.863503Z",
     "shell.execute_reply": "2022-01-07T20:07:16.862837Z",
     "shell.execute_reply.started": "2022-01-07T20:07:16.858107Z"
    }
   },
   "outputs": [
    {
     "name": "stdout",
     "output_type": "stream",
     "text": [
      "Number of Rows (Samples): 1048575\n",
      "Number of Columns (Features): 80\n"
     ]
    }
   ],
   "source": [
    "print('Number of Rows (Samples): %s' % str((network_data.shape[0])))\n",
    "print('Number of Columns (Features): %s' % str((network_data.shape[1])))"
   ]
  },
  {
   "cell_type": "code",
   "execution_count": 5,
   "metadata": {
    "execution": {
     "iopub.execute_input": "2022-01-07T20:07:19.369972Z",
     "iopub.status.busy": "2022-01-07T20:07:19.369406Z",
     "iopub.status.idle": "2022-01-07T20:07:19.403497Z",
     "shell.execute_reply": "2022-01-07T20:07:19.402731Z",
     "shell.execute_reply.started": "2022-01-07T20:07:19.369932Z"
    }
   },
   "outputs": [
    {
     "data": {
      "text/html": [
       "<div>\n",
       "<style scoped>\n",
       "    .dataframe tbody tr th:only-of-type {\n",
       "        vertical-align: middle;\n",
       "    }\n",
       "\n",
       "    .dataframe tbody tr th {\n",
       "        vertical-align: top;\n",
       "    }\n",
       "\n",
       "    .dataframe thead th {\n",
       "        text-align: right;\n",
       "    }\n",
       "</style>\n",
       "<table border=\"1\" class=\"dataframe\">\n",
       "  <thead>\n",
       "    <tr style=\"text-align: right;\">\n",
       "      <th></th>\n",
       "      <th>Dst Port</th>\n",
       "      <th>Protocol</th>\n",
       "      <th>Timestamp</th>\n",
       "      <th>Flow Duration</th>\n",
       "      <th>Tot Fwd Pkts</th>\n",
       "      <th>Tot Bwd Pkts</th>\n",
       "      <th>TotLen Fwd Pkts</th>\n",
       "      <th>TotLen Bwd Pkts</th>\n",
       "      <th>Fwd Pkt Len Max</th>\n",
       "      <th>Fwd Pkt Len Min</th>\n",
       "      <th>...</th>\n",
       "      <th>Fwd Seg Size Min</th>\n",
       "      <th>Active Mean</th>\n",
       "      <th>Active Std</th>\n",
       "      <th>Active Max</th>\n",
       "      <th>Active Min</th>\n",
       "      <th>Idle Mean</th>\n",
       "      <th>Idle Std</th>\n",
       "      <th>Idle Max</th>\n",
       "      <th>Idle Min</th>\n",
       "      <th>Label</th>\n",
       "    </tr>\n",
       "  </thead>\n",
       "  <tbody>\n",
       "    <tr>\n",
       "      <th>0</th>\n",
       "      <td>0</td>\n",
       "      <td>0</td>\n",
       "      <td>14/02/2018 08:31:01</td>\n",
       "      <td>112641719</td>\n",
       "      <td>3</td>\n",
       "      <td>0</td>\n",
       "      <td>0</td>\n",
       "      <td>0</td>\n",
       "      <td>0</td>\n",
       "      <td>0</td>\n",
       "      <td>...</td>\n",
       "      <td>0</td>\n",
       "      <td>0.0</td>\n",
       "      <td>0.0</td>\n",
       "      <td>0</td>\n",
       "      <td>0</td>\n",
       "      <td>56320859.5</td>\n",
       "      <td>139.300036</td>\n",
       "      <td>56320958</td>\n",
       "      <td>56320761</td>\n",
       "      <td>Benign</td>\n",
       "    </tr>\n",
       "    <tr>\n",
       "      <th>1</th>\n",
       "      <td>0</td>\n",
       "      <td>0</td>\n",
       "      <td>14/02/2018 08:33:50</td>\n",
       "      <td>112641466</td>\n",
       "      <td>3</td>\n",
       "      <td>0</td>\n",
       "      <td>0</td>\n",
       "      <td>0</td>\n",
       "      <td>0</td>\n",
       "      <td>0</td>\n",
       "      <td>...</td>\n",
       "      <td>0</td>\n",
       "      <td>0.0</td>\n",
       "      <td>0.0</td>\n",
       "      <td>0</td>\n",
       "      <td>0</td>\n",
       "      <td>56320733.0</td>\n",
       "      <td>114.551299</td>\n",
       "      <td>56320814</td>\n",
       "      <td>56320652</td>\n",
       "      <td>Benign</td>\n",
       "    </tr>\n",
       "    <tr>\n",
       "      <th>2</th>\n",
       "      <td>0</td>\n",
       "      <td>0</td>\n",
       "      <td>14/02/2018 08:36:39</td>\n",
       "      <td>112638623</td>\n",
       "      <td>3</td>\n",
       "      <td>0</td>\n",
       "      <td>0</td>\n",
       "      <td>0</td>\n",
       "      <td>0</td>\n",
       "      <td>0</td>\n",
       "      <td>...</td>\n",
       "      <td>0</td>\n",
       "      <td>0.0</td>\n",
       "      <td>0.0</td>\n",
       "      <td>0</td>\n",
       "      <td>0</td>\n",
       "      <td>56319311.5</td>\n",
       "      <td>301.934596</td>\n",
       "      <td>56319525</td>\n",
       "      <td>56319098</td>\n",
       "      <td>Benign</td>\n",
       "    </tr>\n",
       "    <tr>\n",
       "      <th>3</th>\n",
       "      <td>22</td>\n",
       "      <td>6</td>\n",
       "      <td>14/02/2018 08:40:13</td>\n",
       "      <td>6453966</td>\n",
       "      <td>15</td>\n",
       "      <td>10</td>\n",
       "      <td>1239</td>\n",
       "      <td>2273</td>\n",
       "      <td>744</td>\n",
       "      <td>0</td>\n",
       "      <td>...</td>\n",
       "      <td>32</td>\n",
       "      <td>0.0</td>\n",
       "      <td>0.0</td>\n",
       "      <td>0</td>\n",
       "      <td>0</td>\n",
       "      <td>0.0</td>\n",
       "      <td>0.000000</td>\n",
       "      <td>0</td>\n",
       "      <td>0</td>\n",
       "      <td>Benign</td>\n",
       "    </tr>\n",
       "  </tbody>\n",
       "</table>\n",
       "<p>4 rows × 80 columns</p>\n",
       "</div>"
      ],
      "text/plain": [
       "   Dst Port  Protocol            Timestamp  Flow Duration  Tot Fwd Pkts  \\\n",
       "0         0         0  14/02/2018 08:31:01      112641719             3   \n",
       "1         0         0  14/02/2018 08:33:50      112641466             3   \n",
       "2         0         0  14/02/2018 08:36:39      112638623             3   \n",
       "3        22         6  14/02/2018 08:40:13        6453966            15   \n",
       "\n",
       "   Tot Bwd Pkts  TotLen Fwd Pkts  TotLen Bwd Pkts  Fwd Pkt Len Max  \\\n",
       "0             0                0                0                0   \n",
       "1             0                0                0                0   \n",
       "2             0                0                0                0   \n",
       "3            10             1239             2273              744   \n",
       "\n",
       "   Fwd Pkt Len Min  ...  Fwd Seg Size Min  Active Mean  Active Std  \\\n",
       "0                0  ...                 0          0.0         0.0   \n",
       "1                0  ...                 0          0.0         0.0   \n",
       "2                0  ...                 0          0.0         0.0   \n",
       "3                0  ...                32          0.0         0.0   \n",
       "\n",
       "   Active Max  Active Min   Idle Mean    Idle Std  Idle Max  Idle Min   Label  \n",
       "0           0           0  56320859.5  139.300036  56320958  56320761  Benign  \n",
       "1           0           0  56320733.0  114.551299  56320814  56320652  Benign  \n",
       "2           0           0  56319311.5  301.934596  56319525  56319098  Benign  \n",
       "3           0           0         0.0    0.000000         0         0  Benign  \n",
       "\n",
       "[4 rows x 80 columns]"
      ]
     },
     "execution_count": 5,
     "metadata": {},
     "output_type": "execute_result"
    }
   ],
   "source": [
    "network_data.head(4)"
   ]
  },
  {
   "cell_type": "code",
   "execution_count": 6,
   "metadata": {
    "execution": {
     "iopub.execute_input": "2022-01-07T20:07:24.477479Z",
     "iopub.status.busy": "2022-01-07T20:07:24.476803Z",
     "iopub.status.idle": "2022-01-07T20:07:24.484469Z",
     "shell.execute_reply": "2022-01-07T20:07:24.483716Z",
     "shell.execute_reply.started": "2022-01-07T20:07:24.477443Z"
    }
   },
   "outputs": [
    {
     "data": {
      "text/plain": [
       "Index(['Dst Port', 'Protocol', 'Timestamp', 'Flow Duration', 'Tot Fwd Pkts',\n",
       "       'Tot Bwd Pkts', 'TotLen Fwd Pkts', 'TotLen Bwd Pkts', 'Fwd Pkt Len Max',\n",
       "       'Fwd Pkt Len Min', 'Fwd Pkt Len Mean', 'Fwd Pkt Len Std',\n",
       "       'Bwd Pkt Len Max', 'Bwd Pkt Len Min', 'Bwd Pkt Len Mean',\n",
       "       'Bwd Pkt Len Std', 'Flow Byts/s', 'Flow Pkts/s', 'Flow IAT Mean',\n",
       "       'Flow IAT Std', 'Flow IAT Max', 'Flow IAT Min', 'Fwd IAT Tot',\n",
       "       'Fwd IAT Mean', 'Fwd IAT Std', 'Fwd IAT Max', 'Fwd IAT Min',\n",
       "       'Bwd IAT Tot', 'Bwd IAT Mean', 'Bwd IAT Std', 'Bwd IAT Max',\n",
       "       'Bwd IAT Min', 'Fwd PSH Flags', 'Bwd PSH Flags', 'Fwd URG Flags',\n",
       "       'Bwd URG Flags', 'Fwd Header Len', 'Bwd Header Len', 'Fwd Pkts/s',\n",
       "       'Bwd Pkts/s', 'Pkt Len Min', 'Pkt Len Max', 'Pkt Len Mean',\n",
       "       'Pkt Len Std', 'Pkt Len Var', 'FIN Flag Cnt', 'SYN Flag Cnt',\n",
       "       'RST Flag Cnt', 'PSH Flag Cnt', 'ACK Flag Cnt', 'URG Flag Cnt',\n",
       "       'CWE Flag Count', 'ECE Flag Cnt', 'Down/Up Ratio', 'Pkt Size Avg',\n",
       "       'Fwd Seg Size Avg', 'Bwd Seg Size Avg', 'Fwd Byts/b Avg',\n",
       "       'Fwd Pkts/b Avg', 'Fwd Blk Rate Avg', 'Bwd Byts/b Avg',\n",
       "       'Bwd Pkts/b Avg', 'Bwd Blk Rate Avg', 'Subflow Fwd Pkts',\n",
       "       'Subflow Fwd Byts', 'Subflow Bwd Pkts', 'Subflow Bwd Byts',\n",
       "       'Init Fwd Win Byts', 'Init Bwd Win Byts', 'Fwd Act Data Pkts',\n",
       "       'Fwd Seg Size Min', 'Active Mean', 'Active Std', 'Active Max',\n",
       "       'Active Min', 'Idle Mean', 'Idle Std', 'Idle Max', 'Idle Min', 'Label'],\n",
       "      dtype='object')"
      ]
     },
     "execution_count": 6,
     "metadata": {},
     "output_type": "execute_result"
    }
   ],
   "source": [
    "network_data.columns"
   ]
  },
  {
   "cell_type": "code",
   "execution_count": 7,
   "metadata": {
    "execution": {
     "iopub.execute_input": "2022-01-07T20:07:29.426936Z",
     "iopub.status.busy": "2022-01-07T20:07:29.426412Z",
     "iopub.status.idle": "2022-01-07T20:07:29.433239Z",
     "shell.execute_reply": "2022-01-07T20:07:29.431364Z",
     "shell.execute_reply.started": "2022-01-07T20:07:29.426899Z"
    }
   },
   "outputs": [
    {
     "name": "stdout",
     "output_type": "stream",
     "text": [
      "Total columns in our data: 80\n"
     ]
    }
   ],
   "source": [
    "print('Total columns in our data: %s' % str(len(network_data.columns)))"
   ]
  },
  {
   "cell_type": "code",
   "execution_count": 8,
   "metadata": {
    "execution": {
     "iopub.execute_input": "2022-01-07T20:07:39.614170Z",
     "iopub.status.busy": "2022-01-07T20:07:39.613901Z",
     "iopub.status.idle": "2022-01-07T20:07:39.972932Z",
     "shell.execute_reply": "2022-01-07T20:07:39.971857Z",
     "shell.execute_reply.started": "2022-01-07T20:07:39.614142Z"
    }
   },
   "outputs": [
    {
     "name": "stdout",
     "output_type": "stream",
     "text": [
      "<class 'pandas.core.frame.DataFrame'>\n",
      "RangeIndex: 1048575 entries, 0 to 1048574\n",
      "Data columns (total 80 columns):\n",
      " #   Column             Non-Null Count    Dtype  \n",
      "---  ------             --------------    -----  \n",
      " 0   Dst Port           1048575 non-null  int64  \n",
      " 1   Protocol           1048575 non-null  int64  \n",
      " 2   Timestamp          1048575 non-null  object \n",
      " 3   Flow Duration      1048575 non-null  int64  \n",
      " 4   Tot Fwd Pkts       1048575 non-null  int64  \n",
      " 5   Tot Bwd Pkts       1048575 non-null  int64  \n",
      " 6   TotLen Fwd Pkts    1048575 non-null  int64  \n",
      " 7   TotLen Bwd Pkts    1048575 non-null  int64  \n",
      " 8   Fwd Pkt Len Max    1048575 non-null  int64  \n",
      " 9   Fwd Pkt Len Min    1048575 non-null  int64  \n",
      " 10  Fwd Pkt Len Mean   1048575 non-null  float64\n",
      " 11  Fwd Pkt Len Std    1048575 non-null  float64\n",
      " 12  Bwd Pkt Len Max    1048575 non-null  int64  \n",
      " 13  Bwd Pkt Len Min    1048575 non-null  int64  \n",
      " 14  Bwd Pkt Len Mean   1048575 non-null  float64\n",
      " 15  Bwd Pkt Len Std    1048575 non-null  float64\n",
      " 16  Flow Byts/s        1046298 non-null  float64\n",
      " 17  Flow Pkts/s        1048575 non-null  float64\n",
      " 18  Flow IAT Mean      1048575 non-null  float64\n",
      " 19  Flow IAT Std       1048575 non-null  float64\n",
      " 20  Flow IAT Max       1048575 non-null  int64  \n",
      " 21  Flow IAT Min       1048575 non-null  int64  \n",
      " 22  Fwd IAT Tot        1048575 non-null  int64  \n",
      " 23  Fwd IAT Mean       1048575 non-null  float64\n",
      " 24  Fwd IAT Std        1048575 non-null  float64\n",
      " 25  Fwd IAT Max        1048575 non-null  int64  \n",
      " 26  Fwd IAT Min        1048575 non-null  int64  \n",
      " 27  Bwd IAT Tot        1048575 non-null  int64  \n",
      " 28  Bwd IAT Mean       1048575 non-null  float64\n",
      " 29  Bwd IAT Std        1048575 non-null  float64\n",
      " 30  Bwd IAT Max        1048575 non-null  int64  \n",
      " 31  Bwd IAT Min        1048575 non-null  int64  \n",
      " 32  Fwd PSH Flags      1048575 non-null  int64  \n",
      " 33  Bwd PSH Flags      1048575 non-null  int64  \n",
      " 34  Fwd URG Flags      1048575 non-null  int64  \n",
      " 35  Bwd URG Flags      1048575 non-null  int64  \n",
      " 36  Fwd Header Len     1048575 non-null  int64  \n",
      " 37  Bwd Header Len     1048575 non-null  int64  \n",
      " 38  Fwd Pkts/s         1048575 non-null  float64\n",
      " 39  Bwd Pkts/s         1048575 non-null  float64\n",
      " 40  Pkt Len Min        1048575 non-null  int64  \n",
      " 41  Pkt Len Max        1048575 non-null  int64  \n",
      " 42  Pkt Len Mean       1048575 non-null  float64\n",
      " 43  Pkt Len Std        1048575 non-null  float64\n",
      " 44  Pkt Len Var        1048575 non-null  float64\n",
      " 45  FIN Flag Cnt       1048575 non-null  int64  \n",
      " 46  SYN Flag Cnt       1048575 non-null  int64  \n",
      " 47  RST Flag Cnt       1048575 non-null  int64  \n",
      " 48  PSH Flag Cnt       1048575 non-null  int64  \n",
      " 49  ACK Flag Cnt       1048575 non-null  int64  \n",
      " 50  URG Flag Cnt       1048575 non-null  int64  \n",
      " 51  CWE Flag Count     1048575 non-null  int64  \n",
      " 52  ECE Flag Cnt       1048575 non-null  int64  \n",
      " 53  Down/Up Ratio      1048575 non-null  int64  \n",
      " 54  Pkt Size Avg       1048575 non-null  float64\n",
      " 55  Fwd Seg Size Avg   1048575 non-null  float64\n",
      " 56  Bwd Seg Size Avg   1048575 non-null  float64\n",
      " 57  Fwd Byts/b Avg     1048575 non-null  int64  \n",
      " 58  Fwd Pkts/b Avg     1048575 non-null  int64  \n",
      " 59  Fwd Blk Rate Avg   1048575 non-null  int64  \n",
      " 60  Bwd Byts/b Avg     1048575 non-null  int64  \n",
      " 61  Bwd Pkts/b Avg     1048575 non-null  int64  \n",
      " 62  Bwd Blk Rate Avg   1048575 non-null  int64  \n",
      " 63  Subflow Fwd Pkts   1048575 non-null  int64  \n",
      " 64  Subflow Fwd Byts   1048575 non-null  int64  \n",
      " 65  Subflow Bwd Pkts   1048575 non-null  int64  \n",
      " 66  Subflow Bwd Byts   1048575 non-null  int64  \n",
      " 67  Init Fwd Win Byts  1048575 non-null  int64  \n",
      " 68  Init Bwd Win Byts  1048575 non-null  int64  \n",
      " 69  Fwd Act Data Pkts  1048575 non-null  int64  \n",
      " 70  Fwd Seg Size Min   1048575 non-null  int64  \n",
      " 71  Active Mean        1048575 non-null  float64\n",
      " 72  Active Std         1048575 non-null  float64\n",
      " 73  Active Max         1048575 non-null  int64  \n",
      " 74  Active Min         1048575 non-null  int64  \n",
      " 75  Idle Mean          1048575 non-null  float64\n",
      " 76  Idle Std           1048575 non-null  float64\n",
      " 77  Idle Max           1048575 non-null  int64  \n",
      " 78  Idle Min           1048575 non-null  int64  \n",
      " 79  Label              1048575 non-null  object \n",
      "dtypes: float64(24), int64(54), object(2)\n",
      "memory usage: 640.0+ MB\n"
     ]
    }
   ],
   "source": [
    "network_data.info()"
   ]
  },
  {
   "cell_type": "code",
   "execution_count": 9,
   "metadata": {
    "execution": {
     "iopub.execute_input": "2022-01-07T20:07:56.049858Z",
     "iopub.status.busy": "2022-01-07T20:07:56.049550Z",
     "iopub.status.idle": "2022-01-07T20:07:56.207495Z",
     "shell.execute_reply": "2022-01-07T20:07:56.206793Z",
     "shell.execute_reply.started": "2022-01-07T20:07:56.049824Z"
    }
   },
   "outputs": [
    {
     "data": {
      "text/plain": [
       "Benign            667626\n",
       "FTP-BruteForce    193360\n",
       "SSH-Bruteforce    187589\n",
       "Name: Label, dtype: int64"
      ]
     },
     "execution_count": 9,
     "metadata": {},
     "output_type": "execute_result"
    }
   ],
   "source": [
    "network_data['Label'].value_counts()"
   ]
  },
  {
   "cell_type": "code",
   "execution_count": 10,
   "metadata": {
    "execution": {
     "iopub.execute_input": "2022-01-07T20:08:48.427197Z",
     "iopub.status.busy": "2022-01-07T20:08:48.426705Z",
     "iopub.status.idle": "2022-01-07T20:08:49.888508Z",
     "shell.execute_reply": "2022-01-07T20:08:49.887662Z",
     "shell.execute_reply.started": "2022-01-07T20:08:48.427163Z"
    }
   },
   "outputs": [
    {
     "data": {
      "image/png": "[encoded data removed]",
      "text/plain": [
       "<Figure size 864x432 with 1 Axes>"
      ]
     },
     "metadata": {},
     "output_type": "display_data"
    }
   ],
   "source": [
    "sns.set(rc={'figure.figsize':(12, 6)})\n",
    "plt.xlabel('Attack Type')\n",
    "sns.set_theme()\n",
    "ax = sns.countplot(x='Label', data=network_data)\n",
    "ax.set(xlabel='Attack Type', ylabel='Number of Attacks')\n",
    "plt.show()"
   ]
  },
  {
   "cell_type": "code",
   "execution_count": 14,
   "metadata": {
    "execution": {
     "iopub.execute_input": "2022-01-07T20:11:44.396989Z",
     "iopub.status.busy": "2022-01-07T20:11:44.395237Z",
     "iopub.status.idle": "2022-01-07T20:11:44.722747Z",
     "shell.execute_reply": "2022-01-07T20:11:44.721988Z",
     "shell.execute_reply.started": "2022-01-07T20:11:44.396936Z"
    }
   },
   "outputs": [
    {
     "data": {
      "text/plain": [
       "array([   0,    0,    0,    0,    0,    0,    0,    0,    0,    0,    0,\n",
       "          0,    0,    0,    0,    0, 2277,    0,    0,    0,    0,    0,\n",
       "          0,    0,    0,    0,    0,    0,    0,    0,    0,    0,    0,\n",
       "          0,    0,    0,    0,    0,    0,    0,    0,    0,    0,    0,\n",
       "          0,    0,    0,    0,    0,    0,    0,    0,    0,    0,    0,\n",
       "          0,    0,    0,    0,    0,    0,    0,    0,    0,    0,    0,\n",
       "          0,    0,    0,    0,    0,    0,    0,    0,    0,    0,    0,\n",
       "          0,    0,    0])"
      ]
     },
     "execution_count": 14,
     "metadata": {},
     "output_type": "execute_result"
    }
   ],
   "source": [
    "network_data.isna().sum().to_numpy()"
   ]
  },
  {
   "cell_type": "code",
   "execution_count": 15,
   "metadata": {
    "execution": {
     "iopub.execute_input": "2022-01-07T20:13:09.512301Z",
     "iopub.status.busy": "2022-01-07T20:13:09.512015Z",
     "iopub.status.idle": "2022-01-07T20:13:10.376900Z",
     "shell.execute_reply": "2022-01-07T20:13:10.376043Z",
     "shell.execute_reply.started": "2022-01-07T20:13:09.512271Z"
    }
   },
   "outputs": [
    {
     "data": {
      "text/plain": [
       "array([0, 0, 0, 0, 0, 0, 0, 0, 0, 0, 0, 0, 0, 0, 0, 0, 0, 0, 0, 0, 0, 0,\n",
       "       0, 0, 0, 0, 0, 0, 0, 0, 0, 0, 0, 0, 0, 0, 0, 0, 0, 0, 0, 0, 0, 0,\n",
       "       0, 0, 0, 0, 0, 0, 0, 0, 0, 0, 0, 0, 0, 0, 0, 0, 0, 0, 0, 0, 0, 0,\n",
       "       0, 0, 0, 0, 0, 0, 0, 0, 0, 0, 0, 0, 0, 0])"
      ]
     },
     "execution_count": 15,
     "metadata": {},
     "output_type": "execute_result"
    }
   ],
   "source": [
    "cleaned_data = network_data.dropna()\n",
    "cleaned_data.isna().sum().to_numpy()"
   ]
  },
  {
   "cell_type": "code",
   "execution_count": 16,
   "metadata": {
    "execution": {
     "iopub.execute_input": "2022-01-07T20:21:10.739835Z",
     "iopub.status.busy": "2022-01-07T20:21:10.739559Z",
     "iopub.status.idle": "2022-01-07T20:21:10.783896Z",
     "shell.execute_reply": "2022-01-07T20:21:10.783141Z",
     "shell.execute_reply.started": "2022-01-07T20:21:10.739805Z"
    }
   },
   "outputs": [
    {
     "name": "stderr",
     "output_type": "stream",
     "text": [
      "/root/anaconda3/envs/exp1/lib/python3.6/site-packages/ipykernel_launcher.py:2: SettingWithCopyWarning:\n",
      "\n",
      "\n",
      "A value is trying to be set on a copy of a slice from a DataFrame.\n",
      "Try using .loc[row_indexer,col_indexer] = value instead\n",
      "\n",
      "See the caveats in the documentation: https://pandas.pydata.org/pandas-docs/stable/user_guide/indexing.html#returning-a-view-versus-a-copy\n",
      "\n"
     ]
    },
    {
     "data": {
      "text/plain": [
       "array([0, 1, 2])"
      ]
     },
     "execution_count": 16,
     "metadata": {},
     "output_type": "execute_result"
    }
   ],
   "source": [
    "label_encoder = LabelEncoder()\n",
    "cleaned_data['Label']= label_encoder.fit_transform(cleaned_data['Label'])\n",
    "cleaned_data['Label'].unique()"
   ]
  },
  {
   "cell_type": "code",
   "execution_count": 17,
   "metadata": {
    "execution": {
     "iopub.execute_input": "2022-01-07T20:21:13.390953Z",
     "iopub.status.busy": "2022-01-07T20:21:13.390389Z",
     "iopub.status.idle": "2022-01-07T20:21:13.402448Z",
     "shell.execute_reply": "2022-01-07T20:21:13.401675Z",
     "shell.execute_reply.started": "2022-01-07T20:21:13.390914Z"
    }
   },
   "outputs": [
    {
     "data": {
      "text/plain": [
       "0    665355\n",
       "1    193354\n",
       "2    187589\n",
       "Name: Label, dtype: int64"
      ]
     },
     "execution_count": 17,
     "metadata": {},
     "output_type": "execute_result"
    }
   ],
   "source": [
    "cleaned_data['Label'].value_counts()"
   ]
  },
  {
   "cell_type": "code",
   "execution_count": 18,
   "metadata": {
    "execution": {
     "iopub.execute_input": "2022-01-07T20:26:22.315581Z",
     "iopub.status.busy": "2022-01-07T20:26:22.315321Z",
     "iopub.status.idle": "2022-01-07T20:26:23.213443Z",
     "shell.execute_reply": "2022-01-07T20:26:23.212713Z",
     "shell.execute_reply.started": "2022-01-07T20:26:22.315547Z"
    }
   },
   "outputs": [],
   "source": [
    "data_1 = cleaned_data[cleaned_data['Label'] == 0]\n",
    "data_2 = cleaned_data[cleaned_data['Label'] == 1]\n",
    "data_3 = cleaned_data[cleaned_data['Label'] == 2]\n",
    "\n",
    "y_1 = np.zeros(data_1.shape[0])\n",
    "y_benign = pd.DataFrame(y_1)\n",
    "\n",
    "y_2 = np.ones(data_2.shape[0])\n",
    "y_bf = pd.DataFrame(y_2)\n",
    "\n",
    "y_3 = np.full(data_3.shape[0], 2)\n",
    "y_ssh = pd.DataFrame(y_3)\n",
    "\n",
    "X = pd.concat([data_1, data_2, data_3], sort=True)\n",
    "y = pd.concat([y_benign, y_bf, y_ssh], sort=True)"
   ]
  },
  {
   "cell_type": "code",
   "execution_count": 19,
   "metadata": {
    "execution": {
     "iopub.execute_input": "2022-01-07T20:26:35.204534Z",
     "iopub.status.busy": "2022-01-07T20:26:35.204289Z",
     "iopub.status.idle": "2022-01-07T20:26:35.211638Z",
     "shell.execute_reply": "2022-01-07T20:26:35.210756Z",
     "shell.execute_reply.started": "2022-01-07T20:26:35.204507Z"
    }
   },
   "outputs": [
    {
     "data": {
      "text/plain": [
       "(array([0., 0., 0., ..., 0., 0., 0.]),\n",
       " array([1., 1., 1., ..., 1., 1., 1.]),\n",
       " array([2, 2, 2, ..., 2, 2, 2]))"
      ]
     },
     "execution_count": 19,
     "metadata": {},
     "output_type": "execute_result"
    }
   ],
   "source": [
    "y_1, y_2, y_3"
   ]
  },
  {
   "cell_type": "code",
   "execution_count": 20,
   "metadata": {
    "execution": {
     "iopub.execute_input": "2022-01-07T20:27:07.797727Z",
     "iopub.status.busy": "2022-01-07T20:27:07.796988Z",
     "iopub.status.idle": "2022-01-07T20:27:07.802664Z",
     "shell.execute_reply": "2022-01-07T20:27:07.801971Z",
     "shell.execute_reply.started": "2022-01-07T20:27:07.797691Z"
    }
   },
   "outputs": [
    {
     "name": "stdout",
     "output_type": "stream",
     "text": [
      "(1046298, 80)\n",
      "(1046298, 1)\n"
     ]
    }
   ],
   "source": [
    "print(X.shape)\n",
    "print(y.shape)"
   ]
  },
  {
   "cell_type": "code",
   "execution_count": 21,
   "metadata": {
    "execution": {
     "iopub.execute_input": "2022-01-07T20:27:10.821792Z",
     "iopub.status.busy": "2022-01-07T20:27:10.821520Z",
     "iopub.status.idle": "2022-01-07T20:27:11.043195Z",
     "shell.execute_reply": "2022-01-07T20:27:11.042493Z",
     "shell.execute_reply.started": "2022-01-07T20:27:10.821751Z"
    }
   },
   "outputs": [
    {
     "data": {
      "text/plain": [
       "array([0, 0, 0, 0, 0, 0, 0, 0, 0, 0, 0, 0, 0, 0, 0, 0, 0, 0, 0, 0, 0, 0,\n",
       "       0, 0, 0, 0, 0, 0, 0, 0, 0, 0, 0, 0, 0, 0, 0, 0, 0, 0, 0, 0, 0, 0,\n",
       "       0, 0, 0, 0, 0, 0, 0, 0, 0, 0, 0, 0, 0, 0, 0, 0, 0, 0, 0, 0, 0, 0,\n",
       "       0, 0, 0, 0, 0, 0, 0, 0, 0, 0, 0, 0, 0, 0])"
      ]
     },
     "execution_count": 21,
     "metadata": {},
     "output_type": "execute_result"
    }
   ],
   "source": [
    "X.isnull().sum().to_numpy()"
   ]
  },
  {
   "cell_type": "code",
   "execution_count": 22,
   "metadata": {
    "execution": {
     "iopub.execute_input": "2022-01-07T20:27:52.833869Z",
     "iopub.status.busy": "2022-01-07T20:27:52.833430Z",
     "iopub.status.idle": "2022-01-07T20:27:52.937886Z",
     "shell.execute_reply": "2022-01-07T20:27:52.937126Z",
     "shell.execute_reply.started": "2022-01-07T20:27:52.833827Z"
    }
   },
   "outputs": [],
   "source": [
    "from sklearn.utils import resample\n",
    "\n",
    "data_1_resample = resample(data_1, n_samples=20000, \n",
    "                           random_state=123, replace=True)\n",
    "data_2_resample = resample(data_2, n_samples=20000, \n",
    "                           random_state=123, replace=True)\n",
    "data_3_resample = resample(data_3, n_samples=20000, \n",
    "                           random_state=123, replace=True)"
   ]
  },
  {
   "cell_type": "code",
   "execution_count": 23,
   "metadata": {
    "execution": {
     "iopub.execute_input": "2022-01-07T20:27:55.700642Z",
     "iopub.status.busy": "2022-01-07T20:27:55.700365Z",
     "iopub.status.idle": "2022-01-07T20:27:55.745310Z",
     "shell.execute_reply": "2022-01-07T20:27:55.744481Z",
     "shell.execute_reply.started": "2022-01-07T20:27:55.700612Z"
    }
   },
   "outputs": [
    {
     "data": {
      "text/html": [
       "<div>\n",
       "<style scoped>\n",
       "    .dataframe tbody tr th:only-of-type {\n",
       "        vertical-align: middle;\n",
       "    }\n",
       "\n",
       "    .dataframe tbody tr th {\n",
       "        vertical-align: top;\n",
       "    }\n",
       "\n",
       "    .dataframe thead th {\n",
       "        text-align: right;\n",
       "    }\n",
       "</style>\n",
       "<table border=\"1\" class=\"dataframe\">\n",
       "  <thead>\n",
       "    <tr style=\"text-align: right;\">\n",
       "      <th></th>\n",
       "      <th>Dst Port</th>\n",
       "      <th>Protocol</th>\n",
       "      <th>Timestamp</th>\n",
       "      <th>Flow Duration</th>\n",
       "      <th>Tot Fwd Pkts</th>\n",
       "      <th>Tot Bwd Pkts</th>\n",
       "      <th>TotLen Fwd Pkts</th>\n",
       "      <th>TotLen Bwd Pkts</th>\n",
       "      <th>Fwd Pkt Len Max</th>\n",
       "      <th>Fwd Pkt Len Min</th>\n",
       "      <th>...</th>\n",
       "      <th>Fwd Seg Size Min</th>\n",
       "      <th>Active Mean</th>\n",
       "      <th>Active Std</th>\n",
       "      <th>Active Max</th>\n",
       "      <th>Active Min</th>\n",
       "      <th>Idle Mean</th>\n",
       "      <th>Idle Std</th>\n",
       "      <th>Idle Max</th>\n",
       "      <th>Idle Min</th>\n",
       "      <th>Label</th>\n",
       "    </tr>\n",
       "  </thead>\n",
       "  <tbody>\n",
       "    <tr>\n",
       "      <th>659775</th>\n",
       "      <td>53</td>\n",
       "      <td>17</td>\n",
       "      <td>14/02/2018 03:29:35</td>\n",
       "      <td>79333</td>\n",
       "      <td>2</td>\n",
       "      <td>2</td>\n",
       "      <td>66</td>\n",
       "      <td>254</td>\n",
       "      <td>33</td>\n",
       "      <td>33</td>\n",
       "      <td>...</td>\n",
       "      <td>8</td>\n",
       "      <td>0.0</td>\n",
       "      <td>0.0</td>\n",
       "      <td>0</td>\n",
       "      <td>0</td>\n",
       "      <td>0.0</td>\n",
       "      <td>0.0</td>\n",
       "      <td>0</td>\n",
       "      <td>0</td>\n",
       "      <td>0</td>\n",
       "    </tr>\n",
       "    <tr>\n",
       "      <th>409094</th>\n",
       "      <td>443</td>\n",
       "      <td>6</td>\n",
       "      <td>14/02/2018 10:03:30</td>\n",
       "      <td>621591</td>\n",
       "      <td>9</td>\n",
       "      <td>8</td>\n",
       "      <td>1542</td>\n",
       "      <td>4796</td>\n",
       "      <td>1157</td>\n",
       "      <td>0</td>\n",
       "      <td>...</td>\n",
       "      <td>20</td>\n",
       "      <td>0.0</td>\n",
       "      <td>0.0</td>\n",
       "      <td>0</td>\n",
       "      <td>0</td>\n",
       "      <td>0.0</td>\n",
       "      <td>0.0</td>\n",
       "      <td>0</td>\n",
       "      <td>0</td>\n",
       "      <td>0</td>\n",
       "    </tr>\n",
       "  </tbody>\n",
       "</table>\n",
       "<p>2 rows × 80 columns</p>\n",
       "</div>"
      ],
      "text/plain": [
       "        Dst Port  Protocol            Timestamp  Flow Duration  Tot Fwd Pkts  \\\n",
       "659775        53        17  14/02/2018 03:29:35          79333             2   \n",
       "409094       443         6  14/02/2018 10:03:30         621591             9   \n",
       "\n",
       "        Tot Bwd Pkts  TotLen Fwd Pkts  TotLen Bwd Pkts  Fwd Pkt Len Max  \\\n",
       "659775             2               66              254               33   \n",
       "409094             8             1542             4796             1157   \n",
       "\n",
       "        Fwd Pkt Len Min  ...  Fwd Seg Size Min  Active Mean  Active Std  \\\n",
       "659775               33  ...                 8          0.0         0.0   \n",
       "409094                0  ...                20          0.0         0.0   \n",
       "\n",
       "        Active Max  Active Min  Idle Mean  Idle Std  Idle Max  Idle Min  Label  \n",
       "659775           0           0        0.0       0.0         0         0      0  \n",
       "409094           0           0        0.0       0.0         0         0      0  \n",
       "\n",
       "[2 rows x 80 columns]"
      ]
     },
     "execution_count": 23,
     "metadata": {},
     "output_type": "execute_result"
    }
   ],
   "source": [
    "train_dataset = pd.concat([data_1_resample, data_2_resample, data_3_resample])\n",
    "train_dataset.head(2)"
   ]
  },
  {
   "cell_type": "code",
   "execution_count": 25,
   "metadata": {
    "execution": {
     "iopub.execute_input": "2022-01-07T20:36:23.776461Z",
     "iopub.status.busy": "2022-01-07T20:36:23.776209Z",
     "iopub.status.idle": "2022-01-07T20:36:23.794350Z",
     "shell.execute_reply": "2022-01-07T20:36:23.793681Z",
     "shell.execute_reply.started": "2022-01-07T20:36:23.776434Z"
    }
   },
   "outputs": [
    {
     "data": {
      "text/plain": [
       "(array([0, 1, 2]), array([0, 2, 1]))"
      ]
     },
     "execution_count": 25,
     "metadata": {},
     "output_type": "execute_result"
    }
   ],
   "source": [
    "test_dataset = train_dataset.sample(frac=0.1)\n",
    "target_train = train_dataset['Label']\n",
    "target_test = test_dataset['Label']\n",
    "target_train.unique(), target_test.unique()"
   ]
  },
  {
   "cell_type": "code",
   "execution_count": 26,
   "metadata": {
    "execution": {
     "iopub.execute_input": "2022-01-07T20:36:29.300285Z",
     "iopub.status.busy": "2022-01-07T20:36:29.299722Z",
     "iopub.status.idle": "2022-01-07T20:36:29.306904Z",
     "shell.execute_reply": "2022-01-07T20:36:29.305643Z",
     "shell.execute_reply.started": "2022-01-07T20:36:29.300246Z"
    }
   },
   "outputs": [],
   "source": [
    "y_train = to_categorical(target_train, num_classes=3)\n",
    "y_test = to_categorical(target_test, num_classes=3)"
   ]
  },
  {
   "cell_type": "code",
   "execution_count": 27,
   "metadata": {
    "execution": {
     "iopub.execute_input": "2022-01-07T20:36:32.804456Z",
     "iopub.status.busy": "2022-01-07T20:36:32.804195Z",
     "iopub.status.idle": "2022-01-07T20:36:32.820349Z",
     "shell.execute_reply": "2022-01-07T20:36:32.819640Z",
     "shell.execute_reply.started": "2022-01-07T20:36:32.804427Z"
    }
   },
   "outputs": [],
   "source": [
    "train_dataset = train_dataset.drop(columns = [\"Timestamp\", \"Protocol\",\"PSH Flag Cnt\",\"Init Fwd Win Byts\",\"Flow Byts/s\",\"Flow Pkts/s\", \"Label\"], axis=1)\n",
    "test_dataset = test_dataset.drop(columns = [\"Timestamp\", \"Protocol\",\"PSH Flag Cnt\",\"Init Fwd Win Byts\",\"Flow Byts/s\",\"Flow Pkts/s\", \"Label\"], axis=1)"
   ]
  },
  {
   "cell_type": "code",
   "execution_count": 28,
   "metadata": {
    "execution": {
     "iopub.execute_input": "2022-01-07T20:36:38.769626Z",
     "iopub.status.busy": "2022-01-07T20:36:38.769157Z",
     "iopub.status.idle": "2022-01-07T20:36:38.801563Z",
     "shell.execute_reply": "2022-01-07T20:36:38.800846Z",
     "shell.execute_reply.started": "2022-01-07T20:36:38.769590Z"
    }
   },
   "outputs": [
    {
     "data": {
      "text/plain": [
       "array([[5.04310e+04, 7.60000e+01, 2.00000e+00, ..., 0.00000e+00,\n",
       "        0.00000e+00, 0.00000e+00],\n",
       "       [2.20000e+01, 3.17448e+05, 2.10000e+01, ..., 0.00000e+00,\n",
       "        0.00000e+00, 0.00000e+00],\n",
       "       [5.17650e+04, 4.00000e+01, 1.00000e+00, ..., 0.00000e+00,\n",
       "        0.00000e+00, 0.00000e+00],\n",
       "       ...,\n",
       "       [2.10000e+01, 1.00000e+00, 1.00000e+00, ..., 0.00000e+00,\n",
       "        0.00000e+00, 0.00000e+00],\n",
       "       [2.10000e+01, 2.00000e+00, 1.00000e+00, ..., 0.00000e+00,\n",
       "        0.00000e+00, 0.00000e+00],\n",
       "       [2.20000e+01, 3.74246e+05, 2.30000e+01, ..., 0.00000e+00,\n",
       "        0.00000e+00, 0.00000e+00]])"
      ]
     },
     "execution_count": 28,
     "metadata": {},
     "output_type": "execute_result"
    }
   ],
   "source": [
    "X_train = train_dataset.iloc[:, :-1].values\n",
    "X_test = test_dataset.iloc[:, :-1].values\n",
    "X_test"
   ]
  },
  {
   "cell_type": "code",
   "execution_count": 29,
   "metadata": {
    "execution": {
     "iopub.execute_input": "2022-01-07T20:36:43.755736Z",
     "iopub.status.busy": "2022-01-07T20:36:43.755367Z",
     "iopub.status.idle": "2022-01-07T20:36:43.761820Z",
     "shell.execute_reply": "2022-01-07T20:36:43.761102Z",
     "shell.execute_reply.started": "2022-01-07T20:36:43.755688Z"
    }
   },
   "outputs": [
    {
     "name": "stdout",
     "output_type": "stream",
     "text": [
      "(60000, 72)\n",
      "(6000, 72)\n",
      "(60000, 3)\n",
      "(6000, 3)\n"
     ]
    }
   ],
   "source": [
    "print(X_train.shape)\n",
    "print(X_test.shape)\n",
    "print(y_train.shape)\n",
    "print(y_test.shape)"
   ]
  },
  {
   "cell_type": "code",
   "execution_count": 30,
   "metadata": {
    "execution": {
     "iopub.execute_input": "2022-01-07T20:37:01.074970Z",
     "iopub.status.busy": "2022-01-07T20:37:01.074517Z",
     "iopub.status.idle": "2022-01-07T20:37:01.089504Z",
     "shell.execute_reply": "2022-01-07T20:37:01.088723Z",
     "shell.execute_reply.started": "2022-01-07T20:37:01.074924Z"
    }
   },
   "outputs": [
    {
     "data": {
      "text/plain": [
       "((60000, 72, 1), (6000, 72, 1))"
      ]
     },
     "execution_count": 30,
     "metadata": {},
     "output_type": "execute_result"
    }
   ],
   "source": [
    "X_train = X_train.reshape(len(X_train), X_train.shape[1], 1)\n",
    "X_test = X_test.reshape(len(X_test), X_test.shape[1], 1)\n",
    "X_train.shape, X_test.shape"
   ]
  },
  {
   "cell_type": "code",
   "execution_count": 31,
   "metadata": {
    "execution": {
     "iopub.execute_input": "2022-01-07T20:37:06.711106Z",
     "iopub.status.busy": "2022-01-07T20:37:06.710847Z",
     "iopub.status.idle": "2022-01-07T20:37:06.721260Z",
     "shell.execute_reply": "2022-01-07T20:37:06.720452Z",
     "shell.execute_reply.started": "2022-01-07T20:37:06.711079Z"
    }
   },
   "outputs": [],
   "source": [
    "def model():\n",
    "    model = Sequential()\n",
    "    model.add(Conv1D(filters=64, kernel_size=6, activation='relu', \n",
    "                    padding='same', input_shape=(72, 1)))\n",
    "    model.add(BatchNormalization())\n",
    "    \n",
    "    \n",
    "    model.add(MaxPooling1D(pool_size=(3), strides=2, padding='same'))\n",
    "    \n",
    "    model.add(Conv1D(filters=64, kernel_size=6, activation='relu', \n",
    "                    padding='same', input_shape=(72, 1)))\n",
    "    model.add(BatchNormalization())\n",
    "    model.add(MaxPooling1D(pool_size=(3), strides=2, padding='same'))\n",
    "    \n",
    "    model.add(Conv1D(filters=64, kernel_size=6, activation='relu', \n",
    "                    padding='same', input_shape=(72, 1)))\n",
    "    model.add(BatchNormalization())\n",
    "    model.add(MaxPooling1D(pool_size=(3), strides=2, padding='same'))\n",
    "    \n",
    "    model.add(Flatten())\n",
    "    model.add(Dense(64, activation='relu'))\n",
    "    model.add(Dense(64, activation='relu'))\n",
    "    model.add(Dense(3, activation='softmax'))\n",
    "    \n",
    "    model.compile(loss='categorical_crossentropy', optimizer='adam', metrics=['accuracy'])\n",
    "    return model"
   ]
  },
  {
   "cell_type": "code",
   "execution_count": 32,
   "metadata": {
    "execution": {
     "iopub.execute_input": "2022-01-07T20:37:08.721648Z",
     "iopub.status.busy": "2022-01-07T20:37:08.721262Z",
     "iopub.status.idle": "2022-01-07T20:37:11.175273Z",
     "shell.execute_reply": "2022-01-07T20:37:11.174523Z",
     "shell.execute_reply.started": "2022-01-07T20:37:08.721614Z"
    }
   },
   "outputs": [
    {
     "name": "stdout",
     "output_type": "stream",
     "text": [
      "WARNING:tensorflow:From /root/anaconda3/envs/exp1/lib/python3.6/site-packages/keras/backend/tensorflow_backend.py:68: The name tf.get_default_graph is deprecated. Please use tf.compat.v1.get_default_graph instead.\n",
      "\n",
      "WARNING:tensorflow:From /root/anaconda3/envs/exp1/lib/python3.6/site-packages/keras/backend/tensorflow_backend.py:508: The name tf.placeholder is deprecated. Please use tf.compat.v1.placeholder instead.\n",
      "\n",
      "WARNING:tensorflow:From /root/anaconda3/envs/exp1/lib/python3.6/site-packages/keras/backend/tensorflow_backend.py:3837: The name tf.random_uniform is deprecated. Please use tf.random.uniform instead.\n",
      "\n",
      "WARNING:tensorflow:From /root/anaconda3/envs/exp1/lib/python3.6/site-packages/keras/backend/tensorflow_backend.py:127: The name tf.placeholder_with_default is deprecated. Please use tf.compat.v1.placeholder_with_default instead.\n",
      "\n",
      "WARNING:tensorflow:From /root/anaconda3/envs/exp1/lib/python3.6/site-packages/keras/backend/tensorflow_backend.py:3661: The name tf.nn.max_pool is deprecated. Please use tf.nn.max_pool2d instead.\n",
      "\n",
      "WARNING:tensorflow:From /root/anaconda3/envs/exp1/lib/python3.6/site-packages/keras/optimizers.py:757: The name tf.train.Optimizer is deprecated. Please use tf.compat.v1.train.Optimizer instead.\n",
      "\n",
      "WARNING:tensorflow:From /root/anaconda3/envs/exp1/lib/python3.6/site-packages/keras/backend/tensorflow_backend.py:3014: The name tf.log is deprecated. Please use tf.math.log instead.\n",
      "\n",
      "_________________________________________________________________\n",
      "Layer (type)                 Output Shape              Param #   \n",
      "=================================================================\n",
      "conv1d_1 (Conv1D)            (None, 72, 64)            448       \n",
      "_________________________________________________________________\n",
      "batch_normalization_1 (Batch (None, 72, 64)            256       \n",
      "_________________________________________________________________\n",
      "max_pooling1d_1 (MaxPooling1 (None, 36, 64)            0         \n",
      "_________________________________________________________________\n",
      "conv1d_2 (Conv1D)            (None, 36, 64)            24640     \n",
      "_________________________________________________________________\n",
      "batch_normalization_2 (Batch (None, 36, 64)            256       \n",
      "_________________________________________________________________\n",
      "max_pooling1d_2 (MaxPooling1 (None, 18, 64)            0         \n",
      "_________________________________________________________________\n",
      "conv1d_3 (Conv1D)            (None, 18, 64)            24640     \n",
      "_________________________________________________________________\n",
      "batch_normalization_3 (Batch (None, 18, 64)            256       \n",
      "_________________________________________________________________\n",
      "max_pooling1d_3 (MaxPooling1 (None, 9, 64)             0         \n",
      "_________________________________________________________________\n",
      "flatten_1 (Flatten)          (None, 576)               0         \n",
      "_________________________________________________________________\n",
      "dense_1 (Dense)              (None, 64)                36928     \n",
      "_________________________________________________________________\n",
      "dense_2 (Dense)              (None, 64)                4160      \n",
      "_________________________________________________________________\n",
      "dense_3 (Dense)              (None, 3)                 195       \n",
      "=================================================================\n",
      "Total params: 91,779\n",
      "Trainable params: 91,395\n",
      "Non-trainable params: 384\n",
      "_________________________________________________________________\n"
     ]
    }
   ],
   "source": [
    "model = model()\n",
    "model.summary()"
   ]
  },
  {
   "cell_type": "code",
   "execution_count": 38,
   "metadata": {
    "execution": {
     "iopub.execute_input": "2022-01-07T20:49:42.117404Z",
     "iopub.status.busy": "2022-01-07T20:49:42.116943Z",
     "iopub.status.idle": "2022-01-07T20:54:04.096377Z",
     "shell.execute_reply": "2022-01-07T20:54:04.095505Z",
     "shell.execute_reply.started": "2022-01-07T20:49:42.117371Z"
    }
   },
   "outputs": [
    {
     "name": "stdout",
     "output_type": "stream",
     "text": [
      "Train on 60000 samples, validate on 6000 samples\n",
      "Epoch 1/10\n",
      "60000/60000 [==============================] - 24s 400us/step - loss: 0.0551 - acc: 0.9813 - val_loss: 3.5701 - val_acc: 0.4325\n",
      "Epoch 2/10\n",
      "60000/60000 [==============================] - 24s 399us/step - loss: 0.0569 - acc: 0.9807 - val_loss: 10.7308 - val_acc: 0.3325\n",
      "Epoch 3/10\n",
      "60000/60000 [==============================] - 24s 398us/step - loss: 0.0593 - acc: 0.9807 - val_loss: 1.9897 - val_acc: 0.5078\n",
      "Epoch 4/10\n",
      "60000/60000 [==============================] - 24s 398us/step - loss: 0.0569 - acc: 0.9830 - val_loss: 1.6815 - val_acc: 0.6600\n",
      "Epoch 5/10\n",
      "60000/60000 [==============================] - 33s 555us/step - loss: 0.0453 - acc: 0.9853 - val_loss: 1.7158 - val_acc: 0.5073\n",
      "Epoch 6/10\n",
      "60000/60000 [==============================] - 33s 548us/step - loss: 0.0524 - acc: 0.9829 - val_loss: 0.9410 - val_acc: 0.6297\n",
      "Epoch 7/10\n",
      "60000/60000 [==============================] - 33s 550us/step - loss: 0.0521 - acc: 0.9831 - val_loss: 1.3700 - val_acc: 0.6047\n",
      "Epoch 8/10\n",
      "60000/60000 [==============================] - 26s 426us/step - loss: 0.0425 - acc: 0.9868 - val_loss: 10.1868 - val_acc: 0.3355\n",
      "Epoch 9/10\n",
      "60000/60000 [==============================] - 24s 403us/step - loss: 0.0402 - acc: 0.9892 - val_loss: 0.3886 - val_acc: 0.7948\n",
      "Epoch 10/10\n",
      "60000/60000 [==============================] - 24s 396us/step - loss: 0.0171 - acc: 0.9979 - val_loss: 0.6524 - val_acc: 0.6188\n",
      "CPU times: user 8min 43s, sys: 37.6 s, total: 9min 20s\n",
      "Wall time: 4min 28s\n"
     ]
    }
   ],
   "source": [
    "%%time\n",
    "logger = CSVLogger('logs.csv', append=True)\n",
    "his = model.fit(X_train, y_train, epochs=10, batch_size=32, \n",
    "          validation_data=(X_test, y_test), callbacks=[logger])"
   ]
  },
  {
   "cell_type": "code",
   "execution_count": 39,
   "metadata": {
    "execution": {
     "iopub.execute_input": "2022-01-07T20:58:37.277260Z",
     "iopub.status.busy": "2022-01-07T20:58:37.277011Z",
     "iopub.status.idle": "2022-01-07T20:58:37.949161Z",
     "shell.execute_reply": "2022-01-07T20:58:37.948458Z",
     "shell.execute_reply.started": "2022-01-07T20:58:37.277233Z"
    }
   },
   "outputs": [
    {
     "name": "stdout",
     "output_type": "stream",
     "text": [
      "6000/6000 [==============================] - 1s 151us/step\n",
      "acc: 61.88%\n"
     ]
    }
   ],
   "source": [
    "scores = model.evaluate(X_test, y_test)\n",
    "print(\"%s: %.2f%%\" % (model.metrics_names[1], scores[1] * 100))"
   ]
  },
  {
   "cell_type": "code",
   "execution_count": 40,
   "metadata": {
    "execution": {
     "iopub.execute_input": "2022-01-07T20:54:59.581063Z",
     "iopub.status.busy": "2022-01-07T20:54:59.580754Z",
     "iopub.status.idle": "2022-01-07T20:54:59.587174Z",
     "shell.execute_reply": "2022-01-07T20:54:59.586306Z",
     "shell.execute_reply.started": "2022-01-07T20:54:59.581025Z"
    }
   },
   "outputs": [
    {
     "data": {
      "text/plain": [
       "dict_keys(['val_loss', 'val_acc', 'loss', 'acc'])"
      ]
     },
     "execution_count": 40,
     "metadata": {},
     "output_type": "execute_result"
    }
   ],
   "source": [
    "history = his.history\n",
    "history.keys()"
   ]
  },
  {
   "cell_type": "code",
   "execution_count": 41,
   "metadata": {
    "execution": {
     "iopub.execute_input": "2022-01-07T20:55:02.783182Z",
     "iopub.status.busy": "2022-01-07T20:55:02.782629Z",
     "iopub.status.idle": "2022-01-07T20:55:03.423135Z",
     "shell.execute_reply": "2022-01-07T20:55:03.422470Z",
     "shell.execute_reply.started": "2022-01-07T20:55:02.783143Z"
    }
   },
   "outputs": [
    {
     "data": {
      "text/plain": [
       "<matplotlib.legend.Legend at 0x7f87f06dc5f8>"
      ]
     },
     "execution_count": 41,
     "metadata": {},
     "output_type": "execute_result"
    },
    {
     "data": {
      "image/png": "[encoded data removed]",
      "text/plain": [
       "<Figure size 720x360 with 1 Axes>"
      ]
     },
     "metadata": {},
     "output_type": "display_data"
    },
    {
     "data": {
      "image/png": "[encoded data removed]",
      "text/plain": [
       "<Figure size 720x360 with 1 Axes>"
      ]
     },
     "metadata": {},
     "output_type": "display_data"
    }
   ],
   "source": [
    "epochs = range(1, len(history['loss']) + 1)\n",
    "acc = history['acc']\n",
    "loss = history['loss']\n",
    "val_acc = history['val_acc']\n",
    "val_loss = history['val_loss']\n",
    "\n",
    "\n",
    "plt.figure(figsize=(10, 5))\n",
    "plt.title('Training and Validation Accuracy (CNN)')\n",
    "plt.xlabel('Epochs')\n",
    "plt.ylabel('Accuracy')\n",
    "plt.plot(epochs, acc, label='accuracy')\n",
    "plt.plot(epochs, val_acc, label='val_acc')\n",
    "plt.legend()\n",
    "\n",
    "\n",
    "plt.figure(figsize=(10, 5))\n",
    "plt.title('Training and Validation Loss(CNN)')\n",
    "plt.xlabel('Epochs')\n",
    "plt.ylabel('Loss')\n",
    "plt.plot(epochs, loss, label='loss', color='g')\n",
    "plt.plot(epochs, val_loss, label='val_loss', color='r')\n",
    "plt.legend()"
   ]
  }
 ],
 "metadata": {
  "kernelspec": {
   "display_name": "exp1",
   "language": "python",
   "name": "exp1"
  },
  "language_info": {
   "codemirror_mode": {
    "name": "ipython",
    "version": 3
   },
   "file_extension": ".py",
   "mimetype": "text/x-python",
   "name": "python",
   "nbconvert_exporter": "python",
   "pygments_lexer": "ipython3",
   "version": "3.6.13"
  }
 },
 "nbformat": 4,
 "nbformat_minor": 4
}
