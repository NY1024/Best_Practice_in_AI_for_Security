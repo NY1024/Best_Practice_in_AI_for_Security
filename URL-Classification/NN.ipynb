{
 "cells": [
  {
   "cell_type": "code",
   "execution_count": 1,
   "metadata": {
    "colab": {
     "base_uri": "https://localhost:8080/",
     "height": 52
    },
    "colab_type": "code",
    "id": "sBMU4MElu9GB",
    "outputId": "a60a9941-a2d5-4281-cb9a-65bc52011d6b"
   },
   "outputs": [
    {
     "name": "stderr",
     "output_type": "stream",
     "text": [
      "2021-09-20 10:33:50.004011: I tensorflow/stream_executor/platform/default/dso_loader.cc:48] Successfully opened dynamic library libcudart.so.10.1\n",
      "Using TensorFlow backend.\n"
     ]
    },
    {
     "name": "stdout",
     "output_type": "stream",
     "text": [
      "2.3.0\n"
     ]
    }
   ],
   "source": [
    "from __future__ import absolute_import, division, print_function, unicode_literals\n",
    "\n",
    "import shutil\n",
    "import numpy as np\n",
    "import pandas as pd\n",
    "import tensorflow as tf\n",
    "\n",
    "import csv\n",
    "import os\n",
    "import sys\n",
    "import glob\n",
    "import operator\n",
    "import time\n",
    "\n",
    "import seaborn as sn\n",
    "\n",
    "import matplotlib.pyplot as plt\n",
    "\n",
    "from keras.layers import Dense, Activation\n",
    "from keras.utils.np_utils import to_categorical, normalize\n",
    "\n",
    "from sklearn.model_selection import StratifiedKFold\n",
    "from sklearn.preprocessing import LabelEncoder, StandardScaler\n",
    "from sklearn.utils import shuffle\n",
    "from sklearn.metrics import confusion_matrix\n",
    "\n",
    "from tensorflow import keras\n",
    "from tensorflow.keras import layers\n",
    "from tensorflow.keras.models import Sequential, load_model\n",
    "from tensorflow.keras.layers import Dense, Activation, BatchNormalization, Dropout\n",
    "from tensorflow.keras.callbacks import TensorBoard\n",
    "\n",
    "print(tf.__version__)"
   ]
  },
  {
   "cell_type": "code",
   "execution_count": 4,
   "metadata": {
    "colab": {},
    "colab_type": "code",
    "id": "DFtoJCs_7T8p"
   },
   "outputs": [],
   "source": [
    "def loadData(csvFile):\n",
    "    pickleDump = '{}.pickle'.format(csvFile)\n",
    "    if os.path.exists(pickleDump):\n",
    "        df = pd.read_pickle(pickleDump)\n",
    "    else:\n",
    "        df = pd.read_csv(csvFile, low_memory=False, na_values='NaN')\n",
    "        df = df.rename(str.strip, axis='columns')\n",
    "        for col in df.columns:\n",
    "            indexNames = df[df[col]=='Infinity'].index\n",
    "            if not indexNames.empty:\n",
    "                print('deleting {} rows with Infinity in column {}'.format(len(indexNames), col))\n",
    "                df.drop(indexNames, inplace=True)\n",
    "        \n",
    "        df.to_pickle(pickleDump)\n",
    "    \n",
    "    return df\n"
   ]
  },
  {
   "cell_type": "code",
   "execution_count": 5,
   "metadata": {
    "colab": {},
    "colab_type": "code",
    "id": "GB51N0iLCK9J"
   },
   "outputs": [],
   "source": [
    "def baseline_model(inputDim=-1,outputDim=-1):\n",
    "    global model_extension, experimentTitle\n",
    "    model = tf.keras.Sequential([\n",
    "        Dense(128, activation='relu', input_shape=(inputDim,)),\n",
    "        BatchNormalization(),\n",
    "        Dropout(.5),\n",
    "        Dense(64, activation='relu'),\n",
    "        BatchNormalization(),\n",
    "        Dropout(.5),\n",
    "        Dense(outputDim, activation='softmax')\n",
    "    ]) \n",
    "    if outputDim > 2:\n",
    "        print('Categorical Cross-Entropy Loss Function With Gpu')\n",
    "        model_extension = \"_categorical_gpu\"\n",
    "        experimentTitle = \"Categorical_GPU\"\n",
    "        model.compile(optimizer='adam',\n",
    "                 loss='categorical_crossentropy',\n",
    "                 metrics=['accuracy'])\n",
    "    else:\n",
    "        print('Binary Cross-Entropy Loss Functionwith With GPU')\n",
    "        model_extension = \"_binary_gpu\"\n",
    "        experimentTitle = \"Binary_GPU\"\n",
    "        model.compile(optimizer='adam',\n",
    "                loss='binary_crossentropy',\n",
    "                metrics=['accuracy'])\n",
    "\n",
    "    return model"
   ]
  },
  {
   "cell_type": "code",
   "execution_count": 6,
   "metadata": {
    "colab": {},
    "colab_type": "code",
    "id": "zbiT-Sf9plwd"
   },
   "outputs": [],
   "source": [
    "def encode_labels(dataframe):\n",
    "    dataframe=dataframe.copy()\n",
    "    data_y=dataframe.pop(dep_var)\n",
    "    encoder = LabelEncoder()\n",
    "    encoder.fit(data_y)\n",
    "    data_y = encoder.transform(data_y)\n",
    "    dummy_y = to_categorical(data_y)\n",
    "    return dummy_y"
   ]
  },
  {
   "cell_type": "code",
   "execution_count": 7,
   "metadata": {
    "colab": {},
    "colab_type": "code",
    "id": "3aQvhWPU1H8v"
   },
   "outputs": [],
   "source": [
    "def plotAccuracy(title):\n",
    "    plt.plot(history.history['acc'])\n",
    "    plt.plot(history.history['val_acc'])\n",
    "    plt.title(title)\n",
    "    plt.ylabel('Accuracy')\n",
    "    plt.xlabel('Epoch')\n",
    "    plt.legend(['Train', 'Test'], loc='upper left')\n",
    "    plt.show()"
   ]
  },
  {
   "cell_type": "code",
   "execution_count": 8,
   "metadata": {
    "colab": {},
    "colab_type": "code",
    "id": "9E7dliK9ektN"
   },
   "outputs": [],
   "source": [
    "def plotLoss(title):\n",
    "    plt.plot(history.history['loss'])\n",
    "    plt.plot(history.history['val_loss'])\n",
    "    plt.title(title)\n",
    "    plt.ylabel('Loss')\n",
    "    plt.xlabel('Epoch')\n",
    "    plt.legend(['Train', 'Test'], loc='upper left')\n",
    "    plt.show()"
   ]
  },
  {
   "cell_type": "code",
   "execution_count": 9,
   "metadata": {
    "colab": {},
    "colab_type": "code",
    "id": "U1bG2p566m8V"
   },
   "outputs": [],
   "source": [
    "def experiment(dataframe, early=False):\n",
    "    kfold = StratifiedKFold(n_splits=10, shuffle=True, random_state=seed)\n",
    "\n",
    "    encoded_y = dataframe.copy()\n",
    "    encoded_y = encode_labels(encoded_y)\n",
    "    X=StandardScaler().fit_transform(dataframe.drop(dep_var, axis=1))\n",
    "    y=LabelEncoder().fit_transform(dataframe[dep_var].values)\n",
    "    start_time = time.time()\n",
    "\n",
    "    for index, (train_indices, val_indices) in enumerate(kfold.split(X, y)):\n",
    "        \n",
    "        xtrain, xval = X[train_indices], X[val_indices]\n",
    "        ytrain, yval = encoded_y[train_indices], encoded_y[val_indices]\n",
    "\n",
    "        inputDim=xtrain.shape[1]\n",
    "        outputDim=ytrain.shape[1]\n",
    "        print(\"Running fold #\" + str(index+1))\n",
    "\n",
    "        model = baseline_model(inputDim,outputDim)\n",
    "        \n",
    "        time_gen = int(time.time())\n",
    "        \n",
    "        global model_name\n",
    "        model_name = f\"{dataFile}_{time_gen}\"\n",
    "\n",
    "        tensorboard = TensorBoard(log_dir='keras_tensorflow_logs/{}/{}_{}'.format(experimentTitle, model_name, model_extension),update_freq='epoch')\n",
    "        if early_stop:\n",
    "            callbacks = [tensorboard, early_stop]\n",
    "        else:\n",
    "            callbacks = [tensorboard]\n",
    "        history = model.fit(xtrain, ytrain, epochs=epochs, validation_data=(xval,yval), callbacks=callbacks, batch_size=batch_size, verbose=0)\n",
    "        \n",
    "    global end_time \n",
    "    end_time = time.time() - start_time\n",
    "    remain_seconds = 60%end_time\n",
    " \n",
    "    global Minutes \n",
    "    Minutes = int(end_time/60)\n",
    "    print(\"Time to complete {} min {} sec\".format(Minutes, end_time))\n",
    "        \n",
    "    return model, history, X, encoded_y\n"
   ]
  },
  {
   "cell_type": "code",
   "execution_count": 10,
   "metadata": {
    "colab": {
     "base_uri": "https://localhost:8080/",
     "height": 89
    },
    "colab_type": "code",
    "id": "h_7Y2Ytp7xa-",
    "outputId": "98ab00ec-e32b-4547-9e14-124e67c303ff"
   },
   "outputs": [],
   "source": [
    "df1 = loadData('/root/FinalDataset/All.csv')\n",
    "df1=df1.dropna(axis=1)"
   ]
  },
  {
   "cell_type": "code",
   "execution_count": null,
   "metadata": {
    "colab": {},
    "colab_type": "code",
    "id": "gulxJp2FPk5q"
   },
   "outputs": [],
   "source": [
    "for file in glob.glob('keras_tensorflow_logs/Categorical_GPU*'):\n",
    "    if os.path.exists(file):\n",
    "        shutil.rmtree(file)\n",
    "for file in glob.glob('keras_tensorflow_logs/Binary_GPU*'):\n",
    "    if os.path.exists(file):\n",
    "        shutil.rmtree(file)"
   ]
  },
  {
   "cell_type": "code",
   "execution_count": 11,
   "metadata": {
    "colab": {
     "base_uri": "https://localhost:8080/",
     "height": 434
    },
    "colab_type": "code",
    "id": "4ZwM-GC1-LPj",
    "outputId": "203df4b0-e672-4c7f-c06d-8df237aa0137"
   },
   "outputs": [
    {
     "data": {
      "text/plain": [
       "Index(['Querylength', 'domain_token_count', 'path_token_count',\n",
       "       'avgdomaintokenlen', 'longdomaintokenlen', 'avgpathtokenlen', 'tld',\n",
       "       'charcompvowels', 'charcompace', 'ldl_url', 'ldl_domain', 'ldl_path',\n",
       "       'ldl_filename', 'ldl_getArg', 'dld_url', 'dld_domain', 'dld_path',\n",
       "       'dld_filename', 'dld_getArg', 'urlLen', 'domainlength', 'pathLength',\n",
       "       'subDirLen', 'fileNameLen', 'this.fileExtLen', 'ArgLen', 'pathurlRatio',\n",
       "       'ArgUrlRatio', 'argDomanRatio', 'domainUrlRatio', 'pathDomainRatio',\n",
       "       'argPathRatio', 'executable', 'isPortEighty', 'NumberofDotsinURL',\n",
       "       'ISIpAddressInDomainName', 'CharacterContinuityRate',\n",
       "       'LongestVariableValue', 'URL_DigitCount', 'host_DigitCount',\n",
       "       'Directory_DigitCount', 'File_name_DigitCount', 'Extension_DigitCount',\n",
       "       'Query_DigitCount', 'URL_Letter_Count', 'host_letter_count',\n",
       "       'Directory_LetterCount', 'Filename_LetterCount',\n",
       "       'Extension_LetterCount', 'Query_LetterCount', 'LongestPathTokenLength',\n",
       "       'Domain_LongestWordLength', 'Path_LongestWordLength',\n",
       "       'sub-Directory_LongestWordLength', 'Arguments_LongestWordLength',\n",
       "       'URL_sensitiveWord', 'URLQueries_variable', 'spcharUrl',\n",
       "       'delimeter_Domain', 'delimeter_path', 'delimeter_Count',\n",
       "       'NumberRate_URL', 'NumberRate_Domain', 'NumberRate_DirectoryName',\n",
       "       'NumberRate_FileName', 'NumberRate_Extension', 'NumberRate_AfterPath',\n",
       "       'SymbolCount_URL', 'SymbolCount_Domain', 'SymbolCount_Directoryname',\n",
       "       'SymbolCount_FileName', 'SymbolCount_Extension',\n",
       "       'SymbolCount_Afterpath', 'Entropy_URL', 'Entropy_Domain',\n",
       "       'Entropy_DirectoryName', 'Entropy_Filename', 'Entropy_Extension',\n",
       "       'Entropy_Afterpath', 'URL_Type_obf_Type'],\n",
       "      dtype='object')"
      ]
     },
     "execution_count": 11,
     "metadata": {},
     "output_type": "execute_result"
    }
   ],
   "source": [
    "df1.columns"
   ]
  },
  {
   "cell_type": "code",
   "execution_count": 12,
   "metadata": {
    "colab": {
     "base_uri": "https://localhost:8080/",
     "height": 34
    },
    "colab_type": "code",
    "id": "NBvgfW-J--g8",
    "outputId": "9e58516d-2671-4750-a04f-177fce8631b1"
   },
   "outputs": [
    {
     "data": {
      "text/plain": [
       "(18982, 80)"
      ]
     },
     "execution_count": 12,
     "metadata": {},
     "output_type": "execute_result"
    }
   ],
   "source": [
    "df1.shape"
   ]
  },
  {
   "cell_type": "code",
   "execution_count": 13,
   "metadata": {
    "colab": {
     "base_uri": "https://localhost:8080/",
     "height": 244
    },
    "colab_type": "code",
    "id": "9eYtvDf5AAR5",
    "outputId": "169a70dd-9f0c-496c-b95a-3d45e0c2792d"
   },
   "outputs": [
    {
     "data": {
      "text/html": [
       "<div>\n",
       "<style scoped>\n",
       "    .dataframe tbody tr th:only-of-type {\n",
       "        vertical-align: middle;\n",
       "    }\n",
       "\n",
       "    .dataframe tbody tr th {\n",
       "        vertical-align: top;\n",
       "    }\n",
       "\n",
       "    .dataframe thead th {\n",
       "        text-align: right;\n",
       "    }\n",
       "</style>\n",
       "<table border=\"1\" class=\"dataframe\">\n",
       "  <thead>\n",
       "    <tr style=\"text-align: right;\">\n",
       "      <th></th>\n",
       "      <th>Querylength</th>\n",
       "      <th>domain_token_count</th>\n",
       "      <th>path_token_count</th>\n",
       "      <th>avgdomaintokenlen</th>\n",
       "      <th>longdomaintokenlen</th>\n",
       "      <th>avgpathtokenlen</th>\n",
       "      <th>tld</th>\n",
       "      <th>charcompvowels</th>\n",
       "      <th>charcompace</th>\n",
       "      <th>ldl_url</th>\n",
       "      <th>...</th>\n",
       "      <th>SymbolCount_FileName</th>\n",
       "      <th>SymbolCount_Extension</th>\n",
       "      <th>SymbolCount_Afterpath</th>\n",
       "      <th>Entropy_URL</th>\n",
       "      <th>Entropy_Domain</th>\n",
       "      <th>Entropy_DirectoryName</th>\n",
       "      <th>Entropy_Filename</th>\n",
       "      <th>Entropy_Extension</th>\n",
       "      <th>Entropy_Afterpath</th>\n",
       "      <th>URL_Type_obf_Type</th>\n",
       "    </tr>\n",
       "  </thead>\n",
       "  <tbody>\n",
       "    <tr>\n",
       "      <th>35</th>\n",
       "      <td>0</td>\n",
       "      <td>4</td>\n",
       "      <td>4</td>\n",
       "      <td>6.25</td>\n",
       "      <td>17</td>\n",
       "      <td>3.75</td>\n",
       "      <td>4</td>\n",
       "      <td>4</td>\n",
       "      <td>2</td>\n",
       "      <td>0</td>\n",
       "      <td>...</td>\n",
       "      <td>1</td>\n",
       "      <td>0</td>\n",
       "      <td>-1</td>\n",
       "      <td>0.726945</td>\n",
       "      <td>0.768811</td>\n",
       "      <td>0.916667</td>\n",
       "      <td>1.000000</td>\n",
       "      <td>1.000000</td>\n",
       "      <td>-1.000000</td>\n",
       "      <td>Defacement</td>\n",
       "    </tr>\n",
       "    <tr>\n",
       "      <th>37</th>\n",
       "      <td>22</td>\n",
       "      <td>4</td>\n",
       "      <td>10</td>\n",
       "      <td>6.25</td>\n",
       "      <td>17</td>\n",
       "      <td>3.50</td>\n",
       "      <td>4</td>\n",
       "      <td>19</td>\n",
       "      <td>10</td>\n",
       "      <td>0</td>\n",
       "      <td>...</td>\n",
       "      <td>9</td>\n",
       "      <td>8</td>\n",
       "      <td>7</td>\n",
       "      <td>0.686486</td>\n",
       "      <td>0.768811</td>\n",
       "      <td>0.916667</td>\n",
       "      <td>0.748105</td>\n",
       "      <td>0.757206</td>\n",
       "      <td>0.749167</td>\n",
       "      <td>Defacement</td>\n",
       "    </tr>\n",
       "    <tr>\n",
       "      <th>38</th>\n",
       "      <td>23</td>\n",
       "      <td>4</td>\n",
       "      <td>10</td>\n",
       "      <td>6.25</td>\n",
       "      <td>17</td>\n",
       "      <td>3.50</td>\n",
       "      <td>4</td>\n",
       "      <td>19</td>\n",
       "      <td>10</td>\n",
       "      <td>0</td>\n",
       "      <td>...</td>\n",
       "      <td>9</td>\n",
       "      <td>8</td>\n",
       "      <td>7</td>\n",
       "      <td>0.687286</td>\n",
       "      <td>0.768811</td>\n",
       "      <td>0.916667</td>\n",
       "      <td>0.747622</td>\n",
       "      <td>0.756298</td>\n",
       "      <td>0.748268</td>\n",
       "      <td>Defacement</td>\n",
       "    </tr>\n",
       "    <tr>\n",
       "      <th>39</th>\n",
       "      <td>22</td>\n",
       "      <td>4</td>\n",
       "      <td>10</td>\n",
       "      <td>6.25</td>\n",
       "      <td>17</td>\n",
       "      <td>3.50</td>\n",
       "      <td>4</td>\n",
       "      <td>19</td>\n",
       "      <td>10</td>\n",
       "      <td>0</td>\n",
       "      <td>...</td>\n",
       "      <td>9</td>\n",
       "      <td>8</td>\n",
       "      <td>7</td>\n",
       "      <td>0.683476</td>\n",
       "      <td>0.768811</td>\n",
       "      <td>0.916667</td>\n",
       "      <td>0.742090</td>\n",
       "      <td>0.750292</td>\n",
       "      <td>0.741506</td>\n",
       "      <td>Defacement</td>\n",
       "    </tr>\n",
       "    <tr>\n",
       "      <th>40</th>\n",
       "      <td>23</td>\n",
       "      <td>4</td>\n",
       "      <td>10</td>\n",
       "      <td>6.25</td>\n",
       "      <td>17</td>\n",
       "      <td>3.50</td>\n",
       "      <td>4</td>\n",
       "      <td>19</td>\n",
       "      <td>10</td>\n",
       "      <td>0</td>\n",
       "      <td>...</td>\n",
       "      <td>9</td>\n",
       "      <td>8</td>\n",
       "      <td>7</td>\n",
       "      <td>0.687286</td>\n",
       "      <td>0.768811</td>\n",
       "      <td>0.916667</td>\n",
       "      <td>0.747622</td>\n",
       "      <td>0.756298</td>\n",
       "      <td>0.748268</td>\n",
       "      <td>Defacement</td>\n",
       "    </tr>\n",
       "  </tbody>\n",
       "</table>\n",
       "<p>5 rows × 80 columns</p>\n",
       "</div>"
      ],
      "text/plain": [
       "    Querylength  domain_token_count  path_token_count  avgdomaintokenlen  \\\n",
       "35            0                   4                 4               6.25   \n",
       "37           22                   4                10               6.25   \n",
       "38           23                   4                10               6.25   \n",
       "39           22                   4                10               6.25   \n",
       "40           23                   4                10               6.25   \n",
       "\n",
       "    longdomaintokenlen  avgpathtokenlen  tld  charcompvowels  charcompace  \\\n",
       "35                  17             3.75    4               4            2   \n",
       "37                  17             3.50    4              19           10   \n",
       "38                  17             3.50    4              19           10   \n",
       "39                  17             3.50    4              19           10   \n",
       "40                  17             3.50    4              19           10   \n",
       "\n",
       "    ldl_url  ...  SymbolCount_FileName  SymbolCount_Extension  \\\n",
       "35        0  ...                     1                      0   \n",
       "37        0  ...                     9                      8   \n",
       "38        0  ...                     9                      8   \n",
       "39        0  ...                     9                      8   \n",
       "40        0  ...                     9                      8   \n",
       "\n",
       "    SymbolCount_Afterpath  Entropy_URL  Entropy_Domain  Entropy_DirectoryName  \\\n",
       "35                     -1     0.726945        0.768811               0.916667   \n",
       "37                      7     0.686486        0.768811               0.916667   \n",
       "38                      7     0.687286        0.768811               0.916667   \n",
       "39                      7     0.683476        0.768811               0.916667   \n",
       "40                      7     0.687286        0.768811               0.916667   \n",
       "\n",
       "    Entropy_Filename  Entropy_Extension  Entropy_Afterpath  URL_Type_obf_Type  \n",
       "35          1.000000           1.000000          -1.000000         Defacement  \n",
       "37          0.748105           0.757206           0.749167         Defacement  \n",
       "38          0.747622           0.756298           0.748268         Defacement  \n",
       "39          0.742090           0.750292           0.741506         Defacement  \n",
       "40          0.747622           0.756298           0.748268         Defacement  \n",
       "\n",
       "[5 rows x 80 columns]"
      ]
     },
     "execution_count": 13,
     "metadata": {},
     "output_type": "execute_result"
    }
   ],
   "source": [
    "df1.head()"
   ]
  },
  {
   "cell_type": "code",
   "execution_count": 15,
   "metadata": {
    "colab": {
     "base_uri": "https://localhost:8080/",
     "height": 104
    },
    "colab_type": "code",
    "id": "NuFeBCWJABj9",
    "outputId": "f776ebc8-00a8-4dca-a05d-de22a7f0298e"
   },
   "outputs": [
    {
     "name": "stdout",
     "output_type": "stream",
     "text": [
      "| malware | 4440 |\n",
      "| spam | 5342 |\n",
      "| benign | 2709 |\n",
      "| Defacement | 2477 |\n",
      "| phishing | 4014 |\n"
     ]
    }
   ],
   "source": [
    "label = 'URL_Type_obf_Type'\n",
    "lblTypes=set(df1[label])\n",
    "for lbl in lblTypes:\n",
    "    print('| {} | {} |'.format(lbl, len(df1[df1[label] == lbl].index)))"
   ]
  },
  {
   "cell_type": "code",
   "execution_count": 16,
   "metadata": {
    "colab": {},
    "colab_type": "code",
    "id": "KlTOWuf8A_Yy"
   },
   "outputs": [],
   "source": [
    "dataPath = 'FinalDataset'\n",
    "dep_var = label"
   ]
  },
  {
   "cell_type": "code",
   "execution_count": 17,
   "metadata": {
    "colab": {},
    "colab_type": "code",
    "id": "2nFBzqafCKkG"
   },
   "outputs": [],
   "source": [
    "df1.argPathRatio = df1['argPathRatio'].astype('float')"
   ]
  },
  {
   "cell_type": "code",
   "execution_count": 18,
   "metadata": {
    "colab": {},
    "colab_type": "code",
    "id": "x-fMOCE2I7MI"
   },
   "outputs": [],
   "source": [
    "dataFile = 'All.csv'\n",
    "epochs=100\n",
    "batch_size=64"
   ]
  },
  {
   "cell_type": "code",
   "execution_count": 20,
   "metadata": {
    "colab": {},
    "colab_type": "code",
    "id": "41We5rvNplxu"
   },
   "outputs": [],
   "source": [
    "seed = 7\n",
    "np.random.seed(seed)\n",
    "early_stop = keras.callbacks.EarlyStopping(monitor='val_loss', patience=5)"
   ]
  },
  {
   "cell_type": "markdown",
   "metadata": {
    "colab_type": "text",
    "id": "QxvO-5wqplx1"
   },
   "source": [
    "### Run the experiment"
   ]
  },
  {
   "cell_type": "code",
   "execution_count": 21,
   "metadata": {
    "colab": {
     "base_uri": "https://localhost:8080/",
     "height": 489
    },
    "colab_type": "code",
    "id": "wDKDVrhZplx2",
    "outputId": "319561a2-48a7-45e6-91c1-706f33f7c1c3"
   },
   "outputs": [
    {
     "name": "stdout",
     "output_type": "stream",
     "text": [
      "Running fold #1\n"
     ]
    },
    {
     "name": "stderr",
     "output_type": "stream",
     "text": [
      "2021-09-20 10:36:46.954529: I tensorflow/stream_executor/platform/default/dso_loader.cc:48] Successfully opened dynamic library libcuda.so.1\n",
      "2021-09-20 10:36:46.989734: I tensorflow/stream_executor/cuda/cuda_gpu_executor.cc:982] successful NUMA node read from SysFS had negative value (-1), but there must be at least one NUMA node, so returning NUMA node zero\n",
      "2021-09-20 10:36:46.990423: I tensorflow/core/common_runtime/gpu/gpu_device.cc:1716] Found device 0 with properties: \n",
      "pciBusID: 0000:00:07.0 name: Tesla T4 computeCapability: 7.5\n",
      "coreClock: 1.59GHz coreCount: 40 deviceMemorySize: 14.75GiB deviceMemoryBandwidth: 298.08GiB/s\n",
      "2021-09-20 10:36:46.990462: I tensorflow/stream_executor/platform/default/dso_loader.cc:48] Successfully opened dynamic library libcudart.so.10.1\n",
      "2021-09-20 10:36:47.060070: I tensorflow/stream_executor/platform/default/dso_loader.cc:48] Successfully opened dynamic library libcublas.so.10\n",
      "2021-09-20 10:36:47.090525: I tensorflow/stream_executor/platform/default/dso_loader.cc:48] Successfully opened dynamic library libcufft.so.10\n",
      "2021-09-20 10:36:47.101201: I tensorflow/stream_executor/platform/default/dso_loader.cc:48] Successfully opened dynamic library libcurand.so.10\n",
      "2021-09-20 10:36:47.173974: I tensorflow/stream_executor/platform/default/dso_loader.cc:48] Successfully opened dynamic library libcusolver.so.10\n",
      "2021-09-20 10:36:47.187363: I tensorflow/stream_executor/platform/default/dso_loader.cc:48] Successfully opened dynamic library libcusparse.so.10\n",
      "2021-09-20 10:36:47.300572: I tensorflow/stream_executor/platform/default/dso_loader.cc:48] Successfully opened dynamic library libcudnn.so.7\n",
      "2021-09-20 10:36:47.300726: I tensorflow/stream_executor/cuda/cuda_gpu_executor.cc:982] successful NUMA node read from SysFS had negative value (-1), but there must be at least one NUMA node, so returning NUMA node zero\n",
      "2021-09-20 10:36:47.301401: I tensorflow/stream_executor/cuda/cuda_gpu_executor.cc:982] successful NUMA node read from SysFS had negative value (-1), but there must be at least one NUMA node, so returning NUMA node zero\n",
      "2021-09-20 10:36:47.301988: I tensorflow/core/common_runtime/gpu/gpu_device.cc:1858] Adding visible gpu devices: 0\n",
      "2021-09-20 10:36:47.303235: I tensorflow/core/platform/cpu_feature_guard.cc:142] This TensorFlow binary is optimized with oneAPI Deep Neural Network Library (oneDNN)to use the following CPU instructions in performance-critical operations:  AVX2 AVX512F FMA\n",
      "To enable them in other operations, rebuild TensorFlow with the appropriate compiler flags.\n",
      "2021-09-20 10:36:47.329406: I tensorflow/core/platform/profile_utils/cpu_utils.cc:104] CPU Frequency: 2499995000 Hz\n",
      "2021-09-20 10:36:47.329665: I tensorflow/compiler/xla/service/service.cc:168] XLA service 0x561ce3161b30 initialized for platform Host (this does not guarantee that XLA will be used). Devices:\n",
      "2021-09-20 10:36:47.329686: I tensorflow/compiler/xla/service/service.cc:176]   StreamExecutor device (0): Host, Default Version\n",
      "2021-09-20 10:36:47.473829: I tensorflow/stream_executor/cuda/cuda_gpu_executor.cc:982] successful NUMA node read from SysFS had negative value (-1), but there must be at least one NUMA node, so returning NUMA node zero\n",
      "2021-09-20 10:36:47.474528: I tensorflow/compiler/xla/service/service.cc:168] XLA service 0x561ce4e8ed20 initialized for platform CUDA (this does not guarantee that XLA will be used). Devices:\n",
      "2021-09-20 10:36:47.474545: I tensorflow/compiler/xla/service/service.cc:176]   StreamExecutor device (0): Tesla T4, Compute Capability 7.5\n",
      "2021-09-20 10:36:47.475537: I tensorflow/stream_executor/cuda/cuda_gpu_executor.cc:982] successful NUMA node read from SysFS had negative value (-1), but there must be at least one NUMA node, so returning NUMA node zero\n",
      "2021-09-20 10:36:47.476146: I tensorflow/core/common_runtime/gpu/gpu_device.cc:1716] Found device 0 with properties: \n",
      "pciBusID: 0000:00:07.0 name: Tesla T4 computeCapability: 7.5\n",
      "coreClock: 1.59GHz coreCount: 40 deviceMemorySize: 14.75GiB deviceMemoryBandwidth: 298.08GiB/s\n",
      "2021-09-20 10:36:47.476197: I tensorflow/stream_executor/platform/default/dso_loader.cc:48] Successfully opened dynamic library libcudart.so.10.1\n",
      "2021-09-20 10:36:47.476239: I tensorflow/stream_executor/platform/default/dso_loader.cc:48] Successfully opened dynamic library libcublas.so.10\n",
      "2021-09-20 10:36:47.476256: I tensorflow/stream_executor/platform/default/dso_loader.cc:48] Successfully opened dynamic library libcufft.so.10\n",
      "2021-09-20 10:36:47.476271: I tensorflow/stream_executor/platform/default/dso_loader.cc:48] Successfully opened dynamic library libcurand.so.10\n",
      "2021-09-20 10:36:47.476286: I tensorflow/stream_executor/platform/default/dso_loader.cc:48] Successfully opened dynamic library libcusolver.so.10\n",
      "2021-09-20 10:36:47.476300: I tensorflow/stream_executor/platform/default/dso_loader.cc:48] Successfully opened dynamic library libcusparse.so.10\n",
      "2021-09-20 10:36:47.476316: I tensorflow/stream_executor/platform/default/dso_loader.cc:48] Successfully opened dynamic library libcudnn.so.7\n",
      "2021-09-20 10:36:47.476384: I tensorflow/stream_executor/cuda/cuda_gpu_executor.cc:982] successful NUMA node read from SysFS had negative value (-1), but there must be at least one NUMA node, so returning NUMA node zero\n",
      "2021-09-20 10:36:47.477044: I tensorflow/stream_executor/cuda/cuda_gpu_executor.cc:982] successful NUMA node read from SysFS had negative value (-1), but there must be at least one NUMA node, so returning NUMA node zero\n",
      "2021-09-20 10:36:47.477633: I tensorflow/core/common_runtime/gpu/gpu_device.cc:1858] Adding visible gpu devices: 0\n",
      "2021-09-20 10:36:47.478576: I tensorflow/stream_executor/platform/default/dso_loader.cc:48] Successfully opened dynamic library libcudart.so.10.1\n",
      "2021-09-20 10:36:48.971489: I tensorflow/core/common_runtime/gpu/gpu_device.cc:1257] Device interconnect StreamExecutor with strength 1 edge matrix:\n",
      "2021-09-20 10:36:48.971534: I tensorflow/core/common_runtime/gpu/gpu_device.cc:1263]      0 \n",
      "2021-09-20 10:36:48.971541: I tensorflow/core/common_runtime/gpu/gpu_device.cc:1276] 0:   N \n",
      "2021-09-20 10:36:48.996663: I tensorflow/stream_executor/cuda/cuda_gpu_executor.cc:982] successful NUMA node read from SysFS had negative value (-1), but there must be at least one NUMA node, so returning NUMA node zero\n",
      "2021-09-20 10:36:48.997380: I tensorflow/stream_executor/cuda/cuda_gpu_executor.cc:982] successful NUMA node read from SysFS had negative value (-1), but there must be at least one NUMA node, so returning NUMA node zero\n",
      "2021-09-20 10:36:48.997988: I tensorflow/core/common_runtime/gpu/gpu_device.cc:1402] Created TensorFlow device (/job:localhost/replica:0/task:0/device:GPU:0 with 13962 MB memory) -> physical GPU (device: 0, name: Tesla T4, pci bus id: 0000:00:07.0, compute capability: 7.5)\n"
     ]
    },
    {
     "name": "stdout",
     "output_type": "stream",
     "text": [
      "Categorical Cross-Entropy Loss Function With Gpu\n"
     ]
    },
    {
     "name": "stderr",
     "output_type": "stream",
     "text": [
      "2021-09-20 10:36:49.440837: I tensorflow/core/profiler/lib/profiler_session.cc:164] Profiler session started.\n",
      "2021-09-20 10:36:49.446350: I tensorflow/core/profiler/internal/gpu/cupti_tracer.cc:1391] Profiler found 1 GPUs\n",
      "2021-09-20 10:36:49.446736: W tensorflow/stream_executor/platform/default/dso_loader.cc:59] Could not load dynamic library 'libcupti.so.10.1'; dlerror: libcupti.so.10.1: cannot open shared object file: No such file or directory\n",
      "2021-09-20 10:36:49.446823: W tensorflow/stream_executor/platform/default/dso_loader.cc:59] Could not load dynamic library 'libcupti.so'; dlerror: libcupti.so: cannot open shared object file: No such file or directory\n",
      "2021-09-20 10:36:49.446834: E tensorflow/core/profiler/internal/gpu/cupti_tracer.cc:1441] function cupti_interface_->Subscribe( &subscriber_, (CUpti_CallbackFunc)ApiCallback, this)failed with error CUPTI could not be loaded or symbol could not be found.\n",
      "2021-09-20 10:36:50.238046: I tensorflow/stream_executor/platform/default/dso_loader.cc:48] Successfully opened dynamic library libcublas.so.10\n"
     ]
    },
    {
     "name": "stdout",
     "output_type": "stream",
     "text": [
      "WARNING:tensorflow:From /root/anaconda3/envs/tf/lib/python3.7/site-packages/tensorflow/python/ops/summary_ops_v2.py:1277: stop (from tensorflow.python.eager.profiler) is deprecated and will be removed after 2020-07-01.\n",
      "Instructions for updating:\n",
      "use `tf.profiler.experimental.stop` instead.\n",
      "WARNING:tensorflow:Callbacks method `on_train_batch_end` is slow compared to the batch time (batch time: 0.0041s vs `on_train_batch_end` time: 0.0311s). Check your callbacks.\n"
     ]
    },
    {
     "name": "stderr",
     "output_type": "stream",
     "text": [
      "2021-09-20 10:36:51.102818: I tensorflow/core/profiler/lib/profiler_session.cc:164] Profiler session started.\n",
      "2021-09-20 10:36:51.102889: E tensorflow/core/profiler/internal/gpu/cupti_tracer.cc:1441] function cupti_interface_->Subscribe( &subscriber_, (CUpti_CallbackFunc)ApiCallback, this)failed with error CUPTI could not be loaded or symbol could not be found.\n",
      "2021-09-20 10:36:51.112722: I tensorflow/core/profiler/internal/gpu/device_tracer.cc:223]  GpuTracer has collected 0 callback api events and 0 activity events. \n",
      "2021-09-20 10:36:51.122502: I tensorflow/core/profiler/rpc/client/save_profile.cc:176] Creating directory: keras_tensorflow_logs/Categorical_GPU/All.csv_1632105409__categorical_gpu/train/plugins/profile/2021_09_20_10_36_51\n",
      "2021-09-20 10:36:51.123530: I tensorflow/core/profiler/rpc/client/save_profile.cc:182] Dumped gzipped tool data for trace.json.gz to keras_tensorflow_logs/Categorical_GPU/All.csv_1632105409__categorical_gpu/train/plugins/profile/2021_09_20_10_36_51/iZj6c6wg0n65vdhgva0emgZ.trace.json.gz\n",
      "2021-09-20 10:36:51.135815: I tensorflow/core/profiler/rpc/client/save_profile.cc:176] Creating directory: keras_tensorflow_logs/Categorical_GPU/All.csv_1632105409__categorical_gpu/train/plugins/profile/2021_09_20_10_36_51\n",
      "2021-09-20 10:36:51.137089: I tensorflow/core/profiler/rpc/client/save_profile.cc:182] Dumped gzipped tool data for memory_profile.json.gz to keras_tensorflow_logs/Categorical_GPU/All.csv_1632105409__categorical_gpu/train/plugins/profile/2021_09_20_10_36_51/iZj6c6wg0n65vdhgva0emgZ.memory_profile.json.gz\n",
      "2021-09-20 10:36:51.137341: I tensorflow/python/profiler/internal/profiler_wrapper.cc:111] Creating directory: keras_tensorflow_logs/Categorical_GPU/All.csv_1632105409__categorical_gpu/train/plugins/profile/2021_09_20_10_36_51Dumped tool data for xplane.pb to keras_tensorflow_logs/Categorical_GPU/All.csv_1632105409__categorical_gpu/train/plugins/profile/2021_09_20_10_36_51/iZj6c6wg0n65vdhgva0emgZ.xplane.pb\n",
      "Dumped tool data for overview_page.pb to keras_tensorflow_logs/Categorical_GPU/All.csv_1632105409__categorical_gpu/train/plugins/profile/2021_09_20_10_36_51/iZj6c6wg0n65vdhgva0emgZ.overview_page.pb\n",
      "Dumped tool data for input_pipeline.pb to keras_tensorflow_logs/Categorical_GPU/All.csv_1632105409__categorical_gpu/train/plugins/profile/2021_09_20_10_36_51/iZj6c6wg0n65vdhgva0emgZ.input_pipeline.pb\n",
      "Dumped tool data for tensorflow_stats.pb to keras_tensorflow_logs/Categorical_GPU/All.csv_1632105409__categorical_gpu/train/plugins/profile/2021_09_20_10_36_51/iZj6c6wg0n65vdhgva0emgZ.tensorflow_stats.pb\n",
      "Dumped tool data for kernel_stats.pb to keras_tensorflow_logs/Categorical_GPU/All.csv_1632105409__categorical_gpu/train/plugins/profile/2021_09_20_10_36_51/iZj6c6wg0n65vdhgva0emgZ.kernel_stats.pb\n",
      "\n"
     ]
    },
    {
     "name": "stdout",
     "output_type": "stream",
     "text": [
      "Running fold #2\n",
      "Categorical Cross-Entropy Loss Function With Gpu\n"
     ]
    },
    {
     "name": "stderr",
     "output_type": "stream",
     "text": [
      "2021-09-20 10:37:31.691055: I tensorflow/core/profiler/lib/profiler_session.cc:164] Profiler session started.\n",
      "2021-09-20 10:37:31.691123: E tensorflow/core/profiler/internal/gpu/cupti_tracer.cc:1441] function cupti_interface_->Subscribe( &subscriber_, (CUpti_CallbackFunc)ApiCallback, this)failed with error CUPTI could not be loaded or symbol could not be found.\n"
     ]
    },
    {
     "name": "stdout",
     "output_type": "stream",
     "text": [
      "WARNING:tensorflow:Callbacks method `on_train_batch_end` is slow compared to the batch time (batch time: 0.0032s vs `on_train_batch_end` time: 0.0541s). Check your callbacks.\n"
     ]
    },
    {
     "name": "stderr",
     "output_type": "stream",
     "text": [
      "2021-09-20 10:37:32.365738: I tensorflow/core/profiler/lib/profiler_session.cc:164] Profiler session started.\n",
      "2021-09-20 10:37:32.365796: E tensorflow/core/profiler/internal/gpu/cupti_tracer.cc:1441] function cupti_interface_->Subscribe( &subscriber_, (CUpti_CallbackFunc)ApiCallback, this)failed with error CUPTI could not be loaded or symbol could not be found.\n",
      "2021-09-20 10:37:32.413251: I tensorflow/core/profiler/internal/gpu/device_tracer.cc:223]  GpuTracer has collected 0 callback api events and 0 activity events. \n",
      "2021-09-20 10:37:32.414562: I tensorflow/core/profiler/rpc/client/save_profile.cc:176] Creating directory: keras_tensorflow_logs/Categorical_GPU/All.csv_1632105451__categorical_gpu/train/plugins/profile/2021_09_20_10_37_32\n",
      "2021-09-20 10:37:32.415024: I tensorflow/core/profiler/rpc/client/save_profile.cc:182] Dumped gzipped tool data for trace.json.gz to keras_tensorflow_logs/Categorical_GPU/All.csv_1632105451__categorical_gpu/train/plugins/profile/2021_09_20_10_37_32/iZj6c6wg0n65vdhgva0emgZ.trace.json.gz\n",
      "2021-09-20 10:37:32.420907: I tensorflow/core/profiler/rpc/client/save_profile.cc:176] Creating directory: keras_tensorflow_logs/Categorical_GPU/All.csv_1632105451__categorical_gpu/train/plugins/profile/2021_09_20_10_37_32\n",
      "2021-09-20 10:37:32.422166: I tensorflow/core/profiler/rpc/client/save_profile.cc:182] Dumped gzipped tool data for memory_profile.json.gz to keras_tensorflow_logs/Categorical_GPU/All.csv_1632105451__categorical_gpu/train/plugins/profile/2021_09_20_10_37_32/iZj6c6wg0n65vdhgva0emgZ.memory_profile.json.gz\n",
      "2021-09-20 10:37:32.422442: I tensorflow/python/profiler/internal/profiler_wrapper.cc:111] Creating directory: keras_tensorflow_logs/Categorical_GPU/All.csv_1632105451__categorical_gpu/train/plugins/profile/2021_09_20_10_37_32Dumped tool data for xplane.pb to keras_tensorflow_logs/Categorical_GPU/All.csv_1632105451__categorical_gpu/train/plugins/profile/2021_09_20_10_37_32/iZj6c6wg0n65vdhgva0emgZ.xplane.pb\n",
      "Dumped tool data for overview_page.pb to keras_tensorflow_logs/Categorical_GPU/All.csv_1632105451__categorical_gpu/train/plugins/profile/2021_09_20_10_37_32/iZj6c6wg0n65vdhgva0emgZ.overview_page.pb\n",
      "Dumped tool data for input_pipeline.pb to keras_tensorflow_logs/Categorical_GPU/All.csv_1632105451__categorical_gpu/train/plugins/profile/2021_09_20_10_37_32/iZj6c6wg0n65vdhgva0emgZ.input_pipeline.pb\n",
      "Dumped tool data for tensorflow_stats.pb to keras_tensorflow_logs/Categorical_GPU/All.csv_1632105451__categorical_gpu/train/plugins/profile/2021_09_20_10_37_32/iZj6c6wg0n65vdhgva0emgZ.tensorflow_stats.pb\n",
      "Dumped tool data for kernel_stats.pb to keras_tensorflow_logs/Categorical_GPU/All.csv_1632105451__categorical_gpu/train/plugins/profile/2021_09_20_10_37_32/iZj6c6wg0n65vdhgva0emgZ.kernel_stats.pb\n",
      "\n"
     ]
    },
    {
     "name": "stdout",
     "output_type": "stream",
     "text": [
      "Running fold #3\n",
      "Categorical Cross-Entropy Loss Function With Gpu\n"
     ]
    },
    {
     "name": "stderr",
     "output_type": "stream",
     "text": [
      "2021-09-20 10:38:12.441311: I tensorflow/core/profiler/lib/profiler_session.cc:164] Profiler session started.\n",
      "2021-09-20 10:38:12.441375: E tensorflow/core/profiler/internal/gpu/cupti_tracer.cc:1441] function cupti_interface_->Subscribe( &subscriber_, (CUpti_CallbackFunc)ApiCallback, this)failed with error CUPTI could not be loaded or symbol could not be found.\n"
     ]
    },
    {
     "name": "stdout",
     "output_type": "stream",
     "text": [
      "WARNING:tensorflow:Callbacks method `on_train_batch_end` is slow compared to the batch time (batch time: 0.0031s vs `on_train_batch_end` time: 0.0505s). Check your callbacks.\n"
     ]
    },
    {
     "name": "stderr",
     "output_type": "stream",
     "text": [
      "2021-09-20 10:38:13.276754: I tensorflow/core/profiler/lib/profiler_session.cc:164] Profiler session started.\n",
      "2021-09-20 10:38:13.276820: E tensorflow/core/profiler/internal/gpu/cupti_tracer.cc:1441] function cupti_interface_->Subscribe( &subscriber_, (CUpti_CallbackFunc)ApiCallback, this)failed with error CUPTI could not be loaded or symbol could not be found.\n",
      "2021-09-20 10:38:13.320669: I tensorflow/core/profiler/internal/gpu/device_tracer.cc:223]  GpuTracer has collected 0 callback api events and 0 activity events. \n",
      "2021-09-20 10:38:13.322009: I tensorflow/core/profiler/rpc/client/save_profile.cc:176] Creating directory: keras_tensorflow_logs/Categorical_GPU/All.csv_1632105492__categorical_gpu/train/plugins/profile/2021_09_20_10_38_13\n",
      "2021-09-20 10:38:13.322478: I tensorflow/core/profiler/rpc/client/save_profile.cc:182] Dumped gzipped tool data for trace.json.gz to keras_tensorflow_logs/Categorical_GPU/All.csv_1632105492__categorical_gpu/train/plugins/profile/2021_09_20_10_38_13/iZj6c6wg0n65vdhgva0emgZ.trace.json.gz\n",
      "2021-09-20 10:38:13.328268: I tensorflow/core/profiler/rpc/client/save_profile.cc:176] Creating directory: keras_tensorflow_logs/Categorical_GPU/All.csv_1632105492__categorical_gpu/train/plugins/profile/2021_09_20_10_38_13\n",
      "2021-09-20 10:38:13.329545: I tensorflow/core/profiler/rpc/client/save_profile.cc:182] Dumped gzipped tool data for memory_profile.json.gz to keras_tensorflow_logs/Categorical_GPU/All.csv_1632105492__categorical_gpu/train/plugins/profile/2021_09_20_10_38_13/iZj6c6wg0n65vdhgva0emgZ.memory_profile.json.gz\n",
      "2021-09-20 10:38:13.329845: I tensorflow/python/profiler/internal/profiler_wrapper.cc:111] Creating directory: keras_tensorflow_logs/Categorical_GPU/All.csv_1632105492__categorical_gpu/train/plugins/profile/2021_09_20_10_38_13Dumped tool data for xplane.pb to keras_tensorflow_logs/Categorical_GPU/All.csv_1632105492__categorical_gpu/train/plugins/profile/2021_09_20_10_38_13/iZj6c6wg0n65vdhgva0emgZ.xplane.pb\n",
      "Dumped tool data for overview_page.pb to keras_tensorflow_logs/Categorical_GPU/All.csv_1632105492__categorical_gpu/train/plugins/profile/2021_09_20_10_38_13/iZj6c6wg0n65vdhgva0emgZ.overview_page.pb\n",
      "Dumped tool data for input_pipeline.pb to keras_tensorflow_logs/Categorical_GPU/All.csv_1632105492__categorical_gpu/train/plugins/profile/2021_09_20_10_38_13/iZj6c6wg0n65vdhgva0emgZ.input_pipeline.pb\n",
      "Dumped tool data for tensorflow_stats.pb to keras_tensorflow_logs/Categorical_GPU/All.csv_1632105492__categorical_gpu/train/plugins/profile/2021_09_20_10_38_13/iZj6c6wg0n65vdhgva0emgZ.tensorflow_stats.pb\n",
      "Dumped tool data for kernel_stats.pb to keras_tensorflow_logs/Categorical_GPU/All.csv_1632105492__categorical_gpu/train/plugins/profile/2021_09_20_10_38_13/iZj6c6wg0n65vdhgva0emgZ.kernel_stats.pb\n",
      "\n"
     ]
    },
    {
     "name": "stdout",
     "output_type": "stream",
     "text": [
      "Running fold #4\n",
      "Categorical Cross-Entropy Loss Function With Gpu\n"
     ]
    },
    {
     "name": "stderr",
     "output_type": "stream",
     "text": [
      "2021-09-20 10:39:03.908883: I tensorflow/core/profiler/lib/profiler_session.cc:164] Profiler session started.\n",
      "2021-09-20 10:39:03.908948: E tensorflow/core/profiler/internal/gpu/cupti_tracer.cc:1441] function cupti_interface_->Subscribe( &subscriber_, (CUpti_CallbackFunc)ApiCallback, this)failed with error CUPTI could not be loaded or symbol could not be found.\n"
     ]
    },
    {
     "name": "stdout",
     "output_type": "stream",
     "text": [
      "WARNING:tensorflow:Callbacks method `on_train_batch_end` is slow compared to the batch time (batch time: 0.0032s vs `on_train_batch_end` time: 0.0509s). Check your callbacks.\n"
     ]
    },
    {
     "name": "stderr",
     "output_type": "stream",
     "text": [
      "2021-09-20 10:39:04.587751: I tensorflow/core/profiler/lib/profiler_session.cc:164] Profiler session started.\n",
      "2021-09-20 10:39:04.587808: E tensorflow/core/profiler/internal/gpu/cupti_tracer.cc:1441] function cupti_interface_->Subscribe( &subscriber_, (CUpti_CallbackFunc)ApiCallback, this)failed with error CUPTI could not be loaded or symbol could not be found.\n",
      "2021-09-20 10:39:04.632105: I tensorflow/core/profiler/internal/gpu/device_tracer.cc:223]  GpuTracer has collected 0 callback api events and 0 activity events. \n",
      "2021-09-20 10:39:04.633410: I tensorflow/core/profiler/rpc/client/save_profile.cc:176] Creating directory: keras_tensorflow_logs/Categorical_GPU/All.csv_1632105543__categorical_gpu/train/plugins/profile/2021_09_20_10_39_04\n",
      "2021-09-20 10:39:04.633888: I tensorflow/core/profiler/rpc/client/save_profile.cc:182] Dumped gzipped tool data for trace.json.gz to keras_tensorflow_logs/Categorical_GPU/All.csv_1632105543__categorical_gpu/train/plugins/profile/2021_09_20_10_39_04/iZj6c6wg0n65vdhgva0emgZ.trace.json.gz\n",
      "2021-09-20 10:39:04.639692: I tensorflow/core/profiler/rpc/client/save_profile.cc:176] Creating directory: keras_tensorflow_logs/Categorical_GPU/All.csv_1632105543__categorical_gpu/train/plugins/profile/2021_09_20_10_39_04\n",
      "2021-09-20 10:39:04.640949: I tensorflow/core/profiler/rpc/client/save_profile.cc:182] Dumped gzipped tool data for memory_profile.json.gz to keras_tensorflow_logs/Categorical_GPU/All.csv_1632105543__categorical_gpu/train/plugins/profile/2021_09_20_10_39_04/iZj6c6wg0n65vdhgva0emgZ.memory_profile.json.gz\n",
      "2021-09-20 10:39:04.641220: I tensorflow/python/profiler/internal/profiler_wrapper.cc:111] Creating directory: keras_tensorflow_logs/Categorical_GPU/All.csv_1632105543__categorical_gpu/train/plugins/profile/2021_09_20_10_39_04Dumped tool data for xplane.pb to keras_tensorflow_logs/Categorical_GPU/All.csv_1632105543__categorical_gpu/train/plugins/profile/2021_09_20_10_39_04/iZj6c6wg0n65vdhgva0emgZ.xplane.pb\n",
      "Dumped tool data for overview_page.pb to keras_tensorflow_logs/Categorical_GPU/All.csv_1632105543__categorical_gpu/train/plugins/profile/2021_09_20_10_39_04/iZj6c6wg0n65vdhgva0emgZ.overview_page.pb\n",
      "Dumped tool data for input_pipeline.pb to keras_tensorflow_logs/Categorical_GPU/All.csv_1632105543__categorical_gpu/train/plugins/profile/2021_09_20_10_39_04/iZj6c6wg0n65vdhgva0emgZ.input_pipeline.pb\n",
      "Dumped tool data for tensorflow_stats.pb to keras_tensorflow_logs/Categorical_GPU/All.csv_1632105543__categorical_gpu/train/plugins/profile/2021_09_20_10_39_04/iZj6c6wg0n65vdhgva0emgZ.tensorflow_stats.pb\n",
      "Dumped tool data for kernel_stats.pb to keras_tensorflow_logs/Categorical_GPU/All.csv_1632105543__categorical_gpu/train/plugins/profile/2021_09_20_10_39_04/iZj6c6wg0n65vdhgva0emgZ.kernel_stats.pb\n",
      "\n"
     ]
    },
    {
     "name": "stdout",
     "output_type": "stream",
     "text": [
      "Running fold #5\n",
      "Categorical Cross-Entropy Loss Function With Gpu\n"
     ]
    },
    {
     "name": "stderr",
     "output_type": "stream",
     "text": [
      "2021-09-20 10:39:32.946192: I tensorflow/core/profiler/lib/profiler_session.cc:164] Profiler session started.\n",
      "2021-09-20 10:39:32.946260: E tensorflow/core/profiler/internal/gpu/cupti_tracer.cc:1441] function cupti_interface_->Subscribe( &subscriber_, (CUpti_CallbackFunc)ApiCallback, this)failed with error CUPTI could not be loaded or symbol could not be found.\n"
     ]
    },
    {
     "name": "stdout",
     "output_type": "stream",
     "text": [
      "WARNING:tensorflow:Callbacks method `on_train_batch_end` is slow compared to the batch time (batch time: 0.0031s vs `on_train_batch_end` time: 0.0524s). Check your callbacks.\n"
     ]
    },
    {
     "name": "stderr",
     "output_type": "stream",
     "text": [
      "2021-09-20 10:39:33.628473: I tensorflow/core/profiler/lib/profiler_session.cc:164] Profiler session started.\n",
      "2021-09-20 10:39:33.628533: E tensorflow/core/profiler/internal/gpu/cupti_tracer.cc:1441] function cupti_interface_->Subscribe( &subscriber_, (CUpti_CallbackFunc)ApiCallback, this)failed with error CUPTI could not be loaded or symbol could not be found.\n",
      "2021-09-20 10:39:33.673785: I tensorflow/core/profiler/internal/gpu/device_tracer.cc:223]  GpuTracer has collected 0 callback api events and 0 activity events. \n",
      "2021-09-20 10:39:33.675094: I tensorflow/core/profiler/rpc/client/save_profile.cc:176] Creating directory: keras_tensorflow_logs/Categorical_GPU/All.csv_1632105572__categorical_gpu/train/plugins/profile/2021_09_20_10_39_33\n",
      "2021-09-20 10:39:33.675554: I tensorflow/core/profiler/rpc/client/save_profile.cc:182] Dumped gzipped tool data for trace.json.gz to keras_tensorflow_logs/Categorical_GPU/All.csv_1632105572__categorical_gpu/train/plugins/profile/2021_09_20_10_39_33/iZj6c6wg0n65vdhgva0emgZ.trace.json.gz\n",
      "2021-09-20 10:39:33.681250: I tensorflow/core/profiler/rpc/client/save_profile.cc:176] Creating directory: keras_tensorflow_logs/Categorical_GPU/All.csv_1632105572__categorical_gpu/train/plugins/profile/2021_09_20_10_39_33\n",
      "2021-09-20 10:39:33.682595: I tensorflow/core/profiler/rpc/client/save_profile.cc:182] Dumped gzipped tool data for memory_profile.json.gz to keras_tensorflow_logs/Categorical_GPU/All.csv_1632105572__categorical_gpu/train/plugins/profile/2021_09_20_10_39_33/iZj6c6wg0n65vdhgva0emgZ.memory_profile.json.gz\n",
      "2021-09-20 10:39:33.682854: I tensorflow/python/profiler/internal/profiler_wrapper.cc:111] Creating directory: keras_tensorflow_logs/Categorical_GPU/All.csv_1632105572__categorical_gpu/train/plugins/profile/2021_09_20_10_39_33Dumped tool data for xplane.pb to keras_tensorflow_logs/Categorical_GPU/All.csv_1632105572__categorical_gpu/train/plugins/profile/2021_09_20_10_39_33/iZj6c6wg0n65vdhgva0emgZ.xplane.pb\n",
      "Dumped tool data for overview_page.pb to keras_tensorflow_logs/Categorical_GPU/All.csv_1632105572__categorical_gpu/train/plugins/profile/2021_09_20_10_39_33/iZj6c6wg0n65vdhgva0emgZ.overview_page.pb\n",
      "Dumped tool data for input_pipeline.pb to keras_tensorflow_logs/Categorical_GPU/All.csv_1632105572__categorical_gpu/train/plugins/profile/2021_09_20_10_39_33/iZj6c6wg0n65vdhgva0emgZ.input_pipeline.pb\n",
      "Dumped tool data for tensorflow_stats.pb to keras_tensorflow_logs/Categorical_GPU/All.csv_1632105572__categorical_gpu/train/plugins/profile/2021_09_20_10_39_33/iZj6c6wg0n65vdhgva0emgZ.tensorflow_stats.pb\n",
      "Dumped tool data for kernel_stats.pb to keras_tensorflow_logs/Categorical_GPU/All.csv_1632105572__categorical_gpu/train/plugins/profile/2021_09_20_10_39_33/iZj6c6wg0n65vdhgva0emgZ.kernel_stats.pb\n",
      "\n"
     ]
    },
    {
     "name": "stdout",
     "output_type": "stream",
     "text": [
      "Running fold #6\n",
      "Categorical Cross-Entropy Loss Function With Gpu\n"
     ]
    },
    {
     "name": "stderr",
     "output_type": "stream",
     "text": [
      "2021-09-20 10:40:04.391702: I tensorflow/core/profiler/lib/profiler_session.cc:164] Profiler session started.\n",
      "2021-09-20 10:40:04.391766: E tensorflow/core/profiler/internal/gpu/cupti_tracer.cc:1441] function cupti_interface_->Subscribe( &subscriber_, (CUpti_CallbackFunc)ApiCallback, this)failed with error CUPTI could not be loaded or symbol could not be found.\n"
     ]
    },
    {
     "name": "stdout",
     "output_type": "stream",
     "text": [
      "WARNING:tensorflow:Callbacks method `on_train_batch_end` is slow compared to the batch time (batch time: 0.0032s vs `on_train_batch_end` time: 0.0546s). Check your callbacks.\n"
     ]
    },
    {
     "name": "stderr",
     "output_type": "stream",
     "text": [
      "2021-09-20 10:40:05.085796: I tensorflow/core/profiler/lib/profiler_session.cc:164] Profiler session started.\n",
      "2021-09-20 10:40:05.085857: E tensorflow/core/profiler/internal/gpu/cupti_tracer.cc:1441] function cupti_interface_->Subscribe( &subscriber_, (CUpti_CallbackFunc)ApiCallback, this)failed with error CUPTI could not be loaded or symbol could not be found.\n",
      "2021-09-20 10:40:05.133646: I tensorflow/core/profiler/internal/gpu/device_tracer.cc:223]  GpuTracer has collected 0 callback api events and 0 activity events. \n",
      "2021-09-20 10:40:05.134983: I tensorflow/core/profiler/rpc/client/save_profile.cc:176] Creating directory: keras_tensorflow_logs/Categorical_GPU/All.csv_1632105604__categorical_gpu/train/plugins/profile/2021_09_20_10_40_05\n",
      "2021-09-20 10:40:05.135461: I tensorflow/core/profiler/rpc/client/save_profile.cc:182] Dumped gzipped tool data for trace.json.gz to keras_tensorflow_logs/Categorical_GPU/All.csv_1632105604__categorical_gpu/train/plugins/profile/2021_09_20_10_40_05/iZj6c6wg0n65vdhgva0emgZ.trace.json.gz\n",
      "2021-09-20 10:40:05.141228: I tensorflow/core/profiler/rpc/client/save_profile.cc:176] Creating directory: keras_tensorflow_logs/Categorical_GPU/All.csv_1632105604__categorical_gpu/train/plugins/profile/2021_09_20_10_40_05\n",
      "2021-09-20 10:40:05.142593: I tensorflow/core/profiler/rpc/client/save_profile.cc:182] Dumped gzipped tool data for memory_profile.json.gz to keras_tensorflow_logs/Categorical_GPU/All.csv_1632105604__categorical_gpu/train/plugins/profile/2021_09_20_10_40_05/iZj6c6wg0n65vdhgva0emgZ.memory_profile.json.gz\n",
      "2021-09-20 10:40:05.142859: I tensorflow/python/profiler/internal/profiler_wrapper.cc:111] Creating directory: keras_tensorflow_logs/Categorical_GPU/All.csv_1632105604__categorical_gpu/train/plugins/profile/2021_09_20_10_40_05Dumped tool data for xplane.pb to keras_tensorflow_logs/Categorical_GPU/All.csv_1632105604__categorical_gpu/train/plugins/profile/2021_09_20_10_40_05/iZj6c6wg0n65vdhgva0emgZ.xplane.pb\n",
      "Dumped tool data for overview_page.pb to keras_tensorflow_logs/Categorical_GPU/All.csv_1632105604__categorical_gpu/train/plugins/profile/2021_09_20_10_40_05/iZj6c6wg0n65vdhgva0emgZ.overview_page.pb\n",
      "Dumped tool data for input_pipeline.pb to keras_tensorflow_logs/Categorical_GPU/All.csv_1632105604__categorical_gpu/train/plugins/profile/2021_09_20_10_40_05/iZj6c6wg0n65vdhgva0emgZ.input_pipeline.pb\n",
      "Dumped tool data for tensorflow_stats.pb to keras_tensorflow_logs/Categorical_GPU/All.csv_1632105604__categorical_gpu/train/plugins/profile/2021_09_20_10_40_05/iZj6c6wg0n65vdhgva0emgZ.tensorflow_stats.pb\n",
      "Dumped tool data for kernel_stats.pb to keras_tensorflow_logs/Categorical_GPU/All.csv_1632105604__categorical_gpu/train/plugins/profile/2021_09_20_10_40_05/iZj6c6wg0n65vdhgva0emgZ.kernel_stats.pb\n",
      "\n"
     ]
    },
    {
     "name": "stdout",
     "output_type": "stream",
     "text": [
      "Running fold #7\n",
      "Categorical Cross-Entropy Loss Function With Gpu\n"
     ]
    },
    {
     "name": "stderr",
     "output_type": "stream",
     "text": [
      "2021-09-20 10:40:50.932636: I tensorflow/core/profiler/lib/profiler_session.cc:164] Profiler session started.\n",
      "2021-09-20 10:40:50.932704: E tensorflow/core/profiler/internal/gpu/cupti_tracer.cc:1441] function cupti_interface_->Subscribe( &subscriber_, (CUpti_CallbackFunc)ApiCallback, this)failed with error CUPTI could not be loaded or symbol could not be found.\n"
     ]
    },
    {
     "name": "stdout",
     "output_type": "stream",
     "text": [
      "WARNING:tensorflow:Callbacks method `on_train_batch_end` is slow compared to the batch time (batch time: 0.0031s vs `on_train_batch_end` time: 0.0541s). Check your callbacks.\n"
     ]
    },
    {
     "name": "stderr",
     "output_type": "stream",
     "text": [
      "2021-09-20 10:40:51.632365: I tensorflow/core/profiler/lib/profiler_session.cc:164] Profiler session started.\n",
      "2021-09-20 10:40:51.632434: E tensorflow/core/profiler/internal/gpu/cupti_tracer.cc:1441] function cupti_interface_->Subscribe( &subscriber_, (CUpti_CallbackFunc)ApiCallback, this)failed with error CUPTI could not be loaded or symbol could not be found.\n",
      "2021-09-20 10:40:51.679864: I tensorflow/core/profiler/internal/gpu/device_tracer.cc:223]  GpuTracer has collected 0 callback api events and 0 activity events. \n",
      "2021-09-20 10:40:51.681212: I tensorflow/core/profiler/rpc/client/save_profile.cc:176] Creating directory: keras_tensorflow_logs/Categorical_GPU/All.csv_1632105650__categorical_gpu/train/plugins/profile/2021_09_20_10_40_51\n",
      "2021-09-20 10:40:51.681694: I tensorflow/core/profiler/rpc/client/save_profile.cc:182] Dumped gzipped tool data for trace.json.gz to keras_tensorflow_logs/Categorical_GPU/All.csv_1632105650__categorical_gpu/train/plugins/profile/2021_09_20_10_40_51/iZj6c6wg0n65vdhgva0emgZ.trace.json.gz\n",
      "2021-09-20 10:40:51.687465: I tensorflow/core/profiler/rpc/client/save_profile.cc:176] Creating directory: keras_tensorflow_logs/Categorical_GPU/All.csv_1632105650__categorical_gpu/train/plugins/profile/2021_09_20_10_40_51\n",
      "2021-09-20 10:40:51.688831: I tensorflow/core/profiler/rpc/client/save_profile.cc:182] Dumped gzipped tool data for memory_profile.json.gz to keras_tensorflow_logs/Categorical_GPU/All.csv_1632105650__categorical_gpu/train/plugins/profile/2021_09_20_10_40_51/iZj6c6wg0n65vdhgva0emgZ.memory_profile.json.gz\n",
      "2021-09-20 10:40:51.689115: I tensorflow/python/profiler/internal/profiler_wrapper.cc:111] Creating directory: keras_tensorflow_logs/Categorical_GPU/All.csv_1632105650__categorical_gpu/train/plugins/profile/2021_09_20_10_40_51Dumped tool data for xplane.pb to keras_tensorflow_logs/Categorical_GPU/All.csv_1632105650__categorical_gpu/train/plugins/profile/2021_09_20_10_40_51/iZj6c6wg0n65vdhgva0emgZ.xplane.pb\n",
      "Dumped tool data for overview_page.pb to keras_tensorflow_logs/Categorical_GPU/All.csv_1632105650__categorical_gpu/train/plugins/profile/2021_09_20_10_40_51/iZj6c6wg0n65vdhgva0emgZ.overview_page.pb\n",
      "Dumped tool data for input_pipeline.pb to keras_tensorflow_logs/Categorical_GPU/All.csv_1632105650__categorical_gpu/train/plugins/profile/2021_09_20_10_40_51/iZj6c6wg0n65vdhgva0emgZ.input_pipeline.pb\n",
      "Dumped tool data for tensorflow_stats.pb to keras_tensorflow_logs/Categorical_GPU/All.csv_1632105650__categorical_gpu/train/plugins/profile/2021_09_20_10_40_51/iZj6c6wg0n65vdhgva0emgZ.tensorflow_stats.pb\n",
      "Dumped tool data for kernel_stats.pb to keras_tensorflow_logs/Categorical_GPU/All.csv_1632105650__categorical_gpu/train/plugins/profile/2021_09_20_10_40_51/iZj6c6wg0n65vdhgva0emgZ.kernel_stats.pb\n",
      "\n"
     ]
    },
    {
     "name": "stdout",
     "output_type": "stream",
     "text": [
      "Running fold #8\n",
      "Categorical Cross-Entropy Loss Function With Gpu\n"
     ]
    },
    {
     "name": "stderr",
     "output_type": "stream",
     "text": [
      "2021-09-20 10:41:33.750106: I tensorflow/core/profiler/lib/profiler_session.cc:164] Profiler session started.\n",
      "2021-09-20 10:41:33.750171: E tensorflow/core/profiler/internal/gpu/cupti_tracer.cc:1441] function cupti_interface_->Subscribe( &subscriber_, (CUpti_CallbackFunc)ApiCallback, this)failed with error CUPTI could not be loaded or symbol could not be found.\n"
     ]
    },
    {
     "name": "stdout",
     "output_type": "stream",
     "text": [
      "WARNING:tensorflow:Callbacks method `on_train_batch_end` is slow compared to the batch time (batch time: 0.0033s vs `on_train_batch_end` time: 0.0568s). Check your callbacks.\n"
     ]
    },
    {
     "name": "stderr",
     "output_type": "stream",
     "text": [
      "2021-09-20 10:41:34.733794: I tensorflow/core/profiler/lib/profiler_session.cc:164] Profiler session started.\n",
      "2021-09-20 10:41:34.733859: E tensorflow/core/profiler/internal/gpu/cupti_tracer.cc:1441] function cupti_interface_->Subscribe( &subscriber_, (CUpti_CallbackFunc)ApiCallback, this)failed with error CUPTI could not be loaded or symbol could not be found.\n",
      "2021-09-20 10:41:34.783460: I tensorflow/core/profiler/internal/gpu/device_tracer.cc:223]  GpuTracer has collected 0 callback api events and 0 activity events. \n",
      "2021-09-20 10:41:34.784931: I tensorflow/core/profiler/rpc/client/save_profile.cc:176] Creating directory: keras_tensorflow_logs/Categorical_GPU/All.csv_1632105693__categorical_gpu/train/plugins/profile/2021_09_20_10_41_34\n",
      "2021-09-20 10:41:34.785438: I tensorflow/core/profiler/rpc/client/save_profile.cc:182] Dumped gzipped tool data for trace.json.gz to keras_tensorflow_logs/Categorical_GPU/All.csv_1632105693__categorical_gpu/train/plugins/profile/2021_09_20_10_41_34/iZj6c6wg0n65vdhgva0emgZ.trace.json.gz\n",
      "2021-09-20 10:41:34.791545: I tensorflow/core/profiler/rpc/client/save_profile.cc:176] Creating directory: keras_tensorflow_logs/Categorical_GPU/All.csv_1632105693__categorical_gpu/train/plugins/profile/2021_09_20_10_41_34\n",
      "2021-09-20 10:41:34.792965: I tensorflow/core/profiler/rpc/client/save_profile.cc:182] Dumped gzipped tool data for memory_profile.json.gz to keras_tensorflow_logs/Categorical_GPU/All.csv_1632105693__categorical_gpu/train/plugins/profile/2021_09_20_10_41_34/iZj6c6wg0n65vdhgva0emgZ.memory_profile.json.gz\n",
      "2021-09-20 10:41:34.793283: I tensorflow/python/profiler/internal/profiler_wrapper.cc:111] Creating directory: keras_tensorflow_logs/Categorical_GPU/All.csv_1632105693__categorical_gpu/train/plugins/profile/2021_09_20_10_41_34Dumped tool data for xplane.pb to keras_tensorflow_logs/Categorical_GPU/All.csv_1632105693__categorical_gpu/train/plugins/profile/2021_09_20_10_41_34/iZj6c6wg0n65vdhgva0emgZ.xplane.pb\n",
      "Dumped tool data for overview_page.pb to keras_tensorflow_logs/Categorical_GPU/All.csv_1632105693__categorical_gpu/train/plugins/profile/2021_09_20_10_41_34/iZj6c6wg0n65vdhgva0emgZ.overview_page.pb\n",
      "Dumped tool data for input_pipeline.pb to keras_tensorflow_logs/Categorical_GPU/All.csv_1632105693__categorical_gpu/train/plugins/profile/2021_09_20_10_41_34/iZj6c6wg0n65vdhgva0emgZ.input_pipeline.pb\n",
      "Dumped tool data for tensorflow_stats.pb to keras_tensorflow_logs/Categorical_GPU/All.csv_1632105693__categorical_gpu/train/plugins/profile/2021_09_20_10_41_34/iZj6c6wg0n65vdhgva0emgZ.tensorflow_stats.pb\n",
      "Dumped tool data for kernel_stats.pb to keras_tensorflow_logs/Categorical_GPU/All.csv_1632105693__categorical_gpu/train/plugins/profile/2021_09_20_10_41_34/iZj6c6wg0n65vdhgva0emgZ.kernel_stats.pb\n",
      "\n"
     ]
    },
    {
     "name": "stdout",
     "output_type": "stream",
     "text": [
      "Running fold #9\n",
      "Categorical Cross-Entropy Loss Function With Gpu\n"
     ]
    },
    {
     "name": "stderr",
     "output_type": "stream",
     "text": [
      "2021-09-20 10:42:17.212930: I tensorflow/core/profiler/lib/profiler_session.cc:164] Profiler session started.\n",
      "2021-09-20 10:42:17.213005: E tensorflow/core/profiler/internal/gpu/cupti_tracer.cc:1441] function cupti_interface_->Subscribe( &subscriber_, (CUpti_CallbackFunc)ApiCallback, this)failed with error CUPTI could not be loaded or symbol could not be found.\n"
     ]
    },
    {
     "name": "stdout",
     "output_type": "stream",
     "text": [
      "WARNING:tensorflow:Callbacks method `on_train_batch_end` is slow compared to the batch time (batch time: 0.0055s vs `on_train_batch_end` time: 0.1029s). Check your callbacks.\n"
     ]
    },
    {
     "name": "stderr",
     "output_type": "stream",
     "text": [
      "2021-09-20 10:42:18.041455: I tensorflow/core/profiler/lib/profiler_session.cc:164] Profiler session started.\n",
      "2021-09-20 10:42:18.041533: E tensorflow/core/profiler/internal/gpu/cupti_tracer.cc:1441] function cupti_interface_->Subscribe( &subscriber_, (CUpti_CallbackFunc)ApiCallback, this)failed with error CUPTI could not be loaded or symbol could not be found.\n",
      "2021-09-20 10:42:18.130726: I tensorflow/core/profiler/internal/gpu/device_tracer.cc:223]  GpuTracer has collected 0 callback api events and 0 activity events. \n",
      "2021-09-20 10:42:18.133181: I tensorflow/core/profiler/rpc/client/save_profile.cc:176] Creating directory: keras_tensorflow_logs/Categorical_GPU/All.csv_1632105737__categorical_gpu/train/plugins/profile/2021_09_20_10_42_18\n",
      "2021-09-20 10:42:18.133979: I tensorflow/core/profiler/rpc/client/save_profile.cc:182] Dumped gzipped tool data for trace.json.gz to keras_tensorflow_logs/Categorical_GPU/All.csv_1632105737__categorical_gpu/train/plugins/profile/2021_09_20_10_42_18/iZj6c6wg0n65vdhgva0emgZ.trace.json.gz\n",
      "2021-09-20 10:42:18.145827: I tensorflow/core/profiler/rpc/client/save_profile.cc:176] Creating directory: keras_tensorflow_logs/Categorical_GPU/All.csv_1632105737__categorical_gpu/train/plugins/profile/2021_09_20_10_42_18\n",
      "2021-09-20 10:42:18.148117: I tensorflow/core/profiler/rpc/client/save_profile.cc:182] Dumped gzipped tool data for memory_profile.json.gz to keras_tensorflow_logs/Categorical_GPU/All.csv_1632105737__categorical_gpu/train/plugins/profile/2021_09_20_10_42_18/iZj6c6wg0n65vdhgva0emgZ.memory_profile.json.gz\n",
      "2021-09-20 10:42:18.148602: I tensorflow/python/profiler/internal/profiler_wrapper.cc:111] Creating directory: keras_tensorflow_logs/Categorical_GPU/All.csv_1632105737__categorical_gpu/train/plugins/profile/2021_09_20_10_42_18Dumped tool data for xplane.pb to keras_tensorflow_logs/Categorical_GPU/All.csv_1632105737__categorical_gpu/train/plugins/profile/2021_09_20_10_42_18/iZj6c6wg0n65vdhgva0emgZ.xplane.pb\n",
      "Dumped tool data for overview_page.pb to keras_tensorflow_logs/Categorical_GPU/All.csv_1632105737__categorical_gpu/train/plugins/profile/2021_09_20_10_42_18/iZj6c6wg0n65vdhgva0emgZ.overview_page.pb\n",
      "Dumped tool data for input_pipeline.pb to keras_tensorflow_logs/Categorical_GPU/All.csv_1632105737__categorical_gpu/train/plugins/profile/2021_09_20_10_42_18/iZj6c6wg0n65vdhgva0emgZ.input_pipeline.pb\n",
      "Dumped tool data for tensorflow_stats.pb to keras_tensorflow_logs/Categorical_GPU/All.csv_1632105737__categorical_gpu/train/plugins/profile/2021_09_20_10_42_18/iZj6c6wg0n65vdhgva0emgZ.tensorflow_stats.pb\n",
      "Dumped tool data for kernel_stats.pb to keras_tensorflow_logs/Categorical_GPU/All.csv_1632105737__categorical_gpu/train/plugins/profile/2021_09_20_10_42_18/iZj6c6wg0n65vdhgva0emgZ.kernel_stats.pb\n",
      "\n"
     ]
    },
    {
     "name": "stdout",
     "output_type": "stream",
     "text": [
      "Running fold #10\n",
      "Categorical Cross-Entropy Loss Function With Gpu\n"
     ]
    },
    {
     "name": "stderr",
     "output_type": "stream",
     "text": [
      "2021-09-20 10:43:02.098619: I tensorflow/core/profiler/lib/profiler_session.cc:164] Profiler session started.\n",
      "2021-09-20 10:43:02.098693: E tensorflow/core/profiler/internal/gpu/cupti_tracer.cc:1441] function cupti_interface_->Subscribe( &subscriber_, (CUpti_CallbackFunc)ApiCallback, this)failed with error CUPTI could not be loaded or symbol could not be found.\n"
     ]
    },
    {
     "name": "stdout",
     "output_type": "stream",
     "text": [
      "WARNING:tensorflow:Callbacks method `on_train_batch_end` is slow compared to the batch time (batch time: 0.0062s vs `on_train_batch_end` time: 0.0850s). Check your callbacks.\n"
     ]
    },
    {
     "name": "stderr",
     "output_type": "stream",
     "text": [
      "2021-09-20 10:43:02.868828: I tensorflow/core/profiler/lib/profiler_session.cc:164] Profiler session started.\n",
      "2021-09-20 10:43:02.868913: E tensorflow/core/profiler/internal/gpu/cupti_tracer.cc:1441] function cupti_interface_->Subscribe( &subscriber_, (CUpti_CallbackFunc)ApiCallback, this)failed with error CUPTI could not be loaded or symbol could not be found.\n",
      "2021-09-20 10:43:02.941980: I tensorflow/core/profiler/internal/gpu/device_tracer.cc:223]  GpuTracer has collected 0 callback api events and 0 activity events. \n",
      "2021-09-20 10:43:02.944274: I tensorflow/core/profiler/rpc/client/save_profile.cc:176] Creating directory: keras_tensorflow_logs/Categorical_GPU/All.csv_1632105782__categorical_gpu/train/plugins/profile/2021_09_20_10_43_02\n",
      "2021-09-20 10:43:02.945006: I tensorflow/core/profiler/rpc/client/save_profile.cc:182] Dumped gzipped tool data for trace.json.gz to keras_tensorflow_logs/Categorical_GPU/All.csv_1632105782__categorical_gpu/train/plugins/profile/2021_09_20_10_43_02/iZj6c6wg0n65vdhgva0emgZ.trace.json.gz\n",
      "2021-09-20 10:43:02.956210: I tensorflow/core/profiler/rpc/client/save_profile.cc:176] Creating directory: keras_tensorflow_logs/Categorical_GPU/All.csv_1632105782__categorical_gpu/train/plugins/profile/2021_09_20_10_43_02\n",
      "2021-09-20 10:43:02.958423: I tensorflow/core/profiler/rpc/client/save_profile.cc:182] Dumped gzipped tool data for memory_profile.json.gz to keras_tensorflow_logs/Categorical_GPU/All.csv_1632105782__categorical_gpu/train/plugins/profile/2021_09_20_10_43_02/iZj6c6wg0n65vdhgva0emgZ.memory_profile.json.gz\n",
      "2021-09-20 10:43:02.958864: I tensorflow/python/profiler/internal/profiler_wrapper.cc:111] Creating directory: keras_tensorflow_logs/Categorical_GPU/All.csv_1632105782__categorical_gpu/train/plugins/profile/2021_09_20_10_43_02Dumped tool data for xplane.pb to keras_tensorflow_logs/Categorical_GPU/All.csv_1632105782__categorical_gpu/train/plugins/profile/2021_09_20_10_43_02/iZj6c6wg0n65vdhgva0emgZ.xplane.pb\n",
      "Dumped tool data for overview_page.pb to keras_tensorflow_logs/Categorical_GPU/All.csv_1632105782__categorical_gpu/train/plugins/profile/2021_09_20_10_43_02/iZj6c6wg0n65vdhgva0emgZ.overview_page.pb\n",
      "Dumped tool data for input_pipeline.pb to keras_tensorflow_logs/Categorical_GPU/All.csv_1632105782__categorical_gpu/train/plugins/profile/2021_09_20_10_43_02/iZj6c6wg0n65vdhgva0emgZ.input_pipeline.pb\n",
      "Dumped tool data for tensorflow_stats.pb to keras_tensorflow_logs/Categorical_GPU/All.csv_1632105782__categorical_gpu/train/plugins/profile/2021_09_20_10_43_02/iZj6c6wg0n65vdhgva0emgZ.tensorflow_stats.pb\n",
      "Dumped tool data for kernel_stats.pb to keras_tensorflow_logs/Categorical_GPU/All.csv_1632105782__categorical_gpu/train/plugins/profile/2021_09_20_10_43_02/iZj6c6wg0n65vdhgva0emgZ.kernel_stats.pb\n",
      "\n"
     ]
    },
    {
     "name": "stdout",
     "output_type": "stream",
     "text": [
      "Time to complete 7 min 422.6613483428955 sec\n"
     ]
    }
   ],
   "source": [
    "categorical_df = df1.copy()\n",
    "model, history, X , encoded_y = experiment(categorical_df,early=True)"
   ]
  },
  {
   "cell_type": "markdown",
   "metadata": {
    "colab_type": "text",
    "id": "FoHKjaqpGQub"
   },
   "source": [
    "#### Save the model as a file"
   ]
  },
  {
   "cell_type": "code",
   "execution_count": 22,
   "metadata": {
    "colab": {},
    "colab_type": "code",
    "id": "vixNeoaEGW9n"
   },
   "outputs": [
    {
     "name": "stdout",
     "output_type": "stream",
     "text": [
      "WARNING:tensorflow:From /root/anaconda3/envs/tf/lib/python3.7/site-packages/tensorflow/python/training/tracking/tracking.py:111: Model.state_updates (from tensorflow.python.keras.engine.training) is deprecated and will be removed in a future version.\n",
      "Instructions for updating:\n",
      "This property should not be used in TensorFlow 2.0, as updates are applied automatically.\n",
      "WARNING:tensorflow:From /root/anaconda3/envs/tf/lib/python3.7/site-packages/tensorflow/python/training/tracking/tracking.py:111: Layer.updates (from tensorflow.python.keras.engine.base_layer) is deprecated and will be removed in a future version.\n",
      "Instructions for updating:\n",
      "This property should not be used in TensorFlow 2.0, as updates are applied automatically.\n"
     ]
    },
    {
     "name": "stderr",
     "output_type": "stream",
     "text": [
      "2021-09-20 10:44:30.478957: W tensorflow/python/util/util.cc:348] Sets are not currently considered sequences, but this may change in the future, so consider avoiding using them.\n"
     ]
    },
    {
     "name": "stdout",
     "output_type": "stream",
     "text": [
      "INFO:tensorflow:Assets written to: FinalDataset.model/assets\n"
     ]
    }
   ],
   "source": [
    "model.save('{}.model'.format(os.path.basename(dataPath)))"
   ]
  },
  {
   "cell_type": "markdown",
   "metadata": {
    "colab_type": "text",
    "id": "R1VG5cxSplyA"
   },
   "source": [
    "### Model Results"
   ]
  },
  {
   "cell_type": "code",
   "execution_count": 23,
   "metadata": {
    "colab": {
     "base_uri": "https://localhost:8080/",
     "height": 69
    },
    "colab_type": "code",
    "id": "p3xvC6ZlG9Wz",
    "outputId": "25f57075-1925-41f6-de99-32e8c59a1658"
   },
   "outputs": [
    {
     "name": "stdout",
     "output_type": "stream",
     "text": [
      "297/297 [==============================] - 0s 1ms/step - loss: 0.0990 - accuracy: 0.9657\n",
      "['loss', 'accuracy']\n",
      "GPU Baseline: accuracy: 96.57%: loss: 0.10\n"
     ]
    }
   ],
   "source": [
    "scores = model.evaluate(X,encoded_y, batch_size=batch_size,verbose=1)\n",
    "print(model.metrics_names)\n",
    "acc, loss = scores[1]*100, scores[0]\n",
    "print('GPU Baseline: accuracy: {:.2f}%: loss: {:.2f}'.format(acc, loss))"
   ]
  },
  {
   "cell_type": "markdown",
   "metadata": {
    "colab_type": "text",
    "id": "hlNdQsyiplyF"
   },
   "source": [
    "#### Generate predictions from the model"
   ]
  },
  {
   "cell_type": "code",
   "execution_count": 24,
   "metadata": {
    "colab": {
     "base_uri": "https://localhost:8080/",
     "height": 34
    },
    "colab_type": "code",
    "id": "a0jLyQXHplyG",
    "outputId": "fc6fb919-3f62-49bb-882c-f2491c6863c9"
   },
   "outputs": [
    {
     "name": "stdout",
     "output_type": "stream",
     "text": [
      "WARNING:tensorflow:From /tmp/ipykernel_3563/2078405044.py:1: Sequential.predict_classes (from tensorflow.python.keras.engine.sequential) is deprecated and will be removed after 2021-01-01.\n",
      "Instructions for updating:\n",
      "Please use instead:* `np.argmax(model.predict(x), axis=-1)`,   if your model does multi-class classification   (e.g. if it uses a `softmax` last-layer activation).* `(model.predict(x) > 0.5).astype(\"int32\")`,   if your model does binary classification   (e.g. if it uses a `sigmoid` last-layer activation).\n",
      "297/297 [==============================] - 0s 797us/step\n"
     ]
    }
   ],
   "source": [
    "prediction_y = model.predict_classes(X, batch_size=batch_size, verbose=1)"
   ]
  },
  {
   "cell_type": "markdown",
   "metadata": {
    "colab_type": "text",
    "id": "44-OsF7tplyK"
   },
   "source": [
    "#### Confusion Matrix"
   ]
  },
  {
   "cell_type": "code",
   "execution_count": 25,
   "metadata": {
    "colab": {
     "base_uri": "https://localhost:8080/",
     "height": 286
    },
    "colab_type": "code",
    "id": "xjsWSmWvplyM",
    "outputId": "7e5ada5f-9be4-4f5e-eebe-7670f90fa3bc"
   },
   "outputs": [
    {
     "data": {
      "text/plain": [
       "<AxesSubplot:>"
      ]
     },
     "execution_count": 25,
     "metadata": {},
     "output_type": "execute_result"
    },
    {
     "data": {
      "image/png": "[encoded data removed]",
      "text/plain": [
       "<Figure size 432x288 with 2 Axes>"
      ]
     },
     "metadata": {
      "needs_background": "light"
     },
     "output_type": "display_data"
    }
   ],
   "source": [
    "y=LabelEncoder().fit_transform(categorical_df[dep_var].values)\n",
    "cm = confusion_matrix(y, prediction_y)\n",
    "sn.heatmap(cm, annot=True, fmt='g', cmap='Blues', xticklabels=['Defacement','Benign','Malware','Phishing','Spam'],\n",
    "           yticklabels=['Defacement','Benign','Malware','Phishing','Spam'])"
   ]
  },
  {
   "cell_type": "markdown",
   "metadata": {
    "colab_type": "text",
    "id": "UeVn3oV7plyQ"
   },
   "source": [
    "#### Graph of Categorical Cross-Entropy Model"
   ]
  },
  {
   "cell_type": "code",
   "execution_count": 27,
   "metadata": {
    "colab": {
     "base_uri": "https://localhost:8080/",
     "height": 295
    },
    "colab_type": "code",
    "id": "33p93BQVekvG",
    "outputId": "bea1aa85-d25b-40f6-c238-aaa694e7d38e",
    "scrolled": true
   },
   "outputs": [
    {
     "data": {
      "image/png": "[encoded data removed]",
      "text/plain": [
       "<Figure size 432x288 with 1 Axes>"
      ]
     },
     "metadata": {
      "needs_background": "light"
     },
     "output_type": "display_data"
    }
   ],
   "source": [
    "plotLoss('Categorical Model GPU Loss')"
   ]
  },
  {
   "cell_type": "code",
   "execution_count": 30,
   "metadata": {
    "colab": {},
    "colab_type": "code",
    "id": "QzpGC1TYplyd"
   },
   "outputs": [],
   "source": [
    "#transform mutlti to binary classification\n",
    "lblTypes = list(lblTypes)\n",
    "lblTypes = dict(zip(lblTypes, [1, 1, 1, 1, 1]))\n",
    "lblTypes['benign'] = 0"
   ]
  },
  {
   "cell_type": "code",
   "execution_count": 31,
   "metadata": {
    "colab": {},
    "colab_type": "code",
    "id": "IQ5kYPnTplyg"
   },
   "outputs": [],
   "source": [
    "binary_df = df1.copy()\n",
    "binary_df[label] = binary_df[label].map(lblTypes)"
   ]
  },
  {
   "cell_type": "markdown",
   "metadata": {
    "colab_type": "text",
    "id": "taziMECuplyj"
   },
   "source": [
    "### Train the Binary Model"
   ]
  },
  {
   "cell_type": "code",
   "execution_count": 32,
   "metadata": {
    "colab": {
     "base_uri": "https://localhost:8080/",
     "height": 454
    },
    "colab_type": "code",
    "id": "llXRdiQ1plyk",
    "outputId": "2831c876-64e8-4d62-dfcc-dc060d727818"
   },
   "outputs": [
    {
     "name": "stdout",
     "output_type": "stream",
     "text": [
      "Running fold #1\n",
      "Binary Cross-Entropy Loss Functionwith With GPU\n"
     ]
    },
    {
     "name": "stderr",
     "output_type": "stream",
     "text": [
      "2021-09-20 10:46:02.789866: I tensorflow/core/profiler/lib/profiler_session.cc:164] Profiler session started.\n",
      "2021-09-20 10:46:02.789947: E tensorflow/core/profiler/internal/gpu/cupti_tracer.cc:1441] function cupti_interface_->Subscribe( &subscriber_, (CUpti_CallbackFunc)ApiCallback, this)failed with error CUPTI could not be loaded or symbol could not be found.\n"
     ]
    },
    {
     "name": "stdout",
     "output_type": "stream",
     "text": [
      "WARNING:tensorflow:Callbacks method `on_train_batch_end` is slow compared to the batch time (batch time: 0.0037s vs `on_train_batch_end` time: 0.0678s). Check your callbacks.\n"
     ]
    },
    {
     "name": "stderr",
     "output_type": "stream",
     "text": [
      "2021-09-20 10:46:03.861376: I tensorflow/core/profiler/lib/profiler_session.cc:164] Profiler session started.\n",
      "2021-09-20 10:46:03.861443: E tensorflow/core/profiler/internal/gpu/cupti_tracer.cc:1441] function cupti_interface_->Subscribe( &subscriber_, (CUpti_CallbackFunc)ApiCallback, this)failed with error CUPTI could not be loaded or symbol could not be found.\n",
      "2021-09-20 10:46:03.921403: I tensorflow/core/profiler/internal/gpu/device_tracer.cc:223]  GpuTracer has collected 0 callback api events and 0 activity events. \n",
      "2021-09-20 10:46:03.922908: I tensorflow/core/profiler/rpc/client/save_profile.cc:176] Creating directory: keras_tensorflow_logs/Binary_GPU/All.csv_1632105962__binary_gpu/train/plugins/profile/2021_09_20_10_46_03\n",
      "2021-09-20 10:46:03.923411: I tensorflow/core/profiler/rpc/client/save_profile.cc:182] Dumped gzipped tool data for trace.json.gz to keras_tensorflow_logs/Binary_GPU/All.csv_1632105962__binary_gpu/train/plugins/profile/2021_09_20_10_46_03/iZj6c6wg0n65vdhgva0emgZ.trace.json.gz\n",
      "2021-09-20 10:46:03.930317: I tensorflow/core/profiler/rpc/client/save_profile.cc:176] Creating directory: keras_tensorflow_logs/Binary_GPU/All.csv_1632105962__binary_gpu/train/plugins/profile/2021_09_20_10_46_03\n",
      "2021-09-20 10:46:03.931870: I tensorflow/core/profiler/rpc/client/save_profile.cc:182] Dumped gzipped tool data for memory_profile.json.gz to keras_tensorflow_logs/Binary_GPU/All.csv_1632105962__binary_gpu/train/plugins/profile/2021_09_20_10_46_03/iZj6c6wg0n65vdhgva0emgZ.memory_profile.json.gz\n",
      "2021-09-20 10:46:03.932186: I tensorflow/python/profiler/internal/profiler_wrapper.cc:111] Creating directory: keras_tensorflow_logs/Binary_GPU/All.csv_1632105962__binary_gpu/train/plugins/profile/2021_09_20_10_46_03Dumped tool data for xplane.pb to keras_tensorflow_logs/Binary_GPU/All.csv_1632105962__binary_gpu/train/plugins/profile/2021_09_20_10_46_03/iZj6c6wg0n65vdhgva0emgZ.xplane.pb\n",
      "Dumped tool data for overview_page.pb to keras_tensorflow_logs/Binary_GPU/All.csv_1632105962__binary_gpu/train/plugins/profile/2021_09_20_10_46_03/iZj6c6wg0n65vdhgva0emgZ.overview_page.pb\n",
      "Dumped tool data for input_pipeline.pb to keras_tensorflow_logs/Binary_GPU/All.csv_1632105962__binary_gpu/train/plugins/profile/2021_09_20_10_46_03/iZj6c6wg0n65vdhgva0emgZ.input_pipeline.pb\n",
      "Dumped tool data for tensorflow_stats.pb to keras_tensorflow_logs/Binary_GPU/All.csv_1632105962__binary_gpu/train/plugins/profile/2021_09_20_10_46_03/iZj6c6wg0n65vdhgva0emgZ.tensorflow_stats.pb\n",
      "Dumped tool data for kernel_stats.pb to keras_tensorflow_logs/Binary_GPU/All.csv_1632105962__binary_gpu/train/plugins/profile/2021_09_20_10_46_03/iZj6c6wg0n65vdhgva0emgZ.kernel_stats.pb\n",
      "\n"
     ]
    },
    {
     "name": "stdout",
     "output_type": "stream",
     "text": [
      "Running fold #2\n",
      "Binary Cross-Entropy Loss Functionwith With GPU\n"
     ]
    },
    {
     "name": "stderr",
     "output_type": "stream",
     "text": [
      "2021-09-20 10:46:37.150101: I tensorflow/core/profiler/lib/profiler_session.cc:164] Profiler session started.\n",
      "2021-09-20 10:46:37.150170: E tensorflow/core/profiler/internal/gpu/cupti_tracer.cc:1441] function cupti_interface_->Subscribe( &subscriber_, (CUpti_CallbackFunc)ApiCallback, this)failed with error CUPTI could not be loaded or symbol could not be found.\n"
     ]
    },
    {
     "name": "stdout",
     "output_type": "stream",
     "text": [
      "WARNING:tensorflow:Callbacks method `on_train_batch_end` is slow compared to the batch time (batch time: 0.0036s vs `on_train_batch_end` time: 0.0591s). Check your callbacks.\n"
     ]
    },
    {
     "name": "stderr",
     "output_type": "stream",
     "text": [
      "2021-09-20 10:46:37.943964: I tensorflow/core/profiler/lib/profiler_session.cc:164] Profiler session started.\n",
      "2021-09-20 10:46:37.944030: E tensorflow/core/profiler/internal/gpu/cupti_tracer.cc:1441] function cupti_interface_->Subscribe( &subscriber_, (CUpti_CallbackFunc)ApiCallback, this)failed with error CUPTI could not be loaded or symbol could not be found.\n",
      "2021-09-20 10:46:37.995435: I tensorflow/core/profiler/internal/gpu/device_tracer.cc:223]  GpuTracer has collected 0 callback api events and 0 activity events. \n",
      "2021-09-20 10:46:37.996886: I tensorflow/core/profiler/rpc/client/save_profile.cc:176] Creating directory: keras_tensorflow_logs/Binary_GPU/All.csv_1632105997__binary_gpu/train/plugins/profile/2021_09_20_10_46_37\n",
      "2021-09-20 10:46:37.997406: I tensorflow/core/profiler/rpc/client/save_profile.cc:182] Dumped gzipped tool data for trace.json.gz to keras_tensorflow_logs/Binary_GPU/All.csv_1632105997__binary_gpu/train/plugins/profile/2021_09_20_10_46_37/iZj6c6wg0n65vdhgva0emgZ.trace.json.gz\n",
      "2021-09-20 10:46:38.004130: I tensorflow/core/profiler/rpc/client/save_profile.cc:176] Creating directory: keras_tensorflow_logs/Binary_GPU/All.csv_1632105997__binary_gpu/train/plugins/profile/2021_09_20_10_46_37\n",
      "2021-09-20 10:46:38.005712: I tensorflow/core/profiler/rpc/client/save_profile.cc:182] Dumped gzipped tool data for memory_profile.json.gz to keras_tensorflow_logs/Binary_GPU/All.csv_1632105997__binary_gpu/train/plugins/profile/2021_09_20_10_46_37/iZj6c6wg0n65vdhgva0emgZ.memory_profile.json.gz\n",
      "2021-09-20 10:46:38.006027: I tensorflow/python/profiler/internal/profiler_wrapper.cc:111] Creating directory: keras_tensorflow_logs/Binary_GPU/All.csv_1632105997__binary_gpu/train/plugins/profile/2021_09_20_10_46_37Dumped tool data for xplane.pb to keras_tensorflow_logs/Binary_GPU/All.csv_1632105997__binary_gpu/train/plugins/profile/2021_09_20_10_46_37/iZj6c6wg0n65vdhgva0emgZ.xplane.pb\n",
      "Dumped tool data for overview_page.pb to keras_tensorflow_logs/Binary_GPU/All.csv_1632105997__binary_gpu/train/plugins/profile/2021_09_20_10_46_37/iZj6c6wg0n65vdhgva0emgZ.overview_page.pb\n",
      "Dumped tool data for input_pipeline.pb to keras_tensorflow_logs/Binary_GPU/All.csv_1632105997__binary_gpu/train/plugins/profile/2021_09_20_10_46_37/iZj6c6wg0n65vdhgva0emgZ.input_pipeline.pb\n",
      "Dumped tool data for tensorflow_stats.pb to keras_tensorflow_logs/Binary_GPU/All.csv_1632105997__binary_gpu/train/plugins/profile/2021_09_20_10_46_37/iZj6c6wg0n65vdhgva0emgZ.tensorflow_stats.pb\n",
      "Dumped tool data for kernel_stats.pb to keras_tensorflow_logs/Binary_GPU/All.csv_1632105997__binary_gpu/train/plugins/profile/2021_09_20_10_46_37/iZj6c6wg0n65vdhgva0emgZ.kernel_stats.pb\n",
      "\n"
     ]
    },
    {
     "name": "stdout",
     "output_type": "stream",
     "text": [
      "Running fold #3\n",
      "Binary Cross-Entropy Loss Functionwith With GPU\n"
     ]
    },
    {
     "name": "stderr",
     "output_type": "stream",
     "text": [
      "2021-09-20 10:46:59.448008: I tensorflow/core/profiler/lib/profiler_session.cc:164] Profiler session started.\n",
      "2021-09-20 10:46:59.448072: E tensorflow/core/profiler/internal/gpu/cupti_tracer.cc:1441] function cupti_interface_->Subscribe( &subscriber_, (CUpti_CallbackFunc)ApiCallback, this)failed with error CUPTI could not be loaded or symbol could not be found.\n"
     ]
    },
    {
     "name": "stdout",
     "output_type": "stream",
     "text": [
      "WARNING:tensorflow:Callbacks method `on_train_batch_end` is slow compared to the batch time (batch time: 0.0036s vs `on_train_batch_end` time: 0.0579s). Check your callbacks.\n"
     ]
    },
    {
     "name": "stderr",
     "output_type": "stream",
     "text": [
      "2021-09-20 10:47:00.238487: I tensorflow/core/profiler/lib/profiler_session.cc:164] Profiler session started.\n",
      "2021-09-20 10:47:00.238553: E tensorflow/core/profiler/internal/gpu/cupti_tracer.cc:1441] function cupti_interface_->Subscribe( &subscriber_, (CUpti_CallbackFunc)ApiCallback, this)failed with error CUPTI could not be loaded or symbol could not be found.\n",
      "2021-09-20 10:47:00.289129: I tensorflow/core/profiler/internal/gpu/device_tracer.cc:223]  GpuTracer has collected 0 callback api events and 0 activity events. \n",
      "2021-09-20 10:47:00.290518: I tensorflow/core/profiler/rpc/client/save_profile.cc:176] Creating directory: keras_tensorflow_logs/Binary_GPU/All.csv_1632106019__binary_gpu/train/plugins/profile/2021_09_20_10_47_00\n",
      "2021-09-20 10:47:00.291001: I tensorflow/core/profiler/rpc/client/save_profile.cc:182] Dumped gzipped tool data for trace.json.gz to keras_tensorflow_logs/Binary_GPU/All.csv_1632106019__binary_gpu/train/plugins/profile/2021_09_20_10_47_00/iZj6c6wg0n65vdhgva0emgZ.trace.json.gz\n",
      "2021-09-20 10:47:00.297589: I tensorflow/core/profiler/rpc/client/save_profile.cc:176] Creating directory: keras_tensorflow_logs/Binary_GPU/All.csv_1632106019__binary_gpu/train/plugins/profile/2021_09_20_10_47_00\n",
      "2021-09-20 10:47:00.299052: I tensorflow/core/profiler/rpc/client/save_profile.cc:182] Dumped gzipped tool data for memory_profile.json.gz to keras_tensorflow_logs/Binary_GPU/All.csv_1632106019__binary_gpu/train/plugins/profile/2021_09_20_10_47_00/iZj6c6wg0n65vdhgva0emgZ.memory_profile.json.gz\n",
      "2021-09-20 10:47:00.299337: I tensorflow/python/profiler/internal/profiler_wrapper.cc:111] Creating directory: keras_tensorflow_logs/Binary_GPU/All.csv_1632106019__binary_gpu/train/plugins/profile/2021_09_20_10_47_00Dumped tool data for xplane.pb to keras_tensorflow_logs/Binary_GPU/All.csv_1632106019__binary_gpu/train/plugins/profile/2021_09_20_10_47_00/iZj6c6wg0n65vdhgva0emgZ.xplane.pb\n",
      "Dumped tool data for overview_page.pb to keras_tensorflow_logs/Binary_GPU/All.csv_1632106019__binary_gpu/train/plugins/profile/2021_09_20_10_47_00/iZj6c6wg0n65vdhgva0emgZ.overview_page.pb\n",
      "Dumped tool data for input_pipeline.pb to keras_tensorflow_logs/Binary_GPU/All.csv_1632106019__binary_gpu/train/plugins/profile/2021_09_20_10_47_00/iZj6c6wg0n65vdhgva0emgZ.input_pipeline.pb\n",
      "Dumped tool data for tensorflow_stats.pb to keras_tensorflow_logs/Binary_GPU/All.csv_1632106019__binary_gpu/train/plugins/profile/2021_09_20_10_47_00/iZj6c6wg0n65vdhgva0emgZ.tensorflow_stats.pb\n",
      "Dumped tool data for kernel_stats.pb to keras_tensorflow_logs/Binary_GPU/All.csv_1632106019__binary_gpu/train/plugins/profile/2021_09_20_10_47_00/iZj6c6wg0n65vdhgva0emgZ.kernel_stats.pb\n",
      "\n"
     ]
    },
    {
     "name": "stdout",
     "output_type": "stream",
     "text": [
      "Running fold #4\n",
      "Binary Cross-Entropy Loss Functionwith With GPU\n"
     ]
    },
    {
     "name": "stderr",
     "output_type": "stream",
     "text": [
      "2021-09-20 10:47:39.252078: I tensorflow/core/profiler/lib/profiler_session.cc:164] Profiler session started.\n",
      "2021-09-20 10:47:39.252148: E tensorflow/core/profiler/internal/gpu/cupti_tracer.cc:1441] function cupti_interface_->Subscribe( &subscriber_, (CUpti_CallbackFunc)ApiCallback, this)failed with error CUPTI could not be loaded or symbol could not be found.\n"
     ]
    },
    {
     "name": "stdout",
     "output_type": "stream",
     "text": [
      "WARNING:tensorflow:Callbacks method `on_train_batch_end` is slow compared to the batch time (batch time: 0.0035s vs `on_train_batch_end` time: 0.0577s). Check your callbacks.\n"
     ]
    },
    {
     "name": "stderr",
     "output_type": "stream",
     "text": [
      "2021-09-20 10:47:40.043928: I tensorflow/core/profiler/lib/profiler_session.cc:164] Profiler session started.\n",
      "2021-09-20 10:47:40.043995: E tensorflow/core/profiler/internal/gpu/cupti_tracer.cc:1441] function cupti_interface_->Subscribe( &subscriber_, (CUpti_CallbackFunc)ApiCallback, this)failed with error CUPTI could not be loaded or symbol could not be found.\n",
      "2021-09-20 10:47:40.094248: I tensorflow/core/profiler/internal/gpu/device_tracer.cc:223]  GpuTracer has collected 0 callback api events and 0 activity events. \n",
      "2021-09-20 10:47:40.095624: I tensorflow/core/profiler/rpc/client/save_profile.cc:176] Creating directory: keras_tensorflow_logs/Binary_GPU/All.csv_1632106059__binary_gpu/train/plugins/profile/2021_09_20_10_47_40\n",
      "2021-09-20 10:47:40.096101: I tensorflow/core/profiler/rpc/client/save_profile.cc:182] Dumped gzipped tool data for trace.json.gz to keras_tensorflow_logs/Binary_GPU/All.csv_1632106059__binary_gpu/train/plugins/profile/2021_09_20_10_47_40/iZj6c6wg0n65vdhgva0emgZ.trace.json.gz\n",
      "2021-09-20 10:47:40.102674: I tensorflow/core/profiler/rpc/client/save_profile.cc:176] Creating directory: keras_tensorflow_logs/Binary_GPU/All.csv_1632106059__binary_gpu/train/plugins/profile/2021_09_20_10_47_40\n",
      "2021-09-20 10:47:40.104148: I tensorflow/core/profiler/rpc/client/save_profile.cc:182] Dumped gzipped tool data for memory_profile.json.gz to keras_tensorflow_logs/Binary_GPU/All.csv_1632106059__binary_gpu/train/plugins/profile/2021_09_20_10_47_40/iZj6c6wg0n65vdhgva0emgZ.memory_profile.json.gz\n",
      "2021-09-20 10:47:40.104431: I tensorflow/python/profiler/internal/profiler_wrapper.cc:111] Creating directory: keras_tensorflow_logs/Binary_GPU/All.csv_1632106059__binary_gpu/train/plugins/profile/2021_09_20_10_47_40Dumped tool data for xplane.pb to keras_tensorflow_logs/Binary_GPU/All.csv_1632106059__binary_gpu/train/plugins/profile/2021_09_20_10_47_40/iZj6c6wg0n65vdhgva0emgZ.xplane.pb\n",
      "Dumped tool data for overview_page.pb to keras_tensorflow_logs/Binary_GPU/All.csv_1632106059__binary_gpu/train/plugins/profile/2021_09_20_10_47_40/iZj6c6wg0n65vdhgva0emgZ.overview_page.pb\n",
      "Dumped tool data for input_pipeline.pb to keras_tensorflow_logs/Binary_GPU/All.csv_1632106059__binary_gpu/train/plugins/profile/2021_09_20_10_47_40/iZj6c6wg0n65vdhgva0emgZ.input_pipeline.pb\n",
      "Dumped tool data for tensorflow_stats.pb to keras_tensorflow_logs/Binary_GPU/All.csv_1632106059__binary_gpu/train/plugins/profile/2021_09_20_10_47_40/iZj6c6wg0n65vdhgva0emgZ.tensorflow_stats.pb\n",
      "Dumped tool data for kernel_stats.pb to keras_tensorflow_logs/Binary_GPU/All.csv_1632106059__binary_gpu/train/plugins/profile/2021_09_20_10_47_40/iZj6c6wg0n65vdhgva0emgZ.kernel_stats.pb\n",
      "\n"
     ]
    },
    {
     "name": "stdout",
     "output_type": "stream",
     "text": [
      "Running fold #5\n",
      "Binary Cross-Entropy Loss Functionwith With GPU\n"
     ]
    },
    {
     "name": "stderr",
     "output_type": "stream",
     "text": [
      "2021-09-20 10:48:10.071530: I tensorflow/core/profiler/lib/profiler_session.cc:164] Profiler session started.\n",
      "2021-09-20 10:48:10.071609: E tensorflow/core/profiler/internal/gpu/cupti_tracer.cc:1441] function cupti_interface_->Subscribe( &subscriber_, (CUpti_CallbackFunc)ApiCallback, this)failed with error CUPTI could not be loaded or symbol could not be found.\n"
     ]
    },
    {
     "name": "stdout",
     "output_type": "stream",
     "text": [
      "WARNING:tensorflow:Callbacks method `on_train_batch_end` is slow compared to the batch time (batch time: 0.0036s vs `on_train_batch_end` time: 0.0568s). Check your callbacks.\n"
     ]
    },
    {
     "name": "stderr",
     "output_type": "stream",
     "text": [
      "2021-09-20 10:48:10.873188: I tensorflow/core/profiler/lib/profiler_session.cc:164] Profiler session started.\n",
      "2021-09-20 10:48:10.873262: E tensorflow/core/profiler/internal/gpu/cupti_tracer.cc:1441] function cupti_interface_->Subscribe( &subscriber_, (CUpti_CallbackFunc)ApiCallback, this)failed with error CUPTI could not be loaded or symbol could not be found.\n",
      "2021-09-20 10:48:10.922957: I tensorflow/core/profiler/internal/gpu/device_tracer.cc:223]  GpuTracer has collected 0 callback api events and 0 activity events. \n",
      "2021-09-20 10:48:10.924318: I tensorflow/core/profiler/rpc/client/save_profile.cc:176] Creating directory: keras_tensorflow_logs/Binary_GPU/All.csv_1632106090__binary_gpu/train/plugins/profile/2021_09_20_10_48_10\n",
      "2021-09-20 10:48:10.924801: I tensorflow/core/profiler/rpc/client/save_profile.cc:182] Dumped gzipped tool data for trace.json.gz to keras_tensorflow_logs/Binary_GPU/All.csv_1632106090__binary_gpu/train/plugins/profile/2021_09_20_10_48_10/iZj6c6wg0n65vdhgva0emgZ.trace.json.gz\n",
      "2021-09-20 10:48:10.931304: I tensorflow/core/profiler/rpc/client/save_profile.cc:176] Creating directory: keras_tensorflow_logs/Binary_GPU/All.csv_1632106090__binary_gpu/train/plugins/profile/2021_09_20_10_48_10\n",
      "2021-09-20 10:48:10.932784: I tensorflow/core/profiler/rpc/client/save_profile.cc:182] Dumped gzipped tool data for memory_profile.json.gz to keras_tensorflow_logs/Binary_GPU/All.csv_1632106090__binary_gpu/train/plugins/profile/2021_09_20_10_48_10/iZj6c6wg0n65vdhgva0emgZ.memory_profile.json.gz\n",
      "2021-09-20 10:48:10.933063: I tensorflow/python/profiler/internal/profiler_wrapper.cc:111] Creating directory: keras_tensorflow_logs/Binary_GPU/All.csv_1632106090__binary_gpu/train/plugins/profile/2021_09_20_10_48_10Dumped tool data for xplane.pb to keras_tensorflow_logs/Binary_GPU/All.csv_1632106090__binary_gpu/train/plugins/profile/2021_09_20_10_48_10/iZj6c6wg0n65vdhgva0emgZ.xplane.pb\n",
      "Dumped tool data for overview_page.pb to keras_tensorflow_logs/Binary_GPU/All.csv_1632106090__binary_gpu/train/plugins/profile/2021_09_20_10_48_10/iZj6c6wg0n65vdhgva0emgZ.overview_page.pb\n",
      "Dumped tool data for input_pipeline.pb to keras_tensorflow_logs/Binary_GPU/All.csv_1632106090__binary_gpu/train/plugins/profile/2021_09_20_10_48_10/iZj6c6wg0n65vdhgva0emgZ.input_pipeline.pb\n",
      "Dumped tool data for tensorflow_stats.pb to keras_tensorflow_logs/Binary_GPU/All.csv_1632106090__binary_gpu/train/plugins/profile/2021_09_20_10_48_10/iZj6c6wg0n65vdhgva0emgZ.tensorflow_stats.pb\n",
      "Dumped tool data for kernel_stats.pb to keras_tensorflow_logs/Binary_GPU/All.csv_1632106090__binary_gpu/train/plugins/profile/2021_09_20_10_48_10/iZj6c6wg0n65vdhgva0emgZ.kernel_stats.pb\n",
      "\n"
     ]
    },
    {
     "name": "stdout",
     "output_type": "stream",
     "text": [
      "Running fold #6\n",
      "Binary Cross-Entropy Loss Functionwith With GPU\n"
     ]
    },
    {
     "name": "stderr",
     "output_type": "stream",
     "text": [
      "2021-09-20 10:48:40.729337: I tensorflow/core/profiler/lib/profiler_session.cc:164] Profiler session started.\n",
      "2021-09-20 10:48:40.729398: E tensorflow/core/profiler/internal/gpu/cupti_tracer.cc:1441] function cupti_interface_->Subscribe( &subscriber_, (CUpti_CallbackFunc)ApiCallback, this)failed with error CUPTI could not be loaded or symbol could not be found.\n"
     ]
    },
    {
     "name": "stdout",
     "output_type": "stream",
     "text": [
      "WARNING:tensorflow:Callbacks method `on_train_batch_end` is slow compared to the batch time (batch time: 0.0039s vs `on_train_batch_end` time: 0.0725s). Check your callbacks.\n"
     ]
    },
    {
     "name": "stderr",
     "output_type": "stream",
     "text": [
      "2021-09-20 10:48:41.838390: I tensorflow/core/profiler/lib/profiler_session.cc:164] Profiler session started.\n",
      "2021-09-20 10:48:41.838458: E tensorflow/core/profiler/internal/gpu/cupti_tracer.cc:1441] function cupti_interface_->Subscribe( &subscriber_, (CUpti_CallbackFunc)ApiCallback, this)failed with error CUPTI could not be loaded or symbol could not be found.\n",
      "2021-09-20 10:48:41.903025: I tensorflow/core/profiler/internal/gpu/device_tracer.cc:223]  GpuTracer has collected 0 callback api events and 0 activity events. \n",
      "2021-09-20 10:48:41.904529: I tensorflow/core/profiler/rpc/client/save_profile.cc:176] Creating directory: keras_tensorflow_logs/Binary_GPU/All.csv_1632106120__binary_gpu/train/plugins/profile/2021_09_20_10_48_41\n",
      "2021-09-20 10:48:41.905028: I tensorflow/core/profiler/rpc/client/save_profile.cc:182] Dumped gzipped tool data for trace.json.gz to keras_tensorflow_logs/Binary_GPU/All.csv_1632106120__binary_gpu/train/plugins/profile/2021_09_20_10_48_41/iZj6c6wg0n65vdhgva0emgZ.trace.json.gz\n",
      "2021-09-20 10:48:41.912254: I tensorflow/core/profiler/rpc/client/save_profile.cc:176] Creating directory: keras_tensorflow_logs/Binary_GPU/All.csv_1632106120__binary_gpu/train/plugins/profile/2021_09_20_10_48_41\n",
      "2021-09-20 10:48:41.913812: I tensorflow/core/profiler/rpc/client/save_profile.cc:182] Dumped gzipped tool data for memory_profile.json.gz to keras_tensorflow_logs/Binary_GPU/All.csv_1632106120__binary_gpu/train/plugins/profile/2021_09_20_10_48_41/iZj6c6wg0n65vdhgva0emgZ.memory_profile.json.gz\n",
      "2021-09-20 10:48:41.914135: I tensorflow/python/profiler/internal/profiler_wrapper.cc:111] Creating directory: keras_tensorflow_logs/Binary_GPU/All.csv_1632106120__binary_gpu/train/plugins/profile/2021_09_20_10_48_41Dumped tool data for xplane.pb to keras_tensorflow_logs/Binary_GPU/All.csv_1632106120__binary_gpu/train/plugins/profile/2021_09_20_10_48_41/iZj6c6wg0n65vdhgva0emgZ.xplane.pb\n",
      "Dumped tool data for overview_page.pb to keras_tensorflow_logs/Binary_GPU/All.csv_1632106120__binary_gpu/train/plugins/profile/2021_09_20_10_48_41/iZj6c6wg0n65vdhgva0emgZ.overview_page.pb\n",
      "Dumped tool data for input_pipeline.pb to keras_tensorflow_logs/Binary_GPU/All.csv_1632106120__binary_gpu/train/plugins/profile/2021_09_20_10_48_41/iZj6c6wg0n65vdhgva0emgZ.input_pipeline.pb\n",
      "Dumped tool data for tensorflow_stats.pb to keras_tensorflow_logs/Binary_GPU/All.csv_1632106120__binary_gpu/train/plugins/profile/2021_09_20_10_48_41/iZj6c6wg0n65vdhgva0emgZ.tensorflow_stats.pb\n",
      "Dumped tool data for kernel_stats.pb to keras_tensorflow_logs/Binary_GPU/All.csv_1632106120__binary_gpu/train/plugins/profile/2021_09_20_10_48_41/iZj6c6wg0n65vdhgva0emgZ.kernel_stats.pb\n",
      "\n"
     ]
    },
    {
     "name": "stdout",
     "output_type": "stream",
     "text": [
      "Running fold #7\n",
      "Binary Cross-Entropy Loss Functionwith With GPU\n"
     ]
    },
    {
     "name": "stderr",
     "output_type": "stream",
     "text": [
      "2021-09-20 10:49:07.081520: I tensorflow/core/profiler/lib/profiler_session.cc:164] Profiler session started.\n",
      "2021-09-20 10:49:07.081583: E tensorflow/core/profiler/internal/gpu/cupti_tracer.cc:1441] function cupti_interface_->Subscribe( &subscriber_, (CUpti_CallbackFunc)ApiCallback, this)failed with error CUPTI could not be loaded or symbol could not be found.\n"
     ]
    },
    {
     "name": "stdout",
     "output_type": "stream",
     "text": [
      "WARNING:tensorflow:Callbacks method `on_train_batch_end` is slow compared to the batch time (batch time: 0.0038s vs `on_train_batch_end` time: 0.0607s). Check your callbacks.\n"
     ]
    },
    {
     "name": "stderr",
     "output_type": "stream",
     "text": [
      "2021-09-20 10:49:07.913644: I tensorflow/core/profiler/lib/profiler_session.cc:164] Profiler session started.\n",
      "2021-09-20 10:49:07.913707: E tensorflow/core/profiler/internal/gpu/cupti_tracer.cc:1441] function cupti_interface_->Subscribe( &subscriber_, (CUpti_CallbackFunc)ApiCallback, this)failed with error CUPTI could not be loaded or symbol could not be found.\n",
      "2021-09-20 10:49:07.966797: I tensorflow/core/profiler/internal/gpu/device_tracer.cc:223]  GpuTracer has collected 0 callback api events and 0 activity events. \n",
      "2021-09-20 10:49:07.968290: I tensorflow/core/profiler/rpc/client/save_profile.cc:176] Creating directory: keras_tensorflow_logs/Binary_GPU/All.csv_1632106147__binary_gpu/train/plugins/profile/2021_09_20_10_49_07\n",
      "2021-09-20 10:49:07.968819: I tensorflow/core/profiler/rpc/client/save_profile.cc:182] Dumped gzipped tool data for trace.json.gz to keras_tensorflow_logs/Binary_GPU/All.csv_1632106147__binary_gpu/train/plugins/profile/2021_09_20_10_49_07/iZj6c6wg0n65vdhgva0emgZ.trace.json.gz\n",
      "2021-09-20 10:49:07.975587: I tensorflow/core/profiler/rpc/client/save_profile.cc:176] Creating directory: keras_tensorflow_logs/Binary_GPU/All.csv_1632106147__binary_gpu/train/plugins/profile/2021_09_20_10_49_07\n",
      "2021-09-20 10:49:07.977131: I tensorflow/core/profiler/rpc/client/save_profile.cc:182] Dumped gzipped tool data for memory_profile.json.gz to keras_tensorflow_logs/Binary_GPU/All.csv_1632106147__binary_gpu/train/plugins/profile/2021_09_20_10_49_07/iZj6c6wg0n65vdhgva0emgZ.memory_profile.json.gz\n",
      "2021-09-20 10:49:07.977441: I tensorflow/python/profiler/internal/profiler_wrapper.cc:111] Creating directory: keras_tensorflow_logs/Binary_GPU/All.csv_1632106147__binary_gpu/train/plugins/profile/2021_09_20_10_49_07Dumped tool data for xplane.pb to keras_tensorflow_logs/Binary_GPU/All.csv_1632106147__binary_gpu/train/plugins/profile/2021_09_20_10_49_07/iZj6c6wg0n65vdhgva0emgZ.xplane.pb\n",
      "Dumped tool data for overview_page.pb to keras_tensorflow_logs/Binary_GPU/All.csv_1632106147__binary_gpu/train/plugins/profile/2021_09_20_10_49_07/iZj6c6wg0n65vdhgva0emgZ.overview_page.pb\n",
      "Dumped tool data for input_pipeline.pb to keras_tensorflow_logs/Binary_GPU/All.csv_1632106147__binary_gpu/train/plugins/profile/2021_09_20_10_49_07/iZj6c6wg0n65vdhgva0emgZ.input_pipeline.pb\n",
      "Dumped tool data for tensorflow_stats.pb to keras_tensorflow_logs/Binary_GPU/All.csv_1632106147__binary_gpu/train/plugins/profile/2021_09_20_10_49_07/iZj6c6wg0n65vdhgva0emgZ.tensorflow_stats.pb\n",
      "Dumped tool data for kernel_stats.pb to keras_tensorflow_logs/Binary_GPU/All.csv_1632106147__binary_gpu/train/plugins/profile/2021_09_20_10_49_07/iZj6c6wg0n65vdhgva0emgZ.kernel_stats.pb\n",
      "\n"
     ]
    },
    {
     "name": "stdout",
     "output_type": "stream",
     "text": [
      "Running fold #8\n",
      "Binary Cross-Entropy Loss Functionwith With GPU\n"
     ]
    },
    {
     "name": "stderr",
     "output_type": "stream",
     "text": [
      "2021-09-20 10:49:48.463702: I tensorflow/core/profiler/lib/profiler_session.cc:164] Profiler session started.\n",
      "2021-09-20 10:49:48.463770: E tensorflow/core/profiler/internal/gpu/cupti_tracer.cc:1441] function cupti_interface_->Subscribe( &subscriber_, (CUpti_CallbackFunc)ApiCallback, this)failed with error CUPTI could not be loaded or symbol could not be found.\n"
     ]
    },
    {
     "name": "stdout",
     "output_type": "stream",
     "text": [
      "WARNING:tensorflow:Callbacks method `on_train_batch_end` is slow compared to the batch time (batch time: 0.0035s vs `on_train_batch_end` time: 0.0588s). Check your callbacks.\n"
     ]
    },
    {
     "name": "stderr",
     "output_type": "stream",
     "text": [
      "2021-09-20 10:49:49.282395: I tensorflow/core/profiler/lib/profiler_session.cc:164] Profiler session started.\n",
      "2021-09-20 10:49:49.282459: E tensorflow/core/profiler/internal/gpu/cupti_tracer.cc:1441] function cupti_interface_->Subscribe( &subscriber_, (CUpti_CallbackFunc)ApiCallback, this)failed with error CUPTI could not be loaded or symbol could not be found.\n",
      "2021-09-20 10:49:49.333614: I tensorflow/core/profiler/internal/gpu/device_tracer.cc:223]  GpuTracer has collected 0 callback api events and 0 activity events. \n",
      "2021-09-20 10:49:49.335037: I tensorflow/core/profiler/rpc/client/save_profile.cc:176] Creating directory: keras_tensorflow_logs/Binary_GPU/All.csv_1632106188__binary_gpu/train/plugins/profile/2021_09_20_10_49_49\n",
      "2021-09-20 10:49:49.335571: I tensorflow/core/profiler/rpc/client/save_profile.cc:182] Dumped gzipped tool data for trace.json.gz to keras_tensorflow_logs/Binary_GPU/All.csv_1632106188__binary_gpu/train/plugins/profile/2021_09_20_10_49_49/iZj6c6wg0n65vdhgva0emgZ.trace.json.gz\n",
      "2021-09-20 10:49:49.342222: I tensorflow/core/profiler/rpc/client/save_profile.cc:176] Creating directory: keras_tensorflow_logs/Binary_GPU/All.csv_1632106188__binary_gpu/train/plugins/profile/2021_09_20_10_49_49\n",
      "2021-09-20 10:49:49.343765: I tensorflow/core/profiler/rpc/client/save_profile.cc:182] Dumped gzipped tool data for memory_profile.json.gz to keras_tensorflow_logs/Binary_GPU/All.csv_1632106188__binary_gpu/train/plugins/profile/2021_09_20_10_49_49/iZj6c6wg0n65vdhgva0emgZ.memory_profile.json.gz\n",
      "2021-09-20 10:49:49.344068: I tensorflow/python/profiler/internal/profiler_wrapper.cc:111] Creating directory: keras_tensorflow_logs/Binary_GPU/All.csv_1632106188__binary_gpu/train/plugins/profile/2021_09_20_10_49_49Dumped tool data for xplane.pb to keras_tensorflow_logs/Binary_GPU/All.csv_1632106188__binary_gpu/train/plugins/profile/2021_09_20_10_49_49/iZj6c6wg0n65vdhgva0emgZ.xplane.pb\n",
      "Dumped tool data for overview_page.pb to keras_tensorflow_logs/Binary_GPU/All.csv_1632106188__binary_gpu/train/plugins/profile/2021_09_20_10_49_49/iZj6c6wg0n65vdhgva0emgZ.overview_page.pb\n",
      "Dumped tool data for input_pipeline.pb to keras_tensorflow_logs/Binary_GPU/All.csv_1632106188__binary_gpu/train/plugins/profile/2021_09_20_10_49_49/iZj6c6wg0n65vdhgva0emgZ.input_pipeline.pb\n",
      "Dumped tool data for tensorflow_stats.pb to keras_tensorflow_logs/Binary_GPU/All.csv_1632106188__binary_gpu/train/plugins/profile/2021_09_20_10_49_49/iZj6c6wg0n65vdhgva0emgZ.tensorflow_stats.pb\n",
      "Dumped tool data for kernel_stats.pb to keras_tensorflow_logs/Binary_GPU/All.csv_1632106188__binary_gpu/train/plugins/profile/2021_09_20_10_49_49/iZj6c6wg0n65vdhgva0emgZ.kernel_stats.pb\n",
      "\n"
     ]
    },
    {
     "name": "stdout",
     "output_type": "stream",
     "text": [
      "Running fold #9\n",
      "Binary Cross-Entropy Loss Functionwith With GPU\n"
     ]
    },
    {
     "name": "stderr",
     "output_type": "stream",
     "text": [
      "2021-09-20 10:50:23.054556: I tensorflow/core/profiler/lib/profiler_session.cc:164] Profiler session started.\n",
      "2021-09-20 10:50:23.054618: E tensorflow/core/profiler/internal/gpu/cupti_tracer.cc:1441] function cupti_interface_->Subscribe( &subscriber_, (CUpti_CallbackFunc)ApiCallback, this)failed with error CUPTI could not be loaded or symbol could not be found.\n"
     ]
    },
    {
     "name": "stdout",
     "output_type": "stream",
     "text": [
      "WARNING:tensorflow:Callbacks method `on_train_batch_end` is slow compared to the batch time (batch time: 0.0035s vs `on_train_batch_end` time: 0.0572s). Check your callbacks.\n"
     ]
    },
    {
     "name": "stderr",
     "output_type": "stream",
     "text": [
      "2021-09-20 10:50:23.872032: I tensorflow/core/profiler/lib/profiler_session.cc:164] Profiler session started.\n",
      "2021-09-20 10:50:23.872096: E tensorflow/core/profiler/internal/gpu/cupti_tracer.cc:1441] function cupti_interface_->Subscribe( &subscriber_, (CUpti_CallbackFunc)ApiCallback, this)failed with error CUPTI could not be loaded or symbol could not be found.\n",
      "2021-09-20 10:50:23.921824: I tensorflow/core/profiler/internal/gpu/device_tracer.cc:223]  GpuTracer has collected 0 callback api events and 0 activity events. \n",
      "2021-09-20 10:50:23.923200: I tensorflow/core/profiler/rpc/client/save_profile.cc:176] Creating directory: keras_tensorflow_logs/Binary_GPU/All.csv_1632106223__binary_gpu/train/plugins/profile/2021_09_20_10_50_23\n",
      "2021-09-20 10:50:23.923703: I tensorflow/core/profiler/rpc/client/save_profile.cc:182] Dumped gzipped tool data for trace.json.gz to keras_tensorflow_logs/Binary_GPU/All.csv_1632106223__binary_gpu/train/plugins/profile/2021_09_20_10_50_23/iZj6c6wg0n65vdhgva0emgZ.trace.json.gz\n",
      "2021-09-20 10:50:23.930251: I tensorflow/core/profiler/rpc/client/save_profile.cc:176] Creating directory: keras_tensorflow_logs/Binary_GPU/All.csv_1632106223__binary_gpu/train/plugins/profile/2021_09_20_10_50_23\n",
      "2021-09-20 10:50:23.931750: I tensorflow/core/profiler/rpc/client/save_profile.cc:182] Dumped gzipped tool data for memory_profile.json.gz to keras_tensorflow_logs/Binary_GPU/All.csv_1632106223__binary_gpu/train/plugins/profile/2021_09_20_10_50_23/iZj6c6wg0n65vdhgva0emgZ.memory_profile.json.gz\n",
      "2021-09-20 10:50:23.932046: I tensorflow/python/profiler/internal/profiler_wrapper.cc:111] Creating directory: keras_tensorflow_logs/Binary_GPU/All.csv_1632106223__binary_gpu/train/plugins/profile/2021_09_20_10_50_23Dumped tool data for xplane.pb to keras_tensorflow_logs/Binary_GPU/All.csv_1632106223__binary_gpu/train/plugins/profile/2021_09_20_10_50_23/iZj6c6wg0n65vdhgva0emgZ.xplane.pb\n",
      "Dumped tool data for overview_page.pb to keras_tensorflow_logs/Binary_GPU/All.csv_1632106223__binary_gpu/train/plugins/profile/2021_09_20_10_50_23/iZj6c6wg0n65vdhgva0emgZ.overview_page.pb\n",
      "Dumped tool data for input_pipeline.pb to keras_tensorflow_logs/Binary_GPU/All.csv_1632106223__binary_gpu/train/plugins/profile/2021_09_20_10_50_23/iZj6c6wg0n65vdhgva0emgZ.input_pipeline.pb\n",
      "Dumped tool data for tensorflow_stats.pb to keras_tensorflow_logs/Binary_GPU/All.csv_1632106223__binary_gpu/train/plugins/profile/2021_09_20_10_50_23/iZj6c6wg0n65vdhgva0emgZ.tensorflow_stats.pb\n",
      "Dumped tool data for kernel_stats.pb to keras_tensorflow_logs/Binary_GPU/All.csv_1632106223__binary_gpu/train/plugins/profile/2021_09_20_10_50_23/iZj6c6wg0n65vdhgva0emgZ.kernel_stats.pb\n",
      "\n"
     ]
    },
    {
     "name": "stdout",
     "output_type": "stream",
     "text": [
      "Running fold #10\n",
      "Binary Cross-Entropy Loss Functionwith With GPU\n"
     ]
    },
    {
     "name": "stderr",
     "output_type": "stream",
     "text": [
      "2021-09-20 10:50:50.953286: I tensorflow/core/profiler/lib/profiler_session.cc:164] Profiler session started.\n",
      "2021-09-20 10:50:50.953351: E tensorflow/core/profiler/internal/gpu/cupti_tracer.cc:1441] function cupti_interface_->Subscribe( &subscriber_, (CUpti_CallbackFunc)ApiCallback, this)failed with error CUPTI could not be loaded or symbol could not be found.\n"
     ]
    },
    {
     "name": "stdout",
     "output_type": "stream",
     "text": [
      "WARNING:tensorflow:Callbacks method `on_train_batch_end` is slow compared to the batch time (batch time: 0.0033s vs `on_train_batch_end` time: 0.0580s). Check your callbacks.\n"
     ]
    },
    {
     "name": "stderr",
     "output_type": "stream",
     "text": [
      "2021-09-20 10:50:51.769727: I tensorflow/core/profiler/lib/profiler_session.cc:164] Profiler session started.\n",
      "2021-09-20 10:50:51.769792: E tensorflow/core/profiler/internal/gpu/cupti_tracer.cc:1441] function cupti_interface_->Subscribe( &subscriber_, (CUpti_CallbackFunc)ApiCallback, this)failed with error CUPTI could not be loaded or symbol could not be found.\n",
      "2021-09-20 10:50:51.820202: I tensorflow/core/profiler/internal/gpu/device_tracer.cc:223]  GpuTracer has collected 0 callback api events and 0 activity events. \n",
      "2021-09-20 10:50:51.821570: I tensorflow/core/profiler/rpc/client/save_profile.cc:176] Creating directory: keras_tensorflow_logs/Binary_GPU/All.csv_1632106250__binary_gpu/train/plugins/profile/2021_09_20_10_50_51\n",
      "2021-09-20 10:50:51.822040: I tensorflow/core/profiler/rpc/client/save_profile.cc:182] Dumped gzipped tool data for trace.json.gz to keras_tensorflow_logs/Binary_GPU/All.csv_1632106250__binary_gpu/train/plugins/profile/2021_09_20_10_50_51/iZj6c6wg0n65vdhgva0emgZ.trace.json.gz\n",
      "2021-09-20 10:50:51.828577: I tensorflow/core/profiler/rpc/client/save_profile.cc:176] Creating directory: keras_tensorflow_logs/Binary_GPU/All.csv_1632106250__binary_gpu/train/plugins/profile/2021_09_20_10_50_51\n",
      "2021-09-20 10:50:51.830078: I tensorflow/core/profiler/rpc/client/save_profile.cc:182] Dumped gzipped tool data for memory_profile.json.gz to keras_tensorflow_logs/Binary_GPU/All.csv_1632106250__binary_gpu/train/plugins/profile/2021_09_20_10_50_51/iZj6c6wg0n65vdhgva0emgZ.memory_profile.json.gz\n",
      "2021-09-20 10:50:51.830372: I tensorflow/python/profiler/internal/profiler_wrapper.cc:111] Creating directory: keras_tensorflow_logs/Binary_GPU/All.csv_1632106250__binary_gpu/train/plugins/profile/2021_09_20_10_50_51Dumped tool data for xplane.pb to keras_tensorflow_logs/Binary_GPU/All.csv_1632106250__binary_gpu/train/plugins/profile/2021_09_20_10_50_51/iZj6c6wg0n65vdhgva0emgZ.xplane.pb\n",
      "Dumped tool data for overview_page.pb to keras_tensorflow_logs/Binary_GPU/All.csv_1632106250__binary_gpu/train/plugins/profile/2021_09_20_10_50_51/iZj6c6wg0n65vdhgva0emgZ.overview_page.pb\n",
      "Dumped tool data for input_pipeline.pb to keras_tensorflow_logs/Binary_GPU/All.csv_1632106250__binary_gpu/train/plugins/profile/2021_09_20_10_50_51/iZj6c6wg0n65vdhgva0emgZ.input_pipeline.pb\n",
      "Dumped tool data for tensorflow_stats.pb to keras_tensorflow_logs/Binary_GPU/All.csv_1632106250__binary_gpu/train/plugins/profile/2021_09_20_10_50_51/iZj6c6wg0n65vdhgva0emgZ.tensorflow_stats.pb\n",
      "Dumped tool data for kernel_stats.pb to keras_tensorflow_logs/Binary_GPU/All.csv_1632106250__binary_gpu/train/plugins/profile/2021_09_20_10_50_51/iZj6c6wg0n65vdhgva0emgZ.kernel_stats.pb\n",
      "\n"
     ]
    },
    {
     "name": "stdout",
     "output_type": "stream",
     "text": [
      "Time to complete 5 min 320.30143189430237 sec\n"
     ]
    }
   ],
   "source": [
    "model, history, X , encoded_y = experiment(binary_df)"
   ]
  },
  {
   "cell_type": "markdown",
   "metadata": {
    "colab_type": "text",
    "id": "Ta-ruG0K1eVN"
   },
   "source": [
    "### Model Results"
   ]
  },
  {
   "cell_type": "code",
   "execution_count": 33,
   "metadata": {
    "colab": {
     "base_uri": "https://localhost:8080/",
     "height": 69
    },
    "colab_type": "code",
    "id": "6FV5LefXplyt",
    "outputId": "bc1c3ccd-1639-4ff9-a5e7-b56f1e27ad5c"
   },
   "outputs": [
    {
     "name": "stdout",
     "output_type": "stream",
     "text": [
      "594/594 [==============================] - 1s 1ms/step - loss: 0.0318 - accuracy: 0.9886\n",
      "['loss', 'accuracy']\n",
      "GPU Baseline: accuracy: 98.86%: loss: 0.03\n"
     ]
    }
   ],
   "source": [
    "scores = model.evaluate(X,encoded_y, verbose=1)\n",
    "print(model.metrics_names)\n",
    "acc, loss = scores[1]*100, scores[0]\n",
    "print('GPU Baseline: accuracy: {:.2f}%: loss: {:.2f}'.format(acc, loss))"
   ]
  },
  {
   "cell_type": "markdown",
   "metadata": {
    "colab_type": "text",
    "id": "DviMoEPX1hxZ"
   },
   "source": [
    "#### Predictions"
   ]
  },
  {
   "cell_type": "code",
   "execution_count": 34,
   "metadata": {
    "colab": {
     "base_uri": "https://localhost:8080/",
     "height": 34
    },
    "colab_type": "code",
    "id": "0kU7Ncq7ply2",
    "outputId": "1b2d6810-6ad2-4225-e22f-4a8721a33dc9"
   },
   "outputs": [
    {
     "name": "stdout",
     "output_type": "stream",
     "text": [
      "297/297 [==============================] - 0s 759us/step\n"
     ]
    }
   ],
   "source": [
    "prediction_y = model.predict_classes(X, batch_size=batch_size, verbose=1)"
   ]
  },
  {
   "cell_type": "code",
   "execution_count": 35,
   "metadata": {
    "colab": {
     "base_uri": "https://localhost:8080/",
     "height": 286
    },
    "colab_type": "code",
    "id": "0T2dZA9Nply8",
    "outputId": "7c32a538-267f-441a-c571-e74b3651e1c3"
   },
   "outputs": [
    {
     "data": {
      "text/plain": [
       "<AxesSubplot:>"
      ]
     },
     "execution_count": 35,
     "metadata": {},
     "output_type": "execute_result"
    },
    {
     "data": {
      "image/png": "[encoded data removed]",
      "text/plain": [
       "<Figure size 432x288 with 2 Axes>"
      ]
     },
     "metadata": {
      "needs_background": "light"
     },
     "output_type": "display_data"
    }
   ],
   "source": [
    "y=LabelEncoder().fit_transform(binary_df[dep_var].values)\n",
    "cm = confusion_matrix(y, prediction_y)\n",
    "sn.heatmap(cm, cmap='Blues', annot=True, fmt='g', xticklabels=['Benign', 'Malicious'],\n",
    "        yticklabels=['Benign', 'Malicious'])"
   ]
  },
  {
   "cell_type": "code",
   "execution_count": 37,
   "metadata": {
    "colab": {
     "base_uri": "https://localhost:8080/",
     "height": 295
    },
    "colab_type": "code",
    "id": "bZl_Ps_Oekvs",
    "outputId": "d847dec5-a20a-4188-c23a-03b770a1e43f"
   },
   "outputs": [
    {
     "data": {
      "image/png": "[encoded data removed]",
      "text/plain": [
       "<Figure size 432x288 with 1 Axes>"
      ]
     },
     "metadata": {
      "needs_background": "light"
     },
     "output_type": "display_data"
    }
   ],
   "source": [
    "plotLoss('Binary Model GPU Loss')"
   ]
  }
 ],
 "metadata": {
  "accelerator": "GPU",
  "colab": {
   "collapsed_sections": [],
   "include_colab_link": true,
   "name": "Keras-Tensorflow-Experiments.ipynb",
   "provenance": [],
   "version": "0.3.2"
  },
  "kernelspec": {
   "display_name": "tf",
   "language": "python",
   "name": "tf"
  },
  "language_info": {
   "codemirror_mode": {
    "name": "ipython",
    "version": 3
   },
   "file_extension": ".py",
   "mimetype": "text/x-python",
   "name": "python",
   "nbconvert_exporter": "python",
   "pygments_lexer": "ipython3",
   "version": "3.7.11"
  }
 },
 "nbformat": 4,
 "nbformat_minor": 4
}
